{
 "cells": [
  {
   "cell_type": "code",
   "execution_count": 1,
   "id": "prompt-tokyo",
   "metadata": {},
   "outputs": [
    {
     "name": "stderr",
     "output_type": "stream",
     "text": [
      "── \u001b[1mAttaching packages\u001b[22m ─────────────────────────────────────── tidyverse 1.3.0 ──\n",
      "\n",
      "\u001b[32m✔\u001b[39m \u001b[34mggplot2\u001b[39m 3.3.3     \u001b[32m✔\u001b[39m \u001b[34mpurrr  \u001b[39m 0.3.4\n",
      "\u001b[32m✔\u001b[39m \u001b[34mtibble \u001b[39m 3.0.6     \u001b[32m✔\u001b[39m \u001b[34mdplyr  \u001b[39m 1.0.4\n",
      "\u001b[32m✔\u001b[39m \u001b[34mtidyr  \u001b[39m 1.1.2     \u001b[32m✔\u001b[39m \u001b[34mstringr\u001b[39m 1.4.0\n",
      "\u001b[32m✔\u001b[39m \u001b[34mreadr  \u001b[39m 1.4.0     \u001b[32m✔\u001b[39m \u001b[34mforcats\u001b[39m 0.5.1\n",
      "\n",
      "── \u001b[1mConflicts\u001b[22m ────────────────────────────────────────── tidyverse_conflicts() ──\n",
      "\u001b[31m✖\u001b[39m \u001b[34mdplyr\u001b[39m::\u001b[32mfilter()\u001b[39m masks \u001b[34mstats\u001b[39m::filter()\n",
      "\u001b[31m✖\u001b[39m \u001b[34mdplyr\u001b[39m::\u001b[32mlag()\u001b[39m    masks \u001b[34mstats\u001b[39m::lag()\n",
      "\n"
     ]
    }
   ],
   "source": [
    "library(tidyverse)\n",
    "library(nycflights13)"
   ]
  },
  {
   "cell_type": "markdown",
   "id": "efficient-stage",
   "metadata": {},
   "source": [
    "- What are the primary and foreign keys in the two tables below?\n",
    "- Show that they are keys!"
   ]
  },
  {
   "cell_type": "code",
   "execution_count": 2,
   "id": "confused-intro",
   "metadata": {},
   "outputs": [
    {
     "name": "stderr",
     "output_type": "stream",
     "text": [
      "\n",
      "\u001b[36m──\u001b[39m \u001b[1m\u001b[1mColumn specification\u001b[1m\u001b[22m \u001b[36m────────────────────────────────────────────────────────\u001b[39m\n",
      "cols(\n",
      "  name = \u001b[31mcol_character()\u001b[39m,\n",
      "  birth_date = \u001b[31mcol_character()\u001b[39m,\n",
      "  birth_location = \u001b[31mcol_character()\u001b[39m\n",
      ")\n",
      "\n",
      "\n",
      "\n",
      "\u001b[36m──\u001b[39m \u001b[1m\u001b[1mColumn specification\u001b[1m\u001b[22m \u001b[36m────────────────────────────────────────────────────────\u001b[39m\n",
      "cols(\n",
      "  name = \u001b[31mcol_character()\u001b[39m,\n",
      "  location = \u001b[31mcol_character()\u001b[39m,\n",
      "  sex = \u001b[31mcol_character()\u001b[39m\n",
      ")\n",
      "\n",
      "\n"
     ]
    }
   ],
   "source": [
    "# US panda births\n",
    "us_born_pandas = read_csv(\"data/us_born_pandas.csv\")\n",
    "\n",
    "# Current pandas in the United States\n",
    "us_current_pandas = read_csv(\"data/us_current_pandas.csv\")"
   ]
  },
  {
   "cell_type": "code",
   "execution_count": 3,
   "id": "executed-nightlife",
   "metadata": {},
   "outputs": [
    {
     "data": {
      "text/html": [
       "<table class=\"dataframe\">\n",
       "<caption>A spec_tbl_df: 15 × 3</caption>\n",
       "<thead>\n",
       "\t<tr><th scope=col>name</th><th scope=col>birth_date</th><th scope=col>birth_location</th></tr>\n",
       "\t<tr><th scope=col>&lt;chr&gt;</th><th scope=col>&lt;chr&gt;</th><th scope=col>&lt;chr&gt;</th></tr>\n",
       "</thead>\n",
       "<tbody>\n",
       "\t<tr><td>Hua Mei   </td><td>8/21/99</td><td>San Diego Zoo           </td></tr>\n",
       "\t<tr><td>Mei Sheng </td><td>8/19/03</td><td>San Diego Zoo           </td></tr>\n",
       "\t<tr><td>Su Lin    </td><td>8/2/05 </td><td>San Diego Zoo           </td></tr>\n",
       "\t<tr><td>Yun Zi    </td><td>8/5/09 </td><td>San Diego Zoo           </td></tr>\n",
       "\t<tr><td>Zhen Zhen </td><td>8/3/07 </td><td>San Diego Zoo           </td></tr>\n",
       "\t<tr><td>Xiao Liwu </td><td>7/29/12</td><td>San Diego Zoo           </td></tr>\n",
       "\t<tr><td>Mei Lan   </td><td>9/6/06 </td><td>Atlanta Zoo             </td></tr>\n",
       "\t<tr><td>Xi Lan    </td><td>8/30/08</td><td>Atlanta Zoo             </td></tr>\n",
       "\t<tr><td>Po        </td><td>10/3/10</td><td>Atlanta Zoo             </td></tr>\n",
       "\t<tr><td>Mei Lun   </td><td>7/15/13</td><td>Atlanta Zoo             </td></tr>\n",
       "\t<tr><td>Mei Huan  </td><td>7/15/13</td><td>Atlanta Zoo             </td></tr>\n",
       "\t<tr><td>Tai Shan  </td><td>7/9/05 </td><td>Smithsonian National Zoo</td></tr>\n",
       "\t<tr><td>Bao Bao   </td><td>8/23/13</td><td>Smithsonian National Zoo</td></tr>\n",
       "\t<tr><td>Bei Bei   </td><td>8/22/15</td><td>Smithsonian National Zoo</td></tr>\n",
       "\t<tr><td>Xiao Qi Ji</td><td>8/21/20</td><td>Smithsonian National Zoo</td></tr>\n",
       "</tbody>\n",
       "</table>\n"
      ],
      "text/latex": [
       "A spec\\_tbl\\_df: 15 × 3\n",
       "\\begin{tabular}{lll}\n",
       " name & birth\\_date & birth\\_location\\\\\n",
       " <chr> & <chr> & <chr>\\\\\n",
       "\\hline\n",
       "\t Hua Mei    & 8/21/99 & San Diego Zoo           \\\\\n",
       "\t Mei Sheng  & 8/19/03 & San Diego Zoo           \\\\\n",
       "\t Su Lin     & 8/2/05  & San Diego Zoo           \\\\\n",
       "\t Yun Zi     & 8/5/09  & San Diego Zoo           \\\\\n",
       "\t Zhen Zhen  & 8/3/07  & San Diego Zoo           \\\\\n",
       "\t Xiao Liwu  & 7/29/12 & San Diego Zoo           \\\\\n",
       "\t Mei Lan    & 9/6/06  & Atlanta Zoo             \\\\\n",
       "\t Xi Lan     & 8/30/08 & Atlanta Zoo             \\\\\n",
       "\t Po         & 10/3/10 & Atlanta Zoo             \\\\\n",
       "\t Mei Lun    & 7/15/13 & Atlanta Zoo             \\\\\n",
       "\t Mei Huan   & 7/15/13 & Atlanta Zoo             \\\\\n",
       "\t Tai Shan   & 7/9/05  & Smithsonian National Zoo\\\\\n",
       "\t Bao Bao    & 8/23/13 & Smithsonian National Zoo\\\\\n",
       "\t Bei Bei    & 8/22/15 & Smithsonian National Zoo\\\\\n",
       "\t Xiao Qi Ji & 8/21/20 & Smithsonian National Zoo\\\\\n",
       "\\end{tabular}\n"
      ],
      "text/markdown": [
       "\n",
       "A spec_tbl_df: 15 × 3\n",
       "\n",
       "| name &lt;chr&gt; | birth_date &lt;chr&gt; | birth_location &lt;chr&gt; |\n",
       "|---|---|---|\n",
       "| Hua Mei    | 8/21/99 | San Diego Zoo            |\n",
       "| Mei Sheng  | 8/19/03 | San Diego Zoo            |\n",
       "| Su Lin     | 8/2/05  | San Diego Zoo            |\n",
       "| Yun Zi     | 8/5/09  | San Diego Zoo            |\n",
       "| Zhen Zhen  | 8/3/07  | San Diego Zoo            |\n",
       "| Xiao Liwu  | 7/29/12 | San Diego Zoo            |\n",
       "| Mei Lan    | 9/6/06  | Atlanta Zoo              |\n",
       "| Xi Lan     | 8/30/08 | Atlanta Zoo              |\n",
       "| Po         | 10/3/10 | Atlanta Zoo              |\n",
       "| Mei Lun    | 7/15/13 | Atlanta Zoo              |\n",
       "| Mei Huan   | 7/15/13 | Atlanta Zoo              |\n",
       "| Tai Shan   | 7/9/05  | Smithsonian National Zoo |\n",
       "| Bao Bao    | 8/23/13 | Smithsonian National Zoo |\n",
       "| Bei Bei    | 8/22/15 | Smithsonian National Zoo |\n",
       "| Xiao Qi Ji | 8/21/20 | Smithsonian National Zoo |\n",
       "\n"
      ],
      "text/plain": [
       "   name       birth_date birth_location          \n",
       "1  Hua Mei    8/21/99    San Diego Zoo           \n",
       "2  Mei Sheng  8/19/03    San Diego Zoo           \n",
       "3  Su Lin     8/2/05     San Diego Zoo           \n",
       "4  Yun Zi     8/5/09     San Diego Zoo           \n",
       "5  Zhen Zhen  8/3/07     San Diego Zoo           \n",
       "6  Xiao Liwu  7/29/12    San Diego Zoo           \n",
       "7  Mei Lan    9/6/06     Atlanta Zoo             \n",
       "8  Xi Lan     8/30/08    Atlanta Zoo             \n",
       "9  Po         10/3/10    Atlanta Zoo             \n",
       "10 Mei Lun    7/15/13    Atlanta Zoo             \n",
       "11 Mei Huan   7/15/13    Atlanta Zoo             \n",
       "12 Tai Shan   7/9/05     Smithsonian National Zoo\n",
       "13 Bao Bao    8/23/13    Smithsonian National Zoo\n",
       "14 Bei Bei    8/22/15    Smithsonian National Zoo\n",
       "15 Xiao Qi Ji 8/21/20    Smithsonian National Zoo"
      ]
     },
     "metadata": {},
     "output_type": "display_data"
    },
    {
     "data": {
      "text/html": [
       "<table class=\"dataframe\">\n",
       "<caption>A spec_tbl_df: 8 × 3</caption>\n",
       "<thead>\n",
       "\t<tr><th scope=col>name</th><th scope=col>location</th><th scope=col>sex</th></tr>\n",
       "\t<tr><th scope=col>&lt;chr&gt;</th><th scope=col>&lt;chr&gt;</th><th scope=col>&lt;chr&gt;</th></tr>\n",
       "</thead>\n",
       "<tbody>\n",
       "\t<tr><td>Le Le     </td><td>Memphis Zoo             </td><td>male  </td></tr>\n",
       "\t<tr><td>Ya Ya     </td><td>Memphis Zoo             </td><td>female</td></tr>\n",
       "\t<tr><td>Lun Lun   </td><td>Atlanta Zoo             </td><td>female</td></tr>\n",
       "\t<tr><td>Mei Lan   </td><td>Atlanta Zoo             </td><td>male  </td></tr>\n",
       "\t<tr><td>Yang Yang </td><td>Atlanta Zoo             </td><td>male  </td></tr>\n",
       "\t<tr><td>Tian Tian </td><td>Smithsonian National Zoo</td><td>male  </td></tr>\n",
       "\t<tr><td>Mei Xiang </td><td>Smithsonian National Zoo</td><td>female</td></tr>\n",
       "\t<tr><td>Xiao Qi Ji</td><td>Smithsonian National Zoo</td><td>male  </td></tr>\n",
       "</tbody>\n",
       "</table>\n"
      ],
      "text/latex": [
       "A spec\\_tbl\\_df: 8 × 3\n",
       "\\begin{tabular}{lll}\n",
       " name & location & sex\\\\\n",
       " <chr> & <chr> & <chr>\\\\\n",
       "\\hline\n",
       "\t Le Le      & Memphis Zoo              & male  \\\\\n",
       "\t Ya Ya      & Memphis Zoo              & female\\\\\n",
       "\t Lun Lun    & Atlanta Zoo              & female\\\\\n",
       "\t Mei Lan    & Atlanta Zoo              & male  \\\\\n",
       "\t Yang Yang  & Atlanta Zoo              & male  \\\\\n",
       "\t Tian Tian  & Smithsonian National Zoo & male  \\\\\n",
       "\t Mei Xiang  & Smithsonian National Zoo & female\\\\\n",
       "\t Xiao Qi Ji & Smithsonian National Zoo & male  \\\\\n",
       "\\end{tabular}\n"
      ],
      "text/markdown": [
       "\n",
       "A spec_tbl_df: 8 × 3\n",
       "\n",
       "| name &lt;chr&gt; | location &lt;chr&gt; | sex &lt;chr&gt; |\n",
       "|---|---|---|\n",
       "| Le Le      | Memphis Zoo              | male   |\n",
       "| Ya Ya      | Memphis Zoo              | female |\n",
       "| Lun Lun    | Atlanta Zoo              | female |\n",
       "| Mei Lan    | Atlanta Zoo              | male   |\n",
       "| Yang Yang  | Atlanta Zoo              | male   |\n",
       "| Tian Tian  | Smithsonian National Zoo | male   |\n",
       "| Mei Xiang  | Smithsonian National Zoo | female |\n",
       "| Xiao Qi Ji | Smithsonian National Zoo | male   |\n",
       "\n"
      ],
      "text/plain": [
       "  name       location                 sex   \n",
       "1 Le Le      Memphis Zoo              male  \n",
       "2 Ya Ya      Memphis Zoo              female\n",
       "3 Lun Lun    Atlanta Zoo              female\n",
       "4 Mei Lan    Atlanta Zoo              male  \n",
       "5 Yang Yang  Atlanta Zoo              male  \n",
       "6 Tian Tian  Smithsonian National Zoo male  \n",
       "7 Mei Xiang  Smithsonian National Zoo female\n",
       "8 Xiao Qi Ji Smithsonian National Zoo male  "
      ]
     },
     "metadata": {},
     "output_type": "display_data"
    }
   ],
   "source": [
    "us_born_pandas\n",
    "us_current_pandas"
   ]
  },
  {
   "cell_type": "code",
   "execution_count": null,
   "id": "ahead-reynolds",
   "metadata": {
    "scrolled": true
   },
   "outputs": [],
   "source": [
    "# a proof that name is a primary key\n",
    "us_current_pandas %>%\n",
    "    count(name)\n",
    "\n",
    "us_born_pandas %>%\n",
    "    count(name)"
   ]
  },
  {
   "cell_type": "markdown",
   "id": "moving-education",
   "metadata": {},
   "source": [
    "### Inner Join\n",
    "\n",
    "Observations are matched whenever the keys are equal\n",
    "\n",
    "![](https://d33wubrfki0l68.cloudfront.net/3abea0b730526c3f053a3838953c35a0ccbe8980/7f29b/diagrams/join-inner.png)"
   ]
  },
  {
   "cell_type": "markdown",
   "id": "traditional-reflection",
   "metadata": {},
   "source": [
    "Before we inner join the two datasets, answer the following:\n",
    "- How many observations in the resulting dataset?\n",
    "- How many variables in the resulting dataset?\n",
    "- Will there be missing values? If so, where?\n",
    "- How would you describe the resulting dataset in words?"
   ]
  },
  {
   "cell_type": "code",
   "execution_count": 4,
   "id": "approximate-minority",
   "metadata": {},
   "outputs": [
    {
     "data": {
      "text/html": [
       "<table class=\"dataframe\">\n",
       "<caption>A spec_tbl_df: 2 × 5</caption>\n",
       "<thead>\n",
       "\t<tr><th scope=col>name</th><th scope=col>location</th><th scope=col>sex</th><th scope=col>birth_date</th><th scope=col>birth_location</th></tr>\n",
       "\t<tr><th scope=col>&lt;chr&gt;</th><th scope=col>&lt;chr&gt;</th><th scope=col>&lt;chr&gt;</th><th scope=col>&lt;chr&gt;</th><th scope=col>&lt;chr&gt;</th></tr>\n",
       "</thead>\n",
       "<tbody>\n",
       "\t<tr><td>Mei Lan   </td><td>Atlanta Zoo             </td><td>male</td><td>9/6/06 </td><td>Atlanta Zoo             </td></tr>\n",
       "\t<tr><td>Xiao Qi Ji</td><td>Smithsonian National Zoo</td><td>male</td><td>8/21/20</td><td>Smithsonian National Zoo</td></tr>\n",
       "</tbody>\n",
       "</table>\n"
      ],
      "text/latex": [
       "A spec\\_tbl\\_df: 2 × 5\n",
       "\\begin{tabular}{lllll}\n",
       " name & location & sex & birth\\_date & birth\\_location\\\\\n",
       " <chr> & <chr> & <chr> & <chr> & <chr>\\\\\n",
       "\\hline\n",
       "\t Mei Lan    & Atlanta Zoo              & male & 9/6/06  & Atlanta Zoo             \\\\\n",
       "\t Xiao Qi Ji & Smithsonian National Zoo & male & 8/21/20 & Smithsonian National Zoo\\\\\n",
       "\\end{tabular}\n"
      ],
      "text/markdown": [
       "\n",
       "A spec_tbl_df: 2 × 5\n",
       "\n",
       "| name &lt;chr&gt; | location &lt;chr&gt; | sex &lt;chr&gt; | birth_date &lt;chr&gt; | birth_location &lt;chr&gt; |\n",
       "|---|---|---|---|---|\n",
       "| Mei Lan    | Atlanta Zoo              | male | 9/6/06  | Atlanta Zoo              |\n",
       "| Xiao Qi Ji | Smithsonian National Zoo | male | 8/21/20 | Smithsonian National Zoo |\n",
       "\n"
      ],
      "text/plain": [
       "  name       location                 sex  birth_date birth_location          \n",
       "1 Mei Lan    Atlanta Zoo              male 9/6/06     Atlanta Zoo             \n",
       "2 Xiao Qi Ji Smithsonian National Zoo male 8/21/20    Smithsonian National Zoo"
      ]
     },
     "metadata": {},
     "output_type": "display_data"
    }
   ],
   "source": [
    "inner_join(us_current_pandas, us_born_pandas, by = \"name\")"
   ]
  },
  {
   "cell_type": "code",
   "execution_count": 5,
   "id": "higher-compact",
   "metadata": {},
   "outputs": [
    {
     "name": "stderr",
     "output_type": "stream",
     "text": [
      "Joining, by = \"name\"\n",
      "\n"
     ]
    },
    {
     "data": {
      "text/html": [
       "<table class=\"dataframe\">\n",
       "<caption>A spec_tbl_df: 2 × 5</caption>\n",
       "<thead>\n",
       "\t<tr><th scope=col>name</th><th scope=col>location</th><th scope=col>sex</th><th scope=col>birth_date</th><th scope=col>birth_location</th></tr>\n",
       "\t<tr><th scope=col>&lt;chr&gt;</th><th scope=col>&lt;chr&gt;</th><th scope=col>&lt;chr&gt;</th><th scope=col>&lt;chr&gt;</th><th scope=col>&lt;chr&gt;</th></tr>\n",
       "</thead>\n",
       "<tbody>\n",
       "\t<tr><td>Mei Lan   </td><td>Atlanta Zoo             </td><td>male</td><td>9/6/06 </td><td>Atlanta Zoo             </td></tr>\n",
       "\t<tr><td>Xiao Qi Ji</td><td>Smithsonian National Zoo</td><td>male</td><td>8/21/20</td><td>Smithsonian National Zoo</td></tr>\n",
       "</tbody>\n",
       "</table>\n"
      ],
      "text/latex": [
       "A spec\\_tbl\\_df: 2 × 5\n",
       "\\begin{tabular}{lllll}\n",
       " name & location & sex & birth\\_date & birth\\_location\\\\\n",
       " <chr> & <chr> & <chr> & <chr> & <chr>\\\\\n",
       "\\hline\n",
       "\t Mei Lan    & Atlanta Zoo              & male & 9/6/06  & Atlanta Zoo             \\\\\n",
       "\t Xiao Qi Ji & Smithsonian National Zoo & male & 8/21/20 & Smithsonian National Zoo\\\\\n",
       "\\end{tabular}\n"
      ],
      "text/markdown": [
       "\n",
       "A spec_tbl_df: 2 × 5\n",
       "\n",
       "| name &lt;chr&gt; | location &lt;chr&gt; | sex &lt;chr&gt; | birth_date &lt;chr&gt; | birth_location &lt;chr&gt; |\n",
       "|---|---|---|---|---|\n",
       "| Mei Lan    | Atlanta Zoo              | male | 9/6/06  | Atlanta Zoo              |\n",
       "| Xiao Qi Ji | Smithsonian National Zoo | male | 8/21/20 | Smithsonian National Zoo |\n",
       "\n"
      ],
      "text/plain": [
       "  name       location                 sex  birth_date birth_location          \n",
       "1 Mei Lan    Atlanta Zoo              male 9/6/06     Atlanta Zoo             \n",
       "2 Xiao Qi Ji Smithsonian National Zoo male 8/21/20    Smithsonian National Zoo"
      ]
     },
     "metadata": {},
     "output_type": "display_data"
    }
   ],
   "source": [
    "# if we don't specify a key, inner_join will use all shared variable names\n",
    "inner_join(us_current_pandas, us_born_pandas)"
   ]
  },
  {
   "cell_type": "code",
   "execution_count": 6,
   "id": "organizational-concord",
   "metadata": {},
   "outputs": [
    {
     "data": {
      "text/html": [
       "<table class=\"dataframe\">\n",
       "<caption>A spec_tbl_df: 2 × 5</caption>\n",
       "<thead>\n",
       "\t<tr><th scope=col>name</th><th scope=col>location</th><th scope=col>sex</th><th scope=col>birth_date</th><th scope=col>birth_location</th></tr>\n",
       "\t<tr><th scope=col>&lt;chr&gt;</th><th scope=col>&lt;chr&gt;</th><th scope=col>&lt;chr&gt;</th><th scope=col>&lt;chr&gt;</th><th scope=col>&lt;chr&gt;</th></tr>\n",
       "</thead>\n",
       "<tbody>\n",
       "\t<tr><td>Mei Lan   </td><td>Atlanta Zoo             </td><td>male</td><td>9/6/06 </td><td>Atlanta Zoo             </td></tr>\n",
       "\t<tr><td>Xiao Qi Ji</td><td>Smithsonian National Zoo</td><td>male</td><td>8/21/20</td><td>Smithsonian National Zoo</td></tr>\n",
       "</tbody>\n",
       "</table>\n"
      ],
      "text/latex": [
       "A spec\\_tbl\\_df: 2 × 5\n",
       "\\begin{tabular}{lllll}\n",
       " name & location & sex & birth\\_date & birth\\_location\\\\\n",
       " <chr> & <chr> & <chr> & <chr> & <chr>\\\\\n",
       "\\hline\n",
       "\t Mei Lan    & Atlanta Zoo              & male & 9/6/06  & Atlanta Zoo             \\\\\n",
       "\t Xiao Qi Ji & Smithsonian National Zoo & male & 8/21/20 & Smithsonian National Zoo\\\\\n",
       "\\end{tabular}\n"
      ],
      "text/markdown": [
       "\n",
       "A spec_tbl_df: 2 × 5\n",
       "\n",
       "| name &lt;chr&gt; | location &lt;chr&gt; | sex &lt;chr&gt; | birth_date &lt;chr&gt; | birth_location &lt;chr&gt; |\n",
       "|---|---|---|---|---|\n",
       "| Mei Lan    | Atlanta Zoo              | male | 9/6/06  | Atlanta Zoo              |\n",
       "| Xiao Qi Ji | Smithsonian National Zoo | male | 8/21/20 | Smithsonian National Zoo |\n",
       "\n"
      ],
      "text/plain": [
       "  name       location                 sex  birth_date birth_location          \n",
       "1 Mei Lan    Atlanta Zoo              male 9/6/06     Atlanta Zoo             \n",
       "2 Xiao Qi Ji Smithsonian National Zoo male 8/21/20    Smithsonian National Zoo"
      ]
     },
     "metadata": {},
     "output_type": "display_data"
    }
   ],
   "source": [
    "# we can also use the pipe\n",
    "# (pipe always uses the previous result as the first argument of the next line)\n",
    "us_current_pandas %>%\n",
    "    inner_join(us_born_pandas, by = \"name\")"
   ]
  },
  {
   "cell_type": "code",
   "execution_count": 7,
   "id": "greek-looking",
   "metadata": {},
   "outputs": [
    {
     "name": "stderr",
     "output_type": "stream",
     "text": [
      "\n",
      "\u001b[36m──\u001b[39m \u001b[1m\u001b[1mColumn specification\u001b[1m\u001b[22m \u001b[36m────────────────────────────────────────────────────────\u001b[39m\n",
      "cols(\n",
      "  name = \u001b[31mcol_character()\u001b[39m,\n",
      "  birth_date = \u001b[31mcol_character()\u001b[39m,\n",
      "  birth_location = \u001b[31mcol_character()\u001b[39m,\n",
      "  sex = \u001b[31mcol_character()\u001b[39m\n",
      ")\n",
      "\n",
      "\n"
     ]
    },
    {
     "data": {
      "text/html": [
       "<table class=\"dataframe\">\n",
       "<caption>A spec_tbl_df: 15 × 4</caption>\n",
       "<thead>\n",
       "\t<tr><th scope=col>name</th><th scope=col>birth_date</th><th scope=col>birth_location</th><th scope=col>sex</th></tr>\n",
       "\t<tr><th scope=col>&lt;chr&gt;</th><th scope=col>&lt;chr&gt;</th><th scope=col>&lt;chr&gt;</th><th scope=col>&lt;chr&gt;</th></tr>\n",
       "</thead>\n",
       "<tbody>\n",
       "\t<tr><td>Hua Mei   </td><td>8/21/99</td><td>San Diego Zoo           </td><td>female</td></tr>\n",
       "\t<tr><td>Mei Sheng </td><td>8/19/03</td><td>San Diego Zoo           </td><td>female</td></tr>\n",
       "\t<tr><td>Su Lin    </td><td>8/2/05 </td><td>San Diego Zoo           </td><td>female</td></tr>\n",
       "\t<tr><td>Yun Zi    </td><td>8/5/09 </td><td>San Diego Zoo           </td><td>male  </td></tr>\n",
       "\t<tr><td>Zhen Zhen </td><td>8/3/07 </td><td>San Diego Zoo           </td><td>female</td></tr>\n",
       "\t<tr><td>Xiao Liwu </td><td>7/29/12</td><td>San Diego Zoo           </td><td>male  </td></tr>\n",
       "\t<tr><td>Mei Lan   </td><td>9/6/06 </td><td>Atlanta Zoo             </td><td>male  </td></tr>\n",
       "\t<tr><td>Xi Lan    </td><td>8/30/08</td><td>Atlanta Zoo             </td><td>male  </td></tr>\n",
       "\t<tr><td>Po        </td><td>10/3/10</td><td>Atlanta Zoo             </td><td>female</td></tr>\n",
       "\t<tr><td>Mei Lun   </td><td>7/15/13</td><td>Atlanta Zoo             </td><td>female</td></tr>\n",
       "\t<tr><td>Mei Huan  </td><td>7/15/13</td><td>Atlanta Zoo             </td><td>female</td></tr>\n",
       "\t<tr><td>Tai Shan  </td><td>7/9/05 </td><td>Smithsonian National Zoo</td><td>male  </td></tr>\n",
       "\t<tr><td>Bao Bao   </td><td>8/23/13</td><td>Smithsonian National Zoo</td><td>female</td></tr>\n",
       "\t<tr><td>Bei Bei   </td><td>8/22/15</td><td>Smithsonian National Zoo</td><td>male  </td></tr>\n",
       "\t<tr><td>Xiao Qi Ji</td><td>8/21/20</td><td>Smithsonian National Zoo</td><td>male  </td></tr>\n",
       "</tbody>\n",
       "</table>\n"
      ],
      "text/latex": [
       "A spec\\_tbl\\_df: 15 × 4\n",
       "\\begin{tabular}{llll}\n",
       " name & birth\\_date & birth\\_location & sex\\\\\n",
       " <chr> & <chr> & <chr> & <chr>\\\\\n",
       "\\hline\n",
       "\t Hua Mei    & 8/21/99 & San Diego Zoo            & female\\\\\n",
       "\t Mei Sheng  & 8/19/03 & San Diego Zoo            & female\\\\\n",
       "\t Su Lin     & 8/2/05  & San Diego Zoo            & female\\\\\n",
       "\t Yun Zi     & 8/5/09  & San Diego Zoo            & male  \\\\\n",
       "\t Zhen Zhen  & 8/3/07  & San Diego Zoo            & female\\\\\n",
       "\t Xiao Liwu  & 7/29/12 & San Diego Zoo            & male  \\\\\n",
       "\t Mei Lan    & 9/6/06  & Atlanta Zoo              & male  \\\\\n",
       "\t Xi Lan     & 8/30/08 & Atlanta Zoo              & male  \\\\\n",
       "\t Po         & 10/3/10 & Atlanta Zoo              & female\\\\\n",
       "\t Mei Lun    & 7/15/13 & Atlanta Zoo              & female\\\\\n",
       "\t Mei Huan   & 7/15/13 & Atlanta Zoo              & female\\\\\n",
       "\t Tai Shan   & 7/9/05  & Smithsonian National Zoo & male  \\\\\n",
       "\t Bao Bao    & 8/23/13 & Smithsonian National Zoo & female\\\\\n",
       "\t Bei Bei    & 8/22/15 & Smithsonian National Zoo & male  \\\\\n",
       "\t Xiao Qi Ji & 8/21/20 & Smithsonian National Zoo & male  \\\\\n",
       "\\end{tabular}\n"
      ],
      "text/markdown": [
       "\n",
       "A spec_tbl_df: 15 × 4\n",
       "\n",
       "| name &lt;chr&gt; | birth_date &lt;chr&gt; | birth_location &lt;chr&gt; | sex &lt;chr&gt; |\n",
       "|---|---|---|---|\n",
       "| Hua Mei    | 8/21/99 | San Diego Zoo            | female |\n",
       "| Mei Sheng  | 8/19/03 | San Diego Zoo            | female |\n",
       "| Su Lin     | 8/2/05  | San Diego Zoo            | female |\n",
       "| Yun Zi     | 8/5/09  | San Diego Zoo            | male   |\n",
       "| Zhen Zhen  | 8/3/07  | San Diego Zoo            | female |\n",
       "| Xiao Liwu  | 7/29/12 | San Diego Zoo            | male   |\n",
       "| Mei Lan    | 9/6/06  | Atlanta Zoo              | male   |\n",
       "| Xi Lan     | 8/30/08 | Atlanta Zoo              | male   |\n",
       "| Po         | 10/3/10 | Atlanta Zoo              | female |\n",
       "| Mei Lun    | 7/15/13 | Atlanta Zoo              | female |\n",
       "| Mei Huan   | 7/15/13 | Atlanta Zoo              | female |\n",
       "| Tai Shan   | 7/9/05  | Smithsonian National Zoo | male   |\n",
       "| Bao Bao    | 8/23/13 | Smithsonian National Zoo | female |\n",
       "| Bei Bei    | 8/22/15 | Smithsonian National Zoo | male   |\n",
       "| Xiao Qi Ji | 8/21/20 | Smithsonian National Zoo | male   |\n",
       "\n"
      ],
      "text/plain": [
       "   name       birth_date birth_location           sex   \n",
       "1  Hua Mei    8/21/99    San Diego Zoo            female\n",
       "2  Mei Sheng  8/19/03    San Diego Zoo            female\n",
       "3  Su Lin     8/2/05     San Diego Zoo            female\n",
       "4  Yun Zi     8/5/09     San Diego Zoo            male  \n",
       "5  Zhen Zhen  8/3/07     San Diego Zoo            female\n",
       "6  Xiao Liwu  7/29/12    San Diego Zoo            male  \n",
       "7  Mei Lan    9/6/06     Atlanta Zoo              male  \n",
       "8  Xi Lan     8/30/08    Atlanta Zoo              male  \n",
       "9  Po         10/3/10    Atlanta Zoo              female\n",
       "10 Mei Lun    7/15/13    Atlanta Zoo              female\n",
       "11 Mei Huan   7/15/13    Atlanta Zoo              female\n",
       "12 Tai Shan   7/9/05     Smithsonian National Zoo male  \n",
       "13 Bao Bao    8/23/13    Smithsonian National Zoo female\n",
       "14 Bei Bei    8/22/15    Smithsonian National Zoo male  \n",
       "15 Xiao Qi Ji 8/21/20    Smithsonian National Zoo male  "
      ]
     },
     "metadata": {},
     "output_type": "display_data"
    }
   ],
   "source": [
    "# what if the datasets share more than variable?\n",
    "(us_born_pandas2 = read_csv(\"data/us_born_pandas2.csv\"))"
   ]
  },
  {
   "cell_type": "code",
   "execution_count": 8,
   "id": "behind-beatles",
   "metadata": {},
   "outputs": [
    {
     "data": {
      "text/html": [
       "<table class=\"dataframe\">\n",
       "<caption>A spec_tbl_df: 2 × 6</caption>\n",
       "<thead>\n",
       "\t<tr><th scope=col>name</th><th scope=col>location</th><th scope=col>sex.x</th><th scope=col>birth_date</th><th scope=col>birth_location</th><th scope=col>sex.y</th></tr>\n",
       "\t<tr><th scope=col>&lt;chr&gt;</th><th scope=col>&lt;chr&gt;</th><th scope=col>&lt;chr&gt;</th><th scope=col>&lt;chr&gt;</th><th scope=col>&lt;chr&gt;</th><th scope=col>&lt;chr&gt;</th></tr>\n",
       "</thead>\n",
       "<tbody>\n",
       "\t<tr><td>Mei Lan   </td><td>Atlanta Zoo             </td><td>male</td><td>9/6/06 </td><td>Atlanta Zoo             </td><td>male</td></tr>\n",
       "\t<tr><td>Xiao Qi Ji</td><td>Smithsonian National Zoo</td><td>male</td><td>8/21/20</td><td>Smithsonian National Zoo</td><td>male</td></tr>\n",
       "</tbody>\n",
       "</table>\n"
      ],
      "text/latex": [
       "A spec\\_tbl\\_df: 2 × 6\n",
       "\\begin{tabular}{llllll}\n",
       " name & location & sex.x & birth\\_date & birth\\_location & sex.y\\\\\n",
       " <chr> & <chr> & <chr> & <chr> & <chr> & <chr>\\\\\n",
       "\\hline\n",
       "\t Mei Lan    & Atlanta Zoo              & male & 9/6/06  & Atlanta Zoo              & male\\\\\n",
       "\t Xiao Qi Ji & Smithsonian National Zoo & male & 8/21/20 & Smithsonian National Zoo & male\\\\\n",
       "\\end{tabular}\n"
      ],
      "text/markdown": [
       "\n",
       "A spec_tbl_df: 2 × 6\n",
       "\n",
       "| name &lt;chr&gt; | location &lt;chr&gt; | sex.x &lt;chr&gt; | birth_date &lt;chr&gt; | birth_location &lt;chr&gt; | sex.y &lt;chr&gt; |\n",
       "|---|---|---|---|---|---|\n",
       "| Mei Lan    | Atlanta Zoo              | male | 9/6/06  | Atlanta Zoo              | male |\n",
       "| Xiao Qi Ji | Smithsonian National Zoo | male | 8/21/20 | Smithsonian National Zoo | male |\n",
       "\n"
      ],
      "text/plain": [
       "  name       location                 sex.x birth_date birth_location          \n",
       "1 Mei Lan    Atlanta Zoo              male  9/6/06     Atlanta Zoo             \n",
       "2 Xiao Qi Ji Smithsonian National Zoo male  8/21/20    Smithsonian National Zoo\n",
       "  sex.y\n",
       "1 male \n",
       "2 male "
      ]
     },
     "metadata": {},
     "output_type": "display_data"
    }
   ],
   "source": [
    "inner_join(us_current_pandas, us_born_pandas2, by = \"name\")"
   ]
  },
  {
   "cell_type": "markdown",
   "id": "still-bacon",
   "metadata": {},
   "source": [
    "- Since we are just joining along one variable (```name```), we treat the variables ```us_born_pandas2$sex``` and ```us_current_pandas$sex``` as two distinct variables when joining\n",
    "- If a variable (or variable group) is a primary key, then so is any variable group containing that variable (or variable group)\n",
    " * Think about why this is true!\n",
    "- Join the two datasets along all shared variables using two different, distinct blocks of code."
   ]
  },
  {
   "cell_type": "code",
   "execution_count": 9,
   "id": "brown-logistics",
   "metadata": {},
   "outputs": [
    {
     "data": {
      "text/html": [
       "<table class=\"dataframe\">\n",
       "<caption>A spec_tbl_df: 2 × 5</caption>\n",
       "<thead>\n",
       "\t<tr><th scope=col>name</th><th scope=col>location</th><th scope=col>sex</th><th scope=col>birth_date</th><th scope=col>birth_location</th></tr>\n",
       "\t<tr><th scope=col>&lt;chr&gt;</th><th scope=col>&lt;chr&gt;</th><th scope=col>&lt;chr&gt;</th><th scope=col>&lt;chr&gt;</th><th scope=col>&lt;chr&gt;</th></tr>\n",
       "</thead>\n",
       "<tbody>\n",
       "\t<tr><td>Mei Lan   </td><td>Atlanta Zoo             </td><td>male</td><td>9/6/06 </td><td>Atlanta Zoo             </td></tr>\n",
       "\t<tr><td>Xiao Qi Ji</td><td>Smithsonian National Zoo</td><td>male</td><td>8/21/20</td><td>Smithsonian National Zoo</td></tr>\n",
       "</tbody>\n",
       "</table>\n"
      ],
      "text/latex": [
       "A spec\\_tbl\\_df: 2 × 5\n",
       "\\begin{tabular}{lllll}\n",
       " name & location & sex & birth\\_date & birth\\_location\\\\\n",
       " <chr> & <chr> & <chr> & <chr> & <chr>\\\\\n",
       "\\hline\n",
       "\t Mei Lan    & Atlanta Zoo              & male & 9/6/06  & Atlanta Zoo             \\\\\n",
       "\t Xiao Qi Ji & Smithsonian National Zoo & male & 8/21/20 & Smithsonian National Zoo\\\\\n",
       "\\end{tabular}\n"
      ],
      "text/markdown": [
       "\n",
       "A spec_tbl_df: 2 × 5\n",
       "\n",
       "| name &lt;chr&gt; | location &lt;chr&gt; | sex &lt;chr&gt; | birth_date &lt;chr&gt; | birth_location &lt;chr&gt; |\n",
       "|---|---|---|---|---|\n",
       "| Mei Lan    | Atlanta Zoo              | male | 9/6/06  | Atlanta Zoo              |\n",
       "| Xiao Qi Ji | Smithsonian National Zoo | male | 8/21/20 | Smithsonian National Zoo |\n",
       "\n"
      ],
      "text/plain": [
       "  name       location                 sex  birth_date birth_location          \n",
       "1 Mei Lan    Atlanta Zoo              male 9/6/06     Atlanta Zoo             \n",
       "2 Xiao Qi Ji Smithsonian National Zoo male 8/21/20    Smithsonian National Zoo"
      ]
     },
     "metadata": {},
     "output_type": "display_data"
    }
   ],
   "source": [
    "inner_join(us_current_pandas, us_born_pandas2, by = c(\"name\", \"sex\"))"
   ]
  },
  {
   "cell_type": "code",
   "execution_count": 10,
   "id": "native-vienna",
   "metadata": {},
   "outputs": [
    {
     "name": "stderr",
     "output_type": "stream",
     "text": [
      "Joining, by = c(\"name\", \"sex\")\n",
      "\n"
     ]
    },
    {
     "data": {
      "text/html": [
       "<table class=\"dataframe\">\n",
       "<caption>A spec_tbl_df: 2 × 5</caption>\n",
       "<thead>\n",
       "\t<tr><th scope=col>name</th><th scope=col>location</th><th scope=col>sex</th><th scope=col>birth_date</th><th scope=col>birth_location</th></tr>\n",
       "\t<tr><th scope=col>&lt;chr&gt;</th><th scope=col>&lt;chr&gt;</th><th scope=col>&lt;chr&gt;</th><th scope=col>&lt;chr&gt;</th><th scope=col>&lt;chr&gt;</th></tr>\n",
       "</thead>\n",
       "<tbody>\n",
       "\t<tr><td>Mei Lan   </td><td>Atlanta Zoo             </td><td>male</td><td>9/6/06 </td><td>Atlanta Zoo             </td></tr>\n",
       "\t<tr><td>Xiao Qi Ji</td><td>Smithsonian National Zoo</td><td>male</td><td>8/21/20</td><td>Smithsonian National Zoo</td></tr>\n",
       "</tbody>\n",
       "</table>\n"
      ],
      "text/latex": [
       "A spec\\_tbl\\_df: 2 × 5\n",
       "\\begin{tabular}{lllll}\n",
       " name & location & sex & birth\\_date & birth\\_location\\\\\n",
       " <chr> & <chr> & <chr> & <chr> & <chr>\\\\\n",
       "\\hline\n",
       "\t Mei Lan    & Atlanta Zoo              & male & 9/6/06  & Atlanta Zoo             \\\\\n",
       "\t Xiao Qi Ji & Smithsonian National Zoo & male & 8/21/20 & Smithsonian National Zoo\\\\\n",
       "\\end{tabular}\n"
      ],
      "text/markdown": [
       "\n",
       "A spec_tbl_df: 2 × 5\n",
       "\n",
       "| name &lt;chr&gt; | location &lt;chr&gt; | sex &lt;chr&gt; | birth_date &lt;chr&gt; | birth_location &lt;chr&gt; |\n",
       "|---|---|---|---|---|\n",
       "| Mei Lan    | Atlanta Zoo              | male | 9/6/06  | Atlanta Zoo              |\n",
       "| Xiao Qi Ji | Smithsonian National Zoo | male | 8/21/20 | Smithsonian National Zoo |\n",
       "\n"
      ],
      "text/plain": [
       "  name       location                 sex  birth_date birth_location          \n",
       "1 Mei Lan    Atlanta Zoo              male 9/6/06     Atlanta Zoo             \n",
       "2 Xiao Qi Ji Smithsonian National Zoo male 8/21/20    Smithsonian National Zoo"
      ]
     },
     "metadata": {},
     "output_type": "display_data"
    }
   ],
   "source": [
    "inner_join(us_current_pandas, us_born_pandas2)"
   ]
  },
  {
   "cell_type": "code",
   "execution_count": 11,
   "id": "rising-orchestra",
   "metadata": {},
   "outputs": [
    {
     "data": {
      "text/html": [
       "<table class=\"dataframe\">\n",
       "<caption>A spec_tbl_df: 8 × 3</caption>\n",
       "<thead>\n",
       "\t<tr><th scope=col>panda_name</th><th scope=col>location</th><th scope=col>sex_of_panda</th></tr>\n",
       "\t<tr><th scope=col>&lt;chr&gt;</th><th scope=col>&lt;chr&gt;</th><th scope=col>&lt;chr&gt;</th></tr>\n",
       "</thead>\n",
       "<tbody>\n",
       "\t<tr><td>Le Le     </td><td>Memphis Zoo             </td><td>male  </td></tr>\n",
       "\t<tr><td>Ya Ya     </td><td>Memphis Zoo             </td><td>female</td></tr>\n",
       "\t<tr><td>Lun Lun   </td><td>Atlanta Zoo             </td><td>female</td></tr>\n",
       "\t<tr><td>Mei Lan   </td><td>Atlanta Zoo             </td><td>male  </td></tr>\n",
       "\t<tr><td>Yang Yang </td><td>Atlanta Zoo             </td><td>male  </td></tr>\n",
       "\t<tr><td>Tian Tian </td><td>Smithsonian National Zoo</td><td>male  </td></tr>\n",
       "\t<tr><td>Mei Xiang </td><td>Smithsonian National Zoo</td><td>female</td></tr>\n",
       "\t<tr><td>Xiao Qi Ji</td><td>Smithsonian National Zoo</td><td>male  </td></tr>\n",
       "</tbody>\n",
       "</table>\n"
      ],
      "text/latex": [
       "A spec\\_tbl\\_df: 8 × 3\n",
       "\\begin{tabular}{lll}\n",
       " panda\\_name & location & sex\\_of\\_panda\\\\\n",
       " <chr> & <chr> & <chr>\\\\\n",
       "\\hline\n",
       "\t Le Le      & Memphis Zoo              & male  \\\\\n",
       "\t Ya Ya      & Memphis Zoo              & female\\\\\n",
       "\t Lun Lun    & Atlanta Zoo              & female\\\\\n",
       "\t Mei Lan    & Atlanta Zoo              & male  \\\\\n",
       "\t Yang Yang  & Atlanta Zoo              & male  \\\\\n",
       "\t Tian Tian  & Smithsonian National Zoo & male  \\\\\n",
       "\t Mei Xiang  & Smithsonian National Zoo & female\\\\\n",
       "\t Xiao Qi Ji & Smithsonian National Zoo & male  \\\\\n",
       "\\end{tabular}\n"
      ],
      "text/markdown": [
       "\n",
       "A spec_tbl_df: 8 × 3\n",
       "\n",
       "| panda_name &lt;chr&gt; | location &lt;chr&gt; | sex_of_panda &lt;chr&gt; |\n",
       "|---|---|---|\n",
       "| Le Le      | Memphis Zoo              | male   |\n",
       "| Ya Ya      | Memphis Zoo              | female |\n",
       "| Lun Lun    | Atlanta Zoo              | female |\n",
       "| Mei Lan    | Atlanta Zoo              | male   |\n",
       "| Yang Yang  | Atlanta Zoo              | male   |\n",
       "| Tian Tian  | Smithsonian National Zoo | male   |\n",
       "| Mei Xiang  | Smithsonian National Zoo | female |\n",
       "| Xiao Qi Ji | Smithsonian National Zoo | male   |\n",
       "\n"
      ],
      "text/plain": [
       "  panda_name location                 sex_of_panda\n",
       "1 Le Le      Memphis Zoo              male        \n",
       "2 Ya Ya      Memphis Zoo              female      \n",
       "3 Lun Lun    Atlanta Zoo              female      \n",
       "4 Mei Lan    Atlanta Zoo              male        \n",
       "5 Yang Yang  Atlanta Zoo              male        \n",
       "6 Tian Tian  Smithsonian National Zoo male        \n",
       "7 Mei Xiang  Smithsonian National Zoo female      \n",
       "8 Xiao Qi Ji Smithsonian National Zoo male        "
      ]
     },
     "metadata": {},
     "output_type": "display_data"
    }
   ],
   "source": [
    "# let's make things a little messier...\n",
    "(us_current_pandas2 <- rename(us_current_pandas, panda_name = name, sex_of_panda = sex))"
   ]
  },
  {
   "cell_type": "code",
   "execution_count": 12,
   "id": "floating-chosen",
   "metadata": {},
   "outputs": [
    {
     "data": {
      "text/html": [
       "<table class=\"dataframe\">\n",
       "<caption>A spec_tbl_df: 2 × 5</caption>\n",
       "<thead>\n",
       "\t<tr><th scope=col>name</th><th scope=col>birth_date</th><th scope=col>birth_location</th><th scope=col>sex</th><th scope=col>location</th></tr>\n",
       "\t<tr><th scope=col>&lt;chr&gt;</th><th scope=col>&lt;chr&gt;</th><th scope=col>&lt;chr&gt;</th><th scope=col>&lt;chr&gt;</th><th scope=col>&lt;chr&gt;</th></tr>\n",
       "</thead>\n",
       "<tbody>\n",
       "\t<tr><td>Mei Lan   </td><td>9/6/06 </td><td>Atlanta Zoo             </td><td>male</td><td>Atlanta Zoo             </td></tr>\n",
       "\t<tr><td>Xiao Qi Ji</td><td>8/21/20</td><td>Smithsonian National Zoo</td><td>male</td><td>Smithsonian National Zoo</td></tr>\n",
       "</tbody>\n",
       "</table>\n"
      ],
      "text/latex": [
       "A spec\\_tbl\\_df: 2 × 5\n",
       "\\begin{tabular}{lllll}\n",
       " name & birth\\_date & birth\\_location & sex & location\\\\\n",
       " <chr> & <chr> & <chr> & <chr> & <chr>\\\\\n",
       "\\hline\n",
       "\t Mei Lan    & 9/6/06  & Atlanta Zoo              & male & Atlanta Zoo             \\\\\n",
       "\t Xiao Qi Ji & 8/21/20 & Smithsonian National Zoo & male & Smithsonian National Zoo\\\\\n",
       "\\end{tabular}\n"
      ],
      "text/markdown": [
       "\n",
       "A spec_tbl_df: 2 × 5\n",
       "\n",
       "| name &lt;chr&gt; | birth_date &lt;chr&gt; | birth_location &lt;chr&gt; | sex &lt;chr&gt; | location &lt;chr&gt; |\n",
       "|---|---|---|---|---|\n",
       "| Mei Lan    | 9/6/06  | Atlanta Zoo              | male | Atlanta Zoo              |\n",
       "| Xiao Qi Ji | 8/21/20 | Smithsonian National Zoo | male | Smithsonian National Zoo |\n",
       "\n"
      ],
      "text/plain": [
       "  name       birth_date birth_location           sex  location                \n",
       "1 Mei Lan    9/6/06     Atlanta Zoo              male Atlanta Zoo             \n",
       "2 Xiao Qi Ji 8/21/20    Smithsonian National Zoo male Smithsonian National Zoo"
      ]
     },
     "metadata": {},
     "output_type": "display_data"
    }
   ],
   "source": [
    "# if the names of the variables aren't exactly the same, we have to specify this\n",
    "inner_join(us_born_pandas2, us_current_pandas2, by = c(\"name\" = \"panda_name\", \"sex\" = \"sex_of_panda\"))"
   ]
  },
  {
   "cell_type": "code",
   "execution_count": null,
   "id": "heard-triumph",
   "metadata": {},
   "outputs": [],
   "source": [
    "# why doesn't the following code work?!\n",
    "inner_join(us_born_pandas2, us_current_pandas2, by = c(\"panda_name\" = \"name\", \"sex_of_panda\" = \"sex\"))"
   ]
  },
  {
   "cell_type": "markdown",
   "id": "temporal-charger",
   "metadata": {},
   "source": [
    "Attempt\n",
    "- Use the ```summarize()``` and ```filter()``` commands on the ```flights``` dataset to get a dataset called ```avg_delay_hour``` containing the mean departure delay each hour of the year for flights whose ```origin``` is JFK.\n",
    " * Hint: First filter by flights with whose ```origin``` is JFK. The variables in the resulting dataset should be mean_delay, year, month, day, and hour\n",
    " * Is there a primary key?\n",
    "- Use the ```weather``` dataset as a starting point to get a dataset called ```JFK_weather``` representing the weather at every hour at JFK airport.\n",
    " * Is there a primary key?\n",
    "- Think about how you might join ```avg_delay_hour``` and ```JFK_weather``` to a new dataset ```weather_and_delay```\n",
    " * What would be a good primary key for weather in this scenario?\n",
    " * How many rows are in ```avg_delay_hour```, ```JFK_weather```, and ```weather_and_delay```? What happened? "
   ]
  },
  {
   "cell_type": "code",
   "execution_count": 13,
   "id": "persistent-spencer",
   "metadata": {},
   "outputs": [
    {
     "name": "stderr",
     "output_type": "stream",
     "text": [
      "`summarise()` has grouped output by 'year', 'month', 'day'. You can override using the `.groups` argument.\n",
      "\n"
     ]
    },
    {
     "name": "stdout",
     "output_type": "stream",
     "text": [
      "\u001b[90m# A tibble: 6,935 x 5\u001b[39m\n",
      "\u001b[90m# Groups:   year, month, day [365]\u001b[39m\n",
      "    year month   day  hour mean_delay\n",
      "   \u001b[3m\u001b[90m<int>\u001b[39m\u001b[23m \u001b[3m\u001b[90m<int>\u001b[39m\u001b[23m \u001b[3m\u001b[90m<int>\u001b[39m\u001b[23m \u001b[3m\u001b[90m<dbl>\u001b[39m\u001b[23m      \u001b[3m\u001b[90m<dbl>\u001b[39m\u001b[23m\n",
      "\u001b[90m 1\u001b[39m  \u001b[4m2\u001b[24m013     1     1     5      0.333\n",
      "\u001b[90m 2\u001b[39m  \u001b[4m2\u001b[24m013     1     1     6     -\u001b[31m1\u001b[39m\u001b[31m.\u001b[39m\u001b[31m0\u001b[39m\u001b[31m6\u001b[39m \n",
      "\u001b[90m 3\u001b[39m  \u001b[4m2\u001b[24m013     1     1     7      4.12 \n",
      "\u001b[90m 4\u001b[39m  \u001b[4m2\u001b[24m013     1     1     8      1.09 \n",
      "\u001b[90m 5\u001b[39m  \u001b[4m2\u001b[24m013     1     1     9      3.67 \n",
      "\u001b[90m 6\u001b[39m  \u001b[4m2\u001b[24m013     1     1    10     -\u001b[31m2\u001b[39m    \n",
      "\u001b[90m 7\u001b[39m  \u001b[4m2\u001b[24m013     1     1    11      8.33 \n",
      "\u001b[90m 8\u001b[39m  \u001b[4m2\u001b[24m013     1     1    12      6    \n",
      "\u001b[90m 9\u001b[39m  \u001b[4m2\u001b[24m013     1     1    13     25.9  \n",
      "\u001b[90m10\u001b[39m  \u001b[4m2\u001b[24m013     1     1    14      9.19 \n",
      "\u001b[90m# … with 6,925 more rows\u001b[39m\n"
     ]
    }
   ],
   "source": [
    "avg_delay_hour <- flights %>%\n",
    "    filter(origin == \"JFK\") %>%\n",
    "    group_by(year, month, day, hour) %>%\n",
    "    summarize(mean_delay = mean(dep_delay, na.rm = TRUE)) %>%\n",
    "    print()"
   ]
  },
  {
   "cell_type": "code",
   "execution_count": 15,
   "id": "right-collins",
   "metadata": {},
   "outputs": [
    {
     "name": "stdout",
     "output_type": "stream",
     "text": [
      "\u001b[90m# A tibble: 8,706 x 15\u001b[39m\n",
      "   origin  year month   day  hour  temp  dewp humid wind_dir wind_speed\n",
      "   \u001b[3m\u001b[90m<chr>\u001b[39m\u001b[23m  \u001b[3m\u001b[90m<int>\u001b[39m\u001b[23m \u001b[3m\u001b[90m<int>\u001b[39m\u001b[23m \u001b[3m\u001b[90m<int>\u001b[39m\u001b[23m \u001b[3m\u001b[90m<int>\u001b[39m\u001b[23m \u001b[3m\u001b[90m<dbl>\u001b[39m\u001b[23m \u001b[3m\u001b[90m<dbl>\u001b[39m\u001b[23m \u001b[3m\u001b[90m<dbl>\u001b[39m\u001b[23m    \u001b[3m\u001b[90m<dbl>\u001b[39m\u001b[23m      \u001b[3m\u001b[90m<dbl>\u001b[39m\u001b[23m\n",
      "\u001b[90m 1\u001b[39m JFK     \u001b[4m2\u001b[24m013     1     1     1  39.0  26.1  59.4      260       12.7\n",
      "\u001b[90m 2\u001b[39m JFK     \u001b[4m2\u001b[24m013     1     1     2  39.0  26.1  59.4      270       11.5\n",
      "\u001b[90m 3\u001b[39m JFK     \u001b[4m2\u001b[24m013     1     1     3  39.9  27.0  59.5      260       15.0\n",
      "\u001b[90m 4\u001b[39m JFK     \u001b[4m2\u001b[24m013     1     1     4  39.9  28.0  62.2      250       17.3\n",
      "\u001b[90m 5\u001b[39m JFK     \u001b[4m2\u001b[24m013     1     1     5  39.0  27.0  61.6      260       15.0\n",
      "\u001b[90m 6\u001b[39m JFK     \u001b[4m2\u001b[24m013     1     1     6  37.9  27.0  64.3      260       13.8\n",
      "\u001b[90m 7\u001b[39m JFK     \u001b[4m2\u001b[24m013     1     1     7  39.0  28.0  64.4      260       13.8\n",
      "\u001b[90m 8\u001b[39m JFK     \u001b[4m2\u001b[24m013     1     1     8  39.9  27.0  59.5      260       17.3\n",
      "\u001b[90m 9\u001b[39m JFK     \u001b[4m2\u001b[24m013     1     1     9  39.9  27.0  59.5      260       16.1\n",
      "\u001b[90m10\u001b[39m JFK     \u001b[4m2\u001b[24m013     1     1    10  41    28.0  59.6      260       16.1\n",
      "   wind_gust precip pressure visib time_hour          \n",
      "       \u001b[3m\u001b[90m<dbl>\u001b[39m\u001b[23m  \u001b[3m\u001b[90m<dbl>\u001b[39m\u001b[23m    \u001b[3m\u001b[90m<dbl>\u001b[39m\u001b[23m \u001b[3m\u001b[90m<dbl>\u001b[39m\u001b[23m \u001b[3m\u001b[90m<dttm>\u001b[39m\u001b[23m             \n",
      "\u001b[90m 1\u001b[39m        \u001b[31mNA\u001b[39m      0    \u001b[4m1\u001b[24m013.    10 2013-01-01 \u001b[90m01:00:00\u001b[39m\n",
      "\u001b[90m 2\u001b[39m        \u001b[31mNA\u001b[39m      0    \u001b[4m1\u001b[24m012.    10 2013-01-01 \u001b[90m02:00:00\u001b[39m\n",
      "\u001b[90m 3\u001b[39m        \u001b[31mNA\u001b[39m      0    \u001b[4m1\u001b[24m013.    10 2013-01-01 \u001b[90m03:00:00\u001b[39m\n",
      "\u001b[90m 4\u001b[39m        \u001b[31mNA\u001b[39m      0    \u001b[4m1\u001b[24m013.    10 2013-01-01 \u001b[90m04:00:00\u001b[39m\n",
      "\u001b[90m 5\u001b[39m        \u001b[31mNA\u001b[39m      0    \u001b[4m1\u001b[24m012.    10 2013-01-01 \u001b[90m05:00:00\u001b[39m\n",
      "\u001b[90m 6\u001b[39m        \u001b[31mNA\u001b[39m      0    \u001b[4m1\u001b[24m013.    10 2013-01-01 \u001b[90m06:00:00\u001b[39m\n",
      "\u001b[90m 7\u001b[39m        \u001b[31mNA\u001b[39m      0    \u001b[4m1\u001b[24m012.    10 2013-01-01 \u001b[90m07:00:00\u001b[39m\n",
      "\u001b[90m 8\u001b[39m        \u001b[31mNA\u001b[39m      0    \u001b[4m1\u001b[24m013.    10 2013-01-01 \u001b[90m08:00:00\u001b[39m\n",
      "\u001b[90m 9\u001b[39m        \u001b[31mNA\u001b[39m      0    \u001b[4m1\u001b[24m013     10 2013-01-01 \u001b[90m09:00:00\u001b[39m\n",
      "\u001b[90m10\u001b[39m        \u001b[31mNA\u001b[39m      0    \u001b[4m1\u001b[24m013.    10 2013-01-01 \u001b[90m10:00:00\u001b[39m\n",
      "\u001b[90m# … with 8,696 more rows\u001b[39m\n"
     ]
    }
   ],
   "source": [
    "JFK_weather <- weather %>%\n",
    "    filter(origin == \"JFK\") %>%\n",
    "    print(width = Inf)"
   ]
  },
  {
   "cell_type": "code",
   "execution_count": 18,
   "id": "reserved-alabama",
   "metadata": {
    "scrolled": false
   },
   "outputs": [
    {
     "data": {
      "text/html": [
       "<table class=\"dataframe\">\n",
       "<caption>A tibble: 6895 × 16</caption>\n",
       "<thead>\n",
       "\t<tr><th scope=col>origin</th><th scope=col>year</th><th scope=col>month</th><th scope=col>day</th><th scope=col>hour</th><th scope=col>temp</th><th scope=col>dewp</th><th scope=col>humid</th><th scope=col>wind_dir</th><th scope=col>wind_speed</th><th scope=col>wind_gust</th><th scope=col>precip</th><th scope=col>pressure</th><th scope=col>visib</th><th scope=col>time_hour</th><th scope=col>mean_delay</th></tr>\n",
       "\t<tr><th scope=col>&lt;chr&gt;</th><th scope=col>&lt;int&gt;</th><th scope=col>&lt;int&gt;</th><th scope=col>&lt;int&gt;</th><th scope=col>&lt;dbl&gt;</th><th scope=col>&lt;dbl&gt;</th><th scope=col>&lt;dbl&gt;</th><th scope=col>&lt;dbl&gt;</th><th scope=col>&lt;dbl&gt;</th><th scope=col>&lt;dbl&gt;</th><th scope=col>&lt;dbl&gt;</th><th scope=col>&lt;dbl&gt;</th><th scope=col>&lt;dbl&gt;</th><th scope=col>&lt;dbl&gt;</th><th scope=col>&lt;dttm&gt;</th><th scope=col>&lt;dbl&gt;</th></tr>\n",
       "</thead>\n",
       "<tbody>\n",
       "\t<tr><td>JFK</td><td>2013</td><td>1</td><td>1</td><td> 5</td><td>39.02</td><td>26.96</td><td>61.63</td><td>260</td><td>14.96014</td><td>      NA</td><td>0</td><td>1012.1</td><td>10</td><td>2013-01-01 05:00:00</td><td> 0.3333333</td></tr>\n",
       "\t<tr><td>JFK</td><td>2013</td><td>1</td><td>1</td><td> 6</td><td>37.94</td><td>26.96</td><td>64.29</td><td>260</td><td>13.80936</td><td>      NA</td><td>0</td><td>1012.6</td><td>10</td><td>2013-01-01 06:00:00</td><td>-1.0625000</td></tr>\n",
       "\t<tr><td>JFK</td><td>2013</td><td>1</td><td>1</td><td> 7</td><td>39.02</td><td>28.04</td><td>64.43</td><td>260</td><td>13.80936</td><td>      NA</td><td>0</td><td>1012.5</td><td>10</td><td>2013-01-01 07:00:00</td><td> 4.1250000</td></tr>\n",
       "\t<tr><td>JFK</td><td>2013</td><td>1</td><td>1</td><td> 8</td><td>39.92</td><td>26.96</td><td>59.50</td><td>260</td><td>17.26170</td><td>      NA</td><td>0</td><td>1012.6</td><td>10</td><td>2013-01-01 08:00:00</td><td> 1.0869565</td></tr>\n",
       "\t<tr><td>JFK</td><td>2013</td><td>1</td><td>1</td><td> 9</td><td>39.92</td><td>26.96</td><td>59.50</td><td>260</td><td>16.11092</td><td>      NA</td><td>0</td><td>1013.0</td><td>10</td><td>2013-01-01 09:00:00</td><td> 3.6666667</td></tr>\n",
       "\t<tr><td>JFK</td><td>2013</td><td>1</td><td>1</td><td>10</td><td>41.00</td><td>28.04</td><td>59.65</td><td>260</td><td>16.11092</td><td>      NA</td><td>0</td><td>1012.8</td><td>10</td><td>2013-01-01 10:00:00</td><td>-2.0000000</td></tr>\n",
       "\t<tr><td>JFK</td><td>2013</td><td>1</td><td>1</td><td>11</td><td>41.00</td><td>26.96</td><td>57.06</td><td>270</td><td>14.96014</td><td>      NA</td><td>0</td><td>1011.7</td><td>10</td><td>2013-01-01 11:00:00</td><td> 8.3333333</td></tr>\n",
       "\t<tr><td>JFK</td><td>2013</td><td>1</td><td>1</td><td>13</td><td>37.94</td><td>26.60</td><td>64.70</td><td>340</td><td>14.96014</td><td>      NA</td><td>0</td><td>    NA</td><td>10</td><td>2013-01-01 13:00:00</td><td>25.9166667</td></tr>\n",
       "\t<tr><td>JFK</td><td>2013</td><td>1</td><td>1</td><td>14</td><td>39.02</td><td>24.08</td><td>54.68</td><td>310</td><td>11.50780</td><td>      NA</td><td>0</td><td>1011.2</td><td>10</td><td>2013-01-01 14:00:00</td><td> 9.1875000</td></tr>\n",
       "\t<tr><td>JFK</td><td>2013</td><td>1</td><td>1</td><td>15</td><td>39.02</td><td>23.00</td><td>52.26</td><td>290</td><td>12.65858</td><td>      NA</td><td>0</td><td>1011.7</td><td>10</td><td>2013-01-01 15:00:00</td><td> 6.2692308</td></tr>\n",
       "\t<tr><td>JFK</td><td>2013</td><td>1</td><td>1</td><td>16</td><td>37.94</td><td>17.96</td><td>44.00</td><td>320</td><td>17.26170</td><td>24.16638</td><td>0</td><td>1012.1</td><td>10</td><td>2013-01-01 16:00:00</td><td>10.6363636</td></tr>\n",
       "\t<tr><td>JFK</td><td>2013</td><td>1</td><td>1</td><td>17</td><td>37.04</td><td>17.06</td><td>43.85</td><td>330</td><td>16.11092</td><td>25.31716</td><td>0</td><td>1013.2</td><td>10</td><td>2013-01-01 17:00:00</td><td>29.5000000</td></tr>\n",
       "\t<tr><td>JFK</td><td>2013</td><td>1</td><td>1</td><td>18</td><td>35.06</td><td>14.00</td><td>41.51</td><td>310</td><td>14.96014</td><td>      NA</td><td>0</td><td>1014.2</td><td>10</td><td>2013-01-01 18:00:00</td><td>41.4230769</td></tr>\n",
       "\t<tr><td>JFK</td><td>2013</td><td>1</td><td>1</td><td>19</td><td>33.08</td><td>14.00</td><td>44.92</td><td>350</td><td>13.80936</td><td>24.16638</td><td>0</td><td>1014.3</td><td>10</td><td>2013-01-01 19:00:00</td><td>13.5909091</td></tr>\n",
       "\t<tr><td>JFK</td><td>2013</td><td>1</td><td>1</td><td>20</td><td>32.00</td><td>14.00</td><td>46.92</td><td>330</td><td>16.11092</td><td>      NA</td><td>0</td><td>1015.1</td><td>10</td><td>2013-01-01 20:00:00</td><td> 3.1764706</td></tr>\n",
       "\t<tr><td>JFK</td><td>2013</td><td>1</td><td>1</td><td>21</td><td>30.02</td><td>10.94</td><td>44.41</td><td>330</td><td>21.86482</td><td>29.92028</td><td>0</td><td>1015.3</td><td>10</td><td>2013-01-01 21:00:00</td><td>21.8333333</td></tr>\n",
       "\t<tr><td>JFK</td><td>2013</td><td>1</td><td>1</td><td>22</td><td>28.94</td><td>10.94</td><td>46.41</td><td>320</td><td>16.11092</td><td>      NA</td><td>0</td><td>1016.4</td><td>10</td><td>2013-01-01 22:00:00</td><td>10.4285714</td></tr>\n",
       "\t<tr><td>JFK</td><td>2013</td><td>1</td><td>1</td><td>23</td><td>26.96</td><td> 8.06</td><td>44.25</td><td>320</td><td>20.71404</td><td>35.67418</td><td>0</td><td>1016.5</td><td>10</td><td>2013-01-01 23:00:00</td><td>-5.0000000</td></tr>\n",
       "\t<tr><td>JFK</td><td>2013</td><td>1</td><td>2</td><td> 5</td><td>23.00</td><td> 8.96</td><td>54.34</td><td>350</td><td>11.50780</td><td>      NA</td><td>0</td><td>1017.1</td><td>10</td><td>2013-01-02 05:00:00</td><td>-5.5000000</td></tr>\n",
       "\t<tr><td>JFK</td><td>2013</td><td>1</td><td>2</td><td> 6</td><td>23.00</td><td> 8.96</td><td>54.34</td><td>340</td><td> 9.20624</td><td>      NA</td><td>0</td><td>1017.2</td><td>10</td><td>2013-01-02 06:00:00</td><td> 2.6111111</td></tr>\n",
       "\t<tr><td>JFK</td><td>2013</td><td>1</td><td>2</td><td> 7</td><td>23.00</td><td> 8.96</td><td>54.34</td><td>340</td><td>10.35702</td><td>      NA</td><td>0</td><td>1017.7</td><td>10</td><td>2013-01-02 07:00:00</td><td>-1.6842105</td></tr>\n",
       "\t<tr><td>JFK</td><td>2013</td><td>1</td><td>2</td><td> 8</td><td>24.98</td><td> 8.06</td><td>48.03</td><td>320</td><td>12.65858</td><td>      NA</td><td>0</td><td>1018.4</td><td>10</td><td>2013-01-02 08:00:00</td><td> 5.9677419</td></tr>\n",
       "\t<tr><td>JFK</td><td>2013</td><td>1</td><td>2</td><td> 9</td><td>26.96</td><td> 8.06</td><td>44.25</td><td>310</td><td>12.65858</td><td>      NA</td><td>0</td><td>1019.0</td><td>10</td><td>2013-01-02 09:00:00</td><td> 9.4736842</td></tr>\n",
       "\t<tr><td>JFK</td><td>2013</td><td>1</td><td>2</td><td>10</td><td>28.94</td><td> 8.96</td><td>42.48</td><td>300</td><td>13.80936</td><td>18.41248</td><td>0</td><td>1018.6</td><td>10</td><td>2013-01-02 10:00:00</td><td>36.0000000</td></tr>\n",
       "\t<tr><td>JFK</td><td>2013</td><td>1</td><td>2</td><td>11</td><td>30.02</td><td>10.04</td><td>42.66</td><td>300</td><td>20.71404</td><td>25.31716</td><td>0</td><td>1017.8</td><td>10</td><td>2013-01-02 11:00:00</td><td>-1.8000000</td></tr>\n",
       "\t<tr><td>JFK</td><td>2013</td><td>1</td><td>2</td><td>12</td><td>30.92</td><td>10.04</td><td>41.13</td><td>310</td><td>14.96014</td><td>24.16638</td><td>0</td><td>1016.6</td><td>10</td><td>2013-01-02 12:00:00</td><td> 4.4705882</td></tr>\n",
       "\t<tr><td>JFK</td><td>2013</td><td>1</td><td>2</td><td>13</td><td>33.08</td><td>10.94</td><td>39.25</td><td>310</td><td>16.11092</td><td>      NA</td><td>0</td><td>1017.2</td><td>10</td><td>2013-01-02 13:00:00</td><td>-0.6666667</td></tr>\n",
       "\t<tr><td>JFK</td><td>2013</td><td>1</td><td>2</td><td>14</td><td>35.06</td><td>10.94</td><td>36.26</td><td>300</td><td>13.80936</td><td>21.86482</td><td>0</td><td>1017.5</td><td>10</td><td>2013-01-02 14:00:00</td><td>14.5882353</td></tr>\n",
       "\t<tr><td>JFK</td><td>2013</td><td>1</td><td>2</td><td>15</td><td>33.98</td><td>10.04</td><td>36.37</td><td>320</td><td>19.56326</td><td>25.31716</td><td>0</td><td>1018.3</td><td>10</td><td>2013-01-02 15:00:00</td><td> 5.1481481</td></tr>\n",
       "\t<tr><td>JFK</td><td>2013</td><td>1</td><td>2</td><td>16</td><td>32.00</td><td>10.94</td><td>40.99</td><td>310</td><td>16.11092</td><td>      NA</td><td>0</td><td>1018.8</td><td>10</td><td>2013-01-02 16:00:00</td><td> 9.4615385</td></tr>\n",
       "\t<tr><td>⋮</td><td>⋮</td><td>⋮</td><td>⋮</td><td>⋮</td><td>⋮</td><td>⋮</td><td>⋮</td><td>⋮</td><td>⋮</td><td>⋮</td><td>⋮</td><td>⋮</td><td>⋮</td><td>⋮</td><td>⋮</td></tr>\n",
       "\t<tr><td>JFK</td><td>2013</td><td>12</td><td>29</td><td> 8</td><td>44.06</td><td>33.08</td><td>65.07</td><td>210</td><td> 5.75390</td><td>      NA</td><td>0.00</td><td>1017.4</td><td>10.0</td><td>2013-12-29 08:00:00</td><td>-2.0666667</td></tr>\n",
       "\t<tr><td>JFK</td><td>2013</td><td>12</td><td>29</td><td> 9</td><td>44.96</td><td>32.00</td><td>60.20</td><td>210</td><td> 5.75390</td><td>      NA</td><td>0.00</td><td>1017.0</td><td>10.0</td><td>2013-12-29 09:00:00</td><td> 0.6470588</td></tr>\n",
       "\t<tr><td>JFK</td><td>2013</td><td>12</td><td>29</td><td>10</td><td>44.96</td><td>37.04</td><td>73.59</td><td> 90</td><td> 3.45234</td><td>      NA</td><td>0.02</td><td>1014.0</td><td>10.0</td><td>2013-12-29 10:00:00</td><td> 4.7272727</td></tr>\n",
       "\t<tr><td>JFK</td><td>2013</td><td>12</td><td>29</td><td>11</td><td>44.06</td><td>37.94</td><td>78.91</td><td>100</td><td> 3.45234</td><td>      NA</td><td>0.02</td><td>1012.6</td><td> 7.0</td><td>2013-12-29 11:00:00</td><td> 3.5000000</td></tr>\n",
       "\t<tr><td>JFK</td><td>2013</td><td>12</td><td>29</td><td>12</td><td>42.98</td><td>39.92</td><td>88.85</td><td> 90</td><td> 8.05546</td><td>      NA</td><td>0.10</td><td>1009.8</td><td> 5.0</td><td>2013-12-29 12:00:00</td><td> 4.3571429</td></tr>\n",
       "\t<tr><td>JFK</td><td>2013</td><td>12</td><td>29</td><td>13</td><td>44.06</td><td>41.00</td><td>93.30</td><td> 80</td><td>11.50780</td><td>      NA</td><td>0.17</td><td>    NA</td><td> 5.0</td><td>2013-12-29 13:00:00</td><td>31.8750000</td></tr>\n",
       "\t<tr><td>JFK</td><td>2013</td><td>12</td><td>29</td><td>14</td><td>44.96</td><td>42.98</td><td>93.35</td><td> 80</td><td>16.11092</td><td>      NA</td><td>0.21</td><td>    NA</td><td> 2.5</td><td>2013-12-29 14:00:00</td><td>22.4117647</td></tr>\n",
       "\t<tr><td>JFK</td><td>2013</td><td>12</td><td>29</td><td>15</td><td>46.04</td><td>44.06</td><td>92.75</td><td> 80</td><td>18.41248</td><td>33.37262</td><td>0.34</td><td> 999.5</td><td> 2.5</td><td>2013-12-29 15:00:00</td><td>20.9000000</td></tr>\n",
       "\t<tr><td>JFK</td><td>2013</td><td>12</td><td>29</td><td>16</td><td>48.02</td><td>46.04</td><td>92.81</td><td> 90</td><td> 8.05546</td><td>      NA</td><td>0.27</td><td> 997.5</td><td> 2.0</td><td>2013-12-29 16:00:00</td><td>28.5000000</td></tr>\n",
       "\t<tr><td>JFK</td><td>2013</td><td>12</td><td>29</td><td>17</td><td>48.92</td><td>48.02</td><td>96.69</td><td> 60</td><td> 6.90468</td><td>      NA</td><td>0.05</td><td>    NA</td><td> 5.0</td><td>2013-12-29 17:00:00</td><td>75.2916667</td></tr>\n",
       "\t<tr><td>JFK</td><td>2013</td><td>12</td><td>29</td><td>18</td><td>46.40</td><td>44.60</td><td>93.40</td><td>320</td><td>18.41248</td><td>      NA</td><td>0.00</td><td>    NA</td><td> 5.0</td><td>2013-12-29 18:00:00</td><td>48.8636364</td></tr>\n",
       "\t<tr><td>JFK</td><td>2013</td><td>12</td><td>29</td><td>19</td><td>42.98</td><td>39.92</td><td>88.85</td><td>310</td><td>18.41248</td><td>      NA</td><td>0.00</td><td> 999.0</td><td> 9.0</td><td>2013-12-29 19:00:00</td><td>48.9130435</td></tr>\n",
       "\t<tr><td>JFK</td><td>2013</td><td>12</td><td>29</td><td>20</td><td>42.98</td><td>39.20</td><td>86.99</td><td>310</td><td>23.01560</td><td>28.76950</td><td>0.00</td><td>    NA</td><td>10.0</td><td>2013-12-29 20:00:00</td><td>46.0500000</td></tr>\n",
       "\t<tr><td>JFK</td><td>2013</td><td>12</td><td>29</td><td>21</td><td>44.60</td><td>39.20</td><td>86.99</td><td>310</td><td>19.56326</td><td>      NA</td><td>0.00</td><td>    NA</td><td>10.0</td><td>2013-12-29 21:00:00</td><td>40.3333333</td></tr>\n",
       "\t<tr><td>JFK</td><td>2013</td><td>12</td><td>29</td><td>22</td><td>44.06</td><td>37.94</td><td>78.91</td><td>270</td><td>10.35702</td><td>      NA</td><td>0.00</td><td>1004.2</td><td>10.0</td><td>2013-12-29 22:00:00</td><td>43.7777778</td></tr>\n",
       "\t<tr><td>JFK</td><td>2013</td><td>12</td><td>29</td><td>23</td><td>44.06</td><td>35.96</td><td>72.98</td><td>290</td><td>16.11092</td><td>25.31716</td><td>0.00</td><td>1005.3</td><td>10.0</td><td>2013-12-29 23:00:00</td><td> 0.0000000</td></tr>\n",
       "\t<tr><td>JFK</td><td>2013</td><td>12</td><td>30</td><td> 5</td><td>37.94</td><td>33.98</td><td>85.49</td><td>230</td><td>10.35702</td><td>      NA</td><td>0.00</td><td>1010.1</td><td>10.0</td><td>2013-12-30 05:00:00</td><td>71.5000000</td></tr>\n",
       "\t<tr><td>JFK</td><td>2013</td><td>12</td><td>30</td><td> 6</td><td>41.00</td><td>37.04</td><td>85.67</td><td>260</td><td> 9.20624</td><td>      NA</td><td>0.00</td><td>1011.4</td><td>10.0</td><td>2013-12-30 06:00:00</td><td>-1.8750000</td></tr>\n",
       "\t<tr><td>JFK</td><td>2013</td><td>12</td><td>30</td><td> 7</td><td>42.08</td><td>37.04</td><td>82.17</td><td>260</td><td> 9.20624</td><td>      NA</td><td>0.00</td><td>1012.4</td><td>10.0</td><td>2013-12-30 07:00:00</td><td> 3.8695652</td></tr>\n",
       "\t<tr><td>JFK</td><td>2013</td><td>12</td><td>30</td><td> 8</td><td>42.98</td><td>37.04</td><td>79.38</td><td>260</td><td>10.35702</td><td>      NA</td><td>0.00</td><td>1013.4</td><td>10.0</td><td>2013-12-30 08:00:00</td><td>-1.8666667</td></tr>\n",
       "\t<tr><td>JFK</td><td>2013</td><td>12</td><td>30</td><td> 9</td><td>46.04</td><td>35.96</td><td>67.69</td><td>280</td><td>12.65858</td><td>      NA</td><td>0.00</td><td>1014.2</td><td>10.0</td><td>2013-12-30 09:00:00</td><td> 4.6111111</td></tr>\n",
       "\t<tr><td>JFK</td><td>2013</td><td>12</td><td>30</td><td>10</td><td>46.94</td><td>35.06</td><td>63.13</td><td>270</td><td>16.11092</td><td>      NA</td><td>0.00</td><td>1014.6</td><td>10.0</td><td>2013-12-30 10:00:00</td><td> 7.1538462</td></tr>\n",
       "\t<tr><td>JFK</td><td>2013</td><td>12</td><td>30</td><td>11</td><td>42.98</td><td>30.92</td><td>62.16</td><td>330</td><td>18.41248</td><td>      NA</td><td>0.00</td><td>1014.9</td><td>10.0</td><td>2013-12-30 11:00:00</td><td>-2.4000000</td></tr>\n",
       "\t<tr><td>JFK</td><td>2013</td><td>12</td><td>30</td><td>12</td><td>39.92</td><td>26.06</td><td>57.33</td><td>320</td><td>17.26170</td><td>      NA</td><td>0.00</td><td>1015.5</td><td>10.0</td><td>2013-12-30 12:00:00</td><td> 1.0000000</td></tr>\n",
       "\t<tr><td>JFK</td><td>2013</td><td>12</td><td>30</td><td>13</td><td>39.02</td><td>23.00</td><td>52.26</td><td>330</td><td>17.26170</td><td>25.31716</td><td>0.00</td><td>1016.4</td><td>10.0</td><td>2013-12-30 13:00:00</td><td>16.4666667</td></tr>\n",
       "\t<tr><td>JFK</td><td>2013</td><td>12</td><td>30</td><td>14</td><td>37.94</td><td>21.02</td><td>50.14</td><td>330</td><td>16.11092</td><td>24.16638</td><td>0.00</td><td>1017.4</td><td>10.0</td><td>2013-12-30 14:00:00</td><td>10.0000000</td></tr>\n",
       "\t<tr><td>JFK</td><td>2013</td><td>12</td><td>30</td><td>15</td><td>35.96</td><td>17.96</td><td>47.57</td><td>340</td><td>17.26170</td><td>25.31716</td><td>0.00</td><td>1018.7</td><td>10.0</td><td>2013-12-30 15:00:00</td><td> 9.3157895</td></tr>\n",
       "\t<tr><td>JFK</td><td>2013</td><td>12</td><td>30</td><td>16</td><td>33.98</td><td>15.98</td><td>47.25</td><td>330</td><td>19.56326</td><td>27.61872</td><td>0.00</td><td>1019.5</td><td>10.0</td><td>2013-12-30 16:00:00</td><td> 8.5600000</td></tr>\n",
       "\t<tr><td>JFK</td><td>2013</td><td>12</td><td>30</td><td>17</td><td>32.00</td><td>12.92</td><td>44.74</td><td>320</td><td>13.80936</td><td>      NA</td><td>0.00</td><td>1020.1</td><td>10.0</td><td>2013-12-30 17:00:00</td><td>20.1200000</td></tr>\n",
       "\t<tr><td>JFK</td><td>2013</td><td>12</td><td>30</td><td>18</td><td>30.02</td><td>10.04</td><td>42.66</td><td>340</td><td>18.41248</td><td>      NA</td><td>0.00</td><td>1020.9</td><td>10.0</td><td>2013-12-30 18:00:00</td><td> 7.8636364</td></tr>\n",
       "</tbody>\n",
       "</table>\n"
      ],
      "text/latex": [
       "A tibble: 6895 × 16\n",
       "\\begin{tabular}{llllllllllllllll}\n",
       " origin & year & month & day & hour & temp & dewp & humid & wind\\_dir & wind\\_speed & wind\\_gust & precip & pressure & visib & time\\_hour & mean\\_delay\\\\\n",
       " <chr> & <int> & <int> & <int> & <dbl> & <dbl> & <dbl> & <dbl> & <dbl> & <dbl> & <dbl> & <dbl> & <dbl> & <dbl> & <dttm> & <dbl>\\\\\n",
       "\\hline\n",
       "\t JFK & 2013 & 1 & 1 &  5 & 39.02 & 26.96 & 61.63 & 260 & 14.96014 &       NA & 0 & 1012.1 & 10 & 2013-01-01 05:00:00 &  0.3333333\\\\\n",
       "\t JFK & 2013 & 1 & 1 &  6 & 37.94 & 26.96 & 64.29 & 260 & 13.80936 &       NA & 0 & 1012.6 & 10 & 2013-01-01 06:00:00 & -1.0625000\\\\\n",
       "\t JFK & 2013 & 1 & 1 &  7 & 39.02 & 28.04 & 64.43 & 260 & 13.80936 &       NA & 0 & 1012.5 & 10 & 2013-01-01 07:00:00 &  4.1250000\\\\\n",
       "\t JFK & 2013 & 1 & 1 &  8 & 39.92 & 26.96 & 59.50 & 260 & 17.26170 &       NA & 0 & 1012.6 & 10 & 2013-01-01 08:00:00 &  1.0869565\\\\\n",
       "\t JFK & 2013 & 1 & 1 &  9 & 39.92 & 26.96 & 59.50 & 260 & 16.11092 &       NA & 0 & 1013.0 & 10 & 2013-01-01 09:00:00 &  3.6666667\\\\\n",
       "\t JFK & 2013 & 1 & 1 & 10 & 41.00 & 28.04 & 59.65 & 260 & 16.11092 &       NA & 0 & 1012.8 & 10 & 2013-01-01 10:00:00 & -2.0000000\\\\\n",
       "\t JFK & 2013 & 1 & 1 & 11 & 41.00 & 26.96 & 57.06 & 270 & 14.96014 &       NA & 0 & 1011.7 & 10 & 2013-01-01 11:00:00 &  8.3333333\\\\\n",
       "\t JFK & 2013 & 1 & 1 & 13 & 37.94 & 26.60 & 64.70 & 340 & 14.96014 &       NA & 0 &     NA & 10 & 2013-01-01 13:00:00 & 25.9166667\\\\\n",
       "\t JFK & 2013 & 1 & 1 & 14 & 39.02 & 24.08 & 54.68 & 310 & 11.50780 &       NA & 0 & 1011.2 & 10 & 2013-01-01 14:00:00 &  9.1875000\\\\\n",
       "\t JFK & 2013 & 1 & 1 & 15 & 39.02 & 23.00 & 52.26 & 290 & 12.65858 &       NA & 0 & 1011.7 & 10 & 2013-01-01 15:00:00 &  6.2692308\\\\\n",
       "\t JFK & 2013 & 1 & 1 & 16 & 37.94 & 17.96 & 44.00 & 320 & 17.26170 & 24.16638 & 0 & 1012.1 & 10 & 2013-01-01 16:00:00 & 10.6363636\\\\\n",
       "\t JFK & 2013 & 1 & 1 & 17 & 37.04 & 17.06 & 43.85 & 330 & 16.11092 & 25.31716 & 0 & 1013.2 & 10 & 2013-01-01 17:00:00 & 29.5000000\\\\\n",
       "\t JFK & 2013 & 1 & 1 & 18 & 35.06 & 14.00 & 41.51 & 310 & 14.96014 &       NA & 0 & 1014.2 & 10 & 2013-01-01 18:00:00 & 41.4230769\\\\\n",
       "\t JFK & 2013 & 1 & 1 & 19 & 33.08 & 14.00 & 44.92 & 350 & 13.80936 & 24.16638 & 0 & 1014.3 & 10 & 2013-01-01 19:00:00 & 13.5909091\\\\\n",
       "\t JFK & 2013 & 1 & 1 & 20 & 32.00 & 14.00 & 46.92 & 330 & 16.11092 &       NA & 0 & 1015.1 & 10 & 2013-01-01 20:00:00 &  3.1764706\\\\\n",
       "\t JFK & 2013 & 1 & 1 & 21 & 30.02 & 10.94 & 44.41 & 330 & 21.86482 & 29.92028 & 0 & 1015.3 & 10 & 2013-01-01 21:00:00 & 21.8333333\\\\\n",
       "\t JFK & 2013 & 1 & 1 & 22 & 28.94 & 10.94 & 46.41 & 320 & 16.11092 &       NA & 0 & 1016.4 & 10 & 2013-01-01 22:00:00 & 10.4285714\\\\\n",
       "\t JFK & 2013 & 1 & 1 & 23 & 26.96 &  8.06 & 44.25 & 320 & 20.71404 & 35.67418 & 0 & 1016.5 & 10 & 2013-01-01 23:00:00 & -5.0000000\\\\\n",
       "\t JFK & 2013 & 1 & 2 &  5 & 23.00 &  8.96 & 54.34 & 350 & 11.50780 &       NA & 0 & 1017.1 & 10 & 2013-01-02 05:00:00 & -5.5000000\\\\\n",
       "\t JFK & 2013 & 1 & 2 &  6 & 23.00 &  8.96 & 54.34 & 340 &  9.20624 &       NA & 0 & 1017.2 & 10 & 2013-01-02 06:00:00 &  2.6111111\\\\\n",
       "\t JFK & 2013 & 1 & 2 &  7 & 23.00 &  8.96 & 54.34 & 340 & 10.35702 &       NA & 0 & 1017.7 & 10 & 2013-01-02 07:00:00 & -1.6842105\\\\\n",
       "\t JFK & 2013 & 1 & 2 &  8 & 24.98 &  8.06 & 48.03 & 320 & 12.65858 &       NA & 0 & 1018.4 & 10 & 2013-01-02 08:00:00 &  5.9677419\\\\\n",
       "\t JFK & 2013 & 1 & 2 &  9 & 26.96 &  8.06 & 44.25 & 310 & 12.65858 &       NA & 0 & 1019.0 & 10 & 2013-01-02 09:00:00 &  9.4736842\\\\\n",
       "\t JFK & 2013 & 1 & 2 & 10 & 28.94 &  8.96 & 42.48 & 300 & 13.80936 & 18.41248 & 0 & 1018.6 & 10 & 2013-01-02 10:00:00 & 36.0000000\\\\\n",
       "\t JFK & 2013 & 1 & 2 & 11 & 30.02 & 10.04 & 42.66 & 300 & 20.71404 & 25.31716 & 0 & 1017.8 & 10 & 2013-01-02 11:00:00 & -1.8000000\\\\\n",
       "\t JFK & 2013 & 1 & 2 & 12 & 30.92 & 10.04 & 41.13 & 310 & 14.96014 & 24.16638 & 0 & 1016.6 & 10 & 2013-01-02 12:00:00 &  4.4705882\\\\\n",
       "\t JFK & 2013 & 1 & 2 & 13 & 33.08 & 10.94 & 39.25 & 310 & 16.11092 &       NA & 0 & 1017.2 & 10 & 2013-01-02 13:00:00 & -0.6666667\\\\\n",
       "\t JFK & 2013 & 1 & 2 & 14 & 35.06 & 10.94 & 36.26 & 300 & 13.80936 & 21.86482 & 0 & 1017.5 & 10 & 2013-01-02 14:00:00 & 14.5882353\\\\\n",
       "\t JFK & 2013 & 1 & 2 & 15 & 33.98 & 10.04 & 36.37 & 320 & 19.56326 & 25.31716 & 0 & 1018.3 & 10 & 2013-01-02 15:00:00 &  5.1481481\\\\\n",
       "\t JFK & 2013 & 1 & 2 & 16 & 32.00 & 10.94 & 40.99 & 310 & 16.11092 &       NA & 0 & 1018.8 & 10 & 2013-01-02 16:00:00 &  9.4615385\\\\\n",
       "\t ⋮ & ⋮ & ⋮ & ⋮ & ⋮ & ⋮ & ⋮ & ⋮ & ⋮ & ⋮ & ⋮ & ⋮ & ⋮ & ⋮ & ⋮ & ⋮\\\\\n",
       "\t JFK & 2013 & 12 & 29 &  8 & 44.06 & 33.08 & 65.07 & 210 &  5.75390 &       NA & 0.00 & 1017.4 & 10.0 & 2013-12-29 08:00:00 & -2.0666667\\\\\n",
       "\t JFK & 2013 & 12 & 29 &  9 & 44.96 & 32.00 & 60.20 & 210 &  5.75390 &       NA & 0.00 & 1017.0 & 10.0 & 2013-12-29 09:00:00 &  0.6470588\\\\\n",
       "\t JFK & 2013 & 12 & 29 & 10 & 44.96 & 37.04 & 73.59 &  90 &  3.45234 &       NA & 0.02 & 1014.0 & 10.0 & 2013-12-29 10:00:00 &  4.7272727\\\\\n",
       "\t JFK & 2013 & 12 & 29 & 11 & 44.06 & 37.94 & 78.91 & 100 &  3.45234 &       NA & 0.02 & 1012.6 &  7.0 & 2013-12-29 11:00:00 &  3.5000000\\\\\n",
       "\t JFK & 2013 & 12 & 29 & 12 & 42.98 & 39.92 & 88.85 &  90 &  8.05546 &       NA & 0.10 & 1009.8 &  5.0 & 2013-12-29 12:00:00 &  4.3571429\\\\\n",
       "\t JFK & 2013 & 12 & 29 & 13 & 44.06 & 41.00 & 93.30 &  80 & 11.50780 &       NA & 0.17 &     NA &  5.0 & 2013-12-29 13:00:00 & 31.8750000\\\\\n",
       "\t JFK & 2013 & 12 & 29 & 14 & 44.96 & 42.98 & 93.35 &  80 & 16.11092 &       NA & 0.21 &     NA &  2.5 & 2013-12-29 14:00:00 & 22.4117647\\\\\n",
       "\t JFK & 2013 & 12 & 29 & 15 & 46.04 & 44.06 & 92.75 &  80 & 18.41248 & 33.37262 & 0.34 &  999.5 &  2.5 & 2013-12-29 15:00:00 & 20.9000000\\\\\n",
       "\t JFK & 2013 & 12 & 29 & 16 & 48.02 & 46.04 & 92.81 &  90 &  8.05546 &       NA & 0.27 &  997.5 &  2.0 & 2013-12-29 16:00:00 & 28.5000000\\\\\n",
       "\t JFK & 2013 & 12 & 29 & 17 & 48.92 & 48.02 & 96.69 &  60 &  6.90468 &       NA & 0.05 &     NA &  5.0 & 2013-12-29 17:00:00 & 75.2916667\\\\\n",
       "\t JFK & 2013 & 12 & 29 & 18 & 46.40 & 44.60 & 93.40 & 320 & 18.41248 &       NA & 0.00 &     NA &  5.0 & 2013-12-29 18:00:00 & 48.8636364\\\\\n",
       "\t JFK & 2013 & 12 & 29 & 19 & 42.98 & 39.92 & 88.85 & 310 & 18.41248 &       NA & 0.00 &  999.0 &  9.0 & 2013-12-29 19:00:00 & 48.9130435\\\\\n",
       "\t JFK & 2013 & 12 & 29 & 20 & 42.98 & 39.20 & 86.99 & 310 & 23.01560 & 28.76950 & 0.00 &     NA & 10.0 & 2013-12-29 20:00:00 & 46.0500000\\\\\n",
       "\t JFK & 2013 & 12 & 29 & 21 & 44.60 & 39.20 & 86.99 & 310 & 19.56326 &       NA & 0.00 &     NA & 10.0 & 2013-12-29 21:00:00 & 40.3333333\\\\\n",
       "\t JFK & 2013 & 12 & 29 & 22 & 44.06 & 37.94 & 78.91 & 270 & 10.35702 &       NA & 0.00 & 1004.2 & 10.0 & 2013-12-29 22:00:00 & 43.7777778\\\\\n",
       "\t JFK & 2013 & 12 & 29 & 23 & 44.06 & 35.96 & 72.98 & 290 & 16.11092 & 25.31716 & 0.00 & 1005.3 & 10.0 & 2013-12-29 23:00:00 &  0.0000000\\\\\n",
       "\t JFK & 2013 & 12 & 30 &  5 & 37.94 & 33.98 & 85.49 & 230 & 10.35702 &       NA & 0.00 & 1010.1 & 10.0 & 2013-12-30 05:00:00 & 71.5000000\\\\\n",
       "\t JFK & 2013 & 12 & 30 &  6 & 41.00 & 37.04 & 85.67 & 260 &  9.20624 &       NA & 0.00 & 1011.4 & 10.0 & 2013-12-30 06:00:00 & -1.8750000\\\\\n",
       "\t JFK & 2013 & 12 & 30 &  7 & 42.08 & 37.04 & 82.17 & 260 &  9.20624 &       NA & 0.00 & 1012.4 & 10.0 & 2013-12-30 07:00:00 &  3.8695652\\\\\n",
       "\t JFK & 2013 & 12 & 30 &  8 & 42.98 & 37.04 & 79.38 & 260 & 10.35702 &       NA & 0.00 & 1013.4 & 10.0 & 2013-12-30 08:00:00 & -1.8666667\\\\\n",
       "\t JFK & 2013 & 12 & 30 &  9 & 46.04 & 35.96 & 67.69 & 280 & 12.65858 &       NA & 0.00 & 1014.2 & 10.0 & 2013-12-30 09:00:00 &  4.6111111\\\\\n",
       "\t JFK & 2013 & 12 & 30 & 10 & 46.94 & 35.06 & 63.13 & 270 & 16.11092 &       NA & 0.00 & 1014.6 & 10.0 & 2013-12-30 10:00:00 &  7.1538462\\\\\n",
       "\t JFK & 2013 & 12 & 30 & 11 & 42.98 & 30.92 & 62.16 & 330 & 18.41248 &       NA & 0.00 & 1014.9 & 10.0 & 2013-12-30 11:00:00 & -2.4000000\\\\\n",
       "\t JFK & 2013 & 12 & 30 & 12 & 39.92 & 26.06 & 57.33 & 320 & 17.26170 &       NA & 0.00 & 1015.5 & 10.0 & 2013-12-30 12:00:00 &  1.0000000\\\\\n",
       "\t JFK & 2013 & 12 & 30 & 13 & 39.02 & 23.00 & 52.26 & 330 & 17.26170 & 25.31716 & 0.00 & 1016.4 & 10.0 & 2013-12-30 13:00:00 & 16.4666667\\\\\n",
       "\t JFK & 2013 & 12 & 30 & 14 & 37.94 & 21.02 & 50.14 & 330 & 16.11092 & 24.16638 & 0.00 & 1017.4 & 10.0 & 2013-12-30 14:00:00 & 10.0000000\\\\\n",
       "\t JFK & 2013 & 12 & 30 & 15 & 35.96 & 17.96 & 47.57 & 340 & 17.26170 & 25.31716 & 0.00 & 1018.7 & 10.0 & 2013-12-30 15:00:00 &  9.3157895\\\\\n",
       "\t JFK & 2013 & 12 & 30 & 16 & 33.98 & 15.98 & 47.25 & 330 & 19.56326 & 27.61872 & 0.00 & 1019.5 & 10.0 & 2013-12-30 16:00:00 &  8.5600000\\\\\n",
       "\t JFK & 2013 & 12 & 30 & 17 & 32.00 & 12.92 & 44.74 & 320 & 13.80936 &       NA & 0.00 & 1020.1 & 10.0 & 2013-12-30 17:00:00 & 20.1200000\\\\\n",
       "\t JFK & 2013 & 12 & 30 & 18 & 30.02 & 10.04 & 42.66 & 340 & 18.41248 &       NA & 0.00 & 1020.9 & 10.0 & 2013-12-30 18:00:00 &  7.8636364\\\\\n",
       "\\end{tabular}\n"
      ],
      "text/markdown": [
       "\n",
       "A tibble: 6895 × 16\n",
       "\n",
       "| origin &lt;chr&gt; | year &lt;int&gt; | month &lt;int&gt; | day &lt;int&gt; | hour &lt;dbl&gt; | temp &lt;dbl&gt; | dewp &lt;dbl&gt; | humid &lt;dbl&gt; | wind_dir &lt;dbl&gt; | wind_speed &lt;dbl&gt; | wind_gust &lt;dbl&gt; | precip &lt;dbl&gt; | pressure &lt;dbl&gt; | visib &lt;dbl&gt; | time_hour &lt;dttm&gt; | mean_delay &lt;dbl&gt; |\n",
       "|---|---|---|---|---|---|---|---|---|---|---|---|---|---|---|---|\n",
       "| JFK | 2013 | 1 | 1 |  5 | 39.02 | 26.96 | 61.63 | 260 | 14.96014 |       NA | 0 | 1012.1 | 10 | 2013-01-01 05:00:00 |  0.3333333 |\n",
       "| JFK | 2013 | 1 | 1 |  6 | 37.94 | 26.96 | 64.29 | 260 | 13.80936 |       NA | 0 | 1012.6 | 10 | 2013-01-01 06:00:00 | -1.0625000 |\n",
       "| JFK | 2013 | 1 | 1 |  7 | 39.02 | 28.04 | 64.43 | 260 | 13.80936 |       NA | 0 | 1012.5 | 10 | 2013-01-01 07:00:00 |  4.1250000 |\n",
       "| JFK | 2013 | 1 | 1 |  8 | 39.92 | 26.96 | 59.50 | 260 | 17.26170 |       NA | 0 | 1012.6 | 10 | 2013-01-01 08:00:00 |  1.0869565 |\n",
       "| JFK | 2013 | 1 | 1 |  9 | 39.92 | 26.96 | 59.50 | 260 | 16.11092 |       NA | 0 | 1013.0 | 10 | 2013-01-01 09:00:00 |  3.6666667 |\n",
       "| JFK | 2013 | 1 | 1 | 10 | 41.00 | 28.04 | 59.65 | 260 | 16.11092 |       NA | 0 | 1012.8 | 10 | 2013-01-01 10:00:00 | -2.0000000 |\n",
       "| JFK | 2013 | 1 | 1 | 11 | 41.00 | 26.96 | 57.06 | 270 | 14.96014 |       NA | 0 | 1011.7 | 10 | 2013-01-01 11:00:00 |  8.3333333 |\n",
       "| JFK | 2013 | 1 | 1 | 13 | 37.94 | 26.60 | 64.70 | 340 | 14.96014 |       NA | 0 |     NA | 10 | 2013-01-01 13:00:00 | 25.9166667 |\n",
       "| JFK | 2013 | 1 | 1 | 14 | 39.02 | 24.08 | 54.68 | 310 | 11.50780 |       NA | 0 | 1011.2 | 10 | 2013-01-01 14:00:00 |  9.1875000 |\n",
       "| JFK | 2013 | 1 | 1 | 15 | 39.02 | 23.00 | 52.26 | 290 | 12.65858 |       NA | 0 | 1011.7 | 10 | 2013-01-01 15:00:00 |  6.2692308 |\n",
       "| JFK | 2013 | 1 | 1 | 16 | 37.94 | 17.96 | 44.00 | 320 | 17.26170 | 24.16638 | 0 | 1012.1 | 10 | 2013-01-01 16:00:00 | 10.6363636 |\n",
       "| JFK | 2013 | 1 | 1 | 17 | 37.04 | 17.06 | 43.85 | 330 | 16.11092 | 25.31716 | 0 | 1013.2 | 10 | 2013-01-01 17:00:00 | 29.5000000 |\n",
       "| JFK | 2013 | 1 | 1 | 18 | 35.06 | 14.00 | 41.51 | 310 | 14.96014 |       NA | 0 | 1014.2 | 10 | 2013-01-01 18:00:00 | 41.4230769 |\n",
       "| JFK | 2013 | 1 | 1 | 19 | 33.08 | 14.00 | 44.92 | 350 | 13.80936 | 24.16638 | 0 | 1014.3 | 10 | 2013-01-01 19:00:00 | 13.5909091 |\n",
       "| JFK | 2013 | 1 | 1 | 20 | 32.00 | 14.00 | 46.92 | 330 | 16.11092 |       NA | 0 | 1015.1 | 10 | 2013-01-01 20:00:00 |  3.1764706 |\n",
       "| JFK | 2013 | 1 | 1 | 21 | 30.02 | 10.94 | 44.41 | 330 | 21.86482 | 29.92028 | 0 | 1015.3 | 10 | 2013-01-01 21:00:00 | 21.8333333 |\n",
       "| JFK | 2013 | 1 | 1 | 22 | 28.94 | 10.94 | 46.41 | 320 | 16.11092 |       NA | 0 | 1016.4 | 10 | 2013-01-01 22:00:00 | 10.4285714 |\n",
       "| JFK | 2013 | 1 | 1 | 23 | 26.96 |  8.06 | 44.25 | 320 | 20.71404 | 35.67418 | 0 | 1016.5 | 10 | 2013-01-01 23:00:00 | -5.0000000 |\n",
       "| JFK | 2013 | 1 | 2 |  5 | 23.00 |  8.96 | 54.34 | 350 | 11.50780 |       NA | 0 | 1017.1 | 10 | 2013-01-02 05:00:00 | -5.5000000 |\n",
       "| JFK | 2013 | 1 | 2 |  6 | 23.00 |  8.96 | 54.34 | 340 |  9.20624 |       NA | 0 | 1017.2 | 10 | 2013-01-02 06:00:00 |  2.6111111 |\n",
       "| JFK | 2013 | 1 | 2 |  7 | 23.00 |  8.96 | 54.34 | 340 | 10.35702 |       NA | 0 | 1017.7 | 10 | 2013-01-02 07:00:00 | -1.6842105 |\n",
       "| JFK | 2013 | 1 | 2 |  8 | 24.98 |  8.06 | 48.03 | 320 | 12.65858 |       NA | 0 | 1018.4 | 10 | 2013-01-02 08:00:00 |  5.9677419 |\n",
       "| JFK | 2013 | 1 | 2 |  9 | 26.96 |  8.06 | 44.25 | 310 | 12.65858 |       NA | 0 | 1019.0 | 10 | 2013-01-02 09:00:00 |  9.4736842 |\n",
       "| JFK | 2013 | 1 | 2 | 10 | 28.94 |  8.96 | 42.48 | 300 | 13.80936 | 18.41248 | 0 | 1018.6 | 10 | 2013-01-02 10:00:00 | 36.0000000 |\n",
       "| JFK | 2013 | 1 | 2 | 11 | 30.02 | 10.04 | 42.66 | 300 | 20.71404 | 25.31716 | 0 | 1017.8 | 10 | 2013-01-02 11:00:00 | -1.8000000 |\n",
       "| JFK | 2013 | 1 | 2 | 12 | 30.92 | 10.04 | 41.13 | 310 | 14.96014 | 24.16638 | 0 | 1016.6 | 10 | 2013-01-02 12:00:00 |  4.4705882 |\n",
       "| JFK | 2013 | 1 | 2 | 13 | 33.08 | 10.94 | 39.25 | 310 | 16.11092 |       NA | 0 | 1017.2 | 10 | 2013-01-02 13:00:00 | -0.6666667 |\n",
       "| JFK | 2013 | 1 | 2 | 14 | 35.06 | 10.94 | 36.26 | 300 | 13.80936 | 21.86482 | 0 | 1017.5 | 10 | 2013-01-02 14:00:00 | 14.5882353 |\n",
       "| JFK | 2013 | 1 | 2 | 15 | 33.98 | 10.04 | 36.37 | 320 | 19.56326 | 25.31716 | 0 | 1018.3 | 10 | 2013-01-02 15:00:00 |  5.1481481 |\n",
       "| JFK | 2013 | 1 | 2 | 16 | 32.00 | 10.94 | 40.99 | 310 | 16.11092 |       NA | 0 | 1018.8 | 10 | 2013-01-02 16:00:00 |  9.4615385 |\n",
       "| ⋮ | ⋮ | ⋮ | ⋮ | ⋮ | ⋮ | ⋮ | ⋮ | ⋮ | ⋮ | ⋮ | ⋮ | ⋮ | ⋮ | ⋮ | ⋮ |\n",
       "| JFK | 2013 | 12 | 29 |  8 | 44.06 | 33.08 | 65.07 | 210 |  5.75390 |       NA | 0.00 | 1017.4 | 10.0 | 2013-12-29 08:00:00 | -2.0666667 |\n",
       "| JFK | 2013 | 12 | 29 |  9 | 44.96 | 32.00 | 60.20 | 210 |  5.75390 |       NA | 0.00 | 1017.0 | 10.0 | 2013-12-29 09:00:00 |  0.6470588 |\n",
       "| JFK | 2013 | 12 | 29 | 10 | 44.96 | 37.04 | 73.59 |  90 |  3.45234 |       NA | 0.02 | 1014.0 | 10.0 | 2013-12-29 10:00:00 |  4.7272727 |\n",
       "| JFK | 2013 | 12 | 29 | 11 | 44.06 | 37.94 | 78.91 | 100 |  3.45234 |       NA | 0.02 | 1012.6 |  7.0 | 2013-12-29 11:00:00 |  3.5000000 |\n",
       "| JFK | 2013 | 12 | 29 | 12 | 42.98 | 39.92 | 88.85 |  90 |  8.05546 |       NA | 0.10 | 1009.8 |  5.0 | 2013-12-29 12:00:00 |  4.3571429 |\n",
       "| JFK | 2013 | 12 | 29 | 13 | 44.06 | 41.00 | 93.30 |  80 | 11.50780 |       NA | 0.17 |     NA |  5.0 | 2013-12-29 13:00:00 | 31.8750000 |\n",
       "| JFK | 2013 | 12 | 29 | 14 | 44.96 | 42.98 | 93.35 |  80 | 16.11092 |       NA | 0.21 |     NA |  2.5 | 2013-12-29 14:00:00 | 22.4117647 |\n",
       "| JFK | 2013 | 12 | 29 | 15 | 46.04 | 44.06 | 92.75 |  80 | 18.41248 | 33.37262 | 0.34 |  999.5 |  2.5 | 2013-12-29 15:00:00 | 20.9000000 |\n",
       "| JFK | 2013 | 12 | 29 | 16 | 48.02 | 46.04 | 92.81 |  90 |  8.05546 |       NA | 0.27 |  997.5 |  2.0 | 2013-12-29 16:00:00 | 28.5000000 |\n",
       "| JFK | 2013 | 12 | 29 | 17 | 48.92 | 48.02 | 96.69 |  60 |  6.90468 |       NA | 0.05 |     NA |  5.0 | 2013-12-29 17:00:00 | 75.2916667 |\n",
       "| JFK | 2013 | 12 | 29 | 18 | 46.40 | 44.60 | 93.40 | 320 | 18.41248 |       NA | 0.00 |     NA |  5.0 | 2013-12-29 18:00:00 | 48.8636364 |\n",
       "| JFK | 2013 | 12 | 29 | 19 | 42.98 | 39.92 | 88.85 | 310 | 18.41248 |       NA | 0.00 |  999.0 |  9.0 | 2013-12-29 19:00:00 | 48.9130435 |\n",
       "| JFK | 2013 | 12 | 29 | 20 | 42.98 | 39.20 | 86.99 | 310 | 23.01560 | 28.76950 | 0.00 |     NA | 10.0 | 2013-12-29 20:00:00 | 46.0500000 |\n",
       "| JFK | 2013 | 12 | 29 | 21 | 44.60 | 39.20 | 86.99 | 310 | 19.56326 |       NA | 0.00 |     NA | 10.0 | 2013-12-29 21:00:00 | 40.3333333 |\n",
       "| JFK | 2013 | 12 | 29 | 22 | 44.06 | 37.94 | 78.91 | 270 | 10.35702 |       NA | 0.00 | 1004.2 | 10.0 | 2013-12-29 22:00:00 | 43.7777778 |\n",
       "| JFK | 2013 | 12 | 29 | 23 | 44.06 | 35.96 | 72.98 | 290 | 16.11092 | 25.31716 | 0.00 | 1005.3 | 10.0 | 2013-12-29 23:00:00 |  0.0000000 |\n",
       "| JFK | 2013 | 12 | 30 |  5 | 37.94 | 33.98 | 85.49 | 230 | 10.35702 |       NA | 0.00 | 1010.1 | 10.0 | 2013-12-30 05:00:00 | 71.5000000 |\n",
       "| JFK | 2013 | 12 | 30 |  6 | 41.00 | 37.04 | 85.67 | 260 |  9.20624 |       NA | 0.00 | 1011.4 | 10.0 | 2013-12-30 06:00:00 | -1.8750000 |\n",
       "| JFK | 2013 | 12 | 30 |  7 | 42.08 | 37.04 | 82.17 | 260 |  9.20624 |       NA | 0.00 | 1012.4 | 10.0 | 2013-12-30 07:00:00 |  3.8695652 |\n",
       "| JFK | 2013 | 12 | 30 |  8 | 42.98 | 37.04 | 79.38 | 260 | 10.35702 |       NA | 0.00 | 1013.4 | 10.0 | 2013-12-30 08:00:00 | -1.8666667 |\n",
       "| JFK | 2013 | 12 | 30 |  9 | 46.04 | 35.96 | 67.69 | 280 | 12.65858 |       NA | 0.00 | 1014.2 | 10.0 | 2013-12-30 09:00:00 |  4.6111111 |\n",
       "| JFK | 2013 | 12 | 30 | 10 | 46.94 | 35.06 | 63.13 | 270 | 16.11092 |       NA | 0.00 | 1014.6 | 10.0 | 2013-12-30 10:00:00 |  7.1538462 |\n",
       "| JFK | 2013 | 12 | 30 | 11 | 42.98 | 30.92 | 62.16 | 330 | 18.41248 |       NA | 0.00 | 1014.9 | 10.0 | 2013-12-30 11:00:00 | -2.4000000 |\n",
       "| JFK | 2013 | 12 | 30 | 12 | 39.92 | 26.06 | 57.33 | 320 | 17.26170 |       NA | 0.00 | 1015.5 | 10.0 | 2013-12-30 12:00:00 |  1.0000000 |\n",
       "| JFK | 2013 | 12 | 30 | 13 | 39.02 | 23.00 | 52.26 | 330 | 17.26170 | 25.31716 | 0.00 | 1016.4 | 10.0 | 2013-12-30 13:00:00 | 16.4666667 |\n",
       "| JFK | 2013 | 12 | 30 | 14 | 37.94 | 21.02 | 50.14 | 330 | 16.11092 | 24.16638 | 0.00 | 1017.4 | 10.0 | 2013-12-30 14:00:00 | 10.0000000 |\n",
       "| JFK | 2013 | 12 | 30 | 15 | 35.96 | 17.96 | 47.57 | 340 | 17.26170 | 25.31716 | 0.00 | 1018.7 | 10.0 | 2013-12-30 15:00:00 |  9.3157895 |\n",
       "| JFK | 2013 | 12 | 30 | 16 | 33.98 | 15.98 | 47.25 | 330 | 19.56326 | 27.61872 | 0.00 | 1019.5 | 10.0 | 2013-12-30 16:00:00 |  8.5600000 |\n",
       "| JFK | 2013 | 12 | 30 | 17 | 32.00 | 12.92 | 44.74 | 320 | 13.80936 |       NA | 0.00 | 1020.1 | 10.0 | 2013-12-30 17:00:00 | 20.1200000 |\n",
       "| JFK | 2013 | 12 | 30 | 18 | 30.02 | 10.04 | 42.66 | 340 | 18.41248 |       NA | 0.00 | 1020.9 | 10.0 | 2013-12-30 18:00:00 |  7.8636364 |\n",
       "\n"
      ],
      "text/plain": [
       "     origin year month day hour temp  dewp  humid wind_dir wind_speed wind_gust\n",
       "1    JFK    2013 1     1    5   39.02 26.96 61.63 260      14.96014         NA \n",
       "2    JFK    2013 1     1    6   37.94 26.96 64.29 260      13.80936         NA \n",
       "3    JFK    2013 1     1    7   39.02 28.04 64.43 260      13.80936         NA \n",
       "4    JFK    2013 1     1    8   39.92 26.96 59.50 260      17.26170         NA \n",
       "5    JFK    2013 1     1    9   39.92 26.96 59.50 260      16.11092         NA \n",
       "6    JFK    2013 1     1   10   41.00 28.04 59.65 260      16.11092         NA \n",
       "7    JFK    2013 1     1   11   41.00 26.96 57.06 270      14.96014         NA \n",
       "8    JFK    2013 1     1   13   37.94 26.60 64.70 340      14.96014         NA \n",
       "9    JFK    2013 1     1   14   39.02 24.08 54.68 310      11.50780         NA \n",
       "10   JFK    2013 1     1   15   39.02 23.00 52.26 290      12.65858         NA \n",
       "11   JFK    2013 1     1   16   37.94 17.96 44.00 320      17.26170   24.16638 \n",
       "12   JFK    2013 1     1   17   37.04 17.06 43.85 330      16.11092   25.31716 \n",
       "13   JFK    2013 1     1   18   35.06 14.00 41.51 310      14.96014         NA \n",
       "14   JFK    2013 1     1   19   33.08 14.00 44.92 350      13.80936   24.16638 \n",
       "15   JFK    2013 1     1   20   32.00 14.00 46.92 330      16.11092         NA \n",
       "16   JFK    2013 1     1   21   30.02 10.94 44.41 330      21.86482   29.92028 \n",
       "17   JFK    2013 1     1   22   28.94 10.94 46.41 320      16.11092         NA \n",
       "18   JFK    2013 1     1   23   26.96  8.06 44.25 320      20.71404   35.67418 \n",
       "19   JFK    2013 1     2    5   23.00  8.96 54.34 350      11.50780         NA \n",
       "20   JFK    2013 1     2    6   23.00  8.96 54.34 340       9.20624         NA \n",
       "21   JFK    2013 1     2    7   23.00  8.96 54.34 340      10.35702         NA \n",
       "22   JFK    2013 1     2    8   24.98  8.06 48.03 320      12.65858         NA \n",
       "23   JFK    2013 1     2    9   26.96  8.06 44.25 310      12.65858         NA \n",
       "24   JFK    2013 1     2   10   28.94  8.96 42.48 300      13.80936   18.41248 \n",
       "25   JFK    2013 1     2   11   30.02 10.04 42.66 300      20.71404   25.31716 \n",
       "26   JFK    2013 1     2   12   30.92 10.04 41.13 310      14.96014   24.16638 \n",
       "27   JFK    2013 1     2   13   33.08 10.94 39.25 310      16.11092         NA \n",
       "28   JFK    2013 1     2   14   35.06 10.94 36.26 300      13.80936   21.86482 \n",
       "29   JFK    2013 1     2   15   33.98 10.04 36.37 320      19.56326   25.31716 \n",
       "30   JFK    2013 1     2   16   32.00 10.94 40.99 310      16.11092         NA \n",
       "⋮    ⋮      ⋮    ⋮     ⋮   ⋮    ⋮     ⋮     ⋮     ⋮        ⋮          ⋮        \n",
       "6866 JFK    2013 12    29   8   44.06 33.08 65.07 210       5.75390         NA \n",
       "6867 JFK    2013 12    29   9   44.96 32.00 60.20 210       5.75390         NA \n",
       "6868 JFK    2013 12    29  10   44.96 37.04 73.59  90       3.45234         NA \n",
       "6869 JFK    2013 12    29  11   44.06 37.94 78.91 100       3.45234         NA \n",
       "6870 JFK    2013 12    29  12   42.98 39.92 88.85  90       8.05546         NA \n",
       "6871 JFK    2013 12    29  13   44.06 41.00 93.30  80      11.50780         NA \n",
       "6872 JFK    2013 12    29  14   44.96 42.98 93.35  80      16.11092         NA \n",
       "6873 JFK    2013 12    29  15   46.04 44.06 92.75  80      18.41248   33.37262 \n",
       "6874 JFK    2013 12    29  16   48.02 46.04 92.81  90       8.05546         NA \n",
       "6875 JFK    2013 12    29  17   48.92 48.02 96.69  60       6.90468         NA \n",
       "6876 JFK    2013 12    29  18   46.40 44.60 93.40 320      18.41248         NA \n",
       "6877 JFK    2013 12    29  19   42.98 39.92 88.85 310      18.41248         NA \n",
       "6878 JFK    2013 12    29  20   42.98 39.20 86.99 310      23.01560   28.76950 \n",
       "6879 JFK    2013 12    29  21   44.60 39.20 86.99 310      19.56326         NA \n",
       "6880 JFK    2013 12    29  22   44.06 37.94 78.91 270      10.35702         NA \n",
       "6881 JFK    2013 12    29  23   44.06 35.96 72.98 290      16.11092   25.31716 \n",
       "6882 JFK    2013 12    30   5   37.94 33.98 85.49 230      10.35702         NA \n",
       "6883 JFK    2013 12    30   6   41.00 37.04 85.67 260       9.20624         NA \n",
       "6884 JFK    2013 12    30   7   42.08 37.04 82.17 260       9.20624         NA \n",
       "6885 JFK    2013 12    30   8   42.98 37.04 79.38 260      10.35702         NA \n",
       "6886 JFK    2013 12    30   9   46.04 35.96 67.69 280      12.65858         NA \n",
       "6887 JFK    2013 12    30  10   46.94 35.06 63.13 270      16.11092         NA \n",
       "6888 JFK    2013 12    30  11   42.98 30.92 62.16 330      18.41248         NA \n",
       "6889 JFK    2013 12    30  12   39.92 26.06 57.33 320      17.26170         NA \n",
       "6890 JFK    2013 12    30  13   39.02 23.00 52.26 330      17.26170   25.31716 \n",
       "6891 JFK    2013 12    30  14   37.94 21.02 50.14 330      16.11092   24.16638 \n",
       "6892 JFK    2013 12    30  15   35.96 17.96 47.57 340      17.26170   25.31716 \n",
       "6893 JFK    2013 12    30  16   33.98 15.98 47.25 330      19.56326   27.61872 \n",
       "6894 JFK    2013 12    30  17   32.00 12.92 44.74 320      13.80936         NA \n",
       "6895 JFK    2013 12    30  18   30.02 10.04 42.66 340      18.41248         NA \n",
       "     precip pressure visib time_hour           mean_delay\n",
       "1    0      1012.1   10    2013-01-01 05:00:00  0.3333333\n",
       "2    0      1012.6   10    2013-01-01 06:00:00 -1.0625000\n",
       "3    0      1012.5   10    2013-01-01 07:00:00  4.1250000\n",
       "4    0      1012.6   10    2013-01-01 08:00:00  1.0869565\n",
       "5    0      1013.0   10    2013-01-01 09:00:00  3.6666667\n",
       "6    0      1012.8   10    2013-01-01 10:00:00 -2.0000000\n",
       "7    0      1011.7   10    2013-01-01 11:00:00  8.3333333\n",
       "8    0          NA   10    2013-01-01 13:00:00 25.9166667\n",
       "9    0      1011.2   10    2013-01-01 14:00:00  9.1875000\n",
       "10   0      1011.7   10    2013-01-01 15:00:00  6.2692308\n",
       "11   0      1012.1   10    2013-01-01 16:00:00 10.6363636\n",
       "12   0      1013.2   10    2013-01-01 17:00:00 29.5000000\n",
       "13   0      1014.2   10    2013-01-01 18:00:00 41.4230769\n",
       "14   0      1014.3   10    2013-01-01 19:00:00 13.5909091\n",
       "15   0      1015.1   10    2013-01-01 20:00:00  3.1764706\n",
       "16   0      1015.3   10    2013-01-01 21:00:00 21.8333333\n",
       "17   0      1016.4   10    2013-01-01 22:00:00 10.4285714\n",
       "18   0      1016.5   10    2013-01-01 23:00:00 -5.0000000\n",
       "19   0      1017.1   10    2013-01-02 05:00:00 -5.5000000\n",
       "20   0      1017.2   10    2013-01-02 06:00:00  2.6111111\n",
       "21   0      1017.7   10    2013-01-02 07:00:00 -1.6842105\n",
       "22   0      1018.4   10    2013-01-02 08:00:00  5.9677419\n",
       "23   0      1019.0   10    2013-01-02 09:00:00  9.4736842\n",
       "24   0      1018.6   10    2013-01-02 10:00:00 36.0000000\n",
       "25   0      1017.8   10    2013-01-02 11:00:00 -1.8000000\n",
       "26   0      1016.6   10    2013-01-02 12:00:00  4.4705882\n",
       "27   0      1017.2   10    2013-01-02 13:00:00 -0.6666667\n",
       "28   0      1017.5   10    2013-01-02 14:00:00 14.5882353\n",
       "29   0      1018.3   10    2013-01-02 15:00:00  5.1481481\n",
       "30   0      1018.8   10    2013-01-02 16:00:00  9.4615385\n",
       "⋮    ⋮      ⋮        ⋮     ⋮                   ⋮         \n",
       "6866 0.00   1017.4   10.0  2013-12-29 08:00:00 -2.0666667\n",
       "6867 0.00   1017.0   10.0  2013-12-29 09:00:00  0.6470588\n",
       "6868 0.02   1014.0   10.0  2013-12-29 10:00:00  4.7272727\n",
       "6869 0.02   1012.6    7.0  2013-12-29 11:00:00  3.5000000\n",
       "6870 0.10   1009.8    5.0  2013-12-29 12:00:00  4.3571429\n",
       "6871 0.17       NA    5.0  2013-12-29 13:00:00 31.8750000\n",
       "6872 0.21       NA    2.5  2013-12-29 14:00:00 22.4117647\n",
       "6873 0.34    999.5    2.5  2013-12-29 15:00:00 20.9000000\n",
       "6874 0.27    997.5    2.0  2013-12-29 16:00:00 28.5000000\n",
       "6875 0.05       NA    5.0  2013-12-29 17:00:00 75.2916667\n",
       "6876 0.00       NA    5.0  2013-12-29 18:00:00 48.8636364\n",
       "6877 0.00    999.0    9.0  2013-12-29 19:00:00 48.9130435\n",
       "6878 0.00       NA   10.0  2013-12-29 20:00:00 46.0500000\n",
       "6879 0.00       NA   10.0  2013-12-29 21:00:00 40.3333333\n",
       "6880 0.00   1004.2   10.0  2013-12-29 22:00:00 43.7777778\n",
       "6881 0.00   1005.3   10.0  2013-12-29 23:00:00  0.0000000\n",
       "6882 0.00   1010.1   10.0  2013-12-30 05:00:00 71.5000000\n",
       "6883 0.00   1011.4   10.0  2013-12-30 06:00:00 -1.8750000\n",
       "6884 0.00   1012.4   10.0  2013-12-30 07:00:00  3.8695652\n",
       "6885 0.00   1013.4   10.0  2013-12-30 08:00:00 -1.8666667\n",
       "6886 0.00   1014.2   10.0  2013-12-30 09:00:00  4.6111111\n",
       "6887 0.00   1014.6   10.0  2013-12-30 10:00:00  7.1538462\n",
       "6888 0.00   1014.9   10.0  2013-12-30 11:00:00 -2.4000000\n",
       "6889 0.00   1015.5   10.0  2013-12-30 12:00:00  1.0000000\n",
       "6890 0.00   1016.4   10.0  2013-12-30 13:00:00 16.4666667\n",
       "6891 0.00   1017.4   10.0  2013-12-30 14:00:00 10.0000000\n",
       "6892 0.00   1018.7   10.0  2013-12-30 15:00:00  9.3157895\n",
       "6893 0.00   1019.5   10.0  2013-12-30 16:00:00  8.5600000\n",
       "6894 0.00   1020.1   10.0  2013-12-30 17:00:00 20.1200000\n",
       "6895 0.00   1020.9   10.0  2013-12-30 18:00:00  7.8636364"
      ]
     },
     "metadata": {},
     "output_type": "display_data"
    }
   ],
   "source": [
    "inner_join(JFK_weather, avg_delay_hour, by = c(\"year\", \"month\", \"day\", \"hour\"))"
   ]
  },
  {
   "cell_type": "code",
   "execution_count": null,
   "id": "korean-princess",
   "metadata": {},
   "outputs": [],
   "source": []
  }
 ],
 "metadata": {
  "kernelspec": {
   "display_name": "R",
   "language": "R",
   "name": "ir"
  },
  "language_info": {
   "codemirror_mode": "r",
   "file_extension": ".r",
   "mimetype": "text/x-r-source",
   "name": "R",
   "pygments_lexer": "r",
   "version": "4.0.3"
  }
 },
 "nbformat": 4,
 "nbformat_minor": 5
}

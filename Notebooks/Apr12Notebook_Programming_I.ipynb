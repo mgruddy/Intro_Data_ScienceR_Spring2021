{
 "cells": [
  {
   "cell_type": "code",
   "execution_count": 1,
   "id": "powered-greenhouse",
   "metadata": {},
   "outputs": [
    {
     "name": "stderr",
     "output_type": "stream",
     "text": [
      "── \u001b[1mAttaching packages\u001b[22m ─────────────────────────────────────── tidyverse 1.3.0 ──\n",
      "\n",
      "\u001b[32m✔\u001b[39m \u001b[34mggplot2\u001b[39m 3.3.3     \u001b[32m✔\u001b[39m \u001b[34mpurrr  \u001b[39m 0.3.4\n",
      "\u001b[32m✔\u001b[39m \u001b[34mtibble \u001b[39m 3.0.6     \u001b[32m✔\u001b[39m \u001b[34mdplyr  \u001b[39m 1.0.4\n",
      "\u001b[32m✔\u001b[39m \u001b[34mtidyr  \u001b[39m 1.1.2     \u001b[32m✔\u001b[39m \u001b[34mstringr\u001b[39m 1.4.0\n",
      "\u001b[32m✔\u001b[39m \u001b[34mreadr  \u001b[39m 1.4.0     \u001b[32m✔\u001b[39m \u001b[34mforcats\u001b[39m 0.5.1\n",
      "\n",
      "── \u001b[1mConflicts\u001b[22m ────────────────────────────────────────── tidyverse_conflicts() ──\n",
      "\u001b[31m✖\u001b[39m \u001b[34mdplyr\u001b[39m::\u001b[32mfilter()\u001b[39m masks \u001b[34mstats\u001b[39m::filter()\n",
      "\u001b[31m✖\u001b[39m \u001b[34mdplyr\u001b[39m::\u001b[32mlag()\u001b[39m    masks \u001b[34mstats\u001b[39m::lag()\n",
      "\n"
     ]
    }
   ],
   "source": [
    "library(tidyverse)"
   ]
  },
  {
   "cell_type": "markdown",
   "id": "light-anatomy",
   "metadata": {},
   "source": [
    "## The pipe\n",
    "\n",
    "We've used the pipe to simplify our code frequently in this course. Let's take a closer look at this operator.\n",
    "- The pipe comes from ```magrittr``` package, which is part of the tidyverse suite.\n",
    "- The pipe takes the output from the line and \"pipes\" it to the next line as the first argument of the next function."
   ]
  },
  {
   "cell_type": "code",
   "execution_count": 5,
   "id": "laughing-philip",
   "metadata": {
    "scrolled": true
   },
   "outputs": [
    {
     "data": {
      "text/html": [
       "<table class=\"dataframe\">\n",
       "<caption>A tibble: 47 × 11</caption>\n",
       "<thead>\n",
       "\t<tr><th scope=col>manufacturer</th><th scope=col>model</th><th scope=col>displ</th><th scope=col>year</th><th scope=col>cyl</th><th scope=col>trans</th><th scope=col>drv</th><th scope=col>cty</th><th scope=col>hwy</th><th scope=col>fl</th><th scope=col>class</th></tr>\n",
       "\t<tr><th scope=col>&lt;chr&gt;</th><th scope=col>&lt;chr&gt;</th><th scope=col>&lt;dbl&gt;</th><th scope=col>&lt;int&gt;</th><th scope=col>&lt;int&gt;</th><th scope=col>&lt;chr&gt;</th><th scope=col>&lt;chr&gt;</th><th scope=col>&lt;int&gt;</th><th scope=col>&lt;int&gt;</th><th scope=col>&lt;chr&gt;</th><th scope=col>&lt;chr&gt;</th></tr>\n",
       "</thead>\n",
       "<tbody>\n",
       "\t<tr><td>audi      </td><td>a4          </td><td>1.8</td><td>1999</td><td>4</td><td>auto(l5)  </td><td>f</td><td>18</td><td>29</td><td>p</td><td>compact</td></tr>\n",
       "\t<tr><td>audi      </td><td>a4          </td><td>1.8</td><td>1999</td><td>4</td><td>manual(m5)</td><td>f</td><td>21</td><td>29</td><td>p</td><td>compact</td></tr>\n",
       "\t<tr><td>audi      </td><td>a4          </td><td>2.0</td><td>2008</td><td>4</td><td>manual(m6)</td><td>f</td><td>20</td><td>31</td><td>p</td><td>compact</td></tr>\n",
       "\t<tr><td>audi      </td><td>a4          </td><td>2.0</td><td>2008</td><td>4</td><td>auto(av)  </td><td>f</td><td>21</td><td>30</td><td>p</td><td>compact</td></tr>\n",
       "\t<tr><td>audi      </td><td>a4          </td><td>2.8</td><td>1999</td><td>6</td><td>auto(l5)  </td><td>f</td><td>16</td><td>26</td><td>p</td><td>compact</td></tr>\n",
       "\t<tr><td>audi      </td><td>a4          </td><td>2.8</td><td>1999</td><td>6</td><td>manual(m5)</td><td>f</td><td>18</td><td>26</td><td>p</td><td>compact</td></tr>\n",
       "\t<tr><td>audi      </td><td>a4          </td><td>3.1</td><td>2008</td><td>6</td><td>auto(av)  </td><td>f</td><td>18</td><td>27</td><td>p</td><td>compact</td></tr>\n",
       "\t<tr><td>audi      </td><td>a4 quattro  </td><td>1.8</td><td>1999</td><td>4</td><td>manual(m5)</td><td>4</td><td>18</td><td>26</td><td>p</td><td>compact</td></tr>\n",
       "\t<tr><td>audi      </td><td>a4 quattro  </td><td>1.8</td><td>1999</td><td>4</td><td>auto(l5)  </td><td>4</td><td>16</td><td>25</td><td>p</td><td>compact</td></tr>\n",
       "\t<tr><td>audi      </td><td>a4 quattro  </td><td>2.0</td><td>2008</td><td>4</td><td>manual(m6)</td><td>4</td><td>20</td><td>28</td><td>p</td><td>compact</td></tr>\n",
       "\t<tr><td>audi      </td><td>a4 quattro  </td><td>2.0</td><td>2008</td><td>4</td><td>auto(s6)  </td><td>4</td><td>19</td><td>27</td><td>p</td><td>compact</td></tr>\n",
       "\t<tr><td>audi      </td><td>a4 quattro  </td><td>2.8</td><td>1999</td><td>6</td><td>auto(l5)  </td><td>4</td><td>15</td><td>25</td><td>p</td><td>compact</td></tr>\n",
       "\t<tr><td>audi      </td><td>a4 quattro  </td><td>2.8</td><td>1999</td><td>6</td><td>manual(m5)</td><td>4</td><td>17</td><td>25</td><td>p</td><td>compact</td></tr>\n",
       "\t<tr><td>audi      </td><td>a4 quattro  </td><td>3.1</td><td>2008</td><td>6</td><td>auto(s6)  </td><td>4</td><td>17</td><td>25</td><td>p</td><td>compact</td></tr>\n",
       "\t<tr><td>audi      </td><td>a4 quattro  </td><td>3.1</td><td>2008</td><td>6</td><td>manual(m6)</td><td>4</td><td>15</td><td>25</td><td>p</td><td>compact</td></tr>\n",
       "\t<tr><td>nissan    </td><td>altima      </td><td>2.4</td><td>1999</td><td>4</td><td>manual(m5)</td><td>f</td><td>21</td><td>29</td><td>r</td><td>compact</td></tr>\n",
       "\t<tr><td>nissan    </td><td>altima      </td><td>2.4</td><td>1999</td><td>4</td><td>auto(l4)  </td><td>f</td><td>19</td><td>27</td><td>r</td><td>compact</td></tr>\n",
       "\t<tr><td>subaru    </td><td>impreza awd </td><td>2.5</td><td>2008</td><td>4</td><td>auto(s4)  </td><td>4</td><td>20</td><td>25</td><td>p</td><td>compact</td></tr>\n",
       "\t<tr><td>subaru    </td><td>impreza awd </td><td>2.5</td><td>2008</td><td>4</td><td>auto(s4)  </td><td>4</td><td>20</td><td>27</td><td>r</td><td>compact</td></tr>\n",
       "\t<tr><td>subaru    </td><td>impreza awd </td><td>2.5</td><td>2008</td><td>4</td><td>manual(m5)</td><td>4</td><td>19</td><td>25</td><td>p</td><td>compact</td></tr>\n",
       "\t<tr><td>subaru    </td><td>impreza awd </td><td>2.5</td><td>2008</td><td>4</td><td>manual(m5)</td><td>4</td><td>20</td><td>27</td><td>r</td><td>compact</td></tr>\n",
       "\t<tr><td>toyota    </td><td>camry solara</td><td>2.2</td><td>1999</td><td>4</td><td>auto(l4)  </td><td>f</td><td>21</td><td>27</td><td>r</td><td>compact</td></tr>\n",
       "\t<tr><td>toyota    </td><td>camry solara</td><td>2.2</td><td>1999</td><td>4</td><td>manual(m5)</td><td>f</td><td>21</td><td>29</td><td>r</td><td>compact</td></tr>\n",
       "\t<tr><td>toyota    </td><td>camry solara</td><td>2.4</td><td>2008</td><td>4</td><td>manual(m5)</td><td>f</td><td>21</td><td>31</td><td>r</td><td>compact</td></tr>\n",
       "\t<tr><td>toyota    </td><td>camry solara</td><td>2.4</td><td>2008</td><td>4</td><td>auto(s5)  </td><td>f</td><td>22</td><td>31</td><td>r</td><td>compact</td></tr>\n",
       "\t<tr><td>toyota    </td><td>camry solara</td><td>3.0</td><td>1999</td><td>6</td><td>auto(l4)  </td><td>f</td><td>18</td><td>26</td><td>r</td><td>compact</td></tr>\n",
       "\t<tr><td>toyota    </td><td>camry solara</td><td>3.0</td><td>1999</td><td>6</td><td>manual(m5)</td><td>f</td><td>18</td><td>26</td><td>r</td><td>compact</td></tr>\n",
       "\t<tr><td>toyota    </td><td>camry solara</td><td>3.3</td><td>2008</td><td>6</td><td>auto(s5)  </td><td>f</td><td>18</td><td>27</td><td>r</td><td>compact</td></tr>\n",
       "\t<tr><td>toyota    </td><td>corolla     </td><td>1.8</td><td>1999</td><td>4</td><td>auto(l3)  </td><td>f</td><td>24</td><td>30</td><td>r</td><td>compact</td></tr>\n",
       "\t<tr><td>toyota    </td><td>corolla     </td><td>1.8</td><td>1999</td><td>4</td><td>auto(l4)  </td><td>f</td><td>24</td><td>33</td><td>r</td><td>compact</td></tr>\n",
       "\t<tr><td>toyota    </td><td>corolla     </td><td>1.8</td><td>1999</td><td>4</td><td>manual(m5)</td><td>f</td><td>26</td><td>35</td><td>r</td><td>compact</td></tr>\n",
       "\t<tr><td>toyota    </td><td>corolla     </td><td>1.8</td><td>2008</td><td>4</td><td>manual(m5)</td><td>f</td><td>28</td><td>37</td><td>r</td><td>compact</td></tr>\n",
       "\t<tr><td>toyota    </td><td>corolla     </td><td>1.8</td><td>2008</td><td>4</td><td>auto(l4)  </td><td>f</td><td>26</td><td>35</td><td>r</td><td>compact</td></tr>\n",
       "\t<tr><td>volkswagen</td><td>gti         </td><td>2.0</td><td>1999</td><td>4</td><td>manual(m5)</td><td>f</td><td>21</td><td>29</td><td>r</td><td>compact</td></tr>\n",
       "\t<tr><td>volkswagen</td><td>gti         </td><td>2.0</td><td>1999</td><td>4</td><td>auto(l4)  </td><td>f</td><td>19</td><td>26</td><td>r</td><td>compact</td></tr>\n",
       "\t<tr><td>volkswagen</td><td>gti         </td><td>2.0</td><td>2008</td><td>4</td><td>manual(m6)</td><td>f</td><td>21</td><td>29</td><td>p</td><td>compact</td></tr>\n",
       "\t<tr><td>volkswagen</td><td>gti         </td><td>2.0</td><td>2008</td><td>4</td><td>auto(s6)  </td><td>f</td><td>22</td><td>29</td><td>p</td><td>compact</td></tr>\n",
       "\t<tr><td>volkswagen</td><td>gti         </td><td>2.8</td><td>1999</td><td>6</td><td>manual(m5)</td><td>f</td><td>17</td><td>24</td><td>r</td><td>compact</td></tr>\n",
       "\t<tr><td>volkswagen</td><td>jetta       </td><td>1.9</td><td>1999</td><td>4</td><td>manual(m5)</td><td>f</td><td>33</td><td>44</td><td>d</td><td>compact</td></tr>\n",
       "\t<tr><td>volkswagen</td><td>jetta       </td><td>2.0</td><td>1999</td><td>4</td><td>manual(m5)</td><td>f</td><td>21</td><td>29</td><td>r</td><td>compact</td></tr>\n",
       "\t<tr><td>volkswagen</td><td>jetta       </td><td>2.0</td><td>1999</td><td>4</td><td>auto(l4)  </td><td>f</td><td>19</td><td>26</td><td>r</td><td>compact</td></tr>\n",
       "\t<tr><td>volkswagen</td><td>jetta       </td><td>2.0</td><td>2008</td><td>4</td><td>auto(s6)  </td><td>f</td><td>22</td><td>29</td><td>p</td><td>compact</td></tr>\n",
       "\t<tr><td>volkswagen</td><td>jetta       </td><td>2.0</td><td>2008</td><td>4</td><td>manual(m6)</td><td>f</td><td>21</td><td>29</td><td>p</td><td>compact</td></tr>\n",
       "\t<tr><td>volkswagen</td><td>jetta       </td><td>2.5</td><td>2008</td><td>5</td><td>auto(s6)  </td><td>f</td><td>21</td><td>29</td><td>r</td><td>compact</td></tr>\n",
       "\t<tr><td>volkswagen</td><td>jetta       </td><td>2.5</td><td>2008</td><td>5</td><td>manual(m5)</td><td>f</td><td>21</td><td>29</td><td>r</td><td>compact</td></tr>\n",
       "\t<tr><td>volkswagen</td><td>jetta       </td><td>2.8</td><td>1999</td><td>6</td><td>auto(l4)  </td><td>f</td><td>16</td><td>23</td><td>r</td><td>compact</td></tr>\n",
       "\t<tr><td>volkswagen</td><td>jetta       </td><td>2.8</td><td>1999</td><td>6</td><td>manual(m5)</td><td>f</td><td>17</td><td>24</td><td>r</td><td>compact</td></tr>\n",
       "</tbody>\n",
       "</table>\n"
      ],
      "text/latex": [
       "A tibble: 47 × 11\n",
       "\\begin{tabular}{lllllllllll}\n",
       " manufacturer & model & displ & year & cyl & trans & drv & cty & hwy & fl & class\\\\\n",
       " <chr> & <chr> & <dbl> & <int> & <int> & <chr> & <chr> & <int> & <int> & <chr> & <chr>\\\\\n",
       "\\hline\n",
       "\t audi       & a4           & 1.8 & 1999 & 4 & auto(l5)   & f & 18 & 29 & p & compact\\\\\n",
       "\t audi       & a4           & 1.8 & 1999 & 4 & manual(m5) & f & 21 & 29 & p & compact\\\\\n",
       "\t audi       & a4           & 2.0 & 2008 & 4 & manual(m6) & f & 20 & 31 & p & compact\\\\\n",
       "\t audi       & a4           & 2.0 & 2008 & 4 & auto(av)   & f & 21 & 30 & p & compact\\\\\n",
       "\t audi       & a4           & 2.8 & 1999 & 6 & auto(l5)   & f & 16 & 26 & p & compact\\\\\n",
       "\t audi       & a4           & 2.8 & 1999 & 6 & manual(m5) & f & 18 & 26 & p & compact\\\\\n",
       "\t audi       & a4           & 3.1 & 2008 & 6 & auto(av)   & f & 18 & 27 & p & compact\\\\\n",
       "\t audi       & a4 quattro   & 1.8 & 1999 & 4 & manual(m5) & 4 & 18 & 26 & p & compact\\\\\n",
       "\t audi       & a4 quattro   & 1.8 & 1999 & 4 & auto(l5)   & 4 & 16 & 25 & p & compact\\\\\n",
       "\t audi       & a4 quattro   & 2.0 & 2008 & 4 & manual(m6) & 4 & 20 & 28 & p & compact\\\\\n",
       "\t audi       & a4 quattro   & 2.0 & 2008 & 4 & auto(s6)   & 4 & 19 & 27 & p & compact\\\\\n",
       "\t audi       & a4 quattro   & 2.8 & 1999 & 6 & auto(l5)   & 4 & 15 & 25 & p & compact\\\\\n",
       "\t audi       & a4 quattro   & 2.8 & 1999 & 6 & manual(m5) & 4 & 17 & 25 & p & compact\\\\\n",
       "\t audi       & a4 quattro   & 3.1 & 2008 & 6 & auto(s6)   & 4 & 17 & 25 & p & compact\\\\\n",
       "\t audi       & a4 quattro   & 3.1 & 2008 & 6 & manual(m6) & 4 & 15 & 25 & p & compact\\\\\n",
       "\t nissan     & altima       & 2.4 & 1999 & 4 & manual(m5) & f & 21 & 29 & r & compact\\\\\n",
       "\t nissan     & altima       & 2.4 & 1999 & 4 & auto(l4)   & f & 19 & 27 & r & compact\\\\\n",
       "\t subaru     & impreza awd  & 2.5 & 2008 & 4 & auto(s4)   & 4 & 20 & 25 & p & compact\\\\\n",
       "\t subaru     & impreza awd  & 2.5 & 2008 & 4 & auto(s4)   & 4 & 20 & 27 & r & compact\\\\\n",
       "\t subaru     & impreza awd  & 2.5 & 2008 & 4 & manual(m5) & 4 & 19 & 25 & p & compact\\\\\n",
       "\t subaru     & impreza awd  & 2.5 & 2008 & 4 & manual(m5) & 4 & 20 & 27 & r & compact\\\\\n",
       "\t toyota     & camry solara & 2.2 & 1999 & 4 & auto(l4)   & f & 21 & 27 & r & compact\\\\\n",
       "\t toyota     & camry solara & 2.2 & 1999 & 4 & manual(m5) & f & 21 & 29 & r & compact\\\\\n",
       "\t toyota     & camry solara & 2.4 & 2008 & 4 & manual(m5) & f & 21 & 31 & r & compact\\\\\n",
       "\t toyota     & camry solara & 2.4 & 2008 & 4 & auto(s5)   & f & 22 & 31 & r & compact\\\\\n",
       "\t toyota     & camry solara & 3.0 & 1999 & 6 & auto(l4)   & f & 18 & 26 & r & compact\\\\\n",
       "\t toyota     & camry solara & 3.0 & 1999 & 6 & manual(m5) & f & 18 & 26 & r & compact\\\\\n",
       "\t toyota     & camry solara & 3.3 & 2008 & 6 & auto(s5)   & f & 18 & 27 & r & compact\\\\\n",
       "\t toyota     & corolla      & 1.8 & 1999 & 4 & auto(l3)   & f & 24 & 30 & r & compact\\\\\n",
       "\t toyota     & corolla      & 1.8 & 1999 & 4 & auto(l4)   & f & 24 & 33 & r & compact\\\\\n",
       "\t toyota     & corolla      & 1.8 & 1999 & 4 & manual(m5) & f & 26 & 35 & r & compact\\\\\n",
       "\t toyota     & corolla      & 1.8 & 2008 & 4 & manual(m5) & f & 28 & 37 & r & compact\\\\\n",
       "\t toyota     & corolla      & 1.8 & 2008 & 4 & auto(l4)   & f & 26 & 35 & r & compact\\\\\n",
       "\t volkswagen & gti          & 2.0 & 1999 & 4 & manual(m5) & f & 21 & 29 & r & compact\\\\\n",
       "\t volkswagen & gti          & 2.0 & 1999 & 4 & auto(l4)   & f & 19 & 26 & r & compact\\\\\n",
       "\t volkswagen & gti          & 2.0 & 2008 & 4 & manual(m6) & f & 21 & 29 & p & compact\\\\\n",
       "\t volkswagen & gti          & 2.0 & 2008 & 4 & auto(s6)   & f & 22 & 29 & p & compact\\\\\n",
       "\t volkswagen & gti          & 2.8 & 1999 & 6 & manual(m5) & f & 17 & 24 & r & compact\\\\\n",
       "\t volkswagen & jetta        & 1.9 & 1999 & 4 & manual(m5) & f & 33 & 44 & d & compact\\\\\n",
       "\t volkswagen & jetta        & 2.0 & 1999 & 4 & manual(m5) & f & 21 & 29 & r & compact\\\\\n",
       "\t volkswagen & jetta        & 2.0 & 1999 & 4 & auto(l4)   & f & 19 & 26 & r & compact\\\\\n",
       "\t volkswagen & jetta        & 2.0 & 2008 & 4 & auto(s6)   & f & 22 & 29 & p & compact\\\\\n",
       "\t volkswagen & jetta        & 2.0 & 2008 & 4 & manual(m6) & f & 21 & 29 & p & compact\\\\\n",
       "\t volkswagen & jetta        & 2.5 & 2008 & 5 & auto(s6)   & f & 21 & 29 & r & compact\\\\\n",
       "\t volkswagen & jetta        & 2.5 & 2008 & 5 & manual(m5) & f & 21 & 29 & r & compact\\\\\n",
       "\t volkswagen & jetta        & 2.8 & 1999 & 6 & auto(l4)   & f & 16 & 23 & r & compact\\\\\n",
       "\t volkswagen & jetta        & 2.8 & 1999 & 6 & manual(m5) & f & 17 & 24 & r & compact\\\\\n",
       "\\end{tabular}\n"
      ],
      "text/markdown": [
       "\n",
       "A tibble: 47 × 11\n",
       "\n",
       "| manufacturer &lt;chr&gt; | model &lt;chr&gt; | displ &lt;dbl&gt; | year &lt;int&gt; | cyl &lt;int&gt; | trans &lt;chr&gt; | drv &lt;chr&gt; | cty &lt;int&gt; | hwy &lt;int&gt; | fl &lt;chr&gt; | class &lt;chr&gt; |\n",
       "|---|---|---|---|---|---|---|---|---|---|---|\n",
       "| audi       | a4           | 1.8 | 1999 | 4 | auto(l5)   | f | 18 | 29 | p | compact |\n",
       "| audi       | a4           | 1.8 | 1999 | 4 | manual(m5) | f | 21 | 29 | p | compact |\n",
       "| audi       | a4           | 2.0 | 2008 | 4 | manual(m6) | f | 20 | 31 | p | compact |\n",
       "| audi       | a4           | 2.0 | 2008 | 4 | auto(av)   | f | 21 | 30 | p | compact |\n",
       "| audi       | a4           | 2.8 | 1999 | 6 | auto(l5)   | f | 16 | 26 | p | compact |\n",
       "| audi       | a4           | 2.8 | 1999 | 6 | manual(m5) | f | 18 | 26 | p | compact |\n",
       "| audi       | a4           | 3.1 | 2008 | 6 | auto(av)   | f | 18 | 27 | p | compact |\n",
       "| audi       | a4 quattro   | 1.8 | 1999 | 4 | manual(m5) | 4 | 18 | 26 | p | compact |\n",
       "| audi       | a4 quattro   | 1.8 | 1999 | 4 | auto(l5)   | 4 | 16 | 25 | p | compact |\n",
       "| audi       | a4 quattro   | 2.0 | 2008 | 4 | manual(m6) | 4 | 20 | 28 | p | compact |\n",
       "| audi       | a4 quattro   | 2.0 | 2008 | 4 | auto(s6)   | 4 | 19 | 27 | p | compact |\n",
       "| audi       | a4 quattro   | 2.8 | 1999 | 6 | auto(l5)   | 4 | 15 | 25 | p | compact |\n",
       "| audi       | a4 quattro   | 2.8 | 1999 | 6 | manual(m5) | 4 | 17 | 25 | p | compact |\n",
       "| audi       | a4 quattro   | 3.1 | 2008 | 6 | auto(s6)   | 4 | 17 | 25 | p | compact |\n",
       "| audi       | a4 quattro   | 3.1 | 2008 | 6 | manual(m6) | 4 | 15 | 25 | p | compact |\n",
       "| nissan     | altima       | 2.4 | 1999 | 4 | manual(m5) | f | 21 | 29 | r | compact |\n",
       "| nissan     | altima       | 2.4 | 1999 | 4 | auto(l4)   | f | 19 | 27 | r | compact |\n",
       "| subaru     | impreza awd  | 2.5 | 2008 | 4 | auto(s4)   | 4 | 20 | 25 | p | compact |\n",
       "| subaru     | impreza awd  | 2.5 | 2008 | 4 | auto(s4)   | 4 | 20 | 27 | r | compact |\n",
       "| subaru     | impreza awd  | 2.5 | 2008 | 4 | manual(m5) | 4 | 19 | 25 | p | compact |\n",
       "| subaru     | impreza awd  | 2.5 | 2008 | 4 | manual(m5) | 4 | 20 | 27 | r | compact |\n",
       "| toyota     | camry solara | 2.2 | 1999 | 4 | auto(l4)   | f | 21 | 27 | r | compact |\n",
       "| toyota     | camry solara | 2.2 | 1999 | 4 | manual(m5) | f | 21 | 29 | r | compact |\n",
       "| toyota     | camry solara | 2.4 | 2008 | 4 | manual(m5) | f | 21 | 31 | r | compact |\n",
       "| toyota     | camry solara | 2.4 | 2008 | 4 | auto(s5)   | f | 22 | 31 | r | compact |\n",
       "| toyota     | camry solara | 3.0 | 1999 | 6 | auto(l4)   | f | 18 | 26 | r | compact |\n",
       "| toyota     | camry solara | 3.0 | 1999 | 6 | manual(m5) | f | 18 | 26 | r | compact |\n",
       "| toyota     | camry solara | 3.3 | 2008 | 6 | auto(s5)   | f | 18 | 27 | r | compact |\n",
       "| toyota     | corolla      | 1.8 | 1999 | 4 | auto(l3)   | f | 24 | 30 | r | compact |\n",
       "| toyota     | corolla      | 1.8 | 1999 | 4 | auto(l4)   | f | 24 | 33 | r | compact |\n",
       "| toyota     | corolla      | 1.8 | 1999 | 4 | manual(m5) | f | 26 | 35 | r | compact |\n",
       "| toyota     | corolla      | 1.8 | 2008 | 4 | manual(m5) | f | 28 | 37 | r | compact |\n",
       "| toyota     | corolla      | 1.8 | 2008 | 4 | auto(l4)   | f | 26 | 35 | r | compact |\n",
       "| volkswagen | gti          | 2.0 | 1999 | 4 | manual(m5) | f | 21 | 29 | r | compact |\n",
       "| volkswagen | gti          | 2.0 | 1999 | 4 | auto(l4)   | f | 19 | 26 | r | compact |\n",
       "| volkswagen | gti          | 2.0 | 2008 | 4 | manual(m6) | f | 21 | 29 | p | compact |\n",
       "| volkswagen | gti          | 2.0 | 2008 | 4 | auto(s6)   | f | 22 | 29 | p | compact |\n",
       "| volkswagen | gti          | 2.8 | 1999 | 6 | manual(m5) | f | 17 | 24 | r | compact |\n",
       "| volkswagen | jetta        | 1.9 | 1999 | 4 | manual(m5) | f | 33 | 44 | d | compact |\n",
       "| volkswagen | jetta        | 2.0 | 1999 | 4 | manual(m5) | f | 21 | 29 | r | compact |\n",
       "| volkswagen | jetta        | 2.0 | 1999 | 4 | auto(l4)   | f | 19 | 26 | r | compact |\n",
       "| volkswagen | jetta        | 2.0 | 2008 | 4 | auto(s6)   | f | 22 | 29 | p | compact |\n",
       "| volkswagen | jetta        | 2.0 | 2008 | 4 | manual(m6) | f | 21 | 29 | p | compact |\n",
       "| volkswagen | jetta        | 2.5 | 2008 | 5 | auto(s6)   | f | 21 | 29 | r | compact |\n",
       "| volkswagen | jetta        | 2.5 | 2008 | 5 | manual(m5) | f | 21 | 29 | r | compact |\n",
       "| volkswagen | jetta        | 2.8 | 1999 | 6 | auto(l4)   | f | 16 | 23 | r | compact |\n",
       "| volkswagen | jetta        | 2.8 | 1999 | 6 | manual(m5) | f | 17 | 24 | r | compact |\n",
       "\n"
      ],
      "text/plain": [
       "   manufacturer model        displ year cyl trans      drv cty hwy fl class  \n",
       "1  audi         a4           1.8   1999 4   auto(l5)   f   18  29  p  compact\n",
       "2  audi         a4           1.8   1999 4   manual(m5) f   21  29  p  compact\n",
       "3  audi         a4           2.0   2008 4   manual(m6) f   20  31  p  compact\n",
       "4  audi         a4           2.0   2008 4   auto(av)   f   21  30  p  compact\n",
       "5  audi         a4           2.8   1999 6   auto(l5)   f   16  26  p  compact\n",
       "6  audi         a4           2.8   1999 6   manual(m5) f   18  26  p  compact\n",
       "7  audi         a4           3.1   2008 6   auto(av)   f   18  27  p  compact\n",
       "8  audi         a4 quattro   1.8   1999 4   manual(m5) 4   18  26  p  compact\n",
       "9  audi         a4 quattro   1.8   1999 4   auto(l5)   4   16  25  p  compact\n",
       "10 audi         a4 quattro   2.0   2008 4   manual(m6) 4   20  28  p  compact\n",
       "11 audi         a4 quattro   2.0   2008 4   auto(s6)   4   19  27  p  compact\n",
       "12 audi         a4 quattro   2.8   1999 6   auto(l5)   4   15  25  p  compact\n",
       "13 audi         a4 quattro   2.8   1999 6   manual(m5) 4   17  25  p  compact\n",
       "14 audi         a4 quattro   3.1   2008 6   auto(s6)   4   17  25  p  compact\n",
       "15 audi         a4 quattro   3.1   2008 6   manual(m6) 4   15  25  p  compact\n",
       "16 nissan       altima       2.4   1999 4   manual(m5) f   21  29  r  compact\n",
       "17 nissan       altima       2.4   1999 4   auto(l4)   f   19  27  r  compact\n",
       "18 subaru       impreza awd  2.5   2008 4   auto(s4)   4   20  25  p  compact\n",
       "19 subaru       impreza awd  2.5   2008 4   auto(s4)   4   20  27  r  compact\n",
       "20 subaru       impreza awd  2.5   2008 4   manual(m5) 4   19  25  p  compact\n",
       "21 subaru       impreza awd  2.5   2008 4   manual(m5) 4   20  27  r  compact\n",
       "22 toyota       camry solara 2.2   1999 4   auto(l4)   f   21  27  r  compact\n",
       "23 toyota       camry solara 2.2   1999 4   manual(m5) f   21  29  r  compact\n",
       "24 toyota       camry solara 2.4   2008 4   manual(m5) f   21  31  r  compact\n",
       "25 toyota       camry solara 2.4   2008 4   auto(s5)   f   22  31  r  compact\n",
       "26 toyota       camry solara 3.0   1999 6   auto(l4)   f   18  26  r  compact\n",
       "27 toyota       camry solara 3.0   1999 6   manual(m5) f   18  26  r  compact\n",
       "28 toyota       camry solara 3.3   2008 6   auto(s5)   f   18  27  r  compact\n",
       "29 toyota       corolla      1.8   1999 4   auto(l3)   f   24  30  r  compact\n",
       "30 toyota       corolla      1.8   1999 4   auto(l4)   f   24  33  r  compact\n",
       "31 toyota       corolla      1.8   1999 4   manual(m5) f   26  35  r  compact\n",
       "32 toyota       corolla      1.8   2008 4   manual(m5) f   28  37  r  compact\n",
       "33 toyota       corolla      1.8   2008 4   auto(l4)   f   26  35  r  compact\n",
       "34 volkswagen   gti          2.0   1999 4   manual(m5) f   21  29  r  compact\n",
       "35 volkswagen   gti          2.0   1999 4   auto(l4)   f   19  26  r  compact\n",
       "36 volkswagen   gti          2.0   2008 4   manual(m6) f   21  29  p  compact\n",
       "37 volkswagen   gti          2.0   2008 4   auto(s6)   f   22  29  p  compact\n",
       "38 volkswagen   gti          2.8   1999 6   manual(m5) f   17  24  r  compact\n",
       "39 volkswagen   jetta        1.9   1999 4   manual(m5) f   33  44  d  compact\n",
       "40 volkswagen   jetta        2.0   1999 4   manual(m5) f   21  29  r  compact\n",
       "41 volkswagen   jetta        2.0   1999 4   auto(l4)   f   19  26  r  compact\n",
       "42 volkswagen   jetta        2.0   2008 4   auto(s6)   f   22  29  p  compact\n",
       "43 volkswagen   jetta        2.0   2008 4   manual(m6) f   21  29  p  compact\n",
       "44 volkswagen   jetta        2.5   2008 5   auto(s6)   f   21  29  r  compact\n",
       "45 volkswagen   jetta        2.5   2008 5   manual(m5) f   21  29  r  compact\n",
       "46 volkswagen   jetta        2.8   1999 6   auto(l4)   f   16  23  r  compact\n",
       "47 volkswagen   jetta        2.8   1999 6   manual(m5) f   17  24  r  compact"
      ]
     },
     "metadata": {},
     "output_type": "display_data"
    }
   ],
   "source": [
    "mpg %>%\n",
    "    filter(class == \"compact\") %>%\n",
    "    print()\n",
    "\n",
    "# equivalent to\n",
    "print(filter(mpg, class == \"compact\"))"
   ]
  },
  {
   "cell_type": "code",
   "execution_count": 6,
   "id": "junior-traffic",
   "metadata": {},
   "outputs": [
    {
     "data": {
      "text/html": [
       "10"
      ],
      "text/latex": [
       "10"
      ],
      "text/markdown": [
       "10"
      ],
      "text/plain": [
       "[1] 10"
      ]
     },
     "metadata": {},
     "output_type": "display_data"
    },
    {
     "data": {
      "text/html": [
       "10"
      ],
      "text/latex": [
       "10"
      ],
      "text/markdown": [
       "10"
      ],
      "text/plain": [
       "[1] 10"
      ]
     },
     "metadata": {},
     "output_type": "display_data"
    }
   ],
   "source": [
    "sum(c(1,2,3,4))\n",
    "\n",
    "c(1,2,3,4) %>%\n",
    "    sum()"
   ]
  },
  {
   "cell_type": "markdown",
   "id": "retired-rwanda",
   "metadata": {},
   "source": [
    "Why use the pipe?\n",
    "- Transform an object in a series of steps that is easy to debug and easy for a human to read"
   ]
  },
  {
   "cell_type": "code",
   "execution_count": 9,
   "id": "formal-fleet",
   "metadata": {},
   "outputs": [
    {
     "data": {
      "text/html": [
       "2.5"
      ],
      "text/latex": [
       "2.5"
      ],
      "text/markdown": [
       "2.5"
      ],
      "text/plain": [
       "[1] 2.5"
      ]
     },
     "metadata": {},
     "output_type": "display_data"
    },
    {
     "data": {
      "text/html": [
       "2.5"
      ],
      "text/latex": [
       "2.5"
      ],
      "text/markdown": [
       "2.5"
      ],
      "text/plain": [
       "[1] 2.5"
      ]
     },
     "metadata": {},
     "output_type": "display_data"
    },
    {
     "data": {
      "text/html": [
       "2.5"
      ],
      "text/latex": [
       "2.5"
      ],
      "text/markdown": [
       "2.5"
      ],
      "text/plain": [
       "[1] 2.5"
      ]
     },
     "metadata": {},
     "output_type": "display_data"
    },
    {
     "data": {
      "text/html": [
       "2.5"
      ],
      "text/latex": [
       "2.5"
      ],
      "text/markdown": [
       "2.5"
      ],
      "text/plain": [
       "[1] 2.5"
      ]
     },
     "metadata": {},
     "output_type": "display_data"
    }
   ],
   "source": [
    "# four ways to compute the mean of the unique values\n",
    "\n",
    "# intermediate assignments\n",
    "x <- c(1,2,3,4,1,2,3,4)\n",
    "y <- unique(x)\n",
    "(z <- mean(y))\n",
    "\n",
    "# overwrite the same variable\n",
    "x <- c(1,2,3,4,1,2,3,4)\n",
    "x <- unique(x)\n",
    "(x <- mean(x))\n",
    "\n",
    "# compose all the function\n",
    "(x <- mean(unique(c(1,2,3,4,1,2,3,4))))\n",
    "\n",
    "\n",
    "# use the pipe\n",
    "(x <- c(1,2,3,4,1,2,3,4) %>%\n",
    "    unique() %>%\n",
    "    mean())"
   ]
  },
  {
   "cell_type": "markdown",
   "id": "fluid-omaha",
   "metadata": {},
   "source": [
    "### Caution!"
   ]
  },
  {
   "cell_type": "code",
   "execution_count": 10,
   "id": "bound-necessity",
   "metadata": {
    "scrolled": false
   },
   "outputs": [
    {
     "data": {
      "image/png": "[encoded data removed]",
      "text/plain": [
       "plot without title"
      ]
     },
     "metadata": {
      "image/png": {
       "height": 420,
       "width": 420
      }
     },
     "output_type": "display_data"
    }
   ],
   "source": [
    "# Once we have many lines, even the pipe can be hard to read\n",
    "mpg %>%\n",
    "    filter(cty >= 20) %>%\n",
    "    mutate(combined_mpg = cty + hwy) %>%\n",
    "    group_by(class) %>%\n",
    "    summarize(mean_combined_mpg = mean(combined_mpg)) %>%\n",
    "    select(mean_combined_mpg, everything()) %>%\n",
    "    ggplot(aes(x = class, y = mean_combined_mpg)) +\n",
    "    geom_point()"
   ]
  },
  {
   "cell_type": "code",
   "execution_count": 11,
   "id": "tired-hughes",
   "metadata": {},
   "outputs": [],
   "source": [
    "# an intermediate variable here might improve readability\n",
    "mean_mpg <- mpg %>%\n",
    "            filter(cty >= 20) %>%\n",
    "            mutate(combined_mpg = cty + hwy) %>%\n",
    "            group_by(class) %>%\n",
    "            summarize(mean_combined_mpg = mean(combined_mpg)) %>%\n",
    "            select(mean_combined_mpg, everything())"
   ]
  },
  {
   "cell_type": "code",
   "execution_count": 12,
   "id": "compatible-sacramento",
   "metadata": {},
   "outputs": [
    {
     "data": {
      "image/png": "[encoded data removed]",
      "text/plain": [
       "plot without title"
      ]
     },
     "metadata": {
      "image/png": {
       "height": 420,
       "width": 420
      }
     },
     "output_type": "display_data"
    }
   ],
   "source": [
    "ggplot(mean_mpg, aes(x = class, y = mean_combined_mpg)) +\n",
    "    geom_point()"
   ]
  },
  {
   "cell_type": "code",
   "execution_count": 13,
   "id": "demographic-meditation",
   "metadata": {
    "scrolled": false
   },
   "outputs": [
    {
     "name": "stderr",
     "output_type": "stream",
     "text": [
      "Joining, by = \"class\"\n",
      "\n"
     ]
    },
    {
     "data": {
      "text/html": [
       "<table class=\"dataframe\">\n",
       "<caption>A tibble: 7 × 3</caption>\n",
       "<thead>\n",
       "\t<tr><th scope=col>class</th><th scope=col>mean_combined_mpg</th><th scope=col>sum_combined_mpg</th></tr>\n",
       "\t<tr><th scope=col>&lt;chr&gt;</th><th scope=col>&lt;dbl&gt;</th><th scope=col>&lt;int&gt;</th></tr>\n",
       "</thead>\n",
       "<tbody>\n",
       "\t<tr><td>2seater   </td><td>40.20000</td><td> 201</td></tr>\n",
       "\t<tr><td>compact   </td><td>48.42553</td><td>2276</td></tr>\n",
       "\t<tr><td>midsize   </td><td>46.04878</td><td>1888</td></tr>\n",
       "\t<tr><td>minivan   </td><td>38.18182</td><td> 420</td></tr>\n",
       "\t<tr><td>pickup    </td><td>29.87879</td><td> 986</td></tr>\n",
       "\t<tr><td>subcompact</td><td>48.51429</td><td>1698</td></tr>\n",
       "\t<tr><td>suv       </td><td>31.62903</td><td>1961</td></tr>\n",
       "</tbody>\n",
       "</table>\n"
      ],
      "text/latex": [
       "A tibble: 7 × 3\n",
       "\\begin{tabular}{lll}\n",
       " class & mean\\_combined\\_mpg & sum\\_combined\\_mpg\\\\\n",
       " <chr> & <dbl> & <int>\\\\\n",
       "\\hline\n",
       "\t 2seater    & 40.20000 &  201\\\\\n",
       "\t compact    & 48.42553 & 2276\\\\\n",
       "\t midsize    & 46.04878 & 1888\\\\\n",
       "\t minivan    & 38.18182 &  420\\\\\n",
       "\t pickup     & 29.87879 &  986\\\\\n",
       "\t subcompact & 48.51429 & 1698\\\\\n",
       "\t suv        & 31.62903 & 1961\\\\\n",
       "\\end{tabular}\n"
      ],
      "text/markdown": [
       "\n",
       "A tibble: 7 × 3\n",
       "\n",
       "| class &lt;chr&gt; | mean_combined_mpg &lt;dbl&gt; | sum_combined_mpg &lt;int&gt; |\n",
       "|---|---|---|\n",
       "| 2seater    | 40.20000 |  201 |\n",
       "| compact    | 48.42553 | 2276 |\n",
       "| midsize    | 46.04878 | 1888 |\n",
       "| minivan    | 38.18182 |  420 |\n",
       "| pickup     | 29.87879 |  986 |\n",
       "| subcompact | 48.51429 | 1698 |\n",
       "| suv        | 31.62903 | 1961 |\n",
       "\n"
      ],
      "text/plain": [
       "  class      mean_combined_mpg sum_combined_mpg\n",
       "1 2seater    40.20000           201            \n",
       "2 compact    48.42553          2276            \n",
       "3 midsize    46.04878          1888            \n",
       "4 minivan    38.18182           420            \n",
       "5 pickup     29.87879           986            \n",
       "6 subcompact 48.51429          1698            \n",
       "7 suv        31.62903          1961            "
      ]
     },
     "metadata": {},
     "output_type": "display_data"
    }
   ],
   "source": [
    "# if we have multiple objects being manipulated and combined, pipe may not be the right tool for each line\n",
    "\n",
    "mean_mpg <- mpg %>%\n",
    "            mutate(combined_mpg = cty + hwy) %>%\n",
    "            group_by(class) %>%\n",
    "            summarize(mean_combined_mpg = mean(combined_mpg))\n",
    "\n",
    "sum_mpg <- mpg %>%\n",
    "            mutate(combined_mpg = cty + hwy) %>%\n",
    "            group_by(class) %>%\n",
    "            summarize(sum_combined_mpg = sum(combined_mpg))\n",
    "\n",
    "full_join(mean_mpg, sum_mpg)"
   ]
  },
  {
   "cell_type": "markdown",
   "id": "gorgeous-independence",
   "metadata": {},
   "source": [
    "The **T-pipe**, ```%T>%``` pipes the output of the line to the following *two* lines."
   ]
  },
  {
   "cell_type": "code",
   "execution_count": null,
   "id": "stuck-ensemble",
   "metadata": {},
   "outputs": [],
   "source": [
    "mpg %>%\n",
    "    mutate(combined_mpg = cty + hwy) %>%\n",
    "    group_by(class) %>%\n",
    "    summarize(mean_combined_mpg = mean(combined_mpg)) %T>%\n",
    "    print() %>%\n",
    "    ggplot(aes(x = class, y = mean_combined_mpg)) + geom_point()"
   ]
  },
  {
   "cell_type": "markdown",
   "id": "after-surge",
   "metadata": {},
   "source": [
    "## Functions in R\n",
    "\n",
    "- When you find yourself \"copy-pasting\" the same code over and over again or applying the same steps to similar objects, it might be time to write a custom function.\n",
    " * Copy-pasting can create errors\n",
    " * If you want to edit your procedure, you only have to do it once\n",
    " * Hide ugly, messy, or non-descriptive code for other users, **clear name**\n",
    "- At its heart, a function is an input/output machine. You need to know:\n",
    " * The inputs (or **arguments**)\n",
    " * What to do to the inputs (or **body**)\n",
    " * What you want as an output\n",
    " * A *good* name"
   ]
  },
  {
   "cell_type": "code",
   "execution_count": 14,
   "id": "bizarre-lodge",
   "metadata": {},
   "outputs": [],
   "source": [
    "# add two numbers\n",
    "add_two <- function(x, y) {\n",
    "    x+y\n",
    "}\n",
    "# the last line here is the output of the function"
   ]
  },
  {
   "cell_type": "code",
   "execution_count": 19,
   "id": "quality-astronomy",
   "metadata": {},
   "outputs": [
    {
     "data": {
      "text/html": [
       "6"
      ],
      "text/latex": [
       "6"
      ],
      "text/markdown": [
       "6"
      ],
      "text/plain": [
       "[1] 6"
      ]
     },
     "metadata": {},
     "output_type": "display_data"
    }
   ],
   "source": [
    "add_two(1,5)"
   ]
  },
  {
   "cell_type": "code",
   "execution_count": 16,
   "id": "southeast-wrist",
   "metadata": {},
   "outputs": [
    {
     "data": {
      "text/html": [
       "6"
      ],
      "text/latex": [
       "6"
      ],
      "text/markdown": [
       "6"
      ],
      "text/plain": [
       "[1] 6"
      ]
     },
     "metadata": {},
     "output_type": "display_data"
    }
   ],
   "source": [
    "# one way to think about the above function\n",
    "x <- 1\n",
    "y <- 5\n",
    "x+y"
   ]
  },
  {
   "cell_type": "markdown",
   "id": "auburn-scottish",
   "metadata": {},
   "source": [
    "Sometimes the curly brackets are omitted, but only do this for **very** short functions"
   ]
  },
  {
   "cell_type": "code",
   "execution_count": 25,
   "id": "honey-accommodation",
   "metadata": {},
   "outputs": [],
   "source": [
    "add_two <- function(x,y) x+y"
   ]
  },
  {
   "cell_type": "code",
   "execution_count": 26,
   "id": "inner-individual",
   "metadata": {},
   "outputs": [
    {
     "data": {
      "text/html": [
       "6"
      ],
      "text/latex": [
       "6"
      ],
      "text/markdown": [
       "6"
      ],
      "text/plain": [
       "[1] 6"
      ]
     },
     "metadata": {},
     "output_type": "display_data"
    }
   ],
   "source": [
    "add_two(1,5)"
   ]
  },
  {
   "cell_type": "markdown",
   "id": "limiting-corpus",
   "metadata": {},
   "source": [
    "Naming your function:\n",
    "- Just as important as naming your variables (or more!)\n",
    "- Short is better, but clear is the most important\n",
    "\n",
    "Examples:\n",
    "- ```f()``` is too short\n",
    "- ```the_best_function_ever()``` is not clear\n",
    "- ```collapse_years()``` or ```collapseYears()``` but **not** both\n",
    "- ```mean()``` is better than ```compute_mean()```\n",
    " * be careful of using \"compute\", \"find\", \"get\", etc."
   ]
  },
  {
   "cell_type": "code",
   "execution_count": null,
   "id": "radio-tournament",
   "metadata": {},
   "outputs": [],
   "source": [
    "# Don't do this!\n",
    "T <- FALSE    # T is already TRUE\n",
    "c <- 10     # c is used for vectors (can be confusing)\n",
    "mean <- function(x) sum(x)    # don't overwrite base R functions when possible"
   ]
  },
  {
   "cell_type": "markdown",
   "id": "shaped-victim",
   "metadata": {},
   "source": [
    "Attempt:\n",
    "- Write a function that takes as input a numeric vector and outputs the vector obtained from subtracting the mean from each element.\n",
    "- Write a function that takes as input a tibble and outputs a tibble of the first 3 columns and the first 10 rows.\n",
    "- Verify your function works as expected!\n",
    "- Hint: Make sure your body works *before* writing a function."
   ]
  },
  {
   "cell_type": "code",
   "execution_count": 27,
   "id": "linear-kinase",
   "metadata": {},
   "outputs": [
    {
     "data": {
      "text/html": [
       "3"
      ],
      "text/latex": [
       "3"
      ],
      "text/markdown": [
       "3"
      ],
      "text/plain": [
       "[1] 3"
      ]
     },
     "metadata": {},
     "output_type": "display_data"
    }
   ],
   "source": [
    "# do this before writing add_two to make sure\n",
    "x <- 1\n",
    "y <- 2\n",
    "x+y"
   ]
  },
  {
   "cell_type": "code",
   "execution_count": 29,
   "id": "criminal-survivor",
   "metadata": {},
   "outputs": [
    {
     "data": {
      "text/html": [
       "<style>\n",
       ".list-inline {list-style: none; margin:0; padding: 0}\n",
       ".list-inline>li {display: inline-block}\n",
       ".list-inline>li:not(:last-child)::after {content: \"\\00b7\"; padding: 0 .5ex}\n",
       "</style>\n",
       "<ol class=list-inline><li>0</li><li>0</li><li>0</li><li>0</li></ol>\n"
      ],
      "text/latex": [
       "\\begin{enumerate*}\n",
       "\\item 0\n",
       "\\item 0\n",
       "\\item 0\n",
       "\\item 0\n",
       "\\end{enumerate*}\n"
      ],
      "text/markdown": [
       "1. 0\n",
       "2. 0\n",
       "3. 0\n",
       "4. 0\n",
       "\n",
       "\n"
      ],
      "text/plain": [
       "[1] 0 0 0 0"
      ]
     },
     "metadata": {},
     "output_type": "display_data"
    }
   ],
   "source": [
    "substract_mean <- function(x) {\n",
    "    y <- mean(x)\n",
    "    x - y\n",
    "}\n",
    "\n",
    "# VERIFY\n",
    "substract_mean(c(1,1,1,1))"
   ]
  },
  {
   "cell_type": "code",
   "execution_count": null,
   "id": "varying-income",
   "metadata": {},
   "outputs": [],
   "source": [
    "# hint for second function: head(tibble, n) and select()"
   ]
  },
  {
   "cell_type": "markdown",
   "id": "white-supplier",
   "metadata": {},
   "source": [
    "## Conditional Statements\n",
    "- if (if..then)\n",
    "- if...else\n",
    "- if...else if...else if...else"
   ]
  },
  {
   "cell_type": "markdown",
   "id": "instant-bruce",
   "metadata": {},
   "source": [
    "### if...then\n",
    "\n",
    "``` if (condition) { do this }```\n",
    "\n",
    "- ```condition``` here is either ```TRUE``` or ```FALSE```\n",
    "- Brackets can be omitted if it fits nicely on one line (like with functions above)"
   ]
  },
  {
   "cell_type": "code",
   "execution_count": 32,
   "id": "still-sector",
   "metadata": {},
   "outputs": [
    {
     "name": "stdout",
     "output_type": "stream",
     "text": [
      "[1] \"Number is greater than one\"\n"
     ]
    }
   ],
   "source": [
    "x <- 3\n",
    "\n",
    "if (x > 1) {\n",
    "    print(\"Number is greater than one\")\n",
    "}"
   ]
  },
  {
   "cell_type": "markdown",
   "id": "committed-begin",
   "metadata": {},
   "source": [
    "### if...else...\n",
    "```if (condition) {do this} else {do that}```"
   ]
  },
  {
   "cell_type": "code",
   "execution_count": 35,
   "id": "artificial-arbitration",
   "metadata": {},
   "outputs": [
    {
     "name": "stdout",
     "output_type": "stream",
     "text": [
      "[1] \"Number is less than or equal to one\"\n"
     ]
    }
   ],
   "source": [
    "x <- 0\n",
    "\n",
    "if (x > 1) {\n",
    "    print(\"Number is greater than one\")\n",
    "} else {       # the \"else\" has to be on the same line as the end curly bracket\n",
    "    print(\"Number is less than or equal to one\")\n",
    "}"
   ]
  },
  {
   "cell_type": "markdown",
   "id": "parental-lodging",
   "metadata": {},
   "source": [
    "Can also use a vectorized version:\n",
    "\n",
    "```ifelse(condition, do this, do that)```"
   ]
  },
  {
   "cell_type": "code",
   "execution_count": 37,
   "id": "herbal-florida",
   "metadata": {},
   "outputs": [
    {
     "data": {
      "text/html": [
       "'&lt;=1'"
      ],
      "text/latex": [
       "'<=1'"
      ],
      "text/markdown": [
       "'&lt;=1'"
      ],
      "text/plain": [
       "[1] \"<=1\""
      ]
     },
     "metadata": {},
     "output_type": "display_data"
    }
   ],
   "source": [
    "ifelse(x > 1, \">1\", \"<=1\")"
   ]
  },
  {
   "cell_type": "markdown",
   "id": "pursuant-retreat",
   "metadata": {},
   "source": [
    "Attempt\n",
    "- Write a function that determines whether an integer is even or odd."
   ]
  },
  {
   "cell_type": "code",
   "execution_count": 43,
   "id": "lesbian-acrobat",
   "metadata": {},
   "outputs": [
    {
     "data": {
      "text/html": [
       "1"
      ],
      "text/latex": [
       "1"
      ],
      "text/markdown": [
       "1"
      ],
      "text/plain": [
       "[1] 1"
      ]
     },
     "metadata": {},
     "output_type": "display_data"
    }
   ],
   "source": [
    "# mod function (7 mod 2)\n",
    "7 %% 2"
   ]
  },
  {
   "cell_type": "code",
   "execution_count": 45,
   "id": "adjacent-thomas",
   "metadata": {},
   "outputs": [
    {
     "name": "stdout",
     "output_type": "stream",
     "text": [
      "[1] \"Even\"\n"
     ]
    }
   ],
   "source": [
    "x <- 2\n",
    "\n",
    "if (x %% 2 == 0) {\n",
    "    print(\"Even\")\n",
    "} else {       # the \"else\" has to be on the same line as the end curly bracket\n",
    "    print(\"Odd\")\n",
    "}"
   ]
  },
  {
   "cell_type": "code",
   "execution_count": null,
   "id": "exclusive-glenn",
   "metadata": {},
   "outputs": [],
   "source": []
  }
 ],
 "metadata": {
  "kernelspec": {
   "display_name": "R",
   "language": "R",
   "name": "ir"
  },
  "language_info": {
   "codemirror_mode": "r",
   "file_extension": ".r",
   "mimetype": "text/x-r-source",
   "name": "R",
   "pygments_lexer": "r",
   "version": "4.0.3"
  }
 },
 "nbformat": 4,
 "nbformat_minor": 5
}

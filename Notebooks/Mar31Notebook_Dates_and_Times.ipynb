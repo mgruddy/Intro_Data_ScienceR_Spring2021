{
 "cells": [
  {
   "cell_type": "code",
   "execution_count": 1,
   "id": "decreased-cabinet",
   "metadata": {},
   "outputs": [
    {
     "name": "stderr",
     "output_type": "stream",
     "text": [
      "── \u001b[1mAttaching packages\u001b[22m ─────────────────────────────────────── tidyverse 1.3.0 ──\n",
      "\n",
      "\u001b[32m✔\u001b[39m \u001b[34mggplot2\u001b[39m 3.3.3     \u001b[32m✔\u001b[39m \u001b[34mpurrr  \u001b[39m 0.3.4\n",
      "\u001b[32m✔\u001b[39m \u001b[34mtibble \u001b[39m 3.0.6     \u001b[32m✔\u001b[39m \u001b[34mdplyr  \u001b[39m 1.0.4\n",
      "\u001b[32m✔\u001b[39m \u001b[34mtidyr  \u001b[39m 1.1.2     \u001b[32m✔\u001b[39m \u001b[34mstringr\u001b[39m 1.4.0\n",
      "\u001b[32m✔\u001b[39m \u001b[34mreadr  \u001b[39m 1.4.0     \u001b[32m✔\u001b[39m \u001b[34mforcats\u001b[39m 0.5.1\n",
      "\n",
      "── \u001b[1mConflicts\u001b[22m ────────────────────────────────────────── tidyverse_conflicts() ──\n",
      "\u001b[31m✖\u001b[39m \u001b[34mdplyr\u001b[39m::\u001b[32mfilter()\u001b[39m masks \u001b[34mstats\u001b[39m::filter()\n",
      "\u001b[31m✖\u001b[39m \u001b[34mdplyr\u001b[39m::\u001b[32mlag()\u001b[39m    masks \u001b[34mstats\u001b[39m::lag()\n",
      "\n",
      "\n",
      "Attaching package: ‘lubridate’\n",
      "\n",
      "\n",
      "The following objects are masked from ‘package:base’:\n",
      "\n",
      "    date, intersect, setdiff, union\n",
      "\n",
      "\n"
     ]
    }
   ],
   "source": [
    "library(tidyverse)\n",
    "library(nycflights13)\n",
    "\n",
    "# library for working with dates and date-times\n",
    "library(lubridate)"
   ]
  },
  {
   "cell_type": "markdown",
   "id": "atlantic-edmonton",
   "metadata": {},
   "source": [
    "Recall\n",
    "- **Dates** and **date-times** are augmented vectors\n",
    "- We'll look at some helpful functions to effectively use this data type"
   ]
  },
  {
   "cell_type": "code",
   "execution_count": 2,
   "id": "turned-watts",
   "metadata": {},
   "outputs": [
    {
     "data": {
      "text/html": [
       "<time datetime=\"2021-03-31\">2021-03-31</time>"
      ],
      "text/latex": [
       "2021-03-31"
      ],
      "text/markdown": [
       "2021-03-31"
      ],
      "text/plain": [
       "[1] \"2021-03-31\""
      ]
     },
     "metadata": {},
     "output_type": "display_data"
    },
    {
     "data": {
      "text/plain": [
       "[1] \"2021-03-31 12:41:30 CDT\""
      ]
     },
     "metadata": {},
     "output_type": "display_data"
    }
   ],
   "source": [
    "# today's date as a date vector\n",
    "today()\n",
    "\n",
    "# the date and time as a date-time vector\n",
    "now()"
   ]
  },
  {
   "cell_type": "markdown",
   "id": "worthy-coating",
   "metadata": {},
   "source": [
    "We can create dates from strings..."
   ]
  },
  {
   "cell_type": "code",
   "execution_count": 5,
   "id": "minute-mention",
   "metadata": {},
   "outputs": [
    {
     "data": {
      "text/html": [
       "<time datetime=\"2017-01-31\">2017-01-31</time>"
      ],
      "text/latex": [
       "2017-01-31"
      ],
      "text/markdown": [
       "2017-01-31"
      ],
      "text/plain": [
       "[1] \"2017-01-31\""
      ]
     },
     "metadata": {},
     "output_type": "display_data"
    },
    {
     "data": {
      "text/html": [
       "<time datetime=\"2017-01-31\">2017-01-31</time>"
      ],
      "text/latex": [
       "2017-01-31"
      ],
      "text/markdown": [
       "2017-01-31"
      ],
      "text/plain": [
       "[1] \"2017-01-31\""
      ]
     },
     "metadata": {},
     "output_type": "display_data"
    },
    {
     "data": {
      "text/html": [
       "<time datetime=\"2017-01-31\">2017-01-31</time>"
      ],
      "text/latex": [
       "2017-01-31"
      ],
      "text/markdown": [
       "2017-01-31"
      ],
      "text/plain": [
       "[1] \"2017-01-31\""
      ]
     },
     "metadata": {},
     "output_type": "display_data"
    }
   ],
   "source": [
    "# year-month-day\n",
    "ymd(\"2017-01-31\")\n",
    "\n",
    "# month-day-year\n",
    "mdy(\"January 31st, 2017\")\n",
    "\n",
    "# day-month-year\n",
    "dmy(\"31-Jan-2017\")"
   ]
  },
  {
   "cell_type": "markdown",
   "id": "czech-fence",
   "metadata": {},
   "source": [
    "...or from numeric values"
   ]
  },
  {
   "cell_type": "code",
   "execution_count": 8,
   "id": "proprietary-snapshot",
   "metadata": {},
   "outputs": [
    {
     "data": {
      "text/html": [
       "<time datetime=\"2017-01-31\">2017-01-31</time>"
      ],
      "text/latex": [
       "2017-01-31"
      ],
      "text/markdown": [
       "2017-01-31"
      ],
      "text/plain": [
       "[1] \"2017-01-31\""
      ]
     },
     "metadata": {},
     "output_type": "display_data"
    },
    {
     "data": {
      "text/html": [
       "<time datetime=\"2017-01-31\">2017-01-31</time>"
      ],
      "text/latex": [
       "2017-01-31"
      ],
      "text/markdown": [
       "2017-01-31"
      ],
      "text/plain": [
       "[1] \"2017-01-31\""
      ]
     },
     "metadata": {},
     "output_type": "display_data"
    }
   ],
   "source": [
    "ymd(170131)\n",
    "mdy(01312017)\n",
    "# etc"
   ]
  },
  {
   "cell_type": "code",
   "execution_count": 9,
   "id": "developed-description",
   "metadata": {},
   "outputs": [
    {
     "data": {
      "text/html": [
       "<table class=\"dataframe\">\n",
       "<caption>A tibble: 336776 × 19</caption>\n",
       "<thead>\n",
       "\t<tr><th scope=col>year</th><th scope=col>month</th><th scope=col>day</th><th scope=col>dep_time</th><th scope=col>sched_dep_time</th><th scope=col>dep_delay</th><th scope=col>arr_time</th><th scope=col>sched_arr_time</th><th scope=col>arr_delay</th><th scope=col>carrier</th><th scope=col>flight</th><th scope=col>tailnum</th><th scope=col>origin</th><th scope=col>dest</th><th scope=col>air_time</th><th scope=col>distance</th><th scope=col>hour</th><th scope=col>minute</th><th scope=col>time_hour</th></tr>\n",
       "\t<tr><th scope=col>&lt;int&gt;</th><th scope=col>&lt;int&gt;</th><th scope=col>&lt;int&gt;</th><th scope=col>&lt;int&gt;</th><th scope=col>&lt;int&gt;</th><th scope=col>&lt;dbl&gt;</th><th scope=col>&lt;int&gt;</th><th scope=col>&lt;int&gt;</th><th scope=col>&lt;dbl&gt;</th><th scope=col>&lt;chr&gt;</th><th scope=col>&lt;int&gt;</th><th scope=col>&lt;chr&gt;</th><th scope=col>&lt;chr&gt;</th><th scope=col>&lt;chr&gt;</th><th scope=col>&lt;dbl&gt;</th><th scope=col>&lt;dbl&gt;</th><th scope=col>&lt;dbl&gt;</th><th scope=col>&lt;dbl&gt;</th><th scope=col>&lt;dttm&gt;</th></tr>\n",
       "</thead>\n",
       "<tbody>\n",
       "\t<tr><td>2013</td><td>1</td><td>1</td><td>517</td><td>515</td><td> 2</td><td> 830</td><td> 819</td><td> 11</td><td>UA</td><td>1545</td><td>N14228</td><td>EWR</td><td>IAH</td><td>227</td><td>1400</td><td>5</td><td>15</td><td>2013-01-01 05:00:00</td></tr>\n",
       "\t<tr><td>2013</td><td>1</td><td>1</td><td>533</td><td>529</td><td> 4</td><td> 850</td><td> 830</td><td> 20</td><td>UA</td><td>1714</td><td>N24211</td><td>LGA</td><td>IAH</td><td>227</td><td>1416</td><td>5</td><td>29</td><td>2013-01-01 05:00:00</td></tr>\n",
       "\t<tr><td>2013</td><td>1</td><td>1</td><td>542</td><td>540</td><td> 2</td><td> 923</td><td> 850</td><td> 33</td><td>AA</td><td>1141</td><td>N619AA</td><td>JFK</td><td>MIA</td><td>160</td><td>1089</td><td>5</td><td>40</td><td>2013-01-01 05:00:00</td></tr>\n",
       "\t<tr><td>2013</td><td>1</td><td>1</td><td>544</td><td>545</td><td>-1</td><td>1004</td><td>1022</td><td>-18</td><td>B6</td><td> 725</td><td>N804JB</td><td>JFK</td><td>BQN</td><td>183</td><td>1576</td><td>5</td><td>45</td><td>2013-01-01 05:00:00</td></tr>\n",
       "\t<tr><td>2013</td><td>1</td><td>1</td><td>554</td><td>600</td><td>-6</td><td> 812</td><td> 837</td><td>-25</td><td>DL</td><td> 461</td><td>N668DN</td><td>LGA</td><td>ATL</td><td>116</td><td> 762</td><td>6</td><td> 0</td><td>2013-01-01 06:00:00</td></tr>\n",
       "\t<tr><td>2013</td><td>1</td><td>1</td><td>554</td><td>558</td><td>-4</td><td> 740</td><td> 728</td><td> 12</td><td>UA</td><td>1696</td><td>N39463</td><td>EWR</td><td>ORD</td><td>150</td><td> 719</td><td>5</td><td>58</td><td>2013-01-01 05:00:00</td></tr>\n",
       "\t<tr><td>2013</td><td>1</td><td>1</td><td>555</td><td>600</td><td>-5</td><td> 913</td><td> 854</td><td> 19</td><td>B6</td><td> 507</td><td>N516JB</td><td>EWR</td><td>FLL</td><td>158</td><td>1065</td><td>6</td><td> 0</td><td>2013-01-01 06:00:00</td></tr>\n",
       "\t<tr><td>2013</td><td>1</td><td>1</td><td>557</td><td>600</td><td>-3</td><td> 709</td><td> 723</td><td>-14</td><td>EV</td><td>5708</td><td>N829AS</td><td>LGA</td><td>IAD</td><td> 53</td><td> 229</td><td>6</td><td> 0</td><td>2013-01-01 06:00:00</td></tr>\n",
       "\t<tr><td>2013</td><td>1</td><td>1</td><td>557</td><td>600</td><td>-3</td><td> 838</td><td> 846</td><td> -8</td><td>B6</td><td>  79</td><td>N593JB</td><td>JFK</td><td>MCO</td><td>140</td><td> 944</td><td>6</td><td> 0</td><td>2013-01-01 06:00:00</td></tr>\n",
       "\t<tr><td>2013</td><td>1</td><td>1</td><td>558</td><td>600</td><td>-2</td><td> 753</td><td> 745</td><td>  8</td><td>AA</td><td> 301</td><td>N3ALAA</td><td>LGA</td><td>ORD</td><td>138</td><td> 733</td><td>6</td><td> 0</td><td>2013-01-01 06:00:00</td></tr>\n",
       "\t<tr><td>2013</td><td>1</td><td>1</td><td>558</td><td>600</td><td>-2</td><td> 849</td><td> 851</td><td> -2</td><td>B6</td><td>  49</td><td>N793JB</td><td>JFK</td><td>PBI</td><td>149</td><td>1028</td><td>6</td><td> 0</td><td>2013-01-01 06:00:00</td></tr>\n",
       "\t<tr><td>2013</td><td>1</td><td>1</td><td>558</td><td>600</td><td>-2</td><td> 853</td><td> 856</td><td> -3</td><td>B6</td><td>  71</td><td>N657JB</td><td>JFK</td><td>TPA</td><td>158</td><td>1005</td><td>6</td><td> 0</td><td>2013-01-01 06:00:00</td></tr>\n",
       "\t<tr><td>2013</td><td>1</td><td>1</td><td>558</td><td>600</td><td>-2</td><td> 924</td><td> 917</td><td>  7</td><td>UA</td><td> 194</td><td>N29129</td><td>JFK</td><td>LAX</td><td>345</td><td>2475</td><td>6</td><td> 0</td><td>2013-01-01 06:00:00</td></tr>\n",
       "\t<tr><td>2013</td><td>1</td><td>1</td><td>558</td><td>600</td><td>-2</td><td> 923</td><td> 937</td><td>-14</td><td>UA</td><td>1124</td><td>N53441</td><td>EWR</td><td>SFO</td><td>361</td><td>2565</td><td>6</td><td> 0</td><td>2013-01-01 06:00:00</td></tr>\n",
       "\t<tr><td>2013</td><td>1</td><td>1</td><td>559</td><td>600</td><td>-1</td><td> 941</td><td> 910</td><td> 31</td><td>AA</td><td> 707</td><td>N3DUAA</td><td>LGA</td><td>DFW</td><td>257</td><td>1389</td><td>6</td><td> 0</td><td>2013-01-01 06:00:00</td></tr>\n",
       "\t<tr><td>2013</td><td>1</td><td>1</td><td>559</td><td>559</td><td> 0</td><td> 702</td><td> 706</td><td> -4</td><td>B6</td><td>1806</td><td>N708JB</td><td>JFK</td><td>BOS</td><td> 44</td><td> 187</td><td>5</td><td>59</td><td>2013-01-01 05:00:00</td></tr>\n",
       "\t<tr><td>2013</td><td>1</td><td>1</td><td>559</td><td>600</td><td>-1</td><td> 854</td><td> 902</td><td> -8</td><td>UA</td><td>1187</td><td>N76515</td><td>EWR</td><td>LAS</td><td>337</td><td>2227</td><td>6</td><td> 0</td><td>2013-01-01 06:00:00</td></tr>\n",
       "\t<tr><td>2013</td><td>1</td><td>1</td><td>600</td><td>600</td><td> 0</td><td> 851</td><td> 858</td><td> -7</td><td>B6</td><td> 371</td><td>N595JB</td><td>LGA</td><td>FLL</td><td>152</td><td>1076</td><td>6</td><td> 0</td><td>2013-01-01 06:00:00</td></tr>\n",
       "\t<tr><td>2013</td><td>1</td><td>1</td><td>600</td><td>600</td><td> 0</td><td> 837</td><td> 825</td><td> 12</td><td>MQ</td><td>4650</td><td>N542MQ</td><td>LGA</td><td>ATL</td><td>134</td><td> 762</td><td>6</td><td> 0</td><td>2013-01-01 06:00:00</td></tr>\n",
       "\t<tr><td>2013</td><td>1</td><td>1</td><td>601</td><td>600</td><td> 1</td><td> 844</td><td> 850</td><td> -6</td><td>B6</td><td> 343</td><td>N644JB</td><td>EWR</td><td>PBI</td><td>147</td><td>1023</td><td>6</td><td> 0</td><td>2013-01-01 06:00:00</td></tr>\n",
       "\t<tr><td>2013</td><td>1</td><td>1</td><td>602</td><td>610</td><td>-8</td><td> 812</td><td> 820</td><td> -8</td><td>DL</td><td>1919</td><td>N971DL</td><td>LGA</td><td>MSP</td><td>170</td><td>1020</td><td>6</td><td>10</td><td>2013-01-01 06:00:00</td></tr>\n",
       "\t<tr><td>2013</td><td>1</td><td>1</td><td>602</td><td>605</td><td>-3</td><td> 821</td><td> 805</td><td> 16</td><td>MQ</td><td>4401</td><td>N730MQ</td><td>LGA</td><td>DTW</td><td>105</td><td> 502</td><td>6</td><td> 5</td><td>2013-01-01 06:00:00</td></tr>\n",
       "\t<tr><td>2013</td><td>1</td><td>1</td><td>606</td><td>610</td><td>-4</td><td> 858</td><td> 910</td><td>-12</td><td>AA</td><td>1895</td><td>N633AA</td><td>EWR</td><td>MIA</td><td>152</td><td>1085</td><td>6</td><td>10</td><td>2013-01-01 06:00:00</td></tr>\n",
       "\t<tr><td>2013</td><td>1</td><td>1</td><td>606</td><td>610</td><td>-4</td><td> 837</td><td> 845</td><td> -8</td><td>DL</td><td>1743</td><td>N3739P</td><td>JFK</td><td>ATL</td><td>128</td><td> 760</td><td>6</td><td>10</td><td>2013-01-01 06:00:00</td></tr>\n",
       "\t<tr><td>2013</td><td>1</td><td>1</td><td>607</td><td>607</td><td> 0</td><td> 858</td><td> 915</td><td>-17</td><td>UA</td><td>1077</td><td>N53442</td><td>EWR</td><td>MIA</td><td>157</td><td>1085</td><td>6</td><td> 7</td><td>2013-01-01 06:00:00</td></tr>\n",
       "\t<tr><td>2013</td><td>1</td><td>1</td><td>608</td><td>600</td><td> 8</td><td> 807</td><td> 735</td><td> 32</td><td>MQ</td><td>3768</td><td>N9EAMQ</td><td>EWR</td><td>ORD</td><td>139</td><td> 719</td><td>6</td><td> 0</td><td>2013-01-01 06:00:00</td></tr>\n",
       "\t<tr><td>2013</td><td>1</td><td>1</td><td>611</td><td>600</td><td>11</td><td> 945</td><td> 931</td><td> 14</td><td>UA</td><td> 303</td><td>N532UA</td><td>JFK</td><td>SFO</td><td>366</td><td>2586</td><td>6</td><td> 0</td><td>2013-01-01 06:00:00</td></tr>\n",
       "\t<tr><td>2013</td><td>1</td><td>1</td><td>613</td><td>610</td><td> 3</td><td> 925</td><td> 921</td><td>  4</td><td>B6</td><td> 135</td><td>N635JB</td><td>JFK</td><td>RSW</td><td>175</td><td>1074</td><td>6</td><td>10</td><td>2013-01-01 06:00:00</td></tr>\n",
       "\t<tr><td>2013</td><td>1</td><td>1</td><td>615</td><td>615</td><td> 0</td><td>1039</td><td>1100</td><td>-21</td><td>B6</td><td> 709</td><td>N794JB</td><td>JFK</td><td>SJU</td><td>182</td><td>1598</td><td>6</td><td>15</td><td>2013-01-01 06:00:00</td></tr>\n",
       "\t<tr><td>2013</td><td>1</td><td>1</td><td>615</td><td>615</td><td> 0</td><td> 833</td><td> 842</td><td> -9</td><td>DL</td><td> 575</td><td>N326NB</td><td>EWR</td><td>ATL</td><td>120</td><td> 746</td><td>6</td><td>15</td><td>2013-01-01 06:00:00</td></tr>\n",
       "\t<tr><td>⋮</td><td>⋮</td><td>⋮</td><td>⋮</td><td>⋮</td><td>⋮</td><td>⋮</td><td>⋮</td><td>⋮</td><td>⋮</td><td>⋮</td><td>⋮</td><td>⋮</td><td>⋮</td><td>⋮</td><td>⋮</td><td>⋮</td><td>⋮</td><td>⋮</td></tr>\n",
       "\t<tr><td>2013</td><td>9</td><td>30</td><td>2123</td><td>2125</td><td> -2</td><td>2223</td><td>2247</td><td>-24</td><td>EV</td><td>5489</td><td>N712EV</td><td>LGA</td><td>CHO</td><td> 45</td><td> 305</td><td>21</td><td>25</td><td>2013-09-30 21:00:00</td></tr>\n",
       "\t<tr><td>2013</td><td>9</td><td>30</td><td>2127</td><td>2129</td><td> -2</td><td>2314</td><td>2323</td><td> -9</td><td>EV</td><td>3833</td><td>N16546</td><td>EWR</td><td>CLT</td><td> 72</td><td> 529</td><td>21</td><td>29</td><td>2013-09-30 21:00:00</td></tr>\n",
       "\t<tr><td>2013</td><td>9</td><td>30</td><td>2128</td><td>2130</td><td> -2</td><td>2328</td><td>2359</td><td>-31</td><td>B6</td><td>  97</td><td>N807JB</td><td>JFK</td><td>DEN</td><td>213</td><td>1626</td><td>21</td><td>30</td><td>2013-09-30 21:00:00</td></tr>\n",
       "\t<tr><td>2013</td><td>9</td><td>30</td><td>2129</td><td>2059</td><td> 30</td><td>2230</td><td>2232</td><td> -2</td><td>EV</td><td>5048</td><td>N751EV</td><td>LGA</td><td>RIC</td><td> 45</td><td> 292</td><td>20</td><td>59</td><td>2013-09-30 20:00:00</td></tr>\n",
       "\t<tr><td>2013</td><td>9</td><td>30</td><td>2131</td><td>2140</td><td> -9</td><td>2225</td><td>2255</td><td>-30</td><td>MQ</td><td>3621</td><td>N807MQ</td><td>JFK</td><td>DCA</td><td> 36</td><td> 213</td><td>21</td><td>40</td><td>2013-09-30 21:00:00</td></tr>\n",
       "\t<tr><td>2013</td><td>9</td><td>30</td><td>2140</td><td>2140</td><td>  0</td><td>  10</td><td>  40</td><td>-30</td><td>AA</td><td> 185</td><td>N335AA</td><td>JFK</td><td>LAX</td><td>298</td><td>2475</td><td>21</td><td>40</td><td>2013-09-30 21:00:00</td></tr>\n",
       "\t<tr><td>2013</td><td>9</td><td>30</td><td>2142</td><td>2129</td><td> 13</td><td>2250</td><td>2239</td><td> 11</td><td>EV</td><td>4509</td><td>N12957</td><td>EWR</td><td>PWM</td><td> 47</td><td> 284</td><td>21</td><td>29</td><td>2013-09-30 21:00:00</td></tr>\n",
       "\t<tr><td>2013</td><td>9</td><td>30</td><td>2145</td><td>2145</td><td>  0</td><td> 115</td><td> 140</td><td>-25</td><td>B6</td><td>1103</td><td>N633JB</td><td>JFK</td><td>SJU</td><td>192</td><td>1598</td><td>21</td><td>45</td><td>2013-09-30 21:00:00</td></tr>\n",
       "\t<tr><td>2013</td><td>9</td><td>30</td><td>2147</td><td>2137</td><td> 10</td><td>  30</td><td>  27</td><td>  3</td><td>B6</td><td>1371</td><td>N627JB</td><td>LGA</td><td>FLL</td><td>139</td><td>1076</td><td>21</td><td>37</td><td>2013-09-30 21:00:00</td></tr>\n",
       "\t<tr><td>2013</td><td>9</td><td>30</td><td>2149</td><td>2156</td><td> -7</td><td>2245</td><td>2308</td><td>-23</td><td>UA</td><td> 523</td><td>N813UA</td><td>EWR</td><td>BOS</td><td> 37</td><td> 200</td><td>21</td><td>56</td><td>2013-09-30 21:00:00</td></tr>\n",
       "\t<tr><td>2013</td><td>9</td><td>30</td><td>2150</td><td>2159</td><td> -9</td><td>2250</td><td>2306</td><td>-16</td><td>EV</td><td>3842</td><td>N10575</td><td>EWR</td><td>MHT</td><td> 39</td><td> 209</td><td>21</td><td>59</td><td>2013-09-30 21:00:00</td></tr>\n",
       "\t<tr><td>2013</td><td>9</td><td>30</td><td>2159</td><td>1845</td><td>194</td><td>2344</td><td>2030</td><td>194</td><td>9E</td><td>3320</td><td>N906XJ</td><td>JFK</td><td>BUF</td><td> 50</td><td> 301</td><td>18</td><td>45</td><td>2013-09-30 18:00:00</td></tr>\n",
       "\t<tr><td>2013</td><td>9</td><td>30</td><td>2203</td><td>2205</td><td> -2</td><td>2339</td><td>2331</td><td>  8</td><td>EV</td><td>5311</td><td>N722EV</td><td>LGA</td><td>BGR</td><td> 61</td><td> 378</td><td>22</td><td> 5</td><td>2013-09-30 22:00:00</td></tr>\n",
       "\t<tr><td>2013</td><td>9</td><td>30</td><td>2207</td><td>2140</td><td> 27</td><td>2257</td><td>2250</td><td>  7</td><td>MQ</td><td>3660</td><td>N532MQ</td><td>LGA</td><td>BNA</td><td> 97</td><td> 764</td><td>21</td><td>40</td><td>2013-09-30 21:00:00</td></tr>\n",
       "\t<tr><td>2013</td><td>9</td><td>30</td><td>2211</td><td>2059</td><td> 72</td><td>2339</td><td>2242</td><td> 57</td><td>EV</td><td>4672</td><td>N12145</td><td>EWR</td><td>STL</td><td>120</td><td> 872</td><td>20</td><td>59</td><td>2013-09-30 20:00:00</td></tr>\n",
       "\t<tr><td>2013</td><td>9</td><td>30</td><td>2231</td><td>2245</td><td>-14</td><td>2335</td><td>2356</td><td>-21</td><td>B6</td><td> 108</td><td>N193JB</td><td>JFK</td><td>PWM</td><td> 48</td><td> 273</td><td>22</td><td>45</td><td>2013-09-30 22:00:00</td></tr>\n",
       "\t<tr><td>2013</td><td>9</td><td>30</td><td>2233</td><td>2113</td><td> 80</td><td> 112</td><td>  30</td><td> 42</td><td>UA</td><td> 471</td><td>N578UA</td><td>EWR</td><td>SFO</td><td>318</td><td>2565</td><td>21</td><td>13</td><td>2013-09-30 21:00:00</td></tr>\n",
       "\t<tr><td>2013</td><td>9</td><td>30</td><td>2235</td><td>2001</td><td>154</td><td>  59</td><td>2249</td><td>130</td><td>B6</td><td>1083</td><td>N804JB</td><td>JFK</td><td>MCO</td><td>123</td><td> 944</td><td>20</td><td> 1</td><td>2013-09-30 20:00:00</td></tr>\n",
       "\t<tr><td>2013</td><td>9</td><td>30</td><td>2237</td><td>2245</td><td> -8</td><td>2345</td><td>2353</td><td> -8</td><td>B6</td><td> 234</td><td>N318JB</td><td>JFK</td><td>BTV</td><td> 43</td><td> 266</td><td>22</td><td>45</td><td>2013-09-30 22:00:00</td></tr>\n",
       "\t<tr><td>2013</td><td>9</td><td>30</td><td>2240</td><td>2245</td><td> -5</td><td>2334</td><td>2351</td><td>-17</td><td>B6</td><td>1816</td><td>N354JB</td><td>JFK</td><td>SYR</td><td> 41</td><td> 209</td><td>22</td><td>45</td><td>2013-09-30 22:00:00</td></tr>\n",
       "\t<tr><td>2013</td><td>9</td><td>30</td><td>2240</td><td>2250</td><td>-10</td><td>2347</td><td>   7</td><td>-20</td><td>B6</td><td>2002</td><td>N281JB</td><td>JFK</td><td>BUF</td><td> 52</td><td> 301</td><td>22</td><td>50</td><td>2013-09-30 22:00:00</td></tr>\n",
       "\t<tr><td>2013</td><td>9</td><td>30</td><td>2241</td><td>2246</td><td> -5</td><td>2345</td><td>   1</td><td>-16</td><td>B6</td><td> 486</td><td>N346JB</td><td>JFK</td><td>ROC</td><td> 47</td><td> 264</td><td>22</td><td>46</td><td>2013-09-30 22:00:00</td></tr>\n",
       "\t<tr><td>2013</td><td>9</td><td>30</td><td>2307</td><td>2255</td><td> 12</td><td>2359</td><td>2358</td><td>  1</td><td>B6</td><td> 718</td><td>N565JB</td><td>JFK</td><td>BOS</td><td> 33</td><td> 187</td><td>22</td><td>55</td><td>2013-09-30 22:00:00</td></tr>\n",
       "\t<tr><td>2013</td><td>9</td><td>30</td><td>2349</td><td>2359</td><td>-10</td><td> 325</td><td> 350</td><td>-25</td><td>B6</td><td> 745</td><td>N516JB</td><td>JFK</td><td>PSE</td><td>196</td><td>1617</td><td>23</td><td>59</td><td>2013-09-30 23:00:00</td></tr>\n",
       "\t<tr><td>2013</td><td>9</td><td>30</td><td>  NA</td><td>1842</td><td> NA</td><td>  NA</td><td>2019</td><td> NA</td><td>EV</td><td>5274</td><td>N740EV</td><td>LGA</td><td>BNA</td><td> NA</td><td> 764</td><td>18</td><td>42</td><td>2013-09-30 18:00:00</td></tr>\n",
       "\t<tr><td>2013</td><td>9</td><td>30</td><td>  NA</td><td>1455</td><td> NA</td><td>  NA</td><td>1634</td><td> NA</td><td>9E</td><td>3393</td><td>NA    </td><td>JFK</td><td>DCA</td><td> NA</td><td> 213</td><td>14</td><td>55</td><td>2013-09-30 14:00:00</td></tr>\n",
       "\t<tr><td>2013</td><td>9</td><td>30</td><td>  NA</td><td>2200</td><td> NA</td><td>  NA</td><td>2312</td><td> NA</td><td>9E</td><td>3525</td><td>NA    </td><td>LGA</td><td>SYR</td><td> NA</td><td> 198</td><td>22</td><td> 0</td><td>2013-09-30 22:00:00</td></tr>\n",
       "\t<tr><td>2013</td><td>9</td><td>30</td><td>  NA</td><td>1210</td><td> NA</td><td>  NA</td><td>1330</td><td> NA</td><td>MQ</td><td>3461</td><td>N535MQ</td><td>LGA</td><td>BNA</td><td> NA</td><td> 764</td><td>12</td><td>10</td><td>2013-09-30 12:00:00</td></tr>\n",
       "\t<tr><td>2013</td><td>9</td><td>30</td><td>  NA</td><td>1159</td><td> NA</td><td>  NA</td><td>1344</td><td> NA</td><td>MQ</td><td>3572</td><td>N511MQ</td><td>LGA</td><td>CLE</td><td> NA</td><td> 419</td><td>11</td><td>59</td><td>2013-09-30 11:00:00</td></tr>\n",
       "\t<tr><td>2013</td><td>9</td><td>30</td><td>  NA</td><td> 840</td><td> NA</td><td>  NA</td><td>1020</td><td> NA</td><td>MQ</td><td>3531</td><td>N839MQ</td><td>LGA</td><td>RDU</td><td> NA</td><td> 431</td><td> 8</td><td>40</td><td>2013-09-30 08:00:00</td></tr>\n",
       "</tbody>\n",
       "</table>\n"
      ],
      "text/latex": [
       "A tibble: 336776 × 19\n",
       "\\begin{tabular}{lllllllllllllllllll}\n",
       " year & month & day & dep\\_time & sched\\_dep\\_time & dep\\_delay & arr\\_time & sched\\_arr\\_time & arr\\_delay & carrier & flight & tailnum & origin & dest & air\\_time & distance & hour & minute & time\\_hour\\\\\n",
       " <int> & <int> & <int> & <int> & <int> & <dbl> & <int> & <int> & <dbl> & <chr> & <int> & <chr> & <chr> & <chr> & <dbl> & <dbl> & <dbl> & <dbl> & <dttm>\\\\\n",
       "\\hline\n",
       "\t 2013 & 1 & 1 & 517 & 515 &  2 &  830 &  819 &  11 & UA & 1545 & N14228 & EWR & IAH & 227 & 1400 & 5 & 15 & 2013-01-01 05:00:00\\\\\n",
       "\t 2013 & 1 & 1 & 533 & 529 &  4 &  850 &  830 &  20 & UA & 1714 & N24211 & LGA & IAH & 227 & 1416 & 5 & 29 & 2013-01-01 05:00:00\\\\\n",
       "\t 2013 & 1 & 1 & 542 & 540 &  2 &  923 &  850 &  33 & AA & 1141 & N619AA & JFK & MIA & 160 & 1089 & 5 & 40 & 2013-01-01 05:00:00\\\\\n",
       "\t 2013 & 1 & 1 & 544 & 545 & -1 & 1004 & 1022 & -18 & B6 &  725 & N804JB & JFK & BQN & 183 & 1576 & 5 & 45 & 2013-01-01 05:00:00\\\\\n",
       "\t 2013 & 1 & 1 & 554 & 600 & -6 &  812 &  837 & -25 & DL &  461 & N668DN & LGA & ATL & 116 &  762 & 6 &  0 & 2013-01-01 06:00:00\\\\\n",
       "\t 2013 & 1 & 1 & 554 & 558 & -4 &  740 &  728 &  12 & UA & 1696 & N39463 & EWR & ORD & 150 &  719 & 5 & 58 & 2013-01-01 05:00:00\\\\\n",
       "\t 2013 & 1 & 1 & 555 & 600 & -5 &  913 &  854 &  19 & B6 &  507 & N516JB & EWR & FLL & 158 & 1065 & 6 &  0 & 2013-01-01 06:00:00\\\\\n",
       "\t 2013 & 1 & 1 & 557 & 600 & -3 &  709 &  723 & -14 & EV & 5708 & N829AS & LGA & IAD &  53 &  229 & 6 &  0 & 2013-01-01 06:00:00\\\\\n",
       "\t 2013 & 1 & 1 & 557 & 600 & -3 &  838 &  846 &  -8 & B6 &   79 & N593JB & JFK & MCO & 140 &  944 & 6 &  0 & 2013-01-01 06:00:00\\\\\n",
       "\t 2013 & 1 & 1 & 558 & 600 & -2 &  753 &  745 &   8 & AA &  301 & N3ALAA & LGA & ORD & 138 &  733 & 6 &  0 & 2013-01-01 06:00:00\\\\\n",
       "\t 2013 & 1 & 1 & 558 & 600 & -2 &  849 &  851 &  -2 & B6 &   49 & N793JB & JFK & PBI & 149 & 1028 & 6 &  0 & 2013-01-01 06:00:00\\\\\n",
       "\t 2013 & 1 & 1 & 558 & 600 & -2 &  853 &  856 &  -3 & B6 &   71 & N657JB & JFK & TPA & 158 & 1005 & 6 &  0 & 2013-01-01 06:00:00\\\\\n",
       "\t 2013 & 1 & 1 & 558 & 600 & -2 &  924 &  917 &   7 & UA &  194 & N29129 & JFK & LAX & 345 & 2475 & 6 &  0 & 2013-01-01 06:00:00\\\\\n",
       "\t 2013 & 1 & 1 & 558 & 600 & -2 &  923 &  937 & -14 & UA & 1124 & N53441 & EWR & SFO & 361 & 2565 & 6 &  0 & 2013-01-01 06:00:00\\\\\n",
       "\t 2013 & 1 & 1 & 559 & 600 & -1 &  941 &  910 &  31 & AA &  707 & N3DUAA & LGA & DFW & 257 & 1389 & 6 &  0 & 2013-01-01 06:00:00\\\\\n",
       "\t 2013 & 1 & 1 & 559 & 559 &  0 &  702 &  706 &  -4 & B6 & 1806 & N708JB & JFK & BOS &  44 &  187 & 5 & 59 & 2013-01-01 05:00:00\\\\\n",
       "\t 2013 & 1 & 1 & 559 & 600 & -1 &  854 &  902 &  -8 & UA & 1187 & N76515 & EWR & LAS & 337 & 2227 & 6 &  0 & 2013-01-01 06:00:00\\\\\n",
       "\t 2013 & 1 & 1 & 600 & 600 &  0 &  851 &  858 &  -7 & B6 &  371 & N595JB & LGA & FLL & 152 & 1076 & 6 &  0 & 2013-01-01 06:00:00\\\\\n",
       "\t 2013 & 1 & 1 & 600 & 600 &  0 &  837 &  825 &  12 & MQ & 4650 & N542MQ & LGA & ATL & 134 &  762 & 6 &  0 & 2013-01-01 06:00:00\\\\\n",
       "\t 2013 & 1 & 1 & 601 & 600 &  1 &  844 &  850 &  -6 & B6 &  343 & N644JB & EWR & PBI & 147 & 1023 & 6 &  0 & 2013-01-01 06:00:00\\\\\n",
       "\t 2013 & 1 & 1 & 602 & 610 & -8 &  812 &  820 &  -8 & DL & 1919 & N971DL & LGA & MSP & 170 & 1020 & 6 & 10 & 2013-01-01 06:00:00\\\\\n",
       "\t 2013 & 1 & 1 & 602 & 605 & -3 &  821 &  805 &  16 & MQ & 4401 & N730MQ & LGA & DTW & 105 &  502 & 6 &  5 & 2013-01-01 06:00:00\\\\\n",
       "\t 2013 & 1 & 1 & 606 & 610 & -4 &  858 &  910 & -12 & AA & 1895 & N633AA & EWR & MIA & 152 & 1085 & 6 & 10 & 2013-01-01 06:00:00\\\\\n",
       "\t 2013 & 1 & 1 & 606 & 610 & -4 &  837 &  845 &  -8 & DL & 1743 & N3739P & JFK & ATL & 128 &  760 & 6 & 10 & 2013-01-01 06:00:00\\\\\n",
       "\t 2013 & 1 & 1 & 607 & 607 &  0 &  858 &  915 & -17 & UA & 1077 & N53442 & EWR & MIA & 157 & 1085 & 6 &  7 & 2013-01-01 06:00:00\\\\\n",
       "\t 2013 & 1 & 1 & 608 & 600 &  8 &  807 &  735 &  32 & MQ & 3768 & N9EAMQ & EWR & ORD & 139 &  719 & 6 &  0 & 2013-01-01 06:00:00\\\\\n",
       "\t 2013 & 1 & 1 & 611 & 600 & 11 &  945 &  931 &  14 & UA &  303 & N532UA & JFK & SFO & 366 & 2586 & 6 &  0 & 2013-01-01 06:00:00\\\\\n",
       "\t 2013 & 1 & 1 & 613 & 610 &  3 &  925 &  921 &   4 & B6 &  135 & N635JB & JFK & RSW & 175 & 1074 & 6 & 10 & 2013-01-01 06:00:00\\\\\n",
       "\t 2013 & 1 & 1 & 615 & 615 &  0 & 1039 & 1100 & -21 & B6 &  709 & N794JB & JFK & SJU & 182 & 1598 & 6 & 15 & 2013-01-01 06:00:00\\\\\n",
       "\t 2013 & 1 & 1 & 615 & 615 &  0 &  833 &  842 &  -9 & DL &  575 & N326NB & EWR & ATL & 120 &  746 & 6 & 15 & 2013-01-01 06:00:00\\\\\n",
       "\t ⋮ & ⋮ & ⋮ & ⋮ & ⋮ & ⋮ & ⋮ & ⋮ & ⋮ & ⋮ & ⋮ & ⋮ & ⋮ & ⋮ & ⋮ & ⋮ & ⋮ & ⋮ & ⋮\\\\\n",
       "\t 2013 & 9 & 30 & 2123 & 2125 &  -2 & 2223 & 2247 & -24 & EV & 5489 & N712EV & LGA & CHO &  45 &  305 & 21 & 25 & 2013-09-30 21:00:00\\\\\n",
       "\t 2013 & 9 & 30 & 2127 & 2129 &  -2 & 2314 & 2323 &  -9 & EV & 3833 & N16546 & EWR & CLT &  72 &  529 & 21 & 29 & 2013-09-30 21:00:00\\\\\n",
       "\t 2013 & 9 & 30 & 2128 & 2130 &  -2 & 2328 & 2359 & -31 & B6 &   97 & N807JB & JFK & DEN & 213 & 1626 & 21 & 30 & 2013-09-30 21:00:00\\\\\n",
       "\t 2013 & 9 & 30 & 2129 & 2059 &  30 & 2230 & 2232 &  -2 & EV & 5048 & N751EV & LGA & RIC &  45 &  292 & 20 & 59 & 2013-09-30 20:00:00\\\\\n",
       "\t 2013 & 9 & 30 & 2131 & 2140 &  -9 & 2225 & 2255 & -30 & MQ & 3621 & N807MQ & JFK & DCA &  36 &  213 & 21 & 40 & 2013-09-30 21:00:00\\\\\n",
       "\t 2013 & 9 & 30 & 2140 & 2140 &   0 &   10 &   40 & -30 & AA &  185 & N335AA & JFK & LAX & 298 & 2475 & 21 & 40 & 2013-09-30 21:00:00\\\\\n",
       "\t 2013 & 9 & 30 & 2142 & 2129 &  13 & 2250 & 2239 &  11 & EV & 4509 & N12957 & EWR & PWM &  47 &  284 & 21 & 29 & 2013-09-30 21:00:00\\\\\n",
       "\t 2013 & 9 & 30 & 2145 & 2145 &   0 &  115 &  140 & -25 & B6 & 1103 & N633JB & JFK & SJU & 192 & 1598 & 21 & 45 & 2013-09-30 21:00:00\\\\\n",
       "\t 2013 & 9 & 30 & 2147 & 2137 &  10 &   30 &   27 &   3 & B6 & 1371 & N627JB & LGA & FLL & 139 & 1076 & 21 & 37 & 2013-09-30 21:00:00\\\\\n",
       "\t 2013 & 9 & 30 & 2149 & 2156 &  -7 & 2245 & 2308 & -23 & UA &  523 & N813UA & EWR & BOS &  37 &  200 & 21 & 56 & 2013-09-30 21:00:00\\\\\n",
       "\t 2013 & 9 & 30 & 2150 & 2159 &  -9 & 2250 & 2306 & -16 & EV & 3842 & N10575 & EWR & MHT &  39 &  209 & 21 & 59 & 2013-09-30 21:00:00\\\\\n",
       "\t 2013 & 9 & 30 & 2159 & 1845 & 194 & 2344 & 2030 & 194 & 9E & 3320 & N906XJ & JFK & BUF &  50 &  301 & 18 & 45 & 2013-09-30 18:00:00\\\\\n",
       "\t 2013 & 9 & 30 & 2203 & 2205 &  -2 & 2339 & 2331 &   8 & EV & 5311 & N722EV & LGA & BGR &  61 &  378 & 22 &  5 & 2013-09-30 22:00:00\\\\\n",
       "\t 2013 & 9 & 30 & 2207 & 2140 &  27 & 2257 & 2250 &   7 & MQ & 3660 & N532MQ & LGA & BNA &  97 &  764 & 21 & 40 & 2013-09-30 21:00:00\\\\\n",
       "\t 2013 & 9 & 30 & 2211 & 2059 &  72 & 2339 & 2242 &  57 & EV & 4672 & N12145 & EWR & STL & 120 &  872 & 20 & 59 & 2013-09-30 20:00:00\\\\\n",
       "\t 2013 & 9 & 30 & 2231 & 2245 & -14 & 2335 & 2356 & -21 & B6 &  108 & N193JB & JFK & PWM &  48 &  273 & 22 & 45 & 2013-09-30 22:00:00\\\\\n",
       "\t 2013 & 9 & 30 & 2233 & 2113 &  80 &  112 &   30 &  42 & UA &  471 & N578UA & EWR & SFO & 318 & 2565 & 21 & 13 & 2013-09-30 21:00:00\\\\\n",
       "\t 2013 & 9 & 30 & 2235 & 2001 & 154 &   59 & 2249 & 130 & B6 & 1083 & N804JB & JFK & MCO & 123 &  944 & 20 &  1 & 2013-09-30 20:00:00\\\\\n",
       "\t 2013 & 9 & 30 & 2237 & 2245 &  -8 & 2345 & 2353 &  -8 & B6 &  234 & N318JB & JFK & BTV &  43 &  266 & 22 & 45 & 2013-09-30 22:00:00\\\\\n",
       "\t 2013 & 9 & 30 & 2240 & 2245 &  -5 & 2334 & 2351 & -17 & B6 & 1816 & N354JB & JFK & SYR &  41 &  209 & 22 & 45 & 2013-09-30 22:00:00\\\\\n",
       "\t 2013 & 9 & 30 & 2240 & 2250 & -10 & 2347 &    7 & -20 & B6 & 2002 & N281JB & JFK & BUF &  52 &  301 & 22 & 50 & 2013-09-30 22:00:00\\\\\n",
       "\t 2013 & 9 & 30 & 2241 & 2246 &  -5 & 2345 &    1 & -16 & B6 &  486 & N346JB & JFK & ROC &  47 &  264 & 22 & 46 & 2013-09-30 22:00:00\\\\\n",
       "\t 2013 & 9 & 30 & 2307 & 2255 &  12 & 2359 & 2358 &   1 & B6 &  718 & N565JB & JFK & BOS &  33 &  187 & 22 & 55 & 2013-09-30 22:00:00\\\\\n",
       "\t 2013 & 9 & 30 & 2349 & 2359 & -10 &  325 &  350 & -25 & B6 &  745 & N516JB & JFK & PSE & 196 & 1617 & 23 & 59 & 2013-09-30 23:00:00\\\\\n",
       "\t 2013 & 9 & 30 &   NA & 1842 &  NA &   NA & 2019 &  NA & EV & 5274 & N740EV & LGA & BNA &  NA &  764 & 18 & 42 & 2013-09-30 18:00:00\\\\\n",
       "\t 2013 & 9 & 30 &   NA & 1455 &  NA &   NA & 1634 &  NA & 9E & 3393 & NA     & JFK & DCA &  NA &  213 & 14 & 55 & 2013-09-30 14:00:00\\\\\n",
       "\t 2013 & 9 & 30 &   NA & 2200 &  NA &   NA & 2312 &  NA & 9E & 3525 & NA     & LGA & SYR &  NA &  198 & 22 &  0 & 2013-09-30 22:00:00\\\\\n",
       "\t 2013 & 9 & 30 &   NA & 1210 &  NA &   NA & 1330 &  NA & MQ & 3461 & N535MQ & LGA & BNA &  NA &  764 & 12 & 10 & 2013-09-30 12:00:00\\\\\n",
       "\t 2013 & 9 & 30 &   NA & 1159 &  NA &   NA & 1344 &  NA & MQ & 3572 & N511MQ & LGA & CLE &  NA &  419 & 11 & 59 & 2013-09-30 11:00:00\\\\\n",
       "\t 2013 & 9 & 30 &   NA &  840 &  NA &   NA & 1020 &  NA & MQ & 3531 & N839MQ & LGA & RDU &  NA &  431 &  8 & 40 & 2013-09-30 08:00:00\\\\\n",
       "\\end{tabular}\n"
      ],
      "text/markdown": [
       "\n",
       "A tibble: 336776 × 19\n",
       "\n",
       "| year &lt;int&gt; | month &lt;int&gt; | day &lt;int&gt; | dep_time &lt;int&gt; | sched_dep_time &lt;int&gt; | dep_delay &lt;dbl&gt; | arr_time &lt;int&gt; | sched_arr_time &lt;int&gt; | arr_delay &lt;dbl&gt; | carrier &lt;chr&gt; | flight &lt;int&gt; | tailnum &lt;chr&gt; | origin &lt;chr&gt; | dest &lt;chr&gt; | air_time &lt;dbl&gt; | distance &lt;dbl&gt; | hour &lt;dbl&gt; | minute &lt;dbl&gt; | time_hour &lt;dttm&gt; |\n",
       "|---|---|---|---|---|---|---|---|---|---|---|---|---|---|---|---|---|---|---|\n",
       "| 2013 | 1 | 1 | 517 | 515 |  2 |  830 |  819 |  11 | UA | 1545 | N14228 | EWR | IAH | 227 | 1400 | 5 | 15 | 2013-01-01 05:00:00 |\n",
       "| 2013 | 1 | 1 | 533 | 529 |  4 |  850 |  830 |  20 | UA | 1714 | N24211 | LGA | IAH | 227 | 1416 | 5 | 29 | 2013-01-01 05:00:00 |\n",
       "| 2013 | 1 | 1 | 542 | 540 |  2 |  923 |  850 |  33 | AA | 1141 | N619AA | JFK | MIA | 160 | 1089 | 5 | 40 | 2013-01-01 05:00:00 |\n",
       "| 2013 | 1 | 1 | 544 | 545 | -1 | 1004 | 1022 | -18 | B6 |  725 | N804JB | JFK | BQN | 183 | 1576 | 5 | 45 | 2013-01-01 05:00:00 |\n",
       "| 2013 | 1 | 1 | 554 | 600 | -6 |  812 |  837 | -25 | DL |  461 | N668DN | LGA | ATL | 116 |  762 | 6 |  0 | 2013-01-01 06:00:00 |\n",
       "| 2013 | 1 | 1 | 554 | 558 | -4 |  740 |  728 |  12 | UA | 1696 | N39463 | EWR | ORD | 150 |  719 | 5 | 58 | 2013-01-01 05:00:00 |\n",
       "| 2013 | 1 | 1 | 555 | 600 | -5 |  913 |  854 |  19 | B6 |  507 | N516JB | EWR | FLL | 158 | 1065 | 6 |  0 | 2013-01-01 06:00:00 |\n",
       "| 2013 | 1 | 1 | 557 | 600 | -3 |  709 |  723 | -14 | EV | 5708 | N829AS | LGA | IAD |  53 |  229 | 6 |  0 | 2013-01-01 06:00:00 |\n",
       "| 2013 | 1 | 1 | 557 | 600 | -3 |  838 |  846 |  -8 | B6 |   79 | N593JB | JFK | MCO | 140 |  944 | 6 |  0 | 2013-01-01 06:00:00 |\n",
       "| 2013 | 1 | 1 | 558 | 600 | -2 |  753 |  745 |   8 | AA |  301 | N3ALAA | LGA | ORD | 138 |  733 | 6 |  0 | 2013-01-01 06:00:00 |\n",
       "| 2013 | 1 | 1 | 558 | 600 | -2 |  849 |  851 |  -2 | B6 |   49 | N793JB | JFK | PBI | 149 | 1028 | 6 |  0 | 2013-01-01 06:00:00 |\n",
       "| 2013 | 1 | 1 | 558 | 600 | -2 |  853 |  856 |  -3 | B6 |   71 | N657JB | JFK | TPA | 158 | 1005 | 6 |  0 | 2013-01-01 06:00:00 |\n",
       "| 2013 | 1 | 1 | 558 | 600 | -2 |  924 |  917 |   7 | UA |  194 | N29129 | JFK | LAX | 345 | 2475 | 6 |  0 | 2013-01-01 06:00:00 |\n",
       "| 2013 | 1 | 1 | 558 | 600 | -2 |  923 |  937 | -14 | UA | 1124 | N53441 | EWR | SFO | 361 | 2565 | 6 |  0 | 2013-01-01 06:00:00 |\n",
       "| 2013 | 1 | 1 | 559 | 600 | -1 |  941 |  910 |  31 | AA |  707 | N3DUAA | LGA | DFW | 257 | 1389 | 6 |  0 | 2013-01-01 06:00:00 |\n",
       "| 2013 | 1 | 1 | 559 | 559 |  0 |  702 |  706 |  -4 | B6 | 1806 | N708JB | JFK | BOS |  44 |  187 | 5 | 59 | 2013-01-01 05:00:00 |\n",
       "| 2013 | 1 | 1 | 559 | 600 | -1 |  854 |  902 |  -8 | UA | 1187 | N76515 | EWR | LAS | 337 | 2227 | 6 |  0 | 2013-01-01 06:00:00 |\n",
       "| 2013 | 1 | 1 | 600 | 600 |  0 |  851 |  858 |  -7 | B6 |  371 | N595JB | LGA | FLL | 152 | 1076 | 6 |  0 | 2013-01-01 06:00:00 |\n",
       "| 2013 | 1 | 1 | 600 | 600 |  0 |  837 |  825 |  12 | MQ | 4650 | N542MQ | LGA | ATL | 134 |  762 | 6 |  0 | 2013-01-01 06:00:00 |\n",
       "| 2013 | 1 | 1 | 601 | 600 |  1 |  844 |  850 |  -6 | B6 |  343 | N644JB | EWR | PBI | 147 | 1023 | 6 |  0 | 2013-01-01 06:00:00 |\n",
       "| 2013 | 1 | 1 | 602 | 610 | -8 |  812 |  820 |  -8 | DL | 1919 | N971DL | LGA | MSP | 170 | 1020 | 6 | 10 | 2013-01-01 06:00:00 |\n",
       "| 2013 | 1 | 1 | 602 | 605 | -3 |  821 |  805 |  16 | MQ | 4401 | N730MQ | LGA | DTW | 105 |  502 | 6 |  5 | 2013-01-01 06:00:00 |\n",
       "| 2013 | 1 | 1 | 606 | 610 | -4 |  858 |  910 | -12 | AA | 1895 | N633AA | EWR | MIA | 152 | 1085 | 6 | 10 | 2013-01-01 06:00:00 |\n",
       "| 2013 | 1 | 1 | 606 | 610 | -4 |  837 |  845 |  -8 | DL | 1743 | N3739P | JFK | ATL | 128 |  760 | 6 | 10 | 2013-01-01 06:00:00 |\n",
       "| 2013 | 1 | 1 | 607 | 607 |  0 |  858 |  915 | -17 | UA | 1077 | N53442 | EWR | MIA | 157 | 1085 | 6 |  7 | 2013-01-01 06:00:00 |\n",
       "| 2013 | 1 | 1 | 608 | 600 |  8 |  807 |  735 |  32 | MQ | 3768 | N9EAMQ | EWR | ORD | 139 |  719 | 6 |  0 | 2013-01-01 06:00:00 |\n",
       "| 2013 | 1 | 1 | 611 | 600 | 11 |  945 |  931 |  14 | UA |  303 | N532UA | JFK | SFO | 366 | 2586 | 6 |  0 | 2013-01-01 06:00:00 |\n",
       "| 2013 | 1 | 1 | 613 | 610 |  3 |  925 |  921 |   4 | B6 |  135 | N635JB | JFK | RSW | 175 | 1074 | 6 | 10 | 2013-01-01 06:00:00 |\n",
       "| 2013 | 1 | 1 | 615 | 615 |  0 | 1039 | 1100 | -21 | B6 |  709 | N794JB | JFK | SJU | 182 | 1598 | 6 | 15 | 2013-01-01 06:00:00 |\n",
       "| 2013 | 1 | 1 | 615 | 615 |  0 |  833 |  842 |  -9 | DL |  575 | N326NB | EWR | ATL | 120 |  746 | 6 | 15 | 2013-01-01 06:00:00 |\n",
       "| ⋮ | ⋮ | ⋮ | ⋮ | ⋮ | ⋮ | ⋮ | ⋮ | ⋮ | ⋮ | ⋮ | ⋮ | ⋮ | ⋮ | ⋮ | ⋮ | ⋮ | ⋮ | ⋮ |\n",
       "| 2013 | 9 | 30 | 2123 | 2125 |  -2 | 2223 | 2247 | -24 | EV | 5489 | N712EV | LGA | CHO |  45 |  305 | 21 | 25 | 2013-09-30 21:00:00 |\n",
       "| 2013 | 9 | 30 | 2127 | 2129 |  -2 | 2314 | 2323 |  -9 | EV | 3833 | N16546 | EWR | CLT |  72 |  529 | 21 | 29 | 2013-09-30 21:00:00 |\n",
       "| 2013 | 9 | 30 | 2128 | 2130 |  -2 | 2328 | 2359 | -31 | B6 |   97 | N807JB | JFK | DEN | 213 | 1626 | 21 | 30 | 2013-09-30 21:00:00 |\n",
       "| 2013 | 9 | 30 | 2129 | 2059 |  30 | 2230 | 2232 |  -2 | EV | 5048 | N751EV | LGA | RIC |  45 |  292 | 20 | 59 | 2013-09-30 20:00:00 |\n",
       "| 2013 | 9 | 30 | 2131 | 2140 |  -9 | 2225 | 2255 | -30 | MQ | 3621 | N807MQ | JFK | DCA |  36 |  213 | 21 | 40 | 2013-09-30 21:00:00 |\n",
       "| 2013 | 9 | 30 | 2140 | 2140 |   0 |   10 |   40 | -30 | AA |  185 | N335AA | JFK | LAX | 298 | 2475 | 21 | 40 | 2013-09-30 21:00:00 |\n",
       "| 2013 | 9 | 30 | 2142 | 2129 |  13 | 2250 | 2239 |  11 | EV | 4509 | N12957 | EWR | PWM |  47 |  284 | 21 | 29 | 2013-09-30 21:00:00 |\n",
       "| 2013 | 9 | 30 | 2145 | 2145 |   0 |  115 |  140 | -25 | B6 | 1103 | N633JB | JFK | SJU | 192 | 1598 | 21 | 45 | 2013-09-30 21:00:00 |\n",
       "| 2013 | 9 | 30 | 2147 | 2137 |  10 |   30 |   27 |   3 | B6 | 1371 | N627JB | LGA | FLL | 139 | 1076 | 21 | 37 | 2013-09-30 21:00:00 |\n",
       "| 2013 | 9 | 30 | 2149 | 2156 |  -7 | 2245 | 2308 | -23 | UA |  523 | N813UA | EWR | BOS |  37 |  200 | 21 | 56 | 2013-09-30 21:00:00 |\n",
       "| 2013 | 9 | 30 | 2150 | 2159 |  -9 | 2250 | 2306 | -16 | EV | 3842 | N10575 | EWR | MHT |  39 |  209 | 21 | 59 | 2013-09-30 21:00:00 |\n",
       "| 2013 | 9 | 30 | 2159 | 1845 | 194 | 2344 | 2030 | 194 | 9E | 3320 | N906XJ | JFK | BUF |  50 |  301 | 18 | 45 | 2013-09-30 18:00:00 |\n",
       "| 2013 | 9 | 30 | 2203 | 2205 |  -2 | 2339 | 2331 |   8 | EV | 5311 | N722EV | LGA | BGR |  61 |  378 | 22 |  5 | 2013-09-30 22:00:00 |\n",
       "| 2013 | 9 | 30 | 2207 | 2140 |  27 | 2257 | 2250 |   7 | MQ | 3660 | N532MQ | LGA | BNA |  97 |  764 | 21 | 40 | 2013-09-30 21:00:00 |\n",
       "| 2013 | 9 | 30 | 2211 | 2059 |  72 | 2339 | 2242 |  57 | EV | 4672 | N12145 | EWR | STL | 120 |  872 | 20 | 59 | 2013-09-30 20:00:00 |\n",
       "| 2013 | 9 | 30 | 2231 | 2245 | -14 | 2335 | 2356 | -21 | B6 |  108 | N193JB | JFK | PWM |  48 |  273 | 22 | 45 | 2013-09-30 22:00:00 |\n",
       "| 2013 | 9 | 30 | 2233 | 2113 |  80 |  112 |   30 |  42 | UA |  471 | N578UA | EWR | SFO | 318 | 2565 | 21 | 13 | 2013-09-30 21:00:00 |\n",
       "| 2013 | 9 | 30 | 2235 | 2001 | 154 |   59 | 2249 | 130 | B6 | 1083 | N804JB | JFK | MCO | 123 |  944 | 20 |  1 | 2013-09-30 20:00:00 |\n",
       "| 2013 | 9 | 30 | 2237 | 2245 |  -8 | 2345 | 2353 |  -8 | B6 |  234 | N318JB | JFK | BTV |  43 |  266 | 22 | 45 | 2013-09-30 22:00:00 |\n",
       "| 2013 | 9 | 30 | 2240 | 2245 |  -5 | 2334 | 2351 | -17 | B6 | 1816 | N354JB | JFK | SYR |  41 |  209 | 22 | 45 | 2013-09-30 22:00:00 |\n",
       "| 2013 | 9 | 30 | 2240 | 2250 | -10 | 2347 |    7 | -20 | B6 | 2002 | N281JB | JFK | BUF |  52 |  301 | 22 | 50 | 2013-09-30 22:00:00 |\n",
       "| 2013 | 9 | 30 | 2241 | 2246 |  -5 | 2345 |    1 | -16 | B6 |  486 | N346JB | JFK | ROC |  47 |  264 | 22 | 46 | 2013-09-30 22:00:00 |\n",
       "| 2013 | 9 | 30 | 2307 | 2255 |  12 | 2359 | 2358 |   1 | B6 |  718 | N565JB | JFK | BOS |  33 |  187 | 22 | 55 | 2013-09-30 22:00:00 |\n",
       "| 2013 | 9 | 30 | 2349 | 2359 | -10 |  325 |  350 | -25 | B6 |  745 | N516JB | JFK | PSE | 196 | 1617 | 23 | 59 | 2013-09-30 23:00:00 |\n",
       "| 2013 | 9 | 30 |   NA | 1842 |  NA |   NA | 2019 |  NA | EV | 5274 | N740EV | LGA | BNA |  NA |  764 | 18 | 42 | 2013-09-30 18:00:00 |\n",
       "| 2013 | 9 | 30 |   NA | 1455 |  NA |   NA | 1634 |  NA | 9E | 3393 | NA     | JFK | DCA |  NA |  213 | 14 | 55 | 2013-09-30 14:00:00 |\n",
       "| 2013 | 9 | 30 |   NA | 2200 |  NA |   NA | 2312 |  NA | 9E | 3525 | NA     | LGA | SYR |  NA |  198 | 22 |  0 | 2013-09-30 22:00:00 |\n",
       "| 2013 | 9 | 30 |   NA | 1210 |  NA |   NA | 1330 |  NA | MQ | 3461 | N535MQ | LGA | BNA |  NA |  764 | 12 | 10 | 2013-09-30 12:00:00 |\n",
       "| 2013 | 9 | 30 |   NA | 1159 |  NA |   NA | 1344 |  NA | MQ | 3572 | N511MQ | LGA | CLE |  NA |  419 | 11 | 59 | 2013-09-30 11:00:00 |\n",
       "| 2013 | 9 | 30 |   NA |  840 |  NA |   NA | 1020 |  NA | MQ | 3531 | N839MQ | LGA | RDU |  NA |  431 |  8 | 40 | 2013-09-30 08:00:00 |\n",
       "\n"
      ],
      "text/plain": [
       "       year month day dep_time sched_dep_time dep_delay arr_time sched_arr_time\n",
       "1      2013 1     1   517      515             2         830      819          \n",
       "2      2013 1     1   533      529             4         850      830          \n",
       "3      2013 1     1   542      540             2         923      850          \n",
       "4      2013 1     1   544      545            -1        1004     1022          \n",
       "5      2013 1     1   554      600            -6         812      837          \n",
       "6      2013 1     1   554      558            -4         740      728          \n",
       "7      2013 1     1   555      600            -5         913      854          \n",
       "8      2013 1     1   557      600            -3         709      723          \n",
       "9      2013 1     1   557      600            -3         838      846          \n",
       "10     2013 1     1   558      600            -2         753      745          \n",
       "11     2013 1     1   558      600            -2         849      851          \n",
       "12     2013 1     1   558      600            -2         853      856          \n",
       "13     2013 1     1   558      600            -2         924      917          \n",
       "14     2013 1     1   558      600            -2         923      937          \n",
       "15     2013 1     1   559      600            -1         941      910          \n",
       "16     2013 1     1   559      559             0         702      706          \n",
       "17     2013 1     1   559      600            -1         854      902          \n",
       "18     2013 1     1   600      600             0         851      858          \n",
       "19     2013 1     1   600      600             0         837      825          \n",
       "20     2013 1     1   601      600             1         844      850          \n",
       "21     2013 1     1   602      610            -8         812      820          \n",
       "22     2013 1     1   602      605            -3         821      805          \n",
       "23     2013 1     1   606      610            -4         858      910          \n",
       "24     2013 1     1   606      610            -4         837      845          \n",
       "25     2013 1     1   607      607             0         858      915          \n",
       "26     2013 1     1   608      600             8         807      735          \n",
       "27     2013 1     1   611      600            11         945      931          \n",
       "28     2013 1     1   613      610             3         925      921          \n",
       "29     2013 1     1   615      615             0        1039     1100          \n",
       "30     2013 1     1   615      615             0         833      842          \n",
       "⋮      ⋮    ⋮     ⋮   ⋮        ⋮              ⋮         ⋮        ⋮             \n",
       "336747 2013 9     30  2123     2125            -2       2223     2247          \n",
       "336748 2013 9     30  2127     2129            -2       2314     2323          \n",
       "336749 2013 9     30  2128     2130            -2       2328     2359          \n",
       "336750 2013 9     30  2129     2059            30       2230     2232          \n",
       "336751 2013 9     30  2131     2140            -9       2225     2255          \n",
       "336752 2013 9     30  2140     2140             0         10       40          \n",
       "336753 2013 9     30  2142     2129            13       2250     2239          \n",
       "336754 2013 9     30  2145     2145             0        115      140          \n",
       "336755 2013 9     30  2147     2137            10         30       27          \n",
       "336756 2013 9     30  2149     2156            -7       2245     2308          \n",
       "336757 2013 9     30  2150     2159            -9       2250     2306          \n",
       "336758 2013 9     30  2159     1845           194       2344     2030          \n",
       "336759 2013 9     30  2203     2205            -2       2339     2331          \n",
       "336760 2013 9     30  2207     2140            27       2257     2250          \n",
       "336761 2013 9     30  2211     2059            72       2339     2242          \n",
       "336762 2013 9     30  2231     2245           -14       2335     2356          \n",
       "336763 2013 9     30  2233     2113            80        112       30          \n",
       "336764 2013 9     30  2235     2001           154         59     2249          \n",
       "336765 2013 9     30  2237     2245            -8       2345     2353          \n",
       "336766 2013 9     30  2240     2245            -5       2334     2351          \n",
       "336767 2013 9     30  2240     2250           -10       2347        7          \n",
       "336768 2013 9     30  2241     2246            -5       2345        1          \n",
       "336769 2013 9     30  2307     2255            12       2359     2358          \n",
       "336770 2013 9     30  2349     2359           -10        325      350          \n",
       "336771 2013 9     30    NA     1842            NA         NA     2019          \n",
       "336772 2013 9     30    NA     1455            NA         NA     1634          \n",
       "336773 2013 9     30    NA     2200            NA         NA     2312          \n",
       "336774 2013 9     30    NA     1210            NA         NA     1330          \n",
       "336775 2013 9     30    NA     1159            NA         NA     1344          \n",
       "336776 2013 9     30    NA      840            NA         NA     1020          \n",
       "       arr_delay carrier flight tailnum origin dest air_time distance hour\n",
       "1       11       UA      1545   N14228  EWR    IAH  227      1400     5   \n",
       "2       20       UA      1714   N24211  LGA    IAH  227      1416     5   \n",
       "3       33       AA      1141   N619AA  JFK    MIA  160      1089     5   \n",
       "4      -18       B6       725   N804JB  JFK    BQN  183      1576     5   \n",
       "5      -25       DL       461   N668DN  LGA    ATL  116       762     6   \n",
       "6       12       UA      1696   N39463  EWR    ORD  150       719     5   \n",
       "7       19       B6       507   N516JB  EWR    FLL  158      1065     6   \n",
       "8      -14       EV      5708   N829AS  LGA    IAD   53       229     6   \n",
       "9       -8       B6        79   N593JB  JFK    MCO  140       944     6   \n",
       "10       8       AA       301   N3ALAA  LGA    ORD  138       733     6   \n",
       "11      -2       B6        49   N793JB  JFK    PBI  149      1028     6   \n",
       "12      -3       B6        71   N657JB  JFK    TPA  158      1005     6   \n",
       "13       7       UA       194   N29129  JFK    LAX  345      2475     6   \n",
       "14     -14       UA      1124   N53441  EWR    SFO  361      2565     6   \n",
       "15      31       AA       707   N3DUAA  LGA    DFW  257      1389     6   \n",
       "16      -4       B6      1806   N708JB  JFK    BOS   44       187     5   \n",
       "17      -8       UA      1187   N76515  EWR    LAS  337      2227     6   \n",
       "18      -7       B6       371   N595JB  LGA    FLL  152      1076     6   \n",
       "19      12       MQ      4650   N542MQ  LGA    ATL  134       762     6   \n",
       "20      -6       B6       343   N644JB  EWR    PBI  147      1023     6   \n",
       "21      -8       DL      1919   N971DL  LGA    MSP  170      1020     6   \n",
       "22      16       MQ      4401   N730MQ  LGA    DTW  105       502     6   \n",
       "23     -12       AA      1895   N633AA  EWR    MIA  152      1085     6   \n",
       "24      -8       DL      1743   N3739P  JFK    ATL  128       760     6   \n",
       "25     -17       UA      1077   N53442  EWR    MIA  157      1085     6   \n",
       "26      32       MQ      3768   N9EAMQ  EWR    ORD  139       719     6   \n",
       "27      14       UA       303   N532UA  JFK    SFO  366      2586     6   \n",
       "28       4       B6       135   N635JB  JFK    RSW  175      1074     6   \n",
       "29     -21       B6       709   N794JB  JFK    SJU  182      1598     6   \n",
       "30      -9       DL       575   N326NB  EWR    ATL  120       746     6   \n",
       "⋮      ⋮         ⋮       ⋮      ⋮       ⋮      ⋮    ⋮        ⋮        ⋮   \n",
       "336747 -24       EV      5489   N712EV  LGA    CHO   45       305     21  \n",
       "336748  -9       EV      3833   N16546  EWR    CLT   72       529     21  \n",
       "336749 -31       B6        97   N807JB  JFK    DEN  213      1626     21  \n",
       "336750  -2       EV      5048   N751EV  LGA    RIC   45       292     20  \n",
       "336751 -30       MQ      3621   N807MQ  JFK    DCA   36       213     21  \n",
       "336752 -30       AA       185   N335AA  JFK    LAX  298      2475     21  \n",
       "336753  11       EV      4509   N12957  EWR    PWM   47       284     21  \n",
       "336754 -25       B6      1103   N633JB  JFK    SJU  192      1598     21  \n",
       "336755   3       B6      1371   N627JB  LGA    FLL  139      1076     21  \n",
       "336756 -23       UA       523   N813UA  EWR    BOS   37       200     21  \n",
       "336757 -16       EV      3842   N10575  EWR    MHT   39       209     21  \n",
       "336758 194       9E      3320   N906XJ  JFK    BUF   50       301     18  \n",
       "336759   8       EV      5311   N722EV  LGA    BGR   61       378     22  \n",
       "336760   7       MQ      3660   N532MQ  LGA    BNA   97       764     21  \n",
       "336761  57       EV      4672   N12145  EWR    STL  120       872     20  \n",
       "336762 -21       B6       108   N193JB  JFK    PWM   48       273     22  \n",
       "336763  42       UA       471   N578UA  EWR    SFO  318      2565     21  \n",
       "336764 130       B6      1083   N804JB  JFK    MCO  123       944     20  \n",
       "336765  -8       B6       234   N318JB  JFK    BTV   43       266     22  \n",
       "336766 -17       B6      1816   N354JB  JFK    SYR   41       209     22  \n",
       "336767 -20       B6      2002   N281JB  JFK    BUF   52       301     22  \n",
       "336768 -16       B6       486   N346JB  JFK    ROC   47       264     22  \n",
       "336769   1       B6       718   N565JB  JFK    BOS   33       187     22  \n",
       "336770 -25       B6       745   N516JB  JFK    PSE  196      1617     23  \n",
       "336771  NA       EV      5274   N740EV  LGA    BNA   NA       764     18  \n",
       "336772  NA       9E      3393   NA      JFK    DCA   NA       213     14  \n",
       "336773  NA       9E      3525   NA      LGA    SYR   NA       198     22  \n",
       "336774  NA       MQ      3461   N535MQ  LGA    BNA   NA       764     12  \n",
       "336775  NA       MQ      3572   N511MQ  LGA    CLE   NA       419     11  \n",
       "336776  NA       MQ      3531   N839MQ  LGA    RDU   NA       431      8  \n",
       "       minute time_hour          \n",
       "1      15     2013-01-01 05:00:00\n",
       "2      29     2013-01-01 05:00:00\n",
       "3      40     2013-01-01 05:00:00\n",
       "4      45     2013-01-01 05:00:00\n",
       "5       0     2013-01-01 06:00:00\n",
       "6      58     2013-01-01 05:00:00\n",
       "7       0     2013-01-01 06:00:00\n",
       "8       0     2013-01-01 06:00:00\n",
       "9       0     2013-01-01 06:00:00\n",
       "10      0     2013-01-01 06:00:00\n",
       "11      0     2013-01-01 06:00:00\n",
       "12      0     2013-01-01 06:00:00\n",
       "13      0     2013-01-01 06:00:00\n",
       "14      0     2013-01-01 06:00:00\n",
       "15      0     2013-01-01 06:00:00\n",
       "16     59     2013-01-01 05:00:00\n",
       "17      0     2013-01-01 06:00:00\n",
       "18      0     2013-01-01 06:00:00\n",
       "19      0     2013-01-01 06:00:00\n",
       "20      0     2013-01-01 06:00:00\n",
       "21     10     2013-01-01 06:00:00\n",
       "22      5     2013-01-01 06:00:00\n",
       "23     10     2013-01-01 06:00:00\n",
       "24     10     2013-01-01 06:00:00\n",
       "25      7     2013-01-01 06:00:00\n",
       "26      0     2013-01-01 06:00:00\n",
       "27      0     2013-01-01 06:00:00\n",
       "28     10     2013-01-01 06:00:00\n",
       "29     15     2013-01-01 06:00:00\n",
       "30     15     2013-01-01 06:00:00\n",
       "⋮      ⋮      ⋮                  \n",
       "336747 25     2013-09-30 21:00:00\n",
       "336748 29     2013-09-30 21:00:00\n",
       "336749 30     2013-09-30 21:00:00\n",
       "336750 59     2013-09-30 20:00:00\n",
       "336751 40     2013-09-30 21:00:00\n",
       "336752 40     2013-09-30 21:00:00\n",
       "336753 29     2013-09-30 21:00:00\n",
       "336754 45     2013-09-30 21:00:00\n",
       "336755 37     2013-09-30 21:00:00\n",
       "336756 56     2013-09-30 21:00:00\n",
       "336757 59     2013-09-30 21:00:00\n",
       "336758 45     2013-09-30 18:00:00\n",
       "336759  5     2013-09-30 22:00:00\n",
       "336760 40     2013-09-30 21:00:00\n",
       "336761 59     2013-09-30 20:00:00\n",
       "336762 45     2013-09-30 22:00:00\n",
       "336763 13     2013-09-30 21:00:00\n",
       "336764  1     2013-09-30 20:00:00\n",
       "336765 45     2013-09-30 22:00:00\n",
       "336766 45     2013-09-30 22:00:00\n",
       "336767 50     2013-09-30 22:00:00\n",
       "336768 46     2013-09-30 22:00:00\n",
       "336769 55     2013-09-30 22:00:00\n",
       "336770 59     2013-09-30 23:00:00\n",
       "336771 42     2013-09-30 18:00:00\n",
       "336772 55     2013-09-30 14:00:00\n",
       "336773  0     2013-09-30 22:00:00\n",
       "336774 10     2013-09-30 12:00:00\n",
       "336775 59     2013-09-30 11:00:00\n",
       "336776 40     2013-09-30 08:00:00"
      ]
     },
     "metadata": {},
     "output_type": "display_data"
    }
   ],
   "source": [
    "flights"
   ]
  },
  {
   "cell_type": "code",
   "execution_count": 11,
   "id": "distinct-steam",
   "metadata": {},
   "outputs": [
    {
     "data": {
      "text/html": [
       "<time datetime=\"2017-04-21\">2017-04-21</time>"
      ],
      "text/latex": [
       "2017-04-21"
      ],
      "text/markdown": [
       "2017-04-21"
      ],
      "text/plain": [
       "[1] \"2017-04-21\""
      ]
     },
     "metadata": {},
     "output_type": "display_data"
    }
   ],
   "source": [
    "make_date(2017, 4, 21)"
   ]
  },
  {
   "cell_type": "code",
   "execution_count": 12,
   "id": "baking-district",
   "metadata": {
    "scrolled": true
   },
   "outputs": [
    {
     "data": {
      "text/html": [
       "<table class=\"dataframe\">\n",
       "<caption>A tibble: 336776 × 4</caption>\n",
       "<thead>\n",
       "\t<tr><th scope=col>year</th><th scope=col>month</th><th scope=col>day</th><th scope=col>date</th></tr>\n",
       "\t<tr><th scope=col>&lt;int&gt;</th><th scope=col>&lt;int&gt;</th><th scope=col>&lt;int&gt;</th><th scope=col>&lt;date&gt;</th></tr>\n",
       "</thead>\n",
       "<tbody>\n",
       "\t<tr><td>2013</td><td>1</td><td>1</td><td>2013-01-01</td></tr>\n",
       "\t<tr><td>2013</td><td>1</td><td>1</td><td>2013-01-01</td></tr>\n",
       "\t<tr><td>2013</td><td>1</td><td>1</td><td>2013-01-01</td></tr>\n",
       "\t<tr><td>2013</td><td>1</td><td>1</td><td>2013-01-01</td></tr>\n",
       "\t<tr><td>2013</td><td>1</td><td>1</td><td>2013-01-01</td></tr>\n",
       "\t<tr><td>2013</td><td>1</td><td>1</td><td>2013-01-01</td></tr>\n",
       "\t<tr><td>2013</td><td>1</td><td>1</td><td>2013-01-01</td></tr>\n",
       "\t<tr><td>2013</td><td>1</td><td>1</td><td>2013-01-01</td></tr>\n",
       "\t<tr><td>2013</td><td>1</td><td>1</td><td>2013-01-01</td></tr>\n",
       "\t<tr><td>2013</td><td>1</td><td>1</td><td>2013-01-01</td></tr>\n",
       "\t<tr><td>2013</td><td>1</td><td>1</td><td>2013-01-01</td></tr>\n",
       "\t<tr><td>2013</td><td>1</td><td>1</td><td>2013-01-01</td></tr>\n",
       "\t<tr><td>2013</td><td>1</td><td>1</td><td>2013-01-01</td></tr>\n",
       "\t<tr><td>2013</td><td>1</td><td>1</td><td>2013-01-01</td></tr>\n",
       "\t<tr><td>2013</td><td>1</td><td>1</td><td>2013-01-01</td></tr>\n",
       "\t<tr><td>2013</td><td>1</td><td>1</td><td>2013-01-01</td></tr>\n",
       "\t<tr><td>2013</td><td>1</td><td>1</td><td>2013-01-01</td></tr>\n",
       "\t<tr><td>2013</td><td>1</td><td>1</td><td>2013-01-01</td></tr>\n",
       "\t<tr><td>2013</td><td>1</td><td>1</td><td>2013-01-01</td></tr>\n",
       "\t<tr><td>2013</td><td>1</td><td>1</td><td>2013-01-01</td></tr>\n",
       "\t<tr><td>2013</td><td>1</td><td>1</td><td>2013-01-01</td></tr>\n",
       "\t<tr><td>2013</td><td>1</td><td>1</td><td>2013-01-01</td></tr>\n",
       "\t<tr><td>2013</td><td>1</td><td>1</td><td>2013-01-01</td></tr>\n",
       "\t<tr><td>2013</td><td>1</td><td>1</td><td>2013-01-01</td></tr>\n",
       "\t<tr><td>2013</td><td>1</td><td>1</td><td>2013-01-01</td></tr>\n",
       "\t<tr><td>2013</td><td>1</td><td>1</td><td>2013-01-01</td></tr>\n",
       "\t<tr><td>2013</td><td>1</td><td>1</td><td>2013-01-01</td></tr>\n",
       "\t<tr><td>2013</td><td>1</td><td>1</td><td>2013-01-01</td></tr>\n",
       "\t<tr><td>2013</td><td>1</td><td>1</td><td>2013-01-01</td></tr>\n",
       "\t<tr><td>2013</td><td>1</td><td>1</td><td>2013-01-01</td></tr>\n",
       "\t<tr><td>⋮</td><td>⋮</td><td>⋮</td><td>⋮</td></tr>\n",
       "\t<tr><td>2013</td><td>9</td><td>30</td><td>2013-09-30</td></tr>\n",
       "\t<tr><td>2013</td><td>9</td><td>30</td><td>2013-09-30</td></tr>\n",
       "\t<tr><td>2013</td><td>9</td><td>30</td><td>2013-09-30</td></tr>\n",
       "\t<tr><td>2013</td><td>9</td><td>30</td><td>2013-09-30</td></tr>\n",
       "\t<tr><td>2013</td><td>9</td><td>30</td><td>2013-09-30</td></tr>\n",
       "\t<tr><td>2013</td><td>9</td><td>30</td><td>2013-09-30</td></tr>\n",
       "\t<tr><td>2013</td><td>9</td><td>30</td><td>2013-09-30</td></tr>\n",
       "\t<tr><td>2013</td><td>9</td><td>30</td><td>2013-09-30</td></tr>\n",
       "\t<tr><td>2013</td><td>9</td><td>30</td><td>2013-09-30</td></tr>\n",
       "\t<tr><td>2013</td><td>9</td><td>30</td><td>2013-09-30</td></tr>\n",
       "\t<tr><td>2013</td><td>9</td><td>30</td><td>2013-09-30</td></tr>\n",
       "\t<tr><td>2013</td><td>9</td><td>30</td><td>2013-09-30</td></tr>\n",
       "\t<tr><td>2013</td><td>9</td><td>30</td><td>2013-09-30</td></tr>\n",
       "\t<tr><td>2013</td><td>9</td><td>30</td><td>2013-09-30</td></tr>\n",
       "\t<tr><td>2013</td><td>9</td><td>30</td><td>2013-09-30</td></tr>\n",
       "\t<tr><td>2013</td><td>9</td><td>30</td><td>2013-09-30</td></tr>\n",
       "\t<tr><td>2013</td><td>9</td><td>30</td><td>2013-09-30</td></tr>\n",
       "\t<tr><td>2013</td><td>9</td><td>30</td><td>2013-09-30</td></tr>\n",
       "\t<tr><td>2013</td><td>9</td><td>30</td><td>2013-09-30</td></tr>\n",
       "\t<tr><td>2013</td><td>9</td><td>30</td><td>2013-09-30</td></tr>\n",
       "\t<tr><td>2013</td><td>9</td><td>30</td><td>2013-09-30</td></tr>\n",
       "\t<tr><td>2013</td><td>9</td><td>30</td><td>2013-09-30</td></tr>\n",
       "\t<tr><td>2013</td><td>9</td><td>30</td><td>2013-09-30</td></tr>\n",
       "\t<tr><td>2013</td><td>9</td><td>30</td><td>2013-09-30</td></tr>\n",
       "\t<tr><td>2013</td><td>9</td><td>30</td><td>2013-09-30</td></tr>\n",
       "\t<tr><td>2013</td><td>9</td><td>30</td><td>2013-09-30</td></tr>\n",
       "\t<tr><td>2013</td><td>9</td><td>30</td><td>2013-09-30</td></tr>\n",
       "\t<tr><td>2013</td><td>9</td><td>30</td><td>2013-09-30</td></tr>\n",
       "\t<tr><td>2013</td><td>9</td><td>30</td><td>2013-09-30</td></tr>\n",
       "\t<tr><td>2013</td><td>9</td><td>30</td><td>2013-09-30</td></tr>\n",
       "</tbody>\n",
       "</table>\n"
      ],
      "text/latex": [
       "A tibble: 336776 × 4\n",
       "\\begin{tabular}{llll}\n",
       " year & month & day & date\\\\\n",
       " <int> & <int> & <int> & <date>\\\\\n",
       "\\hline\n",
       "\t 2013 & 1 & 1 & 2013-01-01\\\\\n",
       "\t 2013 & 1 & 1 & 2013-01-01\\\\\n",
       "\t 2013 & 1 & 1 & 2013-01-01\\\\\n",
       "\t 2013 & 1 & 1 & 2013-01-01\\\\\n",
       "\t 2013 & 1 & 1 & 2013-01-01\\\\\n",
       "\t 2013 & 1 & 1 & 2013-01-01\\\\\n",
       "\t 2013 & 1 & 1 & 2013-01-01\\\\\n",
       "\t 2013 & 1 & 1 & 2013-01-01\\\\\n",
       "\t 2013 & 1 & 1 & 2013-01-01\\\\\n",
       "\t 2013 & 1 & 1 & 2013-01-01\\\\\n",
       "\t 2013 & 1 & 1 & 2013-01-01\\\\\n",
       "\t 2013 & 1 & 1 & 2013-01-01\\\\\n",
       "\t 2013 & 1 & 1 & 2013-01-01\\\\\n",
       "\t 2013 & 1 & 1 & 2013-01-01\\\\\n",
       "\t 2013 & 1 & 1 & 2013-01-01\\\\\n",
       "\t 2013 & 1 & 1 & 2013-01-01\\\\\n",
       "\t 2013 & 1 & 1 & 2013-01-01\\\\\n",
       "\t 2013 & 1 & 1 & 2013-01-01\\\\\n",
       "\t 2013 & 1 & 1 & 2013-01-01\\\\\n",
       "\t 2013 & 1 & 1 & 2013-01-01\\\\\n",
       "\t 2013 & 1 & 1 & 2013-01-01\\\\\n",
       "\t 2013 & 1 & 1 & 2013-01-01\\\\\n",
       "\t 2013 & 1 & 1 & 2013-01-01\\\\\n",
       "\t 2013 & 1 & 1 & 2013-01-01\\\\\n",
       "\t 2013 & 1 & 1 & 2013-01-01\\\\\n",
       "\t 2013 & 1 & 1 & 2013-01-01\\\\\n",
       "\t 2013 & 1 & 1 & 2013-01-01\\\\\n",
       "\t 2013 & 1 & 1 & 2013-01-01\\\\\n",
       "\t 2013 & 1 & 1 & 2013-01-01\\\\\n",
       "\t 2013 & 1 & 1 & 2013-01-01\\\\\n",
       "\t ⋮ & ⋮ & ⋮ & ⋮\\\\\n",
       "\t 2013 & 9 & 30 & 2013-09-30\\\\\n",
       "\t 2013 & 9 & 30 & 2013-09-30\\\\\n",
       "\t 2013 & 9 & 30 & 2013-09-30\\\\\n",
       "\t 2013 & 9 & 30 & 2013-09-30\\\\\n",
       "\t 2013 & 9 & 30 & 2013-09-30\\\\\n",
       "\t 2013 & 9 & 30 & 2013-09-30\\\\\n",
       "\t 2013 & 9 & 30 & 2013-09-30\\\\\n",
       "\t 2013 & 9 & 30 & 2013-09-30\\\\\n",
       "\t 2013 & 9 & 30 & 2013-09-30\\\\\n",
       "\t 2013 & 9 & 30 & 2013-09-30\\\\\n",
       "\t 2013 & 9 & 30 & 2013-09-30\\\\\n",
       "\t 2013 & 9 & 30 & 2013-09-30\\\\\n",
       "\t 2013 & 9 & 30 & 2013-09-30\\\\\n",
       "\t 2013 & 9 & 30 & 2013-09-30\\\\\n",
       "\t 2013 & 9 & 30 & 2013-09-30\\\\\n",
       "\t 2013 & 9 & 30 & 2013-09-30\\\\\n",
       "\t 2013 & 9 & 30 & 2013-09-30\\\\\n",
       "\t 2013 & 9 & 30 & 2013-09-30\\\\\n",
       "\t 2013 & 9 & 30 & 2013-09-30\\\\\n",
       "\t 2013 & 9 & 30 & 2013-09-30\\\\\n",
       "\t 2013 & 9 & 30 & 2013-09-30\\\\\n",
       "\t 2013 & 9 & 30 & 2013-09-30\\\\\n",
       "\t 2013 & 9 & 30 & 2013-09-30\\\\\n",
       "\t 2013 & 9 & 30 & 2013-09-30\\\\\n",
       "\t 2013 & 9 & 30 & 2013-09-30\\\\\n",
       "\t 2013 & 9 & 30 & 2013-09-30\\\\\n",
       "\t 2013 & 9 & 30 & 2013-09-30\\\\\n",
       "\t 2013 & 9 & 30 & 2013-09-30\\\\\n",
       "\t 2013 & 9 & 30 & 2013-09-30\\\\\n",
       "\t 2013 & 9 & 30 & 2013-09-30\\\\\n",
       "\\end{tabular}\n"
      ],
      "text/markdown": [
       "\n",
       "A tibble: 336776 × 4\n",
       "\n",
       "| year &lt;int&gt; | month &lt;int&gt; | day &lt;int&gt; | date &lt;date&gt; |\n",
       "|---|---|---|---|\n",
       "| 2013 | 1 | 1 | 2013-01-01 |\n",
       "| 2013 | 1 | 1 | 2013-01-01 |\n",
       "| 2013 | 1 | 1 | 2013-01-01 |\n",
       "| 2013 | 1 | 1 | 2013-01-01 |\n",
       "| 2013 | 1 | 1 | 2013-01-01 |\n",
       "| 2013 | 1 | 1 | 2013-01-01 |\n",
       "| 2013 | 1 | 1 | 2013-01-01 |\n",
       "| 2013 | 1 | 1 | 2013-01-01 |\n",
       "| 2013 | 1 | 1 | 2013-01-01 |\n",
       "| 2013 | 1 | 1 | 2013-01-01 |\n",
       "| 2013 | 1 | 1 | 2013-01-01 |\n",
       "| 2013 | 1 | 1 | 2013-01-01 |\n",
       "| 2013 | 1 | 1 | 2013-01-01 |\n",
       "| 2013 | 1 | 1 | 2013-01-01 |\n",
       "| 2013 | 1 | 1 | 2013-01-01 |\n",
       "| 2013 | 1 | 1 | 2013-01-01 |\n",
       "| 2013 | 1 | 1 | 2013-01-01 |\n",
       "| 2013 | 1 | 1 | 2013-01-01 |\n",
       "| 2013 | 1 | 1 | 2013-01-01 |\n",
       "| 2013 | 1 | 1 | 2013-01-01 |\n",
       "| 2013 | 1 | 1 | 2013-01-01 |\n",
       "| 2013 | 1 | 1 | 2013-01-01 |\n",
       "| 2013 | 1 | 1 | 2013-01-01 |\n",
       "| 2013 | 1 | 1 | 2013-01-01 |\n",
       "| 2013 | 1 | 1 | 2013-01-01 |\n",
       "| 2013 | 1 | 1 | 2013-01-01 |\n",
       "| 2013 | 1 | 1 | 2013-01-01 |\n",
       "| 2013 | 1 | 1 | 2013-01-01 |\n",
       "| 2013 | 1 | 1 | 2013-01-01 |\n",
       "| 2013 | 1 | 1 | 2013-01-01 |\n",
       "| ⋮ | ⋮ | ⋮ | ⋮ |\n",
       "| 2013 | 9 | 30 | 2013-09-30 |\n",
       "| 2013 | 9 | 30 | 2013-09-30 |\n",
       "| 2013 | 9 | 30 | 2013-09-30 |\n",
       "| 2013 | 9 | 30 | 2013-09-30 |\n",
       "| 2013 | 9 | 30 | 2013-09-30 |\n",
       "| 2013 | 9 | 30 | 2013-09-30 |\n",
       "| 2013 | 9 | 30 | 2013-09-30 |\n",
       "| 2013 | 9 | 30 | 2013-09-30 |\n",
       "| 2013 | 9 | 30 | 2013-09-30 |\n",
       "| 2013 | 9 | 30 | 2013-09-30 |\n",
       "| 2013 | 9 | 30 | 2013-09-30 |\n",
       "| 2013 | 9 | 30 | 2013-09-30 |\n",
       "| 2013 | 9 | 30 | 2013-09-30 |\n",
       "| 2013 | 9 | 30 | 2013-09-30 |\n",
       "| 2013 | 9 | 30 | 2013-09-30 |\n",
       "| 2013 | 9 | 30 | 2013-09-30 |\n",
       "| 2013 | 9 | 30 | 2013-09-30 |\n",
       "| 2013 | 9 | 30 | 2013-09-30 |\n",
       "| 2013 | 9 | 30 | 2013-09-30 |\n",
       "| 2013 | 9 | 30 | 2013-09-30 |\n",
       "| 2013 | 9 | 30 | 2013-09-30 |\n",
       "| 2013 | 9 | 30 | 2013-09-30 |\n",
       "| 2013 | 9 | 30 | 2013-09-30 |\n",
       "| 2013 | 9 | 30 | 2013-09-30 |\n",
       "| 2013 | 9 | 30 | 2013-09-30 |\n",
       "| 2013 | 9 | 30 | 2013-09-30 |\n",
       "| 2013 | 9 | 30 | 2013-09-30 |\n",
       "| 2013 | 9 | 30 | 2013-09-30 |\n",
       "| 2013 | 9 | 30 | 2013-09-30 |\n",
       "| 2013 | 9 | 30 | 2013-09-30 |\n",
       "\n"
      ],
      "text/plain": [
       "       year month day date      \n",
       "1      2013 1     1   2013-01-01\n",
       "2      2013 1     1   2013-01-01\n",
       "3      2013 1     1   2013-01-01\n",
       "4      2013 1     1   2013-01-01\n",
       "5      2013 1     1   2013-01-01\n",
       "6      2013 1     1   2013-01-01\n",
       "7      2013 1     1   2013-01-01\n",
       "8      2013 1     1   2013-01-01\n",
       "9      2013 1     1   2013-01-01\n",
       "10     2013 1     1   2013-01-01\n",
       "11     2013 1     1   2013-01-01\n",
       "12     2013 1     1   2013-01-01\n",
       "13     2013 1     1   2013-01-01\n",
       "14     2013 1     1   2013-01-01\n",
       "15     2013 1     1   2013-01-01\n",
       "16     2013 1     1   2013-01-01\n",
       "17     2013 1     1   2013-01-01\n",
       "18     2013 1     1   2013-01-01\n",
       "19     2013 1     1   2013-01-01\n",
       "20     2013 1     1   2013-01-01\n",
       "21     2013 1     1   2013-01-01\n",
       "22     2013 1     1   2013-01-01\n",
       "23     2013 1     1   2013-01-01\n",
       "24     2013 1     1   2013-01-01\n",
       "25     2013 1     1   2013-01-01\n",
       "26     2013 1     1   2013-01-01\n",
       "27     2013 1     1   2013-01-01\n",
       "28     2013 1     1   2013-01-01\n",
       "29     2013 1     1   2013-01-01\n",
       "30     2013 1     1   2013-01-01\n",
       "⋮      ⋮    ⋮     ⋮   ⋮         \n",
       "336747 2013 9     30  2013-09-30\n",
       "336748 2013 9     30  2013-09-30\n",
       "336749 2013 9     30  2013-09-30\n",
       "336750 2013 9     30  2013-09-30\n",
       "336751 2013 9     30  2013-09-30\n",
       "336752 2013 9     30  2013-09-30\n",
       "336753 2013 9     30  2013-09-30\n",
       "336754 2013 9     30  2013-09-30\n",
       "336755 2013 9     30  2013-09-30\n",
       "336756 2013 9     30  2013-09-30\n",
       "336757 2013 9     30  2013-09-30\n",
       "336758 2013 9     30  2013-09-30\n",
       "336759 2013 9     30  2013-09-30\n",
       "336760 2013 9     30  2013-09-30\n",
       "336761 2013 9     30  2013-09-30\n",
       "336762 2013 9     30  2013-09-30\n",
       "336763 2013 9     30  2013-09-30\n",
       "336764 2013 9     30  2013-09-30\n",
       "336765 2013 9     30  2013-09-30\n",
       "336766 2013 9     30  2013-09-30\n",
       "336767 2013 9     30  2013-09-30\n",
       "336768 2013 9     30  2013-09-30\n",
       "336769 2013 9     30  2013-09-30\n",
       "336770 2013 9     30  2013-09-30\n",
       "336771 2013 9     30  2013-09-30\n",
       "336772 2013 9     30  2013-09-30\n",
       "336773 2013 9     30  2013-09-30\n",
       "336774 2013 9     30  2013-09-30\n",
       "336775 2013 9     30  2013-09-30\n",
       "336776 2013 9     30  2013-09-30"
      ]
     },
     "metadata": {},
     "output_type": "display_data"
    }
   ],
   "source": [
    "# make_date is a useful function when year, month, and day are spread over multiple columns\n",
    "flights %>%\n",
    "    select(year, month, day) %>%\n",
    "    mutate(date = make_date(year, month, day))"
   ]
  },
  {
   "cell_type": "markdown",
   "id": "written-carbon",
   "metadata": {},
   "source": [
    "- We can similarly create date-times.\n",
    "- UTC is Coordinated Universal Time"
   ]
  },
  {
   "cell_type": "code",
   "execution_count": 16,
   "id": "supreme-insured",
   "metadata": {},
   "outputs": [
    {
     "data": {
      "text/plain": [
       "[1] \"2017-01-31 20:11:59 UTC\""
      ]
     },
     "metadata": {},
     "output_type": "display_data"
    },
    {
     "data": {
      "text/plain": [
       "[1] \"2017-01-31 20:11:59 UTC\""
      ]
     },
     "metadata": {},
     "output_type": "display_data"
    },
    {
     "data": {
      "text/plain": [
       "[1] \"2017-01-31 08:01:00 UTC\""
      ]
     },
     "metadata": {},
     "output_type": "display_data"
    },
    {
     "data": {
      "text/plain": [
       "[1] \"2017-01-31 08:00:00 UTC\""
      ]
     },
     "metadata": {},
     "output_type": "display_data"
    }
   ],
   "source": [
    "# hms is hour, minute, second\n",
    "ymd_hms(\"2017-01-31 20:11:59\")\n",
    "ymd_hms(\"2017-01-31 8:11:59PM\")\n",
    "\n",
    "# we can also leave off seconds\n",
    "mdy_hm(\"01/31/2017 08:01\")\n",
    "mdy_h(\"01/31/2017 8\")"
   ]
  },
  {
   "cell_type": "code",
   "execution_count": 18,
   "id": "cheap-smoke",
   "metadata": {},
   "outputs": [
    {
     "data": {
      "text/plain": [
       "[1] \"2017-01-31 20:11:59 UTC\""
      ]
     },
     "metadata": {},
     "output_type": "display_data"
    }
   ],
   "source": [
    "ymd_hms(20170131201159)"
   ]
  },
  {
   "cell_type": "code",
   "execution_count": 24,
   "id": "wound-montgomery",
   "metadata": {},
   "outputs": [
    {
     "data": {
      "text/plain": [
       "[1] \"2017-01-31 20:11:59 PST\""
      ]
     },
     "metadata": {},
     "output_type": "display_data"
    }
   ],
   "source": [
    "# we can force a timezone\n",
    "ymd_hms(\"2017-01-31 20:11:59\", tz = \"US/Pacific\")"
   ]
  },
  {
   "cell_type": "code",
   "execution_count": 23,
   "id": "standard-student",
   "metadata": {},
   "outputs": [
    {
     "name": "stdout",
     "output_type": "stream",
     "text": [
      "Africa/Abidjan\n",
      "Africa/Accra\n",
      "Africa/Addis_Ababa\n",
      "Africa/Algiers\n",
      "Africa/Asmara\n",
      "Africa/Asmera\n",
      "Africa/Bamako\n",
      "Africa/Bangui\n",
      "Africa/Banjul\n",
      "Africa/Bissau\n",
      "Africa/Blantyre\n",
      "Africa/Brazzaville\n",
      "Africa/Bujumbura\n",
      "Africa/Cairo\n",
      "Africa/Casablanca\n",
      "Africa/Ceuta\n",
      "Africa/Conakry\n",
      "Africa/Dakar\n",
      "Africa/Dar_es_Salaam\n",
      "Africa/Djibouti\n",
      "Africa/Douala\n",
      "Africa/El_Aaiun\n",
      "Africa/Freetown\n",
      "Africa/Gaborone\n",
      "Africa/Harare\n",
      "Africa/Johannesburg\n",
      "Africa/Juba\n",
      "Africa/Kampala\n",
      "Africa/Khartoum\n",
      "Africa/Kigali\n",
      "Africa/Kinshasa\n",
      "Africa/Lagos\n",
      "Africa/Libreville\n",
      "Africa/Lome\n",
      "Africa/Luanda\n",
      "Africa/Lubumbashi\n",
      "Africa/Lusaka\n",
      "Africa/Malabo\n",
      "Africa/Maputo\n",
      "Africa/Maseru\n",
      "Africa/Mbabane\n",
      "Africa/Mogadishu\n",
      "Africa/Monrovia\n",
      "Africa/Nairobi\n",
      "Africa/Ndjamena\n",
      "Africa/Niamey\n",
      "Africa/Nouakchott\n",
      "Africa/Ouagadougou\n",
      "Africa/Porto-Novo\n",
      "Africa/Sao_Tome\n",
      "Africa/Timbuktu\n",
      "Africa/Tripoli\n",
      "Africa/Tunis\n",
      "Africa/Windhoek\n",
      "America/Adak\n",
      "America/Anchorage\n",
      "America/Anguilla\n",
      "America/Antigua\n",
      "America/Araguaina\n",
      "America/Argentina/Buenos_Aires\n",
      "America/Argentina/Catamarca\n",
      "America/Argentina/ComodRivadavia\n",
      "America/Argentina/Cordoba\n",
      "America/Argentina/Jujuy\n",
      "America/Argentina/La_Rioja\n",
      "America/Argentina/Mendoza\n",
      "America/Argentina/Rio_Gallegos\n",
      "America/Argentina/Salta\n",
      "America/Argentina/San_Juan\n",
      "America/Argentina/San_Luis\n",
      "America/Argentina/Tucuman\n",
      "America/Argentina/Ushuaia\n",
      "America/Aruba\n",
      "America/Asuncion\n",
      "America/Atikokan\n",
      "America/Atka\n",
      "America/Bahia\n",
      "America/Bahia_Banderas\n",
      "America/Barbados\n",
      "America/Belem\n",
      "America/Belize\n",
      "America/Blanc-Sablon\n",
      "America/Boa_Vista\n",
      "America/Bogota\n",
      "America/Boise\n",
      "America/Buenos_Aires\n",
      "America/Cambridge_Bay\n",
      "America/Campo_Grande\n",
      "America/Cancun\n",
      "America/Caracas\n",
      "America/Catamarca\n",
      "America/Cayenne\n",
      "America/Cayman\n",
      "America/Chicago\n",
      "America/Chihuahua\n",
      "America/Coral_Harbour\n",
      "America/Cordoba\n",
      "America/Costa_Rica\n",
      "America/Creston\n",
      "America/Cuiaba\n",
      "America/Curacao\n",
      "America/Danmarkshavn\n",
      "America/Dawson\n",
      "America/Dawson_Creek\n",
      "America/Denver\n",
      "America/Detroit\n",
      "America/Dominica\n",
      "America/Edmonton\n",
      "America/Eirunepe\n",
      "America/El_Salvador\n",
      "America/Ensenada\n",
      "America/Fort_Nelson\n",
      "America/Fort_Wayne\n",
      "America/Fortaleza\n",
      "America/Glace_Bay\n",
      "America/Godthab\n",
      "America/Goose_Bay\n",
      "America/Grand_Turk\n",
      "America/Grenada\n",
      "America/Guadeloupe\n",
      "America/Guatemala\n",
      "America/Guayaquil\n",
      "America/Guyana\n",
      "America/Halifax\n",
      "America/Havana\n",
      "America/Hermosillo\n",
      "America/Indiana/Indianapolis\n",
      "America/Indiana/Knox\n",
      "America/Indiana/Marengo\n",
      "America/Indiana/Petersburg\n",
      "America/Indiana/Tell_City\n",
      "America/Indiana/Vevay\n",
      "America/Indiana/Vincennes\n",
      "America/Indiana/Winamac\n",
      "America/Indianapolis\n",
      "America/Inuvik\n",
      "America/Iqaluit\n",
      "America/Jamaica\n",
      "America/Jujuy\n",
      "America/Juneau\n",
      "America/Kentucky/Louisville\n",
      "America/Kentucky/Monticello\n",
      "America/Knox_IN\n",
      "America/Kralendijk\n",
      "America/La_Paz\n",
      "America/Lima\n",
      "America/Los_Angeles\n",
      "America/Louisville\n",
      "America/Lower_Princes\n",
      "America/Maceio\n",
      "America/Managua\n",
      "America/Manaus\n",
      "America/Marigot\n",
      "America/Martinique\n",
      "America/Matamoros\n",
      "America/Mazatlan\n",
      "America/Mendoza\n",
      "America/Menominee\n",
      "America/Merida\n",
      "America/Metlakatla\n",
      "America/Mexico_City\n",
      "America/Miquelon\n",
      "America/Moncton\n",
      "America/Monterrey\n",
      "America/Montevideo\n",
      "America/Montreal\n",
      "America/Montserrat\n",
      "America/Nassau\n",
      "America/New_York\n",
      "America/Nipigon\n",
      "America/Nome\n",
      "America/Noronha\n",
      "America/North_Dakota/Beulah\n",
      "America/North_Dakota/Center\n",
      "America/North_Dakota/New_Salem\n",
      "America/Nuuk\n",
      "America/Ojinaga\n",
      "America/Panama\n",
      "America/Pangnirtung\n",
      "America/Paramaribo\n",
      "America/Phoenix\n",
      "America/Port_of_Spain\n",
      "America/Port-au-Prince\n",
      "America/Porto_Acre\n",
      "America/Porto_Velho\n",
      "America/Puerto_Rico\n",
      "America/Punta_Arenas\n",
      "America/Rainy_River\n",
      "America/Rankin_Inlet\n",
      "America/Recife\n",
      "America/Regina\n",
      "America/Resolute\n",
      "America/Rio_Branco\n",
      "America/Rosario\n",
      "America/Santa_Isabel\n",
      "America/Santarem\n",
      "America/Santiago\n",
      "America/Santo_Domingo\n",
      "America/Sao_Paulo\n",
      "America/Scoresbysund\n",
      "America/Shiprock\n",
      "America/Sitka\n",
      "America/St_Barthelemy\n",
      "America/St_Johns\n",
      "America/St_Kitts\n",
      "America/St_Lucia\n",
      "America/St_Thomas\n",
      "America/St_Vincent\n",
      "America/Swift_Current\n",
      "America/Tegucigalpa\n",
      "America/Thule\n",
      "America/Thunder_Bay\n",
      "America/Tijuana\n",
      "America/Toronto\n",
      "America/Tortola\n",
      "America/Vancouver\n",
      "America/Virgin\n",
      "America/Whitehorse\n",
      "America/Winnipeg\n",
      "America/Yakutat\n",
      "America/Yellowknife\n",
      "Antarctica/Casey\n",
      "Antarctica/Davis\n",
      "Antarctica/DumontDUrville\n",
      "Antarctica/Macquarie\n",
      "Antarctica/Mawson\n",
      "Antarctica/McMurdo\n",
      "Antarctica/Palmer\n",
      "Antarctica/Rothera\n",
      "Antarctica/South_Pole\n",
      "Antarctica/Syowa\n",
      "Antarctica/Troll\n",
      "Antarctica/Vostok\n",
      "Arctic/Longyearbyen\n",
      "Asia/Aden\n",
      "Asia/Almaty\n",
      "Asia/Amman\n",
      "Asia/Anadyr\n",
      "Asia/Aqtau\n",
      "Asia/Aqtobe\n",
      "Asia/Ashgabat\n",
      "Asia/Ashkhabad\n",
      "Asia/Atyrau\n",
      "Asia/Baghdad\n",
      "Asia/Bahrain\n",
      "Asia/Baku\n",
      "Asia/Bangkok\n",
      "Asia/Barnaul\n",
      "Asia/Beirut\n",
      "Asia/Bishkek\n",
      "Asia/Brunei\n",
      "Asia/Calcutta\n",
      "Asia/Chita\n",
      "Asia/Choibalsan\n",
      "Asia/Chongqing\n",
      "Asia/Chungking\n",
      "Asia/Colombo\n",
      "Asia/Dacca\n",
      "Asia/Damascus\n",
      "Asia/Dhaka\n",
      "Asia/Dili\n",
      "Asia/Dubai\n",
      "Asia/Dushanbe\n",
      "Asia/Famagusta\n",
      "Asia/Gaza\n",
      "Asia/Harbin\n",
      "Asia/Hebron\n",
      "Asia/Ho_Chi_Minh\n",
      "Asia/Hong_Kong\n",
      "Asia/Hovd\n",
      "Asia/Irkutsk\n",
      "Asia/Istanbul\n",
      "Asia/Jakarta\n",
      "Asia/Jayapura\n",
      "Asia/Jerusalem\n",
      "Asia/Kabul\n",
      "Asia/Kamchatka\n",
      "Asia/Karachi\n",
      "Asia/Kashgar\n",
      "Asia/Kathmandu\n",
      "Asia/Katmandu\n",
      "Asia/Khandyga\n",
      "Asia/Kolkata\n",
      "Asia/Krasnoyarsk\n",
      "Asia/Kuala_Lumpur\n",
      "Asia/Kuching\n",
      "Asia/Kuwait\n",
      "Asia/Macao\n",
      "Asia/Macau\n",
      "Asia/Magadan\n",
      "Asia/Makassar\n",
      "Asia/Manila\n",
      "Asia/Muscat\n",
      "Asia/Nicosia\n",
      "Asia/Novokuznetsk\n",
      "Asia/Novosibirsk\n",
      "Asia/Omsk\n",
      "Asia/Oral\n",
      "Asia/Phnom_Penh\n",
      "Asia/Pontianak\n",
      "Asia/Pyongyang\n",
      "Asia/Qatar\n",
      "Asia/Qostanay\n",
      "Asia/Qyzylorda\n",
      "Asia/Rangoon\n",
      "Asia/Riyadh\n",
      "Asia/Saigon\n",
      "Asia/Sakhalin\n",
      "Asia/Samarkand\n",
      "Asia/Seoul\n",
      "Asia/Shanghai\n",
      "Asia/Singapore\n",
      "Asia/Srednekolymsk\n",
      "Asia/Taipei\n",
      "Asia/Tashkent\n",
      "Asia/Tbilisi\n",
      "Asia/Tehran\n",
      "Asia/Tel_Aviv\n",
      "Asia/Thimbu\n",
      "Asia/Thimphu\n",
      "Asia/Tokyo\n",
      "Asia/Tomsk\n",
      "Asia/Ujung_Pandang\n",
      "Asia/Ulaanbaatar\n",
      "Asia/Ulan_Bator\n",
      "Asia/Urumqi\n",
      "Asia/Ust-Nera\n",
      "Asia/Vientiane\n",
      "Asia/Vladivostok\n",
      "Asia/Yakutsk\n",
      "Asia/Yangon\n",
      "Asia/Yekaterinburg\n",
      "Asia/Yerevan\n",
      "Atlantic/Azores\n",
      "Atlantic/Bermuda\n",
      "Atlantic/Canary\n",
      "Atlantic/Cape_Verde\n",
      "Atlantic/Faeroe\n",
      "Atlantic/Faroe\n",
      "Atlantic/Jan_Mayen\n",
      "Atlantic/Madeira\n",
      "Atlantic/Reykjavik\n",
      "Atlantic/South_Georgia\n",
      "Atlantic/St_Helena\n",
      "Atlantic/Stanley\n",
      "Australia/ACT\n",
      "Australia/Adelaide\n",
      "Australia/Brisbane\n",
      "Australia/Broken_Hill\n",
      "Australia/Canberra\n",
      "Australia/Currie\n",
      "Australia/Darwin\n",
      "Australia/Eucla\n",
      "Australia/Hobart\n",
      "Australia/LHI\n",
      "Australia/Lindeman\n",
      "Australia/Lord_Howe\n",
      "Australia/Melbourne\n",
      "Australia/North\n",
      "Australia/NSW\n",
      "Australia/Perth\n",
      "Australia/Queensland\n",
      "Australia/South\n",
      "Australia/Sydney\n",
      "Australia/Tasmania\n",
      "Australia/Victoria\n",
      "Australia/West\n",
      "Australia/Yancowinna\n",
      "Brazil/Acre\n",
      "Brazil/DeNoronha\n",
      "Brazil/East\n",
      "Brazil/West\n",
      "Canada/Atlantic\n",
      "Canada/Central\n",
      "Canada/Eastern\n",
      "Canada/Mountain\n",
      "Canada/Newfoundland\n",
      "Canada/Pacific\n",
      "Canada/Saskatchewan\n",
      "Canada/Yukon\n",
      "CET\n",
      "Chile/Continental\n",
      "Chile/EasterIsland\n",
      "CST6CDT\n",
      "Cuba\n",
      "EET\n",
      "Egypt\n",
      "Eire\n",
      "EST\n",
      "EST5EDT\n",
      "Etc/GMT\n",
      "Etc/GMT-0\n",
      "Etc/GMT-1\n",
      "Etc/GMT-10\n",
      "Etc/GMT-11\n",
      "Etc/GMT-12\n",
      "Etc/GMT-13\n",
      "Etc/GMT-14\n",
      "Etc/GMT-2\n",
      "Etc/GMT-3\n",
      "Etc/GMT-4\n",
      "Etc/GMT-5\n",
      "Etc/GMT-6\n",
      "Etc/GMT-7\n",
      "Etc/GMT-8\n",
      "Etc/GMT-9\n",
      "Etc/GMT+0\n",
      "Etc/GMT+1\n",
      "Etc/GMT+10\n",
      "Etc/GMT+11\n",
      "Etc/GMT+12\n",
      "Etc/GMT+2\n",
      "Etc/GMT+3\n",
      "Etc/GMT+4\n",
      "Etc/GMT+5\n",
      "Etc/GMT+6\n",
      "Etc/GMT+7\n",
      "Etc/GMT+8\n",
      "Etc/GMT+9\n",
      "Etc/GMT0\n",
      "Etc/Greenwich\n",
      "Etc/UCT\n",
      "Etc/Universal\n",
      "Etc/UTC\n",
      "Etc/Zulu\n",
      "Europe/Amsterdam\n",
      "Europe/Andorra\n",
      "Europe/Astrakhan\n",
      "Europe/Athens\n",
      "Europe/Belfast\n",
      "Europe/Belgrade\n",
      "Europe/Berlin\n",
      "Europe/Bratislava\n",
      "Europe/Brussels\n",
      "Europe/Bucharest\n",
      "Europe/Budapest\n",
      "Europe/Busingen\n",
      "Europe/Chisinau\n",
      "Europe/Copenhagen\n",
      "Europe/Dublin\n",
      "Europe/Gibraltar\n",
      "Europe/Guernsey\n",
      "Europe/Helsinki\n",
      "Europe/Isle_of_Man\n",
      "Europe/Istanbul\n",
      "Europe/Jersey\n",
      "Europe/Kaliningrad\n",
      "Europe/Kiev\n",
      "Europe/Kirov\n",
      "Europe/Lisbon\n",
      "Europe/Ljubljana\n",
      "Europe/London\n",
      "Europe/Luxembourg\n",
      "Europe/Madrid\n",
      "Europe/Malta\n",
      "Europe/Mariehamn\n",
      "Europe/Minsk\n",
      "Europe/Monaco\n",
      "Europe/Moscow\n",
      "Europe/Nicosia\n",
      "Europe/Oslo\n",
      "Europe/Paris\n",
      "Europe/Podgorica\n",
      "Europe/Prague\n",
      "Europe/Riga\n",
      "Europe/Rome\n",
      "Europe/Samara\n",
      "Europe/San_Marino\n",
      "Europe/Sarajevo\n",
      "Europe/Saratov\n",
      "Europe/Simferopol\n",
      "Europe/Skopje\n",
      "Europe/Sofia\n",
      "Europe/Stockholm\n",
      "Europe/Tallinn\n",
      "Europe/Tirane\n",
      "Europe/Tiraspol\n",
      "Europe/Ulyanovsk\n",
      "Europe/Uzhgorod\n",
      "Europe/Vaduz\n",
      "Europe/Vatican\n",
      "Europe/Vienna\n",
      "Europe/Vilnius\n",
      "Europe/Volgograd\n",
      "Europe/Warsaw\n",
      "Europe/Zagreb\n",
      "Europe/Zaporozhye\n",
      "Europe/Zurich\n",
      "Factory\n",
      "GB\n",
      "GB-Eire\n",
      "GMT\n",
      "GMT-0\n",
      "GMT+0\n",
      "GMT0\n",
      "Greenwich\n",
      "Hongkong\n",
      "HST\n",
      "Iceland\n",
      "Indian/Antananarivo\n",
      "Indian/Chagos\n",
      "Indian/Christmas\n",
      "Indian/Cocos\n",
      "Indian/Comoro\n",
      "Indian/Kerguelen\n",
      "Indian/Mahe\n",
      "Indian/Maldives\n",
      "Indian/Mauritius\n",
      "Indian/Mayotte\n",
      "Indian/Reunion\n",
      "Iran\n",
      "Israel\n",
      "Jamaica\n",
      "Japan\n",
      "Kwajalein\n",
      "Libya\n",
      "MET\n",
      "Mexico/BajaNorte\n",
      "Mexico/BajaSur\n",
      "Mexico/General\n",
      "MST\n",
      "MST7MDT\n",
      "Navajo\n",
      "NZ\n",
      "NZ-CHAT\n",
      "Pacific/Apia\n",
      "Pacific/Auckland\n",
      "Pacific/Bougainville\n",
      "Pacific/Chatham\n",
      "Pacific/Chuuk\n",
      "Pacific/Easter\n",
      "Pacific/Efate\n",
      "Pacific/Enderbury\n",
      "Pacific/Fakaofo\n",
      "Pacific/Fiji\n",
      "Pacific/Funafuti\n",
      "Pacific/Galapagos\n",
      "Pacific/Gambier\n",
      "Pacific/Guadalcanal\n",
      "Pacific/Guam\n",
      "Pacific/Honolulu\n",
      "Pacific/Johnston\n",
      "Pacific/Kiritimati\n",
      "Pacific/Kosrae\n",
      "Pacific/Kwajalein\n",
      "Pacific/Majuro\n",
      "Pacific/Marquesas\n",
      "Pacific/Midway\n",
      "Pacific/Nauru\n",
      "Pacific/Niue\n",
      "Pacific/Norfolk\n",
      "Pacific/Noumea\n",
      "Pacific/Pago_Pago\n",
      "Pacific/Palau\n",
      "Pacific/Pitcairn\n",
      "Pacific/Pohnpei\n",
      "Pacific/Ponape\n",
      "Pacific/Port_Moresby\n",
      "Pacific/Rarotonga\n",
      "Pacific/Saipan\n",
      "Pacific/Samoa\n",
      "Pacific/Tahiti\n",
      "Pacific/Tarawa\n",
      "Pacific/Tongatapu\n",
      "Pacific/Truk\n",
      "Pacific/Wake\n",
      "Pacific/Wallis\n",
      "Pacific/Yap\n",
      "Poland\n",
      "Portugal\n",
      "PRC\n",
      "PST8PDT\n",
      "ROC\n",
      "ROK\n",
      "Singapore\n",
      "Turkey\n",
      "UCT\n",
      "Universal\n",
      "US/Alaska\n",
      "US/Aleutian\n",
      "US/Arizona\n",
      "US/Central\n",
      "US/East-Indiana\n",
      "US/Eastern\n",
      "US/Hawaii\n",
      "US/Indiana-Starke\n",
      "US/Michigan\n",
      "US/Mountain\n",
      "US/Pacific\n",
      "US/Samoa\n",
      "UTC\n",
      "W-SU\n",
      "WET\n",
      "Zulu\n"
     ]
    }
   ],
   "source": [
    "# we can get a list of valid timezones:\n",
    "writeLines(OlsonNames())"
   ]
  },
  {
   "cell_type": "code",
   "execution_count": 29,
   "id": "eight-diary",
   "metadata": {
    "scrolled": true
   },
   "outputs": [
    {
     "data": {
      "text/html": [
       "<table class=\"dataframe\">\n",
       "<caption>A tibble: 336776 × 7</caption>\n",
       "<thead>\n",
       "\t<tr><th scope=col>year</th><th scope=col>month</th><th scope=col>day</th><th scope=col>hour</th><th scope=col>minute</th><th scope=col>time_hour</th><th scope=col>date_and_time</th></tr>\n",
       "\t<tr><th scope=col>&lt;int&gt;</th><th scope=col>&lt;int&gt;</th><th scope=col>&lt;int&gt;</th><th scope=col>&lt;dbl&gt;</th><th scope=col>&lt;dbl&gt;</th><th scope=col>&lt;dttm&gt;</th><th scope=col>&lt;dttm&gt;</th></tr>\n",
       "</thead>\n",
       "<tbody>\n",
       "\t<tr><td>2013</td><td>1</td><td>1</td><td>5</td><td>15</td><td>2013-01-01 05:00:00</td><td>2013-01-01 05:15:00</td></tr>\n",
       "\t<tr><td>2013</td><td>1</td><td>1</td><td>5</td><td>29</td><td>2013-01-01 05:00:00</td><td>2013-01-01 05:29:00</td></tr>\n",
       "\t<tr><td>2013</td><td>1</td><td>1</td><td>5</td><td>40</td><td>2013-01-01 05:00:00</td><td>2013-01-01 05:40:00</td></tr>\n",
       "\t<tr><td>2013</td><td>1</td><td>1</td><td>5</td><td>45</td><td>2013-01-01 05:00:00</td><td>2013-01-01 05:45:00</td></tr>\n",
       "\t<tr><td>2013</td><td>1</td><td>1</td><td>6</td><td> 0</td><td>2013-01-01 06:00:00</td><td>2013-01-01 06:00:00</td></tr>\n",
       "\t<tr><td>2013</td><td>1</td><td>1</td><td>5</td><td>58</td><td>2013-01-01 05:00:00</td><td>2013-01-01 05:58:00</td></tr>\n",
       "\t<tr><td>2013</td><td>1</td><td>1</td><td>6</td><td> 0</td><td>2013-01-01 06:00:00</td><td>2013-01-01 06:00:00</td></tr>\n",
       "\t<tr><td>2013</td><td>1</td><td>1</td><td>6</td><td> 0</td><td>2013-01-01 06:00:00</td><td>2013-01-01 06:00:00</td></tr>\n",
       "\t<tr><td>2013</td><td>1</td><td>1</td><td>6</td><td> 0</td><td>2013-01-01 06:00:00</td><td>2013-01-01 06:00:00</td></tr>\n",
       "\t<tr><td>2013</td><td>1</td><td>1</td><td>6</td><td> 0</td><td>2013-01-01 06:00:00</td><td>2013-01-01 06:00:00</td></tr>\n",
       "\t<tr><td>2013</td><td>1</td><td>1</td><td>6</td><td> 0</td><td>2013-01-01 06:00:00</td><td>2013-01-01 06:00:00</td></tr>\n",
       "\t<tr><td>2013</td><td>1</td><td>1</td><td>6</td><td> 0</td><td>2013-01-01 06:00:00</td><td>2013-01-01 06:00:00</td></tr>\n",
       "\t<tr><td>2013</td><td>1</td><td>1</td><td>6</td><td> 0</td><td>2013-01-01 06:00:00</td><td>2013-01-01 06:00:00</td></tr>\n",
       "\t<tr><td>2013</td><td>1</td><td>1</td><td>6</td><td> 0</td><td>2013-01-01 06:00:00</td><td>2013-01-01 06:00:00</td></tr>\n",
       "\t<tr><td>2013</td><td>1</td><td>1</td><td>6</td><td> 0</td><td>2013-01-01 06:00:00</td><td>2013-01-01 06:00:00</td></tr>\n",
       "\t<tr><td>2013</td><td>1</td><td>1</td><td>5</td><td>59</td><td>2013-01-01 05:00:00</td><td>2013-01-01 05:59:00</td></tr>\n",
       "\t<tr><td>2013</td><td>1</td><td>1</td><td>6</td><td> 0</td><td>2013-01-01 06:00:00</td><td>2013-01-01 06:00:00</td></tr>\n",
       "\t<tr><td>2013</td><td>1</td><td>1</td><td>6</td><td> 0</td><td>2013-01-01 06:00:00</td><td>2013-01-01 06:00:00</td></tr>\n",
       "\t<tr><td>2013</td><td>1</td><td>1</td><td>6</td><td> 0</td><td>2013-01-01 06:00:00</td><td>2013-01-01 06:00:00</td></tr>\n",
       "\t<tr><td>2013</td><td>1</td><td>1</td><td>6</td><td> 0</td><td>2013-01-01 06:00:00</td><td>2013-01-01 06:00:00</td></tr>\n",
       "\t<tr><td>2013</td><td>1</td><td>1</td><td>6</td><td>10</td><td>2013-01-01 06:00:00</td><td>2013-01-01 06:10:00</td></tr>\n",
       "\t<tr><td>2013</td><td>1</td><td>1</td><td>6</td><td> 5</td><td>2013-01-01 06:00:00</td><td>2013-01-01 06:05:00</td></tr>\n",
       "\t<tr><td>2013</td><td>1</td><td>1</td><td>6</td><td>10</td><td>2013-01-01 06:00:00</td><td>2013-01-01 06:10:00</td></tr>\n",
       "\t<tr><td>2013</td><td>1</td><td>1</td><td>6</td><td>10</td><td>2013-01-01 06:00:00</td><td>2013-01-01 06:10:00</td></tr>\n",
       "\t<tr><td>2013</td><td>1</td><td>1</td><td>6</td><td> 7</td><td>2013-01-01 06:00:00</td><td>2013-01-01 06:07:00</td></tr>\n",
       "\t<tr><td>2013</td><td>1</td><td>1</td><td>6</td><td> 0</td><td>2013-01-01 06:00:00</td><td>2013-01-01 06:00:00</td></tr>\n",
       "\t<tr><td>2013</td><td>1</td><td>1</td><td>6</td><td> 0</td><td>2013-01-01 06:00:00</td><td>2013-01-01 06:00:00</td></tr>\n",
       "\t<tr><td>2013</td><td>1</td><td>1</td><td>6</td><td>10</td><td>2013-01-01 06:00:00</td><td>2013-01-01 06:10:00</td></tr>\n",
       "\t<tr><td>2013</td><td>1</td><td>1</td><td>6</td><td>15</td><td>2013-01-01 06:00:00</td><td>2013-01-01 06:15:00</td></tr>\n",
       "\t<tr><td>2013</td><td>1</td><td>1</td><td>6</td><td>15</td><td>2013-01-01 06:00:00</td><td>2013-01-01 06:15:00</td></tr>\n",
       "\t<tr><td>⋮</td><td>⋮</td><td>⋮</td><td>⋮</td><td>⋮</td><td>⋮</td><td>⋮</td></tr>\n",
       "\t<tr><td>2013</td><td>9</td><td>30</td><td>21</td><td>25</td><td>2013-09-30 21:00:00</td><td>2013-09-30 21:25:00</td></tr>\n",
       "\t<tr><td>2013</td><td>9</td><td>30</td><td>21</td><td>29</td><td>2013-09-30 21:00:00</td><td>2013-09-30 21:29:00</td></tr>\n",
       "\t<tr><td>2013</td><td>9</td><td>30</td><td>21</td><td>30</td><td>2013-09-30 21:00:00</td><td>2013-09-30 21:30:00</td></tr>\n",
       "\t<tr><td>2013</td><td>9</td><td>30</td><td>20</td><td>59</td><td>2013-09-30 20:00:00</td><td>2013-09-30 20:59:00</td></tr>\n",
       "\t<tr><td>2013</td><td>9</td><td>30</td><td>21</td><td>40</td><td>2013-09-30 21:00:00</td><td>2013-09-30 21:40:00</td></tr>\n",
       "\t<tr><td>2013</td><td>9</td><td>30</td><td>21</td><td>40</td><td>2013-09-30 21:00:00</td><td>2013-09-30 21:40:00</td></tr>\n",
       "\t<tr><td>2013</td><td>9</td><td>30</td><td>21</td><td>29</td><td>2013-09-30 21:00:00</td><td>2013-09-30 21:29:00</td></tr>\n",
       "\t<tr><td>2013</td><td>9</td><td>30</td><td>21</td><td>45</td><td>2013-09-30 21:00:00</td><td>2013-09-30 21:45:00</td></tr>\n",
       "\t<tr><td>2013</td><td>9</td><td>30</td><td>21</td><td>37</td><td>2013-09-30 21:00:00</td><td>2013-09-30 21:37:00</td></tr>\n",
       "\t<tr><td>2013</td><td>9</td><td>30</td><td>21</td><td>56</td><td>2013-09-30 21:00:00</td><td>2013-09-30 21:56:00</td></tr>\n",
       "\t<tr><td>2013</td><td>9</td><td>30</td><td>21</td><td>59</td><td>2013-09-30 21:00:00</td><td>2013-09-30 21:59:00</td></tr>\n",
       "\t<tr><td>2013</td><td>9</td><td>30</td><td>18</td><td>45</td><td>2013-09-30 18:00:00</td><td>2013-09-30 18:45:00</td></tr>\n",
       "\t<tr><td>2013</td><td>9</td><td>30</td><td>22</td><td> 5</td><td>2013-09-30 22:00:00</td><td>2013-09-30 22:05:00</td></tr>\n",
       "\t<tr><td>2013</td><td>9</td><td>30</td><td>21</td><td>40</td><td>2013-09-30 21:00:00</td><td>2013-09-30 21:40:00</td></tr>\n",
       "\t<tr><td>2013</td><td>9</td><td>30</td><td>20</td><td>59</td><td>2013-09-30 20:00:00</td><td>2013-09-30 20:59:00</td></tr>\n",
       "\t<tr><td>2013</td><td>9</td><td>30</td><td>22</td><td>45</td><td>2013-09-30 22:00:00</td><td>2013-09-30 22:45:00</td></tr>\n",
       "\t<tr><td>2013</td><td>9</td><td>30</td><td>21</td><td>13</td><td>2013-09-30 21:00:00</td><td>2013-09-30 21:13:00</td></tr>\n",
       "\t<tr><td>2013</td><td>9</td><td>30</td><td>20</td><td> 1</td><td>2013-09-30 20:00:00</td><td>2013-09-30 20:01:00</td></tr>\n",
       "\t<tr><td>2013</td><td>9</td><td>30</td><td>22</td><td>45</td><td>2013-09-30 22:00:00</td><td>2013-09-30 22:45:00</td></tr>\n",
       "\t<tr><td>2013</td><td>9</td><td>30</td><td>22</td><td>45</td><td>2013-09-30 22:00:00</td><td>2013-09-30 22:45:00</td></tr>\n",
       "\t<tr><td>2013</td><td>9</td><td>30</td><td>22</td><td>50</td><td>2013-09-30 22:00:00</td><td>2013-09-30 22:50:00</td></tr>\n",
       "\t<tr><td>2013</td><td>9</td><td>30</td><td>22</td><td>46</td><td>2013-09-30 22:00:00</td><td>2013-09-30 22:46:00</td></tr>\n",
       "\t<tr><td>2013</td><td>9</td><td>30</td><td>22</td><td>55</td><td>2013-09-30 22:00:00</td><td>2013-09-30 22:55:00</td></tr>\n",
       "\t<tr><td>2013</td><td>9</td><td>30</td><td>23</td><td>59</td><td>2013-09-30 23:00:00</td><td>2013-09-30 23:59:00</td></tr>\n",
       "\t<tr><td>2013</td><td>9</td><td>30</td><td>18</td><td>42</td><td>2013-09-30 18:00:00</td><td>2013-09-30 18:42:00</td></tr>\n",
       "\t<tr><td>2013</td><td>9</td><td>30</td><td>14</td><td>55</td><td>2013-09-30 14:00:00</td><td>2013-09-30 14:55:00</td></tr>\n",
       "\t<tr><td>2013</td><td>9</td><td>30</td><td>22</td><td> 0</td><td>2013-09-30 22:00:00</td><td>2013-09-30 22:00:00</td></tr>\n",
       "\t<tr><td>2013</td><td>9</td><td>30</td><td>12</td><td>10</td><td>2013-09-30 12:00:00</td><td>2013-09-30 12:10:00</td></tr>\n",
       "\t<tr><td>2013</td><td>9</td><td>30</td><td>11</td><td>59</td><td>2013-09-30 11:00:00</td><td>2013-09-30 11:59:00</td></tr>\n",
       "\t<tr><td>2013</td><td>9</td><td>30</td><td> 8</td><td>40</td><td>2013-09-30 08:00:00</td><td>2013-09-30 08:40:00</td></tr>\n",
       "</tbody>\n",
       "</table>\n"
      ],
      "text/latex": [
       "A tibble: 336776 × 7\n",
       "\\begin{tabular}{lllllll}\n",
       " year & month & day & hour & minute & time\\_hour & date\\_and\\_time\\\\\n",
       " <int> & <int> & <int> & <dbl> & <dbl> & <dttm> & <dttm>\\\\\n",
       "\\hline\n",
       "\t 2013 & 1 & 1 & 5 & 15 & 2013-01-01 05:00:00 & 2013-01-01 05:15:00\\\\\n",
       "\t 2013 & 1 & 1 & 5 & 29 & 2013-01-01 05:00:00 & 2013-01-01 05:29:00\\\\\n",
       "\t 2013 & 1 & 1 & 5 & 40 & 2013-01-01 05:00:00 & 2013-01-01 05:40:00\\\\\n",
       "\t 2013 & 1 & 1 & 5 & 45 & 2013-01-01 05:00:00 & 2013-01-01 05:45:00\\\\\n",
       "\t 2013 & 1 & 1 & 6 &  0 & 2013-01-01 06:00:00 & 2013-01-01 06:00:00\\\\\n",
       "\t 2013 & 1 & 1 & 5 & 58 & 2013-01-01 05:00:00 & 2013-01-01 05:58:00\\\\\n",
       "\t 2013 & 1 & 1 & 6 &  0 & 2013-01-01 06:00:00 & 2013-01-01 06:00:00\\\\\n",
       "\t 2013 & 1 & 1 & 6 &  0 & 2013-01-01 06:00:00 & 2013-01-01 06:00:00\\\\\n",
       "\t 2013 & 1 & 1 & 6 &  0 & 2013-01-01 06:00:00 & 2013-01-01 06:00:00\\\\\n",
       "\t 2013 & 1 & 1 & 6 &  0 & 2013-01-01 06:00:00 & 2013-01-01 06:00:00\\\\\n",
       "\t 2013 & 1 & 1 & 6 &  0 & 2013-01-01 06:00:00 & 2013-01-01 06:00:00\\\\\n",
       "\t 2013 & 1 & 1 & 6 &  0 & 2013-01-01 06:00:00 & 2013-01-01 06:00:00\\\\\n",
       "\t 2013 & 1 & 1 & 6 &  0 & 2013-01-01 06:00:00 & 2013-01-01 06:00:00\\\\\n",
       "\t 2013 & 1 & 1 & 6 &  0 & 2013-01-01 06:00:00 & 2013-01-01 06:00:00\\\\\n",
       "\t 2013 & 1 & 1 & 6 &  0 & 2013-01-01 06:00:00 & 2013-01-01 06:00:00\\\\\n",
       "\t 2013 & 1 & 1 & 5 & 59 & 2013-01-01 05:00:00 & 2013-01-01 05:59:00\\\\\n",
       "\t 2013 & 1 & 1 & 6 &  0 & 2013-01-01 06:00:00 & 2013-01-01 06:00:00\\\\\n",
       "\t 2013 & 1 & 1 & 6 &  0 & 2013-01-01 06:00:00 & 2013-01-01 06:00:00\\\\\n",
       "\t 2013 & 1 & 1 & 6 &  0 & 2013-01-01 06:00:00 & 2013-01-01 06:00:00\\\\\n",
       "\t 2013 & 1 & 1 & 6 &  0 & 2013-01-01 06:00:00 & 2013-01-01 06:00:00\\\\\n",
       "\t 2013 & 1 & 1 & 6 & 10 & 2013-01-01 06:00:00 & 2013-01-01 06:10:00\\\\\n",
       "\t 2013 & 1 & 1 & 6 &  5 & 2013-01-01 06:00:00 & 2013-01-01 06:05:00\\\\\n",
       "\t 2013 & 1 & 1 & 6 & 10 & 2013-01-01 06:00:00 & 2013-01-01 06:10:00\\\\\n",
       "\t 2013 & 1 & 1 & 6 & 10 & 2013-01-01 06:00:00 & 2013-01-01 06:10:00\\\\\n",
       "\t 2013 & 1 & 1 & 6 &  7 & 2013-01-01 06:00:00 & 2013-01-01 06:07:00\\\\\n",
       "\t 2013 & 1 & 1 & 6 &  0 & 2013-01-01 06:00:00 & 2013-01-01 06:00:00\\\\\n",
       "\t 2013 & 1 & 1 & 6 &  0 & 2013-01-01 06:00:00 & 2013-01-01 06:00:00\\\\\n",
       "\t 2013 & 1 & 1 & 6 & 10 & 2013-01-01 06:00:00 & 2013-01-01 06:10:00\\\\\n",
       "\t 2013 & 1 & 1 & 6 & 15 & 2013-01-01 06:00:00 & 2013-01-01 06:15:00\\\\\n",
       "\t 2013 & 1 & 1 & 6 & 15 & 2013-01-01 06:00:00 & 2013-01-01 06:15:00\\\\\n",
       "\t ⋮ & ⋮ & ⋮ & ⋮ & ⋮ & ⋮ & ⋮\\\\\n",
       "\t 2013 & 9 & 30 & 21 & 25 & 2013-09-30 21:00:00 & 2013-09-30 21:25:00\\\\\n",
       "\t 2013 & 9 & 30 & 21 & 29 & 2013-09-30 21:00:00 & 2013-09-30 21:29:00\\\\\n",
       "\t 2013 & 9 & 30 & 21 & 30 & 2013-09-30 21:00:00 & 2013-09-30 21:30:00\\\\\n",
       "\t 2013 & 9 & 30 & 20 & 59 & 2013-09-30 20:00:00 & 2013-09-30 20:59:00\\\\\n",
       "\t 2013 & 9 & 30 & 21 & 40 & 2013-09-30 21:00:00 & 2013-09-30 21:40:00\\\\\n",
       "\t 2013 & 9 & 30 & 21 & 40 & 2013-09-30 21:00:00 & 2013-09-30 21:40:00\\\\\n",
       "\t 2013 & 9 & 30 & 21 & 29 & 2013-09-30 21:00:00 & 2013-09-30 21:29:00\\\\\n",
       "\t 2013 & 9 & 30 & 21 & 45 & 2013-09-30 21:00:00 & 2013-09-30 21:45:00\\\\\n",
       "\t 2013 & 9 & 30 & 21 & 37 & 2013-09-30 21:00:00 & 2013-09-30 21:37:00\\\\\n",
       "\t 2013 & 9 & 30 & 21 & 56 & 2013-09-30 21:00:00 & 2013-09-30 21:56:00\\\\\n",
       "\t 2013 & 9 & 30 & 21 & 59 & 2013-09-30 21:00:00 & 2013-09-30 21:59:00\\\\\n",
       "\t 2013 & 9 & 30 & 18 & 45 & 2013-09-30 18:00:00 & 2013-09-30 18:45:00\\\\\n",
       "\t 2013 & 9 & 30 & 22 &  5 & 2013-09-30 22:00:00 & 2013-09-30 22:05:00\\\\\n",
       "\t 2013 & 9 & 30 & 21 & 40 & 2013-09-30 21:00:00 & 2013-09-30 21:40:00\\\\\n",
       "\t 2013 & 9 & 30 & 20 & 59 & 2013-09-30 20:00:00 & 2013-09-30 20:59:00\\\\\n",
       "\t 2013 & 9 & 30 & 22 & 45 & 2013-09-30 22:00:00 & 2013-09-30 22:45:00\\\\\n",
       "\t 2013 & 9 & 30 & 21 & 13 & 2013-09-30 21:00:00 & 2013-09-30 21:13:00\\\\\n",
       "\t 2013 & 9 & 30 & 20 &  1 & 2013-09-30 20:00:00 & 2013-09-30 20:01:00\\\\\n",
       "\t 2013 & 9 & 30 & 22 & 45 & 2013-09-30 22:00:00 & 2013-09-30 22:45:00\\\\\n",
       "\t 2013 & 9 & 30 & 22 & 45 & 2013-09-30 22:00:00 & 2013-09-30 22:45:00\\\\\n",
       "\t 2013 & 9 & 30 & 22 & 50 & 2013-09-30 22:00:00 & 2013-09-30 22:50:00\\\\\n",
       "\t 2013 & 9 & 30 & 22 & 46 & 2013-09-30 22:00:00 & 2013-09-30 22:46:00\\\\\n",
       "\t 2013 & 9 & 30 & 22 & 55 & 2013-09-30 22:00:00 & 2013-09-30 22:55:00\\\\\n",
       "\t 2013 & 9 & 30 & 23 & 59 & 2013-09-30 23:00:00 & 2013-09-30 23:59:00\\\\\n",
       "\t 2013 & 9 & 30 & 18 & 42 & 2013-09-30 18:00:00 & 2013-09-30 18:42:00\\\\\n",
       "\t 2013 & 9 & 30 & 14 & 55 & 2013-09-30 14:00:00 & 2013-09-30 14:55:00\\\\\n",
       "\t 2013 & 9 & 30 & 22 &  0 & 2013-09-30 22:00:00 & 2013-09-30 22:00:00\\\\\n",
       "\t 2013 & 9 & 30 & 12 & 10 & 2013-09-30 12:00:00 & 2013-09-30 12:10:00\\\\\n",
       "\t 2013 & 9 & 30 & 11 & 59 & 2013-09-30 11:00:00 & 2013-09-30 11:59:00\\\\\n",
       "\t 2013 & 9 & 30 &  8 & 40 & 2013-09-30 08:00:00 & 2013-09-30 08:40:00\\\\\n",
       "\\end{tabular}\n"
      ],
      "text/markdown": [
       "\n",
       "A tibble: 336776 × 7\n",
       "\n",
       "| year &lt;int&gt; | month &lt;int&gt; | day &lt;int&gt; | hour &lt;dbl&gt; | minute &lt;dbl&gt; | time_hour &lt;dttm&gt; | date_and_time &lt;dttm&gt; |\n",
       "|---|---|---|---|---|---|---|\n",
       "| 2013 | 1 | 1 | 5 | 15 | 2013-01-01 05:00:00 | 2013-01-01 05:15:00 |\n",
       "| 2013 | 1 | 1 | 5 | 29 | 2013-01-01 05:00:00 | 2013-01-01 05:29:00 |\n",
       "| 2013 | 1 | 1 | 5 | 40 | 2013-01-01 05:00:00 | 2013-01-01 05:40:00 |\n",
       "| 2013 | 1 | 1 | 5 | 45 | 2013-01-01 05:00:00 | 2013-01-01 05:45:00 |\n",
       "| 2013 | 1 | 1 | 6 |  0 | 2013-01-01 06:00:00 | 2013-01-01 06:00:00 |\n",
       "| 2013 | 1 | 1 | 5 | 58 | 2013-01-01 05:00:00 | 2013-01-01 05:58:00 |\n",
       "| 2013 | 1 | 1 | 6 |  0 | 2013-01-01 06:00:00 | 2013-01-01 06:00:00 |\n",
       "| 2013 | 1 | 1 | 6 |  0 | 2013-01-01 06:00:00 | 2013-01-01 06:00:00 |\n",
       "| 2013 | 1 | 1 | 6 |  0 | 2013-01-01 06:00:00 | 2013-01-01 06:00:00 |\n",
       "| 2013 | 1 | 1 | 6 |  0 | 2013-01-01 06:00:00 | 2013-01-01 06:00:00 |\n",
       "| 2013 | 1 | 1 | 6 |  0 | 2013-01-01 06:00:00 | 2013-01-01 06:00:00 |\n",
       "| 2013 | 1 | 1 | 6 |  0 | 2013-01-01 06:00:00 | 2013-01-01 06:00:00 |\n",
       "| 2013 | 1 | 1 | 6 |  0 | 2013-01-01 06:00:00 | 2013-01-01 06:00:00 |\n",
       "| 2013 | 1 | 1 | 6 |  0 | 2013-01-01 06:00:00 | 2013-01-01 06:00:00 |\n",
       "| 2013 | 1 | 1 | 6 |  0 | 2013-01-01 06:00:00 | 2013-01-01 06:00:00 |\n",
       "| 2013 | 1 | 1 | 5 | 59 | 2013-01-01 05:00:00 | 2013-01-01 05:59:00 |\n",
       "| 2013 | 1 | 1 | 6 |  0 | 2013-01-01 06:00:00 | 2013-01-01 06:00:00 |\n",
       "| 2013 | 1 | 1 | 6 |  0 | 2013-01-01 06:00:00 | 2013-01-01 06:00:00 |\n",
       "| 2013 | 1 | 1 | 6 |  0 | 2013-01-01 06:00:00 | 2013-01-01 06:00:00 |\n",
       "| 2013 | 1 | 1 | 6 |  0 | 2013-01-01 06:00:00 | 2013-01-01 06:00:00 |\n",
       "| 2013 | 1 | 1 | 6 | 10 | 2013-01-01 06:00:00 | 2013-01-01 06:10:00 |\n",
       "| 2013 | 1 | 1 | 6 |  5 | 2013-01-01 06:00:00 | 2013-01-01 06:05:00 |\n",
       "| 2013 | 1 | 1 | 6 | 10 | 2013-01-01 06:00:00 | 2013-01-01 06:10:00 |\n",
       "| 2013 | 1 | 1 | 6 | 10 | 2013-01-01 06:00:00 | 2013-01-01 06:10:00 |\n",
       "| 2013 | 1 | 1 | 6 |  7 | 2013-01-01 06:00:00 | 2013-01-01 06:07:00 |\n",
       "| 2013 | 1 | 1 | 6 |  0 | 2013-01-01 06:00:00 | 2013-01-01 06:00:00 |\n",
       "| 2013 | 1 | 1 | 6 |  0 | 2013-01-01 06:00:00 | 2013-01-01 06:00:00 |\n",
       "| 2013 | 1 | 1 | 6 | 10 | 2013-01-01 06:00:00 | 2013-01-01 06:10:00 |\n",
       "| 2013 | 1 | 1 | 6 | 15 | 2013-01-01 06:00:00 | 2013-01-01 06:15:00 |\n",
       "| 2013 | 1 | 1 | 6 | 15 | 2013-01-01 06:00:00 | 2013-01-01 06:15:00 |\n",
       "| ⋮ | ⋮ | ⋮ | ⋮ | ⋮ | ⋮ | ⋮ |\n",
       "| 2013 | 9 | 30 | 21 | 25 | 2013-09-30 21:00:00 | 2013-09-30 21:25:00 |\n",
       "| 2013 | 9 | 30 | 21 | 29 | 2013-09-30 21:00:00 | 2013-09-30 21:29:00 |\n",
       "| 2013 | 9 | 30 | 21 | 30 | 2013-09-30 21:00:00 | 2013-09-30 21:30:00 |\n",
       "| 2013 | 9 | 30 | 20 | 59 | 2013-09-30 20:00:00 | 2013-09-30 20:59:00 |\n",
       "| 2013 | 9 | 30 | 21 | 40 | 2013-09-30 21:00:00 | 2013-09-30 21:40:00 |\n",
       "| 2013 | 9 | 30 | 21 | 40 | 2013-09-30 21:00:00 | 2013-09-30 21:40:00 |\n",
       "| 2013 | 9 | 30 | 21 | 29 | 2013-09-30 21:00:00 | 2013-09-30 21:29:00 |\n",
       "| 2013 | 9 | 30 | 21 | 45 | 2013-09-30 21:00:00 | 2013-09-30 21:45:00 |\n",
       "| 2013 | 9 | 30 | 21 | 37 | 2013-09-30 21:00:00 | 2013-09-30 21:37:00 |\n",
       "| 2013 | 9 | 30 | 21 | 56 | 2013-09-30 21:00:00 | 2013-09-30 21:56:00 |\n",
       "| 2013 | 9 | 30 | 21 | 59 | 2013-09-30 21:00:00 | 2013-09-30 21:59:00 |\n",
       "| 2013 | 9 | 30 | 18 | 45 | 2013-09-30 18:00:00 | 2013-09-30 18:45:00 |\n",
       "| 2013 | 9 | 30 | 22 |  5 | 2013-09-30 22:00:00 | 2013-09-30 22:05:00 |\n",
       "| 2013 | 9 | 30 | 21 | 40 | 2013-09-30 21:00:00 | 2013-09-30 21:40:00 |\n",
       "| 2013 | 9 | 30 | 20 | 59 | 2013-09-30 20:00:00 | 2013-09-30 20:59:00 |\n",
       "| 2013 | 9 | 30 | 22 | 45 | 2013-09-30 22:00:00 | 2013-09-30 22:45:00 |\n",
       "| 2013 | 9 | 30 | 21 | 13 | 2013-09-30 21:00:00 | 2013-09-30 21:13:00 |\n",
       "| 2013 | 9 | 30 | 20 |  1 | 2013-09-30 20:00:00 | 2013-09-30 20:01:00 |\n",
       "| 2013 | 9 | 30 | 22 | 45 | 2013-09-30 22:00:00 | 2013-09-30 22:45:00 |\n",
       "| 2013 | 9 | 30 | 22 | 45 | 2013-09-30 22:00:00 | 2013-09-30 22:45:00 |\n",
       "| 2013 | 9 | 30 | 22 | 50 | 2013-09-30 22:00:00 | 2013-09-30 22:50:00 |\n",
       "| 2013 | 9 | 30 | 22 | 46 | 2013-09-30 22:00:00 | 2013-09-30 22:46:00 |\n",
       "| 2013 | 9 | 30 | 22 | 55 | 2013-09-30 22:00:00 | 2013-09-30 22:55:00 |\n",
       "| 2013 | 9 | 30 | 23 | 59 | 2013-09-30 23:00:00 | 2013-09-30 23:59:00 |\n",
       "| 2013 | 9 | 30 | 18 | 42 | 2013-09-30 18:00:00 | 2013-09-30 18:42:00 |\n",
       "| 2013 | 9 | 30 | 14 | 55 | 2013-09-30 14:00:00 | 2013-09-30 14:55:00 |\n",
       "| 2013 | 9 | 30 | 22 |  0 | 2013-09-30 22:00:00 | 2013-09-30 22:00:00 |\n",
       "| 2013 | 9 | 30 | 12 | 10 | 2013-09-30 12:00:00 | 2013-09-30 12:10:00 |\n",
       "| 2013 | 9 | 30 | 11 | 59 | 2013-09-30 11:00:00 | 2013-09-30 11:59:00 |\n",
       "| 2013 | 9 | 30 |  8 | 40 | 2013-09-30 08:00:00 | 2013-09-30 08:40:00 |\n",
       "\n"
      ],
      "text/plain": [
       "       year month day hour minute time_hour           date_and_time      \n",
       "1      2013 1     1   5    15     2013-01-01 05:00:00 2013-01-01 05:15:00\n",
       "2      2013 1     1   5    29     2013-01-01 05:00:00 2013-01-01 05:29:00\n",
       "3      2013 1     1   5    40     2013-01-01 05:00:00 2013-01-01 05:40:00\n",
       "4      2013 1     1   5    45     2013-01-01 05:00:00 2013-01-01 05:45:00\n",
       "5      2013 1     1   6     0     2013-01-01 06:00:00 2013-01-01 06:00:00\n",
       "6      2013 1     1   5    58     2013-01-01 05:00:00 2013-01-01 05:58:00\n",
       "7      2013 1     1   6     0     2013-01-01 06:00:00 2013-01-01 06:00:00\n",
       "8      2013 1     1   6     0     2013-01-01 06:00:00 2013-01-01 06:00:00\n",
       "9      2013 1     1   6     0     2013-01-01 06:00:00 2013-01-01 06:00:00\n",
       "10     2013 1     1   6     0     2013-01-01 06:00:00 2013-01-01 06:00:00\n",
       "11     2013 1     1   6     0     2013-01-01 06:00:00 2013-01-01 06:00:00\n",
       "12     2013 1     1   6     0     2013-01-01 06:00:00 2013-01-01 06:00:00\n",
       "13     2013 1     1   6     0     2013-01-01 06:00:00 2013-01-01 06:00:00\n",
       "14     2013 1     1   6     0     2013-01-01 06:00:00 2013-01-01 06:00:00\n",
       "15     2013 1     1   6     0     2013-01-01 06:00:00 2013-01-01 06:00:00\n",
       "16     2013 1     1   5    59     2013-01-01 05:00:00 2013-01-01 05:59:00\n",
       "17     2013 1     1   6     0     2013-01-01 06:00:00 2013-01-01 06:00:00\n",
       "18     2013 1     1   6     0     2013-01-01 06:00:00 2013-01-01 06:00:00\n",
       "19     2013 1     1   6     0     2013-01-01 06:00:00 2013-01-01 06:00:00\n",
       "20     2013 1     1   6     0     2013-01-01 06:00:00 2013-01-01 06:00:00\n",
       "21     2013 1     1   6    10     2013-01-01 06:00:00 2013-01-01 06:10:00\n",
       "22     2013 1     1   6     5     2013-01-01 06:00:00 2013-01-01 06:05:00\n",
       "23     2013 1     1   6    10     2013-01-01 06:00:00 2013-01-01 06:10:00\n",
       "24     2013 1     1   6    10     2013-01-01 06:00:00 2013-01-01 06:10:00\n",
       "25     2013 1     1   6     7     2013-01-01 06:00:00 2013-01-01 06:07:00\n",
       "26     2013 1     1   6     0     2013-01-01 06:00:00 2013-01-01 06:00:00\n",
       "27     2013 1     1   6     0     2013-01-01 06:00:00 2013-01-01 06:00:00\n",
       "28     2013 1     1   6    10     2013-01-01 06:00:00 2013-01-01 06:10:00\n",
       "29     2013 1     1   6    15     2013-01-01 06:00:00 2013-01-01 06:15:00\n",
       "30     2013 1     1   6    15     2013-01-01 06:00:00 2013-01-01 06:15:00\n",
       "⋮      ⋮    ⋮     ⋮   ⋮    ⋮      ⋮                   ⋮                  \n",
       "336747 2013 9     30  21   25     2013-09-30 21:00:00 2013-09-30 21:25:00\n",
       "336748 2013 9     30  21   29     2013-09-30 21:00:00 2013-09-30 21:29:00\n",
       "336749 2013 9     30  21   30     2013-09-30 21:00:00 2013-09-30 21:30:00\n",
       "336750 2013 9     30  20   59     2013-09-30 20:00:00 2013-09-30 20:59:00\n",
       "336751 2013 9     30  21   40     2013-09-30 21:00:00 2013-09-30 21:40:00\n",
       "336752 2013 9     30  21   40     2013-09-30 21:00:00 2013-09-30 21:40:00\n",
       "336753 2013 9     30  21   29     2013-09-30 21:00:00 2013-09-30 21:29:00\n",
       "336754 2013 9     30  21   45     2013-09-30 21:00:00 2013-09-30 21:45:00\n",
       "336755 2013 9     30  21   37     2013-09-30 21:00:00 2013-09-30 21:37:00\n",
       "336756 2013 9     30  21   56     2013-09-30 21:00:00 2013-09-30 21:56:00\n",
       "336757 2013 9     30  21   59     2013-09-30 21:00:00 2013-09-30 21:59:00\n",
       "336758 2013 9     30  18   45     2013-09-30 18:00:00 2013-09-30 18:45:00\n",
       "336759 2013 9     30  22    5     2013-09-30 22:00:00 2013-09-30 22:05:00\n",
       "336760 2013 9     30  21   40     2013-09-30 21:00:00 2013-09-30 21:40:00\n",
       "336761 2013 9     30  20   59     2013-09-30 20:00:00 2013-09-30 20:59:00\n",
       "336762 2013 9     30  22   45     2013-09-30 22:00:00 2013-09-30 22:45:00\n",
       "336763 2013 9     30  21   13     2013-09-30 21:00:00 2013-09-30 21:13:00\n",
       "336764 2013 9     30  20    1     2013-09-30 20:00:00 2013-09-30 20:01:00\n",
       "336765 2013 9     30  22   45     2013-09-30 22:00:00 2013-09-30 22:45:00\n",
       "336766 2013 9     30  22   45     2013-09-30 22:00:00 2013-09-30 22:45:00\n",
       "336767 2013 9     30  22   50     2013-09-30 22:00:00 2013-09-30 22:50:00\n",
       "336768 2013 9     30  22   46     2013-09-30 22:00:00 2013-09-30 22:46:00\n",
       "336769 2013 9     30  22   55     2013-09-30 22:00:00 2013-09-30 22:55:00\n",
       "336770 2013 9     30  23   59     2013-09-30 23:00:00 2013-09-30 23:59:00\n",
       "336771 2013 9     30  18   42     2013-09-30 18:00:00 2013-09-30 18:42:00\n",
       "336772 2013 9     30  14   55     2013-09-30 14:00:00 2013-09-30 14:55:00\n",
       "336773 2013 9     30  22    0     2013-09-30 22:00:00 2013-09-30 22:00:00\n",
       "336774 2013 9     30  12   10     2013-09-30 12:00:00 2013-09-30 12:10:00\n",
       "336775 2013 9     30  11   59     2013-09-30 11:00:00 2013-09-30 11:59:00\n",
       "336776 2013 9     30   8   40     2013-09-30 08:00:00 2013-09-30 08:40:00"
      ]
     },
     "metadata": {},
     "output_type": "display_data"
    }
   ],
   "source": [
    "# make_datetime works similarly to make_date\n",
    "flights %>%\n",
    "    select(year, month, day, hour, minute, time_hour) %>%\n",
    "    mutate(date_and_time = make_datetime(year, month, day, hour, minute))"
   ]
  },
  {
   "cell_type": "markdown",
   "id": "threaded-cover",
   "metadata": {},
   "source": [
    "One of the most useful properties of dates and date-times is the ability to extract components"
   ]
  },
  {
   "cell_type": "code",
   "execution_count": 31,
   "id": "departmental-reservation",
   "metadata": {},
   "outputs": [
    {
     "data": {
      "text/html": [
       "<time datetime=\"2016-07-08\">2016-07-08</time>"
      ],
      "text/latex": [
       "2016-07-08"
      ],
      "text/markdown": [
       "2016-07-08"
      ],
      "text/plain": [
       "[1] \"2016-07-08\""
      ]
     },
     "metadata": {},
     "output_type": "display_data"
    },
    {
     "data": {
      "text/html": [
       "2016"
      ],
      "text/latex": [
       "2016"
      ],
      "text/markdown": [
       "2016"
      ],
      "text/plain": [
       "[1] 2016"
      ]
     },
     "metadata": {},
     "output_type": "display_data"
    },
    {
     "data": {
      "text/html": [
       "7"
      ],
      "text/latex": [
       "7"
      ],
      "text/markdown": [
       "7"
      ],
      "text/plain": [
       "[1] 7"
      ]
     },
     "metadata": {},
     "output_type": "display_data"
    }
   ],
   "source": [
    "(some_date <- ymd(\"2016-07-08\"))\n",
    "\n",
    "year(some_date)\n",
    "month(some_date)"
   ]
  },
  {
   "cell_type": "code",
   "execution_count": 32,
   "id": "running-street",
   "metadata": {},
   "outputs": [
    {
     "data": {
      "text/html": [
       "8"
      ],
      "text/latex": [
       "8"
      ],
      "text/markdown": [
       "8"
      ],
      "text/plain": [
       "[1] 8"
      ]
     },
     "metadata": {},
     "output_type": "display_data"
    },
    {
     "data": {
      "text/html": [
       "190"
      ],
      "text/latex": [
       "190"
      ],
      "text/markdown": [
       "190"
      ],
      "text/plain": [
       "[1] 190"
      ]
     },
     "metadata": {},
     "output_type": "display_data"
    },
    {
     "data": {
      "text/html": [
       "6"
      ],
      "text/latex": [
       "6"
      ],
      "text/markdown": [
       "6"
      ],
      "text/plain": [
       "[1] 6"
      ]
     },
     "metadata": {},
     "output_type": "display_data"
    }
   ],
   "source": [
    "# what day of the month?\n",
    "mday(some_date)\n",
    "\n",
    "# what day of the year?\n",
    "yday(some_date)\n",
    "\n",
    "# what day of the week?\n",
    "wday(some_date)"
   ]
  },
  {
   "cell_type": "code",
   "execution_count": 33,
   "id": "independent-chambers",
   "metadata": {},
   "outputs": [
    {
     "data": {
      "text/html": [
       "4"
      ],
      "text/latex": [
       "4"
      ],
      "text/markdown": [
       "4"
      ],
      "text/plain": [
       "[1] 4"
      ]
     },
     "metadata": {},
     "output_type": "display_data"
    }
   ],
   "source": [
    "# today is Wednesday\n",
    "wday(today())\n",
    "# the week starts on Sunday"
   ]
  },
  {
   "cell_type": "code",
   "execution_count": 34,
   "id": "particular-humanitarian",
   "metadata": {},
   "outputs": [
    {
     "data": {
      "text/html": [
       "Jul\n",
       "<details>\n",
       "\t<summary style=display:list-item;cursor:pointer>\n",
       "\t\t<strong>Levels</strong>:\n",
       "\t</summary>\n",
       "\t<style>\n",
       "\t.list-inline {list-style: none; margin:0; padding: 0}\n",
       "\t.list-inline>li {display: inline-block}\n",
       "\t.list-inline>li:not(:last-child)::after {content: \"\\00b7\"; padding: 0 .5ex}\n",
       "\t</style>\n",
       "\t<ol class=list-inline><li>'Jan'</li><li>'Feb'</li><li>'Mar'</li><li>'Apr'</li><li>'May'</li><li>'Jun'</li><li>'Jul'</li><li>'Aug'</li><li>'Sep'</li><li>'Oct'</li><li>'Nov'</li><li>'Dec'</li></ol>\n",
       "</details>"
      ],
      "text/latex": [
       "Jul\n",
       "\\emph{Levels}: \\begin{enumerate*}\n",
       "\\item 'Jan'\n",
       "\\item 'Feb'\n",
       "\\item 'Mar'\n",
       "\\item 'Apr'\n",
       "\\item 'May'\n",
       "\\item 'Jun'\n",
       "\\item 'Jul'\n",
       "\\item 'Aug'\n",
       "\\item 'Sep'\n",
       "\\item 'Oct'\n",
       "\\item 'Nov'\n",
       "\\item 'Dec'\n",
       "\\end{enumerate*}\n"
      ],
      "text/markdown": [
       "Jul\n",
       "**Levels**: 1. 'Jan'\n",
       "2. 'Feb'\n",
       "3. 'Mar'\n",
       "4. 'Apr'\n",
       "5. 'May'\n",
       "6. 'Jun'\n",
       "7. 'Jul'\n",
       "8. 'Aug'\n",
       "9. 'Sep'\n",
       "10. 'Oct'\n",
       "11. 'Nov'\n",
       "12. 'Dec'\n",
       "\n",
       "\n"
      ],
      "text/plain": [
       "[1] Jul\n",
       "12 Levels: Jan < Feb < Mar < Apr < May < Jun < Jul < Aug < Sep < ... < Dec"
      ]
     },
     "metadata": {},
     "output_type": "display_data"
    },
    {
     "data": {
      "text/html": [
       "Fri\n",
       "<details>\n",
       "\t<summary style=display:list-item;cursor:pointer>\n",
       "\t\t<strong>Levels</strong>:\n",
       "\t</summary>\n",
       "\t<style>\n",
       "\t.list-inline {list-style: none; margin:0; padding: 0}\n",
       "\t.list-inline>li {display: inline-block}\n",
       "\t.list-inline>li:not(:last-child)::after {content: \"\\00b7\"; padding: 0 .5ex}\n",
       "\t</style>\n",
       "\t<ol class=list-inline><li>'Sun'</li><li>'Mon'</li><li>'Tue'</li><li>'Wed'</li><li>'Thu'</li><li>'Fri'</li><li>'Sat'</li></ol>\n",
       "</details>"
      ],
      "text/latex": [
       "Fri\n",
       "\\emph{Levels}: \\begin{enumerate*}\n",
       "\\item 'Sun'\n",
       "\\item 'Mon'\n",
       "\\item 'Tue'\n",
       "\\item 'Wed'\n",
       "\\item 'Thu'\n",
       "\\item 'Fri'\n",
       "\\item 'Sat'\n",
       "\\end{enumerate*}\n"
      ],
      "text/markdown": [
       "Fri\n",
       "**Levels**: 1. 'Sun'\n",
       "2. 'Mon'\n",
       "3. 'Tue'\n",
       "4. 'Wed'\n",
       "5. 'Thu'\n",
       "6. 'Fri'\n",
       "7. 'Sat'\n",
       "\n",
       "\n"
      ],
      "text/plain": [
       "[1] Fri\n",
       "Levels: Sun < Mon < Tue < Wed < Thu < Fri < Sat"
      ]
     },
     "metadata": {},
     "output_type": "display_data"
    }
   ],
   "source": [
    "# get the names of the month or weekday instead, returns a factor!\n",
    "month(some_date, label = TRUE)\n",
    "wday(some_date, label = TRUE)"
   ]
  },
  {
   "cell_type": "code",
   "execution_count": 35,
   "id": "proprietary-rebel",
   "metadata": {},
   "outputs": [
    {
     "data": {
      "text/html": [
       "12"
      ],
      "text/latex": [
       "12"
      ],
      "text/markdown": [
       "12"
      ],
      "text/plain": [
       "[1] 12"
      ]
     },
     "metadata": {},
     "output_type": "display_data"
    },
    {
     "data": {
      "text/html": [
       "34"
      ],
      "text/latex": [
       "34"
      ],
      "text/markdown": [
       "34"
      ],
      "text/plain": [
       "[1] 34"
      ]
     },
     "metadata": {},
     "output_type": "display_data"
    },
    {
     "data": {
      "text/html": [
       "1"
      ],
      "text/latex": [
       "1"
      ],
      "text/markdown": [
       "1"
      ],
      "text/plain": [
       "[1] 1"
      ]
     },
     "metadata": {},
     "output_type": "display_data"
    }
   ],
   "source": [
    "some_datetime <- ymd_hms(\"2016-07-08 12:34:01\")\n",
    "\n",
    "hour(some_datetime)\n",
    "minute(some_datetime)\n",
    "second(some_datetime)"
   ]
  },
  {
   "cell_type": "code",
   "execution_count": 36,
   "id": "necessary-legislature",
   "metadata": {},
   "outputs": [
    {
     "data": {
      "text/html": [
       "<time datetime=\"2020-07-08\">2020-07-08</time>"
      ],
      "text/latex": [
       "2020-07-08"
      ],
      "text/markdown": [
       "2020-07-08"
      ],
      "text/plain": [
       "[1] \"2020-07-08\""
      ]
     },
     "metadata": {},
     "output_type": "display_data"
    },
    {
     "data": {
      "text/plain": [
       "[1] \"2020-02-02 02:34:01 UTC\""
      ]
     },
     "metadata": {},
     "output_type": "display_data"
    }
   ],
   "source": [
    "# we can also manipulate these component directly\n",
    "year(some_date) <- 2020\n",
    "some_date\n",
    "\n",
    "# update() is best command to do this\n",
    "update(some_datetime, year = 2020, month = 2, mday = 2, hour = 2)"
   ]
  },
  {
   "cell_type": "code",
   "execution_count": 39,
   "id": "cardiac-identifier",
   "metadata": {},
   "outputs": [
    {
     "data": {
      "image/png": "[encoded data removed]",
      "text/plain": [
       "plot without title"
      ]
     },
     "metadata": {
      "image/png": {
       "height": 420,
       "width": 420
      }
     },
     "output_type": "display_data"
    }
   ],
   "source": [
    "# flights by day of the week\n",
    "flights %>%\n",
    "    mutate(wkday = wday(time_hour, label = TRUE)) %>%\n",
    "    ggplot(aes(x = wkday)) +\n",
    "    geom_bar()"
   ]
  },
  {
   "cell_type": "markdown",
   "id": "considered-prince",
   "metadata": {},
   "source": [
    "We can also round to the nearest date (or second, hour, etc)"
   ]
  },
  {
   "cell_type": "code",
   "execution_count": 40,
   "id": "hollywood-mouse",
   "metadata": {},
   "outputs": [
    {
     "data": {
      "image/png": "[encoded data removed]",
      "text/plain": [
       "plot without title"
      ]
     },
     "metadata": {
      "image/png": {
       "height": 420,
       "width": 420
      }
     },
     "output_type": "display_data"
    }
   ],
   "source": [
    "# use the week component\n",
    "flights %>%\n",
    "    mutate(week = week(time_hour)) %>%\n",
    "    group_by(week) %>%\n",
    "    summarize(mean_delay = mean(dep_delay, na.rm = TRUE)) %>%\n",
    "    ggplot(aes(x = week, y = mean_delay)) +\n",
    "    geom_line()"
   ]
  },
  {
   "cell_type": "code",
   "execution_count": 41,
   "id": "immediate-combining",
   "metadata": {},
   "outputs": [
    {
     "data": {
      "image/png": "[encoded data removed]",
      "text/plain": [
       "plot without title"
      ]
     },
     "metadata": {
      "image/png": {
       "height": 420,
       "width": 420
      }
     },
     "output_type": "display_data"
    }
   ],
   "source": [
    "# round to nearest week\n",
    "flights %>%\n",
    "    mutate(week = round_date(time_hour, \"week\")) %>%\n",
    "    group_by(week) %>%\n",
    "    summarize(mean_delay = mean(dep_delay, na.rm = TRUE)) %>%\n",
    "    ggplot(aes(x = week, y = mean_delay)) +\n",
    "    geom_line()"
   ]
  },
  {
   "cell_type": "markdown",
   "id": "agricultural-kenya",
   "metadata": {},
   "source": [
    "There are a few data types that handle time spans:\n",
    "- **durations**, which represent an exact number of seconds\n",
    "- **periods**, which represent human units like weeks and months\n",
    "- **intervals**, which represent a starting and ending point"
   ]
  },
  {
   "cell_type": "code",
   "execution_count": 42,
   "id": "natural-calvin",
   "metadata": {},
   "outputs": [
    {
     "data": {
      "text/html": [
       "3600s (~1 hours)"
      ],
      "text/latex": [
       "3600s (\\textasciitilde{}1 hours)"
      ],
      "text/markdown": [
       "3600s (~1 hours)"
      ],
      "text/plain": [
       "[1] \"3600s (~1 hours)\""
      ]
     },
     "metadata": {},
     "output_type": "display_data"
    },
    {
     "data": {
      "text/html": [
       "259200s (~3 days)"
      ],
      "text/latex": [
       "259200s (\\textasciitilde{}3 days)"
      ],
      "text/markdown": [
       "259200s (~3 days)"
      ],
      "text/plain": [
       "[1] \"259200s (~3 days)\""
      ]
     },
     "metadata": {},
     "output_type": "display_data"
    },
    {
     "data": {
      "text/html": [
       "262800s (~3.04 days)"
      ],
      "text/latex": [
       "262800s (\\textasciitilde{}3.04 days)"
      ],
      "text/markdown": [
       "262800s (~3.04 days)"
      ],
      "text/plain": [
       "[1] \"262800s (~3.04 days)\""
      ]
     },
     "metadata": {},
     "output_type": "display_data"
    }
   ],
   "source": [
    "# a duration of one hour\n",
    "dhours(1)\n",
    "\n",
    "# a duration of 3 days\n",
    "ddays(3)\n",
    "\n",
    "# we can add/subtract durations\n",
    "dhours(1) + ddays(3)"
   ]
  },
  {
   "cell_type": "code",
   "execution_count": 43,
   "id": "exact-architecture",
   "metadata": {},
   "outputs": [
    {
     "data": {
      "text/plain": [
       "Time difference of 1845.006 days"
      ]
     },
     "metadata": {},
     "output_type": "display_data"
    },
    {
     "data": {
      "text/html": [
       "159408477.112858s (~5.05 years)"
      ],
      "text/latex": [
       "159408477.112858s (\\textasciitilde{}5.05 years)"
      ],
      "text/markdown": [
       "159408477.112858s (~5.05 years)"
      ],
      "text/plain": [
       "[1] \"159408477.112858s (~5.05 years)\""
      ]
     },
     "metadata": {},
     "output_type": "display_data"
    }
   ],
   "source": [
    "one_pm <- ymd_hms(\"2016-03-12 13:00:00\", tz = \"America/New_York\")\n",
    "\n",
    "now() - one_pm\n",
    "\n",
    "as.duration(now() - one_pm)"
   ]
  },
  {
   "cell_type": "code",
   "execution_count": 44,
   "id": "advisory-cassette",
   "metadata": {},
   "outputs": [
    {
     "data": {
      "text/plain": [
       "[1] \"2016-03-12 13:00:00 EST\""
      ]
     },
     "metadata": {},
     "output_type": "display_data"
    },
    {
     "data": {
      "text/plain": [
       "[1] \"2016-03-13 14:00:00 EDT\""
      ]
     },
     "metadata": {},
     "output_type": "display_data"
    }
   ],
   "source": [
    "# durations operate at the seconds level\n",
    "# if you add one dday to a date you *always* add 24 hours worth of seconds\n",
    "one_pm\n",
    "one_pm + ddays(1)"
   ]
  },
  {
   "cell_type": "code",
   "execution_count": 46,
   "id": "raised-turkish",
   "metadata": {},
   "outputs": [
    {
     "data": {
      "text/plain": [
       "[1] \"2016-03-13 13:00:00 EDT\""
      ]
     },
     "metadata": {},
     "output_type": "display_data"
    }
   ],
   "source": [
    "# periods add to the month, day, hour, etc. components\n",
    "one_pm + days(1)"
   ]
  },
  {
   "cell_type": "code",
   "execution_count": 47,
   "id": "therapeutic-permission",
   "metadata": {},
   "outputs": [
    {
     "data": {
      "text/html": [
       "15S"
      ],
      "text/latex": [
       "15S"
      ],
      "text/markdown": [
       "15S"
      ],
      "text/plain": [
       "[1] \"15S\""
      ]
     },
     "metadata": {},
     "output_type": "display_data"
    },
    {
     "data": {
      "text/html": [
       "10H 0M 0S"
      ],
      "text/latex": [
       "10H 0M 0S"
      ],
      "text/markdown": [
       "10H 0M 0S"
      ],
      "text/plain": [
       "[1] \"10H 0M 0S\""
      ]
     },
     "metadata": {},
     "output_type": "display_data"
    },
    {
     "data": {
      "text/html": [
       "2m 0d 0H 0M 0S"
      ],
      "text/latex": [
       "2m 0d 0H 0M 0S"
      ],
      "text/markdown": [
       "2m 0d 0H 0M 0S"
      ],
      "text/plain": [
       "[1] \"2m 0d 0H 0M 0S\""
      ]
     },
     "metadata": {},
     "output_type": "display_data"
    }
   ],
   "source": [
    "# various periods\n",
    "seconds(15)\n",
    "\n",
    "hours(10)\n",
    "\n",
    "months(2)"
   ]
  },
  {
   "cell_type": "code",
   "execution_count": 48,
   "id": "lyric-slave",
   "metadata": {},
   "outputs": [
    {
     "data": {
      "text/plain": [
       "[1] \"2016-12-31 06:00:00 UTC\""
      ]
     },
     "metadata": {},
     "output_type": "display_data"
    },
    {
     "data": {
      "text/html": [
       "<time datetime=\"2017-01-01\">2017-01-01</time>"
      ],
      "text/latex": [
       "2017-01-01"
      ],
      "text/markdown": [
       "2017-01-01"
      ],
      "text/plain": [
       "[1] \"2017-01-01\""
      ]
     },
     "metadata": {},
     "output_type": "display_data"
    }
   ],
   "source": [
    "# A leap year\n",
    "# here dyear(1) is 364.25 days\n",
    "# adding a duration of one year\n",
    "ymd(\"2016-01-01\") + dyears(1)\n",
    "\n",
    "# adding a period of one year\n",
    "ymd(\"2016-01-01\") + years(1)"
   ]
  },
  {
   "cell_type": "code",
   "execution_count": 49,
   "id": "manual-applicant",
   "metadata": {},
   "outputs": [
    {
     "data": {
      "text/html": [
       "1m 100d 0H 0M 0S"
      ],
      "text/latex": [
       "1m 100d 0H 0M 0S"
      ],
      "text/markdown": [
       "1m 100d 0H 0M 0S"
      ],
      "text/plain": [
       "[1] \"1m 100d 0H 0M 0S\""
      ]
     },
     "metadata": {},
     "output_type": "display_data"
    }
   ],
   "source": [
    "# we can perform multiplication/division with periods\n",
    "10 * days(10) + months(1)"
   ]
  },
  {
   "cell_type": "code",
   "execution_count": 53,
   "id": "intensive-species",
   "metadata": {},
   "outputs": [
    {
     "data": {
      "text/html": [
       "365.25"
      ],
      "text/latex": [
       "365.25"
      ],
      "text/markdown": [
       "365.25"
      ],
      "text/plain": [
       "[1] 365.25"
      ]
     },
     "metadata": {},
     "output_type": "display_data"
    }
   ],
   "source": [
    "# this produces some funny results\n",
    "# this operation is year dependent!\n",
    "years(1) / days(1)"
   ]
  },
  {
   "cell_type": "code",
   "execution_count": 54,
   "id": "laughing-oliver",
   "metadata": {},
   "outputs": [
    {
     "data": {
      "text/html": [
       "365"
      ],
      "text/latex": [
       "365"
      ],
      "text/markdown": [
       "365"
      ],
      "text/plain": [
       "[1] 365"
      ]
     },
     "metadata": {},
     "output_type": "display_data"
    }
   ],
   "source": [
    "# the function %--% creates an interval\n",
    "\n",
    "next_year <- today() + years(1)\n",
    "(today() %--% next_year) / ddays(1)"
   ]
  },
  {
   "cell_type": "markdown",
   "id": "circular-navigation",
   "metadata": {},
   "source": [
    "Attempt\n",
    "- Graph the average arrival delay for different days of the week using the ```flights``` dataset\n",
    "- Graph the average arrival delay for different hours of the day using the ```flights``` dataset"
   ]
  },
  {
   "cell_type": "code",
   "execution_count": 60,
   "id": "encouraging-infrastructure",
   "metadata": {},
   "outputs": [
    {
     "data": {
      "image/png": "[encoded data removed]",
      "text/plain": [
       "plot without title"
      ]
     },
     "metadata": {
      "image/png": {
       "height": 420,
       "width": 420
      }
     },
     "output_type": "display_data"
    }
   ],
   "source": [
    "#flights %>%\n",
    "#    mutate(week = week(time_hour))\n",
    "\n",
    "flights %>%\n",
    "    mutate(week = week(make_date(year,month,day))) %>%\n",
    "    group_by(week) %>%\n",
    "    summarize(mean_arr_delay = mean(arr_delay, na.rm = TRUE)) %>%\n",
    "    ggplot() +\n",
    "    geom_line(aes(x = week, y= mean_arr_delay))"
   ]
  },
  {
   "cell_type": "code",
   "execution_count": 64,
   "id": "destroyed-rebate",
   "metadata": {},
   "outputs": [
    {
     "name": "stderr",
     "output_type": "stream",
     "text": [
      "Warning message:\n",
      "“Removed 1 row(s) containing missing values (geom_path).”\n"
     ]
    },
    {
     "data": {
      "image/png": "[encoded data removed]",
      "text/plain": [
       "plot without title"
      ]
     },
     "metadata": {
      "image/png": {
       "height": 420,
       "width": 420
      }
     },
     "output_type": "display_data"
    }
   ],
   "source": [
    "flights %>%\n",
    "    mutate(hour = hour(time_hour)) %>%\n",
    "    group_by(hour) %>%\n",
    "    summarize(mean_arr_delay = mean(arr_delay, na.rm = TRUE)) %>%\n",
    "    ggplot() +\n",
    "    geom_line(aes(x = hour, y = mean_arr_delay))"
   ]
  },
  {
   "cell_type": "code",
   "execution_count": null,
   "id": "joint-cuisine",
   "metadata": {},
   "outputs": [],
   "source": []
  }
 ],
 "metadata": {
  "kernelspec": {
   "display_name": "R",
   "language": "R",
   "name": "ir"
  },
  "language_info": {
   "codemirror_mode": "r",
   "file_extension": ".r",
   "mimetype": "text/x-r-source",
   "name": "R",
   "pygments_lexer": "r",
   "version": "4.0.3"
  }
 },
 "nbformat": 4,
 "nbformat_minor": 5
}

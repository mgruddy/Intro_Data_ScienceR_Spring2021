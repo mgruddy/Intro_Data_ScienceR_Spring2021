{
 "cells": [
  {
   "cell_type": "markdown",
   "id": "national-navigator",
   "metadata": {},
   "source": [
    "# Assignment Two\n",
    "Michael Ruddy"
   ]
  },
  {
   "cell_type": "markdown",
   "id": "alleged-brazil",
   "metadata": {},
   "source": [
    "## HW2\n",
    "- Michael Ruddy"
   ]
  },
  {
   "cell_type": "markdown",
   "id": "valid-possession",
   "metadata": {},
   "source": [
    "## Question 1"
   ]
  },
  {
   "cell_type": "code",
   "execution_count": 2,
   "id": "lyric-celebrity",
   "metadata": {},
   "outputs": [
    {
     "data": {
      "text/html": [
       "14"
      ],
      "text/latex": [
       "14"
      ],
      "text/markdown": [
       "14"
      ],
      "text/plain": [
       "[1] 14"
      ]
     },
     "metadata": {},
     "output_type": "display_data"
    }
   ],
   "source": [
    "x <- 7; y <- 2\n",
    "x * y"
   ]
  },
  {
   "cell_type": "markdown",
   "id": "classical-studio",
   "metadata": {},
   "source": [
    "I received this output because 7 times 2 is the same as 7 plus 7 which is 14 by the following facts:\n",
    "- 1+1+1+1+1+1+1 = 7\n",
    "- 1+1+1+1+1+1+1+1+1+1+1+1+1+1 = 7+7"
   ]
  },
  {
   "cell_type": "markdown",
   "id": "retired-finance",
   "metadata": {},
   "source": [
    "##  #2"
   ]
  },
  {
   "cell_type": "code",
   "execution_count": 3,
   "id": "indonesian-dispatch",
   "metadata": {},
   "outputs": [
    {
     "data": {
      "text/html": [
       "3"
      ],
      "text/latex": [
       "3"
      ],
      "text/markdown": [
       "3"
      ],
      "text/plain": [
       "[1] 3"
      ]
     },
     "metadata": {},
     "output_type": "display_data"
    },
    {
     "data": {
      "text/html": [
       "3"
      ],
      "text/latex": [
       "3"
      ],
      "text/markdown": [
       "3"
      ],
      "text/plain": [
       "[1] 3"
      ]
     },
     "metadata": {},
     "output_type": "display_data"
    },
    {
     "data": {
      "text/html": [
       "22"
      ],
      "text/latex": [
       "22"
      ],
      "text/markdown": [
       "22"
      ],
      "text/plain": [
       "[1] 22"
      ]
     },
     "metadata": {},
     "output_type": "display_data"
    }
   ],
   "source": [
    "# sanity check to verify that the square root of x squared is equal to the absolute value of x\n",
    "x <- -3\n",
    "y <- x**2\n",
    "sqrt(y)\n",
    "abs(x)\n",
    "\n",
    "# compute the absolute value of the alternating sum of the first 10 Fibonacci numbers\n",
    "abs(0 - 1 + 1 - 2 + 3 - 5 + 8 - 13 + 21 - 34)"
   ]
  },
  {
   "cell_type": "markdown",
   "id": "faced-waters",
   "metadata": {},
   "source": [
    "- Should these two blocks of code be in different cells? Why or why not?\n",
    "- Why ```abs(0 - 1 + 1 - 2 + 3 - 5 + 8 - 13 + 21 - 34)``` instead of ```abs(0-1+1-2+3-5+8-13+21-34)```?"
   ]
  },
  {
   "cell_type": "code",
   "execution_count": 12,
   "id": "defensive-nightlife",
   "metadata": {},
   "outputs": [
    {
     "name": "stderr",
     "output_type": "stream",
     "text": [
      "Registered S3 methods overwritten by 'ggplot2':\n",
      "  method         from \n",
      "  [.quosures     rlang\n",
      "  c.quosures     rlang\n",
      "  print.quosures rlang\n",
      "Registered S3 method overwritten by 'rvest':\n",
      "  method            from\n",
      "  read_xml.response xml2\n",
      "── Attaching packages ─────────────────────────────────────── tidyverse 1.2.1 ──\n",
      "✔ ggplot2 3.1.1       ✔ purrr   0.3.2  \n",
      "✔ tibble  2.1.1       ✔ dplyr   0.8.0.1\n",
      "✔ tidyr   0.8.3       ✔ stringr 1.4.0  \n",
      "✔ readr   1.3.1       ✔ forcats 0.4.0  \n",
      "── Conflicts ────────────────────────────────────────── tidyverse_conflicts() ──\n",
      "✖ dplyr::filter() masks stats::filter()\n",
      "✖ dplyr::lag()    masks stats::lag()\n"
     ]
    }
   ],
   "source": [
    "# load packages in the tidyverse library\n",
    "library(tidyverse)"
   ]
  },
  {
   "cell_type": "markdown",
   "id": "velvet-cambodia",
   "metadata": {},
   "source": [
    "## In-class activity\n",
    "1. Download this Jupyter notebook from canvas and open it\n",
    "2. Create a new Jupyter notebook\n",
    "3. Make a nice header for your notebook using Markdown\n",
    "4. Do the following to practice assigning variables\n",
    " * Assign numerical values to 3 different variables; run a few basic numerical computations\n",
    " * Use ```ls()``` to check that these are in your working memory\n",
    " * restart the kernel and run ```ls()``` again\n",
    "5. Play with the ```seq``` command\n",
    " * Run ```?seq``` and read the help file\n",
    " * Try different inputs to get a feel for what it does\n",
    " * Use the ```seq``` command to create the sequence: (1, 1.5, 2, 2.5, 3, 3.5)\n",
    " * Take the arguments you used and assign them to variables. Create the sequence using these variables.\n",
    "6. Run the command ```library(tidyverse)``` and observe the output.\n",
    "7. Save what you've done as a .pdf file on your computer (including the output)"
   ]
  }
 ],
 "metadata": {
  "kernelspec": {
   "display_name": "R",
   "language": "R",
   "name": "ir"
  },
  "language_info": {
   "codemirror_mode": "r",
   "file_extension": ".r",
   "mimetype": "text/x-r-source",
   "name": "R",
   "pygments_lexer": "r",
   "version": "3.6.1"
  }
 },
 "nbformat": 4,
 "nbformat_minor": 5
}

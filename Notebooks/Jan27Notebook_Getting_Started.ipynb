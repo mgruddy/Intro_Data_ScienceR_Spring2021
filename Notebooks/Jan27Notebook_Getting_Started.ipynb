{
 "cells": [
  {
   "cell_type": "code",
   "execution_count": null,
   "id": "final-designer",
   "metadata": {},
   "outputs": [],
   "source": [
    "# this is a cell of code\n",
    "# Anything after # is \"commented out,\" meaning it displays as text and is not run as code\n",
    "# you can also hit SHIFT+ENTER\n",
    "\n",
    "2 * 3   # I can also comment here!"
   ]
  },
  {
   "cell_type": "code",
   "execution_count": null,
   "id": "lyric-celebrity",
   "metadata": {},
   "outputs": [],
   "source": [
    "# loop over a billion numbers\n",
    "for (i in seq(1, 1000000000)){\n",
    "    i\n",
    "}"
   ]
  },
  {
   "cell_type": "markdown",
   "id": "direct-capital",
   "metadata": {},
   "source": [
    "# This\n",
    "## Is A\n",
    "### Markdown\n",
    "#### Cell\n",
    "\n",
    "**bold**\n",
    "\n",
    "*italics*\n",
    "\n",
    "[Some common Markdown commands](https://medium.com/analytics-vidhya/the-ultimate-markdown-guide-for-jupyter-notebook-d5e5abf728fd)"
   ]
  },
  {
   "cell_type": "code",
   "execution_count": 1,
   "id": "opposed-service",
   "metadata": {
    "scrolled": false
   },
   "outputs": [],
   "source": [
    "# assign the variable x a value\n",
    "x <- 3"
   ]
  },
  {
   "cell_type": "code",
   "execution_count": 2,
   "id": "native-struggle",
   "metadata": {},
   "outputs": [
    {
     "data": {
      "text/html": [
       "3"
      ],
      "text/latex": [
       "3"
      ],
      "text/markdown": [
       "3"
      ],
      "text/plain": [
       "[1] 3"
      ]
     },
     "metadata": {},
     "output_type": "display_data"
    }
   ],
   "source": [
    "# what is x?\n",
    "x"
   ]
  },
  {
   "cell_type": "code",
   "execution_count": 5,
   "id": "transsexual-worcester",
   "metadata": {},
   "outputs": [
    {
     "data": {
      "text/html": [],
      "text/latex": [],
      "text/markdown": [],
      "text/plain": [
       "character(0)"
      ]
     },
     "metadata": {},
     "output_type": "display_data"
    }
   ],
   "source": [
    "# objects in working memory\n",
    "ls()"
   ]
  },
  {
   "cell_type": "code",
   "execution_count": 4,
   "id": "flying-certification",
   "metadata": {},
   "outputs": [],
   "source": [
    "# remove x from working memory\n",
    "rm(x)"
   ]
  },
  {
   "cell_type": "code",
   "execution_count": 6,
   "id": "forty-orange",
   "metadata": {},
   "outputs": [
    {
     "data": {
      "text/html": [
       "42"
      ],
      "text/latex": [
       "42"
      ],
      "text/markdown": [
       "42"
      ],
      "text/plain": [
       "[1] 42"
      ]
     },
     "metadata": {},
     "output_type": "display_data"
    }
   ],
   "source": [
    "# run many lines at the same time\n",
    "x <- 6\n",
    "y <- 7\n",
    "x * y"
   ]
  },
  {
   "cell_type": "code",
   "execution_count": 7,
   "id": "consistent-alloy",
   "metadata": {},
   "outputs": [
    {
     "data": {
      "text/html": [
       "200"
      ],
      "text/latex": [
       "200"
      ],
      "text/markdown": [
       "200"
      ],
      "text/plain": [
       "[1] 200"
      ]
     },
     "metadata": {},
     "output_type": "display_data"
    }
   ],
   "source": [
    "# semi-colon\n",
    "x <- 10; y <- 20\n",
    "x * y"
   ]
  },
  {
   "cell_type": "code",
   "execution_count": 14,
   "id": "domestic-tissue",
   "metadata": {},
   "outputs": [],
   "source": [
    "# naming objects\n",
    "myVariable <- 10\n",
    "my_object <- 20\n",
    "My_object <- 30\n",
    "myvariable <- 40"
   ]
  },
  {
   "cell_type": "code",
   "execution_count": 15,
   "id": "noted-offense",
   "metadata": {},
   "outputs": [
    {
     "data": {
      "text/html": [
       "20"
      ],
      "text/latex": [
       "20"
      ],
      "text/markdown": [
       "20"
      ],
      "text/plain": [
       "[1] 20"
      ]
     },
     "metadata": {},
     "output_type": "display_data"
    },
    {
     "data": {
      "text/html": [
       "30"
      ],
      "text/latex": [
       "30"
      ],
      "text/markdown": [
       "30"
      ],
      "text/plain": [
       "[1] 30"
      ]
     },
     "metadata": {},
     "output_type": "display_data"
    }
   ],
   "source": [
    "my_object; My_object"
   ]
  },
  {
   "cell_type": "code",
   "execution_count": 16,
   "id": "willing-variable",
   "metadata": {},
   "outputs": [
    {
     "data": {
      "text/html": [
       "10"
      ],
      "text/latex": [
       "10"
      ],
      "text/markdown": [
       "10"
      ],
      "text/plain": [
       "[1] 10"
      ]
     },
     "metadata": {},
     "output_type": "display_data"
    },
    {
     "data": {
      "text/html": [
       "40"
      ],
      "text/latex": [
       "40"
      ],
      "text/markdown": [
       "40"
      ],
      "text/plain": [
       "[1] 40"
      ]
     },
     "metadata": {},
     "output_type": "display_data"
    }
   ],
   "source": [
    "myVariable; myvariable"
   ]
  },
  {
   "cell_type": "code",
   "execution_count": 17,
   "id": "final-interaction",
   "metadata": {},
   "outputs": [
    {
     "data": {
      "text/html": [
       "'hello world'"
      ],
      "text/latex": [
       "'hello world'"
      ],
      "text/markdown": [
       "'hello world'"
      ],
      "text/plain": [
       "[1] \"hello world\""
      ]
     },
     "metadata": {},
     "output_type": "display_data"
    },
    {
     "data": {
      "text/html": [
       "'helloworld'"
      ],
      "text/latex": [
       "'helloworld'"
      ],
      "text/markdown": [
       "'helloworld'"
      ],
      "text/plain": [
       "[1] \"helloworld\""
      ]
     },
     "metadata": {},
     "output_type": "display_data"
    }
   ],
   "source": [
    "# strings are space sensitive\n",
    "x <- \"hello world\"\n",
    "y <- \"helloworld\"\n",
    "x; y"
   ]
  },
  {
   "cell_type": "code",
   "execution_count": 18,
   "id": "detailed-bearing",
   "metadata": {},
   "outputs": [
    {
     "data": {
      "text/html": [
       "'hello world'"
      ],
      "text/latex": [
       "'hello world'"
      ],
      "text/markdown": [
       "'hello world'"
      ],
      "text/plain": [
       "[1] \"hello world\""
      ]
     },
     "metadata": {},
     "output_type": "display_data"
    },
    {
     "data": {
      "text/html": [
       "'helloworld'"
      ],
      "text/latex": [
       "'helloworld'"
      ],
      "text/markdown": [
       "'helloworld'"
      ],
      "text/plain": [
       "[1] \"helloworld\""
      ]
     },
     "metadata": {},
     "output_type": "display_data"
    }
   ],
   "source": [
    "# use parentheses to display assignments\n",
    "(x <- \"hello world\") # equivalent to ```x <- \"hello world\"; x```\n",
    "(y <- \"helloworld\")"
   ]
  },
  {
   "cell_type": "code",
   "execution_count": 20,
   "id": "consistent-marathon",
   "metadata": {},
   "outputs": [
    {
     "ename": "ERROR",
     "evalue": "Error in parse(text = x, srcfile = src): <text>:2:6: unexpected INCOMPLETE_STRING\n1: # R will do its best to be helpful with errors\n2: x <- \"hello'\n        ^\n",
     "output_type": "error",
     "traceback": [
      "Error in parse(text = x, srcfile = src): <text>:2:6: unexpected INCOMPLETE_STRING\n1: # R will do its best to be helpful with errors\n2: x <- \"hello'\n        ^\nTraceback:\n"
     ]
    }
   ],
   "source": [
    "# R will do its best to be helpful with errors\n",
    "x <- \"hello'"
   ]
  },
  {
   "cell_type": "code",
   "execution_count": 21,
   "id": "handled-might",
   "metadata": {},
   "outputs": [
    {
     "data": {
      "text/html": [
       "<ol class=list-inline>\n",
       "\t<li>1</li>\n",
       "\t<li>2</li>\n",
       "\t<li>3</li>\n",
       "\t<li>4</li>\n",
       "\t<li>5</li>\n",
       "\t<li>6</li>\n",
       "\t<li>7</li>\n",
       "\t<li>8</li>\n",
       "\t<li>9</li>\n",
       "\t<li>10</li>\n",
       "</ol>\n"
      ],
      "text/latex": [
       "\\begin{enumerate*}\n",
       "\\item 1\n",
       "\\item 2\n",
       "\\item 3\n",
       "\\item 4\n",
       "\\item 5\n",
       "\\item 6\n",
       "\\item 7\n",
       "\\item 8\n",
       "\\item 9\n",
       "\\item 10\n",
       "\\end{enumerate*}\n"
      ],
      "text/markdown": [
       "1. 1\n",
       "2. 2\n",
       "3. 3\n",
       "4. 4\n",
       "5. 5\n",
       "6. 6\n",
       "7. 7\n",
       "8. 8\n",
       "9. 9\n",
       "10. 10\n",
       "\n",
       "\n"
      ],
      "text/plain": [
       " [1]  1  2  3  4  5  6  7  8  9 10"
      ]
     },
     "metadata": {},
     "output_type": "display_data"
    },
    {
     "data": {
      "text/html": [
       "<ol class=list-inline>\n",
       "\t<li>1</li>\n",
       "\t<li>2</li>\n",
       "\t<li>3</li>\n",
       "\t<li>4</li>\n",
       "\t<li>5</li>\n",
       "\t<li>6</li>\n",
       "\t<li>7</li>\n",
       "\t<li>8</li>\n",
       "\t<li>9</li>\n",
       "\t<li>10</li>\n",
       "</ol>\n"
      ],
      "text/latex": [
       "\\begin{enumerate*}\n",
       "\\item 1\n",
       "\\item 2\n",
       "\\item 3\n",
       "\\item 4\n",
       "\\item 5\n",
       "\\item 6\n",
       "\\item 7\n",
       "\\item 8\n",
       "\\item 9\n",
       "\\item 10\n",
       "\\end{enumerate*}\n"
      ],
      "text/markdown": [
       "1. 1\n",
       "2. 2\n",
       "3. 3\n",
       "4. 4\n",
       "5. 5\n",
       "6. 6\n",
       "7. 7\n",
       "8. 8\n",
       "9. 9\n",
       "10. 10\n",
       "\n",
       "\n"
      ],
      "text/plain": [
       " [1]  1  2  3  4  5  6  7  8  9 10"
      ]
     },
     "metadata": {},
     "output_type": "display_data"
    },
    {
     "data": {
      "text/html": [
       "<ol class=list-inline>\n",
       "\t<li>1</li>\n",
       "\t<li>3</li>\n",
       "\t<li>5</li>\n",
       "\t<li>7</li>\n",
       "\t<li>9</li>\n",
       "</ol>\n"
      ],
      "text/latex": [
       "\\begin{enumerate*}\n",
       "\\item 1\n",
       "\\item 3\n",
       "\\item 5\n",
       "\\item 7\n",
       "\\item 9\n",
       "\\end{enumerate*}\n"
      ],
      "text/markdown": [
       "1. 1\n",
       "2. 3\n",
       "3. 5\n",
       "4. 7\n",
       "5. 9\n",
       "\n",
       "\n"
      ],
      "text/plain": [
       "[1] 1 3 5 7 9"
      ]
     },
     "metadata": {},
     "output_type": "display_data"
    },
    {
     "ename": "ERROR",
     "evalue": "Error in seq.default(1, 10, 2, 10): too many arguments\n",
     "output_type": "error",
     "traceback": [
      "Error in seq.default(1, 10, 2, 10): too many arguments\nTraceback:\n",
      "1. seq(1, 10, 2, 10)",
      "2. seq.default(1, 10, 2, 10)",
      "3. stop(\"too many arguments\")"
     ]
    }
   ],
   "source": [
    "# the command seq is a function\n",
    "seq(1, 10)\n",
    "seq(10)\n",
    "seq(1, 10, 2)\n",
    "seq(1, 10, 2, 10)"
   ]
  },
  {
   "cell_type": "code",
   "execution_count": 22,
   "id": "burning-feeding",
   "metadata": {},
   "outputs": [],
   "source": [
    "# get help for using seq\n",
    "?seq"
   ]
  },
  {
   "cell_type": "code",
   "execution_count": 24,
   "id": "resident-continent",
   "metadata": {},
   "outputs": [
    {
     "data": {
      "text/html": [
       "<ol class=list-inline>\n",
       "\t<li>1</li>\n",
       "\t<li>1.5</li>\n",
       "\t<li>2</li>\n",
       "</ol>\n"
      ],
      "text/latex": [
       "\\begin{enumerate*}\n",
       "\\item 1\n",
       "\\item 1.5\n",
       "\\item 2\n",
       "\\end{enumerate*}\n"
      ],
      "text/markdown": [
       "1. 1\n",
       "2. 1.5\n",
       "3. 2\n",
       "\n",
       "\n"
      ],
      "text/plain": [
       "[1] 1.0 1.5 2.0"
      ]
     },
     "metadata": {},
     "output_type": "display_data"
    }
   ],
   "source": [
    "# note the spacing style\n",
    "seq(1, 2, length.out=3)"
   ]
  },
  {
   "cell_type": "markdown",
   "id": "supreme-patrick",
   "metadata": {},
   "source": [
    "[Style Guide](http://adv-r.had.co.nz/Style.html)"
   ]
  },
  {
   "cell_type": "markdown",
   "id": "liquid-favorite",
   "metadata": {},
   "source": [
    "Other useful commands, try them!"
   ]
  },
  {
   "cell_type": "code",
   "execution_count": 25,
   "id": "significant-glossary",
   "metadata": {},
   "outputs": [
    {
     "data": {
      "text/html": [
       "'/Users/mruddy/Documents/BSDS100'"
      ],
      "text/latex": [
       "'/Users/mruddy/Documents/BSDS100'"
      ],
      "text/markdown": [
       "'/Users/mruddy/Documents/BSDS100'"
      ],
      "text/plain": [
       "[1] \"/Users/mruddy/Documents/BSDS100\""
      ]
     },
     "metadata": {},
     "output_type": "display_data"
    }
   ],
   "source": [
    "# get working directory\n",
    "getwd()\n",
    "\n",
    "# See all example datasets in available packages\n",
    "data()"
   ]
  },
  {
   "cell_type": "code",
   "execution_count": null,
   "id": "athletic-latter",
   "metadata": {},
   "outputs": [],
   "source": []
  }
 ],
 "metadata": {
  "kernelspec": {
   "display_name": "R",
   "language": "R",
   "name": "ir"
  },
  "language_info": {
   "codemirror_mode": "r",
   "file_extension": ".r",
   "mimetype": "text/x-r-source",
   "name": "R",
   "pygments_lexer": "r",
   "version": "3.6.1"
  }
 },
 "nbformat": 4,
 "nbformat_minor": 5
}

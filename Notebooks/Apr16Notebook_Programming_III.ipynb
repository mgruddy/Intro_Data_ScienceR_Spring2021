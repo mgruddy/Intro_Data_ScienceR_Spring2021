{
 "cells": [
  {
   "cell_type": "code",
   "execution_count": 1,
   "id": "brazilian-floor",
   "metadata": {},
   "outputs": [
    {
     "name": "stderr",
     "output_type": "stream",
     "text": [
      "── \u001b[1mAttaching packages\u001b[22m ─────────────────────────────────────── tidyverse 1.3.0 ──\n",
      "\n",
      "\u001b[32m✔\u001b[39m \u001b[34mggplot2\u001b[39m 3.3.3     \u001b[32m✔\u001b[39m \u001b[34mpurrr  \u001b[39m 0.3.4\n",
      "\u001b[32m✔\u001b[39m \u001b[34mtibble \u001b[39m 3.0.6     \u001b[32m✔\u001b[39m \u001b[34mdplyr  \u001b[39m 1.0.4\n",
      "\u001b[32m✔\u001b[39m \u001b[34mtidyr  \u001b[39m 1.1.2     \u001b[32m✔\u001b[39m \u001b[34mstringr\u001b[39m 1.4.0\n",
      "\u001b[32m✔\u001b[39m \u001b[34mreadr  \u001b[39m 1.4.0     \u001b[32m✔\u001b[39m \u001b[34mforcats\u001b[39m 0.5.1\n",
      "\n",
      "── \u001b[1mConflicts\u001b[22m ────────────────────────────────────────── tidyverse_conflicts() ──\n",
      "\u001b[31m✖\u001b[39m \u001b[34mdplyr\u001b[39m::\u001b[32mfilter()\u001b[39m masks \u001b[34mstats\u001b[39m::filter()\n",
      "\u001b[31m✖\u001b[39m \u001b[34mdplyr\u001b[39m::\u001b[32mlag()\u001b[39m    masks \u001b[34mstats\u001b[39m::lag()\n",
      "\n"
     ]
    }
   ],
   "source": [
    "library(tidyverse)"
   ]
  },
  {
   "cell_type": "markdown",
   "id": "radical-drawing",
   "metadata": {},
   "source": [
    "Warm-up:\n",
    "- Write a function with a for-loop inside a conditonal (or vice versa!)"
   ]
  },
  {
   "cell_type": "code",
   "execution_count": 2,
   "id": "global-opening",
   "metadata": {},
   "outputs": [],
   "source": [
    "x <- c(1,2,3,4,5)"
   ]
  },
  {
   "cell_type": "code",
   "execution_count": 6,
   "id": "enclosed-daily",
   "metadata": {},
   "outputs": [
    {
     "name": "stdout",
     "output_type": "stream",
     "text": [
      "[1] 1\n",
      "[1] 4\n",
      "[1] 3\n",
      "[1] 16\n",
      "[1] 5\n"
     ]
    }
   ],
   "source": [
    "for (i in x) {\n",
    "    if (i %% 2 == 0) {\n",
    "        print(i^2)\n",
    "    } else {\n",
    "        print(i)\n",
    "    }\n",
    "}"
   ]
  },
  {
   "cell_type": "code",
   "execution_count": 11,
   "id": "excellent-digit",
   "metadata": {},
   "outputs": [],
   "source": [
    "square_even_identity_odd <- function (x) {\n",
    "    for (i in seq_along(x)) {\n",
    "        if (x[[i]] %% 2 == 0) {\n",
    "            x[[i]] <- x[[i]]^2\n",
    "        }\n",
    "    }\n",
    "    x\n",
    "}"
   ]
  },
  {
   "cell_type": "code",
   "execution_count": 14,
   "id": "surgical-contact",
   "metadata": {},
   "outputs": [
    {
     "data": {
      "text/html": [
       "<style>\n",
       ".list-inline {list-style: none; margin:0; padding: 0}\n",
       ".list-inline>li {display: inline-block}\n",
       ".list-inline>li:not(:last-child)::after {content: \"\\00b7\"; padding: 0 .5ex}\n",
       "</style>\n",
       "<ol class=list-inline><li>1</li><li>2</li><li>3</li><li>4</li><li>5</li></ol>\n"
      ],
      "text/latex": [
       "\\begin{enumerate*}\n",
       "\\item 1\n",
       "\\item 2\n",
       "\\item 3\n",
       "\\item 4\n",
       "\\item 5\n",
       "\\end{enumerate*}\n"
      ],
      "text/markdown": [
       "1. 1\n",
       "2. 2\n",
       "3. 3\n",
       "4. 4\n",
       "5. 5\n",
       "\n",
       "\n"
      ],
      "text/plain": [
       "[1] 1 2 3 4 5"
      ]
     },
     "metadata": {},
     "output_type": "display_data"
    },
    {
     "data": {
      "text/html": [
       "<style>\n",
       ".list-inline {list-style: none; margin:0; padding: 0}\n",
       ".list-inline>li {display: inline-block}\n",
       ".list-inline>li:not(:last-child)::after {content: \"\\00b7\"; padding: 0 .5ex}\n",
       "</style>\n",
       "<ol class=list-inline><li>1</li><li>4</li><li>3</li><li>16</li><li>5</li></ol>\n"
      ],
      "text/latex": [
       "\\begin{enumerate*}\n",
       "\\item 1\n",
       "\\item 4\n",
       "\\item 3\n",
       "\\item 16\n",
       "\\item 5\n",
       "\\end{enumerate*}\n"
      ],
      "text/markdown": [
       "1. 1\n",
       "2. 4\n",
       "3. 3\n",
       "4. 16\n",
       "5. 5\n",
       "\n",
       "\n"
      ],
      "text/plain": [
       "[1]  1  4  3 16  5"
      ]
     },
     "metadata": {},
     "output_type": "display_data"
    },
    {
     "data": {
      "text/html": [
       "<style>\n",
       ".list-inline {list-style: none; margin:0; padding: 0}\n",
       ".list-inline>li {display: inline-block}\n",
       ".list-inline>li:not(:last-child)::after {content: \"\\00b7\"; padding: 0 .5ex}\n",
       "</style>\n",
       "<ol class=list-inline><li>1</li><li>2</li><li>3</li><li>4</li><li>5</li></ol>\n"
      ],
      "text/latex": [
       "\\begin{enumerate*}\n",
       "\\item 1\n",
       "\\item 2\n",
       "\\item 3\n",
       "\\item 4\n",
       "\\item 5\n",
       "\\end{enumerate*}\n"
      ],
      "text/markdown": [
       "1. 1\n",
       "2. 2\n",
       "3. 3\n",
       "4. 4\n",
       "5. 5\n",
       "\n",
       "\n"
      ],
      "text/plain": [
       "[1] 1 2 3 4 5"
      ]
     },
     "metadata": {},
     "output_type": "display_data"
    }
   ],
   "source": [
    "x\n",
    "square_even_identity_odd(x)\n",
    "x"
   ]
  },
  {
   "cell_type": "markdown",
   "id": "textile-storage",
   "metadata": {},
   "source": [
    "## Global vs. Local Variables"
   ]
  },
  {
   "cell_type": "code",
   "execution_count": 15,
   "id": "previous-vacuum",
   "metadata": {},
   "outputs": [],
   "source": [
    "x <- 3\n",
    "plus_one <- function(x) {\n",
    "    x+1\n",
    "}"
   ]
  },
  {
   "cell_type": "markdown",
   "id": "lesser-allergy",
   "metadata": {},
   "source": [
    "What will happen in the following two lines?"
   ]
  },
  {
   "cell_type": "code",
   "execution_count": 18,
   "id": "characteristic-liver",
   "metadata": {},
   "outputs": [
    {
     "data": {
      "text/html": [
       "1"
      ],
      "text/latex": [
       "1"
      ],
      "text/markdown": [
       "1"
      ],
      "text/plain": [
       "[1] 1"
      ]
     },
     "metadata": {},
     "output_type": "display_data"
    },
    {
     "data": {
      "text/html": [
       "3"
      ],
      "text/latex": [
       "3"
      ],
      "text/markdown": [
       "3"
      ],
      "text/plain": [
       "[1] 3"
      ]
     },
     "metadata": {},
     "output_type": "display_data"
    }
   ],
   "source": [
    "plus_one(0)\n",
    "x"
   ]
  },
  {
   "cell_type": "markdown",
   "id": "surrounded-syntax",
   "metadata": {},
   "source": [
    "- Inside the function, the variable ```x``` is a **local** variable, with value determined by the input\n",
    "- Outside the function, the variable ```x``` is a **global** variable, with value assigned to be ```3```"
   ]
  },
  {
   "cell_type": "code",
   "execution_count": 26,
   "id": "original-recycling",
   "metadata": {},
   "outputs": [],
   "source": [
    "y <- 2\n",
    "add_y <- function(x) {\n",
    "    x+y\n",
    "}"
   ]
  },
  {
   "cell_type": "code",
   "execution_count": 27,
   "id": "professional-ukraine",
   "metadata": {},
   "outputs": [
    {
     "data": {
      "text/html": [
       "7"
      ],
      "text/latex": [
       "7"
      ],
      "text/markdown": [
       "7"
      ],
      "text/plain": [
       "[1] 7"
      ]
     },
     "metadata": {},
     "output_type": "display_data"
    }
   ],
   "source": [
    "add_y(5)"
   ]
  },
  {
   "cell_type": "markdown",
   "id": "favorite-evidence",
   "metadata": {},
   "source": [
    "- Inside of ```add_y()```, the variable ```x``` is local and ```y``` is global\n",
    "- If a function cannot find a variable in its local environment, it will look in the global environment"
   ]
  },
  {
   "cell_type": "code",
   "execution_count": 28,
   "id": "blocked-chinese",
   "metadata": {},
   "outputs": [
    {
     "data": {
      "text/html": [
       "101"
      ],
      "text/latex": [
       "101"
      ],
      "text/markdown": [
       "101"
      ],
      "text/plain": [
       "[1] 101"
      ]
     },
     "metadata": {},
     "output_type": "display_data"
    }
   ],
   "source": [
    "# don't do this\n",
    "do_not <- function(x) {\n",
    "    do_not <- function(x) {\n",
    "        x+100\n",
    "    }\n",
    "    do_not(x)\n",
    "}\n",
    "do_not(1)"
   ]
  },
  {
   "cell_type": "markdown",
   "id": "rocky-notion",
   "metadata": {},
   "source": [
    "- Inside of the local function environment for ```do_not()``` is the function ```do_not()``` which is only defined inside of the local environment\n",
    "- Try to avoid:\n",
    " * Using global variables inside of functions\n",
    " * Naming local variables in function environments the same as other global variables\n",
    " * Overwriting function names from base R or tidyverse"
   ]
  },
  {
   "cell_type": "code",
   "execution_count": 29,
   "id": "stock-birthday",
   "metadata": {},
   "outputs": [],
   "source": [
    "y <- 2\n",
    "add_two <- function(x,z) {\n",
    "    x+z\n",
    "}"
   ]
  },
  {
   "cell_type": "markdown",
   "id": "closed-right",
   "metadata": {},
   "source": [
    "## Arguments of functions\n",
    "- We can specify arguments in different ways\n",
    " * Position\n",
    " * Exact Matching"
   ]
  },
  {
   "cell_type": "code",
   "execution_count": 30,
   "id": "automotive-membership",
   "metadata": {},
   "outputs": [],
   "source": [
    "print_three <- function(x,y,z) {\n",
    "    print(x)\n",
    "    print(y)\n",
    "    print(z)\n",
    "}"
   ]
  },
  {
   "cell_type": "code",
   "execution_count": 33,
   "id": "composed-explorer",
   "metadata": {},
   "outputs": [
    {
     "name": "stdout",
     "output_type": "stream",
     "text": [
      "[1] 1\n",
      "[1] 2\n",
      "[1] 3\n"
     ]
    }
   ],
   "source": [
    "print_three(1,2,3)"
   ]
  },
  {
   "cell_type": "code",
   "execution_count": 35,
   "id": "starting-aquarium",
   "metadata": {},
   "outputs": [
    {
     "name": "stdout",
     "output_type": "stream",
     "text": [
      "[1] 1\n",
      "[1] 2\n",
      "[1] 3\n"
     ]
    }
   ],
   "source": [
    "print_three(x = 1, y = 2, z = 3)"
   ]
  },
  {
   "cell_type": "code",
   "execution_count": 36,
   "id": "retired-marathon",
   "metadata": {},
   "outputs": [
    {
     "name": "stdout",
     "output_type": "stream",
     "text": [
      "[1] 1\n",
      "[1] 2\n",
      "[1] 3\n"
     ]
    }
   ],
   "source": [
    "print_three(2, 3, x=1)"
   ]
  },
  {
   "cell_type": "code",
   "execution_count": null,
   "id": "confirmed-location",
   "metadata": {},
   "outputs": [],
   "source": [
    "inner_join(tib1, tib2, by = \"var\")"
   ]
  },
  {
   "cell_type": "markdown",
   "id": "russian-bread",
   "metadata": {},
   "source": [
    "You can also specify optional arguments in functions"
   ]
  },
  {
   "cell_type": "code",
   "execution_count": 50,
   "id": "republican-speaking",
   "metadata": {},
   "outputs": [],
   "source": [
    "print_three <- function(x,y,z, print_last=TRUE) {\n",
    "    print(x)\n",
    "    print(y)\n",
    "    if (print_last) {print(z)}\n",
    "}"
   ]
  },
  {
   "cell_type": "code",
   "execution_count": 51,
   "id": "undefined-furniture",
   "metadata": {},
   "outputs": [
    {
     "name": "stdout",
     "output_type": "stream",
     "text": [
      "[1] 1\n",
      "[1] 2\n"
     ]
    },
    {
     "ename": "ERROR",
     "evalue": "Error in print(z): argument \"z\" is missing, with no default\n",
     "output_type": "error",
     "traceback": [
      "Error in print(z): argument \"z\" is missing, with no default\nTraceback:\n",
      "1. print_three(1, 2)",
      "2. print(z)   # at line 4 of file <text>"
     ]
    }
   ],
   "source": [
    "print_three(1,2)"
   ]
  },
  {
   "cell_type": "code",
   "execution_count": 38,
   "id": "forbidden-albania",
   "metadata": {},
   "outputs": [
    {
     "name": "stdout",
     "output_type": "stream",
     "text": [
      "[1] 1\n",
      "[1] 2\n",
      "[1] 3\n"
     ]
    }
   ],
   "source": [
    "print_three(1,2,3)"
   ]
  },
  {
   "cell_type": "code",
   "execution_count": 41,
   "id": "independent-familiar",
   "metadata": {},
   "outputs": [
    {
     "name": "stdout",
     "output_type": "stream",
     "text": [
      "[1] 1\n",
      "[1] 2\n",
      "[1] 1\n",
      "[1] 2\n"
     ]
    }
   ],
   "source": [
    "print_three(1,2,3, print_last=FALSE)\n",
    "print_three(1,2,3,FALSE)"
   ]
  },
  {
   "cell_type": "code",
   "execution_count": null,
   "id": "critical-findings",
   "metadata": {},
   "outputs": [],
   "source": [
    "# pseudo-code\n",
    "# aes <- function(x,y,color=FALSE) {\n",
    "            # if (color==FALSE) {\n",
    "                    #do nothing\n",
    "#              } else { graph by color}\n",
    "#}"
   ]
  },
  {
   "cell_type": "code",
   "execution_count": 49,
   "id": "shared-northern",
   "metadata": {},
   "outputs": [
    {
     "data": {
      "image/png": "[encoded data removed]",
      "text/plain": [
       "plot without title"
      ]
     },
     "metadata": {
      "image/png": {
       "height": 420,
       "width": 420
      }
     },
     "output_type": "display_data"
    }
   ],
   "source": [
    "ggplot(mpg, aes(x=cty, y=hwy, color=class, by=, alpha= )) + geom_point()"
   ]
  },
  {
   "cell_type": "code",
   "execution_count": 54,
   "id": "cardiac-packing",
   "metadata": {},
   "outputs": [
    {
     "name": "stdout",
     "output_type": "stream",
     "text": [
      "[1] 1\n",
      "[1] 2\n"
     ]
    }
   ],
   "source": [
    "# possible, but not great practice\n",
    "# try to use exact matching with optional arguments\n",
    "print_three(1,2,3,FALSE)"
   ]
  },
  {
   "cell_type": "markdown",
   "id": "unusual-brief",
   "metadata": {},
   "source": [
    "You can create a function with arbritrarily many arguments"
   ]
  },
  {
   "cell_type": "code",
   "execution_count": 55,
   "id": "found-basement",
   "metadata": {},
   "outputs": [],
   "source": [
    "sum_then_one <- function(...){\n",
    "    sum(...)+1\n",
    "}"
   ]
  },
  {
   "cell_type": "code",
   "execution_count": 57,
   "id": "primary-governor",
   "metadata": {},
   "outputs": [
    {
     "data": {
      "text/html": [
       "4"
      ],
      "text/latex": [
       "4"
      ],
      "text/markdown": [
       "4"
      ],
      "text/plain": [
       "[1] 4"
      ]
     },
     "metadata": {},
     "output_type": "display_data"
    },
    {
     "data": {
      "text/html": [
       "7"
      ],
      "text/latex": [
       "7"
      ],
      "text/markdown": [
       "7"
      ],
      "text/plain": [
       "[1] 7"
      ]
     },
     "metadata": {},
     "output_type": "display_data"
    },
    {
     "data": {
      "text/html": [
       "304"
      ],
      "text/latex": [
       "304"
      ],
      "text/markdown": [
       "304"
      ],
      "text/plain": [
       "[1] 304"
      ]
     },
     "metadata": {},
     "output_type": "display_data"
    },
    {
     "data": {
      "text/html": [
       "1"
      ],
      "text/latex": [
       "1"
      ],
      "text/markdown": [
       "1"
      ],
      "text/plain": [
       "[1] 1"
      ]
     },
     "metadata": {},
     "output_type": "display_data"
    }
   ],
   "source": [
    "sum_then_one(1,2)\n",
    "sum_then_one(1,2,3)\n",
    "sum_then_one(1,2,100,100,100)\n",
    "sum_then_one()"
   ]
  },
  {
   "cell_type": "markdown",
   "id": "mental-answer",
   "metadata": {},
   "source": [
    "You can also \"end\" functions early with ```return()```"
   ]
  },
  {
   "cell_type": "code",
   "execution_count": 60,
   "id": "dominican-month",
   "metadata": {},
   "outputs": [],
   "source": [
    "# useful for special cases when the rest of the function is too long for a simple if...else\n",
    "random_calc <- function(x) {\n",
    "    \n",
    "    if (identical(x, 0)) return(\"Cannot divide by zero.\")\n",
    "    \n",
    "    y <- 1/x\n",
    "    1/y + 1\n",
    "}"
   ]
  },
  {
   "cell_type": "code",
   "execution_count": 62,
   "id": "prompt-stretch",
   "metadata": {},
   "outputs": [],
   "source": [
    "# this is an equivalent function\n",
    "random_calc <- function(x) {\n",
    "    \n",
    "    if (identical(x, 0)){\n",
    "        \"Cannot divide by zero.\"\n",
    "    } else {\n",
    "        y <- 1/x\n",
    "        1/y + 1\n",
    "    }\n",
    "}"
   ]
  },
  {
   "cell_type": "code",
   "execution_count": 63,
   "id": "explicit-major",
   "metadata": {},
   "outputs": [
    {
     "data": {
      "text/html": [
       "'Cannot divide by zero.'"
      ],
      "text/latex": [
       "'Cannot divide by zero.'"
      ],
      "text/markdown": [
       "'Cannot divide by zero.'"
      ],
      "text/plain": [
       "[1] \"Cannot divide by zero.\""
      ]
     },
     "metadata": {},
     "output_type": "display_data"
    },
    {
     "data": {
      "text/html": [
       "11"
      ],
      "text/latex": [
       "11"
      ],
      "text/markdown": [
       "11"
      ],
      "text/plain": [
       "[1] 11"
      ]
     },
     "metadata": {},
     "output_type": "display_data"
    }
   ],
   "source": [
    "random_calc(0)\n",
    "random_calc(10)"
   ]
  },
  {
   "cell_type": "markdown",
   "id": "declared-simpson",
   "metadata": {},
   "source": [
    "## Functionals: Map\n",
    "- A functional is a \"function\" that takes as input another function\n",
    "- A common for-loop is to iterate over a vector/list, change each element, and return the altered vector/list\n",
    "- The functions below streamline this common for-loop\n",
    " * ```map()``` outputs a list\n",
    " * ```map_dbl()``` outputs a double vector\n",
    " * ```map_int()``` outputs an integer vector\n",
    " * ```map_lgl()``` outputs a logical vector\n",
    " * ```map_chr()``` outputs a character vector"
   ]
  },
  {
   "cell_type": "code",
   "execution_count": 64,
   "id": "veterinary-garbage",
   "metadata": {},
   "outputs": [],
   "source": [
    "plus_one <- function(x) {x+1}"
   ]
  },
  {
   "cell_type": "code",
   "execution_count": 65,
   "id": "hungry-memory",
   "metadata": {},
   "outputs": [
    {
     "data": {
      "text/html": [
       "<style>\n",
       ".list-inline {list-style: none; margin:0; padding: 0}\n",
       ".list-inline>li {display: inline-block}\n",
       ".list-inline>li:not(:last-child)::after {content: \"\\00b7\"; padding: 0 .5ex}\n",
       "</style>\n",
       "<ol class=list-inline><li>2</li><li>3</li><li>4</li><li>5</li><li>6</li></ol>\n"
      ],
      "text/latex": [
       "\\begin{enumerate*}\n",
       "\\item 2\n",
       "\\item 3\n",
       "\\item 4\n",
       "\\item 5\n",
       "\\item 6\n",
       "\\end{enumerate*}\n"
      ],
      "text/markdown": [
       "1. 2\n",
       "2. 3\n",
       "3. 4\n",
       "4. 5\n",
       "5. 6\n",
       "\n",
       "\n"
      ],
      "text/plain": [
       "[1] 2 3 4 5 6"
      ]
     },
     "metadata": {},
     "output_type": "display_data"
    }
   ],
   "source": [
    "# I can use a for loop\n",
    "plus_one_vec <- function(v) {\n",
    "    for (i in seq_along(v)) {\n",
    "        v[[i]] <- plus_one(v[[i]])\n",
    "    }\n",
    "    v\n",
    "}\n",
    "\n",
    "x <- c(1,2,3,4,5)\n",
    "plus_one_vec(x)"
   ]
  },
  {
   "cell_type": "code",
   "execution_count": 66,
   "id": "subsequent-turtle",
   "metadata": {},
   "outputs": [
    {
     "data": {
      "text/html": [
       "<style>\n",
       ".list-inline {list-style: none; margin:0; padding: 0}\n",
       ".list-inline>li {display: inline-block}\n",
       ".list-inline>li:not(:last-child)::after {content: \"\\00b7\"; padding: 0 .5ex}\n",
       "</style>\n",
       "<ol class=list-inline><li>2</li><li>3</li><li>4</li><li>5</li><li>6</li></ol>\n"
      ],
      "text/latex": [
       "\\begin{enumerate*}\n",
       "\\item 2\n",
       "\\item 3\n",
       "\\item 4\n",
       "\\item 5\n",
       "\\item 6\n",
       "\\end{enumerate*}\n"
      ],
      "text/markdown": [
       "1. 2\n",
       "2. 3\n",
       "3. 4\n",
       "4. 5\n",
       "5. 6\n",
       "\n",
       "\n"
      ],
      "text/plain": [
       "[1] 2 3 4 5 6"
      ]
     },
     "metadata": {},
     "output_type": "display_data"
    }
   ],
   "source": [
    "# or I can use the map function\n",
    "# this applies the function \"plus_one\" to each element of x\n",
    "map_dbl(x, plus_one)"
   ]
  },
  {
   "cell_type": "code",
   "execution_count": 68,
   "id": "associate-avatar",
   "metadata": {},
   "outputs": [
    {
     "data": {
      "text/html": [
       "<style>\n",
       ".dl-inline {width: auto; margin:0; padding: 0}\n",
       ".dl-inline>dt, .dl-inline>dd {float: none; width: auto; display: inline-block}\n",
       ".dl-inline>dt::after {content: \":\\0020\"; padding-right: .5ex}\n",
       ".dl-inline>dt:not(:first-of-type) {padding-left: .5ex}\n",
       "</style><dl class=dl-inline><dt>carat</dt><dd>TRUE</dd><dt>cut</dt><dd>FALSE</dd><dt>color</dt><dd>FALSE</dd><dt>clarity</dt><dd>FALSE</dd><dt>depth</dt><dd>TRUE</dd><dt>table</dt><dd>TRUE</dd><dt>price</dt><dd>TRUE</dd><dt>x</dt><dd>TRUE</dd><dt>y</dt><dd>TRUE</dd><dt>z</dt><dd>TRUE</dd></dl>\n"
      ],
      "text/latex": [
       "\\begin{description*}\n",
       "\\item[carat] TRUE\n",
       "\\item[cut] FALSE\n",
       "\\item[color] FALSE\n",
       "\\item[clarity] FALSE\n",
       "\\item[depth] TRUE\n",
       "\\item[table] TRUE\n",
       "\\item[price] TRUE\n",
       "\\item[x] TRUE\n",
       "\\item[y] TRUE\n",
       "\\item[z] TRUE\n",
       "\\end{description*}\n"
      ],
      "text/markdown": [
       "carat\n",
       ":   TRUEcut\n",
       ":   FALSEcolor\n",
       ":   FALSEclarity\n",
       ":   FALSEdepth\n",
       ":   TRUEtable\n",
       ":   TRUEprice\n",
       ":   TRUEx\n",
       ":   TRUEy\n",
       ":   TRUEz\n",
       ":   TRUE\n",
       "\n"
      ],
      "text/plain": [
       "  carat     cut   color clarity   depth   table   price       x       y       z \n",
       "   TRUE   FALSE   FALSE   FALSE    TRUE    TRUE    TRUE    TRUE    TRUE    TRUE "
      ]
     },
     "metadata": {},
     "output_type": "display_data"
    }
   ],
   "source": [
    "# for each column, determine if it is a numeric vector\n",
    "map_lgl(diamonds, is.numeric)"
   ]
  },
  {
   "cell_type": "markdown",
   "id": "current-attitude",
   "metadata": {},
   "source": [
    "Attempt:\n",
    "- Write a function which takes in a column of a tibble and outputs the mean if it is numeric and 0 otherwise\n",
    "- Use the ```map_dbl``` to apply this to a single tibble"
   ]
  },
  {
   "cell_type": "code",
   "execution_count": 69,
   "id": "changing-directive",
   "metadata": {},
   "outputs": [],
   "source": [
    "col_mean <- function(col){\n",
    "    if (is.numeric(col)){\n",
    "        mean(col)\n",
    "    } else {\n",
    "        0\n",
    "    }\n",
    "}"
   ]
  },
  {
   "cell_type": "code",
   "execution_count": 72,
   "id": "remarkable-transsexual",
   "metadata": {},
   "outputs": [
    {
     "data": {
      "text/html": [
       "<style>\n",
       ".dl-inline {width: auto; margin:0; padding: 0}\n",
       ".dl-inline>dt, .dl-inline>dd {float: none; width: auto; display: inline-block}\n",
       ".dl-inline>dt::after {content: \":\\0020\"; padding-right: .5ex}\n",
       ".dl-inline>dt:not(:first-of-type) {padding-left: .5ex}\n",
       "</style><dl class=dl-inline><dt>carat</dt><dd>0.797939747868001</dd><dt>cut</dt><dd>0</dd><dt>color</dt><dd>0</dd><dt>clarity</dt><dd>0</dd><dt>depth</dt><dd>61.749404894327</dd><dt>table</dt><dd>57.457183908046</dd><dt>price</dt><dd>3932.79972191324</dd><dt>x</dt><dd>5.73115721171672</dd><dt>y</dt><dd>5.73452595476455</dd><dt>z</dt><dd>3.53873377827215</dd></dl>\n"
      ],
      "text/latex": [
       "\\begin{description*}\n",
       "\\item[carat] 0.797939747868001\n",
       "\\item[cut] 0\n",
       "\\item[color] 0\n",
       "\\item[clarity] 0\n",
       "\\item[depth] 61.749404894327\n",
       "\\item[table] 57.457183908046\n",
       "\\item[price] 3932.79972191324\n",
       "\\item[x] 5.73115721171672\n",
       "\\item[y] 5.73452595476455\n",
       "\\item[z] 3.53873377827215\n",
       "\\end{description*}\n"
      ],
      "text/markdown": [
       "carat\n",
       ":   0.797939747868001cut\n",
       ":   0color\n",
       ":   0clarity\n",
       ":   0depth\n",
       ":   61.749404894327table\n",
       ":   57.457183908046price\n",
       ":   3932.79972191324x\n",
       ":   5.73115721171672y\n",
       ":   5.73452595476455z\n",
       ":   3.53873377827215\n",
       "\n"
      ],
      "text/plain": [
       "       carat          cut        color      clarity        depth        table \n",
       "   0.7979397    0.0000000    0.0000000    0.0000000   61.7494049   57.4571839 \n",
       "       price            x            y            z \n",
       "3932.7997219    5.7311572    5.7345260    3.5387338 "
      ]
     },
     "metadata": {},
     "output_type": "display_data"
    }
   ],
   "source": [
    "map_dbl(diamonds, col_mean)"
   ]
  },
  {
   "cell_type": "code",
   "execution_count": 73,
   "id": "significant-ebony",
   "metadata": {},
   "outputs": [
    {
     "data": {
      "text/html": [
       "<style>\n",
       ".list-inline {list-style: none; margin:0; padding: 0}\n",
       ".list-inline>li {display: inline-block}\n",
       ".list-inline>li:not(:last-child)::after {content: \"\\00b7\"; padding: 0 .5ex}\n",
       "</style>\n",
       "<ol class=list-inline><li>0.797939747868001</li><li>0</li><li>0</li><li>0</li><li>61.749404894327</li><li>57.457183908046</li><li>3932.79972191324</li><li>5.73115721171672</li><li>5.73452595476455</li><li>3.53873377827215</li></ol>\n"
      ],
      "text/latex": [
       "\\begin{enumerate*}\n",
       "\\item 0.797939747868001\n",
       "\\item 0\n",
       "\\item 0\n",
       "\\item 0\n",
       "\\item 61.749404894327\n",
       "\\item 57.457183908046\n",
       "\\item 3932.79972191324\n",
       "\\item 5.73115721171672\n",
       "\\item 5.73452595476455\n",
       "\\item 3.53873377827215\n",
       "\\end{enumerate*}\n"
      ],
      "text/markdown": [
       "1. 0.797939747868001\n",
       "2. 0\n",
       "3. 0\n",
       "4. 0\n",
       "5. 61.749404894327\n",
       "6. 57.457183908046\n",
       "7. 3932.79972191324\n",
       "8. 5.73115721171672\n",
       "9. 5.73452595476455\n",
       "10. 3.53873377827215\n",
       "\n",
       "\n"
      ],
      "text/plain": [
       " [1]    0.7979397    0.0000000    0.0000000    0.0000000   61.7494049\n",
       " [6]   57.4571839 3932.7997219    5.7311572    5.7345260    3.5387338"
      ]
     },
     "metadata": {},
     "output_type": "display_data"
    }
   ],
   "source": [
    "x <- rep(0, length(diamonds))\n",
    "for (i in seq_along(diamonds)){\n",
    "    x[[i]] <- col_mean(diamonds[[i]])\n",
    "}\n",
    "x"
   ]
  },
  {
   "cell_type": "code",
   "execution_count": null,
   "id": "closing-third",
   "metadata": {},
   "outputs": [],
   "source": []
  }
 ],
 "metadata": {
  "kernelspec": {
   "display_name": "R",
   "language": "R",
   "name": "ir"
  },
  "language_info": {
   "codemirror_mode": "r",
   "file_extension": ".r",
   "mimetype": "text/x-r-source",
   "name": "R",
   "pygments_lexer": "r",
   "version": "4.0.3"
  }
 },
 "nbformat": 4,
 "nbformat_minor": 5
}

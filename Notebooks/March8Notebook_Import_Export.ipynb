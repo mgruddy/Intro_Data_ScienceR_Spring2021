{
 "cells": [
  {
   "cell_type": "code",
   "execution_count": 1,
   "id": "gross-airline",
   "metadata": {},
   "outputs": [
    {
     "name": "stderr",
     "output_type": "stream",
     "text": [
      "── \u001b[1mAttaching packages\u001b[22m ─────────────────────────────────────── tidyverse 1.3.0 ──\n",
      "\n",
      "\u001b[32m✔\u001b[39m \u001b[34mggplot2\u001b[39m 3.3.3     \u001b[32m✔\u001b[39m \u001b[34mpurrr  \u001b[39m 0.3.4\n",
      "\u001b[32m✔\u001b[39m \u001b[34mtibble \u001b[39m 3.0.6     \u001b[32m✔\u001b[39m \u001b[34mdplyr  \u001b[39m 1.0.4\n",
      "\u001b[32m✔\u001b[39m \u001b[34mtidyr  \u001b[39m 1.1.2     \u001b[32m✔\u001b[39m \u001b[34mstringr\u001b[39m 1.4.0\n",
      "\u001b[32m✔\u001b[39m \u001b[34mreadr  \u001b[39m 1.4.0     \u001b[32m✔\u001b[39m \u001b[34mforcats\u001b[39m 0.5.1\n",
      "\n",
      "── \u001b[1mConflicts\u001b[22m ────────────────────────────────────────── tidyverse_conflicts() ──\n",
      "\u001b[31m✖\u001b[39m \u001b[34mdplyr\u001b[39m::\u001b[32mfilter()\u001b[39m masks \u001b[34mstats\u001b[39m::filter()\n",
      "\u001b[31m✖\u001b[39m \u001b[34mdplyr\u001b[39m::\u001b[32mlag()\u001b[39m    masks \u001b[34mstats\u001b[39m::lag()\n",
      "\n"
     ]
    }
   ],
   "source": [
    "library(tidyverse)"
   ]
  },
  {
   "cell_type": "code",
   "execution_count": 2,
   "id": "respective-moment",
   "metadata": {},
   "outputs": [],
   "source": [
    "?read_csv"
   ]
  },
  {
   "cell_type": "markdown",
   "id": "nutritional-russell",
   "metadata": {},
   "source": [
    "![](https://github.com/mgruddy/Intro_Data_ScienceR_Spring2021/blob/main/Slides/Screenshots/avocadocsv.png?raw=true)\n",
    "\n",
    "- A common method of storing tabular data is in .csv files or .txt files with **C**omma-**S**eparated **V**alues.\n",
    "- Excel can open and export .csv files.\n",
    "- The command ```read_csv()``` takes as input the *path* to .csv as a string, and outputs a tibble.\n",
    "- The function will output the list of column names and its best guess as to their *type*."
   ]
  },
  {
   "cell_type": "code",
   "execution_count": 3,
   "id": "cardiovascular-record",
   "metadata": {
    "scrolled": false
   },
   "outputs": [
    {
     "name": "stderr",
     "output_type": "stream",
     "text": [
      "Warning message:\n",
      "“Missing column names filled in: 'X1' [1]”\n",
      "\n",
      "\u001b[36m──\u001b[39m \u001b[1m\u001b[1mColumn specification\u001b[1m\u001b[22m \u001b[36m────────────────────────────────────────────────────────\u001b[39m\n",
      "cols(\n",
      "  X1 = \u001b[32mcol_double()\u001b[39m,\n",
      "  Date = \u001b[34mcol_date(format = \"\")\u001b[39m,\n",
      "  AveragePrice = \u001b[32mcol_double()\u001b[39m,\n",
      "  `Total Volume` = \u001b[32mcol_double()\u001b[39m,\n",
      "  `4046` = \u001b[32mcol_double()\u001b[39m,\n",
      "  `4225` = \u001b[32mcol_double()\u001b[39m,\n",
      "  `4770` = \u001b[32mcol_double()\u001b[39m,\n",
      "  `Total Bags` = \u001b[32mcol_double()\u001b[39m,\n",
      "  `Small Bags` = \u001b[32mcol_double()\u001b[39m,\n",
      "  `Large Bags` = \u001b[32mcol_double()\u001b[39m,\n",
      "  `XLarge Bags` = \u001b[32mcol_double()\u001b[39m,\n",
      "  type = \u001b[31mcol_character()\u001b[39m,\n",
      "  year = \u001b[32mcol_double()\u001b[39m,\n",
      "  region = \u001b[31mcol_character()\u001b[39m\n",
      ")\n",
      "\n",
      "\n"
     ]
    },
    {
     "name": "stdout",
     "output_type": "stream",
     "text": [
      "\u001b[90m# A tibble: 18,249 x 14\u001b[39m\n",
      "      X1 Date       AveragePrice `Total Volume` `4046`  `4225` `4770`\n",
      "   \u001b[3m\u001b[90m<dbl>\u001b[39m\u001b[23m \u001b[3m\u001b[90m<date>\u001b[39m\u001b[23m            \u001b[3m\u001b[90m<dbl>\u001b[39m\u001b[23m          \u001b[3m\u001b[90m<dbl>\u001b[39m\u001b[23m  \u001b[3m\u001b[90m<dbl>\u001b[39m\u001b[23m   \u001b[3m\u001b[90m<dbl>\u001b[39m\u001b[23m  \u001b[3m\u001b[90m<dbl>\u001b[39m\u001b[23m\n",
      "\u001b[90m 1\u001b[39m     0 2015-12-27         1.33         \u001b[4m6\u001b[24m\u001b[4m4\u001b[24m237.  \u001b[4m1\u001b[24m037.  \u001b[4m5\u001b[24m\u001b[4m4\u001b[24m455.   48.2\n",
      "\u001b[90m 2\u001b[39m     1 2015-12-20         1.35         \u001b[4m5\u001b[24m\u001b[4m4\u001b[24m877.   674.  \u001b[4m4\u001b[24m\u001b[4m4\u001b[24m639.   58.3\n",
      "\u001b[90m 3\u001b[39m     2 2015-12-13         0.93        \u001b[4m1\u001b[24m\u001b[4m1\u001b[24m\u001b[4m8\u001b[24m220.   795. \u001b[4m1\u001b[24m\u001b[4m0\u001b[24m\u001b[4m9\u001b[24m150.  130. \n",
      "\u001b[90m 4\u001b[39m     3 2015-12-06         1.08         \u001b[4m7\u001b[24m\u001b[4m8\u001b[24m992.  \u001b[4m1\u001b[24m132   \u001b[4m7\u001b[24m\u001b[4m1\u001b[24m976.   72.6\n",
      "\u001b[90m 5\u001b[39m     4 2015-11-29         1.28         \u001b[4m5\u001b[24m\u001b[4m1\u001b[24m040.   941.  \u001b[4m4\u001b[24m\u001b[4m3\u001b[24m838.   75.8\n",
      "\u001b[90m 6\u001b[39m     5 2015-11-22         1.26         \u001b[4m5\u001b[24m\u001b[4m5\u001b[24m980.  \u001b[4m1\u001b[24m184.  \u001b[4m4\u001b[24m\u001b[4m8\u001b[24m068.   43.6\n",
      "\u001b[90m 7\u001b[39m     6 2015-11-15         0.99         \u001b[4m8\u001b[24m\u001b[4m3\u001b[24m454.  \u001b[4m1\u001b[24m369.  \u001b[4m7\u001b[24m\u001b[4m3\u001b[24m673.   93.3\n",
      "\u001b[90m 8\u001b[39m     7 2015-11-08         0.98        \u001b[4m1\u001b[24m\u001b[4m0\u001b[24m\u001b[4m9\u001b[24m428.   704. \u001b[4m1\u001b[24m\u001b[4m0\u001b[24m\u001b[4m1\u001b[24m815.   80  \n",
      "\u001b[90m 9\u001b[39m     8 2015-11-01         1.02         \u001b[4m9\u001b[24m\u001b[4m9\u001b[24m811.  \u001b[4m1\u001b[24m022.  \u001b[4m8\u001b[24m\u001b[4m7\u001b[24m316.   85.3\n",
      "\u001b[90m10\u001b[39m     9 2015-10-25         1.07         \u001b[4m7\u001b[24m\u001b[4m4\u001b[24m339.   842.  \u001b[4m6\u001b[24m\u001b[4m4\u001b[24m757.  113  \n",
      "\u001b[90m# … with 18,239 more rows, and 7 more variables: Total Bags <dbl>,\u001b[39m\n",
      "\u001b[90m#   Small Bags <dbl>, Large Bags <dbl>, XLarge Bags <dbl>, type <chr>,\u001b[39m\n",
      "\u001b[90m#   year <dbl>, region <chr>\u001b[39m\n"
     ]
    }
   ],
   "source": [
    "avocados <- read_csv(\"data/avocado.csv\")\n",
    "print(avocados)"
   ]
  },
  {
   "cell_type": "markdown",
   "id": "infinite-knitting",
   "metadata": {},
   "source": [
    "![](https://github.com/mgruddy/Intro_Data_ScienceR_Spring2021/blob/main/Slides/Screenshots/avocado_extra_data.png?raw=true)\n",
    "\n",
    "- Often there is additional meta-data at the beginning of the .csv file.\n",
    "- We can skip lines with the ```skip``` option or ignore lines that start with a certain value using ```comment```."
   ]
  },
  {
   "cell_type": "code",
   "execution_count": 4,
   "id": "exotic-catalog",
   "metadata": {
    "scrolled": true
   },
   "outputs": [
    {
     "name": "stderr",
     "output_type": "stream",
     "text": [
      "\n",
      "\u001b[36m──\u001b[39m \u001b[1m\u001b[1mColumn specification\u001b[1m\u001b[22m \u001b[36m────────────────────────────────────────────────────────\u001b[39m\n",
      "cols(\n",
      "  `#This is a file with avocado prices` = \u001b[32mcol_double()\u001b[39m\n",
      ")\n",
      "\n",
      "\n",
      "Warning message:\n",
      "“18250 parsing failures.\n",
      "row col  expected     actual                           file\n",
      "  1  -- 1 columns 14 columns 'data/avocado_with_header.csv'\n",
      "  2  -- 1 columns 14 columns 'data/avocado_with_header.csv'\n",
      "  3  -- 1 columns 14 columns 'data/avocado_with_header.csv'\n",
      "  4  -- 1 columns 14 columns 'data/avocado_with_header.csv'\n",
      "  5  -- 1 columns 14 columns 'data/avocado_with_header.csv'\n",
      "... ... ......... .......... ..............................\n",
      "See problems(...) for more details.\n",
      "”\n"
     ]
    },
    {
     "name": "stdout",
     "output_type": "stream",
     "text": [
      "\u001b[90m# A tibble: 18,250 x 1\u001b[39m\n",
      "   `#This is a file with avocado prices`\n",
      "                                   \u001b[3m\u001b[90m<dbl>\u001b[39m\u001b[23m\n",
      "\u001b[90m 1\u001b[39m                                    \u001b[31mNA\u001b[39m\n",
      "\u001b[90m 2\u001b[39m                                     0\n",
      "\u001b[90m 3\u001b[39m                                     1\n",
      "\u001b[90m 4\u001b[39m                                     2\n",
      "\u001b[90m 5\u001b[39m                                     3\n",
      "\u001b[90m 6\u001b[39m                                     4\n",
      "\u001b[90m 7\u001b[39m                                     5\n",
      "\u001b[90m 8\u001b[39m                                     6\n",
      "\u001b[90m 9\u001b[39m                                     7\n",
      "\u001b[90m10\u001b[39m                                     8\n",
      "\u001b[90m# … with 18,240 more rows\u001b[39m\n"
     ]
    }
   ],
   "source": [
    "# it thinks there is one column because there are no commas on the first line\n",
    "# it gets upset when it finds 14 columns on other lines\n",
    "read_csv(\"data/avocado_with_header.csv\") %>%\n",
    "  print()"
   ]
  },
  {
   "cell_type": "code",
   "execution_count": 5,
   "id": "eastern-connecticut",
   "metadata": {
    "scrolled": false
   },
   "outputs": [
    {
     "name": "stderr",
     "output_type": "stream",
     "text": [
      "Warning message:\n",
      "“Missing column names filled in: 'X1' [1]”\n",
      "\n",
      "\u001b[36m──\u001b[39m \u001b[1m\u001b[1mColumn specification\u001b[1m\u001b[22m \u001b[36m────────────────────────────────────────────────────────\u001b[39m\n",
      "cols(\n",
      "  X1 = \u001b[32mcol_double()\u001b[39m,\n",
      "  Date = \u001b[34mcol_date(format = \"\")\u001b[39m,\n",
      "  AveragePrice = \u001b[32mcol_double()\u001b[39m,\n",
      "  `Total Volume` = \u001b[32mcol_double()\u001b[39m,\n",
      "  `4046` = \u001b[32mcol_double()\u001b[39m,\n",
      "  `4225` = \u001b[32mcol_double()\u001b[39m,\n",
      "  `4770` = \u001b[32mcol_double()\u001b[39m,\n",
      "  `Total Bags` = \u001b[32mcol_double()\u001b[39m,\n",
      "  `Small Bags` = \u001b[32mcol_double()\u001b[39m,\n",
      "  `Large Bags` = \u001b[32mcol_double()\u001b[39m,\n",
      "  `XLarge Bags` = \u001b[32mcol_double()\u001b[39m,\n",
      "  type = \u001b[31mcol_character()\u001b[39m,\n",
      "  year = \u001b[32mcol_double()\u001b[39m,\n",
      "  region = \u001b[31mcol_character()\u001b[39m\n",
      ")\n",
      "\n",
      "\n"
     ]
    },
    {
     "name": "stdout",
     "output_type": "stream",
     "text": [
      "\u001b[90m# A tibble: 18,249 x 14\u001b[39m\n",
      "      X1 Date       AveragePrice `Total Volume` `4046`  `4225` `4770`\n",
      "   \u001b[3m\u001b[90m<dbl>\u001b[39m\u001b[23m \u001b[3m\u001b[90m<date>\u001b[39m\u001b[23m            \u001b[3m\u001b[90m<dbl>\u001b[39m\u001b[23m          \u001b[3m\u001b[90m<dbl>\u001b[39m\u001b[23m  \u001b[3m\u001b[90m<dbl>\u001b[39m\u001b[23m   \u001b[3m\u001b[90m<dbl>\u001b[39m\u001b[23m  \u001b[3m\u001b[90m<dbl>\u001b[39m\u001b[23m\n",
      "\u001b[90m 1\u001b[39m     0 2015-12-27         1.33         \u001b[4m6\u001b[24m\u001b[4m4\u001b[24m237.  \u001b[4m1\u001b[24m037.  \u001b[4m5\u001b[24m\u001b[4m4\u001b[24m455.   48.2\n",
      "\u001b[90m 2\u001b[39m     1 2015-12-20         1.35         \u001b[4m5\u001b[24m\u001b[4m4\u001b[24m877.   674.  \u001b[4m4\u001b[24m\u001b[4m4\u001b[24m639.   58.3\n",
      "\u001b[90m 3\u001b[39m     2 2015-12-13         0.93        \u001b[4m1\u001b[24m\u001b[4m1\u001b[24m\u001b[4m8\u001b[24m220.   795. \u001b[4m1\u001b[24m\u001b[4m0\u001b[24m\u001b[4m9\u001b[24m150.  130. \n",
      "\u001b[90m 4\u001b[39m     3 2015-12-06         1.08         \u001b[4m7\u001b[24m\u001b[4m8\u001b[24m992.  \u001b[4m1\u001b[24m132   \u001b[4m7\u001b[24m\u001b[4m1\u001b[24m976.   72.6\n",
      "\u001b[90m 5\u001b[39m     4 2015-11-29         1.28         \u001b[4m5\u001b[24m\u001b[4m1\u001b[24m040.   941.  \u001b[4m4\u001b[24m\u001b[4m3\u001b[24m838.   75.8\n",
      "\u001b[90m 6\u001b[39m     5 2015-11-22         1.26         \u001b[4m5\u001b[24m\u001b[4m5\u001b[24m980.  \u001b[4m1\u001b[24m184.  \u001b[4m4\u001b[24m\u001b[4m8\u001b[24m068.   43.6\n",
      "\u001b[90m 7\u001b[39m     6 2015-11-15         0.99         \u001b[4m8\u001b[24m\u001b[4m3\u001b[24m454.  \u001b[4m1\u001b[24m369.  \u001b[4m7\u001b[24m\u001b[4m3\u001b[24m673.   93.3\n",
      "\u001b[90m 8\u001b[39m     7 2015-11-08         0.98        \u001b[4m1\u001b[24m\u001b[4m0\u001b[24m\u001b[4m9\u001b[24m428.   704. \u001b[4m1\u001b[24m\u001b[4m0\u001b[24m\u001b[4m1\u001b[24m815.   80  \n",
      "\u001b[90m 9\u001b[39m     8 2015-11-01         1.02         \u001b[4m9\u001b[24m\u001b[4m9\u001b[24m811.  \u001b[4m1\u001b[24m022.  \u001b[4m8\u001b[24m\u001b[4m7\u001b[24m316.   85.3\n",
      "\u001b[90m10\u001b[39m     9 2015-10-25         1.07         \u001b[4m7\u001b[24m\u001b[4m4\u001b[24m339.   842.  \u001b[4m6\u001b[24m\u001b[4m4\u001b[24m757.  113  \n",
      "\u001b[90m# … with 18,239 more rows, and 7 more variables: Total Bags <dbl>,\u001b[39m\n",
      "\u001b[90m#   Small Bags <dbl>, Large Bags <dbl>, XLarge Bags <dbl>, type <chr>,\u001b[39m\n",
      "\u001b[90m#   year <dbl>, region <chr>\u001b[39m\n"
     ]
    }
   ],
   "source": [
    "read_csv(\"data/avocado_with_header.csv\", skip = 1) %>%\n",
    "  print()"
   ]
  },
  {
   "cell_type": "code",
   "execution_count": 6,
   "id": "expressed-default",
   "metadata": {
    "scrolled": true
   },
   "outputs": [
    {
     "name": "stderr",
     "output_type": "stream",
     "text": [
      "Warning message:\n",
      "“Missing column names filled in: 'X1' [1]”\n",
      "\n",
      "\u001b[36m──\u001b[39m \u001b[1m\u001b[1mColumn specification\u001b[1m\u001b[22m \u001b[36m────────────────────────────────────────────────────────\u001b[39m\n",
      "cols(\n",
      "  X1 = \u001b[32mcol_double()\u001b[39m,\n",
      "  Date = \u001b[34mcol_date(format = \"\")\u001b[39m,\n",
      "  AveragePrice = \u001b[32mcol_double()\u001b[39m,\n",
      "  `Total Volume` = \u001b[32mcol_double()\u001b[39m,\n",
      "  `4046` = \u001b[32mcol_double()\u001b[39m,\n",
      "  `4225` = \u001b[32mcol_double()\u001b[39m,\n",
      "  `4770` = \u001b[32mcol_double()\u001b[39m,\n",
      "  `Total Bags` = \u001b[32mcol_double()\u001b[39m,\n",
      "  `Small Bags` = \u001b[32mcol_double()\u001b[39m,\n",
      "  `Large Bags` = \u001b[32mcol_double()\u001b[39m,\n",
      "  `XLarge Bags` = \u001b[32mcol_double()\u001b[39m,\n",
      "  type = \u001b[31mcol_character()\u001b[39m,\n",
      "  year = \u001b[32mcol_double()\u001b[39m,\n",
      "  region = \u001b[31mcol_character()\u001b[39m\n",
      ")\n",
      "\n",
      "\n"
     ]
    },
    {
     "name": "stdout",
     "output_type": "stream",
     "text": [
      "\u001b[90m# A tibble: 18,249 x 14\u001b[39m\n",
      "      X1 Date       AveragePrice `Total Volume` `4046`  `4225` `4770`\n",
      "   \u001b[3m\u001b[90m<dbl>\u001b[39m\u001b[23m \u001b[3m\u001b[90m<date>\u001b[39m\u001b[23m            \u001b[3m\u001b[90m<dbl>\u001b[39m\u001b[23m          \u001b[3m\u001b[90m<dbl>\u001b[39m\u001b[23m  \u001b[3m\u001b[90m<dbl>\u001b[39m\u001b[23m   \u001b[3m\u001b[90m<dbl>\u001b[39m\u001b[23m  \u001b[3m\u001b[90m<dbl>\u001b[39m\u001b[23m\n",
      "\u001b[90m 1\u001b[39m     0 2015-12-27         1.33         \u001b[4m6\u001b[24m\u001b[4m4\u001b[24m237.  \u001b[4m1\u001b[24m037.  \u001b[4m5\u001b[24m\u001b[4m4\u001b[24m455.   48.2\n",
      "\u001b[90m 2\u001b[39m     1 2015-12-20         1.35         \u001b[4m5\u001b[24m\u001b[4m4\u001b[24m877.   674.  \u001b[4m4\u001b[24m\u001b[4m4\u001b[24m639.   58.3\n",
      "\u001b[90m 3\u001b[39m     2 2015-12-13         0.93        \u001b[4m1\u001b[24m\u001b[4m1\u001b[24m\u001b[4m8\u001b[24m220.   795. \u001b[4m1\u001b[24m\u001b[4m0\u001b[24m\u001b[4m9\u001b[24m150.  130. \n",
      "\u001b[90m 4\u001b[39m     3 2015-12-06         1.08         \u001b[4m7\u001b[24m\u001b[4m8\u001b[24m992.  \u001b[4m1\u001b[24m132   \u001b[4m7\u001b[24m\u001b[4m1\u001b[24m976.   72.6\n",
      "\u001b[90m 5\u001b[39m     4 2015-11-29         1.28         \u001b[4m5\u001b[24m\u001b[4m1\u001b[24m040.   941.  \u001b[4m4\u001b[24m\u001b[4m3\u001b[24m838.   75.8\n",
      "\u001b[90m 6\u001b[39m     5 2015-11-22         1.26         \u001b[4m5\u001b[24m\u001b[4m5\u001b[24m980.  \u001b[4m1\u001b[24m184.  \u001b[4m4\u001b[24m\u001b[4m8\u001b[24m068.   43.6\n",
      "\u001b[90m 7\u001b[39m     6 2015-11-15         0.99         \u001b[4m8\u001b[24m\u001b[4m3\u001b[24m454.  \u001b[4m1\u001b[24m369.  \u001b[4m7\u001b[24m\u001b[4m3\u001b[24m673.   93.3\n",
      "\u001b[90m 8\u001b[39m     7 2015-11-08         0.98        \u001b[4m1\u001b[24m\u001b[4m0\u001b[24m\u001b[4m9\u001b[24m428.   704. \u001b[4m1\u001b[24m\u001b[4m0\u001b[24m\u001b[4m1\u001b[24m815.   80  \n",
      "\u001b[90m 9\u001b[39m     8 2015-11-01         1.02         \u001b[4m9\u001b[24m\u001b[4m9\u001b[24m811.  \u001b[4m1\u001b[24m022.  \u001b[4m8\u001b[24m\u001b[4m7\u001b[24m316.   85.3\n",
      "\u001b[90m10\u001b[39m     9 2015-10-25         1.07         \u001b[4m7\u001b[24m\u001b[4m4\u001b[24m339.   842.  \u001b[4m6\u001b[24m\u001b[4m4\u001b[24m757.  113  \n",
      "\u001b[90m# … with 18,239 more rows, and 7 more variables: Total Bags <dbl>,\u001b[39m\n",
      "\u001b[90m#   Small Bags <dbl>, Large Bags <dbl>, XLarge Bags <dbl>, type <chr>,\u001b[39m\n",
      "\u001b[90m#   year <dbl>, region <chr>\u001b[39m\n"
     ]
    }
   ],
   "source": [
    "# this is skip any line that begins with \"#\"\n",
    "read_csv(\"data/avocado_with_header.csv\", comment = \"#\") %>%\n",
    "  print()"
   ]
  },
  {
   "cell_type": "markdown",
   "id": "radical-sailing",
   "metadata": {},
   "source": [
    "![](https://github.com/mgruddy/Intro_Data_ScienceR_Spring2021/blob/main/Slides/Screenshots/avocado_no_headers.png?raw=true)\n",
    "\n",
    "- If there are no column names we can either turn off column names, or write our own!"
   ]
  },
  {
   "cell_type": "code",
   "execution_count": 7,
   "id": "egyptian-lotus",
   "metadata": {
    "scrolled": false
   },
   "outputs": [
    {
     "name": "stderr",
     "output_type": "stream",
     "text": [
      "\n",
      "\u001b[36m──\u001b[39m \u001b[1m\u001b[1mColumn specification\u001b[1m\u001b[22m \u001b[36m────────────────────────────────────────────────────────\u001b[39m\n",
      "cols(\n",
      "  X1 = \u001b[32mcol_double()\u001b[39m,\n",
      "  X2 = \u001b[34mcol_date(format = \"\")\u001b[39m,\n",
      "  X3 = \u001b[32mcol_double()\u001b[39m,\n",
      "  X4 = \u001b[32mcol_double()\u001b[39m,\n",
      "  X5 = \u001b[32mcol_double()\u001b[39m,\n",
      "  X6 = \u001b[32mcol_double()\u001b[39m,\n",
      "  X7 = \u001b[32mcol_double()\u001b[39m,\n",
      "  X8 = \u001b[32mcol_double()\u001b[39m,\n",
      "  X9 = \u001b[32mcol_double()\u001b[39m,\n",
      "  X10 = \u001b[32mcol_double()\u001b[39m,\n",
      "  X11 = \u001b[32mcol_double()\u001b[39m,\n",
      "  X12 = \u001b[31mcol_character()\u001b[39m,\n",
      "  X13 = \u001b[32mcol_double()\u001b[39m,\n",
      "  X14 = \u001b[31mcol_character()\u001b[39m\n",
      ")\n",
      "\n",
      "\n"
     ]
    },
    {
     "name": "stdout",
     "output_type": "stream",
     "text": [
      "\u001b[90m# A tibble: 18,249 x 14\u001b[39m\n",
      "      X1 X2            X3      X4    X5      X6    X7     X8     X9   X10   X11\n",
      "   \u001b[3m\u001b[90m<dbl>\u001b[39m\u001b[23m \u001b[3m\u001b[90m<date>\u001b[39m\u001b[23m     \u001b[3m\u001b[90m<dbl>\u001b[39m\u001b[23m   \u001b[3m\u001b[90m<dbl>\u001b[39m\u001b[23m \u001b[3m\u001b[90m<dbl>\u001b[39m\u001b[23m   \u001b[3m\u001b[90m<dbl>\u001b[39m\u001b[23m \u001b[3m\u001b[90m<dbl>\u001b[39m\u001b[23m  \u001b[3m\u001b[90m<dbl>\u001b[39m\u001b[23m  \u001b[3m\u001b[90m<dbl>\u001b[39m\u001b[23m \u001b[3m\u001b[90m<dbl>\u001b[39m\u001b[23m \u001b[3m\u001b[90m<dbl>\u001b[39m\u001b[23m\n",
      "\u001b[90m 1\u001b[39m     0 2015-12-27  1.33  \u001b[4m6\u001b[24m\u001b[4m4\u001b[24m237. \u001b[4m1\u001b[24m037.  \u001b[4m5\u001b[24m\u001b[4m4\u001b[24m455.  48.2  \u001b[4m8\u001b[24m697.  \u001b[4m8\u001b[24m604.  93.2     0\n",
      "\u001b[90m 2\u001b[39m     1 2015-12-20  1.35  \u001b[4m5\u001b[24m\u001b[4m4\u001b[24m877.  674.  \u001b[4m4\u001b[24m\u001b[4m4\u001b[24m639.  58.3  \u001b[4m9\u001b[24m506.  \u001b[4m9\u001b[24m408.  97.5     0\n",
      "\u001b[90m 3\u001b[39m     2 2015-12-13  0.93 \u001b[4m1\u001b[24m\u001b[4m1\u001b[24m\u001b[4m8\u001b[24m220.  795. \u001b[4m1\u001b[24m\u001b[4m0\u001b[24m\u001b[4m9\u001b[24m150. 130.   \u001b[4m8\u001b[24m145.  \u001b[4m8\u001b[24m042. 103.      0\n",
      "\u001b[90m 4\u001b[39m     3 2015-12-06  1.08  \u001b[4m7\u001b[24m\u001b[4m8\u001b[24m992. \u001b[4m1\u001b[24m132   \u001b[4m7\u001b[24m\u001b[4m1\u001b[24m976.  72.6  \u001b[4m5\u001b[24m811.  \u001b[4m5\u001b[24m677. 134.      0\n",
      "\u001b[90m 5\u001b[39m     4 2015-11-29  1.28  \u001b[4m5\u001b[24m\u001b[4m1\u001b[24m040.  941.  \u001b[4m4\u001b[24m\u001b[4m3\u001b[24m838.  75.8  \u001b[4m6\u001b[24m184.  \u001b[4m5\u001b[24m986. 198.      0\n",
      "\u001b[90m 6\u001b[39m     5 2015-11-22  1.26  \u001b[4m5\u001b[24m\u001b[4m5\u001b[24m980. \u001b[4m1\u001b[24m184.  \u001b[4m4\u001b[24m\u001b[4m8\u001b[24m068.  43.6  \u001b[4m6\u001b[24m684.  \u001b[4m6\u001b[24m556. 127.      0\n",
      "\u001b[90m 7\u001b[39m     6 2015-11-15  0.99  \u001b[4m8\u001b[24m\u001b[4m3\u001b[24m454. \u001b[4m1\u001b[24m369.  \u001b[4m7\u001b[24m\u001b[4m3\u001b[24m673.  93.3  \u001b[4m8\u001b[24m319.  \u001b[4m8\u001b[24m197. 122.      0\n",
      "\u001b[90m 8\u001b[39m     7 2015-11-08  0.98 \u001b[4m1\u001b[24m\u001b[4m0\u001b[24m\u001b[4m9\u001b[24m428.  704. \u001b[4m1\u001b[24m\u001b[4m0\u001b[24m\u001b[4m1\u001b[24m815.  80    \u001b[4m6\u001b[24m829.  \u001b[4m6\u001b[24m267. 562.      0\n",
      "\u001b[90m 9\u001b[39m     8 2015-11-01  1.02  \u001b[4m9\u001b[24m\u001b[4m9\u001b[24m811. \u001b[4m1\u001b[24m022.  \u001b[4m8\u001b[24m\u001b[4m7\u001b[24m316.  85.3 \u001b[4m1\u001b[24m\u001b[4m1\u001b[24m388. \u001b[4m1\u001b[24m\u001b[4m1\u001b[24m105. 284.      0\n",
      "\u001b[90m10\u001b[39m     9 2015-10-25  1.07  \u001b[4m7\u001b[24m\u001b[4m4\u001b[24m339.  842.  \u001b[4m6\u001b[24m\u001b[4m4\u001b[24m757. 113    \u001b[4m8\u001b[24m626.  \u001b[4m8\u001b[24m061. 564.      0\n",
      "\u001b[90m# … with 18,239 more rows, and 3 more variables: X12 <chr>, X13 <dbl>,\u001b[39m\n",
      "\u001b[90m#   X14 <chr>\u001b[39m\n"
     ]
    }
   ],
   "source": [
    "read_csv(\"data/avocado_no_names.csv\", col_names = FALSE) %>%\n",
    "  print()"
   ]
  },
  {
   "cell_type": "code",
   "execution_count": 8,
   "id": "functional-activation",
   "metadata": {
    "scrolled": false
   },
   "outputs": [
    {
     "name": "stderr",
     "output_type": "stream",
     "text": [
      "\n",
      "\u001b[36m──\u001b[39m \u001b[1m\u001b[1mColumn specification\u001b[1m\u001b[22m \u001b[36m────────────────────────────────────────────────────────\u001b[39m\n",
      "cols(\n",
      "  a = \u001b[32mcol_double()\u001b[39m,\n",
      "  b = \u001b[34mcol_date(format = \"\")\u001b[39m,\n",
      "  c = \u001b[32mcol_double()\u001b[39m,\n",
      "  d = \u001b[32mcol_double()\u001b[39m,\n",
      "  e = \u001b[32mcol_double()\u001b[39m,\n",
      "  f = \u001b[32mcol_double()\u001b[39m,\n",
      "  g = \u001b[32mcol_double()\u001b[39m,\n",
      "  h = \u001b[32mcol_double()\u001b[39m,\n",
      "  i = \u001b[32mcol_double()\u001b[39m,\n",
      "  j = \u001b[32mcol_double()\u001b[39m,\n",
      "  k = \u001b[32mcol_double()\u001b[39m,\n",
      "  l = \u001b[31mcol_character()\u001b[39m,\n",
      "  m = \u001b[32mcol_double()\u001b[39m,\n",
      "  n = \u001b[31mcol_character()\u001b[39m\n",
      ")\n",
      "\n",
      "\n"
     ]
    },
    {
     "name": "stdout",
     "output_type": "stream",
     "text": [
      "\u001b[90m# A tibble: 18,249 x 14\u001b[39m\n",
      "       a b              c       d     e       f     g      h      i     j     k\n",
      "   \u001b[3m\u001b[90m<dbl>\u001b[39m\u001b[23m \u001b[3m\u001b[90m<date>\u001b[39m\u001b[23m     \u001b[3m\u001b[90m<dbl>\u001b[39m\u001b[23m   \u001b[3m\u001b[90m<dbl>\u001b[39m\u001b[23m \u001b[3m\u001b[90m<dbl>\u001b[39m\u001b[23m   \u001b[3m\u001b[90m<dbl>\u001b[39m\u001b[23m \u001b[3m\u001b[90m<dbl>\u001b[39m\u001b[23m  \u001b[3m\u001b[90m<dbl>\u001b[39m\u001b[23m  \u001b[3m\u001b[90m<dbl>\u001b[39m\u001b[23m \u001b[3m\u001b[90m<dbl>\u001b[39m\u001b[23m \u001b[3m\u001b[90m<dbl>\u001b[39m\u001b[23m\n",
      "\u001b[90m 1\u001b[39m     0 2015-12-27  1.33  \u001b[4m6\u001b[24m\u001b[4m4\u001b[24m237. \u001b[4m1\u001b[24m037.  \u001b[4m5\u001b[24m\u001b[4m4\u001b[24m455.  48.2  \u001b[4m8\u001b[24m697.  \u001b[4m8\u001b[24m604.  93.2     0\n",
      "\u001b[90m 2\u001b[39m     1 2015-12-20  1.35  \u001b[4m5\u001b[24m\u001b[4m4\u001b[24m877.  674.  \u001b[4m4\u001b[24m\u001b[4m4\u001b[24m639.  58.3  \u001b[4m9\u001b[24m506.  \u001b[4m9\u001b[24m408.  97.5     0\n",
      "\u001b[90m 3\u001b[39m     2 2015-12-13  0.93 \u001b[4m1\u001b[24m\u001b[4m1\u001b[24m\u001b[4m8\u001b[24m220.  795. \u001b[4m1\u001b[24m\u001b[4m0\u001b[24m\u001b[4m9\u001b[24m150. 130.   \u001b[4m8\u001b[24m145.  \u001b[4m8\u001b[24m042. 103.      0\n",
      "\u001b[90m 4\u001b[39m     3 2015-12-06  1.08  \u001b[4m7\u001b[24m\u001b[4m8\u001b[24m992. \u001b[4m1\u001b[24m132   \u001b[4m7\u001b[24m\u001b[4m1\u001b[24m976.  72.6  \u001b[4m5\u001b[24m811.  \u001b[4m5\u001b[24m677. 134.      0\n",
      "\u001b[90m 5\u001b[39m     4 2015-11-29  1.28  \u001b[4m5\u001b[24m\u001b[4m1\u001b[24m040.  941.  \u001b[4m4\u001b[24m\u001b[4m3\u001b[24m838.  75.8  \u001b[4m6\u001b[24m184.  \u001b[4m5\u001b[24m986. 198.      0\n",
      "\u001b[90m 6\u001b[39m     5 2015-11-22  1.26  \u001b[4m5\u001b[24m\u001b[4m5\u001b[24m980. \u001b[4m1\u001b[24m184.  \u001b[4m4\u001b[24m\u001b[4m8\u001b[24m068.  43.6  \u001b[4m6\u001b[24m684.  \u001b[4m6\u001b[24m556. 127.      0\n",
      "\u001b[90m 7\u001b[39m     6 2015-11-15  0.99  \u001b[4m8\u001b[24m\u001b[4m3\u001b[24m454. \u001b[4m1\u001b[24m369.  \u001b[4m7\u001b[24m\u001b[4m3\u001b[24m673.  93.3  \u001b[4m8\u001b[24m319.  \u001b[4m8\u001b[24m197. 122.      0\n",
      "\u001b[90m 8\u001b[39m     7 2015-11-08  0.98 \u001b[4m1\u001b[24m\u001b[4m0\u001b[24m\u001b[4m9\u001b[24m428.  704. \u001b[4m1\u001b[24m\u001b[4m0\u001b[24m\u001b[4m1\u001b[24m815.  80    \u001b[4m6\u001b[24m829.  \u001b[4m6\u001b[24m267. 562.      0\n",
      "\u001b[90m 9\u001b[39m     8 2015-11-01  1.02  \u001b[4m9\u001b[24m\u001b[4m9\u001b[24m811. \u001b[4m1\u001b[24m022.  \u001b[4m8\u001b[24m\u001b[4m7\u001b[24m316.  85.3 \u001b[4m1\u001b[24m\u001b[4m1\u001b[24m388. \u001b[4m1\u001b[24m\u001b[4m1\u001b[24m105. 284.      0\n",
      "\u001b[90m10\u001b[39m     9 2015-10-25  1.07  \u001b[4m7\u001b[24m\u001b[4m4\u001b[24m339.  842.  \u001b[4m6\u001b[24m\u001b[4m4\u001b[24m757. 113    \u001b[4m8\u001b[24m626.  \u001b[4m8\u001b[24m061. 564.      0\n",
      "\u001b[90m# … with 18,239 more rows, and 3 more variables: l <chr>, m <dbl>, n <chr>\u001b[39m\n"
     ]
    }
   ],
   "source": [
    "read_csv(\"data/avocado_no_names.csv\",\n",
    "    col_names = c(\"a\", \"b\", \"c\", \"d\", \"e\", \"f\", \"g\", \"h\", \"i\", \"j\", \"k\", \"l\", \"m\", \"n\")) %>%\n",
    "    print()"
   ]
  },
  {
   "cell_type": "code",
   "execution_count": 10,
   "id": "stuffed-heavy",
   "metadata": {},
   "outputs": [
    {
     "data": {
      "text/html": [
       "<table class=\"dataframe\">\n",
       "<caption>A spec_tbl_df: 2 × 3</caption>\n",
       "<thead>\n",
       "\t<tr><th scope=col>a</th><th scope=col>b</th><th scope=col>c</th></tr>\n",
       "\t<tr><th scope=col>&lt;dbl&gt;</th><th scope=col>&lt;dbl&gt;</th><th scope=col>&lt;dbl&gt;</th></tr>\n",
       "</thead>\n",
       "<tbody>\n",
       "\t<tr><td>1</td><td>2</td><td>3</td></tr>\n",
       "\t<tr><td>1</td><td>4</td><td>9</td></tr>\n",
       "</tbody>\n",
       "</table>\n"
      ],
      "text/latex": [
       "A spec\\_tbl\\_df: 2 × 3\n",
       "\\begin{tabular}{lll}\n",
       " a & b & c\\\\\n",
       " <dbl> & <dbl> & <dbl>\\\\\n",
       "\\hline\n",
       "\t 1 & 2 & 3\\\\\n",
       "\t 1 & 4 & 9\\\\\n",
       "\\end{tabular}\n"
      ],
      "text/markdown": [
       "\n",
       "A spec_tbl_df: 2 × 3\n",
       "\n",
       "| a &lt;dbl&gt; | b &lt;dbl&gt; | c &lt;dbl&gt; |\n",
       "|---|---|---|\n",
       "| 1 | 2 | 3 |\n",
       "| 1 | 4 | 9 |\n",
       "\n"
      ],
      "text/plain": [
       "  a b c\n",
       "1 1 2 3\n",
       "2 1 4 9"
      ]
     },
     "metadata": {},
     "output_type": "display_data"
    }
   ],
   "source": [
    "# we can also read inline text using read_csv\n",
    "read_csv(\"a,b,c\n",
    "1,2,3\n",
    "1,4,9\")"
   ]
  },
  {
   "cell_type": "code",
   "execution_count": 11,
   "id": "copyrighted-offer",
   "metadata": {},
   "outputs": [
    {
     "data": {
      "text/html": [
       "'a, b, c\\n1, 2, 3\\n1, 4, 9'"
      ],
      "text/latex": [
       "'a, b, c\\textbackslash{}n1, 2, 3\\textbackslash{}n1, 4, 9'"
      ],
      "text/markdown": [
       "'a, b, c\\n1, 2, 3\\n1, 4, 9'"
      ],
      "text/plain": [
       "[1] \"a, b, c\\n1, 2, 3\\n1, 4, 9\""
      ]
     },
     "metadata": {},
     "output_type": "display_data"
    }
   ],
   "source": [
    "# the variable inline_text is a string where \\n represents a new line\n",
    "inline_text <- \"a, b, c\n",
    "1, 2, 3\n",
    "1, 4, 9\"\n",
    "inline_text"
   ]
  },
  {
   "cell_type": "code",
   "execution_count": 12,
   "id": "suitable-society",
   "metadata": {},
   "outputs": [
    {
     "data": {
      "text/html": [
       "<table class=\"dataframe\">\n",
       "<caption>A spec_tbl_df: 2 × 3</caption>\n",
       "<thead>\n",
       "\t<tr><th scope=col>a</th><th scope=col>b</th><th scope=col>c</th></tr>\n",
       "\t<tr><th scope=col>&lt;dbl&gt;</th><th scope=col>&lt;dbl&gt;</th><th scope=col>&lt;dbl&gt;</th></tr>\n",
       "</thead>\n",
       "<tbody>\n",
       "\t<tr><td>1</td><td>2</td><td>3</td></tr>\n",
       "\t<tr><td>1</td><td>4</td><td>9</td></tr>\n",
       "</tbody>\n",
       "</table>\n"
      ],
      "text/latex": [
       "A spec\\_tbl\\_df: 2 × 3\n",
       "\\begin{tabular}{lll}\n",
       " a & b & c\\\\\n",
       " <dbl> & <dbl> & <dbl>\\\\\n",
       "\\hline\n",
       "\t 1 & 2 & 3\\\\\n",
       "\t 1 & 4 & 9\\\\\n",
       "\\end{tabular}\n"
      ],
      "text/markdown": [
       "\n",
       "A spec_tbl_df: 2 × 3\n",
       "\n",
       "| a &lt;dbl&gt; | b &lt;dbl&gt; | c &lt;dbl&gt; |\n",
       "|---|---|---|\n",
       "| 1 | 2 | 3 |\n",
       "| 1 | 4 | 9 |\n",
       "\n"
      ],
      "text/plain": [
       "  a b c\n",
       "1 1 2 3\n",
       "2 1 4 9"
      ]
     },
     "metadata": {},
     "output_type": "display_data"
    },
    {
     "data": {
      "text/html": [
       "<table class=\"dataframe\">\n",
       "<caption>A spec_tbl_df: 2 × 3</caption>\n",
       "<thead>\n",
       "\t<tr><th scope=col>a</th><th scope=col>b</th><th scope=col>c</th></tr>\n",
       "\t<tr><th scope=col>&lt;dbl&gt;</th><th scope=col>&lt;dbl&gt;</th><th scope=col>&lt;dbl&gt;</th></tr>\n",
       "</thead>\n",
       "<tbody>\n",
       "\t<tr><td>1</td><td>2</td><td>3</td></tr>\n",
       "\t<tr><td>1</td><td>4</td><td>9</td></tr>\n",
       "</tbody>\n",
       "</table>\n"
      ],
      "text/latex": [
       "A spec\\_tbl\\_df: 2 × 3\n",
       "\\begin{tabular}{lll}\n",
       " a & b & c\\\\\n",
       " <dbl> & <dbl> & <dbl>\\\\\n",
       "\\hline\n",
       "\t 1 & 2 & 3\\\\\n",
       "\t 1 & 4 & 9\\\\\n",
       "\\end{tabular}\n"
      ],
      "text/markdown": [
       "\n",
       "A spec_tbl_df: 2 × 3\n",
       "\n",
       "| a &lt;dbl&gt; | b &lt;dbl&gt; | c &lt;dbl&gt; |\n",
       "|---|---|---|\n",
       "| 1 | 2 | 3 |\n",
       "| 1 | 4 | 9 |\n",
       "\n"
      ],
      "text/plain": [
       "  a b c\n",
       "1 1 2 3\n",
       "2 1 4 9"
      ]
     },
     "metadata": {},
     "output_type": "display_data"
    }
   ],
   "source": [
    "# these are equivalent\n",
    "read_csv(inline_text)\n",
    "read_csv(\"a,b,c\\n1,2,3\\n1,4,9\")"
   ]
  },
  {
   "cell_type": "code",
   "execution_count": 13,
   "id": "satellite-stranger",
   "metadata": {},
   "outputs": [
    {
     "data": {
      "text/html": [
       "<table class=\"dataframe\">\n",
       "<caption>A spec_tbl_df: 2 × 3</caption>\n",
       "<thead>\n",
       "\t<tr><th scope=col>a</th><th scope=col>b</th><th scope=col>c</th></tr>\n",
       "\t<tr><th scope=col>&lt;dbl&gt;</th><th scope=col>&lt;dbl&gt;</th><th scope=col>&lt;dbl&gt;</th></tr>\n",
       "</thead>\n",
       "<tbody>\n",
       "\t<tr><td>1</td><td>2</td><td>3</td></tr>\n",
       "\t<tr><td>1</td><td>4</td><td>9</td></tr>\n",
       "</tbody>\n",
       "</table>\n"
      ],
      "text/latex": [
       "A spec\\_tbl\\_df: 2 × 3\n",
       "\\begin{tabular}{lll}\n",
       " a & b & c\\\\\n",
       " <dbl> & <dbl> & <dbl>\\\\\n",
       "\\hline\n",
       "\t 1 & 2 & 3\\\\\n",
       "\t 1 & 4 & 9\\\\\n",
       "\\end{tabular}\n"
      ],
      "text/markdown": [
       "\n",
       "A spec_tbl_df: 2 × 3\n",
       "\n",
       "| a &lt;dbl&gt; | b &lt;dbl&gt; | c &lt;dbl&gt; |\n",
       "|---|---|---|\n",
       "| 1 | 2 | 3 |\n",
       "| 1 | 4 | 9 |\n",
       "\n"
      ],
      "text/plain": [
       "  a b c\n",
       "1 1 2 3\n",
       "2 1 4 9"
      ]
     },
     "metadata": {},
     "output_type": "display_data"
    }
   ],
   "source": [
    "read_csv(\"#some meta_data\n",
    "a, b, c\n",
    "1, 2, 3\n",
    "#some more meta_data\n",
    "1, 4, 9\", comment = \"#\")"
   ]
  },
  {
   "cell_type": "markdown",
   "id": "knowing-volleyball",
   "metadata": {},
   "source": [
    "We can tweak what ```read_csv``` interprets as a missing value"
   ]
  },
  {
   "cell_type": "code",
   "execution_count": 14,
   "id": "respiratory-engine",
   "metadata": {},
   "outputs": [
    {
     "data": {
      "text/html": [
       "<table class=\"dataframe\">\n",
       "<caption>A spec_tbl_df: 1 × 3</caption>\n",
       "<thead>\n",
       "\t<tr><th scope=col>a</th><th scope=col>b</th><th scope=col>c</th></tr>\n",
       "\t<tr><th scope=col>&lt;dbl&gt;</th><th scope=col>&lt;dbl&gt;</th><th scope=col>&lt;lgl&gt;</th></tr>\n",
       "</thead>\n",
       "<tbody>\n",
       "\t<tr><td>1</td><td>2</td><td>NA</td></tr>\n",
       "</tbody>\n",
       "</table>\n"
      ],
      "text/latex": [
       "A spec\\_tbl\\_df: 1 × 3\n",
       "\\begin{tabular}{lll}\n",
       " a & b & c\\\\\n",
       " <dbl> & <dbl> & <lgl>\\\\\n",
       "\\hline\n",
       "\t 1 & 2 & NA\\\\\n",
       "\\end{tabular}\n"
      ],
      "text/markdown": [
       "\n",
       "A spec_tbl_df: 1 × 3\n",
       "\n",
       "| a &lt;dbl&gt; | b &lt;dbl&gt; | c &lt;lgl&gt; |\n",
       "|---|---|---|\n",
       "| 1 | 2 | NA |\n",
       "\n"
      ],
      "text/plain": [
       "  a b c \n",
       "1 1 2 NA"
      ]
     },
     "metadata": {},
     "output_type": "display_data"
    }
   ],
   "source": [
    "read_csv(\"a,b,c\\n1,2,.\", na = \".\")"
   ]
  },
  {
   "cell_type": "code",
   "execution_count": 20,
   "id": "opposite-victorian",
   "metadata": {},
   "outputs": [
    {
     "data": {
      "text/html": [
       "<table class=\"dataframe\">\n",
       "<caption>A spec_tbl_df: 2 × 3</caption>\n",
       "<thead>\n",
       "\t<tr><th scope=col>a</th><th scope=col>b</th><th scope=col>c</th></tr>\n",
       "\t<tr><th scope=col>&lt;dbl&gt;</th><th scope=col>&lt;dbl&gt;</th><th scope=col>&lt;dbl&gt;</th></tr>\n",
       "</thead>\n",
       "<tbody>\n",
       "\t<tr><td>1</td><td>2</td><td> 3</td></tr>\n",
       "\t<tr><td>4</td><td>5</td><td>NA</td></tr>\n",
       "</tbody>\n",
       "</table>\n"
      ],
      "text/latex": [
       "A spec\\_tbl\\_df: 2 × 3\n",
       "\\begin{tabular}{lll}\n",
       " a & b & c\\\\\n",
       " <dbl> & <dbl> & <dbl>\\\\\n",
       "\\hline\n",
       "\t 1 & 2 &  3\\\\\n",
       "\t 4 & 5 & NA\\\\\n",
       "\\end{tabular}\n"
      ],
      "text/markdown": [
       "\n",
       "A spec_tbl_df: 2 × 3\n",
       "\n",
       "| a &lt;dbl&gt; | b &lt;dbl&gt; | c &lt;dbl&gt; |\n",
       "|---|---|---|\n",
       "| 1 | 2 |  3 |\n",
       "| 4 | 5 | NA |\n",
       "\n"
      ],
      "text/plain": [
       "  a b c \n",
       "1 1 2  3\n",
       "2 4 5 NA"
      ]
     },
     "metadata": {},
     "output_type": "display_data"
    }
   ],
   "source": [
    "read_csv(\"a,b,c\n",
    "1,2,3\n",
    "4,5,None\", na = \"None\")"
   ]
  },
  {
   "cell_type": "code",
   "execution_count": 18,
   "id": "innocent-cylinder",
   "metadata": {},
   "outputs": [
    {
     "data": {
      "text/html": [
       "<table class=\"dataframe\">\n",
       "<caption>A spec_tbl_df: 1 × 3</caption>\n",
       "<thead>\n",
       "\t<tr><th scope=col>a</th><th scope=col>b</th><th scope=col>c</th></tr>\n",
       "\t<tr><th scope=col>&lt;dbl&gt;</th><th scope=col>&lt;dbl&gt;</th><th scope=col>&lt;lgl&gt;</th></tr>\n",
       "</thead>\n",
       "<tbody>\n",
       "\t<tr><td>1</td><td>2</td><td>NA</td></tr>\n",
       "</tbody>\n",
       "</table>\n"
      ],
      "text/latex": [
       "A spec\\_tbl\\_df: 1 × 3\n",
       "\\begin{tabular}{lll}\n",
       " a & b & c\\\\\n",
       " <dbl> & <dbl> & <lgl>\\\\\n",
       "\\hline\n",
       "\t 1 & 2 & NA\\\\\n",
       "\\end{tabular}\n"
      ],
      "text/markdown": [
       "\n",
       "A spec_tbl_df: 1 × 3\n",
       "\n",
       "| a &lt;dbl&gt; | b &lt;dbl&gt; | c &lt;lgl&gt; |\n",
       "|---|---|---|\n",
       "| 1 | 2 | NA |\n",
       "\n"
      ],
      "text/plain": [
       "  a b c \n",
       "1 1 2 NA"
      ]
     },
     "metadata": {},
     "output_type": "display_data"
    }
   ],
   "source": [
    "read_csv(\"a,b,c\n",
    "1,2,NA\")"
   ]
  },
  {
   "cell_type": "markdown",
   "id": "explicit-geometry",
   "metadata": {},
   "source": [
    "Attempt\n",
    "- Run the two following lines\n",
    "\n",
    "```read_csv(\"a,b\\n1,2,3\\n4,5,6\")```\n",
    "\n",
    "```read_csv(\"a,b,c\\n1,2\\n1,2,3,4\")```\n",
    "- What happened? Why?\n",
    "- Alter them so that you don't get any errors"
   ]
  },
  {
   "cell_type": "code",
   "execution_count": 25,
   "id": "wanted-radical",
   "metadata": {},
   "outputs": [
    {
     "data": {
      "text/html": [
       "<table class=\"dataframe\">\n",
       "<caption>A spec_tbl_df: 2 × 3</caption>\n",
       "<thead>\n",
       "\t<tr><th scope=col>a</th><th scope=col>b</th><th scope=col>c</th></tr>\n",
       "\t<tr><th scope=col>&lt;dbl&gt;</th><th scope=col>&lt;dbl&gt;</th><th scope=col>&lt;dbl&gt;</th></tr>\n",
       "</thead>\n",
       "<tbody>\n",
       "\t<tr><td>1</td><td>2</td><td>3</td></tr>\n",
       "\t<tr><td>4</td><td>5</td><td>6</td></tr>\n",
       "</tbody>\n",
       "</table>\n"
      ],
      "text/latex": [
       "A spec\\_tbl\\_df: 2 × 3\n",
       "\\begin{tabular}{lll}\n",
       " a & b & c\\\\\n",
       " <dbl> & <dbl> & <dbl>\\\\\n",
       "\\hline\n",
       "\t 1 & 2 & 3\\\\\n",
       "\t 4 & 5 & 6\\\\\n",
       "\\end{tabular}\n"
      ],
      "text/markdown": [
       "\n",
       "A spec_tbl_df: 2 × 3\n",
       "\n",
       "| a &lt;dbl&gt; | b &lt;dbl&gt; | c &lt;dbl&gt; |\n",
       "|---|---|---|\n",
       "| 1 | 2 | 3 |\n",
       "| 4 | 5 | 6 |\n",
       "\n"
      ],
      "text/plain": [
       "  a b c\n",
       "1 1 2 3\n",
       "2 4 5 6"
      ]
     },
     "metadata": {},
     "output_type": "display_data"
    }
   ],
   "source": [
    "read_csv(\"a,b,c\\n1,2,3\\n4,5,6\")"
   ]
  },
  {
   "cell_type": "code",
   "execution_count": 24,
   "id": "automated-glossary",
   "metadata": {},
   "outputs": [
    {
     "data": {
      "text/html": [
       "<table class=\"dataframe\">\n",
       "<caption>A spec_tbl_df: 2 × 3</caption>\n",
       "<thead>\n",
       "\t<tr><th scope=col>X1</th><th scope=col>X2</th><th scope=col>X3</th></tr>\n",
       "\t<tr><th scope=col>&lt;dbl&gt;</th><th scope=col>&lt;dbl&gt;</th><th scope=col>&lt;dbl&gt;</th></tr>\n",
       "</thead>\n",
       "<tbody>\n",
       "\t<tr><td>1</td><td>2</td><td>3</td></tr>\n",
       "\t<tr><td>4</td><td>5</td><td>6</td></tr>\n",
       "</tbody>\n",
       "</table>\n"
      ],
      "text/latex": [
       "A spec\\_tbl\\_df: 2 × 3\n",
       "\\begin{tabular}{lll}\n",
       " X1 & X2 & X3\\\\\n",
       " <dbl> & <dbl> & <dbl>\\\\\n",
       "\\hline\n",
       "\t 1 & 2 & 3\\\\\n",
       "\t 4 & 5 & 6\\\\\n",
       "\\end{tabular}\n"
      ],
      "text/markdown": [
       "\n",
       "A spec_tbl_df: 2 × 3\n",
       "\n",
       "| X1 &lt;dbl&gt; | X2 &lt;dbl&gt; | X3 &lt;dbl&gt; |\n",
       "|---|---|---|\n",
       "| 1 | 2 | 3 |\n",
       "| 4 | 5 | 6 |\n",
       "\n"
      ],
      "text/plain": [
       "  X1 X2 X3\n",
       "1 1  2  3 \n",
       "2 4  5  6 "
      ]
     },
     "metadata": {},
     "output_type": "display_data"
    }
   ],
   "source": [
    "read_csv(\"a,b\\n1,2,3\\n4,5,6\", skip = 1, col_names=FALSE)"
   ]
  },
  {
   "cell_type": "code",
   "execution_count": 28,
   "id": "composed-designer",
   "metadata": {},
   "outputs": [
    {
     "data": {
      "text/html": [
       "<table class=\"dataframe\">\n",
       "<caption>A spec_tbl_df: 2 × 4</caption>\n",
       "<thead>\n",
       "\t<tr><th scope=col>a</th><th scope=col>b</th><th scope=col>c</th><th scope=col>d</th></tr>\n",
       "\t<tr><th scope=col>&lt;dbl&gt;</th><th scope=col>&lt;dbl&gt;</th><th scope=col>&lt;dbl&gt;</th><th scope=col>&lt;dbl&gt;</th></tr>\n",
       "</thead>\n",
       "<tbody>\n",
       "\t<tr><td>1</td><td>2</td><td>3</td><td>4</td></tr>\n",
       "\t<tr><td>1</td><td>2</td><td>3</td><td>4</td></tr>\n",
       "</tbody>\n",
       "</table>\n"
      ],
      "text/latex": [
       "A spec\\_tbl\\_df: 2 × 4\n",
       "\\begin{tabular}{llll}\n",
       " a & b & c & d\\\\\n",
       " <dbl> & <dbl> & <dbl> & <dbl>\\\\\n",
       "\\hline\n",
       "\t 1 & 2 & 3 & 4\\\\\n",
       "\t 1 & 2 & 3 & 4\\\\\n",
       "\\end{tabular}\n"
      ],
      "text/markdown": [
       "\n",
       "A spec_tbl_df: 2 × 4\n",
       "\n",
       "| a &lt;dbl&gt; | b &lt;dbl&gt; | c &lt;dbl&gt; | d &lt;dbl&gt; |\n",
       "|---|---|---|---|\n",
       "| 1 | 2 | 3 | 4 |\n",
       "| 1 | 2 | 3 | 4 |\n",
       "\n"
      ],
      "text/plain": [
       "  a b c d\n",
       "1 1 2 3 4\n",
       "2 1 2 3 4"
      ]
     },
     "metadata": {},
     "output_type": "display_data"
    }
   ],
   "source": [
    "read_csv(\"a,b,c,d\n",
    "1,2,3,4\n",
    "1,2,3,4\")"
   ]
  },
  {
   "cell_type": "code",
   "execution_count": 29,
   "id": "unknown-analysis",
   "metadata": {},
   "outputs": [],
   "source": [
    "?read_delim"
   ]
  },
  {
   "cell_type": "markdown",
   "id": "acquired-machine",
   "metadata": {},
   "source": [
    "```read_csv()``` is equivalent to ```read_delim(, delim = \",\")```"
   ]
  },
  {
   "cell_type": "markdown",
   "id": "intimate-reserve",
   "metadata": {},
   "source": [
    "Sometimes tabular data is not separated by commas.\n",
    "- The command ```read_csv2()``` reads semicolon separated files (common where ```,``` is used as the decimal place)\n",
    "- The command ```read_tsv``` reads **t**ab delimited files\n",
    "- The command ```read_delim()``` read in files with any delimiter\n",
    " * The other commands are really special cases of ```read_delim()```!\n",
    "- The command ```read_fwf()``` reads in **f**ixed **w**idth **f**iles"
   ]
  },
  {
   "cell_type": "code",
   "execution_count": 35,
   "id": "powered-scheme",
   "metadata": {},
   "outputs": [
    {
     "data": {
      "text/html": [
       "<table class=\"dataframe\">\n",
       "<caption>A spec_tbl_df: 1 × 3</caption>\n",
       "<thead>\n",
       "\t<tr><th scope=col>a</th><th scope=col>b</th><th scope=col>c</th></tr>\n",
       "\t<tr><th scope=col>&lt;dbl&gt;</th><th scope=col>&lt;dbl&gt;</th><th scope=col>&lt;dbl&gt;</th></tr>\n",
       "</thead>\n",
       "<tbody>\n",
       "\t<tr><td>1</td><td>2</td><td>3</td></tr>\n",
       "</tbody>\n",
       "</table>\n"
      ],
      "text/latex": [
       "A spec\\_tbl\\_df: 1 × 3\n",
       "\\begin{tabular}{lll}\n",
       " a & b & c\\\\\n",
       " <dbl> & <dbl> & <dbl>\\\\\n",
       "\\hline\n",
       "\t 1 & 2 & 3\\\\\n",
       "\\end{tabular}\n"
      ],
      "text/markdown": [
       "\n",
       "A spec_tbl_df: 1 × 3\n",
       "\n",
       "| a &lt;dbl&gt; | b &lt;dbl&gt; | c &lt;dbl&gt; |\n",
       "|---|---|---|\n",
       "| 1 | 2 | 3 |\n",
       "\n"
      ],
      "text/plain": [
       "  a b c\n",
       "1 1 2 3"
      ]
     },
     "metadata": {},
     "output_type": "display_data"
    }
   ],
   "source": [
    "# here \\t represents tab-space\n",
    "read_tsv(\"a\\tb\\tc\n",
    "1\\t2\\t3\")"
   ]
  },
  {
   "cell_type": "code",
   "execution_count": 30,
   "id": "boolean-portfolio",
   "metadata": {},
   "outputs": [
    {
     "data": {
      "text/html": [
       "<table class=\"dataframe\">\n",
       "<caption>A spec_tbl_df: 1 × 3</caption>\n",
       "<thead>\n",
       "\t<tr><th scope=col>a </th><th scope=col> b </th><th scope=col> c</th></tr>\n",
       "\t<tr><th scope=col>&lt;chr&gt;</th><th scope=col>&lt;chr&gt;</th><th scope=col>&lt;chr&gt;</th></tr>\n",
       "</thead>\n",
       "<tbody>\n",
       "\t<tr><td>            1 </td><td> 2 </td><td> 3</td></tr>\n",
       "</tbody>\n",
       "</table>\n"
      ],
      "text/latex": [
       "A spec\\_tbl\\_df: 1 × 3\n",
       "\\begin{tabular}{lll}\n",
       " a  &  b  &  c\\\\\n",
       " <chr> & <chr> & <chr>\\\\\n",
       "\\hline\n",
       "\t             1  &  2  &  3\\\\\n",
       "\\end{tabular}\n"
      ],
      "text/markdown": [
       "\n",
       "A spec_tbl_df: 1 × 3\n",
       "\n",
       "| a  &lt;chr&gt; |  b  &lt;chr&gt; |  c &lt;chr&gt; |\n",
       "|---|---|---|\n",
       "|             1  |  2  |  3 |\n",
       "\n"
      ],
      "text/plain": [
       "  a               b   c\n",
       "1             1   2   3"
      ]
     },
     "metadata": {},
     "output_type": "display_data"
    }
   ],
   "source": [
    "read_delim(\"a | b | c\n",
    "            1 | 2 | 3\", delim = \"|\")"
   ]
  },
  {
   "cell_type": "code",
   "execution_count": 36,
   "id": "noted-trace",
   "metadata": {},
   "outputs": [
    {
     "name": "stdout",
     "output_type": "stream",
     "text": [
      "John Smith          WA        418-Y11-4111\n",
      "Mary Hartford       CA        319-Z19-4341\n",
      "Evan Nolan          IL        219-532-c301\n"
     ]
    },
    {
     "name": "stderr",
     "output_type": "stream",
     "text": [
      "\n",
      "\u001b[36m──\u001b[39m \u001b[1m\u001b[1mColumn specification\u001b[1m\u001b[22m \u001b[36m────────────────────────────────────────────────────────\u001b[39m\n",
      "cols(\n",
      "  first = \u001b[31mcol_character()\u001b[39m,\n",
      "  last = \u001b[31mcol_character()\u001b[39m,\n",
      "  state = \u001b[31mcol_character()\u001b[39m,\n",
      "  ssn = \u001b[31mcol_character()\u001b[39m\n",
      ")\n",
      "\n",
      "\n"
     ]
    },
    {
     "data": {
      "text/html": [
       "<table class=\"dataframe\">\n",
       "<caption>A spec_tbl_df: 3 × 4</caption>\n",
       "<thead>\n",
       "\t<tr><th scope=col>first</th><th scope=col>last</th><th scope=col>state</th><th scope=col>ssn</th></tr>\n",
       "\t<tr><th scope=col>&lt;chr&gt;</th><th scope=col>&lt;chr&gt;</th><th scope=col>&lt;chr&gt;</th><th scope=col>&lt;chr&gt;</th></tr>\n",
       "</thead>\n",
       "<tbody>\n",
       "\t<tr><td>John</td><td>Smith   </td><td>WA</td><td>418-Y11-4111</td></tr>\n",
       "\t<tr><td>Mary</td><td>Hartford</td><td>CA</td><td>319-Z19-4341</td></tr>\n",
       "\t<tr><td>Evan</td><td>Nolan   </td><td>IL</td><td>219-532-c301</td></tr>\n",
       "</tbody>\n",
       "</table>\n"
      ],
      "text/latex": [
       "A spec\\_tbl\\_df: 3 × 4\n",
       "\\begin{tabular}{llll}\n",
       " first & last & state & ssn\\\\\n",
       " <chr> & <chr> & <chr> & <chr>\\\\\n",
       "\\hline\n",
       "\t John & Smith    & WA & 418-Y11-4111\\\\\n",
       "\t Mary & Hartford & CA & 319-Z19-4341\\\\\n",
       "\t Evan & Nolan    & IL & 219-532-c301\\\\\n",
       "\\end{tabular}\n"
      ],
      "text/markdown": [
       "\n",
       "A spec_tbl_df: 3 × 4\n",
       "\n",
       "| first &lt;chr&gt; | last &lt;chr&gt; | state &lt;chr&gt; | ssn &lt;chr&gt; |\n",
       "|---|---|---|---|\n",
       "| John | Smith    | WA | 418-Y11-4111 |\n",
       "| Mary | Hartford | CA | 319-Z19-4341 |\n",
       "| Evan | Nolan    | IL | 219-532-c301 |\n",
       "\n"
      ],
      "text/plain": [
       "  first last     state ssn         \n",
       "1 John  Smith    WA    418-Y11-4111\n",
       "2 Mary  Hartford CA    319-Z19-4341\n",
       "3 Evan  Nolan    IL    219-532-c301"
      ]
     },
     "metadata": {},
     "output_type": "display_data"
    }
   ],
   "source": [
    "fwf_sample <- readr_example(\"fwf-sample.txt\")\n",
    "writeLines(read_lines(fwf_sample))\n",
    "read_fwf(fwf_sample, fwf_empty(fwf_sample, col_names = c(\"first\", \"last\", \"state\", \"ssn\")))"
   ]
  },
  {
   "cell_type": "markdown",
   "id": "israeli-thirty",
   "metadata": {},
   "source": [
    "We can also just read lines from a txt file directly\n",
    "\n",
    "![](https://github.com/mgruddy/Intro_Data_ScienceR_Spring2021/blob/main/Slides/Screenshots/emailtxt.png?raw=true)\n",
    "\n",
    "- The command ```read_lines()``` outputs a character vector where the elements are the lines of the .txt file as strings\n",
    "- The command ```writeLines()``` is a nice way to print out a character vector of lines from a document"
   ]
  },
  {
   "cell_type": "code",
   "execution_count": 39,
   "id": "driving-execution",
   "metadata": {},
   "outputs": [
    {
     "data": {
      "text/html": [
       "<style>\n",
       ".list-inline {list-style: none; margin:0; padding: 0}\n",
       ".list-inline>li {display: inline-block}\n",
       ".list-inline>li:not(:last-child)::after {content: \"\\00b7\"; padding: 0 .5ex}\n",
       "</style>\n",
       "<ol class=list-inline><li>'Dear Michael,'</li><li>''</li><li>'You are receiving this communication because you may have recordings from Zoom meetings held between Jan. 1, 2018–June 30, 2020 stored in Zoom cloud storage. These recordings will be deleted on Thursday, March 4 at 12:01 a.m. You may choose to retain any or all of these recordings by saving them in your Google Drive.'</li><li>''</li><li>'You may have received a similar message regarding earlier Zoom recordings. Please note today’s message is regarding recordings made on different dates than those mentioned in the previous message.'</li><li>''</li><li>'Read on for more information, including instructions to review and retain your recordings.'</li></ol>\n"
      ],
      "text/latex": [
       "\\begin{enumerate*}\n",
       "\\item 'Dear Michael,'\n",
       "\\item ''\n",
       "\\item 'You are receiving this communication because you may have recordings from Zoom meetings held between Jan. 1, 2018–June 30, 2020 stored in Zoom cloud storage. These recordings will be deleted on Thursday, March 4 at 12:01 a.m. You may choose to retain any or all of these recordings by saving them in your Google Drive.'\n",
       "\\item ''\n",
       "\\item 'You may have received a similar message regarding earlier Zoom recordings. Please note today’s message is regarding recordings made on different dates than those mentioned in the previous message.'\n",
       "\\item ''\n",
       "\\item 'Read on for more information, including instructions to review and retain your recordings.'\n",
       "\\end{enumerate*}\n"
      ],
      "text/markdown": [
       "1. 'Dear Michael,'\n",
       "2. ''\n",
       "3. 'You are receiving this communication because you may have recordings from Zoom meetings held between Jan. 1, 2018–June 30, 2020 stored in Zoom cloud storage. These recordings will be deleted on Thursday, March 4 at 12:01 a.m. You may choose to retain any or all of these recordings by saving them in your Google Drive.'\n",
       "4. ''\n",
       "5. 'You may have received a similar message regarding earlier Zoom recordings. Please note today’s message is regarding recordings made on different dates than those mentioned in the previous message.'\n",
       "6. ''\n",
       "7. 'Read on for more information, including instructions to review and retain your recordings.'\n",
       "\n",
       "\n"
      ],
      "text/plain": [
       "[1] \"Dear Michael,\"                                                                                                                                                                                                                                                                                                                 \n",
       "[2] \"\"                                                                                                                                                                                                                                                                                                                              \n",
       "[3] \"You are receiving this communication because you may have recordings from Zoom meetings held between Jan. 1, 2018–June 30, 2020 stored in Zoom cloud storage. These recordings will be deleted on Thursday, March 4 at 12:01 a.m. You may choose to retain any or all of these recordings by saving them in your Google Drive.\"\n",
       "[4] \"\"                                                                                                                                                                                                                                                                                                                              \n",
       "[5] \"You may have received a similar message regarding earlier Zoom recordings. Please note today’s message is regarding recordings made on different dates than those mentioned in the previous message.\"                                                                                                                          \n",
       "[6] \"\"                                                                                                                                                                                                                                                                                                                              \n",
       "[7] \"Read on for more information, including instructions to review and retain your recordings.\"                                                                                                                                                                                                                                    "
      ]
     },
     "metadata": {},
     "output_type": "display_data"
    }
   ],
   "source": [
    "read_lines(\"data/email.txt\")"
   ]
  },
  {
   "cell_type": "code",
   "execution_count": 40,
   "id": "configured-position",
   "metadata": {},
   "outputs": [
    {
     "name": "stdout",
     "output_type": "stream",
     "text": [
      "Dear Michael,\n",
      "\n",
      "You are receiving this communication because you may have recordings from Zoom meetings held between Jan. 1, 2018–June 30, 2020 stored in Zoom cloud storage. These recordings will be deleted on Thursday, March 4 at 12:01 a.m. You may choose to retain any or all of these recordings by saving them in your Google Drive.\n",
      "\n",
      "You may have received a similar message regarding earlier Zoom recordings. Please note today’s message is regarding recordings made on different dates than those mentioned in the previous message.\n",
      "\n",
      "Read on for more information, including instructions to review and retain your recordings.\n"
     ]
    }
   ],
   "source": [
    "writeLines(read_lines(\"data/email.txt\"))"
   ]
  },
  {
   "cell_type": "code",
   "execution_count": 41,
   "id": "dedicated-shirt",
   "metadata": {},
   "outputs": [
    {
     "name": "stdout",
     "output_type": "stream",
     "text": [
      "#This is a file with avocado prices\n",
      ",Date,AveragePrice,Total Volume,4046,4225,4770,Total Bags,Small Bags,Large Bags,XLarge Bags,type,year,region\n",
      "0,2015-12-27,1.33,64236.62,1036.74,54454.85,48.16,8696.87,8603.62,93.25,0.0,conventional,2015,Albany\n",
      "1,2015-12-20,1.35,54876.98,674.28,44638.81,58.33,9505.56,9408.07,97.49,0.0,conventional,2015,Albany\n",
      "2,2015-12-13,0.93,118220.22,794.7,109149.67,130.5,8145.35,8042.21,103.14,0.0,conventional,2015,Albany\n"
     ]
    }
   ],
   "source": [
    "# this is useful for seeing the meta-data of a document\n",
    "writeLines(read_lines(\"data/avocado_with_header.csv\", n_max = 5))"
   ]
  },
  {
   "cell_type": "code",
   "execution_count": null,
   "id": "together-belle",
   "metadata": {},
   "outputs": [],
   "source": [
    "# recall we can save tibbles as csv files\n",
    "write_csv(avocados, \"data/avocado.csv\")"
   ]
  },
  {
   "cell_type": "markdown",
   "id": "durable-surname",
   "metadata": {},
   "source": [
    "- Note: when we save a tibble as a csv file we lose all the meta-data (when re-reading the file, it will guess the column types again)\n",
    "- We can save tibbles as other types of files such as\n",
    " * .RDS which is a custom format for R. Use the commands ```saveRDS()``` and ```readRDS()```\n",
    " * .feather using the library ```feather``` and the commands ```write_feather()``` and ```read_feather()```"
   ]
  },
  {
   "cell_type": "markdown",
   "id": "acquired-profile",
   "metadata": {},
   "source": [
    "- Each of these commands reads the first 1000 lines to guess the column type for each column\n",
    "- This poses a problem for columns where the first 1000 lines have missing values\n",
    "- You can parse the type using more lines or override this \"guess\" explicitly\n",
    "- See Sections 11.3 - 11.4 in the text for more details"
   ]
  },
  {
   "cell_type": "code",
   "execution_count": 42,
   "id": "square-magazine",
   "metadata": {},
   "outputs": [
    {
     "name": "stderr",
     "output_type": "stream",
     "text": [
      "\n",
      "\u001b[36m──\u001b[39m \u001b[1m\u001b[1mColumn specification\u001b[1m\u001b[22m \u001b[36m────────────────────────────────────────────────────────\u001b[39m\n",
      "cols(\n",
      "  x = \u001b[32mcol_double()\u001b[39m,\n",
      "  y = \u001b[33mcol_logical()\u001b[39m\n",
      ")\n",
      "\n",
      "\n",
      "Warning message:\n",
      "“1000 parsing failures.\n",
      " row col           expected     actual                                                                                file\n",
      "1001   y 1/0/T/F/TRUE/FALSE 2015-01-16 '/Users/mruddy/opt/anaconda3/envs/base_R/lib/R/library/readr/extdata/challenge.csv'\n",
      "1002   y 1/0/T/F/TRUE/FALSE 2018-05-18 '/Users/mruddy/opt/anaconda3/envs/base_R/lib/R/library/readr/extdata/challenge.csv'\n",
      "1003   y 1/0/T/F/TRUE/FALSE 2015-09-05 '/Users/mruddy/opt/anaconda3/envs/base_R/lib/R/library/readr/extdata/challenge.csv'\n",
      "1004   y 1/0/T/F/TRUE/FALSE 2012-11-28 '/Users/mruddy/opt/anaconda3/envs/base_R/lib/R/library/readr/extdata/challenge.csv'\n",
      "1005   y 1/0/T/F/TRUE/FALSE 2020-01-13 '/Users/mruddy/opt/anaconda3/envs/base_R/lib/R/library/readr/extdata/challenge.csv'\n",
      ".... ... .................. .......... ...................................................................................\n",
      "See problems(...) for more details.\n",
      "”\n"
     ]
    }
   ],
   "source": [
    "# built in challenge .csv file\n",
    "challenge <- read_csv(readr_example(\"challenge.csv\"))"
   ]
  },
  {
   "cell_type": "code",
   "execution_count": 43,
   "id": "studied-capitol",
   "metadata": {},
   "outputs": [
    {
     "name": "stdout",
     "output_type": "stream",
     "text": [
      "\u001b[90m# A tibble: 2,000 x 2\u001b[39m\n",
      "       x y    \n",
      "   \u001b[3m\u001b[90m<dbl>\u001b[39m\u001b[23m \u001b[3m\u001b[90m<lgl>\u001b[39m\u001b[23m\n",
      "\u001b[90m 1\u001b[39m   404 \u001b[31mNA\u001b[39m   \n",
      "\u001b[90m 2\u001b[39m  \u001b[4m4\u001b[24m172 \u001b[31mNA\u001b[39m   \n",
      "\u001b[90m 3\u001b[39m  \u001b[4m3\u001b[24m004 \u001b[31mNA\u001b[39m   \n",
      "\u001b[90m 4\u001b[39m   787 \u001b[31mNA\u001b[39m   \n",
      "\u001b[90m 5\u001b[39m    37 \u001b[31mNA\u001b[39m   \n",
      "\u001b[90m 6\u001b[39m  \u001b[4m2\u001b[24m332 \u001b[31mNA\u001b[39m   \n",
      "\u001b[90m 7\u001b[39m  \u001b[4m2\u001b[24m489 \u001b[31mNA\u001b[39m   \n",
      "\u001b[90m 8\u001b[39m  \u001b[4m1\u001b[24m449 \u001b[31mNA\u001b[39m   \n",
      "\u001b[90m 9\u001b[39m  \u001b[4m3\u001b[24m665 \u001b[31mNA\u001b[39m   \n",
      "\u001b[90m10\u001b[39m  \u001b[4m3\u001b[24m863 \u001b[31mNA\u001b[39m   \n",
      "\u001b[90m# … with 1,990 more rows\u001b[39m\n"
     ]
    }
   ],
   "source": [
    "print(challenge)"
   ]
  },
  {
   "cell_type": "code",
   "execution_count": 47,
   "id": "clinical-domain",
   "metadata": {
    "scrolled": true
   },
   "outputs": [
    {
     "name": "stdout",
     "output_type": "stream",
     "text": [
      "\u001b[90m# A tibble: 1,000 x 5\u001b[39m\n",
      "     row col   expected       actual   file                                     \n",
      "   \u001b[3m\u001b[90m<int>\u001b[39m\u001b[23m \u001b[3m\u001b[90m<chr>\u001b[39m\u001b[23m \u001b[3m\u001b[90m<chr>\u001b[39m\u001b[23m          \u001b[3m\u001b[90m<chr>\u001b[39m\u001b[23m    \u001b[3m\u001b[90m<chr>\u001b[39m\u001b[23m                                    \n",
      "\u001b[90m 1\u001b[39m  \u001b[4m1\u001b[24m001 y     1/0/T/F/TRUE/… 2015-01… '/Users/mruddy/opt/anaconda3/envs/base_R…\n",
      "\u001b[90m 2\u001b[39m  \u001b[4m1\u001b[24m002 y     1/0/T/F/TRUE/… 2018-05… '/Users/mruddy/opt/anaconda3/envs/base_R…\n",
      "\u001b[90m 3\u001b[39m  \u001b[4m1\u001b[24m003 y     1/0/T/F/TRUE/… 2015-09… '/Users/mruddy/opt/anaconda3/envs/base_R…\n",
      "\u001b[90m 4\u001b[39m  \u001b[4m1\u001b[24m004 y     1/0/T/F/TRUE/… 2012-11… '/Users/mruddy/opt/anaconda3/envs/base_R…\n",
      "\u001b[90m 5\u001b[39m  \u001b[4m1\u001b[24m005 y     1/0/T/F/TRUE/… 2020-01… '/Users/mruddy/opt/anaconda3/envs/base_R…\n",
      "\u001b[90m 6\u001b[39m  \u001b[4m1\u001b[24m006 y     1/0/T/F/TRUE/… 2016-04… '/Users/mruddy/opt/anaconda3/envs/base_R…\n",
      "\u001b[90m 7\u001b[39m  \u001b[4m1\u001b[24m007 y     1/0/T/F/TRUE/… 2011-05… '/Users/mruddy/opt/anaconda3/envs/base_R…\n",
      "\u001b[90m 8\u001b[39m  \u001b[4m1\u001b[24m008 y     1/0/T/F/TRUE/… 2020-07… '/Users/mruddy/opt/anaconda3/envs/base_R…\n",
      "\u001b[90m 9\u001b[39m  \u001b[4m1\u001b[24m009 y     1/0/T/F/TRUE/… 2011-04… '/Users/mruddy/opt/anaconda3/envs/base_R…\n",
      "\u001b[90m10\u001b[39m  \u001b[4m1\u001b[24m010 y     1/0/T/F/TRUE/… 2010-05… '/Users/mruddy/opt/anaconda3/envs/base_R…\n",
      "\u001b[90m# … with 990 more rows\u001b[39m\n"
     ]
    }
   ],
   "source": [
    "# print out the problem rows\n",
    "problems(challenge) %>%\n",
    "    print()"
   ]
  },
  {
   "cell_type": "code",
   "execution_count": 50,
   "id": "quality-crawford",
   "metadata": {},
   "outputs": [
    {
     "data": {
      "text/html": [
       "<table class=\"dataframe\">\n",
       "<caption>A tibble: 6 × 2</caption>\n",
       "<thead>\n",
       "\t<tr><th scope=col>x</th><th scope=col>y</th></tr>\n",
       "\t<tr><th scope=col>&lt;dbl&gt;</th><th scope=col>&lt;date&gt;</th></tr>\n",
       "</thead>\n",
       "<tbody>\n",
       "\t<tr><td>0.8052743</td><td>2019-11-21</td></tr>\n",
       "\t<tr><td>0.1635163</td><td>2018-03-29</td></tr>\n",
       "\t<tr><td>0.4719390</td><td>2014-08-04</td></tr>\n",
       "\t<tr><td>0.7183186</td><td>2015-08-16</td></tr>\n",
       "\t<tr><td>0.2698786</td><td>2020-02-04</td></tr>\n",
       "\t<tr><td>0.6082372</td><td>2019-01-06</td></tr>\n",
       "</tbody>\n",
       "</table>\n"
      ],
      "text/latex": [
       "A tibble: 6 × 2\n",
       "\\begin{tabular}{ll}\n",
       " x & y\\\\\n",
       " <dbl> & <date>\\\\\n",
       "\\hline\n",
       "\t 0.8052743 & 2019-11-21\\\\\n",
       "\t 0.1635163 & 2018-03-29\\\\\n",
       "\t 0.4719390 & 2014-08-04\\\\\n",
       "\t 0.7183186 & 2015-08-16\\\\\n",
       "\t 0.2698786 & 2020-02-04\\\\\n",
       "\t 0.6082372 & 2019-01-06\\\\\n",
       "\\end{tabular}\n"
      ],
      "text/markdown": [
       "\n",
       "A tibble: 6 × 2\n",
       "\n",
       "| x &lt;dbl&gt; | y &lt;date&gt; |\n",
       "|---|---|\n",
       "| 0.8052743 | 2019-11-21 |\n",
       "| 0.1635163 | 2018-03-29 |\n",
       "| 0.4719390 | 2014-08-04 |\n",
       "| 0.7183186 | 2015-08-16 |\n",
       "| 0.2698786 | 2020-02-04 |\n",
       "| 0.6082372 | 2019-01-06 |\n",
       "\n"
      ],
      "text/plain": [
       "  x         y         \n",
       "1 0.8052743 2019-11-21\n",
       "2 0.1635163 2018-03-29\n",
       "3 0.4719390 2014-08-04\n",
       "4 0.7183186 2015-08-16\n",
       "5 0.2698786 2020-02-04\n",
       "6 0.6082372 2019-01-06"
      ]
     },
     "metadata": {},
     "output_type": "display_data"
    }
   ],
   "source": [
    "# force the column types\n",
    "challenge <- read_csv(readr_example(\"challenge.csv\"), \n",
    "  col_types = cols(\n",
    "    x = col_double(),\n",
    "    y = col_date()\n",
    "  )\n",
    ")\n",
    "tail(challenge)"
   ]
  },
  {
   "cell_type": "code",
   "execution_count": 51,
   "id": "legendary-airplane",
   "metadata": {},
   "outputs": [
    {
     "name": "stderr",
     "output_type": "stream",
     "text": [
      "\n",
      "\u001b[36m──\u001b[39m \u001b[1m\u001b[1mColumn specification\u001b[1m\u001b[22m \u001b[36m────────────────────────────────────────────────────────\u001b[39m\n",
      "cols(\n",
      "  x = \u001b[32mcol_double()\u001b[39m,\n",
      "  y = \u001b[34mcol_date(format = \"\")\u001b[39m\n",
      ")\n",
      "\n",
      "\n"
     ]
    }
   ],
   "source": [
    "# try more than 1000 lines to guess type\n",
    "challenge <- read_csv(readr_example(\"challenge.csv\"), guess_max = 1001)"
   ]
  },
  {
   "cell_type": "markdown",
   "id": "bronze-appreciation",
   "metadata": {},
   "source": [
    "Fancier types of files can be imported such as\n",
    "- ```haven``` reads SPSS, Stata, and SAS files\n",
    "- ```readxl``` reads excel files (both ```.xls``` and ```.xlsx```)\n",
    "- ```DBI``` lets you run SQL queries"
   ]
  },
  {
   "cell_type": "markdown",
   "id": "becoming-recording",
   "metadata": {},
   "source": [
    "We can also save our plots using ```ggsave()```!"
   ]
  },
  {
   "cell_type": "code",
   "execution_count": 52,
   "id": "bacterial-dependence",
   "metadata": {},
   "outputs": [],
   "source": [
    "mpg_plot <- mpg %>%\n",
    "    ggplot(aes(x = cty, y = displ)) +\n",
    "    geom_point()"
   ]
  },
  {
   "cell_type": "code",
   "execution_count": 53,
   "id": "first-woman",
   "metadata": {},
   "outputs": [
    {
     "data": {
      "image/png": "[encoded data removed]",
      "text/plain": [
       "plot without title"
      ]
     },
     "metadata": {
      "image/png": {
       "height": 420,
       "width": 420
      }
     },
     "output_type": "display_data"
    }
   ],
   "source": [
    "mpg_plot"
   ]
  },
  {
   "cell_type": "code",
   "execution_count": 54,
   "id": "occupied-housing",
   "metadata": {},
   "outputs": [
    {
     "name": "stderr",
     "output_type": "stream",
     "text": [
      "Saving 7 x 7 in image\n",
      "\n"
     ]
    }
   ],
   "source": [
    "ggsave(\"data/mpg_plot.png\", plot = mpg_plot)"
   ]
  },
  {
   "cell_type": "code",
   "execution_count": 55,
   "id": "toxic-seven",
   "metadata": {},
   "outputs": [],
   "source": [
    "?ggsave"
   ]
  },
  {
   "cell_type": "code",
   "execution_count": null,
   "id": "wanted-pontiac",
   "metadata": {},
   "outputs": [],
   "source": []
  }
 ],
 "metadata": {
  "kernelspec": {
   "display_name": "R",
   "language": "R",
   "name": "ir"
  },
  "language_info": {
   "codemirror_mode": "r",
   "file_extension": ".r",
   "mimetype": "text/x-r-source",
   "name": "R",
   "pygments_lexer": "r",
   "version": "4.0.3"
  }
 },
 "nbformat": 4,
 "nbformat_minor": 5
}

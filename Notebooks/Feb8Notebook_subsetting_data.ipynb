{
 "cells": [
  {
   "cell_type": "code",
   "execution_count": 1,
   "id": "dental-collection",
   "metadata": {},
   "outputs": [
    {
     "name": "stderr",
     "output_type": "stream",
     "text": [
      "Registered S3 methods overwritten by 'ggplot2':\n",
      "  method         from \n",
      "  [.quosures     rlang\n",
      "  c.quosures     rlang\n",
      "  print.quosures rlang\n",
      "Registered S3 method overwritten by 'rvest':\n",
      "  method            from\n",
      "  read_xml.response xml2\n",
      "── Attaching packages ─────────────────────────────────────── tidyverse 1.2.1 ──\n",
      "✔ ggplot2 3.1.1       ✔ purrr   0.3.2  \n",
      "✔ tibble  2.1.1       ✔ dplyr   0.8.0.1\n",
      "✔ tidyr   0.8.3       ✔ stringr 1.4.0  \n",
      "✔ readr   1.3.1       ✔ forcats 0.4.0  \n",
      "── Conflicts ────────────────────────────────────────── tidyverse_conflicts() ──\n",
      "✖ dplyr::filter() masks stats::filter()\n",
      "✖ dplyr::lag()    masks stats::lag()\n"
     ]
    }
   ],
   "source": [
    "# load tidyverse and the nycflights13 dataset\n",
    "library(nycflights13)\n",
    "library(tidyverse)"
   ]
  },
  {
   "cell_type": "markdown",
   "id": "sixth-statement",
   "metadata": {},
   "source": [
    " Get nycflights13\n",
    "- Name: r-nycflights13\n",
    "- Run:\n",
    " * conda activate \"your R environment\"\n",
    " * conda install r-nycflights13\n",
    " * launch jupyter notebook\n",
    "- Note: If you want to install other packages in R. Do it this way, and do not try installing from inside Jupyter Notebook."
   ]
  },
  {
   "cell_type": "code",
   "execution_count": 2,
   "id": "moral-velvet",
   "metadata": {
    "scrolled": false
   },
   "outputs": [
    {
     "name": "stdout",
     "output_type": "stream",
     "text": [
      "# A tibble: 336,776 x 19\n",
      "   year month   day dep_time sched_dep_time dep_delay arr_time sched_arr_time\n",
      "  <int> <int> <int>    <int>          <int>     <dbl>    <int>          <int>\n",
      "1  2013     1     1      517            515         2      830            819\n",
      "2  2013     1     1      533            529         4      850            830\n",
      "3  2013     1     1      542            540         2      923            850\n",
      "4  2013     1     1      544            545        -1     1004           1022\n",
      "5  2013     1     1      554            600        -6      812            837\n",
      "  arr_delay carrier flight tailnum origin dest  air_time distance  hour minute\n",
      "      <dbl> <chr>    <int> <chr>   <chr>  <chr>    <dbl>    <dbl> <dbl>  <dbl>\n",
      "1        11 UA        1545 N14228  EWR    IAH        227     1400     5     15\n",
      "2        20 UA        1714 N24211  LGA    IAH        227     1416     5     29\n",
      "3        33 AA        1141 N619AA  JFK    MIA        160     1089     5     40\n",
      "4       -18 B6         725 N804JB  JFK    BQN        183     1576     5     45\n",
      "5       -25 DL         461 N668DN  LGA    ATL        116      762     6      0\n",
      "  time_hour          \n",
      "  <dttm>             \n",
      "1 2013-01-01 05:00:00\n",
      "2 2013-01-01 05:00:00\n",
      "3 2013-01-01 05:00:00\n",
      "4 2013-01-01 05:00:00\n",
      "5 2013-01-01 06:00:00\n",
      "# … with 3.368e+05 more rows\n"
     ]
    }
   ],
   "source": [
    "#flights\n",
    "#print(nycflights13::flights, n = 5, width = 500) # indicating to run flights from the nycflights13 library\n",
    "print(flights, n = 5, width = 500)"
   ]
  },
  {
   "cell_type": "markdown",
   "id": "selected-amount",
   "metadata": {},
   "source": [
    "### Some types of variables in R\n",
    "- ```int```: integers\n",
    "- ```dbl```: \"double\" or real numbers in double precision\n",
    "- ```chr```: \"character\" vectors or strings\n",
    "- ```dttm```: \"date + time\"\n",
    "- ```lgl```: \"logical\" or vectors of Boolean values (i.e. ```TRUE``` or ```FALSE```)\n",
    "- ```date```: dates\n",
    "- ```fctr```: \"factor\" or a categorical variable with a fixed possible set of unique values\n",
    "- ```ord```: \"ordered\" or a categorical variable with an ordering on the possible values"
   ]
  },
  {
   "cell_type": "markdown",
   "id": "lucky-rapid",
   "metadata": {},
   "source": [
    "We will use the ```dplyr``` package to select subsets of and modify datasets in tibbles.\n",
    "- See [here](https://github.com/tidyverse/dplyr/issues/1857) for a discussion of why it is called ```dplyr```."
   ]
  },
  {
   "cell_type": "code",
   "execution_count": 11,
   "id": "former-regression",
   "metadata": {},
   "outputs": [
    {
     "name": "stdout",
     "output_type": "stream",
     "text": [
      "# A tibble: 842 x 19\n",
      "    year month   day dep_time sched_dep_time dep_delay arr_time sched_arr_time\n",
      "   <int> <int> <int>    <int>          <int>     <dbl>    <int>          <int>\n",
      " 1  2013     1     1      517            515         2      830            819\n",
      " 2  2013     1     1      533            529         4      850            830\n",
      " 3  2013     1     1      542            540         2      923            850\n",
      " 4  2013     1     1      544            545        -1     1004           1022\n",
      " 5  2013     1     1      554            600        -6      812            837\n",
      " 6  2013     1     1      554            558        -4      740            728\n",
      " 7  2013     1     1      555            600        -5      913            854\n",
      " 8  2013     1     1      557            600        -3      709            723\n",
      " 9  2013     1     1      557            600        -3      838            846\n",
      "10  2013     1     1      558            600        -2      753            745\n",
      "# … with 832 more rows, and 11 more variables: arr_delay <dbl>, carrier <chr>,\n",
      "#   flight <int>, tailnum <chr>, origin <chr>, dest <chr>, air_time <dbl>,\n",
      "#   distance <dbl>, hour <dbl>, minute <dbl>, time_hour <dttm>\n"
     ]
    }
   ],
   "source": [
    "# only look at the flights on January 1st\n",
    "print(filter(flights, month == 1, day == 1))"
   ]
  },
  {
   "cell_type": "markdown",
   "id": "uniform-bicycle",
   "metadata": {},
   "source": [
    "Functions in ```dplyr``` never modify the original dataframe."
   ]
  },
  {
   "cell_type": "code",
   "execution_count": 14,
   "id": "heard-precipitation",
   "metadata": {},
   "outputs": [
    {
     "name": "stdout",
     "output_type": "stream",
     "text": [
      "# A tibble: 336,776 x 19\n",
      "   year month   day dep_time sched_dep_time dep_delay arr_time sched_arr_time\n",
      "  <int> <int> <int>    <int>          <int>     <dbl>    <int>          <int>\n",
      "1  2013     1     1      517            515         2      830            819\n",
      "2  2013     1     1      533            529         4      850            830\n",
      "3  2013     1     1      542            540         2      923            850\n",
      "4  2013     1     1      544            545        -1     1004           1022\n",
      "5  2013     1     1      554            600        -6      812            837\n",
      "# … with 3.368e+05 more rows, and 11 more variables: arr_delay <dbl>,\n",
      "#   carrier <chr>, flight <int>, tailnum <chr>, origin <chr>, dest <chr>,\n",
      "#   air_time <dbl>, distance <dbl>, hour <dbl>, minute <dbl>, time_hour <dttm>\n",
      "# A tibble: 842 x 19\n",
      "   year month   day dep_time sched_dep_time dep_delay arr_time sched_arr_time\n",
      "  <int> <int> <int>    <int>          <int>     <dbl>    <int>          <int>\n",
      "1  2013     1     1      517            515         2      830            819\n",
      "2  2013     1     1      533            529         4      850            830\n",
      "3  2013     1     1      542            540         2      923            850\n",
      "4  2013     1     1      544            545        -1     1004           1022\n",
      "5  2013     1     1      554            600        -6      812            837\n",
      "# … with 837 more rows, and 11 more variables: arr_delay <dbl>, carrier <chr>,\n",
      "#   flight <int>, tailnum <chr>, origin <chr>, dest <chr>, air_time <dbl>,\n",
      "#   distance <dbl>, hour <dbl>, minute <dbl>, time_hour <dttm>\n"
     ]
    }
   ],
   "source": [
    "jan1_flights <- filter(flights, month == 1, day == 1)\n",
    "\n",
    "print(flights, n = 5)\n",
    "print(jan1_flights, n = 5)"
   ]
  },
  {
   "cell_type": "markdown",
   "id": "bored-hello",
   "metadata": {},
   "source": [
    "### Comparisons\n",
    "- ```==```: equal to\n",
    "- ```!=```: not equal to\n",
    "- ```<```: less than\n",
    "- ```>```: greater than\n",
    "- ```<=```: less than or equal to\n",
    "- ```>=```: greater than or equal to"
   ]
  },
  {
   "cell_type": "code",
   "execution_count": 15,
   "id": "portuguese-navigator",
   "metadata": {},
   "outputs": [
    {
     "data": {
      "text/html": [
       "TRUE"
      ],
      "text/latex": [
       "TRUE"
      ],
      "text/markdown": [
       "TRUE"
      ],
      "text/plain": [
       "[1] TRUE"
      ]
     },
     "metadata": {},
     "output_type": "display_data"
    },
    {
     "data": {
      "text/html": [
       "FALSE"
      ],
      "text/latex": [
       "FALSE"
      ],
      "text/markdown": [
       "FALSE"
      ],
      "text/plain": [
       "[1] FALSE"
      ]
     },
     "metadata": {},
     "output_type": "display_data"
    },
    {
     "data": {
      "text/html": [
       "FALSE"
      ],
      "text/latex": [
       "FALSE"
      ],
      "text/markdown": [
       "FALSE"
      ],
      "text/plain": [
       "[1] FALSE"
      ]
     },
     "metadata": {},
     "output_type": "display_data"
    },
    {
     "data": {
      "text/html": [
       "TRUE"
      ],
      "text/latex": [
       "TRUE"
      ],
      "text/markdown": [
       "TRUE"
      ],
      "text/plain": [
       "[1] TRUE"
      ]
     },
     "metadata": {},
     "output_type": "display_data"
    }
   ],
   "source": [
    "2 == 2\n",
    "2 != 2\n",
    "2 > 3\n",
    "2 <= 2"
   ]
  },
  {
   "cell_type": "code",
   "execution_count": 16,
   "id": "silent-standing",
   "metadata": {},
   "outputs": [
    {
     "data": {
      "text/html": [
       "FALSE"
      ],
      "text/latex": [
       "FALSE"
      ],
      "text/markdown": [
       "FALSE"
      ],
      "text/plain": [
       "[1] FALSE"
      ]
     },
     "metadata": {},
     "output_type": "display_data"
    },
    {
     "data": {
      "text/html": [
       "FALSE"
      ],
      "text/latex": [
       "FALSE"
      ],
      "text/markdown": [
       "FALSE"
      ],
      "text/plain": [
       "[1] FALSE"
      ]
     },
     "metadata": {},
     "output_type": "display_data"
    }
   ],
   "source": [
    "(1 / 49) * 49 == 1\n",
    "sqrt(2)**2 == 2"
   ]
  },
  {
   "cell_type": "code",
   "execution_count": null,
   "id": "daily-communications",
   "metadata": {},
   "outputs": [],
   "source": [
    "# use near to compare floating point numbers\n",
    "near((1 / 49) * 49,  1)\n",
    "near(sqrt(2)**2,  2)"
   ]
  },
  {
   "cell_type": "markdown",
   "id": "approved-uncle",
   "metadata": {},
   "source": [
    "Attempt: Create a new dataset consisting of all flights on the third day of every month after June."
   ]
  },
  {
   "cell_type": "code",
   "execution_count": 18,
   "id": "neutral-indie",
   "metadata": {},
   "outputs": [
    {
     "name": "stdout",
     "output_type": "stream",
     "text": [
      "# A tibble: 5,618 x 19\n",
      "    year month   day dep_time sched_dep_time dep_delay arr_time sched_arr_time\n",
      "   <int> <int> <int>    <int>          <int>     <dbl>    <int>          <int>\n",
      " 1  2013    10     3      453            500        -7      636            648\n",
      " 2  2013    10     3      512            517        -5      739            757\n",
      " 3  2013    10     3      541            545        -4      826            855\n",
      " 4  2013    10     3      541            545        -4      920            933\n",
      " 5  2013    10     3      546            545         1      822            827\n",
      " 6  2013    10     3      546            550        -4      917            932\n",
      " 7  2013    10     3      550            600       -10      646            708\n",
      " 8  2013    10     3      550            600       -10      844            858\n",
      " 9  2013    10     3      552            600        -8      651            659\n",
      "10  2013    10     3      552            600        -8      656            711\n",
      "# … with 5,608 more rows, and 11 more variables: arr_delay <dbl>,\n",
      "#   carrier <chr>, flight <int>, tailnum <chr>, origin <chr>, dest <chr>,\n",
      "#   air_time <dbl>, distance <dbl>, hour <dbl>, minute <dbl>, time_hour <dttm>\n"
     ]
    }
   ],
   "source": [
    "# all flights on the third day of every month after June, excluding June\n",
    "print(filter(flights, month > 6, day == 3))\n",
    "#print(filter(flights, month >= 7, day == 3))\n",
    "\n",
    "# all flights on the third day of every month after June, including June\n",
    "print(filter(flights, month >= 6, day == 3))"
   ]
  },
  {
   "cell_type": "markdown",
   "id": "accepted-retention",
   "metadata": {},
   "source": [
    "### Logical Operators"
   ]
  },
  {
   "cell_type": "markdown",
   "id": "palestinian-hardwood",
   "metadata": {},
   "source": [
    "```filter()``` automatically interprets a list of comparisons using the ```&``` or \"and\" logical operator\n",
    "- ```&``` and\n",
    "- ```|```: or\n",
    "- ```!```: not\n",
    "\n",
    "Examples: \n",
    "\n",
    "```x & y``` -> \"x and y\"\n",
    "\n",
    "```x | !y``` -> \"x or not y\"\n",
    "\n",
    "![logical_operators](https://d33wubrfki0l68.cloudfront.net/01f4b6d39d2be8269740a3ad7946faa79f7243cf/8369a/diagrams/transform-logical.png)"
   ]
  },
  {
   "cell_type": "code",
   "execution_count": 19,
   "id": "wrong-consequence",
   "metadata": {},
   "outputs": [
    {
     "name": "stdout",
     "output_type": "stream",
     "text": [
      "# A tibble: 176,211 x 19\n",
      "    year month   day dep_time sched_dep_time dep_delay arr_time sched_arr_time\n",
      "   <int> <int> <int>    <int>          <int>     <dbl>    <int>          <int>\n",
      " 1  2013     1     3       32           2359        33      504            442\n",
      " 2  2013     1     3       50           2145       185      203           2311\n",
      " 3  2013     1     3      235           2359       156      700            437\n",
      " 4  2013     1     3      458            500        -2      650            650\n",
      " 5  2013     1     3      520            525        -5      830            820\n",
      " 6  2013     1     3      532            530         2      851            831\n",
      " 7  2013     1     3      535            540        -5      835            850\n",
      " 8  2013     1     3      543            545        -2     1009           1022\n",
      " 9  2013     1     3      550            600       -10      843            846\n",
      "10  2013     1     3      552            600        -8      759            801\n",
      "# … with 176,201 more rows, and 11 more variables: arr_delay <dbl>,\n",
      "#   carrier <chr>, flight <int>, tailnum <chr>, origin <chr>, dest <chr>,\n",
      "#   air_time <dbl>, distance <dbl>, hour <dbl>, minute <dbl>, time_hour <dttm>\n"
     ]
    }
   ],
   "source": [
    "# all flights on the third day of every month after June, excluding June\n",
    "print(filter(flights, (month > 6) & (day == 3)))"
   ]
  },
  {
   "cell_type": "code",
   "execution_count": 20,
   "id": "confidential-optimum",
   "metadata": {},
   "outputs": [
    {
     "name": "stdout",
     "output_type": "stream",
     "text": [
      "# A tibble: 176,211 x 19\n",
      "    year month   day dep_time sched_dep_time dep_delay arr_time sched_arr_time\n",
      "   <int> <int> <int>    <int>          <int>     <dbl>    <int>          <int>\n",
      " 1  2013     1     3       32           2359        33      504            442\n",
      " 2  2013     1     3       50           2145       185      203           2311\n",
      " 3  2013     1     3      235           2359       156      700            437\n",
      " 4  2013     1     3      458            500        -2      650            650\n",
      " 5  2013     1     3      520            525        -5      830            820\n",
      " 6  2013     1     3      532            530         2      851            831\n",
      " 7  2013     1     3      535            540        -5      835            850\n",
      " 8  2013     1     3      543            545        -2     1009           1022\n",
      " 9  2013     1     3      550            600       -10      843            846\n",
      "10  2013     1     3      552            600        -8      759            801\n",
      "# … with 176,201 more rows, and 11 more variables: arr_delay <dbl>,\n",
      "#   carrier <chr>, flight <int>, tailnum <chr>, origin <chr>, dest <chr>,\n",
      "#   air_time <dbl>, distance <dbl>, hour <dbl>, minute <dbl>, time_hour <dttm>\n"
     ]
    }
   ],
   "source": [
    "# all flights on the third day of a month OR on a month after June, excluding June\n",
    "print(filter(flights, (month > 6) | (day == 3)))"
   ]
  },
  {
   "cell_type": "code",
   "execution_count": null,
   "id": "ruled-enclosure",
   "metadata": {},
   "outputs": [],
   "source": [
    "# all flights (NOT on the third day of a month) OR on a month after June, excluding June\n",
    "print(filter(flights, (month > 6) | !(day == 3)))"
   ]
  },
  {
   "cell_type": "code",
   "execution_count": null,
   "id": "promising-ukraine",
   "metadata": {},
   "outputs": [],
   "source": [
    "# all flights NOT (on the third day of a month OR on a month after June, excluding June)\n",
    "print(filter(flights, !((month > 6) | (day == 3))))"
   ]
  },
  {
   "cell_type": "code",
   "execution_count": 21,
   "id": "collected-liver",
   "metadata": {},
   "outputs": [
    {
     "name": "stdout",
     "output_type": "stream",
     "text": [
      "# A tibble: 336,776 x 19\n",
      "    year month   day dep_time sched_dep_time dep_delay arr_time sched_arr_time\n",
      "   <int> <int> <int>    <int>          <int>     <dbl>    <int>          <int>\n",
      " 1  2013     1     1      517            515         2      830            819\n",
      " 2  2013     1     1      533            529         4      850            830\n",
      " 3  2013     1     1      542            540         2      923            850\n",
      " 4  2013     1     1      544            545        -1     1004           1022\n",
      " 5  2013     1     1      554            600        -6      812            837\n",
      " 6  2013     1     1      554            558        -4      740            728\n",
      " 7  2013     1     1      555            600        -5      913            854\n",
      " 8  2013     1     1      557            600        -3      709            723\n",
      " 9  2013     1     1      557            600        -3      838            846\n",
      "10  2013     1     1      558            600        -2      753            745\n",
      "   arr_delay carrier flight tailnum origin dest  air_time distance  hour minute\n",
      "       <dbl> <chr>    <int> <chr>   <chr>  <chr>    <dbl>    <dbl> <dbl>  <dbl>\n",
      " 1        11 UA        1545 N14228  EWR    IAH        227     1400     5     15\n",
      " 2        20 UA        1714 N24211  LGA    IAH        227     1416     5     29\n",
      " 3        33 AA        1141 N619AA  JFK    MIA        160     1089     5     40\n",
      " 4       -18 B6         725 N804JB  JFK    BQN        183     1576     5     45\n",
      " 5       -25 DL         461 N668DN  LGA    ATL        116      762     6      0\n",
      " 6        12 UA        1696 N39463  EWR    ORD        150      719     5     58\n",
      " 7        19 B6         507 N516JB  EWR    FLL        158     1065     6      0\n",
      " 8       -14 EV        5708 N829AS  LGA    IAD         53      229     6      0\n",
      " 9        -8 B6          79 N593JB  JFK    MCO        140      944     6      0\n",
      "10         8 AA         301 N3ALAA  LGA    ORD        138      733     6      0\n",
      "   time_hour          \n",
      "   <dttm>             \n",
      " 1 2013-01-01 05:00:00\n",
      " 2 2013-01-01 05:00:00\n",
      " 3 2013-01-01 05:00:00\n",
      " 4 2013-01-01 05:00:00\n",
      " 5 2013-01-01 06:00:00\n",
      " 6 2013-01-01 05:00:00\n",
      " 7 2013-01-01 06:00:00\n",
      " 8 2013-01-01 06:00:00\n",
      " 9 2013-01-01 06:00:00\n",
      "10 2013-01-01 06:00:00\n",
      "# … with 336,766 more rows\n"
     ]
    }
   ],
   "source": [
    "print(flights, width = 500)"
   ]
  },
  {
   "cell_type": "markdown",
   "id": "ambient-black",
   "metadata": {},
   "source": [
    "Attempt: Create the following datasets (hint: use parentheses)\n",
    "- All flights on the third day or fifth day of each month.\n",
    "- All flights departing after 8:00am, excluding flights from United Airlines (flights w/ carrier UA)\n",
    "- All flights with destination Miami (MIA) or with an origin other than JFK"
   ]
  },
  {
   "cell_type": "code",
   "execution_count": 5,
   "id": "single-austin",
   "metadata": {},
   "outputs": [
    {
     "name": "stdout",
     "output_type": "stream",
     "text": [
      "# A tibble: 228,811 x 19\n",
      "    year month   day dep_time sched_dep_time dep_delay arr_time sched_arr_time\n",
      "   <int> <int> <int>    <int>          <int>     <dbl>    <int>          <int>\n",
      " 1  2013     1     1      517            515         2      830            819\n",
      " 2  2013     1     1      533            529         4      850            830\n",
      " 3  2013     1     1      542            540         2      923            850\n",
      " 4  2013     1     1      554            600        -6      812            837\n",
      " 5  2013     1     1      554            558        -4      740            728\n",
      " 6  2013     1     1      555            600        -5      913            854\n",
      " 7  2013     1     1      557            600        -3      709            723\n",
      " 8  2013     1     1      558            600        -2      753            745\n",
      " 9  2013     1     1      558            600        -2      923            937\n",
      "10  2013     1     1      559            600        -1      941            910\n",
      "# … with 228,801 more rows, and 11 more variables: arr_delay <dbl>,\n",
      "#   carrier <chr>, flight <int>, tailnum <chr>, origin <chr>, dest <chr>,\n",
      "#   air_time <dbl>, distance <dbl>, hour <dbl>, minute <dbl>, time_hour <dttm>\n"
     ]
    }
   ],
   "source": [
    "print(filter(flights, dest == \"MIA\" | (origin != \"JFK\")))"
   ]
  },
  {
   "cell_type": "code",
   "execution_count": 4,
   "id": "breeding-heart",
   "metadata": {},
   "outputs": [
    {
     "name": "stdout",
     "output_type": "stream",
     "text": [
      "# A tibble: 22,069 x 19\n",
      "    year month   day dep_time sched_dep_time dep_delay arr_time sched_arr_time\n",
      "   <int> <int> <int>    <int>          <int>     <dbl>    <int>          <int>\n",
      " 1  2013     1     3       32           2359        33      504            442\n",
      " 2  2013     1     3       50           2145       185      203           2311\n",
      " 3  2013     1     3      235           2359       156      700            437\n",
      " 4  2013     1     3      458            500        -2      650            650\n",
      " 5  2013     1     3      520            525        -5      830            820\n",
      " 6  2013     1     3      532            530         2      851            831\n",
      " 7  2013     1     3      535            540        -5      835            850\n",
      " 8  2013     1     3      543            545        -2     1009           1022\n",
      " 9  2013     1     3      550            600       -10      843            846\n",
      "10  2013     1     3      552            600        -8      759            801\n",
      "# … with 2.206e+04 more rows, and 11 more variables: arr_delay <dbl>,\n",
      "#   carrier <chr>, flight <int>, tailnum <chr>, origin <chr>, dest <chr>,\n",
      "#   air_time <dbl>, distance <dbl>, hour <dbl>, minute <dbl>, time_hour <dttm>\n"
     ]
    }
   ],
   "source": [
    "# All flights on the third day or fifth day of each month.\n",
    "print(filter(flights, day == 3 | day == 5), n = 10)"
   ]
  },
  {
   "cell_type": "code",
   "execution_count": 29,
   "id": "configured-amount",
   "metadata": {},
   "outputs": [
    {
     "name": "stdout",
     "output_type": "stream",
     "text": [
      "# A tibble: 227,794 x 19\n",
      "    year month   day dep_time sched_dep_time dep_delay arr_time sched_arr_time\n",
      "   <int> <int> <int>    <int>          <int>     <dbl>    <int>          <int>\n",
      " 1  2013     1     1      801            805        -4      900            919\n",
      " 2  2013     1     1      803            810        -7      903            925\n",
      " 3  2013     1     1      804            810        -6     1103           1116\n",
      " 4  2013     1     1      805            805         0     1015           1005\n",
      " 5  2013     1     1      805            800         5     1118           1106\n",
      " 6  2013     1     1      805            815       -10     1006           1010\n",
      " 7  2013     1     1      807            810        -3     1043           1043\n",
      " 8  2013     1     1      809            815        -6     1043           1050\n",
      " 9  2013     1     1      810            810         0     1048           1037\n",
      "10  2013     1     1      810            815        -5     1100           1128\n",
      "# … with 227,784 more rows, and 11 more variables: arr_delay <dbl>,\n",
      "#   carrier <chr>, flight <int>, tailnum <chr>, origin <chr>, dest <chr>,\n",
      "#   air_time <dbl>, distance <dbl>, hour <dbl>, minute <dbl>, time_hour <dttm>\n"
     ]
    }
   ],
   "source": [
    "# all flights departing after 8:00am and none of those flights can be  from UA\n",
    "print(filter(flights, dep_time > 0800, carrier != \"UA\"))"
   ]
  },
  {
   "cell_type": "code",
   "execution_count": null,
   "id": "atlantic-brother",
   "metadata": {},
   "outputs": [],
   "source": [
    "# all flights departing after 8:00am or flight not from United Airlines\n",
    "print(filter(flights, dep_time > 0800 | carrier != \"UA\"))"
   ]
  },
  {
   "cell_type": "markdown",
   "id": "comfortable-thomas",
   "metadata": {},
   "source": [
    "Instead of stringing together many \"or\"s we can use ```%in%```.\n",
    "\n",
    "The function ```c( , , ... , )``` creates a *vector*."
   ]
  },
  {
   "cell_type": "code",
   "execution_count": 30,
   "id": "connected-paper",
   "metadata": {},
   "outputs": [
    {
     "name": "stdout",
     "output_type": "stream",
     "text": [
      "# A tibble: 28,943 x 19\n",
      "    year month   day dep_time sched_dep_time dep_delay arr_time sched_arr_time\n",
      "   <int> <int> <int>    <int>          <int>     <dbl>    <int>          <int>\n",
      " 1  2013     1     1      542            540         2      923            850\n",
      " 2  2013     1     1      554            600        -6      812            837\n",
      " 3  2013     1     1      600            600         0      837            825\n",
      " 4  2013     1     1      606            610        -4      858            910\n",
      " 5  2013     1     1      606            610        -4      837            845\n",
      " 6  2013     1     1      607            607         0      858            915\n",
      " 7  2013     1     1      615            615         0      833            842\n",
      " 8  2013     1     1      623            610        13      920            915\n",
      " 9  2013     1     1      655            700        -5     1002           1020\n",
      "10  2013     1     1      658            700        -2      944            939\n",
      "   arr_delay carrier flight tailnum origin dest  air_time distance  hour minute\n",
      "       <dbl> <chr>    <int> <chr>   <chr>  <chr>    <dbl>    <dbl> <dbl>  <dbl>\n",
      " 1        33 AA        1141 N619AA  JFK    MIA        160     1089     5     40\n",
      " 2       -25 DL         461 N668DN  LGA    ATL        116      762     6      0\n",
      " 3        12 MQ        4650 N542MQ  LGA    ATL        134      762     6      0\n",
      " 4       -12 AA        1895 N633AA  EWR    MIA        152     1085     6     10\n",
      " 5        -8 DL        1743 N3739P  JFK    ATL        128      760     6     10\n",
      " 6       -17 UA        1077 N53442  EWR    MIA        157     1085     6      7\n",
      " 7        -9 DL         575 N326NB  EWR    ATL        120      746     6     15\n",
      " 8         5 AA        1837 N3EMAA  LGA    MIA        153     1096     6     10\n",
      " 9       -18 DL        2003 N997DL  LGA    MIA        161     1096     7      0\n",
      "10         5 DL        1547 N6703D  LGA    ATL        126      762     7      0\n",
      "# … with 28,933 more rows, and 1 more variable: time_hour <dttm>\n"
     ]
    }
   ],
   "source": [
    "# all flights going to Miami or Atlanta\n",
    "# literally: all flights whose destination is in the vector c(\"MIA\", \"ATL\")\n",
    "print(filter(flights, dest %in% c(\"MIA\", \"ATL\")), width = 100)"
   ]
  },
  {
   "cell_type": "code",
   "execution_count": 31,
   "id": "southern-union",
   "metadata": {},
   "outputs": [
    {
     "name": "stdout",
     "output_type": "stream",
     "text": [
      "# A tibble: 307,833 x 19\n",
      "    year month   day dep_time sched_dep_time dep_delay arr_time sched_arr_time\n",
      "   <int> <int> <int>    <int>          <int>     <dbl>    <int>          <int>\n",
      " 1  2013     1     1      517            515         2      830            819\n",
      " 2  2013     1     1      533            529         4      850            830\n",
      " 3  2013     1     1      544            545        -1     1004           1022\n",
      " 4  2013     1     1      554            558        -4      740            728\n",
      " 5  2013     1     1      555            600        -5      913            854\n",
      " 6  2013     1     1      557            600        -3      709            723\n",
      " 7  2013     1     1      557            600        -3      838            846\n",
      " 8  2013     1     1      558            600        -2      753            745\n",
      " 9  2013     1     1      558            600        -2      849            851\n",
      "10  2013     1     1      558            600        -2      853            856\n",
      "   arr_delay carrier flight tailnum origin dest  air_time distance  hour minute\n",
      "       <dbl> <chr>    <int> <chr>   <chr>  <chr>    <dbl>    <dbl> <dbl>  <dbl>\n",
      " 1        11 UA        1545 N14228  EWR    IAH        227     1400     5     15\n",
      " 2        20 UA        1714 N24211  LGA    IAH        227     1416     5     29\n",
      " 3       -18 B6         725 N804JB  JFK    BQN        183     1576     5     45\n",
      " 4        12 UA        1696 N39463  EWR    ORD        150      719     5     58\n",
      " 5        19 B6         507 N516JB  EWR    FLL        158     1065     6      0\n",
      " 6       -14 EV        5708 N829AS  LGA    IAD         53      229     6      0\n",
      " 7        -8 B6          79 N593JB  JFK    MCO        140      944     6      0\n",
      " 8         8 AA         301 N3ALAA  LGA    ORD        138      733     6      0\n",
      " 9        -2 B6          49 N793JB  JFK    PBI        149     1028     6      0\n",
      "10        -3 B6          71 N657JB  JFK    TPA        158     1005     6      0\n",
      "# … with 307,823 more rows, and 1 more variable: time_hour <dttm>\n"
     ]
    }
   ],
   "source": [
    "# all flights excluding those going to Miami or Atlanta\n",
    "# literally: all flights where destination is NOT in the vector c(\"MIA\", \"ATL\")\n",
    "print(filter(flights, !(dest %in% c(\"MIA\", \"ATL\"))), width = 100)"
   ]
  },
  {
   "cell_type": "code",
   "execution_count": 7,
   "id": "exotic-denial",
   "metadata": {
    "scrolled": true
   },
   "outputs": [
    {
     "data": {
      "text/html": [
       "<table>\n",
       "<thead><tr><th scope=col>name</th><th scope=col>genus</th><th scope=col>vore</th><th scope=col>order</th><th scope=col>conservation</th><th scope=col>sleep_total</th><th scope=col>sleep_rem</th><th scope=col>sleep_cycle</th><th scope=col>awake</th><th scope=col>brainwt</th><th scope=col>bodywt</th></tr></thead>\n",
       "<tbody>\n",
       "\t<tr><td>Cheetah                   </td><td>Acinonyx                  </td><td>carni                     </td><td>Carnivora                 </td><td>lc                        </td><td>12.1                      </td><td> NA                       </td><td>       NA                 </td><td>11.9                      </td><td>     NA                   </td><td>  50.000                  </td></tr>\n",
       "\t<tr><td>Owl monkey                </td><td>Aotus                     </td><td>omni                      </td><td>Primates                  </td><td>NA                        </td><td>17.0                      </td><td>1.8                       </td><td>       NA                 </td><td> 7.0                      </td><td>0.01550                   </td><td>   0.480                  </td></tr>\n",
       "\t<tr><td>Mountain beaver           </td><td>Aplodontia                </td><td>herbi                     </td><td>Rodentia                  </td><td>nt                        </td><td>14.4                      </td><td>2.4                       </td><td>       NA                 </td><td> 9.6                      </td><td>     NA                   </td><td>   1.350                  </td></tr>\n",
       "\t<tr><td>Greater short-tailed shrew</td><td>Blarina                   </td><td>omni                      </td><td>Soricomorpha              </td><td>lc                        </td><td>14.9                      </td><td>2.3                       </td><td>0.1333333                 </td><td> 9.1                      </td><td>0.00029                   </td><td>   0.019                  </td></tr>\n",
       "\t<tr><td>Cow                       </td><td>Bos                       </td><td>herbi                     </td><td>Artiodactyla              </td><td>domesticated              </td><td> 4.0                      </td><td>0.7                       </td><td>0.6666667                 </td><td>20.0                      </td><td>0.42300                   </td><td> 600.000                  </td></tr>\n",
       "\t<tr><td>Three-toed sloth          </td><td>Bradypus                  </td><td>herbi                     </td><td>Pilosa                    </td><td>NA                        </td><td>14.4                      </td><td>2.2                       </td><td>0.7666667                 </td><td> 9.6                      </td><td>     NA                   </td><td>   3.850                  </td></tr>\n",
       "\t<tr><td>Northern fur seal         </td><td>Callorhinus               </td><td>carni                     </td><td>Carnivora                 </td><td>vu                        </td><td> 8.7                      </td><td>1.4                       </td><td>0.3833333                 </td><td>15.3                      </td><td>     NA                   </td><td>  20.490                  </td></tr>\n",
       "\t<tr><td>Vesper mouse              </td><td>Calomys                   </td><td>NA                        </td><td>Rodentia                  </td><td>NA                        </td><td> 7.0                      </td><td> NA                       </td><td>       NA                 </td><td>17.0                      </td><td>     NA                   </td><td>   0.045                  </td></tr>\n",
       "\t<tr><td>Dog                       </td><td>Canis                     </td><td>carni                     </td><td>Carnivora                 </td><td>domesticated              </td><td>10.1                      </td><td>2.9                       </td><td>0.3333333                 </td><td>13.9                      </td><td>0.07000                   </td><td>  14.000                  </td></tr>\n",
       "\t<tr><td>Roe deer                  </td><td>Capreolus                 </td><td>herbi                     </td><td>Artiodactyla              </td><td>lc                        </td><td> 3.0                      </td><td> NA                       </td><td>       NA                 </td><td>21.0                      </td><td>0.09820                   </td><td>  14.800                  </td></tr>\n",
       "\t<tr><td>Goat                      </td><td>Capri                     </td><td>herbi                     </td><td>Artiodactyla              </td><td>lc                        </td><td> 5.3                      </td><td>0.6                       </td><td>       NA                 </td><td>18.7                      </td><td>0.11500                   </td><td>  33.500                  </td></tr>\n",
       "\t<tr><td>Guinea pig                </td><td>Cavis                     </td><td>herbi                     </td><td>Rodentia                  </td><td>domesticated              </td><td> 9.4                      </td><td>0.8                       </td><td>0.2166667                 </td><td>14.6                      </td><td>0.00550                   </td><td>   0.728                  </td></tr>\n",
       "\t<tr><td>Grivet                    </td><td>Cercopithecus             </td><td>omni                      </td><td>Primates                  </td><td>lc                        </td><td>10.0                      </td><td>0.7                       </td><td>       NA                 </td><td>14.0                      </td><td>     NA                   </td><td>   4.750                  </td></tr>\n",
       "\t<tr><td>Chinchilla                </td><td>Chinchilla                </td><td>herbi                     </td><td>Rodentia                  </td><td>domesticated              </td><td>12.5                      </td><td>1.5                       </td><td>0.1166667                 </td><td>11.5                      </td><td>0.00640                   </td><td>   0.420                  </td></tr>\n",
       "\t<tr><td>Star-nosed mole           </td><td>Condylura                 </td><td>omni                      </td><td>Soricomorpha              </td><td>lc                        </td><td>10.3                      </td><td>2.2                       </td><td>       NA                 </td><td>13.7                      </td><td>0.00100                   </td><td>   0.060                  </td></tr>\n",
       "\t<tr><td>African giant pouched rat </td><td>Cricetomys                </td><td>omni                      </td><td>Rodentia                  </td><td>NA                        </td><td> 8.3                      </td><td>2.0                       </td><td>       NA                 </td><td>15.7                      </td><td>0.00660                   </td><td>   1.000                  </td></tr>\n",
       "\t<tr><td>Lesser short-tailed shrew </td><td>Cryptotis                 </td><td>omni                      </td><td>Soricomorpha              </td><td>lc                        </td><td> 9.1                      </td><td>1.4                       </td><td>0.1500000                 </td><td>14.9                      </td><td>0.00014                   </td><td>   0.005                  </td></tr>\n",
       "\t<tr><td>Long-nosed armadillo      </td><td>Dasypus                   </td><td>carni                     </td><td>Cingulata                 </td><td>lc                        </td><td>17.4                      </td><td>3.1                       </td><td>0.3833333                 </td><td> 6.6                      </td><td>0.01080                   </td><td>   3.500                  </td></tr>\n",
       "\t<tr><td>Tree hyrax                </td><td>Dendrohyrax               </td><td>herbi                     </td><td>Hyracoidea                </td><td>lc                        </td><td> 5.3                      </td><td>0.5                       </td><td>       NA                 </td><td>18.7                      </td><td>0.01230                   </td><td>   2.950                  </td></tr>\n",
       "\t<tr><td>North American Opossum    </td><td>Didelphis                 </td><td>omni                      </td><td>Didelphimorphia           </td><td>lc                        </td><td>18.0                      </td><td>4.9                       </td><td>0.3333333                 </td><td> 6.0                      </td><td>0.00630                   </td><td>   1.700                  </td></tr>\n",
       "\t<tr><td>Asian elephant            </td><td>Elephas                   </td><td>herbi                     </td><td>Proboscidea               </td><td>en                        </td><td> 3.9                      </td><td> NA                       </td><td>       NA                 </td><td>20.1                      </td><td>4.60300                   </td><td>2547.000                  </td></tr>\n",
       "\t<tr><td>Big brown bat             </td><td>Eptesicus                 </td><td>insecti                   </td><td>Chiroptera                </td><td>lc                        </td><td>19.7                      </td><td>3.9                       </td><td>0.1166667                 </td><td> 4.3                      </td><td>0.00030                   </td><td>   0.023                  </td></tr>\n",
       "\t<tr><td>Horse                     </td><td>Equus                     </td><td>herbi                     </td><td>Perissodactyla            </td><td>domesticated              </td><td> 2.9                      </td><td>0.6                       </td><td>1.0000000                 </td><td>21.1                      </td><td>0.65500                   </td><td> 521.000                  </td></tr>\n",
       "\t<tr><td>Donkey                    </td><td>Equus                     </td><td>herbi                     </td><td>Perissodactyla            </td><td>domesticated              </td><td> 3.1                      </td><td>0.4                       </td><td>       NA                 </td><td>20.9                      </td><td>0.41900                   </td><td> 187.000                  </td></tr>\n",
       "\t<tr><td>European hedgehog         </td><td>Erinaceus                 </td><td>omni                      </td><td>Erinaceomorpha            </td><td>lc                        </td><td>10.1                      </td><td>3.5                       </td><td>0.2833333                 </td><td>13.9                      </td><td>0.00350                   </td><td>   0.770                  </td></tr>\n",
       "\t<tr><td>Patas monkey              </td><td>Erythrocebus              </td><td>omni                      </td><td>Primates                  </td><td>lc                        </td><td>10.9                      </td><td>1.1                       </td><td>       NA                 </td><td>13.1                      </td><td>0.11500                   </td><td>  10.000                  </td></tr>\n",
       "\t<tr><td>Western american chipmunk </td><td>Eutamias                  </td><td>herbi                     </td><td>Rodentia                  </td><td>NA                        </td><td>14.9                      </td><td> NA                       </td><td>       NA                 </td><td> 9.1                      </td><td>     NA                   </td><td>   0.071                  </td></tr>\n",
       "\t<tr><td>Domestic cat              </td><td>Felis                     </td><td>carni                     </td><td>Carnivora                 </td><td>domesticated              </td><td>12.5                      </td><td>3.2                       </td><td>0.4166667                 </td><td>11.5                      </td><td>0.02560                   </td><td>   3.300                  </td></tr>\n",
       "\t<tr><td>Galago                    </td><td>Galago                    </td><td>omni                      </td><td>Primates                  </td><td>NA                        </td><td> 9.8                      </td><td>1.1                       </td><td>0.5500000                 </td><td>14.2                      </td><td>0.00500                   </td><td>   0.200                  </td></tr>\n",
       "\t<tr><td>Giraffe                   </td><td>Giraffa                   </td><td>herbi                     </td><td>Artiodactyla              </td><td>cd                        </td><td> 1.9                      </td><td>0.4                       </td><td>       NA                 </td><td>22.1                      </td><td>     NA                   </td><td> 899.995                  </td></tr>\n",
       "\t<tr><td>...</td><td>...</td><td>...</td><td>...</td><td>...</td><td>...</td><td>...</td><td>...</td><td>...</td><td>...</td><td>...</td></tr>\n",
       "\t<tr><td>Baboon                        </td><td>Papio                         </td><td>omni                          </td><td>Primates                      </td><td>NA                            </td><td> 9.4                          </td><td>1.0                           </td><td>0.6666667                     </td><td>14.60                         </td><td>0.18000                       </td><td> 25.235                       </td></tr>\n",
       "\t<tr><td>Desert hedgehog               </td><td>Paraechinus                   </td><td>NA                            </td><td>Erinaceomorpha                </td><td>lc                            </td><td>10.3                          </td><td>2.7                           </td><td>       NA                     </td><td>13.70                         </td><td>0.00240                       </td><td>  0.550                       </td></tr>\n",
       "\t<tr><td>Potto                         </td><td>Perodicticus                  </td><td>omni                          </td><td>Primates                      </td><td>lc                            </td><td>11.0                          </td><td> NA                           </td><td>       NA                     </td><td>13.00                         </td><td>     NA                       </td><td>  1.100                       </td></tr>\n",
       "\t<tr><td>Deer mouse                    </td><td>Peromyscus                    </td><td>NA                            </td><td>Rodentia                      </td><td>NA                            </td><td>11.5                          </td><td> NA                           </td><td>       NA                     </td><td>12.50                         </td><td>     NA                       </td><td>  0.021                       </td></tr>\n",
       "\t<tr><td>Phalanger                     </td><td>Phalanger                     </td><td>NA                            </td><td>Diprotodontia                 </td><td>NA                            </td><td>13.7                          </td><td>1.8                           </td><td>       NA                     </td><td>10.30                         </td><td>0.01140                       </td><td>  1.620                       </td></tr>\n",
       "\t<tr><td>Caspian seal                  </td><td>Phoca                         </td><td>carni                         </td><td>Carnivora                     </td><td>vu                            </td><td> 3.5                          </td><td>0.4                           </td><td>       NA                     </td><td>20.50                         </td><td>     NA                       </td><td> 86.000                       </td></tr>\n",
       "\t<tr><td>Common porpoise               </td><td>Phocoena                      </td><td>carni                         </td><td>Cetacea                       </td><td>vu                            </td><td> 5.6                          </td><td> NA                           </td><td>       NA                     </td><td>18.45                         </td><td>     NA                       </td><td> 53.180                       </td></tr>\n",
       "\t<tr><td>Potoroo                       </td><td>Potorous                      </td><td>herbi                         </td><td>Diprotodontia                 </td><td>NA                            </td><td>11.1                          </td><td>1.5                           </td><td>       NA                     </td><td>12.90                         </td><td>     NA                       </td><td>  1.100                       </td></tr>\n",
       "\t<tr><td>Giant armadillo               </td><td>Priodontes                    </td><td>insecti                       </td><td>Cingulata                     </td><td>en                            </td><td>18.1                          </td><td>6.1                           </td><td>       NA                     </td><td> 5.90                         </td><td>0.08100                       </td><td> 60.000                       </td></tr>\n",
       "\t<tr><td>Rock hyrax                    </td><td>Procavia                      </td><td>NA                            </td><td>Hyracoidea                    </td><td>lc                            </td><td> 5.4                          </td><td>0.5                           </td><td>       NA                     </td><td>18.60                         </td><td>0.02100                       </td><td>  3.600                       </td></tr>\n",
       "\t<tr><td>Laboratory rat                </td><td>Rattus                        </td><td>herbi                         </td><td>Rodentia                      </td><td>lc                            </td><td>13.0                          </td><td>2.4                           </td><td>0.1833333                     </td><td>11.00                         </td><td>0.00190                       </td><td>  0.320                       </td></tr>\n",
       "\t<tr><td>African striped mouse         </td><td>Rhabdomys                     </td><td>omni                          </td><td>Rodentia                      </td><td>NA                            </td><td> 8.7                          </td><td> NA                           </td><td>       NA                     </td><td>15.30                         </td><td>     NA                       </td><td>  0.044                       </td></tr>\n",
       "\t<tr><td>Squirrel monkey               </td><td>Saimiri                       </td><td>omni                          </td><td>Primates                      </td><td>NA                            </td><td> 9.6                          </td><td>1.4                           </td><td>       NA                     </td><td>14.40                         </td><td>0.02000                       </td><td>  0.743                       </td></tr>\n",
       "\t<tr><td>Eastern american mole         </td><td>Scalopus                      </td><td>insecti                       </td><td>Soricomorpha                  </td><td>lc                            </td><td> 8.4                          </td><td>2.1                           </td><td>0.1666667                     </td><td>15.60                         </td><td>0.00120                       </td><td>  0.075                       </td></tr>\n",
       "\t<tr><td>Cotton rat                    </td><td>Sigmodon                      </td><td>herbi                         </td><td>Rodentia                      </td><td>NA                            </td><td>11.3                          </td><td>1.1                           </td><td>0.1500000                     </td><td>12.70                         </td><td>0.00118                       </td><td>  0.148                       </td></tr>\n",
       "\t<tr><td>Mole rat                      </td><td>Spalax                        </td><td>NA                            </td><td>Rodentia                      </td><td>NA                            </td><td>10.6                          </td><td>2.4                           </td><td>       NA                     </td><td>13.40                         </td><td>0.00300                       </td><td>  0.122                       </td></tr>\n",
       "\t<tr><td>Arctic ground squirrel        </td><td>Spermophilus                  </td><td>herbi                         </td><td>Rodentia                      </td><td>lc                            </td><td>16.6                          </td><td> NA                           </td><td>       NA                     </td><td> 7.40                         </td><td>0.00570                       </td><td>  0.920                       </td></tr>\n",
       "\t<tr><td>Thirteen-lined ground squirrel</td><td>Spermophilus                  </td><td>herbi                         </td><td>Rodentia                      </td><td>lc                            </td><td>13.8                          </td><td>3.4                           </td><td>0.2166667                     </td><td>10.20                         </td><td>0.00400                       </td><td>  0.101                       </td></tr>\n",
       "\t<tr><td>Golden-mantled ground squirrel</td><td>Spermophilus                  </td><td>herbi                         </td><td>Rodentia                      </td><td>lc                            </td><td>15.9                          </td><td>3.0                           </td><td>       NA                     </td><td> 8.10                         </td><td>     NA                       </td><td>  0.205                       </td></tr>\n",
       "\t<tr><td>Musk shrew                    </td><td>Suncus                        </td><td>NA                            </td><td>Soricomorpha                  </td><td>NA                            </td><td>12.8                          </td><td>2.0                           </td><td>0.1833333                     </td><td>11.20                         </td><td>0.00033                       </td><td>  0.048                       </td></tr>\n",
       "\t<tr><td>Pig                           </td><td>Sus                           </td><td>omni                          </td><td>Artiodactyla                  </td><td>domesticated                  </td><td> 9.1                          </td><td>2.4                           </td><td>0.5000000                     </td><td>14.90                         </td><td>0.18000                       </td><td> 86.250                       </td></tr>\n",
       "\t<tr><td>Short-nosed echidna           </td><td>Tachyglossus                  </td><td>insecti                       </td><td>Monotremata                   </td><td>NA                            </td><td> 8.6                          </td><td> NA                           </td><td>       NA                     </td><td>15.40                         </td><td>0.02500                       </td><td>  4.500                       </td></tr>\n",
       "\t<tr><td>Eastern american chipmunk     </td><td>Tamias                        </td><td>herbi                         </td><td>Rodentia                      </td><td>NA                            </td><td>15.8                          </td><td> NA                           </td><td>       NA                     </td><td> 8.20                         </td><td>     NA                       </td><td>  0.112                       </td></tr>\n",
       "\t<tr><td>Brazilian tapir               </td><td>Tapirus                       </td><td>herbi                         </td><td>Perissodactyla                </td><td>vu                            </td><td> 4.4                          </td><td>1.0                           </td><td>0.9000000                     </td><td>19.60                         </td><td>0.16900                       </td><td>207.501                       </td></tr>\n",
       "\t<tr><td>Tenrec                        </td><td>Tenrec                        </td><td>omni                          </td><td>Afrosoricida                  </td><td>NA                            </td><td>15.6                          </td><td>2.3                           </td><td>       NA                     </td><td> 8.40                         </td><td>0.00260                       </td><td>  0.900                       </td></tr>\n",
       "\t<tr><td>Tree shrew                    </td><td>Tupaia                        </td><td>omni                          </td><td>Scandentia                    </td><td>NA                            </td><td> 8.9                          </td><td>2.6                           </td><td>0.2333333                     </td><td>15.10                         </td><td>0.00250                       </td><td>  0.104                       </td></tr>\n",
       "\t<tr><td>Bottle-nosed dolphin          </td><td>Tursiops                      </td><td>carni                         </td><td>Cetacea                       </td><td>NA                            </td><td> 5.2                          </td><td> NA                           </td><td>       NA                     </td><td>18.80                         </td><td>     NA                       </td><td>173.330                       </td></tr>\n",
       "\t<tr><td>Genet                         </td><td>Genetta                       </td><td>carni                         </td><td>Carnivora                     </td><td>NA                            </td><td> 6.3                          </td><td>1.3                           </td><td>       NA                     </td><td>17.70                         </td><td>0.01750                       </td><td>  2.000                       </td></tr>\n",
       "\t<tr><td>Arctic fox                    </td><td>Vulpes                        </td><td>carni                         </td><td>Carnivora                     </td><td>NA                            </td><td>12.5                          </td><td> NA                           </td><td>       NA                     </td><td>11.50                         </td><td>0.04450                       </td><td>  3.380                       </td></tr>\n",
       "\t<tr><td>Red fox                       </td><td>Vulpes                        </td><td>carni                         </td><td>Carnivora                     </td><td>NA                            </td><td> 9.8                          </td><td>2.4                           </td><td>0.3500000                     </td><td>14.20                         </td><td>0.05040                       </td><td>  4.230                       </td></tr>\n",
       "</tbody>\n",
       "</table>\n"
      ],
      "text/latex": [
       "\\begin{tabular}{r|lllllllllll}\n",
       " name & genus & vore & order & conservation & sleep\\_total & sleep\\_rem & sleep\\_cycle & awake & brainwt & bodywt\\\\\n",
       "\\hline\n",
       "\t Cheetah                    & Acinonyx                   & carni                      & Carnivora                  & lc                         & 12.1                       &  NA                        &        NA                  & 11.9                       &      NA                    &   50.000                  \\\\\n",
       "\t Owl monkey                 & Aotus                      & omni                       & Primates                   & NA                         & 17.0                       & 1.8                        &        NA                  &  7.0                       & 0.01550                    &    0.480                  \\\\\n",
       "\t Mountain beaver            & Aplodontia                 & herbi                      & Rodentia                   & nt                         & 14.4                       & 2.4                        &        NA                  &  9.6                       &      NA                    &    1.350                  \\\\\n",
       "\t Greater short-tailed shrew & Blarina                    & omni                       & Soricomorpha               & lc                         & 14.9                       & 2.3                        & 0.1333333                  &  9.1                       & 0.00029                    &    0.019                  \\\\\n",
       "\t Cow                        & Bos                        & herbi                      & Artiodactyla               & domesticated               &  4.0                       & 0.7                        & 0.6666667                  & 20.0                       & 0.42300                    &  600.000                  \\\\\n",
       "\t Three-toed sloth           & Bradypus                   & herbi                      & Pilosa                     & NA                         & 14.4                       & 2.2                        & 0.7666667                  &  9.6                       &      NA                    &    3.850                  \\\\\n",
       "\t Northern fur seal          & Callorhinus                & carni                      & Carnivora                  & vu                         &  8.7                       & 1.4                        & 0.3833333                  & 15.3                       &      NA                    &   20.490                  \\\\\n",
       "\t Vesper mouse               & Calomys                    & NA                         & Rodentia                   & NA                         &  7.0                       &  NA                        &        NA                  & 17.0                       &      NA                    &    0.045                  \\\\\n",
       "\t Dog                        & Canis                      & carni                      & Carnivora                  & domesticated               & 10.1                       & 2.9                        & 0.3333333                  & 13.9                       & 0.07000                    &   14.000                  \\\\\n",
       "\t Roe deer                   & Capreolus                  & herbi                      & Artiodactyla               & lc                         &  3.0                       &  NA                        &        NA                  & 21.0                       & 0.09820                    &   14.800                  \\\\\n",
       "\t Goat                       & Capri                      & herbi                      & Artiodactyla               & lc                         &  5.3                       & 0.6                        &        NA                  & 18.7                       & 0.11500                    &   33.500                  \\\\\n",
       "\t Guinea pig                 & Cavis                      & herbi                      & Rodentia                   & domesticated               &  9.4                       & 0.8                        & 0.2166667                  & 14.6                       & 0.00550                    &    0.728                  \\\\\n",
       "\t Grivet                     & Cercopithecus              & omni                       & Primates                   & lc                         & 10.0                       & 0.7                        &        NA                  & 14.0                       &      NA                    &    4.750                  \\\\\n",
       "\t Chinchilla                 & Chinchilla                 & herbi                      & Rodentia                   & domesticated               & 12.5                       & 1.5                        & 0.1166667                  & 11.5                       & 0.00640                    &    0.420                  \\\\\n",
       "\t Star-nosed mole            & Condylura                  & omni                       & Soricomorpha               & lc                         & 10.3                       & 2.2                        &        NA                  & 13.7                       & 0.00100                    &    0.060                  \\\\\n",
       "\t African giant pouched rat  & Cricetomys                 & omni                       & Rodentia                   & NA                         &  8.3                       & 2.0                        &        NA                  & 15.7                       & 0.00660                    &    1.000                  \\\\\n",
       "\t Lesser short-tailed shrew  & Cryptotis                  & omni                       & Soricomorpha               & lc                         &  9.1                       & 1.4                        & 0.1500000                  & 14.9                       & 0.00014                    &    0.005                  \\\\\n",
       "\t Long-nosed armadillo       & Dasypus                    & carni                      & Cingulata                  & lc                         & 17.4                       & 3.1                        & 0.3833333                  &  6.6                       & 0.01080                    &    3.500                  \\\\\n",
       "\t Tree hyrax                 & Dendrohyrax                & herbi                      & Hyracoidea                 & lc                         &  5.3                       & 0.5                        &        NA                  & 18.7                       & 0.01230                    &    2.950                  \\\\\n",
       "\t North American Opossum     & Didelphis                  & omni                       & Didelphimorphia            & lc                         & 18.0                       & 4.9                        & 0.3333333                  &  6.0                       & 0.00630                    &    1.700                  \\\\\n",
       "\t Asian elephant             & Elephas                    & herbi                      & Proboscidea                & en                         &  3.9                       &  NA                        &        NA                  & 20.1                       & 4.60300                    & 2547.000                  \\\\\n",
       "\t Big brown bat              & Eptesicus                  & insecti                    & Chiroptera                 & lc                         & 19.7                       & 3.9                        & 0.1166667                  &  4.3                       & 0.00030                    &    0.023                  \\\\\n",
       "\t Horse                      & Equus                      & herbi                      & Perissodactyla             & domesticated               &  2.9                       & 0.6                        & 1.0000000                  & 21.1                       & 0.65500                    &  521.000                  \\\\\n",
       "\t Donkey                     & Equus                      & herbi                      & Perissodactyla             & domesticated               &  3.1                       & 0.4                        &        NA                  & 20.9                       & 0.41900                    &  187.000                  \\\\\n",
       "\t European hedgehog          & Erinaceus                  & omni                       & Erinaceomorpha             & lc                         & 10.1                       & 3.5                        & 0.2833333                  & 13.9                       & 0.00350                    &    0.770                  \\\\\n",
       "\t Patas monkey               & Erythrocebus               & omni                       & Primates                   & lc                         & 10.9                       & 1.1                        &        NA                  & 13.1                       & 0.11500                    &   10.000                  \\\\\n",
       "\t Western american chipmunk  & Eutamias                   & herbi                      & Rodentia                   & NA                         & 14.9                       &  NA                        &        NA                  &  9.1                       &      NA                    &    0.071                  \\\\\n",
       "\t Domestic cat               & Felis                      & carni                      & Carnivora                  & domesticated               & 12.5                       & 3.2                        & 0.4166667                  & 11.5                       & 0.02560                    &    3.300                  \\\\\n",
       "\t Galago                     & Galago                     & omni                       & Primates                   & NA                         &  9.8                       & 1.1                        & 0.5500000                  & 14.2                       & 0.00500                    &    0.200                  \\\\\n",
       "\t Giraffe                    & Giraffa                    & herbi                      & Artiodactyla               & cd                         &  1.9                       & 0.4                        &        NA                  & 22.1                       &      NA                    &  899.995                  \\\\\n",
       "\t ... & ... & ... & ... & ... & ... & ... & ... & ... & ... & ...\\\\\n",
       "\t Baboon                         & Papio                          & omni                           & Primates                       & NA                             &  9.4                           & 1.0                            & 0.6666667                      & 14.60                          & 0.18000                        &  25.235                       \\\\\n",
       "\t Desert hedgehog                & Paraechinus                    & NA                             & Erinaceomorpha                 & lc                             & 10.3                           & 2.7                            &        NA                      & 13.70                          & 0.00240                        &   0.550                       \\\\\n",
       "\t Potto                          & Perodicticus                   & omni                           & Primates                       & lc                             & 11.0                           &  NA                            &        NA                      & 13.00                          &      NA                        &   1.100                       \\\\\n",
       "\t Deer mouse                     & Peromyscus                     & NA                             & Rodentia                       & NA                             & 11.5                           &  NA                            &        NA                      & 12.50                          &      NA                        &   0.021                       \\\\\n",
       "\t Phalanger                      & Phalanger                      & NA                             & Diprotodontia                  & NA                             & 13.7                           & 1.8                            &        NA                      & 10.30                          & 0.01140                        &   1.620                       \\\\\n",
       "\t Caspian seal                   & Phoca                          & carni                          & Carnivora                      & vu                             &  3.5                           & 0.4                            &        NA                      & 20.50                          &      NA                        &  86.000                       \\\\\n",
       "\t Common porpoise                & Phocoena                       & carni                          & Cetacea                        & vu                             &  5.6                           &  NA                            &        NA                      & 18.45                          &      NA                        &  53.180                       \\\\\n",
       "\t Potoroo                        & Potorous                       & herbi                          & Diprotodontia                  & NA                             & 11.1                           & 1.5                            &        NA                      & 12.90                          &      NA                        &   1.100                       \\\\\n",
       "\t Giant armadillo                & Priodontes                     & insecti                        & Cingulata                      & en                             & 18.1                           & 6.1                            &        NA                      &  5.90                          & 0.08100                        &  60.000                       \\\\\n",
       "\t Rock hyrax                     & Procavia                       & NA                             & Hyracoidea                     & lc                             &  5.4                           & 0.5                            &        NA                      & 18.60                          & 0.02100                        &   3.600                       \\\\\n",
       "\t Laboratory rat                 & Rattus                         & herbi                          & Rodentia                       & lc                             & 13.0                           & 2.4                            & 0.1833333                      & 11.00                          & 0.00190                        &   0.320                       \\\\\n",
       "\t African striped mouse          & Rhabdomys                      & omni                           & Rodentia                       & NA                             &  8.7                           &  NA                            &        NA                      & 15.30                          &      NA                        &   0.044                       \\\\\n",
       "\t Squirrel monkey                & Saimiri                        & omni                           & Primates                       & NA                             &  9.6                           & 1.4                            &        NA                      & 14.40                          & 0.02000                        &   0.743                       \\\\\n",
       "\t Eastern american mole          & Scalopus                       & insecti                        & Soricomorpha                   & lc                             &  8.4                           & 2.1                            & 0.1666667                      & 15.60                          & 0.00120                        &   0.075                       \\\\\n",
       "\t Cotton rat                     & Sigmodon                       & herbi                          & Rodentia                       & NA                             & 11.3                           & 1.1                            & 0.1500000                      & 12.70                          & 0.00118                        &   0.148                       \\\\\n",
       "\t Mole rat                       & Spalax                         & NA                             & Rodentia                       & NA                             & 10.6                           & 2.4                            &        NA                      & 13.40                          & 0.00300                        &   0.122                       \\\\\n",
       "\t Arctic ground squirrel         & Spermophilus                   & herbi                          & Rodentia                       & lc                             & 16.6                           &  NA                            &        NA                      &  7.40                          & 0.00570                        &   0.920                       \\\\\n",
       "\t Thirteen-lined ground squirrel & Spermophilus                   & herbi                          & Rodentia                       & lc                             & 13.8                           & 3.4                            & 0.2166667                      & 10.20                          & 0.00400                        &   0.101                       \\\\\n",
       "\t Golden-mantled ground squirrel & Spermophilus                   & herbi                          & Rodentia                       & lc                             & 15.9                           & 3.0                            &        NA                      &  8.10                          &      NA                        &   0.205                       \\\\\n",
       "\t Musk shrew                     & Suncus                         & NA                             & Soricomorpha                   & NA                             & 12.8                           & 2.0                            & 0.1833333                      & 11.20                          & 0.00033                        &   0.048                       \\\\\n",
       "\t Pig                            & Sus                            & omni                           & Artiodactyla                   & domesticated                   &  9.1                           & 2.4                            & 0.5000000                      & 14.90                          & 0.18000                        &  86.250                       \\\\\n",
       "\t Short-nosed echidna            & Tachyglossus                   & insecti                        & Monotremata                    & NA                             &  8.6                           &  NA                            &        NA                      & 15.40                          & 0.02500                        &   4.500                       \\\\\n",
       "\t Eastern american chipmunk      & Tamias                         & herbi                          & Rodentia                       & NA                             & 15.8                           &  NA                            &        NA                      &  8.20                          &      NA                        &   0.112                       \\\\\n",
       "\t Brazilian tapir                & Tapirus                        & herbi                          & Perissodactyla                 & vu                             &  4.4                           & 1.0                            & 0.9000000                      & 19.60                          & 0.16900                        & 207.501                       \\\\\n",
       "\t Tenrec                         & Tenrec                         & omni                           & Afrosoricida                   & NA                             & 15.6                           & 2.3                            &        NA                      &  8.40                          & 0.00260                        &   0.900                       \\\\\n",
       "\t Tree shrew                     & Tupaia                         & omni                           & Scandentia                     & NA                             &  8.9                           & 2.6                            & 0.2333333                      & 15.10                          & 0.00250                        &   0.104                       \\\\\n",
       "\t Bottle-nosed dolphin           & Tursiops                       & carni                          & Cetacea                        & NA                             &  5.2                           &  NA                            &        NA                      & 18.80                          &      NA                        & 173.330                       \\\\\n",
       "\t Genet                          & Genetta                        & carni                          & Carnivora                      & NA                             &  6.3                           & 1.3                            &        NA                      & 17.70                          & 0.01750                        &   2.000                       \\\\\n",
       "\t Arctic fox                     & Vulpes                         & carni                          & Carnivora                      & NA                             & 12.5                           &  NA                            &        NA                      & 11.50                          & 0.04450                        &   3.380                       \\\\\n",
       "\t Red fox                        & Vulpes                         & carni                          & Carnivora                      & NA                             &  9.8                           & 2.4                            & 0.3500000                      & 14.20                          & 0.05040                        &   4.230                       \\\\\n",
       "\\end{tabular}\n"
      ],
      "text/markdown": [
       "\n",
       "| name | genus | vore | order | conservation | sleep_total | sleep_rem | sleep_cycle | awake | brainwt | bodywt |\n",
       "|---|---|---|---|---|---|---|---|---|---|---|\n",
       "| Cheetah                    | Acinonyx                   | carni                      | Carnivora                  | lc                         | 12.1                       |  NA                        |        NA                  | 11.9                       |      NA                    |   50.000                   |\n",
       "| Owl monkey                 | Aotus                      | omni                       | Primates                   | NA                         | 17.0                       | 1.8                        |        NA                  |  7.0                       | 0.01550                    |    0.480                   |\n",
       "| Mountain beaver            | Aplodontia                 | herbi                      | Rodentia                   | nt                         | 14.4                       | 2.4                        |        NA                  |  9.6                       |      NA                    |    1.350                   |\n",
       "| Greater short-tailed shrew | Blarina                    | omni                       | Soricomorpha               | lc                         | 14.9                       | 2.3                        | 0.1333333                  |  9.1                       | 0.00029                    |    0.019                   |\n",
       "| Cow                        | Bos                        | herbi                      | Artiodactyla               | domesticated               |  4.0                       | 0.7                        | 0.6666667                  | 20.0                       | 0.42300                    |  600.000                   |\n",
       "| Three-toed sloth           | Bradypus                   | herbi                      | Pilosa                     | NA                         | 14.4                       | 2.2                        | 0.7666667                  |  9.6                       |      NA                    |    3.850                   |\n",
       "| Northern fur seal          | Callorhinus                | carni                      | Carnivora                  | vu                         |  8.7                       | 1.4                        | 0.3833333                  | 15.3                       |      NA                    |   20.490                   |\n",
       "| Vesper mouse               | Calomys                    | NA                         | Rodentia                   | NA                         |  7.0                       |  NA                        |        NA                  | 17.0                       |      NA                    |    0.045                   |\n",
       "| Dog                        | Canis                      | carni                      | Carnivora                  | domesticated               | 10.1                       | 2.9                        | 0.3333333                  | 13.9                       | 0.07000                    |   14.000                   |\n",
       "| Roe deer                   | Capreolus                  | herbi                      | Artiodactyla               | lc                         |  3.0                       |  NA                        |        NA                  | 21.0                       | 0.09820                    |   14.800                   |\n",
       "| Goat                       | Capri                      | herbi                      | Artiodactyla               | lc                         |  5.3                       | 0.6                        |        NA                  | 18.7                       | 0.11500                    |   33.500                   |\n",
       "| Guinea pig                 | Cavis                      | herbi                      | Rodentia                   | domesticated               |  9.4                       | 0.8                        | 0.2166667                  | 14.6                       | 0.00550                    |    0.728                   |\n",
       "| Grivet                     | Cercopithecus              | omni                       | Primates                   | lc                         | 10.0                       | 0.7                        |        NA                  | 14.0                       |      NA                    |    4.750                   |\n",
       "| Chinchilla                 | Chinchilla                 | herbi                      | Rodentia                   | domesticated               | 12.5                       | 1.5                        | 0.1166667                  | 11.5                       | 0.00640                    |    0.420                   |\n",
       "| Star-nosed mole            | Condylura                  | omni                       | Soricomorpha               | lc                         | 10.3                       | 2.2                        |        NA                  | 13.7                       | 0.00100                    |    0.060                   |\n",
       "| African giant pouched rat  | Cricetomys                 | omni                       | Rodentia                   | NA                         |  8.3                       | 2.0                        |        NA                  | 15.7                       | 0.00660                    |    1.000                   |\n",
       "| Lesser short-tailed shrew  | Cryptotis                  | omni                       | Soricomorpha               | lc                         |  9.1                       | 1.4                        | 0.1500000                  | 14.9                       | 0.00014                    |    0.005                   |\n",
       "| Long-nosed armadillo       | Dasypus                    | carni                      | Cingulata                  | lc                         | 17.4                       | 3.1                        | 0.3833333                  |  6.6                       | 0.01080                    |    3.500                   |\n",
       "| Tree hyrax                 | Dendrohyrax                | herbi                      | Hyracoidea                 | lc                         |  5.3                       | 0.5                        |        NA                  | 18.7                       | 0.01230                    |    2.950                   |\n",
       "| North American Opossum     | Didelphis                  | omni                       | Didelphimorphia            | lc                         | 18.0                       | 4.9                        | 0.3333333                  |  6.0                       | 0.00630                    |    1.700                   |\n",
       "| Asian elephant             | Elephas                    | herbi                      | Proboscidea                | en                         |  3.9                       |  NA                        |        NA                  | 20.1                       | 4.60300                    | 2547.000                   |\n",
       "| Big brown bat              | Eptesicus                  | insecti                    | Chiroptera                 | lc                         | 19.7                       | 3.9                        | 0.1166667                  |  4.3                       | 0.00030                    |    0.023                   |\n",
       "| Horse                      | Equus                      | herbi                      | Perissodactyla             | domesticated               |  2.9                       | 0.6                        | 1.0000000                  | 21.1                       | 0.65500                    |  521.000                   |\n",
       "| Donkey                     | Equus                      | herbi                      | Perissodactyla             | domesticated               |  3.1                       | 0.4                        |        NA                  | 20.9                       | 0.41900                    |  187.000                   |\n",
       "| European hedgehog          | Erinaceus                  | omni                       | Erinaceomorpha             | lc                         | 10.1                       | 3.5                        | 0.2833333                  | 13.9                       | 0.00350                    |    0.770                   |\n",
       "| Patas monkey               | Erythrocebus               | omni                       | Primates                   | lc                         | 10.9                       | 1.1                        |        NA                  | 13.1                       | 0.11500                    |   10.000                   |\n",
       "| Western american chipmunk  | Eutamias                   | herbi                      | Rodentia                   | NA                         | 14.9                       |  NA                        |        NA                  |  9.1                       |      NA                    |    0.071                   |\n",
       "| Domestic cat               | Felis                      | carni                      | Carnivora                  | domesticated               | 12.5                       | 3.2                        | 0.4166667                  | 11.5                       | 0.02560                    |    3.300                   |\n",
       "| Galago                     | Galago                     | omni                       | Primates                   | NA                         |  9.8                       | 1.1                        | 0.5500000                  | 14.2                       | 0.00500                    |    0.200                   |\n",
       "| Giraffe                    | Giraffa                    | herbi                      | Artiodactyla               | cd                         |  1.9                       | 0.4                        |        NA                  | 22.1                       |      NA                    |  899.995                   |\n",
       "| ... | ... | ... | ... | ... | ... | ... | ... | ... | ... | ... |\n",
       "| Baboon                         | Papio                          | omni                           | Primates                       | NA                             |  9.4                           | 1.0                            | 0.6666667                      | 14.60                          | 0.18000                        |  25.235                        |\n",
       "| Desert hedgehog                | Paraechinus                    | NA                             | Erinaceomorpha                 | lc                             | 10.3                           | 2.7                            |        NA                      | 13.70                          | 0.00240                        |   0.550                        |\n",
       "| Potto                          | Perodicticus                   | omni                           | Primates                       | lc                             | 11.0                           |  NA                            |        NA                      | 13.00                          |      NA                        |   1.100                        |\n",
       "| Deer mouse                     | Peromyscus                     | NA                             | Rodentia                       | NA                             | 11.5                           |  NA                            |        NA                      | 12.50                          |      NA                        |   0.021                        |\n",
       "| Phalanger                      | Phalanger                      | NA                             | Diprotodontia                  | NA                             | 13.7                           | 1.8                            |        NA                      | 10.30                          | 0.01140                        |   1.620                        |\n",
       "| Caspian seal                   | Phoca                          | carni                          | Carnivora                      | vu                             |  3.5                           | 0.4                            |        NA                      | 20.50                          |      NA                        |  86.000                        |\n",
       "| Common porpoise                | Phocoena                       | carni                          | Cetacea                        | vu                             |  5.6                           |  NA                            |        NA                      | 18.45                          |      NA                        |  53.180                        |\n",
       "| Potoroo                        | Potorous                       | herbi                          | Diprotodontia                  | NA                             | 11.1                           | 1.5                            |        NA                      | 12.90                          |      NA                        |   1.100                        |\n",
       "| Giant armadillo                | Priodontes                     | insecti                        | Cingulata                      | en                             | 18.1                           | 6.1                            |        NA                      |  5.90                          | 0.08100                        |  60.000                        |\n",
       "| Rock hyrax                     | Procavia                       | NA                             | Hyracoidea                     | lc                             |  5.4                           | 0.5                            |        NA                      | 18.60                          | 0.02100                        |   3.600                        |\n",
       "| Laboratory rat                 | Rattus                         | herbi                          | Rodentia                       | lc                             | 13.0                           | 2.4                            | 0.1833333                      | 11.00                          | 0.00190                        |   0.320                        |\n",
       "| African striped mouse          | Rhabdomys                      | omni                           | Rodentia                       | NA                             |  8.7                           |  NA                            |        NA                      | 15.30                          |      NA                        |   0.044                        |\n",
       "| Squirrel monkey                | Saimiri                        | omni                           | Primates                       | NA                             |  9.6                           | 1.4                            |        NA                      | 14.40                          | 0.02000                        |   0.743                        |\n",
       "| Eastern american mole          | Scalopus                       | insecti                        | Soricomorpha                   | lc                             |  8.4                           | 2.1                            | 0.1666667                      | 15.60                          | 0.00120                        |   0.075                        |\n",
       "| Cotton rat                     | Sigmodon                       | herbi                          | Rodentia                       | NA                             | 11.3                           | 1.1                            | 0.1500000                      | 12.70                          | 0.00118                        |   0.148                        |\n",
       "| Mole rat                       | Spalax                         | NA                             | Rodentia                       | NA                             | 10.6                           | 2.4                            |        NA                      | 13.40                          | 0.00300                        |   0.122                        |\n",
       "| Arctic ground squirrel         | Spermophilus                   | herbi                          | Rodentia                       | lc                             | 16.6                           |  NA                            |        NA                      |  7.40                          | 0.00570                        |   0.920                        |\n",
       "| Thirteen-lined ground squirrel | Spermophilus                   | herbi                          | Rodentia                       | lc                             | 13.8                           | 3.4                            | 0.2166667                      | 10.20                          | 0.00400                        |   0.101                        |\n",
       "| Golden-mantled ground squirrel | Spermophilus                   | herbi                          | Rodentia                       | lc                             | 15.9                           | 3.0                            |        NA                      |  8.10                          |      NA                        |   0.205                        |\n",
       "| Musk shrew                     | Suncus                         | NA                             | Soricomorpha                   | NA                             | 12.8                           | 2.0                            | 0.1833333                      | 11.20                          | 0.00033                        |   0.048                        |\n",
       "| Pig                            | Sus                            | omni                           | Artiodactyla                   | domesticated                   |  9.1                           | 2.4                            | 0.5000000                      | 14.90                          | 0.18000                        |  86.250                        |\n",
       "| Short-nosed echidna            | Tachyglossus                   | insecti                        | Monotremata                    | NA                             |  8.6                           |  NA                            |        NA                      | 15.40                          | 0.02500                        |   4.500                        |\n",
       "| Eastern american chipmunk      | Tamias                         | herbi                          | Rodentia                       | NA                             | 15.8                           |  NA                            |        NA                      |  8.20                          |      NA                        |   0.112                        |\n",
       "| Brazilian tapir                | Tapirus                        | herbi                          | Perissodactyla                 | vu                             |  4.4                           | 1.0                            | 0.9000000                      | 19.60                          | 0.16900                        | 207.501                        |\n",
       "| Tenrec                         | Tenrec                         | omni                           | Afrosoricida                   | NA                             | 15.6                           | 2.3                            |        NA                      |  8.40                          | 0.00260                        |   0.900                        |\n",
       "| Tree shrew                     | Tupaia                         | omni                           | Scandentia                     | NA                             |  8.9                           | 2.6                            | 0.2333333                      | 15.10                          | 0.00250                        |   0.104                        |\n",
       "| Bottle-nosed dolphin           | Tursiops                       | carni                          | Cetacea                        | NA                             |  5.2                           |  NA                            |        NA                      | 18.80                          |      NA                        | 173.330                        |\n",
       "| Genet                          | Genetta                        | carni                          | Carnivora                      | NA                             |  6.3                           | 1.3                            |        NA                      | 17.70                          | 0.01750                        |   2.000                        |\n",
       "| Arctic fox                     | Vulpes                         | carni                          | Carnivora                      | NA                             | 12.5                           |  NA                            |        NA                      | 11.50                          | 0.04450                        |   3.380                        |\n",
       "| Red fox                        | Vulpes                         | carni                          | Carnivora                      | NA                             |  9.8                           | 2.4                            | 0.3500000                      | 14.20                          | 0.05040                        |   4.230                        |\n",
       "\n"
      ],
      "text/plain": [
       "    name                           genus         vore    order          \n",
       "1   Cheetah                        Acinonyx      carni   Carnivora      \n",
       "2   Owl monkey                     Aotus         omni    Primates       \n",
       "3   Mountain beaver                Aplodontia    herbi   Rodentia       \n",
       "4   Greater short-tailed shrew     Blarina       omni    Soricomorpha   \n",
       "5   Cow                            Bos           herbi   Artiodactyla   \n",
       "6   Three-toed sloth               Bradypus      herbi   Pilosa         \n",
       "7   Northern fur seal              Callorhinus   carni   Carnivora      \n",
       "8   Vesper mouse                   Calomys       NA      Rodentia       \n",
       "9   Dog                            Canis         carni   Carnivora      \n",
       "10  Roe deer                       Capreolus     herbi   Artiodactyla   \n",
       "11  Goat                           Capri         herbi   Artiodactyla   \n",
       "12  Guinea pig                     Cavis         herbi   Rodentia       \n",
       "13  Grivet                         Cercopithecus omni    Primates       \n",
       "14  Chinchilla                     Chinchilla    herbi   Rodentia       \n",
       "15  Star-nosed mole                Condylura     omni    Soricomorpha   \n",
       "16  African giant pouched rat      Cricetomys    omni    Rodentia       \n",
       "17  Lesser short-tailed shrew      Cryptotis     omni    Soricomorpha   \n",
       "18  Long-nosed armadillo           Dasypus       carni   Cingulata      \n",
       "19  Tree hyrax                     Dendrohyrax   herbi   Hyracoidea     \n",
       "20  North American Opossum         Didelphis     omni    Didelphimorphia\n",
       "21  Asian elephant                 Elephas       herbi   Proboscidea    \n",
       "22  Big brown bat                  Eptesicus     insecti Chiroptera     \n",
       "23  Horse                          Equus         herbi   Perissodactyla \n",
       "24  Donkey                         Equus         herbi   Perissodactyla \n",
       "25  European hedgehog              Erinaceus     omni    Erinaceomorpha \n",
       "26  Patas monkey                   Erythrocebus  omni    Primates       \n",
       "27  Western american chipmunk      Eutamias      herbi   Rodentia       \n",
       "28  Domestic cat                   Felis         carni   Carnivora      \n",
       "29  Galago                         Galago        omni    Primates       \n",
       "30  Giraffe                        Giraffa       herbi   Artiodactyla   \n",
       "... ...                            ...           ...     ...            \n",
       "54  Baboon                         Papio         omni    Primates       \n",
       "55  Desert hedgehog                Paraechinus   NA      Erinaceomorpha \n",
       "56  Potto                          Perodicticus  omni    Primates       \n",
       "57  Deer mouse                     Peromyscus    NA      Rodentia       \n",
       "58  Phalanger                      Phalanger     NA      Diprotodontia  \n",
       "59  Caspian seal                   Phoca         carni   Carnivora      \n",
       "60  Common porpoise                Phocoena      carni   Cetacea        \n",
       "61  Potoroo                        Potorous      herbi   Diprotodontia  \n",
       "62  Giant armadillo                Priodontes    insecti Cingulata      \n",
       "63  Rock hyrax                     Procavia      NA      Hyracoidea     \n",
       "64  Laboratory rat                 Rattus        herbi   Rodentia       \n",
       "65  African striped mouse          Rhabdomys     omni    Rodentia       \n",
       "66  Squirrel monkey                Saimiri       omni    Primates       \n",
       "67  Eastern american mole          Scalopus      insecti Soricomorpha   \n",
       "68  Cotton rat                     Sigmodon      herbi   Rodentia       \n",
       "69  Mole rat                       Spalax        NA      Rodentia       \n",
       "70  Arctic ground squirrel         Spermophilus  herbi   Rodentia       \n",
       "71  Thirteen-lined ground squirrel Spermophilus  herbi   Rodentia       \n",
       "72  Golden-mantled ground squirrel Spermophilus  herbi   Rodentia       \n",
       "73  Musk shrew                     Suncus        NA      Soricomorpha   \n",
       "74  Pig                            Sus           omni    Artiodactyla   \n",
       "75  Short-nosed echidna            Tachyglossus  insecti Monotremata    \n",
       "76  Eastern american chipmunk      Tamias        herbi   Rodentia       \n",
       "77  Brazilian tapir                Tapirus       herbi   Perissodactyla \n",
       "78  Tenrec                         Tenrec        omni    Afrosoricida   \n",
       "79  Tree shrew                     Tupaia        omni    Scandentia     \n",
       "80  Bottle-nosed dolphin           Tursiops      carni   Cetacea        \n",
       "81  Genet                          Genetta       carni   Carnivora      \n",
       "82  Arctic fox                     Vulpes        carni   Carnivora      \n",
       "83  Red fox                        Vulpes        carni   Carnivora      \n",
       "    conservation sleep_total sleep_rem sleep_cycle awake brainwt bodywt  \n",
       "1   lc           12.1         NA              NA   11.9       NA   50.000\n",
       "2   NA           17.0        1.8              NA    7.0  0.01550    0.480\n",
       "3   nt           14.4        2.4              NA    9.6       NA    1.350\n",
       "4   lc           14.9        2.3       0.1333333    9.1  0.00029    0.019\n",
       "5   domesticated  4.0        0.7       0.6666667   20.0  0.42300  600.000\n",
       "6   NA           14.4        2.2       0.7666667    9.6       NA    3.850\n",
       "7   vu            8.7        1.4       0.3833333   15.3       NA   20.490\n",
       "8   NA            7.0         NA              NA   17.0       NA    0.045\n",
       "9   domesticated 10.1        2.9       0.3333333   13.9  0.07000   14.000\n",
       "10  lc            3.0         NA              NA   21.0  0.09820   14.800\n",
       "11  lc            5.3        0.6              NA   18.7  0.11500   33.500\n",
       "12  domesticated  9.4        0.8       0.2166667   14.6  0.00550    0.728\n",
       "13  lc           10.0        0.7              NA   14.0       NA    4.750\n",
       "14  domesticated 12.5        1.5       0.1166667   11.5  0.00640    0.420\n",
       "15  lc           10.3        2.2              NA   13.7  0.00100    0.060\n",
       "16  NA            8.3        2.0              NA   15.7  0.00660    1.000\n",
       "17  lc            9.1        1.4       0.1500000   14.9  0.00014    0.005\n",
       "18  lc           17.4        3.1       0.3833333    6.6  0.01080    3.500\n",
       "19  lc            5.3        0.5              NA   18.7  0.01230    2.950\n",
       "20  lc           18.0        4.9       0.3333333    6.0  0.00630    1.700\n",
       "21  en            3.9         NA              NA   20.1  4.60300 2547.000\n",
       "22  lc           19.7        3.9       0.1166667    4.3  0.00030    0.023\n",
       "23  domesticated  2.9        0.6       1.0000000   21.1  0.65500  521.000\n",
       "24  domesticated  3.1        0.4              NA   20.9  0.41900  187.000\n",
       "25  lc           10.1        3.5       0.2833333   13.9  0.00350    0.770\n",
       "26  lc           10.9        1.1              NA   13.1  0.11500   10.000\n",
       "27  NA           14.9         NA              NA    9.1       NA    0.071\n",
       "28  domesticated 12.5        3.2       0.4166667   11.5  0.02560    3.300\n",
       "29  NA            9.8        1.1       0.5500000   14.2  0.00500    0.200\n",
       "30  cd            1.9        0.4              NA   22.1       NA  899.995\n",
       "... ...          ...         ...       ...         ...   ...     ...     \n",
       "54  NA            9.4        1.0       0.6666667   14.60 0.18000  25.235 \n",
       "55  lc           10.3        2.7              NA   13.70 0.00240   0.550 \n",
       "56  lc           11.0         NA              NA   13.00      NA   1.100 \n",
       "57  NA           11.5         NA              NA   12.50      NA   0.021 \n",
       "58  NA           13.7        1.8              NA   10.30 0.01140   1.620 \n",
       "59  vu            3.5        0.4              NA   20.50      NA  86.000 \n",
       "60  vu            5.6         NA              NA   18.45      NA  53.180 \n",
       "61  NA           11.1        1.5              NA   12.90      NA   1.100 \n",
       "62  en           18.1        6.1              NA    5.90 0.08100  60.000 \n",
       "63  lc            5.4        0.5              NA   18.60 0.02100   3.600 \n",
       "64  lc           13.0        2.4       0.1833333   11.00 0.00190   0.320 \n",
       "65  NA            8.7         NA              NA   15.30      NA   0.044 \n",
       "66  NA            9.6        1.4              NA   14.40 0.02000   0.743 \n",
       "67  lc            8.4        2.1       0.1666667   15.60 0.00120   0.075 \n",
       "68  NA           11.3        1.1       0.1500000   12.70 0.00118   0.148 \n",
       "69  NA           10.6        2.4              NA   13.40 0.00300   0.122 \n",
       "70  lc           16.6         NA              NA    7.40 0.00570   0.920 \n",
       "71  lc           13.8        3.4       0.2166667   10.20 0.00400   0.101 \n",
       "72  lc           15.9        3.0              NA    8.10      NA   0.205 \n",
       "73  NA           12.8        2.0       0.1833333   11.20 0.00033   0.048 \n",
       "74  domesticated  9.1        2.4       0.5000000   14.90 0.18000  86.250 \n",
       "75  NA            8.6         NA              NA   15.40 0.02500   4.500 \n",
       "76  NA           15.8         NA              NA    8.20      NA   0.112 \n",
       "77  vu            4.4        1.0       0.9000000   19.60 0.16900 207.501 \n",
       "78  NA           15.6        2.3              NA    8.40 0.00260   0.900 \n",
       "79  NA            8.9        2.6       0.2333333   15.10 0.00250   0.104 \n",
       "80  NA            5.2         NA              NA   18.80      NA 173.330 \n",
       "81  NA            6.3        1.3              NA   17.70 0.01750   2.000 \n",
       "82  NA           12.5         NA              NA   11.50 0.04450   3.380 \n",
       "83  NA            9.8        2.4       0.3500000   14.20 0.05040   4.230 "
      ]
     },
     "metadata": {},
     "output_type": "display_data"
    }
   ],
   "source": [
    "# dataset describing mammalian sleep times\n",
    "msleep"
   ]
  },
  {
   "cell_type": "markdown",
   "id": "intensive-backup",
   "metadata": {},
   "source": [
    "The ```NA``` refers to missing values. Missing values are contagious!"
   ]
  },
  {
   "cell_type": "code",
   "execution_count": 8,
   "id": "aerial-windsor",
   "metadata": {},
   "outputs": [
    {
     "data": {
      "text/html": [
       "&lt;NA&gt;"
      ],
      "text/latex": [
       "<NA>"
      ],
      "text/markdown": [
       "&lt;NA&gt;"
      ],
      "text/plain": [
       "[1] NA"
      ]
     },
     "metadata": {},
     "output_type": "display_data"
    },
    {
     "data": {
      "text/html": [
       "&lt;NA&gt;"
      ],
      "text/latex": [
       "<NA>"
      ],
      "text/markdown": [
       "&lt;NA&gt;"
      ],
      "text/plain": [
       "[1] NA"
      ]
     },
     "metadata": {},
     "output_type": "display_data"
    },
    {
     "data": {
      "text/html": [
       "&lt;NA&gt;"
      ],
      "text/latex": [
       "<NA>"
      ],
      "text/markdown": [
       "&lt;NA&gt;"
      ],
      "text/plain": [
       "[1] NA"
      ]
     },
     "metadata": {},
     "output_type": "display_data"
    },
    {
     "data": {
      "text/html": [
       "&lt;NA&gt;"
      ],
      "text/latex": [
       "<NA>"
      ],
      "text/markdown": [
       "&lt;NA&gt;"
      ],
      "text/plain": [
       "[1] NA"
      ]
     },
     "metadata": {},
     "output_type": "display_data"
    }
   ],
   "source": [
    "2 + NA\n",
    "3 > NA\n",
    "\"NA\" == NA\n",
    "NA == NA"
   ]
  },
  {
   "cell_type": "code",
   "execution_count": 9,
   "id": "seeing-antenna",
   "metadata": {},
   "outputs": [
    {
     "data": {
      "text/html": [
       "TRUE"
      ],
      "text/latex": [
       "TRUE"
      ],
      "text/markdown": [
       "TRUE"
      ],
      "text/plain": [
       "[1] TRUE"
      ]
     },
     "metadata": {},
     "output_type": "display_data"
    }
   ],
   "source": [
    "# output whether a value is missing or not\n",
    "x <- NA\n",
    "is.na(x)"
   ]
  },
  {
   "cell_type": "code",
   "execution_count": 11,
   "id": "norman-friday",
   "metadata": {
    "scrolled": true
   },
   "outputs": [
    {
     "data": {
      "text/html": [
       "<table>\n",
       "<thead><tr><th scope=col>name</th><th scope=col>genus</th><th scope=col>vore</th><th scope=col>order</th><th scope=col>conservation</th><th scope=col>sleep_total</th><th scope=col>sleep_rem</th><th scope=col>sleep_cycle</th><th scope=col>awake</th><th scope=col>brainwt</th><th scope=col>bodywt</th></tr></thead>\n",
       "<tbody>\n",
       "\t<tr><td>Owl monkey                </td><td>Aotus                     </td><td>omni                      </td><td>Primates                  </td><td>NA                        </td><td>17.0                      </td><td>1.8                       </td><td>       NA                 </td><td> 7.00                     </td><td>0.01550                   </td><td>  0.480                   </td></tr>\n",
       "\t<tr><td>Mountain beaver           </td><td>Aplodontia                </td><td>herbi                     </td><td>Rodentia                  </td><td>nt                        </td><td>14.4                      </td><td>2.4                       </td><td>       NA                 </td><td> 9.60                     </td><td>     NA                   </td><td>  1.350                   </td></tr>\n",
       "\t<tr><td>Greater short-tailed shrew</td><td>Blarina                   </td><td>omni                      </td><td>Soricomorpha              </td><td>lc                        </td><td>14.9                      </td><td>2.3                       </td><td>0.1333333                 </td><td> 9.10                     </td><td>0.00029                   </td><td>  0.019                   </td></tr>\n",
       "\t<tr><td>Cow                       </td><td>Bos                       </td><td>herbi                     </td><td>Artiodactyla              </td><td>domesticated              </td><td> 4.0                      </td><td>0.7                       </td><td>0.6666667                 </td><td>20.00                     </td><td>0.42300                   </td><td>600.000                   </td></tr>\n",
       "\t<tr><td>Three-toed sloth          </td><td>Bradypus                  </td><td>herbi                     </td><td>Pilosa                    </td><td>NA                        </td><td>14.4                      </td><td>2.2                       </td><td>0.7666667                 </td><td> 9.60                     </td><td>     NA                   </td><td>  3.850                   </td></tr>\n",
       "\t<tr><td>Northern fur seal         </td><td>Callorhinus               </td><td>carni                     </td><td>Carnivora                 </td><td>vu                        </td><td> 8.7                      </td><td>1.4                       </td><td>0.3833333                 </td><td>15.30                     </td><td>     NA                   </td><td> 20.490                   </td></tr>\n",
       "\t<tr><td>Dog                       </td><td>Canis                     </td><td>carni                     </td><td>Carnivora                 </td><td>domesticated              </td><td>10.1                      </td><td>2.9                       </td><td>0.3333333                 </td><td>13.90                     </td><td>0.07000                   </td><td> 14.000                   </td></tr>\n",
       "\t<tr><td>Goat                      </td><td>Capri                     </td><td>herbi                     </td><td>Artiodactyla              </td><td>lc                        </td><td> 5.3                      </td><td>0.6                       </td><td>       NA                 </td><td>18.70                     </td><td>0.11500                   </td><td> 33.500                   </td></tr>\n",
       "\t<tr><td>Guinea pig                </td><td>Cavis                     </td><td>herbi                     </td><td>Rodentia                  </td><td>domesticated              </td><td> 9.4                      </td><td>0.8                       </td><td>0.2166667                 </td><td>14.60                     </td><td>0.00550                   </td><td>  0.728                   </td></tr>\n",
       "\t<tr><td>Grivet                    </td><td>Cercopithecus             </td><td>omni                      </td><td>Primates                  </td><td>lc                        </td><td>10.0                      </td><td>0.7                       </td><td>       NA                 </td><td>14.00                     </td><td>     NA                   </td><td>  4.750                   </td></tr>\n",
       "\t<tr><td>Chinchilla                </td><td>Chinchilla                </td><td>herbi                     </td><td>Rodentia                  </td><td>domesticated              </td><td>12.5                      </td><td>1.5                       </td><td>0.1166667                 </td><td>11.50                     </td><td>0.00640                   </td><td>  0.420                   </td></tr>\n",
       "\t<tr><td>Star-nosed mole           </td><td>Condylura                 </td><td>omni                      </td><td>Soricomorpha              </td><td>lc                        </td><td>10.3                      </td><td>2.2                       </td><td>       NA                 </td><td>13.70                     </td><td>0.00100                   </td><td>  0.060                   </td></tr>\n",
       "\t<tr><td>African giant pouched rat </td><td>Cricetomys                </td><td>omni                      </td><td>Rodentia                  </td><td>NA                        </td><td> 8.3                      </td><td>2.0                       </td><td>       NA                 </td><td>15.70                     </td><td>0.00660                   </td><td>  1.000                   </td></tr>\n",
       "\t<tr><td>Lesser short-tailed shrew </td><td>Cryptotis                 </td><td>omni                      </td><td>Soricomorpha              </td><td>lc                        </td><td> 9.1                      </td><td>1.4                       </td><td>0.1500000                 </td><td>14.90                     </td><td>0.00014                   </td><td>  0.005                   </td></tr>\n",
       "\t<tr><td>Long-nosed armadillo      </td><td>Dasypus                   </td><td>carni                     </td><td>Cingulata                 </td><td>lc                        </td><td>17.4                      </td><td>3.1                       </td><td>0.3833333                 </td><td> 6.60                     </td><td>0.01080                   </td><td>  3.500                   </td></tr>\n",
       "\t<tr><td>Tree hyrax                </td><td>Dendrohyrax               </td><td>herbi                     </td><td>Hyracoidea                </td><td>lc                        </td><td> 5.3                      </td><td>0.5                       </td><td>       NA                 </td><td>18.70                     </td><td>0.01230                   </td><td>  2.950                   </td></tr>\n",
       "\t<tr><td>North American Opossum    </td><td>Didelphis                 </td><td>omni                      </td><td>Didelphimorphia           </td><td>lc                        </td><td>18.0                      </td><td>4.9                       </td><td>0.3333333                 </td><td> 6.00                     </td><td>0.00630                   </td><td>  1.700                   </td></tr>\n",
       "\t<tr><td>Big brown bat             </td><td>Eptesicus                 </td><td>insecti                   </td><td>Chiroptera                </td><td>lc                        </td><td>19.7                      </td><td>3.9                       </td><td>0.1166667                 </td><td> 4.30                     </td><td>0.00030                   </td><td>  0.023                   </td></tr>\n",
       "\t<tr><td>Horse                     </td><td>Equus                     </td><td>herbi                     </td><td>Perissodactyla            </td><td>domesticated              </td><td> 2.9                      </td><td>0.6                       </td><td>1.0000000                 </td><td>21.10                     </td><td>0.65500                   </td><td>521.000                   </td></tr>\n",
       "\t<tr><td>Donkey                    </td><td>Equus                     </td><td>herbi                     </td><td>Perissodactyla            </td><td>domesticated              </td><td> 3.1                      </td><td>0.4                       </td><td>       NA                 </td><td>20.90                     </td><td>0.41900                   </td><td>187.000                   </td></tr>\n",
       "\t<tr><td>European hedgehog         </td><td>Erinaceus                 </td><td>omni                      </td><td>Erinaceomorpha            </td><td>lc                        </td><td>10.1                      </td><td>3.5                       </td><td>0.2833333                 </td><td>13.90                     </td><td>0.00350                   </td><td>  0.770                   </td></tr>\n",
       "\t<tr><td>Patas monkey              </td><td>Erythrocebus              </td><td>omni                      </td><td>Primates                  </td><td>lc                        </td><td>10.9                      </td><td>1.1                       </td><td>       NA                 </td><td>13.10                     </td><td>0.11500                   </td><td> 10.000                   </td></tr>\n",
       "\t<tr><td>Domestic cat              </td><td>Felis                     </td><td>carni                     </td><td>Carnivora                 </td><td>domesticated              </td><td>12.5                      </td><td>3.2                       </td><td>0.4166667                 </td><td>11.50                     </td><td>0.02560                   </td><td>  3.300                   </td></tr>\n",
       "\t<tr><td>Galago                    </td><td>Galago                    </td><td>omni                      </td><td>Primates                  </td><td>NA                        </td><td> 9.8                      </td><td>1.1                       </td><td>0.5500000                 </td><td>14.20                     </td><td>0.00500                   </td><td>  0.200                   </td></tr>\n",
       "\t<tr><td>Giraffe                   </td><td>Giraffa                   </td><td>herbi                     </td><td>Artiodactyla              </td><td>cd                        </td><td> 1.9                      </td><td>0.4                       </td><td>       NA                 </td><td>22.10                     </td><td>     NA                   </td><td>899.995                   </td></tr>\n",
       "\t<tr><td>Pilot whale               </td><td>Globicephalus             </td><td>carni                     </td><td>Cetacea                   </td><td>cd                        </td><td> 2.7                      </td><td>0.1                       </td><td>       NA                 </td><td>21.35                     </td><td>     NA                   </td><td>800.000                   </td></tr>\n",
       "\t<tr><td>Gray seal                 </td><td>Haliochoerus              </td><td>carni                     </td><td>Carnivora                 </td><td>lc                        </td><td> 6.2                      </td><td>1.5                       </td><td>       NA                 </td><td>17.80                     </td><td>0.32500                   </td><td> 85.000                   </td></tr>\n",
       "\t<tr><td>Gray hyrax                </td><td>Heterohyrax               </td><td>herbi                     </td><td>Hyracoidea                </td><td>lc                        </td><td> 6.3                      </td><td>0.6                       </td><td>       NA                 </td><td>17.70                     </td><td>0.01227                   </td><td>  2.625                   </td></tr>\n",
       "\t<tr><td>Human                     </td><td>Homo                      </td><td>omni                      </td><td>Primates                  </td><td>NA                        </td><td> 8.0                      </td><td>1.9                       </td><td>1.5000000                 </td><td>16.00                     </td><td>1.32000                   </td><td> 62.000                   </td></tr>\n",
       "\t<tr><td>Mongoose lemur            </td><td>Lemur                     </td><td>herbi                     </td><td>Primates                  </td><td>vu                        </td><td> 9.5                      </td><td>0.9                       </td><td>       NA                 </td><td>14.50                     </td><td>     NA                   </td><td>  1.670                   </td></tr>\n",
       "\t<tr><td>...</td><td>...</td><td>...</td><td>...</td><td>...</td><td>...</td><td>...</td><td>...</td><td>...</td><td>...</td><td>...</td></tr>\n",
       "\t<tr><td>Macaque                       </td><td>Macaca                        </td><td>omni                          </td><td>Primates                      </td><td>NA                            </td><td>10.1                          </td><td>1.2                           </td><td>0.7500000                     </td><td>13.9                          </td><td>0.17900                       </td><td>  6.800                       </td></tr>\n",
       "\t<tr><td>Mongolian gerbil              </td><td>Meriones                      </td><td>herbi                         </td><td>Rodentia                      </td><td>lc                            </td><td>14.2                          </td><td>1.9                           </td><td>       NA                     </td><td> 9.8                          </td><td>     NA                       </td><td>  0.053                       </td></tr>\n",
       "\t<tr><td>Golden hamster                </td><td>Mesocricetus                  </td><td>herbi                         </td><td>Rodentia                      </td><td>en                            </td><td>14.3                          </td><td>3.1                           </td><td>0.2000000                     </td><td> 9.7                          </td><td>0.00100                       </td><td>  0.120                       </td></tr>\n",
       "\t<tr><td>House mouse                   </td><td>Mus                           </td><td>herbi                         </td><td>Rodentia                      </td><td>nt                            </td><td>12.5                          </td><td>1.4                           </td><td>0.1833333                     </td><td>11.5                          </td><td>0.00040                       </td><td>  0.022                       </td></tr>\n",
       "\t<tr><td>Little brown bat              </td><td>Myotis                        </td><td>insecti                       </td><td>Chiroptera                    </td><td>NA                            </td><td>19.9                          </td><td>2.0                           </td><td>0.2000000                     </td><td> 4.1                          </td><td>0.00025                       </td><td>  0.010                       </td></tr>\n",
       "\t<tr><td>Degu                          </td><td>Octodon                       </td><td>herbi                         </td><td>Rodentia                      </td><td>lc                            </td><td> 7.7                          </td><td>0.9                           </td><td>       NA                     </td><td>16.3                          </td><td>     NA                       </td><td>  0.210                       </td></tr>\n",
       "\t<tr><td>Rabbit                        </td><td>Oryctolagus                   </td><td>herbi                         </td><td>Lagomorpha                    </td><td>domesticated                  </td><td> 8.4                          </td><td>0.9                           </td><td>0.4166667                     </td><td>15.6                          </td><td>0.01210                       </td><td>  2.500                       </td></tr>\n",
       "\t<tr><td>Sheep                         </td><td>Ovis                          </td><td>herbi                         </td><td>Artiodactyla                  </td><td>domesticated                  </td><td> 3.8                          </td><td>0.6                           </td><td>       NA                     </td><td>20.2                          </td><td>0.17500                       </td><td> 55.500                       </td></tr>\n",
       "\t<tr><td>Chimpanzee                    </td><td>Pan                           </td><td>omni                          </td><td>Primates                      </td><td>NA                            </td><td> 9.7                          </td><td>1.4                           </td><td>1.4166667                     </td><td>14.3                          </td><td>0.44000                       </td><td> 52.200                       </td></tr>\n",
       "\t<tr><td>Baboon                        </td><td>Papio                         </td><td>omni                          </td><td>Primates                      </td><td>NA                            </td><td> 9.4                          </td><td>1.0                           </td><td>0.6666667                     </td><td>14.6                          </td><td>0.18000                       </td><td> 25.235                       </td></tr>\n",
       "\t<tr><td>Desert hedgehog               </td><td>Paraechinus                   </td><td>NA                            </td><td>Erinaceomorpha                </td><td>lc                            </td><td>10.3                          </td><td>2.7                           </td><td>       NA                     </td><td>13.7                          </td><td>0.00240                       </td><td>  0.550                       </td></tr>\n",
       "\t<tr><td>Phalanger                     </td><td>Phalanger                     </td><td>NA                            </td><td>Diprotodontia                 </td><td>NA                            </td><td>13.7                          </td><td>1.8                           </td><td>       NA                     </td><td>10.3                          </td><td>0.01140                       </td><td>  1.620                       </td></tr>\n",
       "\t<tr><td>Caspian seal                  </td><td>Phoca                         </td><td>carni                         </td><td>Carnivora                     </td><td>vu                            </td><td> 3.5                          </td><td>0.4                           </td><td>       NA                     </td><td>20.5                          </td><td>     NA                       </td><td> 86.000                       </td></tr>\n",
       "\t<tr><td>Potoroo                       </td><td>Potorous                      </td><td>herbi                         </td><td>Diprotodontia                 </td><td>NA                            </td><td>11.1                          </td><td>1.5                           </td><td>       NA                     </td><td>12.9                          </td><td>     NA                       </td><td>  1.100                       </td></tr>\n",
       "\t<tr><td>Giant armadillo               </td><td>Priodontes                    </td><td>insecti                       </td><td>Cingulata                     </td><td>en                            </td><td>18.1                          </td><td>6.1                           </td><td>       NA                     </td><td> 5.9                          </td><td>0.08100                       </td><td> 60.000                       </td></tr>\n",
       "\t<tr><td>Rock hyrax                    </td><td>Procavia                      </td><td>NA                            </td><td>Hyracoidea                    </td><td>lc                            </td><td> 5.4                          </td><td>0.5                           </td><td>       NA                     </td><td>18.6                          </td><td>0.02100                       </td><td>  3.600                       </td></tr>\n",
       "\t<tr><td>Laboratory rat                </td><td>Rattus                        </td><td>herbi                         </td><td>Rodentia                      </td><td>lc                            </td><td>13.0                          </td><td>2.4                           </td><td>0.1833333                     </td><td>11.0                          </td><td>0.00190                       </td><td>  0.320                       </td></tr>\n",
       "\t<tr><td>Squirrel monkey               </td><td>Saimiri                       </td><td>omni                          </td><td>Primates                      </td><td>NA                            </td><td> 9.6                          </td><td>1.4                           </td><td>       NA                     </td><td>14.4                          </td><td>0.02000                       </td><td>  0.743                       </td></tr>\n",
       "\t<tr><td>Eastern american mole         </td><td>Scalopus                      </td><td>insecti                       </td><td>Soricomorpha                  </td><td>lc                            </td><td> 8.4                          </td><td>2.1                           </td><td>0.1666667                     </td><td>15.6                          </td><td>0.00120                       </td><td>  0.075                       </td></tr>\n",
       "\t<tr><td>Cotton rat                    </td><td>Sigmodon                      </td><td>herbi                         </td><td>Rodentia                      </td><td>NA                            </td><td>11.3                          </td><td>1.1                           </td><td>0.1500000                     </td><td>12.7                          </td><td>0.00118                       </td><td>  0.148                       </td></tr>\n",
       "\t<tr><td>Mole rat                      </td><td>Spalax                        </td><td>NA                            </td><td>Rodentia                      </td><td>NA                            </td><td>10.6                          </td><td>2.4                           </td><td>       NA                     </td><td>13.4                          </td><td>0.00300                       </td><td>  0.122                       </td></tr>\n",
       "\t<tr><td>Thirteen-lined ground squirrel</td><td>Spermophilus                  </td><td>herbi                         </td><td>Rodentia                      </td><td>lc                            </td><td>13.8                          </td><td>3.4                           </td><td>0.2166667                     </td><td>10.2                          </td><td>0.00400                       </td><td>  0.101                       </td></tr>\n",
       "\t<tr><td>Golden-mantled ground squirrel</td><td>Spermophilus                  </td><td>herbi                         </td><td>Rodentia                      </td><td>lc                            </td><td>15.9                          </td><td>3.0                           </td><td>       NA                     </td><td> 8.1                          </td><td>     NA                       </td><td>  0.205                       </td></tr>\n",
       "\t<tr><td>Musk shrew                    </td><td>Suncus                        </td><td>NA                            </td><td>Soricomorpha                  </td><td>NA                            </td><td>12.8                          </td><td>2.0                           </td><td>0.1833333                     </td><td>11.2                          </td><td>0.00033                       </td><td>  0.048                       </td></tr>\n",
       "\t<tr><td>Pig                           </td><td>Sus                           </td><td>omni                          </td><td>Artiodactyla                  </td><td>domesticated                  </td><td> 9.1                          </td><td>2.4                           </td><td>0.5000000                     </td><td>14.9                          </td><td>0.18000                       </td><td> 86.250                       </td></tr>\n",
       "\t<tr><td>Brazilian tapir               </td><td>Tapirus                       </td><td>herbi                         </td><td>Perissodactyla                </td><td>vu                            </td><td> 4.4                          </td><td>1.0                           </td><td>0.9000000                     </td><td>19.6                          </td><td>0.16900                       </td><td>207.501                       </td></tr>\n",
       "\t<tr><td>Tenrec                        </td><td>Tenrec                        </td><td>omni                          </td><td>Afrosoricida                  </td><td>NA                            </td><td>15.6                          </td><td>2.3                           </td><td>       NA                     </td><td> 8.4                          </td><td>0.00260                       </td><td>  0.900                       </td></tr>\n",
       "\t<tr><td>Tree shrew                    </td><td>Tupaia                        </td><td>omni                          </td><td>Scandentia                    </td><td>NA                            </td><td> 8.9                          </td><td>2.6                           </td><td>0.2333333                     </td><td>15.1                          </td><td>0.00250                       </td><td>  0.104                       </td></tr>\n",
       "\t<tr><td>Genet                         </td><td>Genetta                       </td><td>carni                         </td><td>Carnivora                     </td><td>NA                            </td><td> 6.3                          </td><td>1.3                           </td><td>       NA                     </td><td>17.7                          </td><td>0.01750                       </td><td>  2.000                       </td></tr>\n",
       "\t<tr><td>Red fox                       </td><td>Vulpes                        </td><td>carni                         </td><td>Carnivora                     </td><td>NA                            </td><td> 9.8                          </td><td>2.4                           </td><td>0.3500000                     </td><td>14.2                          </td><td>0.05040                       </td><td>  4.230                       </td></tr>\n",
       "</tbody>\n",
       "</table>\n"
      ],
      "text/latex": [
       "\\begin{tabular}{r|lllllllllll}\n",
       " name & genus & vore & order & conservation & sleep\\_total & sleep\\_rem & sleep\\_cycle & awake & brainwt & bodywt\\\\\n",
       "\\hline\n",
       "\t Owl monkey                 & Aotus                      & omni                       & Primates                   & NA                         & 17.0                       & 1.8                        &        NA                  &  7.00                      & 0.01550                    &   0.480                   \\\\\n",
       "\t Mountain beaver            & Aplodontia                 & herbi                      & Rodentia                   & nt                         & 14.4                       & 2.4                        &        NA                  &  9.60                      &      NA                    &   1.350                   \\\\\n",
       "\t Greater short-tailed shrew & Blarina                    & omni                       & Soricomorpha               & lc                         & 14.9                       & 2.3                        & 0.1333333                  &  9.10                      & 0.00029                    &   0.019                   \\\\\n",
       "\t Cow                        & Bos                        & herbi                      & Artiodactyla               & domesticated               &  4.0                       & 0.7                        & 0.6666667                  & 20.00                      & 0.42300                    & 600.000                   \\\\\n",
       "\t Three-toed sloth           & Bradypus                   & herbi                      & Pilosa                     & NA                         & 14.4                       & 2.2                        & 0.7666667                  &  9.60                      &      NA                    &   3.850                   \\\\\n",
       "\t Northern fur seal          & Callorhinus                & carni                      & Carnivora                  & vu                         &  8.7                       & 1.4                        & 0.3833333                  & 15.30                      &      NA                    &  20.490                   \\\\\n",
       "\t Dog                        & Canis                      & carni                      & Carnivora                  & domesticated               & 10.1                       & 2.9                        & 0.3333333                  & 13.90                      & 0.07000                    &  14.000                   \\\\\n",
       "\t Goat                       & Capri                      & herbi                      & Artiodactyla               & lc                         &  5.3                       & 0.6                        &        NA                  & 18.70                      & 0.11500                    &  33.500                   \\\\\n",
       "\t Guinea pig                 & Cavis                      & herbi                      & Rodentia                   & domesticated               &  9.4                       & 0.8                        & 0.2166667                  & 14.60                      & 0.00550                    &   0.728                   \\\\\n",
       "\t Grivet                     & Cercopithecus              & omni                       & Primates                   & lc                         & 10.0                       & 0.7                        &        NA                  & 14.00                      &      NA                    &   4.750                   \\\\\n",
       "\t Chinchilla                 & Chinchilla                 & herbi                      & Rodentia                   & domesticated               & 12.5                       & 1.5                        & 0.1166667                  & 11.50                      & 0.00640                    &   0.420                   \\\\\n",
       "\t Star-nosed mole            & Condylura                  & omni                       & Soricomorpha               & lc                         & 10.3                       & 2.2                        &        NA                  & 13.70                      & 0.00100                    &   0.060                   \\\\\n",
       "\t African giant pouched rat  & Cricetomys                 & omni                       & Rodentia                   & NA                         &  8.3                       & 2.0                        &        NA                  & 15.70                      & 0.00660                    &   1.000                   \\\\\n",
       "\t Lesser short-tailed shrew  & Cryptotis                  & omni                       & Soricomorpha               & lc                         &  9.1                       & 1.4                        & 0.1500000                  & 14.90                      & 0.00014                    &   0.005                   \\\\\n",
       "\t Long-nosed armadillo       & Dasypus                    & carni                      & Cingulata                  & lc                         & 17.4                       & 3.1                        & 0.3833333                  &  6.60                      & 0.01080                    &   3.500                   \\\\\n",
       "\t Tree hyrax                 & Dendrohyrax                & herbi                      & Hyracoidea                 & lc                         &  5.3                       & 0.5                        &        NA                  & 18.70                      & 0.01230                    &   2.950                   \\\\\n",
       "\t North American Opossum     & Didelphis                  & omni                       & Didelphimorphia            & lc                         & 18.0                       & 4.9                        & 0.3333333                  &  6.00                      & 0.00630                    &   1.700                   \\\\\n",
       "\t Big brown bat              & Eptesicus                  & insecti                    & Chiroptera                 & lc                         & 19.7                       & 3.9                        & 0.1166667                  &  4.30                      & 0.00030                    &   0.023                   \\\\\n",
       "\t Horse                      & Equus                      & herbi                      & Perissodactyla             & domesticated               &  2.9                       & 0.6                        & 1.0000000                  & 21.10                      & 0.65500                    & 521.000                   \\\\\n",
       "\t Donkey                     & Equus                      & herbi                      & Perissodactyla             & domesticated               &  3.1                       & 0.4                        &        NA                  & 20.90                      & 0.41900                    & 187.000                   \\\\\n",
       "\t European hedgehog          & Erinaceus                  & omni                       & Erinaceomorpha             & lc                         & 10.1                       & 3.5                        & 0.2833333                  & 13.90                      & 0.00350                    &   0.770                   \\\\\n",
       "\t Patas monkey               & Erythrocebus               & omni                       & Primates                   & lc                         & 10.9                       & 1.1                        &        NA                  & 13.10                      & 0.11500                    &  10.000                   \\\\\n",
       "\t Domestic cat               & Felis                      & carni                      & Carnivora                  & domesticated               & 12.5                       & 3.2                        & 0.4166667                  & 11.50                      & 0.02560                    &   3.300                   \\\\\n",
       "\t Galago                     & Galago                     & omni                       & Primates                   & NA                         &  9.8                       & 1.1                        & 0.5500000                  & 14.20                      & 0.00500                    &   0.200                   \\\\\n",
       "\t Giraffe                    & Giraffa                    & herbi                      & Artiodactyla               & cd                         &  1.9                       & 0.4                        &        NA                  & 22.10                      &      NA                    & 899.995                   \\\\\n",
       "\t Pilot whale                & Globicephalus              & carni                      & Cetacea                    & cd                         &  2.7                       & 0.1                        &        NA                  & 21.35                      &      NA                    & 800.000                   \\\\\n",
       "\t Gray seal                  & Haliochoerus               & carni                      & Carnivora                  & lc                         &  6.2                       & 1.5                        &        NA                  & 17.80                      & 0.32500                    &  85.000                   \\\\\n",
       "\t Gray hyrax                 & Heterohyrax                & herbi                      & Hyracoidea                 & lc                         &  6.3                       & 0.6                        &        NA                  & 17.70                      & 0.01227                    &   2.625                   \\\\\n",
       "\t Human                      & Homo                       & omni                       & Primates                   & NA                         &  8.0                       & 1.9                        & 1.5000000                  & 16.00                      & 1.32000                    &  62.000                   \\\\\n",
       "\t Mongoose lemur             & Lemur                      & herbi                      & Primates                   & vu                         &  9.5                       & 0.9                        &        NA                  & 14.50                      &      NA                    &   1.670                   \\\\\n",
       "\t ... & ... & ... & ... & ... & ... & ... & ... & ... & ... & ...\\\\\n",
       "\t Macaque                        & Macaca                         & omni                           & Primates                       & NA                             & 10.1                           & 1.2                            & 0.7500000                      & 13.9                           & 0.17900                        &   6.800                       \\\\\n",
       "\t Mongolian gerbil               & Meriones                       & herbi                          & Rodentia                       & lc                             & 14.2                           & 1.9                            &        NA                      &  9.8                           &      NA                        &   0.053                       \\\\\n",
       "\t Golden hamster                 & Mesocricetus                   & herbi                          & Rodentia                       & en                             & 14.3                           & 3.1                            & 0.2000000                      &  9.7                           & 0.00100                        &   0.120                       \\\\\n",
       "\t House mouse                    & Mus                            & herbi                          & Rodentia                       & nt                             & 12.5                           & 1.4                            & 0.1833333                      & 11.5                           & 0.00040                        &   0.022                       \\\\\n",
       "\t Little brown bat               & Myotis                         & insecti                        & Chiroptera                     & NA                             & 19.9                           & 2.0                            & 0.2000000                      &  4.1                           & 0.00025                        &   0.010                       \\\\\n",
       "\t Degu                           & Octodon                        & herbi                          & Rodentia                       & lc                             &  7.7                           & 0.9                            &        NA                      & 16.3                           &      NA                        &   0.210                       \\\\\n",
       "\t Rabbit                         & Oryctolagus                    & herbi                          & Lagomorpha                     & domesticated                   &  8.4                           & 0.9                            & 0.4166667                      & 15.6                           & 0.01210                        &   2.500                       \\\\\n",
       "\t Sheep                          & Ovis                           & herbi                          & Artiodactyla                   & domesticated                   &  3.8                           & 0.6                            &        NA                      & 20.2                           & 0.17500                        &  55.500                       \\\\\n",
       "\t Chimpanzee                     & Pan                            & omni                           & Primates                       & NA                             &  9.7                           & 1.4                            & 1.4166667                      & 14.3                           & 0.44000                        &  52.200                       \\\\\n",
       "\t Baboon                         & Papio                          & omni                           & Primates                       & NA                             &  9.4                           & 1.0                            & 0.6666667                      & 14.6                           & 0.18000                        &  25.235                       \\\\\n",
       "\t Desert hedgehog                & Paraechinus                    & NA                             & Erinaceomorpha                 & lc                             & 10.3                           & 2.7                            &        NA                      & 13.7                           & 0.00240                        &   0.550                       \\\\\n",
       "\t Phalanger                      & Phalanger                      & NA                             & Diprotodontia                  & NA                             & 13.7                           & 1.8                            &        NA                      & 10.3                           & 0.01140                        &   1.620                       \\\\\n",
       "\t Caspian seal                   & Phoca                          & carni                          & Carnivora                      & vu                             &  3.5                           & 0.4                            &        NA                      & 20.5                           &      NA                        &  86.000                       \\\\\n",
       "\t Potoroo                        & Potorous                       & herbi                          & Diprotodontia                  & NA                             & 11.1                           & 1.5                            &        NA                      & 12.9                           &      NA                        &   1.100                       \\\\\n",
       "\t Giant armadillo                & Priodontes                     & insecti                        & Cingulata                      & en                             & 18.1                           & 6.1                            &        NA                      &  5.9                           & 0.08100                        &  60.000                       \\\\\n",
       "\t Rock hyrax                     & Procavia                       & NA                             & Hyracoidea                     & lc                             &  5.4                           & 0.5                            &        NA                      & 18.6                           & 0.02100                        &   3.600                       \\\\\n",
       "\t Laboratory rat                 & Rattus                         & herbi                          & Rodentia                       & lc                             & 13.0                           & 2.4                            & 0.1833333                      & 11.0                           & 0.00190                        &   0.320                       \\\\\n",
       "\t Squirrel monkey                & Saimiri                        & omni                           & Primates                       & NA                             &  9.6                           & 1.4                            &        NA                      & 14.4                           & 0.02000                        &   0.743                       \\\\\n",
       "\t Eastern american mole          & Scalopus                       & insecti                        & Soricomorpha                   & lc                             &  8.4                           & 2.1                            & 0.1666667                      & 15.6                           & 0.00120                        &   0.075                       \\\\\n",
       "\t Cotton rat                     & Sigmodon                       & herbi                          & Rodentia                       & NA                             & 11.3                           & 1.1                            & 0.1500000                      & 12.7                           & 0.00118                        &   0.148                       \\\\\n",
       "\t Mole rat                       & Spalax                         & NA                             & Rodentia                       & NA                             & 10.6                           & 2.4                            &        NA                      & 13.4                           & 0.00300                        &   0.122                       \\\\\n",
       "\t Thirteen-lined ground squirrel & Spermophilus                   & herbi                          & Rodentia                       & lc                             & 13.8                           & 3.4                            & 0.2166667                      & 10.2                           & 0.00400                        &   0.101                       \\\\\n",
       "\t Golden-mantled ground squirrel & Spermophilus                   & herbi                          & Rodentia                       & lc                             & 15.9                           & 3.0                            &        NA                      &  8.1                           &      NA                        &   0.205                       \\\\\n",
       "\t Musk shrew                     & Suncus                         & NA                             & Soricomorpha                   & NA                             & 12.8                           & 2.0                            & 0.1833333                      & 11.2                           & 0.00033                        &   0.048                       \\\\\n",
       "\t Pig                            & Sus                            & omni                           & Artiodactyla                   & domesticated                   &  9.1                           & 2.4                            & 0.5000000                      & 14.9                           & 0.18000                        &  86.250                       \\\\\n",
       "\t Brazilian tapir                & Tapirus                        & herbi                          & Perissodactyla                 & vu                             &  4.4                           & 1.0                            & 0.9000000                      & 19.6                           & 0.16900                        & 207.501                       \\\\\n",
       "\t Tenrec                         & Tenrec                         & omni                           & Afrosoricida                   & NA                             & 15.6                           & 2.3                            &        NA                      &  8.4                           & 0.00260                        &   0.900                       \\\\\n",
       "\t Tree shrew                     & Tupaia                         & omni                           & Scandentia                     & NA                             &  8.9                           & 2.6                            & 0.2333333                      & 15.1                           & 0.00250                        &   0.104                       \\\\\n",
       "\t Genet                          & Genetta                        & carni                          & Carnivora                      & NA                             &  6.3                           & 1.3                            &        NA                      & 17.7                           & 0.01750                        &   2.000                       \\\\\n",
       "\t Red fox                        & Vulpes                         & carni                          & Carnivora                      & NA                             &  9.8                           & 2.4                            & 0.3500000                      & 14.2                           & 0.05040                        &   4.230                       \\\\\n",
       "\\end{tabular}\n"
      ],
      "text/markdown": [
       "\n",
       "| name | genus | vore | order | conservation | sleep_total | sleep_rem | sleep_cycle | awake | brainwt | bodywt |\n",
       "|---|---|---|---|---|---|---|---|---|---|---|\n",
       "| Owl monkey                 | Aotus                      | omni                       | Primates                   | NA                         | 17.0                       | 1.8                        |        NA                  |  7.00                      | 0.01550                    |   0.480                    |\n",
       "| Mountain beaver            | Aplodontia                 | herbi                      | Rodentia                   | nt                         | 14.4                       | 2.4                        |        NA                  |  9.60                      |      NA                    |   1.350                    |\n",
       "| Greater short-tailed shrew | Blarina                    | omni                       | Soricomorpha               | lc                         | 14.9                       | 2.3                        | 0.1333333                  |  9.10                      | 0.00029                    |   0.019                    |\n",
       "| Cow                        | Bos                        | herbi                      | Artiodactyla               | domesticated               |  4.0                       | 0.7                        | 0.6666667                  | 20.00                      | 0.42300                    | 600.000                    |\n",
       "| Three-toed sloth           | Bradypus                   | herbi                      | Pilosa                     | NA                         | 14.4                       | 2.2                        | 0.7666667                  |  9.60                      |      NA                    |   3.850                    |\n",
       "| Northern fur seal          | Callorhinus                | carni                      | Carnivora                  | vu                         |  8.7                       | 1.4                        | 0.3833333                  | 15.30                      |      NA                    |  20.490                    |\n",
       "| Dog                        | Canis                      | carni                      | Carnivora                  | domesticated               | 10.1                       | 2.9                        | 0.3333333                  | 13.90                      | 0.07000                    |  14.000                    |\n",
       "| Goat                       | Capri                      | herbi                      | Artiodactyla               | lc                         |  5.3                       | 0.6                        |        NA                  | 18.70                      | 0.11500                    |  33.500                    |\n",
       "| Guinea pig                 | Cavis                      | herbi                      | Rodentia                   | domesticated               |  9.4                       | 0.8                        | 0.2166667                  | 14.60                      | 0.00550                    |   0.728                    |\n",
       "| Grivet                     | Cercopithecus              | omni                       | Primates                   | lc                         | 10.0                       | 0.7                        |        NA                  | 14.00                      |      NA                    |   4.750                    |\n",
       "| Chinchilla                 | Chinchilla                 | herbi                      | Rodentia                   | domesticated               | 12.5                       | 1.5                        | 0.1166667                  | 11.50                      | 0.00640                    |   0.420                    |\n",
       "| Star-nosed mole            | Condylura                  | omni                       | Soricomorpha               | lc                         | 10.3                       | 2.2                        |        NA                  | 13.70                      | 0.00100                    |   0.060                    |\n",
       "| African giant pouched rat  | Cricetomys                 | omni                       | Rodentia                   | NA                         |  8.3                       | 2.0                        |        NA                  | 15.70                      | 0.00660                    |   1.000                    |\n",
       "| Lesser short-tailed shrew  | Cryptotis                  | omni                       | Soricomorpha               | lc                         |  9.1                       | 1.4                        | 0.1500000                  | 14.90                      | 0.00014                    |   0.005                    |\n",
       "| Long-nosed armadillo       | Dasypus                    | carni                      | Cingulata                  | lc                         | 17.4                       | 3.1                        | 0.3833333                  |  6.60                      | 0.01080                    |   3.500                    |\n",
       "| Tree hyrax                 | Dendrohyrax                | herbi                      | Hyracoidea                 | lc                         |  5.3                       | 0.5                        |        NA                  | 18.70                      | 0.01230                    |   2.950                    |\n",
       "| North American Opossum     | Didelphis                  | omni                       | Didelphimorphia            | lc                         | 18.0                       | 4.9                        | 0.3333333                  |  6.00                      | 0.00630                    |   1.700                    |\n",
       "| Big brown bat              | Eptesicus                  | insecti                    | Chiroptera                 | lc                         | 19.7                       | 3.9                        | 0.1166667                  |  4.30                      | 0.00030                    |   0.023                    |\n",
       "| Horse                      | Equus                      | herbi                      | Perissodactyla             | domesticated               |  2.9                       | 0.6                        | 1.0000000                  | 21.10                      | 0.65500                    | 521.000                    |\n",
       "| Donkey                     | Equus                      | herbi                      | Perissodactyla             | domesticated               |  3.1                       | 0.4                        |        NA                  | 20.90                      | 0.41900                    | 187.000                    |\n",
       "| European hedgehog          | Erinaceus                  | omni                       | Erinaceomorpha             | lc                         | 10.1                       | 3.5                        | 0.2833333                  | 13.90                      | 0.00350                    |   0.770                    |\n",
       "| Patas monkey               | Erythrocebus               | omni                       | Primates                   | lc                         | 10.9                       | 1.1                        |        NA                  | 13.10                      | 0.11500                    |  10.000                    |\n",
       "| Domestic cat               | Felis                      | carni                      | Carnivora                  | domesticated               | 12.5                       | 3.2                        | 0.4166667                  | 11.50                      | 0.02560                    |   3.300                    |\n",
       "| Galago                     | Galago                     | omni                       | Primates                   | NA                         |  9.8                       | 1.1                        | 0.5500000                  | 14.20                      | 0.00500                    |   0.200                    |\n",
       "| Giraffe                    | Giraffa                    | herbi                      | Artiodactyla               | cd                         |  1.9                       | 0.4                        |        NA                  | 22.10                      |      NA                    | 899.995                    |\n",
       "| Pilot whale                | Globicephalus              | carni                      | Cetacea                    | cd                         |  2.7                       | 0.1                        |        NA                  | 21.35                      |      NA                    | 800.000                    |\n",
       "| Gray seal                  | Haliochoerus               | carni                      | Carnivora                  | lc                         |  6.2                       | 1.5                        |        NA                  | 17.80                      | 0.32500                    |  85.000                    |\n",
       "| Gray hyrax                 | Heterohyrax                | herbi                      | Hyracoidea                 | lc                         |  6.3                       | 0.6                        |        NA                  | 17.70                      | 0.01227                    |   2.625                    |\n",
       "| Human                      | Homo                       | omni                       | Primates                   | NA                         |  8.0                       | 1.9                        | 1.5000000                  | 16.00                      | 1.32000                    |  62.000                    |\n",
       "| Mongoose lemur             | Lemur                      | herbi                      | Primates                   | vu                         |  9.5                       | 0.9                        |        NA                  | 14.50                      |      NA                    |   1.670                    |\n",
       "| ... | ... | ... | ... | ... | ... | ... | ... | ... | ... | ... |\n",
       "| Macaque                        | Macaca                         | omni                           | Primates                       | NA                             | 10.1                           | 1.2                            | 0.7500000                      | 13.9                           | 0.17900                        |   6.800                        |\n",
       "| Mongolian gerbil               | Meriones                       | herbi                          | Rodentia                       | lc                             | 14.2                           | 1.9                            |        NA                      |  9.8                           |      NA                        |   0.053                        |\n",
       "| Golden hamster                 | Mesocricetus                   | herbi                          | Rodentia                       | en                             | 14.3                           | 3.1                            | 0.2000000                      |  9.7                           | 0.00100                        |   0.120                        |\n",
       "| House mouse                    | Mus                            | herbi                          | Rodentia                       | nt                             | 12.5                           | 1.4                            | 0.1833333                      | 11.5                           | 0.00040                        |   0.022                        |\n",
       "| Little brown bat               | Myotis                         | insecti                        | Chiroptera                     | NA                             | 19.9                           | 2.0                            | 0.2000000                      |  4.1                           | 0.00025                        |   0.010                        |\n",
       "| Degu                           | Octodon                        | herbi                          | Rodentia                       | lc                             |  7.7                           | 0.9                            |        NA                      | 16.3                           |      NA                        |   0.210                        |\n",
       "| Rabbit                         | Oryctolagus                    | herbi                          | Lagomorpha                     | domesticated                   |  8.4                           | 0.9                            | 0.4166667                      | 15.6                           | 0.01210                        |   2.500                        |\n",
       "| Sheep                          | Ovis                           | herbi                          | Artiodactyla                   | domesticated                   |  3.8                           | 0.6                            |        NA                      | 20.2                           | 0.17500                        |  55.500                        |\n",
       "| Chimpanzee                     | Pan                            | omni                           | Primates                       | NA                             |  9.7                           | 1.4                            | 1.4166667                      | 14.3                           | 0.44000                        |  52.200                        |\n",
       "| Baboon                         | Papio                          | omni                           | Primates                       | NA                             |  9.4                           | 1.0                            | 0.6666667                      | 14.6                           | 0.18000                        |  25.235                        |\n",
       "| Desert hedgehog                | Paraechinus                    | NA                             | Erinaceomorpha                 | lc                             | 10.3                           | 2.7                            |        NA                      | 13.7                           | 0.00240                        |   0.550                        |\n",
       "| Phalanger                      | Phalanger                      | NA                             | Diprotodontia                  | NA                             | 13.7                           | 1.8                            |        NA                      | 10.3                           | 0.01140                        |   1.620                        |\n",
       "| Caspian seal                   | Phoca                          | carni                          | Carnivora                      | vu                             |  3.5                           | 0.4                            |        NA                      | 20.5                           |      NA                        |  86.000                        |\n",
       "| Potoroo                        | Potorous                       | herbi                          | Diprotodontia                  | NA                             | 11.1                           | 1.5                            |        NA                      | 12.9                           |      NA                        |   1.100                        |\n",
       "| Giant armadillo                | Priodontes                     | insecti                        | Cingulata                      | en                             | 18.1                           | 6.1                            |        NA                      |  5.9                           | 0.08100                        |  60.000                        |\n",
       "| Rock hyrax                     | Procavia                       | NA                             | Hyracoidea                     | lc                             |  5.4                           | 0.5                            |        NA                      | 18.6                           | 0.02100                        |   3.600                        |\n",
       "| Laboratory rat                 | Rattus                         | herbi                          | Rodentia                       | lc                             | 13.0                           | 2.4                            | 0.1833333                      | 11.0                           | 0.00190                        |   0.320                        |\n",
       "| Squirrel monkey                | Saimiri                        | omni                           | Primates                       | NA                             |  9.6                           | 1.4                            |        NA                      | 14.4                           | 0.02000                        |   0.743                        |\n",
       "| Eastern american mole          | Scalopus                       | insecti                        | Soricomorpha                   | lc                             |  8.4                           | 2.1                            | 0.1666667                      | 15.6                           | 0.00120                        |   0.075                        |\n",
       "| Cotton rat                     | Sigmodon                       | herbi                          | Rodentia                       | NA                             | 11.3                           | 1.1                            | 0.1500000                      | 12.7                           | 0.00118                        |   0.148                        |\n",
       "| Mole rat                       | Spalax                         | NA                             | Rodentia                       | NA                             | 10.6                           | 2.4                            |        NA                      | 13.4                           | 0.00300                        |   0.122                        |\n",
       "| Thirteen-lined ground squirrel | Spermophilus                   | herbi                          | Rodentia                       | lc                             | 13.8                           | 3.4                            | 0.2166667                      | 10.2                           | 0.00400                        |   0.101                        |\n",
       "| Golden-mantled ground squirrel | Spermophilus                   | herbi                          | Rodentia                       | lc                             | 15.9                           | 3.0                            |        NA                      |  8.1                           |      NA                        |   0.205                        |\n",
       "| Musk shrew                     | Suncus                         | NA                             | Soricomorpha                   | NA                             | 12.8                           | 2.0                            | 0.1833333                      | 11.2                           | 0.00033                        |   0.048                        |\n",
       "| Pig                            | Sus                            | omni                           | Artiodactyla                   | domesticated                   |  9.1                           | 2.4                            | 0.5000000                      | 14.9                           | 0.18000                        |  86.250                        |\n",
       "| Brazilian tapir                | Tapirus                        | herbi                          | Perissodactyla                 | vu                             |  4.4                           | 1.0                            | 0.9000000                      | 19.6                           | 0.16900                        | 207.501                        |\n",
       "| Tenrec                         | Tenrec                         | omni                           | Afrosoricida                   | NA                             | 15.6                           | 2.3                            |        NA                      |  8.4                           | 0.00260                        |   0.900                        |\n",
       "| Tree shrew                     | Tupaia                         | omni                           | Scandentia                     | NA                             |  8.9                           | 2.6                            | 0.2333333                      | 15.1                           | 0.00250                        |   0.104                        |\n",
       "| Genet                          | Genetta                        | carni                          | Carnivora                      | NA                             |  6.3                           | 1.3                            |        NA                      | 17.7                           | 0.01750                        |   2.000                        |\n",
       "| Red fox                        | Vulpes                         | carni                          | Carnivora                      | NA                             |  9.8                           | 2.4                            | 0.3500000                      | 14.2                           | 0.05040                        |   4.230                        |\n",
       "\n"
      ],
      "text/plain": [
       "    name                           genus         vore    order          \n",
       "1   Owl monkey                     Aotus         omni    Primates       \n",
       "2   Mountain beaver                Aplodontia    herbi   Rodentia       \n",
       "3   Greater short-tailed shrew     Blarina       omni    Soricomorpha   \n",
       "4   Cow                            Bos           herbi   Artiodactyla   \n",
       "5   Three-toed sloth               Bradypus      herbi   Pilosa         \n",
       "6   Northern fur seal              Callorhinus   carni   Carnivora      \n",
       "7   Dog                            Canis         carni   Carnivora      \n",
       "8   Goat                           Capri         herbi   Artiodactyla   \n",
       "9   Guinea pig                     Cavis         herbi   Rodentia       \n",
       "10  Grivet                         Cercopithecus omni    Primates       \n",
       "11  Chinchilla                     Chinchilla    herbi   Rodentia       \n",
       "12  Star-nosed mole                Condylura     omni    Soricomorpha   \n",
       "13  African giant pouched rat      Cricetomys    omni    Rodentia       \n",
       "14  Lesser short-tailed shrew      Cryptotis     omni    Soricomorpha   \n",
       "15  Long-nosed armadillo           Dasypus       carni   Cingulata      \n",
       "16  Tree hyrax                     Dendrohyrax   herbi   Hyracoidea     \n",
       "17  North American Opossum         Didelphis     omni    Didelphimorphia\n",
       "18  Big brown bat                  Eptesicus     insecti Chiroptera     \n",
       "19  Horse                          Equus         herbi   Perissodactyla \n",
       "20  Donkey                         Equus         herbi   Perissodactyla \n",
       "21  European hedgehog              Erinaceus     omni    Erinaceomorpha \n",
       "22  Patas monkey                   Erythrocebus  omni    Primates       \n",
       "23  Domestic cat                   Felis         carni   Carnivora      \n",
       "24  Galago                         Galago        omni    Primates       \n",
       "25  Giraffe                        Giraffa       herbi   Artiodactyla   \n",
       "26  Pilot whale                    Globicephalus carni   Cetacea        \n",
       "27  Gray seal                      Haliochoerus  carni   Carnivora      \n",
       "28  Gray hyrax                     Heterohyrax   herbi   Hyracoidea     \n",
       "29  Human                          Homo          omni    Primates       \n",
       "30  Mongoose lemur                 Lemur         herbi   Primates       \n",
       "... ...                            ...           ...     ...            \n",
       "32  Macaque                        Macaca        omni    Primates       \n",
       "33  Mongolian gerbil               Meriones      herbi   Rodentia       \n",
       "34  Golden hamster                 Mesocricetus  herbi   Rodentia       \n",
       "35  House mouse                    Mus           herbi   Rodentia       \n",
       "36  Little brown bat               Myotis        insecti Chiroptera     \n",
       "37  Degu                           Octodon       herbi   Rodentia       \n",
       "38  Rabbit                         Oryctolagus   herbi   Lagomorpha     \n",
       "39  Sheep                          Ovis          herbi   Artiodactyla   \n",
       "40  Chimpanzee                     Pan           omni    Primates       \n",
       "41  Baboon                         Papio         omni    Primates       \n",
       "42  Desert hedgehog                Paraechinus   NA      Erinaceomorpha \n",
       "43  Phalanger                      Phalanger     NA      Diprotodontia  \n",
       "44  Caspian seal                   Phoca         carni   Carnivora      \n",
       "45  Potoroo                        Potorous      herbi   Diprotodontia  \n",
       "46  Giant armadillo                Priodontes    insecti Cingulata      \n",
       "47  Rock hyrax                     Procavia      NA      Hyracoidea     \n",
       "48  Laboratory rat                 Rattus        herbi   Rodentia       \n",
       "49  Squirrel monkey                Saimiri       omni    Primates       \n",
       "50  Eastern american mole          Scalopus      insecti Soricomorpha   \n",
       "51  Cotton rat                     Sigmodon      herbi   Rodentia       \n",
       "52  Mole rat                       Spalax        NA      Rodentia       \n",
       "53  Thirteen-lined ground squirrel Spermophilus  herbi   Rodentia       \n",
       "54  Golden-mantled ground squirrel Spermophilus  herbi   Rodentia       \n",
       "55  Musk shrew                     Suncus        NA      Soricomorpha   \n",
       "56  Pig                            Sus           omni    Artiodactyla   \n",
       "57  Brazilian tapir                Tapirus       herbi   Perissodactyla \n",
       "58  Tenrec                         Tenrec        omni    Afrosoricida   \n",
       "59  Tree shrew                     Tupaia        omni    Scandentia     \n",
       "60  Genet                          Genetta       carni   Carnivora      \n",
       "61  Red fox                        Vulpes        carni   Carnivora      \n",
       "    conservation sleep_total sleep_rem sleep_cycle awake brainwt bodywt \n",
       "1   NA           17.0        1.8              NA    7.00 0.01550   0.480\n",
       "2   nt           14.4        2.4              NA    9.60      NA   1.350\n",
       "3   lc           14.9        2.3       0.1333333    9.10 0.00029   0.019\n",
       "4   domesticated  4.0        0.7       0.6666667   20.00 0.42300 600.000\n",
       "5   NA           14.4        2.2       0.7666667    9.60      NA   3.850\n",
       "6   vu            8.7        1.4       0.3833333   15.30      NA  20.490\n",
       "7   domesticated 10.1        2.9       0.3333333   13.90 0.07000  14.000\n",
       "8   lc            5.3        0.6              NA   18.70 0.11500  33.500\n",
       "9   domesticated  9.4        0.8       0.2166667   14.60 0.00550   0.728\n",
       "10  lc           10.0        0.7              NA   14.00      NA   4.750\n",
       "11  domesticated 12.5        1.5       0.1166667   11.50 0.00640   0.420\n",
       "12  lc           10.3        2.2              NA   13.70 0.00100   0.060\n",
       "13  NA            8.3        2.0              NA   15.70 0.00660   1.000\n",
       "14  lc            9.1        1.4       0.1500000   14.90 0.00014   0.005\n",
       "15  lc           17.4        3.1       0.3833333    6.60 0.01080   3.500\n",
       "16  lc            5.3        0.5              NA   18.70 0.01230   2.950\n",
       "17  lc           18.0        4.9       0.3333333    6.00 0.00630   1.700\n",
       "18  lc           19.7        3.9       0.1166667    4.30 0.00030   0.023\n",
       "19  domesticated  2.9        0.6       1.0000000   21.10 0.65500 521.000\n",
       "20  domesticated  3.1        0.4              NA   20.90 0.41900 187.000\n",
       "21  lc           10.1        3.5       0.2833333   13.90 0.00350   0.770\n",
       "22  lc           10.9        1.1              NA   13.10 0.11500  10.000\n",
       "23  domesticated 12.5        3.2       0.4166667   11.50 0.02560   3.300\n",
       "24  NA            9.8        1.1       0.5500000   14.20 0.00500   0.200\n",
       "25  cd            1.9        0.4              NA   22.10      NA 899.995\n",
       "26  cd            2.7        0.1              NA   21.35      NA 800.000\n",
       "27  lc            6.2        1.5              NA   17.80 0.32500  85.000\n",
       "28  lc            6.3        0.6              NA   17.70 0.01227   2.625\n",
       "29  NA            8.0        1.9       1.5000000   16.00 1.32000  62.000\n",
       "30  vu            9.5        0.9              NA   14.50      NA   1.670\n",
       "... ...          ...         ...       ...         ...   ...     ...    \n",
       "32  NA           10.1        1.2       0.7500000   13.9  0.17900   6.800\n",
       "33  lc           14.2        1.9              NA    9.8       NA   0.053\n",
       "34  en           14.3        3.1       0.2000000    9.7  0.00100   0.120\n",
       "35  nt           12.5        1.4       0.1833333   11.5  0.00040   0.022\n",
       "36  NA           19.9        2.0       0.2000000    4.1  0.00025   0.010\n",
       "37  lc            7.7        0.9              NA   16.3       NA   0.210\n",
       "38  domesticated  8.4        0.9       0.4166667   15.6  0.01210   2.500\n",
       "39  domesticated  3.8        0.6              NA   20.2  0.17500  55.500\n",
       "40  NA            9.7        1.4       1.4166667   14.3  0.44000  52.200\n",
       "41  NA            9.4        1.0       0.6666667   14.6  0.18000  25.235\n",
       "42  lc           10.3        2.7              NA   13.7  0.00240   0.550\n",
       "43  NA           13.7        1.8              NA   10.3  0.01140   1.620\n",
       "44  vu            3.5        0.4              NA   20.5       NA  86.000\n",
       "45  NA           11.1        1.5              NA   12.9       NA   1.100\n",
       "46  en           18.1        6.1              NA    5.9  0.08100  60.000\n",
       "47  lc            5.4        0.5              NA   18.6  0.02100   3.600\n",
       "48  lc           13.0        2.4       0.1833333   11.0  0.00190   0.320\n",
       "49  NA            9.6        1.4              NA   14.4  0.02000   0.743\n",
       "50  lc            8.4        2.1       0.1666667   15.6  0.00120   0.075\n",
       "51  NA           11.3        1.1       0.1500000   12.7  0.00118   0.148\n",
       "52  NA           10.6        2.4              NA   13.4  0.00300   0.122\n",
       "53  lc           13.8        3.4       0.2166667   10.2  0.00400   0.101\n",
       "54  lc           15.9        3.0              NA    8.1       NA   0.205\n",
       "55  NA           12.8        2.0       0.1833333   11.2  0.00033   0.048\n",
       "56  domesticated  9.1        2.4       0.5000000   14.9  0.18000  86.250\n",
       "57  vu            4.4        1.0       0.9000000   19.6  0.16900 207.501\n",
       "58  NA           15.6        2.3              NA    8.4  0.00260   0.900\n",
       "59  NA            8.9        2.6       0.2333333   15.1  0.00250   0.104\n",
       "60  NA            6.3        1.3              NA   17.7  0.01750   2.000\n",
       "61  NA            9.8        2.4       0.3500000   14.2  0.05040   4.230"
      ]
     },
     "metadata": {},
     "output_type": "display_data"
    }
   ],
   "source": [
    "(filter(msleep, sleep_rem != -10000))"
   ]
  },
  {
   "cell_type": "markdown",
   "id": "wanted-fiction",
   "metadata": {},
   "source": [
    "Even though there are no data points with ```sleep_rem == -1000```, ```filter``` still removed rows. ```filter``` will always remove rows where the value of the variable is ```NA```. You can specify to explicitly keep those values."
   ]
  },
  {
   "cell_type": "code",
   "execution_count": 13,
   "id": "composite-battery",
   "metadata": {},
   "outputs": [
    {
     "data": {
      "text/html": [
       "<table>\n",
       "<thead><tr><th scope=col>name</th><th scope=col>genus</th><th scope=col>vore</th><th scope=col>order</th><th scope=col>conservation</th><th scope=col>sleep_total</th><th scope=col>sleep_rem</th><th scope=col>sleep_cycle</th><th scope=col>awake</th><th scope=col>brainwt</th><th scope=col>bodywt</th></tr></thead>\n",
       "<tbody>\n",
       "\t<tr><td>Cheetah                   </td><td>Acinonyx                  </td><td>carni                     </td><td>Carnivora                 </td><td>lc                        </td><td>12.1                      </td><td> NA                       </td><td>       NA                 </td><td>11.9                      </td><td>     NA                   </td><td>  50.000                  </td></tr>\n",
       "\t<tr><td>Owl monkey                </td><td>Aotus                     </td><td>omni                      </td><td>Primates                  </td><td>NA                        </td><td>17.0                      </td><td>1.8                       </td><td>       NA                 </td><td> 7.0                      </td><td>0.01550                   </td><td>   0.480                  </td></tr>\n",
       "\t<tr><td>Mountain beaver           </td><td>Aplodontia                </td><td>herbi                     </td><td>Rodentia                  </td><td>nt                        </td><td>14.4                      </td><td>2.4                       </td><td>       NA                 </td><td> 9.6                      </td><td>     NA                   </td><td>   1.350                  </td></tr>\n",
       "\t<tr><td>Greater short-tailed shrew</td><td>Blarina                   </td><td>omni                      </td><td>Soricomorpha              </td><td>lc                        </td><td>14.9                      </td><td>2.3                       </td><td>0.1333333                 </td><td> 9.1                      </td><td>0.00029                   </td><td>   0.019                  </td></tr>\n",
       "\t<tr><td>Cow                       </td><td>Bos                       </td><td>herbi                     </td><td>Artiodactyla              </td><td>domesticated              </td><td> 4.0                      </td><td>0.7                       </td><td>0.6666667                 </td><td>20.0                      </td><td>0.42300                   </td><td> 600.000                  </td></tr>\n",
       "\t<tr><td>Three-toed sloth          </td><td>Bradypus                  </td><td>herbi                     </td><td>Pilosa                    </td><td>NA                        </td><td>14.4                      </td><td>2.2                       </td><td>0.7666667                 </td><td> 9.6                      </td><td>     NA                   </td><td>   3.850                  </td></tr>\n",
       "\t<tr><td>Northern fur seal         </td><td>Callorhinus               </td><td>carni                     </td><td>Carnivora                 </td><td>vu                        </td><td> 8.7                      </td><td>1.4                       </td><td>0.3833333                 </td><td>15.3                      </td><td>     NA                   </td><td>  20.490                  </td></tr>\n",
       "\t<tr><td>Vesper mouse              </td><td>Calomys                   </td><td>NA                        </td><td>Rodentia                  </td><td>NA                        </td><td> 7.0                      </td><td> NA                       </td><td>       NA                 </td><td>17.0                      </td><td>     NA                   </td><td>   0.045                  </td></tr>\n",
       "\t<tr><td>Dog                       </td><td>Canis                     </td><td>carni                     </td><td>Carnivora                 </td><td>domesticated              </td><td>10.1                      </td><td>2.9                       </td><td>0.3333333                 </td><td>13.9                      </td><td>0.07000                   </td><td>  14.000                  </td></tr>\n",
       "\t<tr><td>Roe deer                  </td><td>Capreolus                 </td><td>herbi                     </td><td>Artiodactyla              </td><td>lc                        </td><td> 3.0                      </td><td> NA                       </td><td>       NA                 </td><td>21.0                      </td><td>0.09820                   </td><td>  14.800                  </td></tr>\n",
       "\t<tr><td>Goat                      </td><td>Capri                     </td><td>herbi                     </td><td>Artiodactyla              </td><td>lc                        </td><td> 5.3                      </td><td>0.6                       </td><td>       NA                 </td><td>18.7                      </td><td>0.11500                   </td><td>  33.500                  </td></tr>\n",
       "\t<tr><td>Guinea pig                </td><td>Cavis                     </td><td>herbi                     </td><td>Rodentia                  </td><td>domesticated              </td><td> 9.4                      </td><td>0.8                       </td><td>0.2166667                 </td><td>14.6                      </td><td>0.00550                   </td><td>   0.728                  </td></tr>\n",
       "\t<tr><td>Grivet                    </td><td>Cercopithecus             </td><td>omni                      </td><td>Primates                  </td><td>lc                        </td><td>10.0                      </td><td>0.7                       </td><td>       NA                 </td><td>14.0                      </td><td>     NA                   </td><td>   4.750                  </td></tr>\n",
       "\t<tr><td>Chinchilla                </td><td>Chinchilla                </td><td>herbi                     </td><td>Rodentia                  </td><td>domesticated              </td><td>12.5                      </td><td>1.5                       </td><td>0.1166667                 </td><td>11.5                      </td><td>0.00640                   </td><td>   0.420                  </td></tr>\n",
       "\t<tr><td>Star-nosed mole           </td><td>Condylura                 </td><td>omni                      </td><td>Soricomorpha              </td><td>lc                        </td><td>10.3                      </td><td>2.2                       </td><td>       NA                 </td><td>13.7                      </td><td>0.00100                   </td><td>   0.060                  </td></tr>\n",
       "\t<tr><td>African giant pouched rat </td><td>Cricetomys                </td><td>omni                      </td><td>Rodentia                  </td><td>NA                        </td><td> 8.3                      </td><td>2.0                       </td><td>       NA                 </td><td>15.7                      </td><td>0.00660                   </td><td>   1.000                  </td></tr>\n",
       "\t<tr><td>Lesser short-tailed shrew </td><td>Cryptotis                 </td><td>omni                      </td><td>Soricomorpha              </td><td>lc                        </td><td> 9.1                      </td><td>1.4                       </td><td>0.1500000                 </td><td>14.9                      </td><td>0.00014                   </td><td>   0.005                  </td></tr>\n",
       "\t<tr><td>Long-nosed armadillo      </td><td>Dasypus                   </td><td>carni                     </td><td>Cingulata                 </td><td>lc                        </td><td>17.4                      </td><td>3.1                       </td><td>0.3833333                 </td><td> 6.6                      </td><td>0.01080                   </td><td>   3.500                  </td></tr>\n",
       "\t<tr><td>Tree hyrax                </td><td>Dendrohyrax               </td><td>herbi                     </td><td>Hyracoidea                </td><td>lc                        </td><td> 5.3                      </td><td>0.5                       </td><td>       NA                 </td><td>18.7                      </td><td>0.01230                   </td><td>   2.950                  </td></tr>\n",
       "\t<tr><td>North American Opossum    </td><td>Didelphis                 </td><td>omni                      </td><td>Didelphimorphia           </td><td>lc                        </td><td>18.0                      </td><td>4.9                       </td><td>0.3333333                 </td><td> 6.0                      </td><td>0.00630                   </td><td>   1.700                  </td></tr>\n",
       "\t<tr><td>Asian elephant            </td><td>Elephas                   </td><td>herbi                     </td><td>Proboscidea               </td><td>en                        </td><td> 3.9                      </td><td> NA                       </td><td>       NA                 </td><td>20.1                      </td><td>4.60300                   </td><td>2547.000                  </td></tr>\n",
       "\t<tr><td>Big brown bat             </td><td>Eptesicus                 </td><td>insecti                   </td><td>Chiroptera                </td><td>lc                        </td><td>19.7                      </td><td>3.9                       </td><td>0.1166667                 </td><td> 4.3                      </td><td>0.00030                   </td><td>   0.023                  </td></tr>\n",
       "\t<tr><td>Horse                     </td><td>Equus                     </td><td>herbi                     </td><td>Perissodactyla            </td><td>domesticated              </td><td> 2.9                      </td><td>0.6                       </td><td>1.0000000                 </td><td>21.1                      </td><td>0.65500                   </td><td> 521.000                  </td></tr>\n",
       "\t<tr><td>Donkey                    </td><td>Equus                     </td><td>herbi                     </td><td>Perissodactyla            </td><td>domesticated              </td><td> 3.1                      </td><td>0.4                       </td><td>       NA                 </td><td>20.9                      </td><td>0.41900                   </td><td> 187.000                  </td></tr>\n",
       "\t<tr><td>European hedgehog         </td><td>Erinaceus                 </td><td>omni                      </td><td>Erinaceomorpha            </td><td>lc                        </td><td>10.1                      </td><td>3.5                       </td><td>0.2833333                 </td><td>13.9                      </td><td>0.00350                   </td><td>   0.770                  </td></tr>\n",
       "\t<tr><td>Patas monkey              </td><td>Erythrocebus              </td><td>omni                      </td><td>Primates                  </td><td>lc                        </td><td>10.9                      </td><td>1.1                       </td><td>       NA                 </td><td>13.1                      </td><td>0.11500                   </td><td>  10.000                  </td></tr>\n",
       "\t<tr><td>Western american chipmunk </td><td>Eutamias                  </td><td>herbi                     </td><td>Rodentia                  </td><td>NA                        </td><td>14.9                      </td><td> NA                       </td><td>       NA                 </td><td> 9.1                      </td><td>     NA                   </td><td>   0.071                  </td></tr>\n",
       "\t<tr><td>Domestic cat              </td><td>Felis                     </td><td>carni                     </td><td>Carnivora                 </td><td>domesticated              </td><td>12.5                      </td><td>3.2                       </td><td>0.4166667                 </td><td>11.5                      </td><td>0.02560                   </td><td>   3.300                  </td></tr>\n",
       "\t<tr><td>Galago                    </td><td>Galago                    </td><td>omni                      </td><td>Primates                  </td><td>NA                        </td><td> 9.8                      </td><td>1.1                       </td><td>0.5500000                 </td><td>14.2                      </td><td>0.00500                   </td><td>   0.200                  </td></tr>\n",
       "\t<tr><td>Giraffe                   </td><td>Giraffa                   </td><td>herbi                     </td><td>Artiodactyla              </td><td>cd                        </td><td> 1.9                      </td><td>0.4                       </td><td>       NA                 </td><td>22.1                      </td><td>     NA                   </td><td> 899.995                  </td></tr>\n",
       "\t<tr><td>...</td><td>...</td><td>...</td><td>...</td><td>...</td><td>...</td><td>...</td><td>...</td><td>...</td><td>...</td><td>...</td></tr>\n",
       "\t<tr><td>Baboon                        </td><td>Papio                         </td><td>omni                          </td><td>Primates                      </td><td>NA                            </td><td> 9.4                          </td><td>1.0                           </td><td>0.6666667                     </td><td>14.60                         </td><td>0.18000                       </td><td> 25.235                       </td></tr>\n",
       "\t<tr><td>Desert hedgehog               </td><td>Paraechinus                   </td><td>NA                            </td><td>Erinaceomorpha                </td><td>lc                            </td><td>10.3                          </td><td>2.7                           </td><td>       NA                     </td><td>13.70                         </td><td>0.00240                       </td><td>  0.550                       </td></tr>\n",
       "\t<tr><td>Potto                         </td><td>Perodicticus                  </td><td>omni                          </td><td>Primates                      </td><td>lc                            </td><td>11.0                          </td><td> NA                           </td><td>       NA                     </td><td>13.00                         </td><td>     NA                       </td><td>  1.100                       </td></tr>\n",
       "\t<tr><td>Deer mouse                    </td><td>Peromyscus                    </td><td>NA                            </td><td>Rodentia                      </td><td>NA                            </td><td>11.5                          </td><td> NA                           </td><td>       NA                     </td><td>12.50                         </td><td>     NA                       </td><td>  0.021                       </td></tr>\n",
       "\t<tr><td>Phalanger                     </td><td>Phalanger                     </td><td>NA                            </td><td>Diprotodontia                 </td><td>NA                            </td><td>13.7                          </td><td>1.8                           </td><td>       NA                     </td><td>10.30                         </td><td>0.01140                       </td><td>  1.620                       </td></tr>\n",
       "\t<tr><td>Caspian seal                  </td><td>Phoca                         </td><td>carni                         </td><td>Carnivora                     </td><td>vu                            </td><td> 3.5                          </td><td>0.4                           </td><td>       NA                     </td><td>20.50                         </td><td>     NA                       </td><td> 86.000                       </td></tr>\n",
       "\t<tr><td>Common porpoise               </td><td>Phocoena                      </td><td>carni                         </td><td>Cetacea                       </td><td>vu                            </td><td> 5.6                          </td><td> NA                           </td><td>       NA                     </td><td>18.45                         </td><td>     NA                       </td><td> 53.180                       </td></tr>\n",
       "\t<tr><td>Potoroo                       </td><td>Potorous                      </td><td>herbi                         </td><td>Diprotodontia                 </td><td>NA                            </td><td>11.1                          </td><td>1.5                           </td><td>       NA                     </td><td>12.90                         </td><td>     NA                       </td><td>  1.100                       </td></tr>\n",
       "\t<tr><td>Giant armadillo               </td><td>Priodontes                    </td><td>insecti                       </td><td>Cingulata                     </td><td>en                            </td><td>18.1                          </td><td>6.1                           </td><td>       NA                     </td><td> 5.90                         </td><td>0.08100                       </td><td> 60.000                       </td></tr>\n",
       "\t<tr><td>Rock hyrax                    </td><td>Procavia                      </td><td>NA                            </td><td>Hyracoidea                    </td><td>lc                            </td><td> 5.4                          </td><td>0.5                           </td><td>       NA                     </td><td>18.60                         </td><td>0.02100                       </td><td>  3.600                       </td></tr>\n",
       "\t<tr><td>Laboratory rat                </td><td>Rattus                        </td><td>herbi                         </td><td>Rodentia                      </td><td>lc                            </td><td>13.0                          </td><td>2.4                           </td><td>0.1833333                     </td><td>11.00                         </td><td>0.00190                       </td><td>  0.320                       </td></tr>\n",
       "\t<tr><td>African striped mouse         </td><td>Rhabdomys                     </td><td>omni                          </td><td>Rodentia                      </td><td>NA                            </td><td> 8.7                          </td><td> NA                           </td><td>       NA                     </td><td>15.30                         </td><td>     NA                       </td><td>  0.044                       </td></tr>\n",
       "\t<tr><td>Squirrel monkey               </td><td>Saimiri                       </td><td>omni                          </td><td>Primates                      </td><td>NA                            </td><td> 9.6                          </td><td>1.4                           </td><td>       NA                     </td><td>14.40                         </td><td>0.02000                       </td><td>  0.743                       </td></tr>\n",
       "\t<tr><td>Eastern american mole         </td><td>Scalopus                      </td><td>insecti                       </td><td>Soricomorpha                  </td><td>lc                            </td><td> 8.4                          </td><td>2.1                           </td><td>0.1666667                     </td><td>15.60                         </td><td>0.00120                       </td><td>  0.075                       </td></tr>\n",
       "\t<tr><td>Cotton rat                    </td><td>Sigmodon                      </td><td>herbi                         </td><td>Rodentia                      </td><td>NA                            </td><td>11.3                          </td><td>1.1                           </td><td>0.1500000                     </td><td>12.70                         </td><td>0.00118                       </td><td>  0.148                       </td></tr>\n",
       "\t<tr><td>Mole rat                      </td><td>Spalax                        </td><td>NA                            </td><td>Rodentia                      </td><td>NA                            </td><td>10.6                          </td><td>2.4                           </td><td>       NA                     </td><td>13.40                         </td><td>0.00300                       </td><td>  0.122                       </td></tr>\n",
       "\t<tr><td>Arctic ground squirrel        </td><td>Spermophilus                  </td><td>herbi                         </td><td>Rodentia                      </td><td>lc                            </td><td>16.6                          </td><td> NA                           </td><td>       NA                     </td><td> 7.40                         </td><td>0.00570                       </td><td>  0.920                       </td></tr>\n",
       "\t<tr><td>Thirteen-lined ground squirrel</td><td>Spermophilus                  </td><td>herbi                         </td><td>Rodentia                      </td><td>lc                            </td><td>13.8                          </td><td>3.4                           </td><td>0.2166667                     </td><td>10.20                         </td><td>0.00400                       </td><td>  0.101                       </td></tr>\n",
       "\t<tr><td>Golden-mantled ground squirrel</td><td>Spermophilus                  </td><td>herbi                         </td><td>Rodentia                      </td><td>lc                            </td><td>15.9                          </td><td>3.0                           </td><td>       NA                     </td><td> 8.10                         </td><td>     NA                       </td><td>  0.205                       </td></tr>\n",
       "\t<tr><td>Musk shrew                    </td><td>Suncus                        </td><td>NA                            </td><td>Soricomorpha                  </td><td>NA                            </td><td>12.8                          </td><td>2.0                           </td><td>0.1833333                     </td><td>11.20                         </td><td>0.00033                       </td><td>  0.048                       </td></tr>\n",
       "\t<tr><td>Pig                           </td><td>Sus                           </td><td>omni                          </td><td>Artiodactyla                  </td><td>domesticated                  </td><td> 9.1                          </td><td>2.4                           </td><td>0.5000000                     </td><td>14.90                         </td><td>0.18000                       </td><td> 86.250                       </td></tr>\n",
       "\t<tr><td>Short-nosed echidna           </td><td>Tachyglossus                  </td><td>insecti                       </td><td>Monotremata                   </td><td>NA                            </td><td> 8.6                          </td><td> NA                           </td><td>       NA                     </td><td>15.40                         </td><td>0.02500                       </td><td>  4.500                       </td></tr>\n",
       "\t<tr><td>Eastern american chipmunk     </td><td>Tamias                        </td><td>herbi                         </td><td>Rodentia                      </td><td>NA                            </td><td>15.8                          </td><td> NA                           </td><td>       NA                     </td><td> 8.20                         </td><td>     NA                       </td><td>  0.112                       </td></tr>\n",
       "\t<tr><td>Brazilian tapir               </td><td>Tapirus                       </td><td>herbi                         </td><td>Perissodactyla                </td><td>vu                            </td><td> 4.4                          </td><td>1.0                           </td><td>0.9000000                     </td><td>19.60                         </td><td>0.16900                       </td><td>207.501                       </td></tr>\n",
       "\t<tr><td>Tenrec                        </td><td>Tenrec                        </td><td>omni                          </td><td>Afrosoricida                  </td><td>NA                            </td><td>15.6                          </td><td>2.3                           </td><td>       NA                     </td><td> 8.40                         </td><td>0.00260                       </td><td>  0.900                       </td></tr>\n",
       "\t<tr><td>Tree shrew                    </td><td>Tupaia                        </td><td>omni                          </td><td>Scandentia                    </td><td>NA                            </td><td> 8.9                          </td><td>2.6                           </td><td>0.2333333                     </td><td>15.10                         </td><td>0.00250                       </td><td>  0.104                       </td></tr>\n",
       "\t<tr><td>Bottle-nosed dolphin          </td><td>Tursiops                      </td><td>carni                         </td><td>Cetacea                       </td><td>NA                            </td><td> 5.2                          </td><td> NA                           </td><td>       NA                     </td><td>18.80                         </td><td>     NA                       </td><td>173.330                       </td></tr>\n",
       "\t<tr><td>Genet                         </td><td>Genetta                       </td><td>carni                         </td><td>Carnivora                     </td><td>NA                            </td><td> 6.3                          </td><td>1.3                           </td><td>       NA                     </td><td>17.70                         </td><td>0.01750                       </td><td>  2.000                       </td></tr>\n",
       "\t<tr><td>Arctic fox                    </td><td>Vulpes                        </td><td>carni                         </td><td>Carnivora                     </td><td>NA                            </td><td>12.5                          </td><td> NA                           </td><td>       NA                     </td><td>11.50                         </td><td>0.04450                       </td><td>  3.380                       </td></tr>\n",
       "\t<tr><td>Red fox                       </td><td>Vulpes                        </td><td>carni                         </td><td>Carnivora                     </td><td>NA                            </td><td> 9.8                          </td><td>2.4                           </td><td>0.3500000                     </td><td>14.20                         </td><td>0.05040                       </td><td>  4.230                       </td></tr>\n",
       "</tbody>\n",
       "</table>\n"
      ],
      "text/latex": [
       "\\begin{tabular}{r|lllllllllll}\n",
       " name & genus & vore & order & conservation & sleep\\_total & sleep\\_rem & sleep\\_cycle & awake & brainwt & bodywt\\\\\n",
       "\\hline\n",
       "\t Cheetah                    & Acinonyx                   & carni                      & Carnivora                  & lc                         & 12.1                       &  NA                        &        NA                  & 11.9                       &      NA                    &   50.000                  \\\\\n",
       "\t Owl monkey                 & Aotus                      & omni                       & Primates                   & NA                         & 17.0                       & 1.8                        &        NA                  &  7.0                       & 0.01550                    &    0.480                  \\\\\n",
       "\t Mountain beaver            & Aplodontia                 & herbi                      & Rodentia                   & nt                         & 14.4                       & 2.4                        &        NA                  &  9.6                       &      NA                    &    1.350                  \\\\\n",
       "\t Greater short-tailed shrew & Blarina                    & omni                       & Soricomorpha               & lc                         & 14.9                       & 2.3                        & 0.1333333                  &  9.1                       & 0.00029                    &    0.019                  \\\\\n",
       "\t Cow                        & Bos                        & herbi                      & Artiodactyla               & domesticated               &  4.0                       & 0.7                        & 0.6666667                  & 20.0                       & 0.42300                    &  600.000                  \\\\\n",
       "\t Three-toed sloth           & Bradypus                   & herbi                      & Pilosa                     & NA                         & 14.4                       & 2.2                        & 0.7666667                  &  9.6                       &      NA                    &    3.850                  \\\\\n",
       "\t Northern fur seal          & Callorhinus                & carni                      & Carnivora                  & vu                         &  8.7                       & 1.4                        & 0.3833333                  & 15.3                       &      NA                    &   20.490                  \\\\\n",
       "\t Vesper mouse               & Calomys                    & NA                         & Rodentia                   & NA                         &  7.0                       &  NA                        &        NA                  & 17.0                       &      NA                    &    0.045                  \\\\\n",
       "\t Dog                        & Canis                      & carni                      & Carnivora                  & domesticated               & 10.1                       & 2.9                        & 0.3333333                  & 13.9                       & 0.07000                    &   14.000                  \\\\\n",
       "\t Roe deer                   & Capreolus                  & herbi                      & Artiodactyla               & lc                         &  3.0                       &  NA                        &        NA                  & 21.0                       & 0.09820                    &   14.800                  \\\\\n",
       "\t Goat                       & Capri                      & herbi                      & Artiodactyla               & lc                         &  5.3                       & 0.6                        &        NA                  & 18.7                       & 0.11500                    &   33.500                  \\\\\n",
       "\t Guinea pig                 & Cavis                      & herbi                      & Rodentia                   & domesticated               &  9.4                       & 0.8                        & 0.2166667                  & 14.6                       & 0.00550                    &    0.728                  \\\\\n",
       "\t Grivet                     & Cercopithecus              & omni                       & Primates                   & lc                         & 10.0                       & 0.7                        &        NA                  & 14.0                       &      NA                    &    4.750                  \\\\\n",
       "\t Chinchilla                 & Chinchilla                 & herbi                      & Rodentia                   & domesticated               & 12.5                       & 1.5                        & 0.1166667                  & 11.5                       & 0.00640                    &    0.420                  \\\\\n",
       "\t Star-nosed mole            & Condylura                  & omni                       & Soricomorpha               & lc                         & 10.3                       & 2.2                        &        NA                  & 13.7                       & 0.00100                    &    0.060                  \\\\\n",
       "\t African giant pouched rat  & Cricetomys                 & omni                       & Rodentia                   & NA                         &  8.3                       & 2.0                        &        NA                  & 15.7                       & 0.00660                    &    1.000                  \\\\\n",
       "\t Lesser short-tailed shrew  & Cryptotis                  & omni                       & Soricomorpha               & lc                         &  9.1                       & 1.4                        & 0.1500000                  & 14.9                       & 0.00014                    &    0.005                  \\\\\n",
       "\t Long-nosed armadillo       & Dasypus                    & carni                      & Cingulata                  & lc                         & 17.4                       & 3.1                        & 0.3833333                  &  6.6                       & 0.01080                    &    3.500                  \\\\\n",
       "\t Tree hyrax                 & Dendrohyrax                & herbi                      & Hyracoidea                 & lc                         &  5.3                       & 0.5                        &        NA                  & 18.7                       & 0.01230                    &    2.950                  \\\\\n",
       "\t North American Opossum     & Didelphis                  & omni                       & Didelphimorphia            & lc                         & 18.0                       & 4.9                        & 0.3333333                  &  6.0                       & 0.00630                    &    1.700                  \\\\\n",
       "\t Asian elephant             & Elephas                    & herbi                      & Proboscidea                & en                         &  3.9                       &  NA                        &        NA                  & 20.1                       & 4.60300                    & 2547.000                  \\\\\n",
       "\t Big brown bat              & Eptesicus                  & insecti                    & Chiroptera                 & lc                         & 19.7                       & 3.9                        & 0.1166667                  &  4.3                       & 0.00030                    &    0.023                  \\\\\n",
       "\t Horse                      & Equus                      & herbi                      & Perissodactyla             & domesticated               &  2.9                       & 0.6                        & 1.0000000                  & 21.1                       & 0.65500                    &  521.000                  \\\\\n",
       "\t Donkey                     & Equus                      & herbi                      & Perissodactyla             & domesticated               &  3.1                       & 0.4                        &        NA                  & 20.9                       & 0.41900                    &  187.000                  \\\\\n",
       "\t European hedgehog          & Erinaceus                  & omni                       & Erinaceomorpha             & lc                         & 10.1                       & 3.5                        & 0.2833333                  & 13.9                       & 0.00350                    &    0.770                  \\\\\n",
       "\t Patas monkey               & Erythrocebus               & omni                       & Primates                   & lc                         & 10.9                       & 1.1                        &        NA                  & 13.1                       & 0.11500                    &   10.000                  \\\\\n",
       "\t Western american chipmunk  & Eutamias                   & herbi                      & Rodentia                   & NA                         & 14.9                       &  NA                        &        NA                  &  9.1                       &      NA                    &    0.071                  \\\\\n",
       "\t Domestic cat               & Felis                      & carni                      & Carnivora                  & domesticated               & 12.5                       & 3.2                        & 0.4166667                  & 11.5                       & 0.02560                    &    3.300                  \\\\\n",
       "\t Galago                     & Galago                     & omni                       & Primates                   & NA                         &  9.8                       & 1.1                        & 0.5500000                  & 14.2                       & 0.00500                    &    0.200                  \\\\\n",
       "\t Giraffe                    & Giraffa                    & herbi                      & Artiodactyla               & cd                         &  1.9                       & 0.4                        &        NA                  & 22.1                       &      NA                    &  899.995                  \\\\\n",
       "\t ... & ... & ... & ... & ... & ... & ... & ... & ... & ... & ...\\\\\n",
       "\t Baboon                         & Papio                          & omni                           & Primates                       & NA                             &  9.4                           & 1.0                            & 0.6666667                      & 14.60                          & 0.18000                        &  25.235                       \\\\\n",
       "\t Desert hedgehog                & Paraechinus                    & NA                             & Erinaceomorpha                 & lc                             & 10.3                           & 2.7                            &        NA                      & 13.70                          & 0.00240                        &   0.550                       \\\\\n",
       "\t Potto                          & Perodicticus                   & omni                           & Primates                       & lc                             & 11.0                           &  NA                            &        NA                      & 13.00                          &      NA                        &   1.100                       \\\\\n",
       "\t Deer mouse                     & Peromyscus                     & NA                             & Rodentia                       & NA                             & 11.5                           &  NA                            &        NA                      & 12.50                          &      NA                        &   0.021                       \\\\\n",
       "\t Phalanger                      & Phalanger                      & NA                             & Diprotodontia                  & NA                             & 13.7                           & 1.8                            &        NA                      & 10.30                          & 0.01140                        &   1.620                       \\\\\n",
       "\t Caspian seal                   & Phoca                          & carni                          & Carnivora                      & vu                             &  3.5                           & 0.4                            &        NA                      & 20.50                          &      NA                        &  86.000                       \\\\\n",
       "\t Common porpoise                & Phocoena                       & carni                          & Cetacea                        & vu                             &  5.6                           &  NA                            &        NA                      & 18.45                          &      NA                        &  53.180                       \\\\\n",
       "\t Potoroo                        & Potorous                       & herbi                          & Diprotodontia                  & NA                             & 11.1                           & 1.5                            &        NA                      & 12.90                          &      NA                        &   1.100                       \\\\\n",
       "\t Giant armadillo                & Priodontes                     & insecti                        & Cingulata                      & en                             & 18.1                           & 6.1                            &        NA                      &  5.90                          & 0.08100                        &  60.000                       \\\\\n",
       "\t Rock hyrax                     & Procavia                       & NA                             & Hyracoidea                     & lc                             &  5.4                           & 0.5                            &        NA                      & 18.60                          & 0.02100                        &   3.600                       \\\\\n",
       "\t Laboratory rat                 & Rattus                         & herbi                          & Rodentia                       & lc                             & 13.0                           & 2.4                            & 0.1833333                      & 11.00                          & 0.00190                        &   0.320                       \\\\\n",
       "\t African striped mouse          & Rhabdomys                      & omni                           & Rodentia                       & NA                             &  8.7                           &  NA                            &        NA                      & 15.30                          &      NA                        &   0.044                       \\\\\n",
       "\t Squirrel monkey                & Saimiri                        & omni                           & Primates                       & NA                             &  9.6                           & 1.4                            &        NA                      & 14.40                          & 0.02000                        &   0.743                       \\\\\n",
       "\t Eastern american mole          & Scalopus                       & insecti                        & Soricomorpha                   & lc                             &  8.4                           & 2.1                            & 0.1666667                      & 15.60                          & 0.00120                        &   0.075                       \\\\\n",
       "\t Cotton rat                     & Sigmodon                       & herbi                          & Rodentia                       & NA                             & 11.3                           & 1.1                            & 0.1500000                      & 12.70                          & 0.00118                        &   0.148                       \\\\\n",
       "\t Mole rat                       & Spalax                         & NA                             & Rodentia                       & NA                             & 10.6                           & 2.4                            &        NA                      & 13.40                          & 0.00300                        &   0.122                       \\\\\n",
       "\t Arctic ground squirrel         & Spermophilus                   & herbi                          & Rodentia                       & lc                             & 16.6                           &  NA                            &        NA                      &  7.40                          & 0.00570                        &   0.920                       \\\\\n",
       "\t Thirteen-lined ground squirrel & Spermophilus                   & herbi                          & Rodentia                       & lc                             & 13.8                           & 3.4                            & 0.2166667                      & 10.20                          & 0.00400                        &   0.101                       \\\\\n",
       "\t Golden-mantled ground squirrel & Spermophilus                   & herbi                          & Rodentia                       & lc                             & 15.9                           & 3.0                            &        NA                      &  8.10                          &      NA                        &   0.205                       \\\\\n",
       "\t Musk shrew                     & Suncus                         & NA                             & Soricomorpha                   & NA                             & 12.8                           & 2.0                            & 0.1833333                      & 11.20                          & 0.00033                        &   0.048                       \\\\\n",
       "\t Pig                            & Sus                            & omni                           & Artiodactyla                   & domesticated                   &  9.1                           & 2.4                            & 0.5000000                      & 14.90                          & 0.18000                        &  86.250                       \\\\\n",
       "\t Short-nosed echidna            & Tachyglossus                   & insecti                        & Monotremata                    & NA                             &  8.6                           &  NA                            &        NA                      & 15.40                          & 0.02500                        &   4.500                       \\\\\n",
       "\t Eastern american chipmunk      & Tamias                         & herbi                          & Rodentia                       & NA                             & 15.8                           &  NA                            &        NA                      &  8.20                          &      NA                        &   0.112                       \\\\\n",
       "\t Brazilian tapir                & Tapirus                        & herbi                          & Perissodactyla                 & vu                             &  4.4                           & 1.0                            & 0.9000000                      & 19.60                          & 0.16900                        & 207.501                       \\\\\n",
       "\t Tenrec                         & Tenrec                         & omni                           & Afrosoricida                   & NA                             & 15.6                           & 2.3                            &        NA                      &  8.40                          & 0.00260                        &   0.900                       \\\\\n",
       "\t Tree shrew                     & Tupaia                         & omni                           & Scandentia                     & NA                             &  8.9                           & 2.6                            & 0.2333333                      & 15.10                          & 0.00250                        &   0.104                       \\\\\n",
       "\t Bottle-nosed dolphin           & Tursiops                       & carni                          & Cetacea                        & NA                             &  5.2                           &  NA                            &        NA                      & 18.80                          &      NA                        & 173.330                       \\\\\n",
       "\t Genet                          & Genetta                        & carni                          & Carnivora                      & NA                             &  6.3                           & 1.3                            &        NA                      & 17.70                          & 0.01750                        &   2.000                       \\\\\n",
       "\t Arctic fox                     & Vulpes                         & carni                          & Carnivora                      & NA                             & 12.5                           &  NA                            &        NA                      & 11.50                          & 0.04450                        &   3.380                       \\\\\n",
       "\t Red fox                        & Vulpes                         & carni                          & Carnivora                      & NA                             &  9.8                           & 2.4                            & 0.3500000                      & 14.20                          & 0.05040                        &   4.230                       \\\\\n",
       "\\end{tabular}\n"
      ],
      "text/markdown": [
       "\n",
       "| name | genus | vore | order | conservation | sleep_total | sleep_rem | sleep_cycle | awake | brainwt | bodywt |\n",
       "|---|---|---|---|---|---|---|---|---|---|---|\n",
       "| Cheetah                    | Acinonyx                   | carni                      | Carnivora                  | lc                         | 12.1                       |  NA                        |        NA                  | 11.9                       |      NA                    |   50.000                   |\n",
       "| Owl monkey                 | Aotus                      | omni                       | Primates                   | NA                         | 17.0                       | 1.8                        |        NA                  |  7.0                       | 0.01550                    |    0.480                   |\n",
       "| Mountain beaver            | Aplodontia                 | herbi                      | Rodentia                   | nt                         | 14.4                       | 2.4                        |        NA                  |  9.6                       |      NA                    |    1.350                   |\n",
       "| Greater short-tailed shrew | Blarina                    | omni                       | Soricomorpha               | lc                         | 14.9                       | 2.3                        | 0.1333333                  |  9.1                       | 0.00029                    |    0.019                   |\n",
       "| Cow                        | Bos                        | herbi                      | Artiodactyla               | domesticated               |  4.0                       | 0.7                        | 0.6666667                  | 20.0                       | 0.42300                    |  600.000                   |\n",
       "| Three-toed sloth           | Bradypus                   | herbi                      | Pilosa                     | NA                         | 14.4                       | 2.2                        | 0.7666667                  |  9.6                       |      NA                    |    3.850                   |\n",
       "| Northern fur seal          | Callorhinus                | carni                      | Carnivora                  | vu                         |  8.7                       | 1.4                        | 0.3833333                  | 15.3                       |      NA                    |   20.490                   |\n",
       "| Vesper mouse               | Calomys                    | NA                         | Rodentia                   | NA                         |  7.0                       |  NA                        |        NA                  | 17.0                       |      NA                    |    0.045                   |\n",
       "| Dog                        | Canis                      | carni                      | Carnivora                  | domesticated               | 10.1                       | 2.9                        | 0.3333333                  | 13.9                       | 0.07000                    |   14.000                   |\n",
       "| Roe deer                   | Capreolus                  | herbi                      | Artiodactyla               | lc                         |  3.0                       |  NA                        |        NA                  | 21.0                       | 0.09820                    |   14.800                   |\n",
       "| Goat                       | Capri                      | herbi                      | Artiodactyla               | lc                         |  5.3                       | 0.6                        |        NA                  | 18.7                       | 0.11500                    |   33.500                   |\n",
       "| Guinea pig                 | Cavis                      | herbi                      | Rodentia                   | domesticated               |  9.4                       | 0.8                        | 0.2166667                  | 14.6                       | 0.00550                    |    0.728                   |\n",
       "| Grivet                     | Cercopithecus              | omni                       | Primates                   | lc                         | 10.0                       | 0.7                        |        NA                  | 14.0                       |      NA                    |    4.750                   |\n",
       "| Chinchilla                 | Chinchilla                 | herbi                      | Rodentia                   | domesticated               | 12.5                       | 1.5                        | 0.1166667                  | 11.5                       | 0.00640                    |    0.420                   |\n",
       "| Star-nosed mole            | Condylura                  | omni                       | Soricomorpha               | lc                         | 10.3                       | 2.2                        |        NA                  | 13.7                       | 0.00100                    |    0.060                   |\n",
       "| African giant pouched rat  | Cricetomys                 | omni                       | Rodentia                   | NA                         |  8.3                       | 2.0                        |        NA                  | 15.7                       | 0.00660                    |    1.000                   |\n",
       "| Lesser short-tailed shrew  | Cryptotis                  | omni                       | Soricomorpha               | lc                         |  9.1                       | 1.4                        | 0.1500000                  | 14.9                       | 0.00014                    |    0.005                   |\n",
       "| Long-nosed armadillo       | Dasypus                    | carni                      | Cingulata                  | lc                         | 17.4                       | 3.1                        | 0.3833333                  |  6.6                       | 0.01080                    |    3.500                   |\n",
       "| Tree hyrax                 | Dendrohyrax                | herbi                      | Hyracoidea                 | lc                         |  5.3                       | 0.5                        |        NA                  | 18.7                       | 0.01230                    |    2.950                   |\n",
       "| North American Opossum     | Didelphis                  | omni                       | Didelphimorphia            | lc                         | 18.0                       | 4.9                        | 0.3333333                  |  6.0                       | 0.00630                    |    1.700                   |\n",
       "| Asian elephant             | Elephas                    | herbi                      | Proboscidea                | en                         |  3.9                       |  NA                        |        NA                  | 20.1                       | 4.60300                    | 2547.000                   |\n",
       "| Big brown bat              | Eptesicus                  | insecti                    | Chiroptera                 | lc                         | 19.7                       | 3.9                        | 0.1166667                  |  4.3                       | 0.00030                    |    0.023                   |\n",
       "| Horse                      | Equus                      | herbi                      | Perissodactyla             | domesticated               |  2.9                       | 0.6                        | 1.0000000                  | 21.1                       | 0.65500                    |  521.000                   |\n",
       "| Donkey                     | Equus                      | herbi                      | Perissodactyla             | domesticated               |  3.1                       | 0.4                        |        NA                  | 20.9                       | 0.41900                    |  187.000                   |\n",
       "| European hedgehog          | Erinaceus                  | omni                       | Erinaceomorpha             | lc                         | 10.1                       | 3.5                        | 0.2833333                  | 13.9                       | 0.00350                    |    0.770                   |\n",
       "| Patas monkey               | Erythrocebus               | omni                       | Primates                   | lc                         | 10.9                       | 1.1                        |        NA                  | 13.1                       | 0.11500                    |   10.000                   |\n",
       "| Western american chipmunk  | Eutamias                   | herbi                      | Rodentia                   | NA                         | 14.9                       |  NA                        |        NA                  |  9.1                       |      NA                    |    0.071                   |\n",
       "| Domestic cat               | Felis                      | carni                      | Carnivora                  | domesticated               | 12.5                       | 3.2                        | 0.4166667                  | 11.5                       | 0.02560                    |    3.300                   |\n",
       "| Galago                     | Galago                     | omni                       | Primates                   | NA                         |  9.8                       | 1.1                        | 0.5500000                  | 14.2                       | 0.00500                    |    0.200                   |\n",
       "| Giraffe                    | Giraffa                    | herbi                      | Artiodactyla               | cd                         |  1.9                       | 0.4                        |        NA                  | 22.1                       |      NA                    |  899.995                   |\n",
       "| ... | ... | ... | ... | ... | ... | ... | ... | ... | ... | ... |\n",
       "| Baboon                         | Papio                          | omni                           | Primates                       | NA                             |  9.4                           | 1.0                            | 0.6666667                      | 14.60                          | 0.18000                        |  25.235                        |\n",
       "| Desert hedgehog                | Paraechinus                    | NA                             | Erinaceomorpha                 | lc                             | 10.3                           | 2.7                            |        NA                      | 13.70                          | 0.00240                        |   0.550                        |\n",
       "| Potto                          | Perodicticus                   | omni                           | Primates                       | lc                             | 11.0                           |  NA                            |        NA                      | 13.00                          |      NA                        |   1.100                        |\n",
       "| Deer mouse                     | Peromyscus                     | NA                             | Rodentia                       | NA                             | 11.5                           |  NA                            |        NA                      | 12.50                          |      NA                        |   0.021                        |\n",
       "| Phalanger                      | Phalanger                      | NA                             | Diprotodontia                  | NA                             | 13.7                           | 1.8                            |        NA                      | 10.30                          | 0.01140                        |   1.620                        |\n",
       "| Caspian seal                   | Phoca                          | carni                          | Carnivora                      | vu                             |  3.5                           | 0.4                            |        NA                      | 20.50                          |      NA                        |  86.000                        |\n",
       "| Common porpoise                | Phocoena                       | carni                          | Cetacea                        | vu                             |  5.6                           |  NA                            |        NA                      | 18.45                          |      NA                        |  53.180                        |\n",
       "| Potoroo                        | Potorous                       | herbi                          | Diprotodontia                  | NA                             | 11.1                           | 1.5                            |        NA                      | 12.90                          |      NA                        |   1.100                        |\n",
       "| Giant armadillo                | Priodontes                     | insecti                        | Cingulata                      | en                             | 18.1                           | 6.1                            |        NA                      |  5.90                          | 0.08100                        |  60.000                        |\n",
       "| Rock hyrax                     | Procavia                       | NA                             | Hyracoidea                     | lc                             |  5.4                           | 0.5                            |        NA                      | 18.60                          | 0.02100                        |   3.600                        |\n",
       "| Laboratory rat                 | Rattus                         | herbi                          | Rodentia                       | lc                             | 13.0                           | 2.4                            | 0.1833333                      | 11.00                          | 0.00190                        |   0.320                        |\n",
       "| African striped mouse          | Rhabdomys                      | omni                           | Rodentia                       | NA                             |  8.7                           |  NA                            |        NA                      | 15.30                          |      NA                        |   0.044                        |\n",
       "| Squirrel monkey                | Saimiri                        | omni                           | Primates                       | NA                             |  9.6                           | 1.4                            |        NA                      | 14.40                          | 0.02000                        |   0.743                        |\n",
       "| Eastern american mole          | Scalopus                       | insecti                        | Soricomorpha                   | lc                             |  8.4                           | 2.1                            | 0.1666667                      | 15.60                          | 0.00120                        |   0.075                        |\n",
       "| Cotton rat                     | Sigmodon                       | herbi                          | Rodentia                       | NA                             | 11.3                           | 1.1                            | 0.1500000                      | 12.70                          | 0.00118                        |   0.148                        |\n",
       "| Mole rat                       | Spalax                         | NA                             | Rodentia                       | NA                             | 10.6                           | 2.4                            |        NA                      | 13.40                          | 0.00300                        |   0.122                        |\n",
       "| Arctic ground squirrel         | Spermophilus                   | herbi                          | Rodentia                       | lc                             | 16.6                           |  NA                            |        NA                      |  7.40                          | 0.00570                        |   0.920                        |\n",
       "| Thirteen-lined ground squirrel | Spermophilus                   | herbi                          | Rodentia                       | lc                             | 13.8                           | 3.4                            | 0.2166667                      | 10.20                          | 0.00400                        |   0.101                        |\n",
       "| Golden-mantled ground squirrel | Spermophilus                   | herbi                          | Rodentia                       | lc                             | 15.9                           | 3.0                            |        NA                      |  8.10                          |      NA                        |   0.205                        |\n",
       "| Musk shrew                     | Suncus                         | NA                             | Soricomorpha                   | NA                             | 12.8                           | 2.0                            | 0.1833333                      | 11.20                          | 0.00033                        |   0.048                        |\n",
       "| Pig                            | Sus                            | omni                           | Artiodactyla                   | domesticated                   |  9.1                           | 2.4                            | 0.5000000                      | 14.90                          | 0.18000                        |  86.250                        |\n",
       "| Short-nosed echidna            | Tachyglossus                   | insecti                        | Monotremata                    | NA                             |  8.6                           |  NA                            |        NA                      | 15.40                          | 0.02500                        |   4.500                        |\n",
       "| Eastern american chipmunk      | Tamias                         | herbi                          | Rodentia                       | NA                             | 15.8                           |  NA                            |        NA                      |  8.20                          |      NA                        |   0.112                        |\n",
       "| Brazilian tapir                | Tapirus                        | herbi                          | Perissodactyla                 | vu                             |  4.4                           | 1.0                            | 0.9000000                      | 19.60                          | 0.16900                        | 207.501                        |\n",
       "| Tenrec                         | Tenrec                         | omni                           | Afrosoricida                   | NA                             | 15.6                           | 2.3                            |        NA                      |  8.40                          | 0.00260                        |   0.900                        |\n",
       "| Tree shrew                     | Tupaia                         | omni                           | Scandentia                     | NA                             |  8.9                           | 2.6                            | 0.2333333                      | 15.10                          | 0.00250                        |   0.104                        |\n",
       "| Bottle-nosed dolphin           | Tursiops                       | carni                          | Cetacea                        | NA                             |  5.2                           |  NA                            |        NA                      | 18.80                          |      NA                        | 173.330                        |\n",
       "| Genet                          | Genetta                        | carni                          | Carnivora                      | NA                             |  6.3                           | 1.3                            |        NA                      | 17.70                          | 0.01750                        |   2.000                        |\n",
       "| Arctic fox                     | Vulpes                         | carni                          | Carnivora                      | NA                             | 12.5                           |  NA                            |        NA                      | 11.50                          | 0.04450                        |   3.380                        |\n",
       "| Red fox                        | Vulpes                         | carni                          | Carnivora                      | NA                             |  9.8                           | 2.4                            | 0.3500000                      | 14.20                          | 0.05040                        |   4.230                        |\n",
       "\n"
      ],
      "text/plain": [
       "    name                           genus         vore    order          \n",
       "1   Cheetah                        Acinonyx      carni   Carnivora      \n",
       "2   Owl monkey                     Aotus         omni    Primates       \n",
       "3   Mountain beaver                Aplodontia    herbi   Rodentia       \n",
       "4   Greater short-tailed shrew     Blarina       omni    Soricomorpha   \n",
       "5   Cow                            Bos           herbi   Artiodactyla   \n",
       "6   Three-toed sloth               Bradypus      herbi   Pilosa         \n",
       "7   Northern fur seal              Callorhinus   carni   Carnivora      \n",
       "8   Vesper mouse                   Calomys       NA      Rodentia       \n",
       "9   Dog                            Canis         carni   Carnivora      \n",
       "10  Roe deer                       Capreolus     herbi   Artiodactyla   \n",
       "11  Goat                           Capri         herbi   Artiodactyla   \n",
       "12  Guinea pig                     Cavis         herbi   Rodentia       \n",
       "13  Grivet                         Cercopithecus omni    Primates       \n",
       "14  Chinchilla                     Chinchilla    herbi   Rodentia       \n",
       "15  Star-nosed mole                Condylura     omni    Soricomorpha   \n",
       "16  African giant pouched rat      Cricetomys    omni    Rodentia       \n",
       "17  Lesser short-tailed shrew      Cryptotis     omni    Soricomorpha   \n",
       "18  Long-nosed armadillo           Dasypus       carni   Cingulata      \n",
       "19  Tree hyrax                     Dendrohyrax   herbi   Hyracoidea     \n",
       "20  North American Opossum         Didelphis     omni    Didelphimorphia\n",
       "21  Asian elephant                 Elephas       herbi   Proboscidea    \n",
       "22  Big brown bat                  Eptesicus     insecti Chiroptera     \n",
       "23  Horse                          Equus         herbi   Perissodactyla \n",
       "24  Donkey                         Equus         herbi   Perissodactyla \n",
       "25  European hedgehog              Erinaceus     omni    Erinaceomorpha \n",
       "26  Patas monkey                   Erythrocebus  omni    Primates       \n",
       "27  Western american chipmunk      Eutamias      herbi   Rodentia       \n",
       "28  Domestic cat                   Felis         carni   Carnivora      \n",
       "29  Galago                         Galago        omni    Primates       \n",
       "30  Giraffe                        Giraffa       herbi   Artiodactyla   \n",
       "... ...                            ...           ...     ...            \n",
       "54  Baboon                         Papio         omni    Primates       \n",
       "55  Desert hedgehog                Paraechinus   NA      Erinaceomorpha \n",
       "56  Potto                          Perodicticus  omni    Primates       \n",
       "57  Deer mouse                     Peromyscus    NA      Rodentia       \n",
       "58  Phalanger                      Phalanger     NA      Diprotodontia  \n",
       "59  Caspian seal                   Phoca         carni   Carnivora      \n",
       "60  Common porpoise                Phocoena      carni   Cetacea        \n",
       "61  Potoroo                        Potorous      herbi   Diprotodontia  \n",
       "62  Giant armadillo                Priodontes    insecti Cingulata      \n",
       "63  Rock hyrax                     Procavia      NA      Hyracoidea     \n",
       "64  Laboratory rat                 Rattus        herbi   Rodentia       \n",
       "65  African striped mouse          Rhabdomys     omni    Rodentia       \n",
       "66  Squirrel monkey                Saimiri       omni    Primates       \n",
       "67  Eastern american mole          Scalopus      insecti Soricomorpha   \n",
       "68  Cotton rat                     Sigmodon      herbi   Rodentia       \n",
       "69  Mole rat                       Spalax        NA      Rodentia       \n",
       "70  Arctic ground squirrel         Spermophilus  herbi   Rodentia       \n",
       "71  Thirteen-lined ground squirrel Spermophilus  herbi   Rodentia       \n",
       "72  Golden-mantled ground squirrel Spermophilus  herbi   Rodentia       \n",
       "73  Musk shrew                     Suncus        NA      Soricomorpha   \n",
       "74  Pig                            Sus           omni    Artiodactyla   \n",
       "75  Short-nosed echidna            Tachyglossus  insecti Monotremata    \n",
       "76  Eastern american chipmunk      Tamias        herbi   Rodentia       \n",
       "77  Brazilian tapir                Tapirus       herbi   Perissodactyla \n",
       "78  Tenrec                         Tenrec        omni    Afrosoricida   \n",
       "79  Tree shrew                     Tupaia        omni    Scandentia     \n",
       "80  Bottle-nosed dolphin           Tursiops      carni   Cetacea        \n",
       "81  Genet                          Genetta       carni   Carnivora      \n",
       "82  Arctic fox                     Vulpes        carni   Carnivora      \n",
       "83  Red fox                        Vulpes        carni   Carnivora      \n",
       "    conservation sleep_total sleep_rem sleep_cycle awake brainwt bodywt  \n",
       "1   lc           12.1         NA              NA   11.9       NA   50.000\n",
       "2   NA           17.0        1.8              NA    7.0  0.01550    0.480\n",
       "3   nt           14.4        2.4              NA    9.6       NA    1.350\n",
       "4   lc           14.9        2.3       0.1333333    9.1  0.00029    0.019\n",
       "5   domesticated  4.0        0.7       0.6666667   20.0  0.42300  600.000\n",
       "6   NA           14.4        2.2       0.7666667    9.6       NA    3.850\n",
       "7   vu            8.7        1.4       0.3833333   15.3       NA   20.490\n",
       "8   NA            7.0         NA              NA   17.0       NA    0.045\n",
       "9   domesticated 10.1        2.9       0.3333333   13.9  0.07000   14.000\n",
       "10  lc            3.0         NA              NA   21.0  0.09820   14.800\n",
       "11  lc            5.3        0.6              NA   18.7  0.11500   33.500\n",
       "12  domesticated  9.4        0.8       0.2166667   14.6  0.00550    0.728\n",
       "13  lc           10.0        0.7              NA   14.0       NA    4.750\n",
       "14  domesticated 12.5        1.5       0.1166667   11.5  0.00640    0.420\n",
       "15  lc           10.3        2.2              NA   13.7  0.00100    0.060\n",
       "16  NA            8.3        2.0              NA   15.7  0.00660    1.000\n",
       "17  lc            9.1        1.4       0.1500000   14.9  0.00014    0.005\n",
       "18  lc           17.4        3.1       0.3833333    6.6  0.01080    3.500\n",
       "19  lc            5.3        0.5              NA   18.7  0.01230    2.950\n",
       "20  lc           18.0        4.9       0.3333333    6.0  0.00630    1.700\n",
       "21  en            3.9         NA              NA   20.1  4.60300 2547.000\n",
       "22  lc           19.7        3.9       0.1166667    4.3  0.00030    0.023\n",
       "23  domesticated  2.9        0.6       1.0000000   21.1  0.65500  521.000\n",
       "24  domesticated  3.1        0.4              NA   20.9  0.41900  187.000\n",
       "25  lc           10.1        3.5       0.2833333   13.9  0.00350    0.770\n",
       "26  lc           10.9        1.1              NA   13.1  0.11500   10.000\n",
       "27  NA           14.9         NA              NA    9.1       NA    0.071\n",
       "28  domesticated 12.5        3.2       0.4166667   11.5  0.02560    3.300\n",
       "29  NA            9.8        1.1       0.5500000   14.2  0.00500    0.200\n",
       "30  cd            1.9        0.4              NA   22.1       NA  899.995\n",
       "... ...          ...         ...       ...         ...   ...     ...     \n",
       "54  NA            9.4        1.0       0.6666667   14.60 0.18000  25.235 \n",
       "55  lc           10.3        2.7              NA   13.70 0.00240   0.550 \n",
       "56  lc           11.0         NA              NA   13.00      NA   1.100 \n",
       "57  NA           11.5         NA              NA   12.50      NA   0.021 \n",
       "58  NA           13.7        1.8              NA   10.30 0.01140   1.620 \n",
       "59  vu            3.5        0.4              NA   20.50      NA  86.000 \n",
       "60  vu            5.6         NA              NA   18.45      NA  53.180 \n",
       "61  NA           11.1        1.5              NA   12.90      NA   1.100 \n",
       "62  en           18.1        6.1              NA    5.90 0.08100  60.000 \n",
       "63  lc            5.4        0.5              NA   18.60 0.02100   3.600 \n",
       "64  lc           13.0        2.4       0.1833333   11.00 0.00190   0.320 \n",
       "65  NA            8.7         NA              NA   15.30      NA   0.044 \n",
       "66  NA            9.6        1.4              NA   14.40 0.02000   0.743 \n",
       "67  lc            8.4        2.1       0.1666667   15.60 0.00120   0.075 \n",
       "68  NA           11.3        1.1       0.1500000   12.70 0.00118   0.148 \n",
       "69  NA           10.6        2.4              NA   13.40 0.00300   0.122 \n",
       "70  lc           16.6         NA              NA    7.40 0.00570   0.920 \n",
       "71  lc           13.8        3.4       0.2166667   10.20 0.00400   0.101 \n",
       "72  lc           15.9        3.0              NA    8.10      NA   0.205 \n",
       "73  NA           12.8        2.0       0.1833333   11.20 0.00033   0.048 \n",
       "74  domesticated  9.1        2.4       0.5000000   14.90 0.18000  86.250 \n",
       "75  NA            8.6         NA              NA   15.40 0.02500   4.500 \n",
       "76  NA           15.8         NA              NA    8.20      NA   0.112 \n",
       "77  vu            4.4        1.0       0.9000000   19.60 0.16900 207.501 \n",
       "78  NA           15.6        2.3              NA    8.40 0.00260   0.900 \n",
       "79  NA            8.9        2.6       0.2333333   15.10 0.00250   0.104 \n",
       "80  NA            5.2         NA              NA   18.80      NA 173.330 \n",
       "81  NA            6.3        1.3              NA   17.70 0.01750   2.000 \n",
       "82  NA           12.5         NA              NA   11.50 0.04450   3.380 \n",
       "83  NA            9.8        2.4       0.3500000   14.20 0.05040   4.230 "
      ]
     },
     "metadata": {},
     "output_type": "display_data"
    }
   ],
   "source": [
    "(filter(msleep, is.na(sleep_rem) | sleep_rem != -10000))"
   ]
  },
  {
   "cell_type": "markdown",
   "id": "wireless-extra",
   "metadata": {},
   "source": [
    "Similarly we can use ```select``` to choose a subset of the columns of a dataframe. This is useful when dealing with datasets with many, many variables."
   ]
  },
  {
   "cell_type": "code",
   "execution_count": 34,
   "id": "developmental-marriage",
   "metadata": {},
   "outputs": [
    {
     "name": "stdout",
     "output_type": "stream",
     "text": [
      "# A tibble: 336,776 x 4\n",
      "    year month   day origin\n",
      "   <int> <int> <int> <chr> \n",
      " 1  2013     1     1 EWR   \n",
      " 2  2013     1     1 LGA   \n",
      " 3  2013     1     1 JFK   \n",
      " 4  2013     1     1 JFK   \n",
      " 5  2013     1     1 LGA   \n",
      " 6  2013     1     1 EWR   \n",
      " 7  2013     1     1 EWR   \n",
      " 8  2013     1     1 LGA   \n",
      " 9  2013     1     1 JFK   \n",
      "10  2013     1     1 LGA   \n",
      "# … with 336,766 more rows\n"
     ]
    }
   ],
   "source": [
    "print(select(flights, year, month, day, origin))"
   ]
  },
  {
   "cell_type": "code",
   "execution_count": 35,
   "id": "operating-leone",
   "metadata": {},
   "outputs": [
    {
     "name": "stdout",
     "output_type": "stream",
     "text": [
      "# A tibble: 336,776 x 3\n",
      "    year month   day\n",
      "   <int> <int> <int>\n",
      " 1  2013     1     1\n",
      " 2  2013     1     1\n",
      " 3  2013     1     1\n",
      " 4  2013     1     1\n",
      " 5  2013     1     1\n",
      " 6  2013     1     1\n",
      " 7  2013     1     1\n",
      " 8  2013     1     1\n",
      " 9  2013     1     1\n",
      "10  2013     1     1\n",
      "# … with 336,766 more rows\n"
     ]
    }
   ],
   "source": [
    "# select all columns between year and day (including year and day)\n",
    "print(select(flights, year:day))"
   ]
  },
  {
   "cell_type": "code",
   "execution_count": 38,
   "id": "prompt-baseball",
   "metadata": {},
   "outputs": [
    {
     "name": "stdout",
     "output_type": "stream",
     "text": [
      "# A tibble: 336,776 x 16\n",
      "   dep_time sched_dep_time dep_delay arr_time sched_arr_time arr_delay carrier\n",
      "      <int>          <int>     <dbl>    <int>          <int>     <dbl> <chr>  \n",
      " 1      517            515         2      830            819        11 UA     \n",
      " 2      533            529         4      850            830        20 UA     \n",
      " 3      542            540         2      923            850        33 AA     \n",
      " 4      544            545        -1     1004           1022       -18 B6     \n",
      " 5      554            600        -6      812            837       -25 DL     \n",
      " 6      554            558        -4      740            728        12 UA     \n",
      " 7      555            600        -5      913            854        19 B6     \n",
      " 8      557            600        -3      709            723       -14 EV     \n",
      " 9      557            600        -3      838            846        -8 B6     \n",
      "10      558            600        -2      753            745         8 AA     \n",
      "# … with 336,766 more rows, and 9 more variables: flight <int>, tailnum <chr>,\n",
      "#   origin <chr>, dest <chr>, air_time <dbl>, distance <dbl>, hour <dbl>,\n",
      "#   minute <dbl>, time_hour <dttm>\n"
     ]
    }
   ],
   "source": [
    "# select all columns *excluding* those between year and day (including year and day)\n",
    "print(select(flights, -(year:day)))"
   ]
  },
  {
   "cell_type": "markdown",
   "id": "alpha-pepper",
   "metadata": {},
   "source": [
    "Run ```?select``` to see options for helper functions to use with ```select```."
   ]
  },
  {
   "cell_type": "code",
   "execution_count": 39,
   "id": "armed-contrast",
   "metadata": {},
   "outputs": [],
   "source": [
    "?select"
   ]
  },
  {
   "cell_type": "code",
   "execution_count": 40,
   "id": "exact-flashing",
   "metadata": {},
   "outputs": [
    {
     "name": "stdout",
     "output_type": "stream",
     "text": [
      "# A tibble: 336,776 x 5\n",
      "     day dep_time dep_delay dest  distance\n",
      "   <int>    <int>     <dbl> <chr>    <dbl>\n",
      " 1     1      517         2 IAH       1400\n",
      " 2     1      533         4 IAH       1416\n",
      " 3     1      542         2 MIA       1089\n",
      " 4     1      544        -1 BQN       1576\n",
      " 5     1      554        -6 ATL        762\n",
      " 6     1      554        -4 ORD        719\n",
      " 7     1      555        -5 FLL       1065\n",
      " 8     1      557        -3 IAD        229\n",
      " 9     1      557        -3 MCO        944\n",
      "10     1      558        -2 ORD        733\n",
      "# … with 336,766 more rows\n"
     ]
    }
   ],
   "source": [
    "print(select(flights, starts_with(\"d\")))"
   ]
  },
  {
   "cell_type": "code",
   "execution_count": null,
   "id": "matched-correction",
   "metadata": {},
   "outputs": [],
   "source": []
  }
 ],
 "metadata": {
  "kernelspec": {
   "display_name": "R",
   "language": "R",
   "name": "ir"
  },
  "language_info": {
   "codemirror_mode": "r",
   "file_extension": ".r",
   "mimetype": "text/x-r-source",
   "name": "R",
   "pygments_lexer": "r",
   "version": "3.6.1"
  }
 },
 "nbformat": 4,
 "nbformat_minor": 5
}

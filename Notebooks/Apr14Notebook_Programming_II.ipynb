{
 "cells": [
  {
   "cell_type": "code",
   "execution_count": 1,
   "id": "dense-experience",
   "metadata": {},
   "outputs": [
    {
     "name": "stderr",
     "output_type": "stream",
     "text": [
      "── \u001b[1mAttaching packages\u001b[22m ─────────────────────────────────────── tidyverse 1.3.0 ──\n",
      "\n",
      "\u001b[32m✔\u001b[39m \u001b[34mggplot2\u001b[39m 3.3.3     \u001b[32m✔\u001b[39m \u001b[34mpurrr  \u001b[39m 0.3.4\n",
      "\u001b[32m✔\u001b[39m \u001b[34mtibble \u001b[39m 3.0.6     \u001b[32m✔\u001b[39m \u001b[34mdplyr  \u001b[39m 1.0.4\n",
      "\u001b[32m✔\u001b[39m \u001b[34mtidyr  \u001b[39m 1.1.2     \u001b[32m✔\u001b[39m \u001b[34mstringr\u001b[39m 1.4.0\n",
      "\u001b[32m✔\u001b[39m \u001b[34mreadr  \u001b[39m 1.4.0     \u001b[32m✔\u001b[39m \u001b[34mforcats\u001b[39m 0.5.1\n",
      "\n",
      "── \u001b[1mConflicts\u001b[22m ────────────────────────────────────────── tidyverse_conflicts() ──\n",
      "\u001b[31m✖\u001b[39m \u001b[34mdplyr\u001b[39m::\u001b[32mfilter()\u001b[39m masks \u001b[34mstats\u001b[39m::filter()\n",
      "\u001b[31m✖\u001b[39m \u001b[34mdplyr\u001b[39m::\u001b[32mlag()\u001b[39m    masks \u001b[34mstats\u001b[39m::lag()\n",
      "\n"
     ]
    }
   ],
   "source": [
    "library(tidyverse)"
   ]
  },
  {
   "cell_type": "markdown",
   "id": "modular-earthquake",
   "metadata": {},
   "source": [
    "## Conditional Statements\n",
    "- if (if..then)\n",
    "- if...else\n",
    "- if...else if...else if...else"
   ]
  },
  {
   "cell_type": "code",
   "execution_count": 3,
   "id": "wired-atlantic",
   "metadata": {},
   "outputs": [
    {
     "name": "stdout",
     "output_type": "stream",
     "text": [
      "[1] \"Number is 0\"\n"
     ]
    }
   ],
   "source": [
    "x <- 0\n",
    "if (x < 0) {\n",
    "    print(\"Number is negative\")\n",
    "} else if (x >= 50) {\n",
    "    print(\"Number is 50 or greater\")\n",
    "} else if (x == 0) {\n",
    "    print(\"Number is 0\")\n",
    "} else {\n",
    "    print(\"Number is between 0 and 50\")\n",
    "}"
   ]
  },
  {
   "cell_type": "code",
   "execution_count": 7,
   "id": "specific-noise",
   "metadata": {},
   "outputs": [
    {
     "name": "stdout",
     "output_type": "stream",
     "text": [
      "[1] \"Number is between 0 and 50\"\n",
      "[1] \"Number is negative\"\n",
      "[1] \"Number is 50 or greater\"\n"
     ]
    }
   ],
   "source": [
    "zero_and_fifty <- function(x) {\n",
    "    if (x < 0) {\n",
    "        print(\"Number is negative\")\n",
    "    } else if (x >= 50) {\n",
    "        print(\"Number is 50 or greater\")\n",
    "    } else if (x == 0) {\n",
    "        print(\"Number is 0\")\n",
    "    } else {\n",
    "        print(\"Number is between 0 and 50\")\n",
    "    }\n",
    "}\n",
    "\n",
    "zero_and_fifty(10)\n",
    "zero_and_fifty(-5)\n",
    "zero_and_fifty(50)"
   ]
  },
  {
   "cell_type": "markdown",
   "id": "descending-chapel",
   "metadata": {},
   "source": [
    "Attempt:\n",
    "- Write a function that outputs the square if the input is a positive number, the absolute value if the input is a  negative number, and prints \"ZERO\" if the input is zero.\n",
    "- What is the output of the following block of code?"
   ]
  },
  {
   "cell_type": "code",
   "execution_count": 13,
   "id": "peripheral-glossary",
   "metadata": {},
   "outputs": [
    {
     "name": "stdout",
     "output_type": "stream",
     "text": [
      "[1] \"ZERO\"\n"
     ]
    }
   ],
   "source": [
    "x <- 0\n",
    "if (x > 0) {\n",
    "    x**2\n",
    "} else if (x < 0) {\n",
    "    abs(x)\n",
    "} else if (x == 0){\n",
    "    print(\"ZERO\")\n",
    "}"
   ]
  },
  {
   "cell_type": "code",
   "execution_count": 19,
   "id": "southeast-ivory",
   "metadata": {},
   "outputs": [
    {
     "data": {
      "text/html": [
       "100"
      ],
      "text/latex": [
       "100"
      ],
      "text/markdown": [
       "100"
      ],
      "text/plain": [
       "[1] 100"
      ]
     },
     "metadata": {},
     "output_type": "display_data"
    },
    {
     "data": {
      "text/html": [
       "10"
      ],
      "text/latex": [
       "10"
      ],
      "text/markdown": [
       "10"
      ],
      "text/plain": [
       "[1] 10"
      ]
     },
     "metadata": {},
     "output_type": "display_data"
    },
    {
     "name": "stdout",
     "output_type": "stream",
     "text": [
      "[1] \"ZERO\"\n"
     ]
    }
   ],
   "source": [
    "#warm_up_function <- function(x) {\n",
    "#    if (x > 0) {\n",
    "#        x**2\n",
    "#    } else if (x < 0) {\n",
    "#        abs(x)\n",
    "#    } else if (x == 0){\n",
    "#        print(\"ZERO\")\n",
    "#    }\n",
    "#}\n",
    "\n",
    "warm_up_function <- function(x) {\n",
    "    if (x > 0) {\n",
    "        x**2\n",
    "    } else if (x < 0) {\n",
    "        abs(x)\n",
    "    } else {\n",
    "        print(\"ZERO\")\n",
    "    }\n",
    "}\n",
    "\n",
    "warm_up_function(10)\n",
    "warm_up_function(-10)\n",
    "warm_up_function(0)"
   ]
  },
  {
   "cell_type": "code",
   "execution_count": 20,
   "id": "dated-repository",
   "metadata": {},
   "outputs": [
    {
     "name": "stdout",
     "output_type": "stream",
     "text": [
      "[1] \"THIS\"\n"
     ]
    }
   ],
   "source": [
    "x <- 0\n",
    "if (x == 0) {\n",
    "    print(\"THIS\")\n",
    "} else if (x < 100) {\n",
    "    print(\"THAT\")\n",
    "}"
   ]
  },
  {
   "cell_type": "markdown",
   "id": "underlying-holmes",
   "metadata": {},
   "source": [
    "Be careful with the position of the curly braces"
   ]
  },
  {
   "cell_type": "code",
   "execution_count": 23,
   "id": "opponent-cardiff",
   "metadata": {},
   "outputs": [
    {
     "name": "stdout",
     "output_type": "stream",
     "text": [
      "[1] \"THIS\"\n"
     ]
    }
   ],
   "source": [
    "x <- 0\n",
    "if (x == 0) {\n",
    "    print(\"THIS\")\n",
    "} else if (x < 100) {\n",
    "    print(\"THAT\")\n",
    "}"
   ]
  },
  {
   "cell_type": "markdown",
   "id": "tired-migration",
   "metadata": {},
   "source": [
    "Be careful with the output of your condition statement. It must be either ```TRUE``` or ```FALSE```."
   ]
  },
  {
   "cell_type": "code",
   "execution_count": 27,
   "id": "talented-williams",
   "metadata": {},
   "outputs": [
    {
     "data": {
      "text/html": [
       "<style>\n",
       ".list-inline {list-style: none; margin:0; padding: 0}\n",
       ".list-inline>li {display: inline-block}\n",
       ".list-inline>li:not(:last-child)::after {content: \"\\00b7\"; padding: 0 .5ex}\n",
       "</style>\n",
       "<ol class=list-inline><li>TRUE</li><li>FALSE</li></ol>\n"
      ],
      "text/latex": [
       "\\begin{enumerate*}\n",
       "\\item TRUE\n",
       "\\item FALSE\n",
       "\\end{enumerate*}\n"
      ],
      "text/markdown": [
       "1. TRUE\n",
       "2. FALSE\n",
       "\n",
       "\n"
      ],
      "text/plain": [
       "[1]  TRUE FALSE"
      ]
     },
     "metadata": {},
     "output_type": "display_data"
    }
   ],
   "source": [
    "c(1,2) == 1"
   ]
  },
  {
   "cell_type": "code",
   "execution_count": 26,
   "id": "silent-comparative",
   "metadata": {},
   "outputs": [
    {
     "name": "stderr",
     "output_type": "stream",
     "text": [
      "Warning message in if (c(1, 2) == 1) {:\n",
      "“the condition has length > 1 and only the first element will be used”\n"
     ]
    },
    {
     "name": "stdout",
     "output_type": "stream",
     "text": [
      "[1] \"THIS\"\n"
     ]
    }
   ],
   "source": [
    "if (c(1,2) == 1) {print(\"THIS\")}"
   ]
  },
  {
   "cell_type": "markdown",
   "id": "social-coach",
   "metadata": {},
   "source": [
    "The following commands condense Boolean vectors:\n",
    "- ```any()``` returns ```TRUE``` if any value is ```TRUE```, ```FALSE``` otherwise\n",
    "- ```all()``` returns ```TRUE``` if all values are ```TRUE```, ```FALSE``` otherwise"
   ]
  },
  {
   "cell_type": "code",
   "execution_count": 28,
   "id": "pleasant-blank",
   "metadata": {},
   "outputs": [
    {
     "data": {
      "text/html": [
       "TRUE"
      ],
      "text/latex": [
       "TRUE"
      ],
      "text/markdown": [
       "TRUE"
      ],
      "text/plain": [
       "[1] TRUE"
      ]
     },
     "metadata": {},
     "output_type": "display_data"
    },
    {
     "data": {
      "text/html": [
       "FALSE"
      ],
      "text/latex": [
       "FALSE"
      ],
      "text/markdown": [
       "FALSE"
      ],
      "text/plain": [
       "[1] FALSE"
      ]
     },
     "metadata": {},
     "output_type": "display_data"
    },
    {
     "data": {
      "text/html": [
       "FALSE"
      ],
      "text/latex": [
       "FALSE"
      ],
      "text/markdown": [
       "FALSE"
      ],
      "text/plain": [
       "[1] FALSE"
      ]
     },
     "metadata": {},
     "output_type": "display_data"
    },
    {
     "data": {
      "text/html": [
       "TRUE"
      ],
      "text/latex": [
       "TRUE"
      ],
      "text/markdown": [
       "TRUE"
      ],
      "text/plain": [
       "[1] TRUE"
      ]
     },
     "metadata": {},
     "output_type": "display_data"
    }
   ],
   "source": [
    "any(c(T, F))\n",
    "any(c(F, F))\n",
    "\n",
    "all(c(T, F))\n",
    "all(c(T, T))"
   ]
  },
  {
   "cell_type": "markdown",
   "id": "bound-arnold",
   "metadata": {},
   "source": [
    "You can use logical operators to combine conditions:\n",
    "- ```&&``` for \"and\"\n",
    "- ```||``` for \"or\"\n",
    "- ```identical()``` for ```==```\n",
    "These are *not* vectorized meaning that they will always output a single ```TRUE```/```FALSE``` value"
   ]
  },
  {
   "cell_type": "code",
   "execution_count": 31,
   "id": "golden-negative",
   "metadata": {},
   "outputs": [
    {
     "data": {
      "text/html": [
       "FALSE"
      ],
      "text/latex": [
       "FALSE"
      ],
      "text/markdown": [
       "FALSE"
      ],
      "text/plain": [
       "[1] FALSE"
      ]
     },
     "metadata": {},
     "output_type": "display_data"
    },
    {
     "data": {
      "text/html": [
       "TRUE"
      ],
      "text/latex": [
       "TRUE"
      ],
      "text/markdown": [
       "TRUE"
      ],
      "text/plain": [
       "[1] TRUE"
      ]
     },
     "metadata": {},
     "output_type": "display_data"
    },
    {
     "data": {
      "text/html": [
       "FALSE"
      ],
      "text/latex": [
       "FALSE"
      ],
      "text/markdown": [
       "FALSE"
      ],
      "text/plain": [
       "[1] FALSE"
      ]
     },
     "metadata": {},
     "output_type": "display_data"
    }
   ],
   "source": [
    "pos_and_not_five <- function(x) {(x > 0) && !(identical(x,5))}\n",
    "\n",
    "pos_and_not_five(5)\n",
    "pos_and_not_five(1)\n",
    "pos_and_not_five(-1)"
   ]
  },
  {
   "cell_type": "markdown",
   "id": "relevant-proposition",
   "metadata": {},
   "source": [
    "The command ```identical()``` returns ```TRUE``` if all arguments are **exactly** the same, ```FALSE``` otherwise"
   ]
  },
  {
   "cell_type": "code",
   "execution_count": 32,
   "id": "attended-california",
   "metadata": {},
   "outputs": [
    {
     "data": {
      "text/html": [
       "TRUE"
      ],
      "text/latex": [
       "TRUE"
      ],
      "text/markdown": [
       "TRUE"
      ],
      "text/plain": [
       "[1] TRUE"
      ]
     },
     "metadata": {},
     "output_type": "display_data"
    },
    {
     "data": {
      "text/html": [
       "FALSE"
      ],
      "text/latex": [
       "FALSE"
      ],
      "text/markdown": [
       "FALSE"
      ],
      "text/plain": [
       "[1] FALSE"
      ]
     },
     "metadata": {},
     "output_type": "display_data"
    }
   ],
   "source": [
    "identical(0, 0, 0, 0, 0)\n",
    "identical(1L, 1)"
   ]
  },
  {
   "cell_type": "markdown",
   "id": "certified-ballet",
   "metadata": {},
   "source": [
    "## Loops\n",
    "- Useful for when you want to do the same thing to many different inputs"
   ]
  },
  {
   "cell_type": "code",
   "execution_count": 34,
   "id": "received-tracy",
   "metadata": {},
   "outputs": [
    {
     "data": {
      "text/html": [
       "<style>\n",
       ".list-inline {list-style: none; margin:0; padding: 0}\n",
       ".list-inline>li {display: inline-block}\n",
       ".list-inline>li:not(:last-child)::after {content: \"\\00b7\"; padding: 0 .5ex}\n",
       "</style>\n",
       "<ol class=list-inline><li>1</li><li>2</li><li>3</li><li>4</li><li>5</li></ol>\n"
      ],
      "text/latex": [
       "\\begin{enumerate*}\n",
       "\\item 1\n",
       "\\item 2\n",
       "\\item 3\n",
       "\\item 4\n",
       "\\item 5\n",
       "\\end{enumerate*}\n"
      ],
      "text/markdown": [
       "1. 1\n",
       "2. 2\n",
       "3. 3\n",
       "4. 4\n",
       "5. 5\n",
       "\n",
       "\n"
      ],
      "text/plain": [
       "[1] 1 2 3 4 5"
      ]
     },
     "metadata": {},
     "output_type": "display_data"
    }
   ],
   "source": [
    "seq(1:5)"
   ]
  },
  {
   "cell_type": "code",
   "execution_count": 33,
   "id": "cubic-renewal",
   "metadata": {},
   "outputs": [
    {
     "name": "stdout",
     "output_type": "stream",
     "text": [
      "[1] 1\n",
      "[1] 2\n",
      "[1] 3\n",
      "[1] 4\n",
      "[1] 5\n"
     ]
    }
   ],
   "source": [
    "# print the first five positive integers\n",
    "for (i in seq(1:5)) {\n",
    "    print(i)\n",
    "}"
   ]
  },
  {
   "cell_type": "markdown",
   "id": "atomic-ridge",
   "metadata": {},
   "source": [
    "The above loop is equivalent to:\n",
    "\n",
    "```print(1)```\n",
    "\n",
    "```print(2)```\n",
    "\n",
    "```print(3)```\n",
    "\n",
    "```print(4)```\n",
    "\n",
    "```print(5)```\n",
    "\n",
    "The variable ```i``` takes on the values in ```seq(1:5) = c(1, 2, 3, 4, 5)``` one by one."
   ]
  },
  {
   "cell_type": "markdown",
   "id": "public-indication",
   "metadata": {},
   "source": [
    "- We can iterate over vectors and lists"
   ]
  },
  {
   "cell_type": "code",
   "execution_count": 39,
   "id": "personalized-channels",
   "metadata": {},
   "outputs": [
    {
     "name": "stdout",
     "output_type": "stream",
     "text": [
      "[1] \"hello\"\n",
      "[1] \"everyone\"\n",
      "[1] \"it's\"\n",
      "[1] \"wednesday\"\n",
      "[1] 2\n"
     ]
    }
   ],
   "source": [
    "x <- list(\"hello\",\"everyone\",\"it's\",\"wednesday\", 2)\n",
    "\n",
    "for (element in x) {\n",
    "    print(element)\n",
    "}"
   ]
  },
  {
   "cell_type": "code",
   "execution_count": 43,
   "id": "growing-curve",
   "metadata": {},
   "outputs": [
    {
     "name": "stdout",
     "output_type": "stream",
     "text": [
      "\u001b[90m# A tibble: 6 x 6\u001b[39m\n",
      "  depth table price     x     y     z\n",
      "  \u001b[3m\u001b[90m<dbl>\u001b[39m\u001b[23m \u001b[3m\u001b[90m<dbl>\u001b[39m\u001b[23m \u001b[3m\u001b[90m<int>\u001b[39m\u001b[23m \u001b[3m\u001b[90m<dbl>\u001b[39m\u001b[23m \u001b[3m\u001b[90m<dbl>\u001b[39m\u001b[23m \u001b[3m\u001b[90m<dbl>\u001b[39m\u001b[23m\n",
      "\u001b[90m1\u001b[39m  61.5    55   326  3.95  3.98  2.43\n",
      "\u001b[90m2\u001b[39m  59.8    61   326  3.89  3.84  2.31\n",
      "\u001b[90m3\u001b[39m  56.9    65   327  4.05  4.07  2.31\n",
      "\u001b[90m4\u001b[39m  62.4    58   334  4.2   4.23  2.63\n",
      "\u001b[90m5\u001b[39m  63.3    58   335  4.34  4.35  2.75\n",
      "\u001b[90m6\u001b[39m  62.8    57   336  3.94  3.96  2.48\n"
     ]
    }
   ],
   "source": [
    "diamonds_number <- diamonds %>%\n",
    "    select(depth, table, price, x, y, z) %>%\n",
    "    head() %>%\n",
    "    print()"
   ]
  },
  {
   "cell_type": "code",
   "execution_count": 44,
   "id": "based-mathematics",
   "metadata": {},
   "outputs": [
    {
     "data": {
      "text/html": [
       "<table class=\"dataframe\">\n",
       "<caption>A tibble: 6 × 6</caption>\n",
       "<thead>\n",
       "\t<tr><th scope=col>depth</th><th scope=col>table</th><th scope=col>price</th><th scope=col>x</th><th scope=col>y</th><th scope=col>z</th></tr>\n",
       "\t<tr><th scope=col>&lt;dbl&gt;</th><th scope=col>&lt;dbl&gt;</th><th scope=col>&lt;int&gt;</th><th scope=col>&lt;dbl&gt;</th><th scope=col>&lt;dbl&gt;</th><th scope=col>&lt;dbl&gt;</th></tr>\n",
       "</thead>\n",
       "<tbody>\n",
       "\t<tr><td>61.5</td><td>55</td><td>326</td><td>3.95</td><td>3.98</td><td>2.43</td></tr>\n",
       "\t<tr><td>59.8</td><td>61</td><td>326</td><td>3.89</td><td>3.84</td><td>2.31</td></tr>\n",
       "\t<tr><td>56.9</td><td>65</td><td>327</td><td>4.05</td><td>4.07</td><td>2.31</td></tr>\n",
       "\t<tr><td>62.4</td><td>58</td><td>334</td><td>4.20</td><td>4.23</td><td>2.63</td></tr>\n",
       "\t<tr><td>63.3</td><td>58</td><td>335</td><td>4.34</td><td>4.35</td><td>2.75</td></tr>\n",
       "\t<tr><td>62.8</td><td>57</td><td>336</td><td>3.94</td><td>3.96</td><td>2.48</td></tr>\n",
       "</tbody>\n",
       "</table>\n"
      ],
      "text/latex": [
       "A tibble: 6 × 6\n",
       "\\begin{tabular}{llllll}\n",
       " depth & table & price & x & y & z\\\\\n",
       " <dbl> & <dbl> & <int> & <dbl> & <dbl> & <dbl>\\\\\n",
       "\\hline\n",
       "\t 61.5 & 55 & 326 & 3.95 & 3.98 & 2.43\\\\\n",
       "\t 59.8 & 61 & 326 & 3.89 & 3.84 & 2.31\\\\\n",
       "\t 56.9 & 65 & 327 & 4.05 & 4.07 & 2.31\\\\\n",
       "\t 62.4 & 58 & 334 & 4.20 & 4.23 & 2.63\\\\\n",
       "\t 63.3 & 58 & 335 & 4.34 & 4.35 & 2.75\\\\\n",
       "\t 62.8 & 57 & 336 & 3.94 & 3.96 & 2.48\\\\\n",
       "\\end{tabular}\n"
      ],
      "text/markdown": [
       "\n",
       "A tibble: 6 × 6\n",
       "\n",
       "| depth &lt;dbl&gt; | table &lt;dbl&gt; | price &lt;int&gt; | x &lt;dbl&gt; | y &lt;dbl&gt; | z &lt;dbl&gt; |\n",
       "|---|---|---|---|---|---|\n",
       "| 61.5 | 55 | 326 | 3.95 | 3.98 | 2.43 |\n",
       "| 59.8 | 61 | 326 | 3.89 | 3.84 | 2.31 |\n",
       "| 56.9 | 65 | 327 | 4.05 | 4.07 | 2.31 |\n",
       "| 62.4 | 58 | 334 | 4.20 | 4.23 | 2.63 |\n",
       "| 63.3 | 58 | 335 | 4.34 | 4.35 | 2.75 |\n",
       "| 62.8 | 57 | 336 | 3.94 | 3.96 | 2.48 |\n",
       "\n"
      ],
      "text/plain": [
       "  depth table price x    y    z   \n",
       "1 61.5  55    326   3.95 3.98 2.43\n",
       "2 59.8  61    326   3.89 3.84 2.31\n",
       "3 56.9  65    327   4.05 4.07 2.31\n",
       "4 62.4  58    334   4.20 4.23 2.63\n",
       "5 63.3  58    335   4.34 4.35 2.75\n",
       "6 62.8  57    336   3.94 3.96 2.48"
      ]
     },
     "metadata": {},
     "output_type": "display_data"
    }
   ],
   "source": [
    "for (column in diamonds_number) {\n",
    "    column <- column - mean(column)\n",
    "}\n",
    "diamonds_number"
   ]
  },
  {
   "cell_type": "code",
   "execution_count": 42,
   "id": "false-visit",
   "metadata": {},
   "outputs": [
    {
     "data": {
      "text/html": [
       "<table class=\"dataframe\">\n",
       "<caption>A tibble: 6 × 6</caption>\n",
       "<thead>\n",
       "\t<tr><th scope=col>depth</th><th scope=col>table</th><th scope=col>price</th><th scope=col>x</th><th scope=col>y</th><th scope=col>z</th></tr>\n",
       "\t<tr><th scope=col>&lt;dbl&gt;</th><th scope=col>&lt;dbl&gt;</th><th scope=col>&lt;dbl&gt;</th><th scope=col>&lt;dbl&gt;</th><th scope=col>&lt;dbl&gt;</th><th scope=col>&lt;dbl&gt;</th></tr>\n",
       "</thead>\n",
       "<tbody>\n",
       "\t<tr><td> 0.3833333</td><td>-4</td><td>-4.666667</td><td>-0.11166667</td><td>-0.091666667</td><td>-0.055</td></tr>\n",
       "\t<tr><td>-1.3166667</td><td> 2</td><td>-4.666667</td><td>-0.17166667</td><td>-0.231666667</td><td>-0.175</td></tr>\n",
       "\t<tr><td>-4.2166667</td><td> 6</td><td>-3.666667</td><td>-0.01166667</td><td>-0.001666667</td><td>-0.175</td></tr>\n",
       "\t<tr><td> 1.2833333</td><td>-1</td><td> 3.333333</td><td> 0.13833333</td><td> 0.158333333</td><td> 0.145</td></tr>\n",
       "\t<tr><td> 2.1833333</td><td>-1</td><td> 4.333333</td><td> 0.27833333</td><td> 0.278333333</td><td> 0.265</td></tr>\n",
       "\t<tr><td> 1.6833333</td><td>-2</td><td> 5.333333</td><td>-0.12166667</td><td>-0.111666667</td><td>-0.005</td></tr>\n",
       "</tbody>\n",
       "</table>\n"
      ],
      "text/latex": [
       "A tibble: 6 × 6\n",
       "\\begin{tabular}{llllll}\n",
       " depth & table & price & x & y & z\\\\\n",
       " <dbl> & <dbl> & <dbl> & <dbl> & <dbl> & <dbl>\\\\\n",
       "\\hline\n",
       "\t  0.3833333 & -4 & -4.666667 & -0.11166667 & -0.091666667 & -0.055\\\\\n",
       "\t -1.3166667 &  2 & -4.666667 & -0.17166667 & -0.231666667 & -0.175\\\\\n",
       "\t -4.2166667 &  6 & -3.666667 & -0.01166667 & -0.001666667 & -0.175\\\\\n",
       "\t  1.2833333 & -1 &  3.333333 &  0.13833333 &  0.158333333 &  0.145\\\\\n",
       "\t  2.1833333 & -1 &  4.333333 &  0.27833333 &  0.278333333 &  0.265\\\\\n",
       "\t  1.6833333 & -2 &  5.333333 & -0.12166667 & -0.111666667 & -0.005\\\\\n",
       "\\end{tabular}\n"
      ],
      "text/markdown": [
       "\n",
       "A tibble: 6 × 6\n",
       "\n",
       "| depth &lt;dbl&gt; | table &lt;dbl&gt; | price &lt;dbl&gt; | x &lt;dbl&gt; | y &lt;dbl&gt; | z &lt;dbl&gt; |\n",
       "|---|---|---|---|---|---|\n",
       "|  0.3833333 | -4 | -4.666667 | -0.11166667 | -0.091666667 | -0.055 |\n",
       "| -1.3166667 |  2 | -4.666667 | -0.17166667 | -0.231666667 | -0.175 |\n",
       "| -4.2166667 |  6 | -3.666667 | -0.01166667 | -0.001666667 | -0.175 |\n",
       "|  1.2833333 | -1 |  3.333333 |  0.13833333 |  0.158333333 |  0.145 |\n",
       "|  2.1833333 | -1 |  4.333333 |  0.27833333 |  0.278333333 |  0.265 |\n",
       "|  1.6833333 | -2 |  5.333333 | -0.12166667 | -0.111666667 | -0.005 |\n",
       "\n"
      ],
      "text/plain": [
       "  depth      table price     x           y            z     \n",
       "1  0.3833333 -4    -4.666667 -0.11166667 -0.091666667 -0.055\n",
       "2 -1.3166667  2    -4.666667 -0.17166667 -0.231666667 -0.175\n",
       "3 -4.2166667  6    -3.666667 -0.01166667 -0.001666667 -0.175\n",
       "4  1.2833333 -1     3.333333  0.13833333  0.158333333  0.145\n",
       "5  2.1833333 -1     4.333333  0.27833333  0.278333333  0.265\n",
       "6  1.6833333 -2     5.333333 -0.12166667 -0.111666667 -0.005"
      ]
     },
     "metadata": {},
     "output_type": "display_data"
    }
   ],
   "source": [
    "# to modify a dataframe we can use seq_along()\n",
    "# here i represents an **index** rather than the element itself\n",
    "for (i in seq_along(diamonds_number)) {\n",
    "    diamonds_number[[i]] <- diamonds_number[[i]] - mean(diamonds_number[[i]])\n",
    "}\n",
    "diamonds_number"
   ]
  },
  {
   "cell_type": "code",
   "execution_count": 49,
   "id": "moved-wholesale",
   "metadata": {},
   "outputs": [
    {
     "name": "stdout",
     "output_type": "stream",
     "text": [
      "[1] 1\n",
      "[1] 4\n",
      "[1] 9\n"
     ]
    },
    {
     "data": {
      "text/html": [
       "<style>\n",
       ".list-inline {list-style: none; margin:0; padding: 0}\n",
       ".list-inline>li {display: inline-block}\n",
       ".list-inline>li:not(:last-child)::after {content: \"\\00b7\"; padding: 0 .5ex}\n",
       "</style>\n",
       "<ol class=list-inline><li>1</li><li>4</li><li>9</li></ol>\n"
      ],
      "text/latex": [
       "\\begin{enumerate*}\n",
       "\\item 1\n",
       "\\item 4\n",
       "\\item 9\n",
       "\\end{enumerate*}\n"
      ],
      "text/markdown": [
       "1. 1\n",
       "2. 4\n",
       "3. 9\n",
       "\n",
       "\n"
      ],
      "text/plain": [
       "[1] 1 4 9"
      ]
     },
     "metadata": {},
     "output_type": "display_data"
    }
   ],
   "source": [
    "x <- c(1,2,3)\n",
    "\n",
    "for (i in seq_along(x)) {\n",
    "    x[[i]] <- x[[i]]**2\n",
    "    print(x[[i]])\n",
    "}\n",
    "x"
   ]
  },
  {
   "cell_type": "markdown",
   "id": "adaptive-syndrome",
   "metadata": {},
   "source": [
    "Attempt\n",
    "- Write a function that adjusts a column of a tibble by the mean if its an integer or double type column"
   ]
  },
  {
   "cell_type": "code",
   "execution_count": 66,
   "id": "prime-default",
   "metadata": {},
   "outputs": [
    {
     "data": {
      "text/html": [
       "TRUE"
      ],
      "text/latex": [
       "TRUE"
      ],
      "text/markdown": [
       "TRUE"
      ],
      "text/plain": [
       "[1] TRUE"
      ]
     },
     "metadata": {},
     "output_type": "display_data"
    }
   ],
   "source": [
    "is.numeric(diamonds$carat)"
   ]
  },
  {
   "cell_type": "code",
   "execution_count": 67,
   "id": "administrative-giving",
   "metadata": {},
   "outputs": [
    {
     "data": {
      "text/html": [
       "TRUE"
      ],
      "text/latex": [
       "TRUE"
      ],
      "text/markdown": [
       "TRUE"
      ],
      "text/plain": [
       "[1] TRUE"
      ]
     },
     "metadata": {},
     "output_type": "display_data"
    }
   ],
   "source": [
    "is.numeric(diamonds$price)"
   ]
  },
  {
   "cell_type": "code",
   "execution_count": 68,
   "id": "dried-fraction",
   "metadata": {},
   "outputs": [
    {
     "data": {
      "text/html": [
       "FALSE"
      ],
      "text/latex": [
       "FALSE"
      ],
      "text/markdown": [
       "FALSE"
      ],
      "text/plain": [
       "[1] FALSE"
      ]
     },
     "metadata": {},
     "output_type": "display_data"
    }
   ],
   "source": [
    "is.numeric(diamonds$cut)"
   ]
  },
  {
   "cell_type": "code",
   "execution_count": 70,
   "id": "alien-registrar",
   "metadata": {},
   "outputs": [
    {
     "name": "stdout",
     "output_type": "stream",
     "text": [
      "[1] \"something\"\n"
     ]
    }
   ],
   "source": [
    "column <- diamonds$price\n",
    "if (is.numeric(column)){\n",
    "    column <- column - mean(column)\n",
    "}"
   ]
  },
  {
   "cell_type": "code",
   "execution_count": 72,
   "id": "ranging-brisbane",
   "metadata": {},
   "outputs": [],
   "source": [
    "new_diamonds <- diamonds"
   ]
  },
  {
   "cell_type": "code",
   "execution_count": 73,
   "id": "otherwise-writer",
   "metadata": {
    "scrolled": true
   },
   "outputs": [
    {
     "data": {
      "text/html": [
       "<table class=\"dataframe\">\n",
       "<caption>A tibble: 53940 × 10</caption>\n",
       "<thead>\n",
       "\t<tr><th scope=col>carat</th><th scope=col>cut</th><th scope=col>color</th><th scope=col>clarity</th><th scope=col>depth</th><th scope=col>table</th><th scope=col>price</th><th scope=col>x</th><th scope=col>y</th><th scope=col>z</th></tr>\n",
       "\t<tr><th scope=col>&lt;dbl&gt;</th><th scope=col>&lt;ord&gt;</th><th scope=col>&lt;ord&gt;</th><th scope=col>&lt;ord&gt;</th><th scope=col>&lt;dbl&gt;</th><th scope=col>&lt;dbl&gt;</th><th scope=col>&lt;dbl&gt;</th><th scope=col>&lt;dbl&gt;</th><th scope=col>&lt;dbl&gt;</th><th scope=col>&lt;dbl&gt;</th></tr>\n",
       "</thead>\n",
       "<tbody>\n",
       "\t<tr><td>-0.5679397</td><td>Ideal    </td><td>E</td><td>SI2 </td><td>-0.2494049</td><td>-2.4571839</td><td>-3606.8</td><td>-1.781157</td><td>-1.754526</td><td>-1.1087338</td></tr>\n",
       "\t<tr><td>-0.5879397</td><td>Premium  </td><td>E</td><td>SI1 </td><td>-1.9494049</td><td> 3.5428161</td><td>-3606.8</td><td>-1.841157</td><td>-1.894526</td><td>-1.2287338</td></tr>\n",
       "\t<tr><td>-0.5679397</td><td>Good     </td><td>E</td><td>VS1 </td><td>-4.8494049</td><td> 7.5428161</td><td>-3605.8</td><td>-1.681157</td><td>-1.664526</td><td>-1.2287338</td></tr>\n",
       "\t<tr><td>-0.5079397</td><td>Premium  </td><td>I</td><td>VS2 </td><td> 0.6505951</td><td> 0.5428161</td><td>-3598.8</td><td>-1.531157</td><td>-1.504526</td><td>-0.9087338</td></tr>\n",
       "\t<tr><td>-0.4879397</td><td>Good     </td><td>J</td><td>SI2 </td><td> 1.5505951</td><td> 0.5428161</td><td>-3597.8</td><td>-1.391157</td><td>-1.384526</td><td>-0.7887338</td></tr>\n",
       "\t<tr><td>-0.5579397</td><td>Very Good</td><td>J</td><td>VVS2</td><td> 1.0505951</td><td>-0.4571839</td><td>-3596.8</td><td>-1.791157</td><td>-1.774526</td><td>-1.0587338</td></tr>\n",
       "\t<tr><td>-0.5579397</td><td>Very Good</td><td>I</td><td>VVS1</td><td> 0.5505951</td><td>-0.4571839</td><td>-3596.8</td><td>-1.781157</td><td>-1.754526</td><td>-1.0687338</td></tr>\n",
       "\t<tr><td>-0.5379397</td><td>Very Good</td><td>H</td><td>SI1 </td><td> 0.1505951</td><td>-2.4571839</td><td>-3595.8</td><td>-1.661157</td><td>-1.624526</td><td>-1.0087338</td></tr>\n",
       "\t<tr><td>-0.5779397</td><td>Fair     </td><td>E</td><td>VS2 </td><td> 3.3505951</td><td> 3.5428161</td><td>-3595.8</td><td>-1.861157</td><td>-1.954526</td><td>-1.0487338</td></tr>\n",
       "\t<tr><td>-0.5679397</td><td>Very Good</td><td>H</td><td>VS1 </td><td>-2.3494049</td><td> 3.5428161</td><td>-3594.8</td><td>-1.731157</td><td>-1.684526</td><td>-1.1487338</td></tr>\n",
       "\t<tr><td>-0.4979397</td><td>Good     </td><td>J</td><td>SI1 </td><td> 2.2505951</td><td>-2.4571839</td><td>-3593.8</td><td>-1.481157</td><td>-1.454526</td><td>-0.8087338</td></tr>\n",
       "\t<tr><td>-0.5679397</td><td>Ideal    </td><td>J</td><td>VS1 </td><td> 1.0505951</td><td>-1.4571839</td><td>-3592.8</td><td>-1.801157</td><td>-1.834526</td><td>-1.0787338</td></tr>\n",
       "\t<tr><td>-0.5779397</td><td>Premium  </td><td>F</td><td>SI1 </td><td>-1.3494049</td><td> 3.5428161</td><td>-3590.8</td><td>-1.851157</td><td>-1.894526</td><td>-1.2087338</td></tr>\n",
       "\t<tr><td>-0.4879397</td><td>Ideal    </td><td>J</td><td>SI2 </td><td> 0.4505951</td><td>-3.4571839</td><td>-3588.8</td><td>-1.381157</td><td>-1.364526</td><td>-0.8287338</td></tr>\n",
       "\t<tr><td>-0.5979397</td><td>Premium  </td><td>E</td><td>SI2 </td><td>-1.5494049</td><td> 4.5428161</td><td>-3587.8</td><td>-1.941157</td><td>-1.984526</td><td>-1.2687338</td></tr>\n",
       "\t<tr><td>-0.4779397</td><td>Premium  </td><td>E</td><td>I1  </td><td>-0.8494049</td><td> 0.5428161</td><td>-3587.8</td><td>-1.351157</td><td>-1.314526</td><td>-0.8587338</td></tr>\n",
       "\t<tr><td>-0.4979397</td><td>Ideal    </td><td>I</td><td>SI2 </td><td> 0.2505951</td><td>-3.4571839</td><td>-3584.8</td><td>-1.421157</td><td>-1.394526</td><td>-0.8587338</td></tr>\n",
       "\t<tr><td>-0.4979397</td><td>Good     </td><td>J</td><td>SI1 </td><td> 1.6505951</td><td>-3.4571839</td><td>-3581.8</td><td>-1.501157</td><td>-1.444526</td><td>-0.8387338</td></tr>\n",
       "\t<tr><td>-0.4979397</td><td>Good     </td><td>J</td><td>SI1 </td><td> 2.0505951</td><td>-1.4571839</td><td>-3581.8</td><td>-1.501157</td><td>-1.474526</td><td>-0.8287338</td></tr>\n",
       "\t<tr><td>-0.4979397</td><td>Very Good</td><td>J</td><td>SI1 </td><td> 0.9505951</td><td> 1.5428161</td><td>-3581.8</td><td>-1.521157</td><td>-1.464526</td><td>-0.8787338</td></tr>\n",
       "\t<tr><td>-0.4979397</td><td>Good     </td><td>I</td><td>SI2 </td><td> 1.5505951</td><td>-1.4571839</td><td>-3581.8</td><td>-1.471157</td><td>-1.434526</td><td>-0.8287338</td></tr>\n",
       "\t<tr><td>-0.5679397</td><td>Very Good</td><td>E</td><td>VS2 </td><td> 2.0505951</td><td>-2.4571839</td><td>-3580.8</td><td>-1.881157</td><td>-1.814526</td><td>-1.0587338</td></tr>\n",
       "\t<tr><td>-0.5679397</td><td>Very Good</td><td>H</td><td>VS1 </td><td>-0.7494049</td><td>-0.4571839</td><td>-3579.8</td><td>-1.791157</td><td>-1.774526</td><td>-1.1287338</td></tr>\n",
       "\t<tr><td>-0.4879397</td><td>Very Good</td><td>J</td><td>SI1 </td><td>-2.3494049</td><td> 4.5428161</td><td>-3579.8</td><td>-1.341157</td><td>-1.304526</td><td>-0.9187338</td></tr>\n",
       "\t<tr><td>-0.4879397</td><td>Very Good</td><td>J</td><td>SI1 </td><td>-3.6494049</td><td> 4.5428161</td><td>-3579.8</td><td>-1.291157</td><td>-1.264526</td><td>-0.9487338</td></tr>\n",
       "\t<tr><td>-0.5679397</td><td>Very Good</td><td>G</td><td>VVS2</td><td>-1.3494049</td><td> 0.5428161</td><td>-3578.8</td><td>-1.761157</td><td>-1.724526</td><td>-1.1287338</td></tr>\n",
       "\t<tr><td>-0.5579397</td><td>Premium  </td><td>I</td><td>VS1 </td><td> 0.7505951</td><td>-0.4571839</td><td>-3577.8</td><td>-1.761157</td><td>-1.794526</td><td>-1.0687338</td></tr>\n",
       "\t<tr><td>-0.4979397</td><td>Very Good</td><td>J</td><td>VS2 </td><td> 0.4505951</td><td>-0.4571839</td><td>-3575.8</td><td>-1.451157</td><td>-1.434526</td><td>-0.8687338</td></tr>\n",
       "\t<tr><td>-0.5679397</td><td>Very Good</td><td>D</td><td>VS2 </td><td>-1.2494049</td><td> 3.5428161</td><td>-3575.8</td><td>-1.771157</td><td>-1.764526</td><td>-1.1387338</td></tr>\n",
       "\t<tr><td>-0.5679397</td><td>Very Good</td><td>F</td><td>VS1 </td><td>-0.8494049</td><td>-0.4571839</td><td>-3575.8</td><td>-1.771157</td><td>-1.744526</td><td>-1.1187338</td></tr>\n",
       "\t<tr><td>⋮</td><td>⋮</td><td>⋮</td><td>⋮</td><td>⋮</td><td>⋮</td><td>⋮</td><td>⋮</td><td>⋮</td><td>⋮</td></tr>\n",
       "\t<tr><td>-0.097939748</td><td>Premium  </td><td>E</td><td>SI1 </td><td>-1.24940489</td><td> 0.5428161</td><td>-1179.8</td><td> 0.008842788</td><td> 0.035474045</td><td>-0.058733778</td></tr>\n",
       "\t<tr><td>-0.227939748</td><td>Premium  </td><td>E</td><td>IF  </td><td>-1.94940489</td><td> 2.5428161</td><td>-1179.8</td><td>-0.301157212</td><td>-0.354525955</td><td>-0.308733778</td></tr>\n",
       "\t<tr><td>-0.187939748</td><td>Premium  </td><td>F</td><td>VVS1</td><td> 0.05059511</td><td> 1.5428161</td><td>-1179.8</td><td>-0.251157212</td><td>-0.334525955</td><td>-0.178733778</td></tr>\n",
       "\t<tr><td> 0.002060252</td><td>Good     </td><td>G</td><td>VS2 </td><td> 2.45059511</td><td> 0.5428161</td><td>-1179.8</td><td> 0.108842788</td><td> 0.075474045</td><td> 0.201266222</td></tr>\n",
       "\t<tr><td> 0.042060252</td><td>Good     </td><td>I</td><td>VS1 </td><td> 1.95059511</td><td> 1.5428161</td><td>-1179.8</td><td> 0.208842788</td><td> 0.165474045</td><td> 0.231266222</td></tr>\n",
       "\t<tr><td>-0.027939748</td><td>Ideal    </td><td>E</td><td>SI2 </td><td> 0.35059511</td><td>-1.4571839</td><td>-1179.8</td><td> 0.108842788</td><td> 0.125474045</td><td> 0.091266222</td></tr>\n",
       "\t<tr><td>-0.057939748</td><td>Good     </td><td>D</td><td>SI1 </td><td> 1.35059511</td><td> 1.5428161</td><td>-1179.8</td><td>-0.021157212</td><td> 0.005474045</td><td> 0.071266222</td></tr>\n",
       "\t<tr><td> 0.102060252</td><td>Very Good</td><td>J</td><td>SI1 </td><td> 1.45059511</td><td> 2.5428161</td><td>-1179.8</td><td> 0.388842788</td><td> 0.355474045</td><td> 0.321266222</td></tr>\n",
       "\t<tr><td>-0.037939748</td><td>Premium  </td><td>I</td><td>VS1 </td><td>-2.44940489</td><td> 4.5428161</td><td>-1179.8</td><td> 0.198842788</td><td> 0.115474045</td><td>-0.048733778</td></tr>\n",
       "\t<tr><td>-0.037939748</td><td>Ideal    </td><td>I</td><td>VVS1</td><td> 0.45059511</td><td>-2.4571839</td><td>-1179.8</td><td> 0.158842788</td><td> 0.135474045</td><td> 0.121266222</td></tr>\n",
       "\t<tr><td>-0.097939748</td><td>Very Good</td><td>E</td><td>VS2 </td><td> 0.65059511</td><td> 2.5428161</td><td>-1177.8</td><td>-0.161157212</td><td>-0.124525955</td><td>-0.048733778</td></tr>\n",
       "\t<tr><td>-0.097939748</td><td>Very Good</td><td>E</td><td>VS2 </td><td> 1.05059511</td><td> 2.5428161</td><td>-1177.8</td><td>-0.141157212</td><td>-0.084525955</td><td>-0.008733778</td></tr>\n",
       "\t<tr><td>-0.097939748</td><td>Very Good</td><td>D</td><td>VS1 </td><td> 1.35059511</td><td> 1.5428161</td><td>-1177.8</td><td>-0.061157212</td><td>-0.154525955</td><td> 0.011266222</td></tr>\n",
       "\t<tr><td>-0.067939748</td><td>Ideal    </td><td>I</td><td>VS2 </td><td>-0.44940489</td><td>-1.4571839</td><td>-1176.8</td><td> 0.068842788</td><td> 0.105474045</td><td> 0.031266222</td></tr>\n",
       "\t<tr><td>-0.067939748</td><td>Ideal    </td><td>I</td><td>VS2 </td><td>-0.14940489</td><td>-2.4571839</td><td>-1176.8</td><td> 0.088842788</td><td> 0.105474045</td><td> 0.051266222</td></tr>\n",
       "\t<tr><td>-0.007939748</td><td>Ideal    </td><td>I</td><td>SI1 </td><td>-0.14940489</td><td>-1.4571839</td><td>-1176.8</td><td> 0.218842788</td><td> 0.235474045</td><td> 0.131266222</td></tr>\n",
       "\t<tr><td>-0.087939748</td><td>Ideal    </td><td>E</td><td>SI1 </td><td> 0.15059511</td><td>-1.4571839</td><td>-1176.8</td><td>-0.021157212</td><td>-0.004525955</td><td> 0.001266222</td></tr>\n",
       "\t<tr><td>-0.007939748</td><td>Good     </td><td>F</td><td>SI1 </td><td>-3.64940489</td><td> 1.5428161</td><td>-1176.8</td><td> 0.328842788</td><td> 0.395474045</td><td> 0.001266222</td></tr>\n",
       "\t<tr><td>-0.007939748</td><td>Premium  </td><td>E</td><td>SI2 </td><td>-0.34940489</td><td> 0.5428161</td><td>-1176.8</td><td> 0.298842788</td><td> 0.225474045</td><td> 0.141266222</td></tr>\n",
       "\t<tr><td>-0.087939748</td><td>Ideal    </td><td>G</td><td>VS1 </td><td>-0.34940489</td><td>-1.4571839</td><td>-1176.8</td><td> 0.028842788</td><td>-0.004525955</td><td>-0.008733778</td></tr>\n",
       "\t<tr><td>-0.087939748</td><td>Premium  </td><td>E</td><td>SI1 </td><td>-1.24940489</td><td>-2.4571839</td><td>-1176.8</td><td> 0.058842788</td><td> 0.005474045</td><td>-0.048733778</td></tr>\n",
       "\t<tr><td>-0.087939748</td><td>Premium  </td><td>F</td><td>SI1 </td><td>-1.94940489</td><td> 4.5428161</td><td>-1176.8</td><td> 0.008842788</td><td>-0.004525955</td><td>-0.108733778</td></tr>\n",
       "\t<tr><td>-0.097939748</td><td>Very Good</td><td>E</td><td>VS2 </td><td>-1.24940489</td><td> 1.5428161</td><td>-1175.8</td><td>-0.021157212</td><td> 0.025474045</td><td>-0.068733778</td></tr>\n",
       "\t<tr><td>-0.097939748</td><td>Very Good</td><td>E</td><td>VS2 </td><td>-0.54940489</td><td> 1.5428161</td><td>-1175.8</td><td>-0.041157212</td><td>-0.014525955</td><td>-0.048733778</td></tr>\n",
       "\t<tr><td>-0.077939748</td><td>Premium  </td><td>D</td><td>SI1 </td><td> 0.95059511</td><td> 1.5428161</td><td>-1175.8</td><td>-0.041157212</td><td>-0.004525955</td><td> 0.041266222</td></tr>\n",
       "\t<tr><td>-0.077939748</td><td>Ideal    </td><td>D</td><td>SI1 </td><td>-0.94940489</td><td>-0.4571839</td><td>-1175.8</td><td> 0.018842788</td><td> 0.025474045</td><td>-0.038733778</td></tr>\n",
       "\t<tr><td>-0.077939748</td><td>Good     </td><td>D</td><td>SI1 </td><td> 1.35059511</td><td>-2.4571839</td><td>-1175.8</td><td>-0.041157212</td><td> 0.015474045</td><td> 0.071266222</td></tr>\n",
       "\t<tr><td>-0.097939748</td><td>Very Good</td><td>D</td><td>SI1 </td><td> 1.05059511</td><td> 2.5428161</td><td>-1175.8</td><td>-0.071157212</td><td>-0.054525955</td><td> 0.021266222</td></tr>\n",
       "\t<tr><td> 0.062060252</td><td>Premium  </td><td>H</td><td>SI2 </td><td>-0.74940489</td><td> 0.5428161</td><td>-1175.8</td><td> 0.418842788</td><td> 0.385474045</td><td> 0.201266222</td></tr>\n",
       "\t<tr><td>-0.047939748</td><td>Ideal    </td><td>D</td><td>SI2 </td><td> 0.45059511</td><td>-2.4571839</td><td>-1175.8</td><td> 0.098842788</td><td> 0.135474045</td><td> 0.101266222</td></tr>\n",
       "</tbody>\n",
       "</table>\n"
      ],
      "text/latex": [
       "A tibble: 53940 × 10\n",
       "\\begin{tabular}{llllllllll}\n",
       " carat & cut & color & clarity & depth & table & price & x & y & z\\\\\n",
       " <dbl> & <ord> & <ord> & <ord> & <dbl> & <dbl> & <dbl> & <dbl> & <dbl> & <dbl>\\\\\n",
       "\\hline\n",
       "\t -0.5679397 & Ideal     & E & SI2  & -0.2494049 & -2.4571839 & -3606.8 & -1.781157 & -1.754526 & -1.1087338\\\\\n",
       "\t -0.5879397 & Premium   & E & SI1  & -1.9494049 &  3.5428161 & -3606.8 & -1.841157 & -1.894526 & -1.2287338\\\\\n",
       "\t -0.5679397 & Good      & E & VS1  & -4.8494049 &  7.5428161 & -3605.8 & -1.681157 & -1.664526 & -1.2287338\\\\\n",
       "\t -0.5079397 & Premium   & I & VS2  &  0.6505951 &  0.5428161 & -3598.8 & -1.531157 & -1.504526 & -0.9087338\\\\\n",
       "\t -0.4879397 & Good      & J & SI2  &  1.5505951 &  0.5428161 & -3597.8 & -1.391157 & -1.384526 & -0.7887338\\\\\n",
       "\t -0.5579397 & Very Good & J & VVS2 &  1.0505951 & -0.4571839 & -3596.8 & -1.791157 & -1.774526 & -1.0587338\\\\\n",
       "\t -0.5579397 & Very Good & I & VVS1 &  0.5505951 & -0.4571839 & -3596.8 & -1.781157 & -1.754526 & -1.0687338\\\\\n",
       "\t -0.5379397 & Very Good & H & SI1  &  0.1505951 & -2.4571839 & -3595.8 & -1.661157 & -1.624526 & -1.0087338\\\\\n",
       "\t -0.5779397 & Fair      & E & VS2  &  3.3505951 &  3.5428161 & -3595.8 & -1.861157 & -1.954526 & -1.0487338\\\\\n",
       "\t -0.5679397 & Very Good & H & VS1  & -2.3494049 &  3.5428161 & -3594.8 & -1.731157 & -1.684526 & -1.1487338\\\\\n",
       "\t -0.4979397 & Good      & J & SI1  &  2.2505951 & -2.4571839 & -3593.8 & -1.481157 & -1.454526 & -0.8087338\\\\\n",
       "\t -0.5679397 & Ideal     & J & VS1  &  1.0505951 & -1.4571839 & -3592.8 & -1.801157 & -1.834526 & -1.0787338\\\\\n",
       "\t -0.5779397 & Premium   & F & SI1  & -1.3494049 &  3.5428161 & -3590.8 & -1.851157 & -1.894526 & -1.2087338\\\\\n",
       "\t -0.4879397 & Ideal     & J & SI2  &  0.4505951 & -3.4571839 & -3588.8 & -1.381157 & -1.364526 & -0.8287338\\\\\n",
       "\t -0.5979397 & Premium   & E & SI2  & -1.5494049 &  4.5428161 & -3587.8 & -1.941157 & -1.984526 & -1.2687338\\\\\n",
       "\t -0.4779397 & Premium   & E & I1   & -0.8494049 &  0.5428161 & -3587.8 & -1.351157 & -1.314526 & -0.8587338\\\\\n",
       "\t -0.4979397 & Ideal     & I & SI2  &  0.2505951 & -3.4571839 & -3584.8 & -1.421157 & -1.394526 & -0.8587338\\\\\n",
       "\t -0.4979397 & Good      & J & SI1  &  1.6505951 & -3.4571839 & -3581.8 & -1.501157 & -1.444526 & -0.8387338\\\\\n",
       "\t -0.4979397 & Good      & J & SI1  &  2.0505951 & -1.4571839 & -3581.8 & -1.501157 & -1.474526 & -0.8287338\\\\\n",
       "\t -0.4979397 & Very Good & J & SI1  &  0.9505951 &  1.5428161 & -3581.8 & -1.521157 & -1.464526 & -0.8787338\\\\\n",
       "\t -0.4979397 & Good      & I & SI2  &  1.5505951 & -1.4571839 & -3581.8 & -1.471157 & -1.434526 & -0.8287338\\\\\n",
       "\t -0.5679397 & Very Good & E & VS2  &  2.0505951 & -2.4571839 & -3580.8 & -1.881157 & -1.814526 & -1.0587338\\\\\n",
       "\t -0.5679397 & Very Good & H & VS1  & -0.7494049 & -0.4571839 & -3579.8 & -1.791157 & -1.774526 & -1.1287338\\\\\n",
       "\t -0.4879397 & Very Good & J & SI1  & -2.3494049 &  4.5428161 & -3579.8 & -1.341157 & -1.304526 & -0.9187338\\\\\n",
       "\t -0.4879397 & Very Good & J & SI1  & -3.6494049 &  4.5428161 & -3579.8 & -1.291157 & -1.264526 & -0.9487338\\\\\n",
       "\t -0.5679397 & Very Good & G & VVS2 & -1.3494049 &  0.5428161 & -3578.8 & -1.761157 & -1.724526 & -1.1287338\\\\\n",
       "\t -0.5579397 & Premium   & I & VS1  &  0.7505951 & -0.4571839 & -3577.8 & -1.761157 & -1.794526 & -1.0687338\\\\\n",
       "\t -0.4979397 & Very Good & J & VS2  &  0.4505951 & -0.4571839 & -3575.8 & -1.451157 & -1.434526 & -0.8687338\\\\\n",
       "\t -0.5679397 & Very Good & D & VS2  & -1.2494049 &  3.5428161 & -3575.8 & -1.771157 & -1.764526 & -1.1387338\\\\\n",
       "\t -0.5679397 & Very Good & F & VS1  & -0.8494049 & -0.4571839 & -3575.8 & -1.771157 & -1.744526 & -1.1187338\\\\\n",
       "\t ⋮ & ⋮ & ⋮ & ⋮ & ⋮ & ⋮ & ⋮ & ⋮ & ⋮ & ⋮\\\\\n",
       "\t -0.097939748 & Premium   & E & SI1  & -1.24940489 &  0.5428161 & -1179.8 &  0.008842788 &  0.035474045 & -0.058733778\\\\\n",
       "\t -0.227939748 & Premium   & E & IF   & -1.94940489 &  2.5428161 & -1179.8 & -0.301157212 & -0.354525955 & -0.308733778\\\\\n",
       "\t -0.187939748 & Premium   & F & VVS1 &  0.05059511 &  1.5428161 & -1179.8 & -0.251157212 & -0.334525955 & -0.178733778\\\\\n",
       "\t  0.002060252 & Good      & G & VS2  &  2.45059511 &  0.5428161 & -1179.8 &  0.108842788 &  0.075474045 &  0.201266222\\\\\n",
       "\t  0.042060252 & Good      & I & VS1  &  1.95059511 &  1.5428161 & -1179.8 &  0.208842788 &  0.165474045 &  0.231266222\\\\\n",
       "\t -0.027939748 & Ideal     & E & SI2  &  0.35059511 & -1.4571839 & -1179.8 &  0.108842788 &  0.125474045 &  0.091266222\\\\\n",
       "\t -0.057939748 & Good      & D & SI1  &  1.35059511 &  1.5428161 & -1179.8 & -0.021157212 &  0.005474045 &  0.071266222\\\\\n",
       "\t  0.102060252 & Very Good & J & SI1  &  1.45059511 &  2.5428161 & -1179.8 &  0.388842788 &  0.355474045 &  0.321266222\\\\\n",
       "\t -0.037939748 & Premium   & I & VS1  & -2.44940489 &  4.5428161 & -1179.8 &  0.198842788 &  0.115474045 & -0.048733778\\\\\n",
       "\t -0.037939748 & Ideal     & I & VVS1 &  0.45059511 & -2.4571839 & -1179.8 &  0.158842788 &  0.135474045 &  0.121266222\\\\\n",
       "\t -0.097939748 & Very Good & E & VS2  &  0.65059511 &  2.5428161 & -1177.8 & -0.161157212 & -0.124525955 & -0.048733778\\\\\n",
       "\t -0.097939748 & Very Good & E & VS2  &  1.05059511 &  2.5428161 & -1177.8 & -0.141157212 & -0.084525955 & -0.008733778\\\\\n",
       "\t -0.097939748 & Very Good & D & VS1  &  1.35059511 &  1.5428161 & -1177.8 & -0.061157212 & -0.154525955 &  0.011266222\\\\\n",
       "\t -0.067939748 & Ideal     & I & VS2  & -0.44940489 & -1.4571839 & -1176.8 &  0.068842788 &  0.105474045 &  0.031266222\\\\\n",
       "\t -0.067939748 & Ideal     & I & VS2  & -0.14940489 & -2.4571839 & -1176.8 &  0.088842788 &  0.105474045 &  0.051266222\\\\\n",
       "\t -0.007939748 & Ideal     & I & SI1  & -0.14940489 & -1.4571839 & -1176.8 &  0.218842788 &  0.235474045 &  0.131266222\\\\\n",
       "\t -0.087939748 & Ideal     & E & SI1  &  0.15059511 & -1.4571839 & -1176.8 & -0.021157212 & -0.004525955 &  0.001266222\\\\\n",
       "\t -0.007939748 & Good      & F & SI1  & -3.64940489 &  1.5428161 & -1176.8 &  0.328842788 &  0.395474045 &  0.001266222\\\\\n",
       "\t -0.007939748 & Premium   & E & SI2  & -0.34940489 &  0.5428161 & -1176.8 &  0.298842788 &  0.225474045 &  0.141266222\\\\\n",
       "\t -0.087939748 & Ideal     & G & VS1  & -0.34940489 & -1.4571839 & -1176.8 &  0.028842788 & -0.004525955 & -0.008733778\\\\\n",
       "\t -0.087939748 & Premium   & E & SI1  & -1.24940489 & -2.4571839 & -1176.8 &  0.058842788 &  0.005474045 & -0.048733778\\\\\n",
       "\t -0.087939748 & Premium   & F & SI1  & -1.94940489 &  4.5428161 & -1176.8 &  0.008842788 & -0.004525955 & -0.108733778\\\\\n",
       "\t -0.097939748 & Very Good & E & VS2  & -1.24940489 &  1.5428161 & -1175.8 & -0.021157212 &  0.025474045 & -0.068733778\\\\\n",
       "\t -0.097939748 & Very Good & E & VS2  & -0.54940489 &  1.5428161 & -1175.8 & -0.041157212 & -0.014525955 & -0.048733778\\\\\n",
       "\t -0.077939748 & Premium   & D & SI1  &  0.95059511 &  1.5428161 & -1175.8 & -0.041157212 & -0.004525955 &  0.041266222\\\\\n",
       "\t -0.077939748 & Ideal     & D & SI1  & -0.94940489 & -0.4571839 & -1175.8 &  0.018842788 &  0.025474045 & -0.038733778\\\\\n",
       "\t -0.077939748 & Good      & D & SI1  &  1.35059511 & -2.4571839 & -1175.8 & -0.041157212 &  0.015474045 &  0.071266222\\\\\n",
       "\t -0.097939748 & Very Good & D & SI1  &  1.05059511 &  2.5428161 & -1175.8 & -0.071157212 & -0.054525955 &  0.021266222\\\\\n",
       "\t  0.062060252 & Premium   & H & SI2  & -0.74940489 &  0.5428161 & -1175.8 &  0.418842788 &  0.385474045 &  0.201266222\\\\\n",
       "\t -0.047939748 & Ideal     & D & SI2  &  0.45059511 & -2.4571839 & -1175.8 &  0.098842788 &  0.135474045 &  0.101266222\\\\\n",
       "\\end{tabular}\n"
      ],
      "text/markdown": [
       "\n",
       "A tibble: 53940 × 10\n",
       "\n",
       "| carat &lt;dbl&gt; | cut &lt;ord&gt; | color &lt;ord&gt; | clarity &lt;ord&gt; | depth &lt;dbl&gt; | table &lt;dbl&gt; | price &lt;dbl&gt; | x &lt;dbl&gt; | y &lt;dbl&gt; | z &lt;dbl&gt; |\n",
       "|---|---|---|---|---|---|---|---|---|---|\n",
       "| -0.5679397 | Ideal     | E | SI2  | -0.2494049 | -2.4571839 | -3606.8 | -1.781157 | -1.754526 | -1.1087338 |\n",
       "| -0.5879397 | Premium   | E | SI1  | -1.9494049 |  3.5428161 | -3606.8 | -1.841157 | -1.894526 | -1.2287338 |\n",
       "| -0.5679397 | Good      | E | VS1  | -4.8494049 |  7.5428161 | -3605.8 | -1.681157 | -1.664526 | -1.2287338 |\n",
       "| -0.5079397 | Premium   | I | VS2  |  0.6505951 |  0.5428161 | -3598.8 | -1.531157 | -1.504526 | -0.9087338 |\n",
       "| -0.4879397 | Good      | J | SI2  |  1.5505951 |  0.5428161 | -3597.8 | -1.391157 | -1.384526 | -0.7887338 |\n",
       "| -0.5579397 | Very Good | J | VVS2 |  1.0505951 | -0.4571839 | -3596.8 | -1.791157 | -1.774526 | -1.0587338 |\n",
       "| -0.5579397 | Very Good | I | VVS1 |  0.5505951 | -0.4571839 | -3596.8 | -1.781157 | -1.754526 | -1.0687338 |\n",
       "| -0.5379397 | Very Good | H | SI1  |  0.1505951 | -2.4571839 | -3595.8 | -1.661157 | -1.624526 | -1.0087338 |\n",
       "| -0.5779397 | Fair      | E | VS2  |  3.3505951 |  3.5428161 | -3595.8 | -1.861157 | -1.954526 | -1.0487338 |\n",
       "| -0.5679397 | Very Good | H | VS1  | -2.3494049 |  3.5428161 | -3594.8 | -1.731157 | -1.684526 | -1.1487338 |\n",
       "| -0.4979397 | Good      | J | SI1  |  2.2505951 | -2.4571839 | -3593.8 | -1.481157 | -1.454526 | -0.8087338 |\n",
       "| -0.5679397 | Ideal     | J | VS1  |  1.0505951 | -1.4571839 | -3592.8 | -1.801157 | -1.834526 | -1.0787338 |\n",
       "| -0.5779397 | Premium   | F | SI1  | -1.3494049 |  3.5428161 | -3590.8 | -1.851157 | -1.894526 | -1.2087338 |\n",
       "| -0.4879397 | Ideal     | J | SI2  |  0.4505951 | -3.4571839 | -3588.8 | -1.381157 | -1.364526 | -0.8287338 |\n",
       "| -0.5979397 | Premium   | E | SI2  | -1.5494049 |  4.5428161 | -3587.8 | -1.941157 | -1.984526 | -1.2687338 |\n",
       "| -0.4779397 | Premium   | E | I1   | -0.8494049 |  0.5428161 | -3587.8 | -1.351157 | -1.314526 | -0.8587338 |\n",
       "| -0.4979397 | Ideal     | I | SI2  |  0.2505951 | -3.4571839 | -3584.8 | -1.421157 | -1.394526 | -0.8587338 |\n",
       "| -0.4979397 | Good      | J | SI1  |  1.6505951 | -3.4571839 | -3581.8 | -1.501157 | -1.444526 | -0.8387338 |\n",
       "| -0.4979397 | Good      | J | SI1  |  2.0505951 | -1.4571839 | -3581.8 | -1.501157 | -1.474526 | -0.8287338 |\n",
       "| -0.4979397 | Very Good | J | SI1  |  0.9505951 |  1.5428161 | -3581.8 | -1.521157 | -1.464526 | -0.8787338 |\n",
       "| -0.4979397 | Good      | I | SI2  |  1.5505951 | -1.4571839 | -3581.8 | -1.471157 | -1.434526 | -0.8287338 |\n",
       "| -0.5679397 | Very Good | E | VS2  |  2.0505951 | -2.4571839 | -3580.8 | -1.881157 | -1.814526 | -1.0587338 |\n",
       "| -0.5679397 | Very Good | H | VS1  | -0.7494049 | -0.4571839 | -3579.8 | -1.791157 | -1.774526 | -1.1287338 |\n",
       "| -0.4879397 | Very Good | J | SI1  | -2.3494049 |  4.5428161 | -3579.8 | -1.341157 | -1.304526 | -0.9187338 |\n",
       "| -0.4879397 | Very Good | J | SI1  | -3.6494049 |  4.5428161 | -3579.8 | -1.291157 | -1.264526 | -0.9487338 |\n",
       "| -0.5679397 | Very Good | G | VVS2 | -1.3494049 |  0.5428161 | -3578.8 | -1.761157 | -1.724526 | -1.1287338 |\n",
       "| -0.5579397 | Premium   | I | VS1  |  0.7505951 | -0.4571839 | -3577.8 | -1.761157 | -1.794526 | -1.0687338 |\n",
       "| -0.4979397 | Very Good | J | VS2  |  0.4505951 | -0.4571839 | -3575.8 | -1.451157 | -1.434526 | -0.8687338 |\n",
       "| -0.5679397 | Very Good | D | VS2  | -1.2494049 |  3.5428161 | -3575.8 | -1.771157 | -1.764526 | -1.1387338 |\n",
       "| -0.5679397 | Very Good | F | VS1  | -0.8494049 | -0.4571839 | -3575.8 | -1.771157 | -1.744526 | -1.1187338 |\n",
       "| ⋮ | ⋮ | ⋮ | ⋮ | ⋮ | ⋮ | ⋮ | ⋮ | ⋮ | ⋮ |\n",
       "| -0.097939748 | Premium   | E | SI1  | -1.24940489 |  0.5428161 | -1179.8 |  0.008842788 |  0.035474045 | -0.058733778 |\n",
       "| -0.227939748 | Premium   | E | IF   | -1.94940489 |  2.5428161 | -1179.8 | -0.301157212 | -0.354525955 | -0.308733778 |\n",
       "| -0.187939748 | Premium   | F | VVS1 |  0.05059511 |  1.5428161 | -1179.8 | -0.251157212 | -0.334525955 | -0.178733778 |\n",
       "|  0.002060252 | Good      | G | VS2  |  2.45059511 |  0.5428161 | -1179.8 |  0.108842788 |  0.075474045 |  0.201266222 |\n",
       "|  0.042060252 | Good      | I | VS1  |  1.95059511 |  1.5428161 | -1179.8 |  0.208842788 |  0.165474045 |  0.231266222 |\n",
       "| -0.027939748 | Ideal     | E | SI2  |  0.35059511 | -1.4571839 | -1179.8 |  0.108842788 |  0.125474045 |  0.091266222 |\n",
       "| -0.057939748 | Good      | D | SI1  |  1.35059511 |  1.5428161 | -1179.8 | -0.021157212 |  0.005474045 |  0.071266222 |\n",
       "|  0.102060252 | Very Good | J | SI1  |  1.45059511 |  2.5428161 | -1179.8 |  0.388842788 |  0.355474045 |  0.321266222 |\n",
       "| -0.037939748 | Premium   | I | VS1  | -2.44940489 |  4.5428161 | -1179.8 |  0.198842788 |  0.115474045 | -0.048733778 |\n",
       "| -0.037939748 | Ideal     | I | VVS1 |  0.45059511 | -2.4571839 | -1179.8 |  0.158842788 |  0.135474045 |  0.121266222 |\n",
       "| -0.097939748 | Very Good | E | VS2  |  0.65059511 |  2.5428161 | -1177.8 | -0.161157212 | -0.124525955 | -0.048733778 |\n",
       "| -0.097939748 | Very Good | E | VS2  |  1.05059511 |  2.5428161 | -1177.8 | -0.141157212 | -0.084525955 | -0.008733778 |\n",
       "| -0.097939748 | Very Good | D | VS1  |  1.35059511 |  1.5428161 | -1177.8 | -0.061157212 | -0.154525955 |  0.011266222 |\n",
       "| -0.067939748 | Ideal     | I | VS2  | -0.44940489 | -1.4571839 | -1176.8 |  0.068842788 |  0.105474045 |  0.031266222 |\n",
       "| -0.067939748 | Ideal     | I | VS2  | -0.14940489 | -2.4571839 | -1176.8 |  0.088842788 |  0.105474045 |  0.051266222 |\n",
       "| -0.007939748 | Ideal     | I | SI1  | -0.14940489 | -1.4571839 | -1176.8 |  0.218842788 |  0.235474045 |  0.131266222 |\n",
       "| -0.087939748 | Ideal     | E | SI1  |  0.15059511 | -1.4571839 | -1176.8 | -0.021157212 | -0.004525955 |  0.001266222 |\n",
       "| -0.007939748 | Good      | F | SI1  | -3.64940489 |  1.5428161 | -1176.8 |  0.328842788 |  0.395474045 |  0.001266222 |\n",
       "| -0.007939748 | Premium   | E | SI2  | -0.34940489 |  0.5428161 | -1176.8 |  0.298842788 |  0.225474045 |  0.141266222 |\n",
       "| -0.087939748 | Ideal     | G | VS1  | -0.34940489 | -1.4571839 | -1176.8 |  0.028842788 | -0.004525955 | -0.008733778 |\n",
       "| -0.087939748 | Premium   | E | SI1  | -1.24940489 | -2.4571839 | -1176.8 |  0.058842788 |  0.005474045 | -0.048733778 |\n",
       "| -0.087939748 | Premium   | F | SI1  | -1.94940489 |  4.5428161 | -1176.8 |  0.008842788 | -0.004525955 | -0.108733778 |\n",
       "| -0.097939748 | Very Good | E | VS2  | -1.24940489 |  1.5428161 | -1175.8 | -0.021157212 |  0.025474045 | -0.068733778 |\n",
       "| -0.097939748 | Very Good | E | VS2  | -0.54940489 |  1.5428161 | -1175.8 | -0.041157212 | -0.014525955 | -0.048733778 |\n",
       "| -0.077939748 | Premium   | D | SI1  |  0.95059511 |  1.5428161 | -1175.8 | -0.041157212 | -0.004525955 |  0.041266222 |\n",
       "| -0.077939748 | Ideal     | D | SI1  | -0.94940489 | -0.4571839 | -1175.8 |  0.018842788 |  0.025474045 | -0.038733778 |\n",
       "| -0.077939748 | Good      | D | SI1  |  1.35059511 | -2.4571839 | -1175.8 | -0.041157212 |  0.015474045 |  0.071266222 |\n",
       "| -0.097939748 | Very Good | D | SI1  |  1.05059511 |  2.5428161 | -1175.8 | -0.071157212 | -0.054525955 |  0.021266222 |\n",
       "|  0.062060252 | Premium   | H | SI2  | -0.74940489 |  0.5428161 | -1175.8 |  0.418842788 |  0.385474045 |  0.201266222 |\n",
       "| -0.047939748 | Ideal     | D | SI2  |  0.45059511 | -2.4571839 | -1175.8 |  0.098842788 |  0.135474045 |  0.101266222 |\n",
       "\n"
      ],
      "text/plain": [
       "      carat        cut       color clarity depth       table      price  \n",
       "1     -0.5679397   Ideal     E     SI2     -0.2494049  -2.4571839 -3606.8\n",
       "2     -0.5879397   Premium   E     SI1     -1.9494049   3.5428161 -3606.8\n",
       "3     -0.5679397   Good      E     VS1     -4.8494049   7.5428161 -3605.8\n",
       "4     -0.5079397   Premium   I     VS2      0.6505951   0.5428161 -3598.8\n",
       "5     -0.4879397   Good      J     SI2      1.5505951   0.5428161 -3597.8\n",
       "6     -0.5579397   Very Good J     VVS2     1.0505951  -0.4571839 -3596.8\n",
       "7     -0.5579397   Very Good I     VVS1     0.5505951  -0.4571839 -3596.8\n",
       "8     -0.5379397   Very Good H     SI1      0.1505951  -2.4571839 -3595.8\n",
       "9     -0.5779397   Fair      E     VS2      3.3505951   3.5428161 -3595.8\n",
       "10    -0.5679397   Very Good H     VS1     -2.3494049   3.5428161 -3594.8\n",
       "11    -0.4979397   Good      J     SI1      2.2505951  -2.4571839 -3593.8\n",
       "12    -0.5679397   Ideal     J     VS1      1.0505951  -1.4571839 -3592.8\n",
       "13    -0.5779397   Premium   F     SI1     -1.3494049   3.5428161 -3590.8\n",
       "14    -0.4879397   Ideal     J     SI2      0.4505951  -3.4571839 -3588.8\n",
       "15    -0.5979397   Premium   E     SI2     -1.5494049   4.5428161 -3587.8\n",
       "16    -0.4779397   Premium   E     I1      -0.8494049   0.5428161 -3587.8\n",
       "17    -0.4979397   Ideal     I     SI2      0.2505951  -3.4571839 -3584.8\n",
       "18    -0.4979397   Good      J     SI1      1.6505951  -3.4571839 -3581.8\n",
       "19    -0.4979397   Good      J     SI1      2.0505951  -1.4571839 -3581.8\n",
       "20    -0.4979397   Very Good J     SI1      0.9505951   1.5428161 -3581.8\n",
       "21    -0.4979397   Good      I     SI2      1.5505951  -1.4571839 -3581.8\n",
       "22    -0.5679397   Very Good E     VS2      2.0505951  -2.4571839 -3580.8\n",
       "23    -0.5679397   Very Good H     VS1     -0.7494049  -0.4571839 -3579.8\n",
       "24    -0.4879397   Very Good J     SI1     -2.3494049   4.5428161 -3579.8\n",
       "25    -0.4879397   Very Good J     SI1     -3.6494049   4.5428161 -3579.8\n",
       "26    -0.5679397   Very Good G     VVS2    -1.3494049   0.5428161 -3578.8\n",
       "27    -0.5579397   Premium   I     VS1      0.7505951  -0.4571839 -3577.8\n",
       "28    -0.4979397   Very Good J     VS2      0.4505951  -0.4571839 -3575.8\n",
       "29    -0.5679397   Very Good D     VS2     -1.2494049   3.5428161 -3575.8\n",
       "30    -0.5679397   Very Good F     VS1     -0.8494049  -0.4571839 -3575.8\n",
       "⋮     ⋮            ⋮         ⋮     ⋮       ⋮           ⋮          ⋮      \n",
       "53911 -0.097939748 Premium   E     SI1     -1.24940489  0.5428161 -1179.8\n",
       "53912 -0.227939748 Premium   E     IF      -1.94940489  2.5428161 -1179.8\n",
       "53913 -0.187939748 Premium   F     VVS1     0.05059511  1.5428161 -1179.8\n",
       "53914  0.002060252 Good      G     VS2      2.45059511  0.5428161 -1179.8\n",
       "53915  0.042060252 Good      I     VS1      1.95059511  1.5428161 -1179.8\n",
       "53916 -0.027939748 Ideal     E     SI2      0.35059511 -1.4571839 -1179.8\n",
       "53917 -0.057939748 Good      D     SI1      1.35059511  1.5428161 -1179.8\n",
       "53918  0.102060252 Very Good J     SI1      1.45059511  2.5428161 -1179.8\n",
       "53919 -0.037939748 Premium   I     VS1     -2.44940489  4.5428161 -1179.8\n",
       "53920 -0.037939748 Ideal     I     VVS1     0.45059511 -2.4571839 -1179.8\n",
       "53921 -0.097939748 Very Good E     VS2      0.65059511  2.5428161 -1177.8\n",
       "53922 -0.097939748 Very Good E     VS2      1.05059511  2.5428161 -1177.8\n",
       "53923 -0.097939748 Very Good D     VS1      1.35059511  1.5428161 -1177.8\n",
       "53924 -0.067939748 Ideal     I     VS2     -0.44940489 -1.4571839 -1176.8\n",
       "53925 -0.067939748 Ideal     I     VS2     -0.14940489 -2.4571839 -1176.8\n",
       "53926 -0.007939748 Ideal     I     SI1     -0.14940489 -1.4571839 -1176.8\n",
       "53927 -0.087939748 Ideal     E     SI1      0.15059511 -1.4571839 -1176.8\n",
       "53928 -0.007939748 Good      F     SI1     -3.64940489  1.5428161 -1176.8\n",
       "53929 -0.007939748 Premium   E     SI2     -0.34940489  0.5428161 -1176.8\n",
       "53930 -0.087939748 Ideal     G     VS1     -0.34940489 -1.4571839 -1176.8\n",
       "53931 -0.087939748 Premium   E     SI1     -1.24940489 -2.4571839 -1176.8\n",
       "53932 -0.087939748 Premium   F     SI1     -1.94940489  4.5428161 -1176.8\n",
       "53933 -0.097939748 Very Good E     VS2     -1.24940489  1.5428161 -1175.8\n",
       "53934 -0.097939748 Very Good E     VS2     -0.54940489  1.5428161 -1175.8\n",
       "53935 -0.077939748 Premium   D     SI1      0.95059511  1.5428161 -1175.8\n",
       "53936 -0.077939748 Ideal     D     SI1     -0.94940489 -0.4571839 -1175.8\n",
       "53937 -0.077939748 Good      D     SI1      1.35059511 -2.4571839 -1175.8\n",
       "53938 -0.097939748 Very Good D     SI1      1.05059511  2.5428161 -1175.8\n",
       "53939  0.062060252 Premium   H     SI2     -0.74940489  0.5428161 -1175.8\n",
       "53940 -0.047939748 Ideal     D     SI2      0.45059511 -2.4571839 -1175.8\n",
       "      x            y            z           \n",
       "1     -1.781157    -1.754526    -1.1087338  \n",
       "2     -1.841157    -1.894526    -1.2287338  \n",
       "3     -1.681157    -1.664526    -1.2287338  \n",
       "4     -1.531157    -1.504526    -0.9087338  \n",
       "5     -1.391157    -1.384526    -0.7887338  \n",
       "6     -1.791157    -1.774526    -1.0587338  \n",
       "7     -1.781157    -1.754526    -1.0687338  \n",
       "8     -1.661157    -1.624526    -1.0087338  \n",
       "9     -1.861157    -1.954526    -1.0487338  \n",
       "10    -1.731157    -1.684526    -1.1487338  \n",
       "11    -1.481157    -1.454526    -0.8087338  \n",
       "12    -1.801157    -1.834526    -1.0787338  \n",
       "13    -1.851157    -1.894526    -1.2087338  \n",
       "14    -1.381157    -1.364526    -0.8287338  \n",
       "15    -1.941157    -1.984526    -1.2687338  \n",
       "16    -1.351157    -1.314526    -0.8587338  \n",
       "17    -1.421157    -1.394526    -0.8587338  \n",
       "18    -1.501157    -1.444526    -0.8387338  \n",
       "19    -1.501157    -1.474526    -0.8287338  \n",
       "20    -1.521157    -1.464526    -0.8787338  \n",
       "21    -1.471157    -1.434526    -0.8287338  \n",
       "22    -1.881157    -1.814526    -1.0587338  \n",
       "23    -1.791157    -1.774526    -1.1287338  \n",
       "24    -1.341157    -1.304526    -0.9187338  \n",
       "25    -1.291157    -1.264526    -0.9487338  \n",
       "26    -1.761157    -1.724526    -1.1287338  \n",
       "27    -1.761157    -1.794526    -1.0687338  \n",
       "28    -1.451157    -1.434526    -0.8687338  \n",
       "29    -1.771157    -1.764526    -1.1387338  \n",
       "30    -1.771157    -1.744526    -1.1187338  \n",
       "⋮     ⋮            ⋮            ⋮           \n",
       "53911  0.008842788  0.035474045 -0.058733778\n",
       "53912 -0.301157212 -0.354525955 -0.308733778\n",
       "53913 -0.251157212 -0.334525955 -0.178733778\n",
       "53914  0.108842788  0.075474045  0.201266222\n",
       "53915  0.208842788  0.165474045  0.231266222\n",
       "53916  0.108842788  0.125474045  0.091266222\n",
       "53917 -0.021157212  0.005474045  0.071266222\n",
       "53918  0.388842788  0.355474045  0.321266222\n",
       "53919  0.198842788  0.115474045 -0.048733778\n",
       "53920  0.158842788  0.135474045  0.121266222\n",
       "53921 -0.161157212 -0.124525955 -0.048733778\n",
       "53922 -0.141157212 -0.084525955 -0.008733778\n",
       "53923 -0.061157212 -0.154525955  0.011266222\n",
       "53924  0.068842788  0.105474045  0.031266222\n",
       "53925  0.088842788  0.105474045  0.051266222\n",
       "53926  0.218842788  0.235474045  0.131266222\n",
       "53927 -0.021157212 -0.004525955  0.001266222\n",
       "53928  0.328842788  0.395474045  0.001266222\n",
       "53929  0.298842788  0.225474045  0.141266222\n",
       "53930  0.028842788 -0.004525955 -0.008733778\n",
       "53931  0.058842788  0.005474045 -0.048733778\n",
       "53932  0.008842788 -0.004525955 -0.108733778\n",
       "53933 -0.021157212  0.025474045 -0.068733778\n",
       "53934 -0.041157212 -0.014525955 -0.048733778\n",
       "53935 -0.041157212 -0.004525955  0.041266222\n",
       "53936  0.018842788  0.025474045 -0.038733778\n",
       "53937 -0.041157212  0.015474045  0.071266222\n",
       "53938 -0.071157212 -0.054525955  0.021266222\n",
       "53939  0.418842788  0.385474045  0.201266222\n",
       "53940  0.098842788  0.135474045  0.101266222"
      ]
     },
     "metadata": {},
     "output_type": "display_data"
    }
   ],
   "source": [
    "tib <- new_diamonds\n",
    "for (i in seq_along(tib)) {\n",
    "    if (is.numeric(tib[[i]])){\n",
    "        tib[[i]] <- tib[[i]] - mean(tib[[i]])\n",
    "    }\n",
    "}\n",
    "tib"
   ]
  },
  {
   "cell_type": "code",
   "execution_count": 83,
   "id": "subtle-shame",
   "metadata": {},
   "outputs": [],
   "source": [
    "subtract_tib_mean <- function(tib) {\n",
    "    # tib is a copy of the input tibble; the following code will not actually alter the original object\n",
    "    for (i in seq_along(tib)){\n",
    "        if (is.numeric(tib[[i]])) {\n",
    "            tib[[i]] <- tib[[i]] - mean(tib[[i]])\n",
    "        }\n",
    "    }\n",
    "    tib # need to add this line to make sure function *outputs* a tibble\n",
    "}"
   ]
  },
  {
   "cell_type": "code",
   "execution_count": 84,
   "id": "acting-samuel",
   "metadata": {},
   "outputs": [
    {
     "data": {
      "text/html": [
       "<table class=\"dataframe\">\n",
       "<caption>A tibble: 53940 × 10</caption>\n",
       "<thead>\n",
       "\t<tr><th scope=col>carat</th><th scope=col>cut</th><th scope=col>color</th><th scope=col>clarity</th><th scope=col>depth</th><th scope=col>table</th><th scope=col>price</th><th scope=col>x</th><th scope=col>y</th><th scope=col>z</th></tr>\n",
       "\t<tr><th scope=col>&lt;dbl&gt;</th><th scope=col>&lt;ord&gt;</th><th scope=col>&lt;ord&gt;</th><th scope=col>&lt;ord&gt;</th><th scope=col>&lt;dbl&gt;</th><th scope=col>&lt;dbl&gt;</th><th scope=col>&lt;dbl&gt;</th><th scope=col>&lt;dbl&gt;</th><th scope=col>&lt;dbl&gt;</th><th scope=col>&lt;dbl&gt;</th></tr>\n",
       "</thead>\n",
       "<tbody>\n",
       "\t<tr><td>-0.5679397</td><td>Ideal    </td><td>E</td><td>SI2 </td><td>-0.2494049</td><td>-2.4571839</td><td>-3606.8</td><td>-1.781157</td><td>-1.754526</td><td>-1.1087338</td></tr>\n",
       "\t<tr><td>-0.5879397</td><td>Premium  </td><td>E</td><td>SI1 </td><td>-1.9494049</td><td> 3.5428161</td><td>-3606.8</td><td>-1.841157</td><td>-1.894526</td><td>-1.2287338</td></tr>\n",
       "\t<tr><td>-0.5679397</td><td>Good     </td><td>E</td><td>VS1 </td><td>-4.8494049</td><td> 7.5428161</td><td>-3605.8</td><td>-1.681157</td><td>-1.664526</td><td>-1.2287338</td></tr>\n",
       "\t<tr><td>-0.5079397</td><td>Premium  </td><td>I</td><td>VS2 </td><td> 0.6505951</td><td> 0.5428161</td><td>-3598.8</td><td>-1.531157</td><td>-1.504526</td><td>-0.9087338</td></tr>\n",
       "\t<tr><td>-0.4879397</td><td>Good     </td><td>J</td><td>SI2 </td><td> 1.5505951</td><td> 0.5428161</td><td>-3597.8</td><td>-1.391157</td><td>-1.384526</td><td>-0.7887338</td></tr>\n",
       "\t<tr><td>-0.5579397</td><td>Very Good</td><td>J</td><td>VVS2</td><td> 1.0505951</td><td>-0.4571839</td><td>-3596.8</td><td>-1.791157</td><td>-1.774526</td><td>-1.0587338</td></tr>\n",
       "\t<tr><td>-0.5579397</td><td>Very Good</td><td>I</td><td>VVS1</td><td> 0.5505951</td><td>-0.4571839</td><td>-3596.8</td><td>-1.781157</td><td>-1.754526</td><td>-1.0687338</td></tr>\n",
       "\t<tr><td>-0.5379397</td><td>Very Good</td><td>H</td><td>SI1 </td><td> 0.1505951</td><td>-2.4571839</td><td>-3595.8</td><td>-1.661157</td><td>-1.624526</td><td>-1.0087338</td></tr>\n",
       "\t<tr><td>-0.5779397</td><td>Fair     </td><td>E</td><td>VS2 </td><td> 3.3505951</td><td> 3.5428161</td><td>-3595.8</td><td>-1.861157</td><td>-1.954526</td><td>-1.0487338</td></tr>\n",
       "\t<tr><td>-0.5679397</td><td>Very Good</td><td>H</td><td>VS1 </td><td>-2.3494049</td><td> 3.5428161</td><td>-3594.8</td><td>-1.731157</td><td>-1.684526</td><td>-1.1487338</td></tr>\n",
       "\t<tr><td>-0.4979397</td><td>Good     </td><td>J</td><td>SI1 </td><td> 2.2505951</td><td>-2.4571839</td><td>-3593.8</td><td>-1.481157</td><td>-1.454526</td><td>-0.8087338</td></tr>\n",
       "\t<tr><td>-0.5679397</td><td>Ideal    </td><td>J</td><td>VS1 </td><td> 1.0505951</td><td>-1.4571839</td><td>-3592.8</td><td>-1.801157</td><td>-1.834526</td><td>-1.0787338</td></tr>\n",
       "\t<tr><td>-0.5779397</td><td>Premium  </td><td>F</td><td>SI1 </td><td>-1.3494049</td><td> 3.5428161</td><td>-3590.8</td><td>-1.851157</td><td>-1.894526</td><td>-1.2087338</td></tr>\n",
       "\t<tr><td>-0.4879397</td><td>Ideal    </td><td>J</td><td>SI2 </td><td> 0.4505951</td><td>-3.4571839</td><td>-3588.8</td><td>-1.381157</td><td>-1.364526</td><td>-0.8287338</td></tr>\n",
       "\t<tr><td>-0.5979397</td><td>Premium  </td><td>E</td><td>SI2 </td><td>-1.5494049</td><td> 4.5428161</td><td>-3587.8</td><td>-1.941157</td><td>-1.984526</td><td>-1.2687338</td></tr>\n",
       "\t<tr><td>-0.4779397</td><td>Premium  </td><td>E</td><td>I1  </td><td>-0.8494049</td><td> 0.5428161</td><td>-3587.8</td><td>-1.351157</td><td>-1.314526</td><td>-0.8587338</td></tr>\n",
       "\t<tr><td>-0.4979397</td><td>Ideal    </td><td>I</td><td>SI2 </td><td> 0.2505951</td><td>-3.4571839</td><td>-3584.8</td><td>-1.421157</td><td>-1.394526</td><td>-0.8587338</td></tr>\n",
       "\t<tr><td>-0.4979397</td><td>Good     </td><td>J</td><td>SI1 </td><td> 1.6505951</td><td>-3.4571839</td><td>-3581.8</td><td>-1.501157</td><td>-1.444526</td><td>-0.8387338</td></tr>\n",
       "\t<tr><td>-0.4979397</td><td>Good     </td><td>J</td><td>SI1 </td><td> 2.0505951</td><td>-1.4571839</td><td>-3581.8</td><td>-1.501157</td><td>-1.474526</td><td>-0.8287338</td></tr>\n",
       "\t<tr><td>-0.4979397</td><td>Very Good</td><td>J</td><td>SI1 </td><td> 0.9505951</td><td> 1.5428161</td><td>-3581.8</td><td>-1.521157</td><td>-1.464526</td><td>-0.8787338</td></tr>\n",
       "\t<tr><td>-0.4979397</td><td>Good     </td><td>I</td><td>SI2 </td><td> 1.5505951</td><td>-1.4571839</td><td>-3581.8</td><td>-1.471157</td><td>-1.434526</td><td>-0.8287338</td></tr>\n",
       "\t<tr><td>-0.5679397</td><td>Very Good</td><td>E</td><td>VS2 </td><td> 2.0505951</td><td>-2.4571839</td><td>-3580.8</td><td>-1.881157</td><td>-1.814526</td><td>-1.0587338</td></tr>\n",
       "\t<tr><td>-0.5679397</td><td>Very Good</td><td>H</td><td>VS1 </td><td>-0.7494049</td><td>-0.4571839</td><td>-3579.8</td><td>-1.791157</td><td>-1.774526</td><td>-1.1287338</td></tr>\n",
       "\t<tr><td>-0.4879397</td><td>Very Good</td><td>J</td><td>SI1 </td><td>-2.3494049</td><td> 4.5428161</td><td>-3579.8</td><td>-1.341157</td><td>-1.304526</td><td>-0.9187338</td></tr>\n",
       "\t<tr><td>-0.4879397</td><td>Very Good</td><td>J</td><td>SI1 </td><td>-3.6494049</td><td> 4.5428161</td><td>-3579.8</td><td>-1.291157</td><td>-1.264526</td><td>-0.9487338</td></tr>\n",
       "\t<tr><td>-0.5679397</td><td>Very Good</td><td>G</td><td>VVS2</td><td>-1.3494049</td><td> 0.5428161</td><td>-3578.8</td><td>-1.761157</td><td>-1.724526</td><td>-1.1287338</td></tr>\n",
       "\t<tr><td>-0.5579397</td><td>Premium  </td><td>I</td><td>VS1 </td><td> 0.7505951</td><td>-0.4571839</td><td>-3577.8</td><td>-1.761157</td><td>-1.794526</td><td>-1.0687338</td></tr>\n",
       "\t<tr><td>-0.4979397</td><td>Very Good</td><td>J</td><td>VS2 </td><td> 0.4505951</td><td>-0.4571839</td><td>-3575.8</td><td>-1.451157</td><td>-1.434526</td><td>-0.8687338</td></tr>\n",
       "\t<tr><td>-0.5679397</td><td>Very Good</td><td>D</td><td>VS2 </td><td>-1.2494049</td><td> 3.5428161</td><td>-3575.8</td><td>-1.771157</td><td>-1.764526</td><td>-1.1387338</td></tr>\n",
       "\t<tr><td>-0.5679397</td><td>Very Good</td><td>F</td><td>VS1 </td><td>-0.8494049</td><td>-0.4571839</td><td>-3575.8</td><td>-1.771157</td><td>-1.744526</td><td>-1.1187338</td></tr>\n",
       "\t<tr><td>⋮</td><td>⋮</td><td>⋮</td><td>⋮</td><td>⋮</td><td>⋮</td><td>⋮</td><td>⋮</td><td>⋮</td><td>⋮</td></tr>\n",
       "\t<tr><td>-0.097939748</td><td>Premium  </td><td>E</td><td>SI1 </td><td>-1.24940489</td><td> 0.5428161</td><td>-1179.8</td><td> 0.008842788</td><td> 0.035474045</td><td>-0.058733778</td></tr>\n",
       "\t<tr><td>-0.227939748</td><td>Premium  </td><td>E</td><td>IF  </td><td>-1.94940489</td><td> 2.5428161</td><td>-1179.8</td><td>-0.301157212</td><td>-0.354525955</td><td>-0.308733778</td></tr>\n",
       "\t<tr><td>-0.187939748</td><td>Premium  </td><td>F</td><td>VVS1</td><td> 0.05059511</td><td> 1.5428161</td><td>-1179.8</td><td>-0.251157212</td><td>-0.334525955</td><td>-0.178733778</td></tr>\n",
       "\t<tr><td> 0.002060252</td><td>Good     </td><td>G</td><td>VS2 </td><td> 2.45059511</td><td> 0.5428161</td><td>-1179.8</td><td> 0.108842788</td><td> 0.075474045</td><td> 0.201266222</td></tr>\n",
       "\t<tr><td> 0.042060252</td><td>Good     </td><td>I</td><td>VS1 </td><td> 1.95059511</td><td> 1.5428161</td><td>-1179.8</td><td> 0.208842788</td><td> 0.165474045</td><td> 0.231266222</td></tr>\n",
       "\t<tr><td>-0.027939748</td><td>Ideal    </td><td>E</td><td>SI2 </td><td> 0.35059511</td><td>-1.4571839</td><td>-1179.8</td><td> 0.108842788</td><td> 0.125474045</td><td> 0.091266222</td></tr>\n",
       "\t<tr><td>-0.057939748</td><td>Good     </td><td>D</td><td>SI1 </td><td> 1.35059511</td><td> 1.5428161</td><td>-1179.8</td><td>-0.021157212</td><td> 0.005474045</td><td> 0.071266222</td></tr>\n",
       "\t<tr><td> 0.102060252</td><td>Very Good</td><td>J</td><td>SI1 </td><td> 1.45059511</td><td> 2.5428161</td><td>-1179.8</td><td> 0.388842788</td><td> 0.355474045</td><td> 0.321266222</td></tr>\n",
       "\t<tr><td>-0.037939748</td><td>Premium  </td><td>I</td><td>VS1 </td><td>-2.44940489</td><td> 4.5428161</td><td>-1179.8</td><td> 0.198842788</td><td> 0.115474045</td><td>-0.048733778</td></tr>\n",
       "\t<tr><td>-0.037939748</td><td>Ideal    </td><td>I</td><td>VVS1</td><td> 0.45059511</td><td>-2.4571839</td><td>-1179.8</td><td> 0.158842788</td><td> 0.135474045</td><td> 0.121266222</td></tr>\n",
       "\t<tr><td>-0.097939748</td><td>Very Good</td><td>E</td><td>VS2 </td><td> 0.65059511</td><td> 2.5428161</td><td>-1177.8</td><td>-0.161157212</td><td>-0.124525955</td><td>-0.048733778</td></tr>\n",
       "\t<tr><td>-0.097939748</td><td>Very Good</td><td>E</td><td>VS2 </td><td> 1.05059511</td><td> 2.5428161</td><td>-1177.8</td><td>-0.141157212</td><td>-0.084525955</td><td>-0.008733778</td></tr>\n",
       "\t<tr><td>-0.097939748</td><td>Very Good</td><td>D</td><td>VS1 </td><td> 1.35059511</td><td> 1.5428161</td><td>-1177.8</td><td>-0.061157212</td><td>-0.154525955</td><td> 0.011266222</td></tr>\n",
       "\t<tr><td>-0.067939748</td><td>Ideal    </td><td>I</td><td>VS2 </td><td>-0.44940489</td><td>-1.4571839</td><td>-1176.8</td><td> 0.068842788</td><td> 0.105474045</td><td> 0.031266222</td></tr>\n",
       "\t<tr><td>-0.067939748</td><td>Ideal    </td><td>I</td><td>VS2 </td><td>-0.14940489</td><td>-2.4571839</td><td>-1176.8</td><td> 0.088842788</td><td> 0.105474045</td><td> 0.051266222</td></tr>\n",
       "\t<tr><td>-0.007939748</td><td>Ideal    </td><td>I</td><td>SI1 </td><td>-0.14940489</td><td>-1.4571839</td><td>-1176.8</td><td> 0.218842788</td><td> 0.235474045</td><td> 0.131266222</td></tr>\n",
       "\t<tr><td>-0.087939748</td><td>Ideal    </td><td>E</td><td>SI1 </td><td> 0.15059511</td><td>-1.4571839</td><td>-1176.8</td><td>-0.021157212</td><td>-0.004525955</td><td> 0.001266222</td></tr>\n",
       "\t<tr><td>-0.007939748</td><td>Good     </td><td>F</td><td>SI1 </td><td>-3.64940489</td><td> 1.5428161</td><td>-1176.8</td><td> 0.328842788</td><td> 0.395474045</td><td> 0.001266222</td></tr>\n",
       "\t<tr><td>-0.007939748</td><td>Premium  </td><td>E</td><td>SI2 </td><td>-0.34940489</td><td> 0.5428161</td><td>-1176.8</td><td> 0.298842788</td><td> 0.225474045</td><td> 0.141266222</td></tr>\n",
       "\t<tr><td>-0.087939748</td><td>Ideal    </td><td>G</td><td>VS1 </td><td>-0.34940489</td><td>-1.4571839</td><td>-1176.8</td><td> 0.028842788</td><td>-0.004525955</td><td>-0.008733778</td></tr>\n",
       "\t<tr><td>-0.087939748</td><td>Premium  </td><td>E</td><td>SI1 </td><td>-1.24940489</td><td>-2.4571839</td><td>-1176.8</td><td> 0.058842788</td><td> 0.005474045</td><td>-0.048733778</td></tr>\n",
       "\t<tr><td>-0.087939748</td><td>Premium  </td><td>F</td><td>SI1 </td><td>-1.94940489</td><td> 4.5428161</td><td>-1176.8</td><td> 0.008842788</td><td>-0.004525955</td><td>-0.108733778</td></tr>\n",
       "\t<tr><td>-0.097939748</td><td>Very Good</td><td>E</td><td>VS2 </td><td>-1.24940489</td><td> 1.5428161</td><td>-1175.8</td><td>-0.021157212</td><td> 0.025474045</td><td>-0.068733778</td></tr>\n",
       "\t<tr><td>-0.097939748</td><td>Very Good</td><td>E</td><td>VS2 </td><td>-0.54940489</td><td> 1.5428161</td><td>-1175.8</td><td>-0.041157212</td><td>-0.014525955</td><td>-0.048733778</td></tr>\n",
       "\t<tr><td>-0.077939748</td><td>Premium  </td><td>D</td><td>SI1 </td><td> 0.95059511</td><td> 1.5428161</td><td>-1175.8</td><td>-0.041157212</td><td>-0.004525955</td><td> 0.041266222</td></tr>\n",
       "\t<tr><td>-0.077939748</td><td>Ideal    </td><td>D</td><td>SI1 </td><td>-0.94940489</td><td>-0.4571839</td><td>-1175.8</td><td> 0.018842788</td><td> 0.025474045</td><td>-0.038733778</td></tr>\n",
       "\t<tr><td>-0.077939748</td><td>Good     </td><td>D</td><td>SI1 </td><td> 1.35059511</td><td>-2.4571839</td><td>-1175.8</td><td>-0.041157212</td><td> 0.015474045</td><td> 0.071266222</td></tr>\n",
       "\t<tr><td>-0.097939748</td><td>Very Good</td><td>D</td><td>SI1 </td><td> 1.05059511</td><td> 2.5428161</td><td>-1175.8</td><td>-0.071157212</td><td>-0.054525955</td><td> 0.021266222</td></tr>\n",
       "\t<tr><td> 0.062060252</td><td>Premium  </td><td>H</td><td>SI2 </td><td>-0.74940489</td><td> 0.5428161</td><td>-1175.8</td><td> 0.418842788</td><td> 0.385474045</td><td> 0.201266222</td></tr>\n",
       "\t<tr><td>-0.047939748</td><td>Ideal    </td><td>D</td><td>SI2 </td><td> 0.45059511</td><td>-2.4571839</td><td>-1175.8</td><td> 0.098842788</td><td> 0.135474045</td><td> 0.101266222</td></tr>\n",
       "</tbody>\n",
       "</table>\n"
      ],
      "text/latex": [
       "A tibble: 53940 × 10\n",
       "\\begin{tabular}{llllllllll}\n",
       " carat & cut & color & clarity & depth & table & price & x & y & z\\\\\n",
       " <dbl> & <ord> & <ord> & <ord> & <dbl> & <dbl> & <dbl> & <dbl> & <dbl> & <dbl>\\\\\n",
       "\\hline\n",
       "\t -0.5679397 & Ideal     & E & SI2  & -0.2494049 & -2.4571839 & -3606.8 & -1.781157 & -1.754526 & -1.1087338\\\\\n",
       "\t -0.5879397 & Premium   & E & SI1  & -1.9494049 &  3.5428161 & -3606.8 & -1.841157 & -1.894526 & -1.2287338\\\\\n",
       "\t -0.5679397 & Good      & E & VS1  & -4.8494049 &  7.5428161 & -3605.8 & -1.681157 & -1.664526 & -1.2287338\\\\\n",
       "\t -0.5079397 & Premium   & I & VS2  &  0.6505951 &  0.5428161 & -3598.8 & -1.531157 & -1.504526 & -0.9087338\\\\\n",
       "\t -0.4879397 & Good      & J & SI2  &  1.5505951 &  0.5428161 & -3597.8 & -1.391157 & -1.384526 & -0.7887338\\\\\n",
       "\t -0.5579397 & Very Good & J & VVS2 &  1.0505951 & -0.4571839 & -3596.8 & -1.791157 & -1.774526 & -1.0587338\\\\\n",
       "\t -0.5579397 & Very Good & I & VVS1 &  0.5505951 & -0.4571839 & -3596.8 & -1.781157 & -1.754526 & -1.0687338\\\\\n",
       "\t -0.5379397 & Very Good & H & SI1  &  0.1505951 & -2.4571839 & -3595.8 & -1.661157 & -1.624526 & -1.0087338\\\\\n",
       "\t -0.5779397 & Fair      & E & VS2  &  3.3505951 &  3.5428161 & -3595.8 & -1.861157 & -1.954526 & -1.0487338\\\\\n",
       "\t -0.5679397 & Very Good & H & VS1  & -2.3494049 &  3.5428161 & -3594.8 & -1.731157 & -1.684526 & -1.1487338\\\\\n",
       "\t -0.4979397 & Good      & J & SI1  &  2.2505951 & -2.4571839 & -3593.8 & -1.481157 & -1.454526 & -0.8087338\\\\\n",
       "\t -0.5679397 & Ideal     & J & VS1  &  1.0505951 & -1.4571839 & -3592.8 & -1.801157 & -1.834526 & -1.0787338\\\\\n",
       "\t -0.5779397 & Premium   & F & SI1  & -1.3494049 &  3.5428161 & -3590.8 & -1.851157 & -1.894526 & -1.2087338\\\\\n",
       "\t -0.4879397 & Ideal     & J & SI2  &  0.4505951 & -3.4571839 & -3588.8 & -1.381157 & -1.364526 & -0.8287338\\\\\n",
       "\t -0.5979397 & Premium   & E & SI2  & -1.5494049 &  4.5428161 & -3587.8 & -1.941157 & -1.984526 & -1.2687338\\\\\n",
       "\t -0.4779397 & Premium   & E & I1   & -0.8494049 &  0.5428161 & -3587.8 & -1.351157 & -1.314526 & -0.8587338\\\\\n",
       "\t -0.4979397 & Ideal     & I & SI2  &  0.2505951 & -3.4571839 & -3584.8 & -1.421157 & -1.394526 & -0.8587338\\\\\n",
       "\t -0.4979397 & Good      & J & SI1  &  1.6505951 & -3.4571839 & -3581.8 & -1.501157 & -1.444526 & -0.8387338\\\\\n",
       "\t -0.4979397 & Good      & J & SI1  &  2.0505951 & -1.4571839 & -3581.8 & -1.501157 & -1.474526 & -0.8287338\\\\\n",
       "\t -0.4979397 & Very Good & J & SI1  &  0.9505951 &  1.5428161 & -3581.8 & -1.521157 & -1.464526 & -0.8787338\\\\\n",
       "\t -0.4979397 & Good      & I & SI2  &  1.5505951 & -1.4571839 & -3581.8 & -1.471157 & -1.434526 & -0.8287338\\\\\n",
       "\t -0.5679397 & Very Good & E & VS2  &  2.0505951 & -2.4571839 & -3580.8 & -1.881157 & -1.814526 & -1.0587338\\\\\n",
       "\t -0.5679397 & Very Good & H & VS1  & -0.7494049 & -0.4571839 & -3579.8 & -1.791157 & -1.774526 & -1.1287338\\\\\n",
       "\t -0.4879397 & Very Good & J & SI1  & -2.3494049 &  4.5428161 & -3579.8 & -1.341157 & -1.304526 & -0.9187338\\\\\n",
       "\t -0.4879397 & Very Good & J & SI1  & -3.6494049 &  4.5428161 & -3579.8 & -1.291157 & -1.264526 & -0.9487338\\\\\n",
       "\t -0.5679397 & Very Good & G & VVS2 & -1.3494049 &  0.5428161 & -3578.8 & -1.761157 & -1.724526 & -1.1287338\\\\\n",
       "\t -0.5579397 & Premium   & I & VS1  &  0.7505951 & -0.4571839 & -3577.8 & -1.761157 & -1.794526 & -1.0687338\\\\\n",
       "\t -0.4979397 & Very Good & J & VS2  &  0.4505951 & -0.4571839 & -3575.8 & -1.451157 & -1.434526 & -0.8687338\\\\\n",
       "\t -0.5679397 & Very Good & D & VS2  & -1.2494049 &  3.5428161 & -3575.8 & -1.771157 & -1.764526 & -1.1387338\\\\\n",
       "\t -0.5679397 & Very Good & F & VS1  & -0.8494049 & -0.4571839 & -3575.8 & -1.771157 & -1.744526 & -1.1187338\\\\\n",
       "\t ⋮ & ⋮ & ⋮ & ⋮ & ⋮ & ⋮ & ⋮ & ⋮ & ⋮ & ⋮\\\\\n",
       "\t -0.097939748 & Premium   & E & SI1  & -1.24940489 &  0.5428161 & -1179.8 &  0.008842788 &  0.035474045 & -0.058733778\\\\\n",
       "\t -0.227939748 & Premium   & E & IF   & -1.94940489 &  2.5428161 & -1179.8 & -0.301157212 & -0.354525955 & -0.308733778\\\\\n",
       "\t -0.187939748 & Premium   & F & VVS1 &  0.05059511 &  1.5428161 & -1179.8 & -0.251157212 & -0.334525955 & -0.178733778\\\\\n",
       "\t  0.002060252 & Good      & G & VS2  &  2.45059511 &  0.5428161 & -1179.8 &  0.108842788 &  0.075474045 &  0.201266222\\\\\n",
       "\t  0.042060252 & Good      & I & VS1  &  1.95059511 &  1.5428161 & -1179.8 &  0.208842788 &  0.165474045 &  0.231266222\\\\\n",
       "\t -0.027939748 & Ideal     & E & SI2  &  0.35059511 & -1.4571839 & -1179.8 &  0.108842788 &  0.125474045 &  0.091266222\\\\\n",
       "\t -0.057939748 & Good      & D & SI1  &  1.35059511 &  1.5428161 & -1179.8 & -0.021157212 &  0.005474045 &  0.071266222\\\\\n",
       "\t  0.102060252 & Very Good & J & SI1  &  1.45059511 &  2.5428161 & -1179.8 &  0.388842788 &  0.355474045 &  0.321266222\\\\\n",
       "\t -0.037939748 & Premium   & I & VS1  & -2.44940489 &  4.5428161 & -1179.8 &  0.198842788 &  0.115474045 & -0.048733778\\\\\n",
       "\t -0.037939748 & Ideal     & I & VVS1 &  0.45059511 & -2.4571839 & -1179.8 &  0.158842788 &  0.135474045 &  0.121266222\\\\\n",
       "\t -0.097939748 & Very Good & E & VS2  &  0.65059511 &  2.5428161 & -1177.8 & -0.161157212 & -0.124525955 & -0.048733778\\\\\n",
       "\t -0.097939748 & Very Good & E & VS2  &  1.05059511 &  2.5428161 & -1177.8 & -0.141157212 & -0.084525955 & -0.008733778\\\\\n",
       "\t -0.097939748 & Very Good & D & VS1  &  1.35059511 &  1.5428161 & -1177.8 & -0.061157212 & -0.154525955 &  0.011266222\\\\\n",
       "\t -0.067939748 & Ideal     & I & VS2  & -0.44940489 & -1.4571839 & -1176.8 &  0.068842788 &  0.105474045 &  0.031266222\\\\\n",
       "\t -0.067939748 & Ideal     & I & VS2  & -0.14940489 & -2.4571839 & -1176.8 &  0.088842788 &  0.105474045 &  0.051266222\\\\\n",
       "\t -0.007939748 & Ideal     & I & SI1  & -0.14940489 & -1.4571839 & -1176.8 &  0.218842788 &  0.235474045 &  0.131266222\\\\\n",
       "\t -0.087939748 & Ideal     & E & SI1  &  0.15059511 & -1.4571839 & -1176.8 & -0.021157212 & -0.004525955 &  0.001266222\\\\\n",
       "\t -0.007939748 & Good      & F & SI1  & -3.64940489 &  1.5428161 & -1176.8 &  0.328842788 &  0.395474045 &  0.001266222\\\\\n",
       "\t -0.007939748 & Premium   & E & SI2  & -0.34940489 &  0.5428161 & -1176.8 &  0.298842788 &  0.225474045 &  0.141266222\\\\\n",
       "\t -0.087939748 & Ideal     & G & VS1  & -0.34940489 & -1.4571839 & -1176.8 &  0.028842788 & -0.004525955 & -0.008733778\\\\\n",
       "\t -0.087939748 & Premium   & E & SI1  & -1.24940489 & -2.4571839 & -1176.8 &  0.058842788 &  0.005474045 & -0.048733778\\\\\n",
       "\t -0.087939748 & Premium   & F & SI1  & -1.94940489 &  4.5428161 & -1176.8 &  0.008842788 & -0.004525955 & -0.108733778\\\\\n",
       "\t -0.097939748 & Very Good & E & VS2  & -1.24940489 &  1.5428161 & -1175.8 & -0.021157212 &  0.025474045 & -0.068733778\\\\\n",
       "\t -0.097939748 & Very Good & E & VS2  & -0.54940489 &  1.5428161 & -1175.8 & -0.041157212 & -0.014525955 & -0.048733778\\\\\n",
       "\t -0.077939748 & Premium   & D & SI1  &  0.95059511 &  1.5428161 & -1175.8 & -0.041157212 & -0.004525955 &  0.041266222\\\\\n",
       "\t -0.077939748 & Ideal     & D & SI1  & -0.94940489 & -0.4571839 & -1175.8 &  0.018842788 &  0.025474045 & -0.038733778\\\\\n",
       "\t -0.077939748 & Good      & D & SI1  &  1.35059511 & -2.4571839 & -1175.8 & -0.041157212 &  0.015474045 &  0.071266222\\\\\n",
       "\t -0.097939748 & Very Good & D & SI1  &  1.05059511 &  2.5428161 & -1175.8 & -0.071157212 & -0.054525955 &  0.021266222\\\\\n",
       "\t  0.062060252 & Premium   & H & SI2  & -0.74940489 &  0.5428161 & -1175.8 &  0.418842788 &  0.385474045 &  0.201266222\\\\\n",
       "\t -0.047939748 & Ideal     & D & SI2  &  0.45059511 & -2.4571839 & -1175.8 &  0.098842788 &  0.135474045 &  0.101266222\\\\\n",
       "\\end{tabular}\n"
      ],
      "text/markdown": [
       "\n",
       "A tibble: 53940 × 10\n",
       "\n",
       "| carat &lt;dbl&gt; | cut &lt;ord&gt; | color &lt;ord&gt; | clarity &lt;ord&gt; | depth &lt;dbl&gt; | table &lt;dbl&gt; | price &lt;dbl&gt; | x &lt;dbl&gt; | y &lt;dbl&gt; | z &lt;dbl&gt; |\n",
       "|---|---|---|---|---|---|---|---|---|---|\n",
       "| -0.5679397 | Ideal     | E | SI2  | -0.2494049 | -2.4571839 | -3606.8 | -1.781157 | -1.754526 | -1.1087338 |\n",
       "| -0.5879397 | Premium   | E | SI1  | -1.9494049 |  3.5428161 | -3606.8 | -1.841157 | -1.894526 | -1.2287338 |\n",
       "| -0.5679397 | Good      | E | VS1  | -4.8494049 |  7.5428161 | -3605.8 | -1.681157 | -1.664526 | -1.2287338 |\n",
       "| -0.5079397 | Premium   | I | VS2  |  0.6505951 |  0.5428161 | -3598.8 | -1.531157 | -1.504526 | -0.9087338 |\n",
       "| -0.4879397 | Good      | J | SI2  |  1.5505951 |  0.5428161 | -3597.8 | -1.391157 | -1.384526 | -0.7887338 |\n",
       "| -0.5579397 | Very Good | J | VVS2 |  1.0505951 | -0.4571839 | -3596.8 | -1.791157 | -1.774526 | -1.0587338 |\n",
       "| -0.5579397 | Very Good | I | VVS1 |  0.5505951 | -0.4571839 | -3596.8 | -1.781157 | -1.754526 | -1.0687338 |\n",
       "| -0.5379397 | Very Good | H | SI1  |  0.1505951 | -2.4571839 | -3595.8 | -1.661157 | -1.624526 | -1.0087338 |\n",
       "| -0.5779397 | Fair      | E | VS2  |  3.3505951 |  3.5428161 | -3595.8 | -1.861157 | -1.954526 | -1.0487338 |\n",
       "| -0.5679397 | Very Good | H | VS1  | -2.3494049 |  3.5428161 | -3594.8 | -1.731157 | -1.684526 | -1.1487338 |\n",
       "| -0.4979397 | Good      | J | SI1  |  2.2505951 | -2.4571839 | -3593.8 | -1.481157 | -1.454526 | -0.8087338 |\n",
       "| -0.5679397 | Ideal     | J | VS1  |  1.0505951 | -1.4571839 | -3592.8 | -1.801157 | -1.834526 | -1.0787338 |\n",
       "| -0.5779397 | Premium   | F | SI1  | -1.3494049 |  3.5428161 | -3590.8 | -1.851157 | -1.894526 | -1.2087338 |\n",
       "| -0.4879397 | Ideal     | J | SI2  |  0.4505951 | -3.4571839 | -3588.8 | -1.381157 | -1.364526 | -0.8287338 |\n",
       "| -0.5979397 | Premium   | E | SI2  | -1.5494049 |  4.5428161 | -3587.8 | -1.941157 | -1.984526 | -1.2687338 |\n",
       "| -0.4779397 | Premium   | E | I1   | -0.8494049 |  0.5428161 | -3587.8 | -1.351157 | -1.314526 | -0.8587338 |\n",
       "| -0.4979397 | Ideal     | I | SI2  |  0.2505951 | -3.4571839 | -3584.8 | -1.421157 | -1.394526 | -0.8587338 |\n",
       "| -0.4979397 | Good      | J | SI1  |  1.6505951 | -3.4571839 | -3581.8 | -1.501157 | -1.444526 | -0.8387338 |\n",
       "| -0.4979397 | Good      | J | SI1  |  2.0505951 | -1.4571839 | -3581.8 | -1.501157 | -1.474526 | -0.8287338 |\n",
       "| -0.4979397 | Very Good | J | SI1  |  0.9505951 |  1.5428161 | -3581.8 | -1.521157 | -1.464526 | -0.8787338 |\n",
       "| -0.4979397 | Good      | I | SI2  |  1.5505951 | -1.4571839 | -3581.8 | -1.471157 | -1.434526 | -0.8287338 |\n",
       "| -0.5679397 | Very Good | E | VS2  |  2.0505951 | -2.4571839 | -3580.8 | -1.881157 | -1.814526 | -1.0587338 |\n",
       "| -0.5679397 | Very Good | H | VS1  | -0.7494049 | -0.4571839 | -3579.8 | -1.791157 | -1.774526 | -1.1287338 |\n",
       "| -0.4879397 | Very Good | J | SI1  | -2.3494049 |  4.5428161 | -3579.8 | -1.341157 | -1.304526 | -0.9187338 |\n",
       "| -0.4879397 | Very Good | J | SI1  | -3.6494049 |  4.5428161 | -3579.8 | -1.291157 | -1.264526 | -0.9487338 |\n",
       "| -0.5679397 | Very Good | G | VVS2 | -1.3494049 |  0.5428161 | -3578.8 | -1.761157 | -1.724526 | -1.1287338 |\n",
       "| -0.5579397 | Premium   | I | VS1  |  0.7505951 | -0.4571839 | -3577.8 | -1.761157 | -1.794526 | -1.0687338 |\n",
       "| -0.4979397 | Very Good | J | VS2  |  0.4505951 | -0.4571839 | -3575.8 | -1.451157 | -1.434526 | -0.8687338 |\n",
       "| -0.5679397 | Very Good | D | VS2  | -1.2494049 |  3.5428161 | -3575.8 | -1.771157 | -1.764526 | -1.1387338 |\n",
       "| -0.5679397 | Very Good | F | VS1  | -0.8494049 | -0.4571839 | -3575.8 | -1.771157 | -1.744526 | -1.1187338 |\n",
       "| ⋮ | ⋮ | ⋮ | ⋮ | ⋮ | ⋮ | ⋮ | ⋮ | ⋮ | ⋮ |\n",
       "| -0.097939748 | Premium   | E | SI1  | -1.24940489 |  0.5428161 | -1179.8 |  0.008842788 |  0.035474045 | -0.058733778 |\n",
       "| -0.227939748 | Premium   | E | IF   | -1.94940489 |  2.5428161 | -1179.8 | -0.301157212 | -0.354525955 | -0.308733778 |\n",
       "| -0.187939748 | Premium   | F | VVS1 |  0.05059511 |  1.5428161 | -1179.8 | -0.251157212 | -0.334525955 | -0.178733778 |\n",
       "|  0.002060252 | Good      | G | VS2  |  2.45059511 |  0.5428161 | -1179.8 |  0.108842788 |  0.075474045 |  0.201266222 |\n",
       "|  0.042060252 | Good      | I | VS1  |  1.95059511 |  1.5428161 | -1179.8 |  0.208842788 |  0.165474045 |  0.231266222 |\n",
       "| -0.027939748 | Ideal     | E | SI2  |  0.35059511 | -1.4571839 | -1179.8 |  0.108842788 |  0.125474045 |  0.091266222 |\n",
       "| -0.057939748 | Good      | D | SI1  |  1.35059511 |  1.5428161 | -1179.8 | -0.021157212 |  0.005474045 |  0.071266222 |\n",
       "|  0.102060252 | Very Good | J | SI1  |  1.45059511 |  2.5428161 | -1179.8 |  0.388842788 |  0.355474045 |  0.321266222 |\n",
       "| -0.037939748 | Premium   | I | VS1  | -2.44940489 |  4.5428161 | -1179.8 |  0.198842788 |  0.115474045 | -0.048733778 |\n",
       "| -0.037939748 | Ideal     | I | VVS1 |  0.45059511 | -2.4571839 | -1179.8 |  0.158842788 |  0.135474045 |  0.121266222 |\n",
       "| -0.097939748 | Very Good | E | VS2  |  0.65059511 |  2.5428161 | -1177.8 | -0.161157212 | -0.124525955 | -0.048733778 |\n",
       "| -0.097939748 | Very Good | E | VS2  |  1.05059511 |  2.5428161 | -1177.8 | -0.141157212 | -0.084525955 | -0.008733778 |\n",
       "| -0.097939748 | Very Good | D | VS1  |  1.35059511 |  1.5428161 | -1177.8 | -0.061157212 | -0.154525955 |  0.011266222 |\n",
       "| -0.067939748 | Ideal     | I | VS2  | -0.44940489 | -1.4571839 | -1176.8 |  0.068842788 |  0.105474045 |  0.031266222 |\n",
       "| -0.067939748 | Ideal     | I | VS2  | -0.14940489 | -2.4571839 | -1176.8 |  0.088842788 |  0.105474045 |  0.051266222 |\n",
       "| -0.007939748 | Ideal     | I | SI1  | -0.14940489 | -1.4571839 | -1176.8 |  0.218842788 |  0.235474045 |  0.131266222 |\n",
       "| -0.087939748 | Ideal     | E | SI1  |  0.15059511 | -1.4571839 | -1176.8 | -0.021157212 | -0.004525955 |  0.001266222 |\n",
       "| -0.007939748 | Good      | F | SI1  | -3.64940489 |  1.5428161 | -1176.8 |  0.328842788 |  0.395474045 |  0.001266222 |\n",
       "| -0.007939748 | Premium   | E | SI2  | -0.34940489 |  0.5428161 | -1176.8 |  0.298842788 |  0.225474045 |  0.141266222 |\n",
       "| -0.087939748 | Ideal     | G | VS1  | -0.34940489 | -1.4571839 | -1176.8 |  0.028842788 | -0.004525955 | -0.008733778 |\n",
       "| -0.087939748 | Premium   | E | SI1  | -1.24940489 | -2.4571839 | -1176.8 |  0.058842788 |  0.005474045 | -0.048733778 |\n",
       "| -0.087939748 | Premium   | F | SI1  | -1.94940489 |  4.5428161 | -1176.8 |  0.008842788 | -0.004525955 | -0.108733778 |\n",
       "| -0.097939748 | Very Good | E | VS2  | -1.24940489 |  1.5428161 | -1175.8 | -0.021157212 |  0.025474045 | -0.068733778 |\n",
       "| -0.097939748 | Very Good | E | VS2  | -0.54940489 |  1.5428161 | -1175.8 | -0.041157212 | -0.014525955 | -0.048733778 |\n",
       "| -0.077939748 | Premium   | D | SI1  |  0.95059511 |  1.5428161 | -1175.8 | -0.041157212 | -0.004525955 |  0.041266222 |\n",
       "| -0.077939748 | Ideal     | D | SI1  | -0.94940489 | -0.4571839 | -1175.8 |  0.018842788 |  0.025474045 | -0.038733778 |\n",
       "| -0.077939748 | Good      | D | SI1  |  1.35059511 | -2.4571839 | -1175.8 | -0.041157212 |  0.015474045 |  0.071266222 |\n",
       "| -0.097939748 | Very Good | D | SI1  |  1.05059511 |  2.5428161 | -1175.8 | -0.071157212 | -0.054525955 |  0.021266222 |\n",
       "|  0.062060252 | Premium   | H | SI2  | -0.74940489 |  0.5428161 | -1175.8 |  0.418842788 |  0.385474045 |  0.201266222 |\n",
       "| -0.047939748 | Ideal     | D | SI2  |  0.45059511 | -2.4571839 | -1175.8 |  0.098842788 |  0.135474045 |  0.101266222 |\n",
       "\n"
      ],
      "text/plain": [
       "      carat        cut       color clarity depth       table      price  \n",
       "1     -0.5679397   Ideal     E     SI2     -0.2494049  -2.4571839 -3606.8\n",
       "2     -0.5879397   Premium   E     SI1     -1.9494049   3.5428161 -3606.8\n",
       "3     -0.5679397   Good      E     VS1     -4.8494049   7.5428161 -3605.8\n",
       "4     -0.5079397   Premium   I     VS2      0.6505951   0.5428161 -3598.8\n",
       "5     -0.4879397   Good      J     SI2      1.5505951   0.5428161 -3597.8\n",
       "6     -0.5579397   Very Good J     VVS2     1.0505951  -0.4571839 -3596.8\n",
       "7     -0.5579397   Very Good I     VVS1     0.5505951  -0.4571839 -3596.8\n",
       "8     -0.5379397   Very Good H     SI1      0.1505951  -2.4571839 -3595.8\n",
       "9     -0.5779397   Fair      E     VS2      3.3505951   3.5428161 -3595.8\n",
       "10    -0.5679397   Very Good H     VS1     -2.3494049   3.5428161 -3594.8\n",
       "11    -0.4979397   Good      J     SI1      2.2505951  -2.4571839 -3593.8\n",
       "12    -0.5679397   Ideal     J     VS1      1.0505951  -1.4571839 -3592.8\n",
       "13    -0.5779397   Premium   F     SI1     -1.3494049   3.5428161 -3590.8\n",
       "14    -0.4879397   Ideal     J     SI2      0.4505951  -3.4571839 -3588.8\n",
       "15    -0.5979397   Premium   E     SI2     -1.5494049   4.5428161 -3587.8\n",
       "16    -0.4779397   Premium   E     I1      -0.8494049   0.5428161 -3587.8\n",
       "17    -0.4979397   Ideal     I     SI2      0.2505951  -3.4571839 -3584.8\n",
       "18    -0.4979397   Good      J     SI1      1.6505951  -3.4571839 -3581.8\n",
       "19    -0.4979397   Good      J     SI1      2.0505951  -1.4571839 -3581.8\n",
       "20    -0.4979397   Very Good J     SI1      0.9505951   1.5428161 -3581.8\n",
       "21    -0.4979397   Good      I     SI2      1.5505951  -1.4571839 -3581.8\n",
       "22    -0.5679397   Very Good E     VS2      2.0505951  -2.4571839 -3580.8\n",
       "23    -0.5679397   Very Good H     VS1     -0.7494049  -0.4571839 -3579.8\n",
       "24    -0.4879397   Very Good J     SI1     -2.3494049   4.5428161 -3579.8\n",
       "25    -0.4879397   Very Good J     SI1     -3.6494049   4.5428161 -3579.8\n",
       "26    -0.5679397   Very Good G     VVS2    -1.3494049   0.5428161 -3578.8\n",
       "27    -0.5579397   Premium   I     VS1      0.7505951  -0.4571839 -3577.8\n",
       "28    -0.4979397   Very Good J     VS2      0.4505951  -0.4571839 -3575.8\n",
       "29    -0.5679397   Very Good D     VS2     -1.2494049   3.5428161 -3575.8\n",
       "30    -0.5679397   Very Good F     VS1     -0.8494049  -0.4571839 -3575.8\n",
       "⋮     ⋮            ⋮         ⋮     ⋮       ⋮           ⋮          ⋮      \n",
       "53911 -0.097939748 Premium   E     SI1     -1.24940489  0.5428161 -1179.8\n",
       "53912 -0.227939748 Premium   E     IF      -1.94940489  2.5428161 -1179.8\n",
       "53913 -0.187939748 Premium   F     VVS1     0.05059511  1.5428161 -1179.8\n",
       "53914  0.002060252 Good      G     VS2      2.45059511  0.5428161 -1179.8\n",
       "53915  0.042060252 Good      I     VS1      1.95059511  1.5428161 -1179.8\n",
       "53916 -0.027939748 Ideal     E     SI2      0.35059511 -1.4571839 -1179.8\n",
       "53917 -0.057939748 Good      D     SI1      1.35059511  1.5428161 -1179.8\n",
       "53918  0.102060252 Very Good J     SI1      1.45059511  2.5428161 -1179.8\n",
       "53919 -0.037939748 Premium   I     VS1     -2.44940489  4.5428161 -1179.8\n",
       "53920 -0.037939748 Ideal     I     VVS1     0.45059511 -2.4571839 -1179.8\n",
       "53921 -0.097939748 Very Good E     VS2      0.65059511  2.5428161 -1177.8\n",
       "53922 -0.097939748 Very Good E     VS2      1.05059511  2.5428161 -1177.8\n",
       "53923 -0.097939748 Very Good D     VS1      1.35059511  1.5428161 -1177.8\n",
       "53924 -0.067939748 Ideal     I     VS2     -0.44940489 -1.4571839 -1176.8\n",
       "53925 -0.067939748 Ideal     I     VS2     -0.14940489 -2.4571839 -1176.8\n",
       "53926 -0.007939748 Ideal     I     SI1     -0.14940489 -1.4571839 -1176.8\n",
       "53927 -0.087939748 Ideal     E     SI1      0.15059511 -1.4571839 -1176.8\n",
       "53928 -0.007939748 Good      F     SI1     -3.64940489  1.5428161 -1176.8\n",
       "53929 -0.007939748 Premium   E     SI2     -0.34940489  0.5428161 -1176.8\n",
       "53930 -0.087939748 Ideal     G     VS1     -0.34940489 -1.4571839 -1176.8\n",
       "53931 -0.087939748 Premium   E     SI1     -1.24940489 -2.4571839 -1176.8\n",
       "53932 -0.087939748 Premium   F     SI1     -1.94940489  4.5428161 -1176.8\n",
       "53933 -0.097939748 Very Good E     VS2     -1.24940489  1.5428161 -1175.8\n",
       "53934 -0.097939748 Very Good E     VS2     -0.54940489  1.5428161 -1175.8\n",
       "53935 -0.077939748 Premium   D     SI1      0.95059511  1.5428161 -1175.8\n",
       "53936 -0.077939748 Ideal     D     SI1     -0.94940489 -0.4571839 -1175.8\n",
       "53937 -0.077939748 Good      D     SI1      1.35059511 -2.4571839 -1175.8\n",
       "53938 -0.097939748 Very Good D     SI1      1.05059511  2.5428161 -1175.8\n",
       "53939  0.062060252 Premium   H     SI2     -0.74940489  0.5428161 -1175.8\n",
       "53940 -0.047939748 Ideal     D     SI2      0.45059511 -2.4571839 -1175.8\n",
       "      x            y            z           \n",
       "1     -1.781157    -1.754526    -1.1087338  \n",
       "2     -1.841157    -1.894526    -1.2287338  \n",
       "3     -1.681157    -1.664526    -1.2287338  \n",
       "4     -1.531157    -1.504526    -0.9087338  \n",
       "5     -1.391157    -1.384526    -0.7887338  \n",
       "6     -1.791157    -1.774526    -1.0587338  \n",
       "7     -1.781157    -1.754526    -1.0687338  \n",
       "8     -1.661157    -1.624526    -1.0087338  \n",
       "9     -1.861157    -1.954526    -1.0487338  \n",
       "10    -1.731157    -1.684526    -1.1487338  \n",
       "11    -1.481157    -1.454526    -0.8087338  \n",
       "12    -1.801157    -1.834526    -1.0787338  \n",
       "13    -1.851157    -1.894526    -1.2087338  \n",
       "14    -1.381157    -1.364526    -0.8287338  \n",
       "15    -1.941157    -1.984526    -1.2687338  \n",
       "16    -1.351157    -1.314526    -0.8587338  \n",
       "17    -1.421157    -1.394526    -0.8587338  \n",
       "18    -1.501157    -1.444526    -0.8387338  \n",
       "19    -1.501157    -1.474526    -0.8287338  \n",
       "20    -1.521157    -1.464526    -0.8787338  \n",
       "21    -1.471157    -1.434526    -0.8287338  \n",
       "22    -1.881157    -1.814526    -1.0587338  \n",
       "23    -1.791157    -1.774526    -1.1287338  \n",
       "24    -1.341157    -1.304526    -0.9187338  \n",
       "25    -1.291157    -1.264526    -0.9487338  \n",
       "26    -1.761157    -1.724526    -1.1287338  \n",
       "27    -1.761157    -1.794526    -1.0687338  \n",
       "28    -1.451157    -1.434526    -0.8687338  \n",
       "29    -1.771157    -1.764526    -1.1387338  \n",
       "30    -1.771157    -1.744526    -1.1187338  \n",
       "⋮     ⋮            ⋮            ⋮           \n",
       "53911  0.008842788  0.035474045 -0.058733778\n",
       "53912 -0.301157212 -0.354525955 -0.308733778\n",
       "53913 -0.251157212 -0.334525955 -0.178733778\n",
       "53914  0.108842788  0.075474045  0.201266222\n",
       "53915  0.208842788  0.165474045  0.231266222\n",
       "53916  0.108842788  0.125474045  0.091266222\n",
       "53917 -0.021157212  0.005474045  0.071266222\n",
       "53918  0.388842788  0.355474045  0.321266222\n",
       "53919  0.198842788  0.115474045 -0.048733778\n",
       "53920  0.158842788  0.135474045  0.121266222\n",
       "53921 -0.161157212 -0.124525955 -0.048733778\n",
       "53922 -0.141157212 -0.084525955 -0.008733778\n",
       "53923 -0.061157212 -0.154525955  0.011266222\n",
       "53924  0.068842788  0.105474045  0.031266222\n",
       "53925  0.088842788  0.105474045  0.051266222\n",
       "53926  0.218842788  0.235474045  0.131266222\n",
       "53927 -0.021157212 -0.004525955  0.001266222\n",
       "53928  0.328842788  0.395474045  0.001266222\n",
       "53929  0.298842788  0.225474045  0.141266222\n",
       "53930  0.028842788 -0.004525955 -0.008733778\n",
       "53931  0.058842788  0.005474045 -0.048733778\n",
       "53932  0.008842788 -0.004525955 -0.108733778\n",
       "53933 -0.021157212  0.025474045 -0.068733778\n",
       "53934 -0.041157212 -0.014525955 -0.048733778\n",
       "53935 -0.041157212 -0.004525955  0.041266222\n",
       "53936  0.018842788  0.025474045 -0.038733778\n",
       "53937 -0.041157212  0.015474045  0.071266222\n",
       "53938 -0.071157212 -0.054525955  0.021266222\n",
       "53939  0.418842788  0.385474045  0.201266222\n",
       "53940  0.098842788  0.135474045  0.101266222"
      ]
     },
     "metadata": {},
     "output_type": "display_data"
    }
   ],
   "source": [
    "subtract_tib_mean(new_diamonds)"
   ]
  },
  {
   "cell_type": "code",
   "execution_count": 82,
   "id": "packed-fireplace",
   "metadata": {},
   "outputs": [
    {
     "data": {
      "text/html": [
       "<table class=\"dataframe\">\n",
       "<caption>A tibble: 53940 × 10</caption>\n",
       "<thead>\n",
       "\t<tr><th scope=col>carat</th><th scope=col>cut</th><th scope=col>color</th><th scope=col>clarity</th><th scope=col>depth</th><th scope=col>table</th><th scope=col>price</th><th scope=col>x</th><th scope=col>y</th><th scope=col>z</th></tr>\n",
       "\t<tr><th scope=col>&lt;dbl&gt;</th><th scope=col>&lt;ord&gt;</th><th scope=col>&lt;ord&gt;</th><th scope=col>&lt;ord&gt;</th><th scope=col>&lt;dbl&gt;</th><th scope=col>&lt;dbl&gt;</th><th scope=col>&lt;int&gt;</th><th scope=col>&lt;dbl&gt;</th><th scope=col>&lt;dbl&gt;</th><th scope=col>&lt;dbl&gt;</th></tr>\n",
       "</thead>\n",
       "<tbody>\n",
       "\t<tr><td>0.23</td><td>Ideal    </td><td>E</td><td>SI2 </td><td>61.5</td><td>55</td><td>326</td><td>3.95</td><td>3.98</td><td>2.43</td></tr>\n",
       "\t<tr><td>0.21</td><td>Premium  </td><td>E</td><td>SI1 </td><td>59.8</td><td>61</td><td>326</td><td>3.89</td><td>3.84</td><td>2.31</td></tr>\n",
       "\t<tr><td>0.23</td><td>Good     </td><td>E</td><td>VS1 </td><td>56.9</td><td>65</td><td>327</td><td>4.05</td><td>4.07</td><td>2.31</td></tr>\n",
       "\t<tr><td>0.29</td><td>Premium  </td><td>I</td><td>VS2 </td><td>62.4</td><td>58</td><td>334</td><td>4.20</td><td>4.23</td><td>2.63</td></tr>\n",
       "\t<tr><td>0.31</td><td>Good     </td><td>J</td><td>SI2 </td><td>63.3</td><td>58</td><td>335</td><td>4.34</td><td>4.35</td><td>2.75</td></tr>\n",
       "\t<tr><td>0.24</td><td>Very Good</td><td>J</td><td>VVS2</td><td>62.8</td><td>57</td><td>336</td><td>3.94</td><td>3.96</td><td>2.48</td></tr>\n",
       "\t<tr><td>0.24</td><td>Very Good</td><td>I</td><td>VVS1</td><td>62.3</td><td>57</td><td>336</td><td>3.95</td><td>3.98</td><td>2.47</td></tr>\n",
       "\t<tr><td>0.26</td><td>Very Good</td><td>H</td><td>SI1 </td><td>61.9</td><td>55</td><td>337</td><td>4.07</td><td>4.11</td><td>2.53</td></tr>\n",
       "\t<tr><td>0.22</td><td>Fair     </td><td>E</td><td>VS2 </td><td>65.1</td><td>61</td><td>337</td><td>3.87</td><td>3.78</td><td>2.49</td></tr>\n",
       "\t<tr><td>0.23</td><td>Very Good</td><td>H</td><td>VS1 </td><td>59.4</td><td>61</td><td>338</td><td>4.00</td><td>4.05</td><td>2.39</td></tr>\n",
       "\t<tr><td>0.30</td><td>Good     </td><td>J</td><td>SI1 </td><td>64.0</td><td>55</td><td>339</td><td>4.25</td><td>4.28</td><td>2.73</td></tr>\n",
       "\t<tr><td>0.23</td><td>Ideal    </td><td>J</td><td>VS1 </td><td>62.8</td><td>56</td><td>340</td><td>3.93</td><td>3.90</td><td>2.46</td></tr>\n",
       "\t<tr><td>0.22</td><td>Premium  </td><td>F</td><td>SI1 </td><td>60.4</td><td>61</td><td>342</td><td>3.88</td><td>3.84</td><td>2.33</td></tr>\n",
       "\t<tr><td>0.31</td><td>Ideal    </td><td>J</td><td>SI2 </td><td>62.2</td><td>54</td><td>344</td><td>4.35</td><td>4.37</td><td>2.71</td></tr>\n",
       "\t<tr><td>0.20</td><td>Premium  </td><td>E</td><td>SI2 </td><td>60.2</td><td>62</td><td>345</td><td>3.79</td><td>3.75</td><td>2.27</td></tr>\n",
       "\t<tr><td>0.32</td><td>Premium  </td><td>E</td><td>I1  </td><td>60.9</td><td>58</td><td>345</td><td>4.38</td><td>4.42</td><td>2.68</td></tr>\n",
       "\t<tr><td>0.30</td><td>Ideal    </td><td>I</td><td>SI2 </td><td>62.0</td><td>54</td><td>348</td><td>4.31</td><td>4.34</td><td>2.68</td></tr>\n",
       "\t<tr><td>0.30</td><td>Good     </td><td>J</td><td>SI1 </td><td>63.4</td><td>54</td><td>351</td><td>4.23</td><td>4.29</td><td>2.70</td></tr>\n",
       "\t<tr><td>0.30</td><td>Good     </td><td>J</td><td>SI1 </td><td>63.8</td><td>56</td><td>351</td><td>4.23</td><td>4.26</td><td>2.71</td></tr>\n",
       "\t<tr><td>0.30</td><td>Very Good</td><td>J</td><td>SI1 </td><td>62.7</td><td>59</td><td>351</td><td>4.21</td><td>4.27</td><td>2.66</td></tr>\n",
       "\t<tr><td>0.30</td><td>Good     </td><td>I</td><td>SI2 </td><td>63.3</td><td>56</td><td>351</td><td>4.26</td><td>4.30</td><td>2.71</td></tr>\n",
       "\t<tr><td>0.23</td><td>Very Good</td><td>E</td><td>VS2 </td><td>63.8</td><td>55</td><td>352</td><td>3.85</td><td>3.92</td><td>2.48</td></tr>\n",
       "\t<tr><td>0.23</td><td>Very Good</td><td>H</td><td>VS1 </td><td>61.0</td><td>57</td><td>353</td><td>3.94</td><td>3.96</td><td>2.41</td></tr>\n",
       "\t<tr><td>0.31</td><td>Very Good</td><td>J</td><td>SI1 </td><td>59.4</td><td>62</td><td>353</td><td>4.39</td><td>4.43</td><td>2.62</td></tr>\n",
       "\t<tr><td>0.31</td><td>Very Good</td><td>J</td><td>SI1 </td><td>58.1</td><td>62</td><td>353</td><td>4.44</td><td>4.47</td><td>2.59</td></tr>\n",
       "\t<tr><td>0.23</td><td>Very Good</td><td>G</td><td>VVS2</td><td>60.4</td><td>58</td><td>354</td><td>3.97</td><td>4.01</td><td>2.41</td></tr>\n",
       "\t<tr><td>0.24</td><td>Premium  </td><td>I</td><td>VS1 </td><td>62.5</td><td>57</td><td>355</td><td>3.97</td><td>3.94</td><td>2.47</td></tr>\n",
       "\t<tr><td>0.30</td><td>Very Good</td><td>J</td><td>VS2 </td><td>62.2</td><td>57</td><td>357</td><td>4.28</td><td>4.30</td><td>2.67</td></tr>\n",
       "\t<tr><td>0.23</td><td>Very Good</td><td>D</td><td>VS2 </td><td>60.5</td><td>61</td><td>357</td><td>3.96</td><td>3.97</td><td>2.40</td></tr>\n",
       "\t<tr><td>0.23</td><td>Very Good</td><td>F</td><td>VS1 </td><td>60.9</td><td>57</td><td>357</td><td>3.96</td><td>3.99</td><td>2.42</td></tr>\n",
       "\t<tr><td>⋮</td><td>⋮</td><td>⋮</td><td>⋮</td><td>⋮</td><td>⋮</td><td>⋮</td><td>⋮</td><td>⋮</td><td>⋮</td></tr>\n",
       "\t<tr><td>0.70</td><td>Premium  </td><td>E</td><td>SI1 </td><td>60.5</td><td>58</td><td>2753</td><td>5.74</td><td>5.77</td><td>3.48</td></tr>\n",
       "\t<tr><td>0.57</td><td>Premium  </td><td>E</td><td>IF  </td><td>59.8</td><td>60</td><td>2753</td><td>5.43</td><td>5.38</td><td>3.23</td></tr>\n",
       "\t<tr><td>0.61</td><td>Premium  </td><td>F</td><td>VVS1</td><td>61.8</td><td>59</td><td>2753</td><td>5.48</td><td>5.40</td><td>3.36</td></tr>\n",
       "\t<tr><td>0.80</td><td>Good     </td><td>G</td><td>VS2 </td><td>64.2</td><td>58</td><td>2753</td><td>5.84</td><td>5.81</td><td>3.74</td></tr>\n",
       "\t<tr><td>0.84</td><td>Good     </td><td>I</td><td>VS1 </td><td>63.7</td><td>59</td><td>2753</td><td>5.94</td><td>5.90</td><td>3.77</td></tr>\n",
       "\t<tr><td>0.77</td><td>Ideal    </td><td>E</td><td>SI2 </td><td>62.1</td><td>56</td><td>2753</td><td>5.84</td><td>5.86</td><td>3.63</td></tr>\n",
       "\t<tr><td>0.74</td><td>Good     </td><td>D</td><td>SI1 </td><td>63.1</td><td>59</td><td>2753</td><td>5.71</td><td>5.74</td><td>3.61</td></tr>\n",
       "\t<tr><td>0.90</td><td>Very Good</td><td>J</td><td>SI1 </td><td>63.2</td><td>60</td><td>2753</td><td>6.12</td><td>6.09</td><td>3.86</td></tr>\n",
       "\t<tr><td>0.76</td><td>Premium  </td><td>I</td><td>VS1 </td><td>59.3</td><td>62</td><td>2753</td><td>5.93</td><td>5.85</td><td>3.49</td></tr>\n",
       "\t<tr><td>0.76</td><td>Ideal    </td><td>I</td><td>VVS1</td><td>62.2</td><td>55</td><td>2753</td><td>5.89</td><td>5.87</td><td>3.66</td></tr>\n",
       "\t<tr><td>0.70</td><td>Very Good</td><td>E</td><td>VS2 </td><td>62.4</td><td>60</td><td>2755</td><td>5.57</td><td>5.61</td><td>3.49</td></tr>\n",
       "\t<tr><td>0.70</td><td>Very Good</td><td>E</td><td>VS2 </td><td>62.8</td><td>60</td><td>2755</td><td>5.59</td><td>5.65</td><td>3.53</td></tr>\n",
       "\t<tr><td>0.70</td><td>Very Good</td><td>D</td><td>VS1 </td><td>63.1</td><td>59</td><td>2755</td><td>5.67</td><td>5.58</td><td>3.55</td></tr>\n",
       "\t<tr><td>0.73</td><td>Ideal    </td><td>I</td><td>VS2 </td><td>61.3</td><td>56</td><td>2756</td><td>5.80</td><td>5.84</td><td>3.57</td></tr>\n",
       "\t<tr><td>0.73</td><td>Ideal    </td><td>I</td><td>VS2 </td><td>61.6</td><td>55</td><td>2756</td><td>5.82</td><td>5.84</td><td>3.59</td></tr>\n",
       "\t<tr><td>0.79</td><td>Ideal    </td><td>I</td><td>SI1 </td><td>61.6</td><td>56</td><td>2756</td><td>5.95</td><td>5.97</td><td>3.67</td></tr>\n",
       "\t<tr><td>0.71</td><td>Ideal    </td><td>E</td><td>SI1 </td><td>61.9</td><td>56</td><td>2756</td><td>5.71</td><td>5.73</td><td>3.54</td></tr>\n",
       "\t<tr><td>0.79</td><td>Good     </td><td>F</td><td>SI1 </td><td>58.1</td><td>59</td><td>2756</td><td>6.06</td><td>6.13</td><td>3.54</td></tr>\n",
       "\t<tr><td>0.79</td><td>Premium  </td><td>E</td><td>SI2 </td><td>61.4</td><td>58</td><td>2756</td><td>6.03</td><td>5.96</td><td>3.68</td></tr>\n",
       "\t<tr><td>0.71</td><td>Ideal    </td><td>G</td><td>VS1 </td><td>61.4</td><td>56</td><td>2756</td><td>5.76</td><td>5.73</td><td>3.53</td></tr>\n",
       "\t<tr><td>0.71</td><td>Premium  </td><td>E</td><td>SI1 </td><td>60.5</td><td>55</td><td>2756</td><td>5.79</td><td>5.74</td><td>3.49</td></tr>\n",
       "\t<tr><td>0.71</td><td>Premium  </td><td>F</td><td>SI1 </td><td>59.8</td><td>62</td><td>2756</td><td>5.74</td><td>5.73</td><td>3.43</td></tr>\n",
       "\t<tr><td>0.70</td><td>Very Good</td><td>E</td><td>VS2 </td><td>60.5</td><td>59</td><td>2757</td><td>5.71</td><td>5.76</td><td>3.47</td></tr>\n",
       "\t<tr><td>0.70</td><td>Very Good</td><td>E</td><td>VS2 </td><td>61.2</td><td>59</td><td>2757</td><td>5.69</td><td>5.72</td><td>3.49</td></tr>\n",
       "\t<tr><td>0.72</td><td>Premium  </td><td>D</td><td>SI1 </td><td>62.7</td><td>59</td><td>2757</td><td>5.69</td><td>5.73</td><td>3.58</td></tr>\n",
       "\t<tr><td>0.72</td><td>Ideal    </td><td>D</td><td>SI1 </td><td>60.8</td><td>57</td><td>2757</td><td>5.75</td><td>5.76</td><td>3.50</td></tr>\n",
       "\t<tr><td>0.72</td><td>Good     </td><td>D</td><td>SI1 </td><td>63.1</td><td>55</td><td>2757</td><td>5.69</td><td>5.75</td><td>3.61</td></tr>\n",
       "\t<tr><td>0.70</td><td>Very Good</td><td>D</td><td>SI1 </td><td>62.8</td><td>60</td><td>2757</td><td>5.66</td><td>5.68</td><td>3.56</td></tr>\n",
       "\t<tr><td>0.86</td><td>Premium  </td><td>H</td><td>SI2 </td><td>61.0</td><td>58</td><td>2757</td><td>6.15</td><td>6.12</td><td>3.74</td></tr>\n",
       "\t<tr><td>0.75</td><td>Ideal    </td><td>D</td><td>SI2 </td><td>62.2</td><td>55</td><td>2757</td><td>5.83</td><td>5.87</td><td>3.64</td></tr>\n",
       "</tbody>\n",
       "</table>\n"
      ],
      "text/latex": [
       "A tibble: 53940 × 10\n",
       "\\begin{tabular}{llllllllll}\n",
       " carat & cut & color & clarity & depth & table & price & x & y & z\\\\\n",
       " <dbl> & <ord> & <ord> & <ord> & <dbl> & <dbl> & <int> & <dbl> & <dbl> & <dbl>\\\\\n",
       "\\hline\n",
       "\t 0.23 & Ideal     & E & SI2  & 61.5 & 55 & 326 & 3.95 & 3.98 & 2.43\\\\\n",
       "\t 0.21 & Premium   & E & SI1  & 59.8 & 61 & 326 & 3.89 & 3.84 & 2.31\\\\\n",
       "\t 0.23 & Good      & E & VS1  & 56.9 & 65 & 327 & 4.05 & 4.07 & 2.31\\\\\n",
       "\t 0.29 & Premium   & I & VS2  & 62.4 & 58 & 334 & 4.20 & 4.23 & 2.63\\\\\n",
       "\t 0.31 & Good      & J & SI2  & 63.3 & 58 & 335 & 4.34 & 4.35 & 2.75\\\\\n",
       "\t 0.24 & Very Good & J & VVS2 & 62.8 & 57 & 336 & 3.94 & 3.96 & 2.48\\\\\n",
       "\t 0.24 & Very Good & I & VVS1 & 62.3 & 57 & 336 & 3.95 & 3.98 & 2.47\\\\\n",
       "\t 0.26 & Very Good & H & SI1  & 61.9 & 55 & 337 & 4.07 & 4.11 & 2.53\\\\\n",
       "\t 0.22 & Fair      & E & VS2  & 65.1 & 61 & 337 & 3.87 & 3.78 & 2.49\\\\\n",
       "\t 0.23 & Very Good & H & VS1  & 59.4 & 61 & 338 & 4.00 & 4.05 & 2.39\\\\\n",
       "\t 0.30 & Good      & J & SI1  & 64.0 & 55 & 339 & 4.25 & 4.28 & 2.73\\\\\n",
       "\t 0.23 & Ideal     & J & VS1  & 62.8 & 56 & 340 & 3.93 & 3.90 & 2.46\\\\\n",
       "\t 0.22 & Premium   & F & SI1  & 60.4 & 61 & 342 & 3.88 & 3.84 & 2.33\\\\\n",
       "\t 0.31 & Ideal     & J & SI2  & 62.2 & 54 & 344 & 4.35 & 4.37 & 2.71\\\\\n",
       "\t 0.20 & Premium   & E & SI2  & 60.2 & 62 & 345 & 3.79 & 3.75 & 2.27\\\\\n",
       "\t 0.32 & Premium   & E & I1   & 60.9 & 58 & 345 & 4.38 & 4.42 & 2.68\\\\\n",
       "\t 0.30 & Ideal     & I & SI2  & 62.0 & 54 & 348 & 4.31 & 4.34 & 2.68\\\\\n",
       "\t 0.30 & Good      & J & SI1  & 63.4 & 54 & 351 & 4.23 & 4.29 & 2.70\\\\\n",
       "\t 0.30 & Good      & J & SI1  & 63.8 & 56 & 351 & 4.23 & 4.26 & 2.71\\\\\n",
       "\t 0.30 & Very Good & J & SI1  & 62.7 & 59 & 351 & 4.21 & 4.27 & 2.66\\\\\n",
       "\t 0.30 & Good      & I & SI2  & 63.3 & 56 & 351 & 4.26 & 4.30 & 2.71\\\\\n",
       "\t 0.23 & Very Good & E & VS2  & 63.8 & 55 & 352 & 3.85 & 3.92 & 2.48\\\\\n",
       "\t 0.23 & Very Good & H & VS1  & 61.0 & 57 & 353 & 3.94 & 3.96 & 2.41\\\\\n",
       "\t 0.31 & Very Good & J & SI1  & 59.4 & 62 & 353 & 4.39 & 4.43 & 2.62\\\\\n",
       "\t 0.31 & Very Good & J & SI1  & 58.1 & 62 & 353 & 4.44 & 4.47 & 2.59\\\\\n",
       "\t 0.23 & Very Good & G & VVS2 & 60.4 & 58 & 354 & 3.97 & 4.01 & 2.41\\\\\n",
       "\t 0.24 & Premium   & I & VS1  & 62.5 & 57 & 355 & 3.97 & 3.94 & 2.47\\\\\n",
       "\t 0.30 & Very Good & J & VS2  & 62.2 & 57 & 357 & 4.28 & 4.30 & 2.67\\\\\n",
       "\t 0.23 & Very Good & D & VS2  & 60.5 & 61 & 357 & 3.96 & 3.97 & 2.40\\\\\n",
       "\t 0.23 & Very Good & F & VS1  & 60.9 & 57 & 357 & 3.96 & 3.99 & 2.42\\\\\n",
       "\t ⋮ & ⋮ & ⋮ & ⋮ & ⋮ & ⋮ & ⋮ & ⋮ & ⋮ & ⋮\\\\\n",
       "\t 0.70 & Premium   & E & SI1  & 60.5 & 58 & 2753 & 5.74 & 5.77 & 3.48\\\\\n",
       "\t 0.57 & Premium   & E & IF   & 59.8 & 60 & 2753 & 5.43 & 5.38 & 3.23\\\\\n",
       "\t 0.61 & Premium   & F & VVS1 & 61.8 & 59 & 2753 & 5.48 & 5.40 & 3.36\\\\\n",
       "\t 0.80 & Good      & G & VS2  & 64.2 & 58 & 2753 & 5.84 & 5.81 & 3.74\\\\\n",
       "\t 0.84 & Good      & I & VS1  & 63.7 & 59 & 2753 & 5.94 & 5.90 & 3.77\\\\\n",
       "\t 0.77 & Ideal     & E & SI2  & 62.1 & 56 & 2753 & 5.84 & 5.86 & 3.63\\\\\n",
       "\t 0.74 & Good      & D & SI1  & 63.1 & 59 & 2753 & 5.71 & 5.74 & 3.61\\\\\n",
       "\t 0.90 & Very Good & J & SI1  & 63.2 & 60 & 2753 & 6.12 & 6.09 & 3.86\\\\\n",
       "\t 0.76 & Premium   & I & VS1  & 59.3 & 62 & 2753 & 5.93 & 5.85 & 3.49\\\\\n",
       "\t 0.76 & Ideal     & I & VVS1 & 62.2 & 55 & 2753 & 5.89 & 5.87 & 3.66\\\\\n",
       "\t 0.70 & Very Good & E & VS2  & 62.4 & 60 & 2755 & 5.57 & 5.61 & 3.49\\\\\n",
       "\t 0.70 & Very Good & E & VS2  & 62.8 & 60 & 2755 & 5.59 & 5.65 & 3.53\\\\\n",
       "\t 0.70 & Very Good & D & VS1  & 63.1 & 59 & 2755 & 5.67 & 5.58 & 3.55\\\\\n",
       "\t 0.73 & Ideal     & I & VS2  & 61.3 & 56 & 2756 & 5.80 & 5.84 & 3.57\\\\\n",
       "\t 0.73 & Ideal     & I & VS2  & 61.6 & 55 & 2756 & 5.82 & 5.84 & 3.59\\\\\n",
       "\t 0.79 & Ideal     & I & SI1  & 61.6 & 56 & 2756 & 5.95 & 5.97 & 3.67\\\\\n",
       "\t 0.71 & Ideal     & E & SI1  & 61.9 & 56 & 2756 & 5.71 & 5.73 & 3.54\\\\\n",
       "\t 0.79 & Good      & F & SI1  & 58.1 & 59 & 2756 & 6.06 & 6.13 & 3.54\\\\\n",
       "\t 0.79 & Premium   & E & SI2  & 61.4 & 58 & 2756 & 6.03 & 5.96 & 3.68\\\\\n",
       "\t 0.71 & Ideal     & G & VS1  & 61.4 & 56 & 2756 & 5.76 & 5.73 & 3.53\\\\\n",
       "\t 0.71 & Premium   & E & SI1  & 60.5 & 55 & 2756 & 5.79 & 5.74 & 3.49\\\\\n",
       "\t 0.71 & Premium   & F & SI1  & 59.8 & 62 & 2756 & 5.74 & 5.73 & 3.43\\\\\n",
       "\t 0.70 & Very Good & E & VS2  & 60.5 & 59 & 2757 & 5.71 & 5.76 & 3.47\\\\\n",
       "\t 0.70 & Very Good & E & VS2  & 61.2 & 59 & 2757 & 5.69 & 5.72 & 3.49\\\\\n",
       "\t 0.72 & Premium   & D & SI1  & 62.7 & 59 & 2757 & 5.69 & 5.73 & 3.58\\\\\n",
       "\t 0.72 & Ideal     & D & SI1  & 60.8 & 57 & 2757 & 5.75 & 5.76 & 3.50\\\\\n",
       "\t 0.72 & Good      & D & SI1  & 63.1 & 55 & 2757 & 5.69 & 5.75 & 3.61\\\\\n",
       "\t 0.70 & Very Good & D & SI1  & 62.8 & 60 & 2757 & 5.66 & 5.68 & 3.56\\\\\n",
       "\t 0.86 & Premium   & H & SI2  & 61.0 & 58 & 2757 & 6.15 & 6.12 & 3.74\\\\\n",
       "\t 0.75 & Ideal     & D & SI2  & 62.2 & 55 & 2757 & 5.83 & 5.87 & 3.64\\\\\n",
       "\\end{tabular}\n"
      ],
      "text/markdown": [
       "\n",
       "A tibble: 53940 × 10\n",
       "\n",
       "| carat &lt;dbl&gt; | cut &lt;ord&gt; | color &lt;ord&gt; | clarity &lt;ord&gt; | depth &lt;dbl&gt; | table &lt;dbl&gt; | price &lt;int&gt; | x &lt;dbl&gt; | y &lt;dbl&gt; | z &lt;dbl&gt; |\n",
       "|---|---|---|---|---|---|---|---|---|---|\n",
       "| 0.23 | Ideal     | E | SI2  | 61.5 | 55 | 326 | 3.95 | 3.98 | 2.43 |\n",
       "| 0.21 | Premium   | E | SI1  | 59.8 | 61 | 326 | 3.89 | 3.84 | 2.31 |\n",
       "| 0.23 | Good      | E | VS1  | 56.9 | 65 | 327 | 4.05 | 4.07 | 2.31 |\n",
       "| 0.29 | Premium   | I | VS2  | 62.4 | 58 | 334 | 4.20 | 4.23 | 2.63 |\n",
       "| 0.31 | Good      | J | SI2  | 63.3 | 58 | 335 | 4.34 | 4.35 | 2.75 |\n",
       "| 0.24 | Very Good | J | VVS2 | 62.8 | 57 | 336 | 3.94 | 3.96 | 2.48 |\n",
       "| 0.24 | Very Good | I | VVS1 | 62.3 | 57 | 336 | 3.95 | 3.98 | 2.47 |\n",
       "| 0.26 | Very Good | H | SI1  | 61.9 | 55 | 337 | 4.07 | 4.11 | 2.53 |\n",
       "| 0.22 | Fair      | E | VS2  | 65.1 | 61 | 337 | 3.87 | 3.78 | 2.49 |\n",
       "| 0.23 | Very Good | H | VS1  | 59.4 | 61 | 338 | 4.00 | 4.05 | 2.39 |\n",
       "| 0.30 | Good      | J | SI1  | 64.0 | 55 | 339 | 4.25 | 4.28 | 2.73 |\n",
       "| 0.23 | Ideal     | J | VS1  | 62.8 | 56 | 340 | 3.93 | 3.90 | 2.46 |\n",
       "| 0.22 | Premium   | F | SI1  | 60.4 | 61 | 342 | 3.88 | 3.84 | 2.33 |\n",
       "| 0.31 | Ideal     | J | SI2  | 62.2 | 54 | 344 | 4.35 | 4.37 | 2.71 |\n",
       "| 0.20 | Premium   | E | SI2  | 60.2 | 62 | 345 | 3.79 | 3.75 | 2.27 |\n",
       "| 0.32 | Premium   | E | I1   | 60.9 | 58 | 345 | 4.38 | 4.42 | 2.68 |\n",
       "| 0.30 | Ideal     | I | SI2  | 62.0 | 54 | 348 | 4.31 | 4.34 | 2.68 |\n",
       "| 0.30 | Good      | J | SI1  | 63.4 | 54 | 351 | 4.23 | 4.29 | 2.70 |\n",
       "| 0.30 | Good      | J | SI1  | 63.8 | 56 | 351 | 4.23 | 4.26 | 2.71 |\n",
       "| 0.30 | Very Good | J | SI1  | 62.7 | 59 | 351 | 4.21 | 4.27 | 2.66 |\n",
       "| 0.30 | Good      | I | SI2  | 63.3 | 56 | 351 | 4.26 | 4.30 | 2.71 |\n",
       "| 0.23 | Very Good | E | VS2  | 63.8 | 55 | 352 | 3.85 | 3.92 | 2.48 |\n",
       "| 0.23 | Very Good | H | VS1  | 61.0 | 57 | 353 | 3.94 | 3.96 | 2.41 |\n",
       "| 0.31 | Very Good | J | SI1  | 59.4 | 62 | 353 | 4.39 | 4.43 | 2.62 |\n",
       "| 0.31 | Very Good | J | SI1  | 58.1 | 62 | 353 | 4.44 | 4.47 | 2.59 |\n",
       "| 0.23 | Very Good | G | VVS2 | 60.4 | 58 | 354 | 3.97 | 4.01 | 2.41 |\n",
       "| 0.24 | Premium   | I | VS1  | 62.5 | 57 | 355 | 3.97 | 3.94 | 2.47 |\n",
       "| 0.30 | Very Good | J | VS2  | 62.2 | 57 | 357 | 4.28 | 4.30 | 2.67 |\n",
       "| 0.23 | Very Good | D | VS2  | 60.5 | 61 | 357 | 3.96 | 3.97 | 2.40 |\n",
       "| 0.23 | Very Good | F | VS1  | 60.9 | 57 | 357 | 3.96 | 3.99 | 2.42 |\n",
       "| ⋮ | ⋮ | ⋮ | ⋮ | ⋮ | ⋮ | ⋮ | ⋮ | ⋮ | ⋮ |\n",
       "| 0.70 | Premium   | E | SI1  | 60.5 | 58 | 2753 | 5.74 | 5.77 | 3.48 |\n",
       "| 0.57 | Premium   | E | IF   | 59.8 | 60 | 2753 | 5.43 | 5.38 | 3.23 |\n",
       "| 0.61 | Premium   | F | VVS1 | 61.8 | 59 | 2753 | 5.48 | 5.40 | 3.36 |\n",
       "| 0.80 | Good      | G | VS2  | 64.2 | 58 | 2753 | 5.84 | 5.81 | 3.74 |\n",
       "| 0.84 | Good      | I | VS1  | 63.7 | 59 | 2753 | 5.94 | 5.90 | 3.77 |\n",
       "| 0.77 | Ideal     | E | SI2  | 62.1 | 56 | 2753 | 5.84 | 5.86 | 3.63 |\n",
       "| 0.74 | Good      | D | SI1  | 63.1 | 59 | 2753 | 5.71 | 5.74 | 3.61 |\n",
       "| 0.90 | Very Good | J | SI1  | 63.2 | 60 | 2753 | 6.12 | 6.09 | 3.86 |\n",
       "| 0.76 | Premium   | I | VS1  | 59.3 | 62 | 2753 | 5.93 | 5.85 | 3.49 |\n",
       "| 0.76 | Ideal     | I | VVS1 | 62.2 | 55 | 2753 | 5.89 | 5.87 | 3.66 |\n",
       "| 0.70 | Very Good | E | VS2  | 62.4 | 60 | 2755 | 5.57 | 5.61 | 3.49 |\n",
       "| 0.70 | Very Good | E | VS2  | 62.8 | 60 | 2755 | 5.59 | 5.65 | 3.53 |\n",
       "| 0.70 | Very Good | D | VS1  | 63.1 | 59 | 2755 | 5.67 | 5.58 | 3.55 |\n",
       "| 0.73 | Ideal     | I | VS2  | 61.3 | 56 | 2756 | 5.80 | 5.84 | 3.57 |\n",
       "| 0.73 | Ideal     | I | VS2  | 61.6 | 55 | 2756 | 5.82 | 5.84 | 3.59 |\n",
       "| 0.79 | Ideal     | I | SI1  | 61.6 | 56 | 2756 | 5.95 | 5.97 | 3.67 |\n",
       "| 0.71 | Ideal     | E | SI1  | 61.9 | 56 | 2756 | 5.71 | 5.73 | 3.54 |\n",
       "| 0.79 | Good      | F | SI1  | 58.1 | 59 | 2756 | 6.06 | 6.13 | 3.54 |\n",
       "| 0.79 | Premium   | E | SI2  | 61.4 | 58 | 2756 | 6.03 | 5.96 | 3.68 |\n",
       "| 0.71 | Ideal     | G | VS1  | 61.4 | 56 | 2756 | 5.76 | 5.73 | 3.53 |\n",
       "| 0.71 | Premium   | E | SI1  | 60.5 | 55 | 2756 | 5.79 | 5.74 | 3.49 |\n",
       "| 0.71 | Premium   | F | SI1  | 59.8 | 62 | 2756 | 5.74 | 5.73 | 3.43 |\n",
       "| 0.70 | Very Good | E | VS2  | 60.5 | 59 | 2757 | 5.71 | 5.76 | 3.47 |\n",
       "| 0.70 | Very Good | E | VS2  | 61.2 | 59 | 2757 | 5.69 | 5.72 | 3.49 |\n",
       "| 0.72 | Premium   | D | SI1  | 62.7 | 59 | 2757 | 5.69 | 5.73 | 3.58 |\n",
       "| 0.72 | Ideal     | D | SI1  | 60.8 | 57 | 2757 | 5.75 | 5.76 | 3.50 |\n",
       "| 0.72 | Good      | D | SI1  | 63.1 | 55 | 2757 | 5.69 | 5.75 | 3.61 |\n",
       "| 0.70 | Very Good | D | SI1  | 62.8 | 60 | 2757 | 5.66 | 5.68 | 3.56 |\n",
       "| 0.86 | Premium   | H | SI2  | 61.0 | 58 | 2757 | 6.15 | 6.12 | 3.74 |\n",
       "| 0.75 | Ideal     | D | SI2  | 62.2 | 55 | 2757 | 5.83 | 5.87 | 3.64 |\n",
       "\n"
      ],
      "text/plain": [
       "      carat cut       color clarity depth table price x    y    z   \n",
       "1     0.23  Ideal     E     SI2     61.5  55    326   3.95 3.98 2.43\n",
       "2     0.21  Premium   E     SI1     59.8  61    326   3.89 3.84 2.31\n",
       "3     0.23  Good      E     VS1     56.9  65    327   4.05 4.07 2.31\n",
       "4     0.29  Premium   I     VS2     62.4  58    334   4.20 4.23 2.63\n",
       "5     0.31  Good      J     SI2     63.3  58    335   4.34 4.35 2.75\n",
       "6     0.24  Very Good J     VVS2    62.8  57    336   3.94 3.96 2.48\n",
       "7     0.24  Very Good I     VVS1    62.3  57    336   3.95 3.98 2.47\n",
       "8     0.26  Very Good H     SI1     61.9  55    337   4.07 4.11 2.53\n",
       "9     0.22  Fair      E     VS2     65.1  61    337   3.87 3.78 2.49\n",
       "10    0.23  Very Good H     VS1     59.4  61    338   4.00 4.05 2.39\n",
       "11    0.30  Good      J     SI1     64.0  55    339   4.25 4.28 2.73\n",
       "12    0.23  Ideal     J     VS1     62.8  56    340   3.93 3.90 2.46\n",
       "13    0.22  Premium   F     SI1     60.4  61    342   3.88 3.84 2.33\n",
       "14    0.31  Ideal     J     SI2     62.2  54    344   4.35 4.37 2.71\n",
       "15    0.20  Premium   E     SI2     60.2  62    345   3.79 3.75 2.27\n",
       "16    0.32  Premium   E     I1      60.9  58    345   4.38 4.42 2.68\n",
       "17    0.30  Ideal     I     SI2     62.0  54    348   4.31 4.34 2.68\n",
       "18    0.30  Good      J     SI1     63.4  54    351   4.23 4.29 2.70\n",
       "19    0.30  Good      J     SI1     63.8  56    351   4.23 4.26 2.71\n",
       "20    0.30  Very Good J     SI1     62.7  59    351   4.21 4.27 2.66\n",
       "21    0.30  Good      I     SI2     63.3  56    351   4.26 4.30 2.71\n",
       "22    0.23  Very Good E     VS2     63.8  55    352   3.85 3.92 2.48\n",
       "23    0.23  Very Good H     VS1     61.0  57    353   3.94 3.96 2.41\n",
       "24    0.31  Very Good J     SI1     59.4  62    353   4.39 4.43 2.62\n",
       "25    0.31  Very Good J     SI1     58.1  62    353   4.44 4.47 2.59\n",
       "26    0.23  Very Good G     VVS2    60.4  58    354   3.97 4.01 2.41\n",
       "27    0.24  Premium   I     VS1     62.5  57    355   3.97 3.94 2.47\n",
       "28    0.30  Very Good J     VS2     62.2  57    357   4.28 4.30 2.67\n",
       "29    0.23  Very Good D     VS2     60.5  61    357   3.96 3.97 2.40\n",
       "30    0.23  Very Good F     VS1     60.9  57    357   3.96 3.99 2.42\n",
       "⋮     ⋮     ⋮         ⋮     ⋮       ⋮     ⋮     ⋮     ⋮    ⋮    ⋮   \n",
       "53911 0.70  Premium   E     SI1     60.5  58    2753  5.74 5.77 3.48\n",
       "53912 0.57  Premium   E     IF      59.8  60    2753  5.43 5.38 3.23\n",
       "53913 0.61  Premium   F     VVS1    61.8  59    2753  5.48 5.40 3.36\n",
       "53914 0.80  Good      G     VS2     64.2  58    2753  5.84 5.81 3.74\n",
       "53915 0.84  Good      I     VS1     63.7  59    2753  5.94 5.90 3.77\n",
       "53916 0.77  Ideal     E     SI2     62.1  56    2753  5.84 5.86 3.63\n",
       "53917 0.74  Good      D     SI1     63.1  59    2753  5.71 5.74 3.61\n",
       "53918 0.90  Very Good J     SI1     63.2  60    2753  6.12 6.09 3.86\n",
       "53919 0.76  Premium   I     VS1     59.3  62    2753  5.93 5.85 3.49\n",
       "53920 0.76  Ideal     I     VVS1    62.2  55    2753  5.89 5.87 3.66\n",
       "53921 0.70  Very Good E     VS2     62.4  60    2755  5.57 5.61 3.49\n",
       "53922 0.70  Very Good E     VS2     62.8  60    2755  5.59 5.65 3.53\n",
       "53923 0.70  Very Good D     VS1     63.1  59    2755  5.67 5.58 3.55\n",
       "53924 0.73  Ideal     I     VS2     61.3  56    2756  5.80 5.84 3.57\n",
       "53925 0.73  Ideal     I     VS2     61.6  55    2756  5.82 5.84 3.59\n",
       "53926 0.79  Ideal     I     SI1     61.6  56    2756  5.95 5.97 3.67\n",
       "53927 0.71  Ideal     E     SI1     61.9  56    2756  5.71 5.73 3.54\n",
       "53928 0.79  Good      F     SI1     58.1  59    2756  6.06 6.13 3.54\n",
       "53929 0.79  Premium   E     SI2     61.4  58    2756  6.03 5.96 3.68\n",
       "53930 0.71  Ideal     G     VS1     61.4  56    2756  5.76 5.73 3.53\n",
       "53931 0.71  Premium   E     SI1     60.5  55    2756  5.79 5.74 3.49\n",
       "53932 0.71  Premium   F     SI1     59.8  62    2756  5.74 5.73 3.43\n",
       "53933 0.70  Very Good E     VS2     60.5  59    2757  5.71 5.76 3.47\n",
       "53934 0.70  Very Good E     VS2     61.2  59    2757  5.69 5.72 3.49\n",
       "53935 0.72  Premium   D     SI1     62.7  59    2757  5.69 5.73 3.58\n",
       "53936 0.72  Ideal     D     SI1     60.8  57    2757  5.75 5.76 3.50\n",
       "53937 0.72  Good      D     SI1     63.1  55    2757  5.69 5.75 3.61\n",
       "53938 0.70  Very Good D     SI1     62.8  60    2757  5.66 5.68 3.56\n",
       "53939 0.86  Premium   H     SI2     61.0  58    2757  6.15 6.12 3.74\n",
       "53940 0.75  Ideal     D     SI2     62.2  55    2757  5.83 5.87 3.64"
      ]
     },
     "metadata": {},
     "output_type": "display_data"
    }
   ],
   "source": [
    "new_diamonds"
   ]
  },
  {
   "cell_type": "code",
   "execution_count": null,
   "id": "cosmetic-supplier",
   "metadata": {},
   "outputs": [],
   "source": []
  }
 ],
 "metadata": {
  "kernelspec": {
   "display_name": "R",
   "language": "R",
   "name": "ir"
  },
  "language_info": {
   "codemirror_mode": "r",
   "file_extension": ".r",
   "mimetype": "text/x-r-source",
   "name": "R",
   "pygments_lexer": "r",
   "version": "4.0.3"
  }
 },
 "nbformat": 4,
 "nbformat_minor": 5
}

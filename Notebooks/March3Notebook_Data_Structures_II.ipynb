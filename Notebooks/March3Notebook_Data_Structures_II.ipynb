{
 "cells": [
  {
   "cell_type": "code",
   "execution_count": 1,
   "id": "trying-sullivan",
   "metadata": {},
   "outputs": [
    {
     "name": "stderr",
     "output_type": "stream",
     "text": [
      "── \u001b[1mAttaching packages\u001b[22m ─────────────────────────────────────── tidyverse 1.3.0 ──\n",
      "\n",
      "\u001b[32m✔\u001b[39m \u001b[34mggplot2\u001b[39m 3.3.3     \u001b[32m✔\u001b[39m \u001b[34mpurrr  \u001b[39m 0.3.4\n",
      "\u001b[32m✔\u001b[39m \u001b[34mtibble \u001b[39m 3.0.6     \u001b[32m✔\u001b[39m \u001b[34mdplyr  \u001b[39m 1.0.4\n",
      "\u001b[32m✔\u001b[39m \u001b[34mtidyr  \u001b[39m 1.1.2     \u001b[32m✔\u001b[39m \u001b[34mstringr\u001b[39m 1.4.0\n",
      "\u001b[32m✔\u001b[39m \u001b[34mreadr  \u001b[39m 1.4.0     \u001b[32m✔\u001b[39m \u001b[34mforcats\u001b[39m 0.5.1\n",
      "\n",
      "── \u001b[1mConflicts\u001b[22m ────────────────────────────────────────── tidyverse_conflicts() ──\n",
      "\u001b[31m✖\u001b[39m \u001b[34mdplyr\u001b[39m::\u001b[32mfilter()\u001b[39m masks \u001b[34mstats\u001b[39m::filter()\n",
      "\u001b[31m✖\u001b[39m \u001b[34mdplyr\u001b[39m::\u001b[32mlag()\u001b[39m    masks \u001b[34mstats\u001b[39m::lag()\n",
      "\n"
     ]
    }
   ],
   "source": [
    "library(tidyverse)"
   ]
  },
  {
   "cell_type": "code",
   "execution_count": 2,
   "id": "marine-hearing",
   "metadata": {},
   "outputs": [
    {
     "data": {
      "text/html": [
       "<style>\n",
       ".dl-inline {width: auto; margin:0; padding: 0}\n",
       ".dl-inline>dt, .dl-inline>dd {float: none; width: auto; display: inline-block}\n",
       ".dl-inline>dt::after {content: \":\\0020\"; padding-right: .5ex}\n",
       ".dl-inline>dt:not(:first-of-type) {padding-left: .5ex}\n",
       "</style><dl class=dl-inline><dt>a</dt><dd>1</dd><dt>b</dt><dd>2</dd><dt>c</dt><dd>3</dd></dl>\n"
      ],
      "text/latex": [
       "\\begin{description*}\n",
       "\\item[a] 1\n",
       "\\item[b] 2\n",
       "\\item[c] 3\n",
       "\\end{description*}\n"
      ],
      "text/markdown": [
       "a\n",
       ":   1b\n",
       ":   2c\n",
       ":   3\n",
       "\n"
      ],
      "text/plain": [
       "a b c \n",
       "1 2 3 "
      ]
     },
     "metadata": {},
     "output_type": "display_data"
    }
   ],
   "source": [
    "(x <- c(a = 1, b = 2, c = 3))"
   ]
  },
  {
   "cell_type": "markdown",
   "id": "lasting-reform",
   "metadata": {},
   "source": [
    "Warm-up:\n",
    "\n",
    "1. Create a named vector of the ages of some of your family members\n",
    "2. Create various subsets of this vector using numeric vectors\n",
    "3. Try conditional subsetting (i.e. all ages above or below a certain value)\n",
    "4. Now subset using a character of explicit names\n",
    "5. What is the type of this vector?"
   ]
  },
  {
   "cell_type": "code",
   "execution_count": 6,
   "id": "banner-garbage",
   "metadata": {},
   "outputs": [
    {
     "data": {
      "text/html": [
       "<style>\n",
       ".dl-inline {width: auto; margin:0; padding: 0}\n",
       ".dl-inline>dt, .dl-inline>dd {float: none; width: auto; display: inline-block}\n",
       ".dl-inline>dt::after {content: \":\\0020\"; padding-right: .5ex}\n",
       ".dl-inline>dt:not(:first-of-type) {padding-left: .5ex}\n",
       "</style><dl class=dl-inline><dt>me</dt><dd>29</dd><dt>sibling</dt><dd>40</dd><dt>dad</dt><dd>82</dd><dt>wife</dt><dd>30</dd><dt>grandmother</dt><dd>98</dd></dl>\n"
      ],
      "text/latex": [
       "\\begin{description*}\n",
       "\\item[me] 29\n",
       "\\item[sibling] 40\n",
       "\\item[dad] 82\n",
       "\\item[wife] 30\n",
       "\\item[grandmother] 98\n",
       "\\end{description*}\n"
      ],
      "text/markdown": [
       "me\n",
       ":   29sibling\n",
       ":   40dad\n",
       ":   82wife\n",
       ":   30grandmother\n",
       ":   98\n",
       "\n"
      ],
      "text/plain": [
       "         me     sibling         dad        wife grandmother \n",
       "         29          40          82          30          98 "
      ]
     },
     "metadata": {},
     "output_type": "display_data"
    }
   ],
   "source": [
    "(family_ages <- c(me = 29, sibling = 40, dad = 82, wife = 30, grandmother = 98))"
   ]
  },
  {
   "cell_type": "code",
   "execution_count": 7,
   "id": "prostate-schema",
   "metadata": {},
   "outputs": [
    {
     "data": {
      "text/html": [
       "<style>\n",
       ".dl-inline {width: auto; margin:0; padding: 0}\n",
       ".dl-inline>dt, .dl-inline>dd {float: none; width: auto; display: inline-block}\n",
       ".dl-inline>dt::after {content: \":\\0020\"; padding-right: .5ex}\n",
       ".dl-inline>dt:not(:first-of-type) {padding-left: .5ex}\n",
       "</style><dl class=dl-inline><dt>me</dt><dd>29</dd><dt>dad</dt><dd>82</dd></dl>\n"
      ],
      "text/latex": [
       "\\begin{description*}\n",
       "\\item[me] 29\n",
       "\\item[dad] 82\n",
       "\\end{description*}\n"
      ],
      "text/markdown": [
       "me\n",
       ":   29dad\n",
       ":   82\n",
       "\n"
      ],
      "text/plain": [
       " me dad \n",
       " 29  82 "
      ]
     },
     "metadata": {},
     "output_type": "display_data"
    }
   ],
   "source": [
    "#subsetting using a numeric vector\n",
    "family_ages[c(1,3)]"
   ]
  },
  {
   "cell_type": "code",
   "execution_count": 8,
   "id": "alternative-jackson",
   "metadata": {},
   "outputs": [
    {
     "data": {
      "text/html": [
       "<style>\n",
       ".dl-inline {width: auto; margin:0; padding: 0}\n",
       ".dl-inline>dt, .dl-inline>dd {float: none; width: auto; display: inline-block}\n",
       ".dl-inline>dt::after {content: \":\\0020\"; padding-right: .5ex}\n",
       ".dl-inline>dt:not(:first-of-type) {padding-left: .5ex}\n",
       "</style><dl class=dl-inline><dt>dad</dt><dd>82</dd><dt>grandmother</dt><dd>98</dd></dl>\n"
      ],
      "text/latex": [
       "\\begin{description*}\n",
       "\\item[dad] 82\n",
       "\\item[grandmother] 98\n",
       "\\end{description*}\n"
      ],
      "text/markdown": [
       "dad\n",
       ":   82grandmother\n",
       ":   98\n",
       "\n"
      ],
      "text/plain": [
       "        dad grandmother \n",
       "         82          98 "
      ]
     },
     "metadata": {},
     "output_type": "display_data"
    }
   ],
   "source": [
    "#conditional subsetting\n",
    "family_ages[family_ages > 40]"
   ]
  },
  {
   "cell_type": "code",
   "execution_count": 9,
   "id": "completed-brunei",
   "metadata": {},
   "outputs": [
    {
     "data": {
      "text/html": [
       "<style>\n",
       ".dl-inline {width: auto; margin:0; padding: 0}\n",
       ".dl-inline>dt, .dl-inline>dd {float: none; width: auto; display: inline-block}\n",
       ".dl-inline>dt::after {content: \":\\0020\"; padding-right: .5ex}\n",
       ".dl-inline>dt:not(:first-of-type) {padding-left: .5ex}\n",
       "</style><dl class=dl-inline><dt>me</dt><dd>FALSE</dd><dt>sibling</dt><dd>FALSE</dd><dt>dad</dt><dd>TRUE</dd><dt>wife</dt><dd>FALSE</dd><dt>grandmother</dt><dd>TRUE</dd></dl>\n"
      ],
      "text/latex": [
       "\\begin{description*}\n",
       "\\item[me] FALSE\n",
       "\\item[sibling] FALSE\n",
       "\\item[dad] TRUE\n",
       "\\item[wife] FALSE\n",
       "\\item[grandmother] TRUE\n",
       "\\end{description*}\n"
      ],
      "text/markdown": [
       "me\n",
       ":   FALSEsibling\n",
       ":   FALSEdad\n",
       ":   TRUEwife\n",
       ":   FALSEgrandmother\n",
       ":   TRUE\n",
       "\n"
      ],
      "text/plain": [
       "         me     sibling         dad        wife grandmother \n",
       "      FALSE       FALSE        TRUE       FALSE        TRUE "
      ]
     },
     "metadata": {},
     "output_type": "display_data"
    }
   ],
   "source": [
    "family_ages > 40"
   ]
  },
  {
   "cell_type": "code",
   "execution_count": 11,
   "id": "bigger-screen",
   "metadata": {},
   "outputs": [
    {
     "data": {
      "text/html": [
       "<style>\n",
       ".dl-inline {width: auto; margin:0; padding: 0}\n",
       ".dl-inline>dt, .dl-inline>dd {float: none; width: auto; display: inline-block}\n",
       ".dl-inline>dt::after {content: \":\\0020\"; padding-right: .5ex}\n",
       ".dl-inline>dt:not(:first-of-type) {padding-left: .5ex}\n",
       "</style><dl class=dl-inline><dt>me</dt><dd>29</dd><dt>dad</dt><dd>82</dd><dt>sibling</dt><dd>40</dd></dl>\n"
      ],
      "text/latex": [
       "\\begin{description*}\n",
       "\\item[me] 29\n",
       "\\item[dad] 82\n",
       "\\item[sibling] 40\n",
       "\\end{description*}\n"
      ],
      "text/markdown": [
       "me\n",
       ":   29dad\n",
       ":   82sibling\n",
       ":   40\n",
       "\n"
      ],
      "text/plain": [
       "     me     dad sibling \n",
       "     29      82      40 "
      ]
     },
     "metadata": {},
     "output_type": "display_data"
    }
   ],
   "source": [
    "#subsetting using the names\n",
    "family_ages[c(\"me\", \"dad\", \"sibling\")]"
   ]
  },
  {
   "cell_type": "code",
   "execution_count": 12,
   "id": "active-cement",
   "metadata": {},
   "outputs": [
    {
     "data": {
      "text/html": [
       "'double'"
      ],
      "text/latex": [
       "'double'"
      ],
      "text/markdown": [
       "'double'"
      ],
      "text/plain": [
       "[1] \"double\""
      ]
     },
     "metadata": {},
     "output_type": "display_data"
    }
   ],
   "source": [
    "#find the type of a vector\n",
    "typeof(family_ages)"
   ]
  },
  {
   "cell_type": "code",
   "execution_count": 16,
   "id": "abandoned-gardening",
   "metadata": {},
   "outputs": [
    {
     "data": {
      "text/html": [
       "<style>\n",
       ".dl-inline {width: auto; margin:0; padding: 0}\n",
       ".dl-inline>dt, .dl-inline>dd {float: none; width: auto; display: inline-block}\n",
       ".dl-inline>dt::after {content: \":\\0020\"; padding-right: .5ex}\n",
       ".dl-inline>dt:not(:first-of-type) {padding-left: .5ex}\n",
       "</style><dl class=dl-inline><dt>me</dt><dd>'Mike'</dd><dt>dad</dt><dd>'Mike'</dd><dt>mom</dt><dd>'Ana'</dd></dl>\n"
      ],
      "text/latex": [
       "\\begin{description*}\n",
       "\\item[me] 'Mike'\n",
       "\\item[dad] 'Mike'\n",
       "\\item[mom] 'Ana'\n",
       "\\end{description*}\n"
      ],
      "text/markdown": [
       "me\n",
       ":   'Mike'dad\n",
       ":   'Mike'mom\n",
       ":   'Ana'\n",
       "\n"
      ],
      "text/plain": [
       "    me    dad    mom \n",
       "\"Mike\" \"Mike\"  \"Ana\" "
      ]
     },
     "metadata": {},
     "output_type": "display_data"
    },
    {
     "data": {
      "text/html": [
       "'character'"
      ],
      "text/latex": [
       "'character'"
      ],
      "text/markdown": [
       "'character'"
      ],
      "text/plain": [
       "[1] \"character\""
      ]
     },
     "metadata": {},
     "output_type": "display_data"
    }
   ],
   "source": [
    "(family_relationships = c(me = \"Mike\", dad = \"Mike\", mom = \"Ana\"))\n",
    "typeof(family_relationships)"
   ]
  },
  {
   "cell_type": "code",
   "execution_count": 18,
   "id": "agreed-alaska",
   "metadata": {},
   "outputs": [
    {
     "data": {
      "text/html": [
       "<style>\n",
       ".list-inline {list-style: none; margin:0; padding: 0}\n",
       ".list-inline>li {display: inline-block}\n",
       ".list-inline>li:not(:last-child)::after {content: \"\\00b7\"; padding: 0 .5ex}\n",
       "</style>\n",
       "<ol class=list-inline><li>'me'</li><li>'sibling'</li><li>'dad'</li><li>'wife'</li><li>'grandmother'</li></ol>\n"
      ],
      "text/latex": [
       "\\begin{enumerate*}\n",
       "\\item 'me'\n",
       "\\item 'sibling'\n",
       "\\item 'dad'\n",
       "\\item 'wife'\n",
       "\\item 'grandmother'\n",
       "\\end{enumerate*}\n"
      ],
      "text/markdown": [
       "1. 'me'\n",
       "2. 'sibling'\n",
       "3. 'dad'\n",
       "4. 'wife'\n",
       "5. 'grandmother'\n",
       "\n",
       "\n"
      ],
      "text/plain": [
       "[1] \"me\"          \"sibling\"     \"dad\"         \"wife\"        \"grandmother\""
      ]
     },
     "metadata": {},
     "output_type": "display_data"
    }
   ],
   "source": [
    "names(family_ages)"
   ]
  },
  {
   "cell_type": "markdown",
   "id": "periodic-ticket",
   "metadata": {},
   "source": [
    "There are a variety of functions that we can apply to vectors\n",
    "- ```sum()```: Sum of elements\n",
    "- ```prod()```: Product of elements\n",
    "- ```mean()```: Mean of elements\n",
    "- ```sd()```: Standard deviation of the elements\n",
    "- ```var()```: Variation of the elements\n",
    "- ```median()```: Median of elements\n",
    "- ```min()```: Minimum\n",
    "- ```max()```: Maximum\n",
    "- ```range()```: Range of the values\n",
    "- ```summary()```: Summary statistics for the vector\n",
    "- ```unique()```: Returns a vector with the unique values\n",
    "- ```which()```: From a logical statement, returns the indices"
   ]
  },
  {
   "cell_type": "code",
   "execution_count": 19,
   "id": "painted-hartford",
   "metadata": {},
   "outputs": [
    {
     "data": {
      "text/plain": [
       "   Min. 1st Qu.  Median    Mean 3rd Qu.    Max. \n",
       "  1.000   2.500   4.000   6.429   7.500  20.000 "
      ]
     },
     "metadata": {},
     "output_type": "display_data"
    }
   ],
   "source": [
    "x <- c(1, 2, 3, 4, 5, 10, 20)\n",
    "summary(x)"
   ]
  },
  {
   "cell_type": "code",
   "execution_count": 22,
   "id": "excited-shock",
   "metadata": {},
   "outputs": [
    {
     "data": {
      "text/html": [
       "<style>\n",
       ".list-inline {list-style: none; margin:0; padding: 0}\n",
       ".list-inline>li {display: inline-block}\n",
       ".list-inline>li:not(:last-child)::after {content: \"\\00b7\"; padding: 0 .5ex}\n",
       "</style>\n",
       "<ol class=list-inline><li>1</li><li>20</li></ol>\n"
      ],
      "text/latex": [
       "\\begin{enumerate*}\n",
       "\\item 1\n",
       "\\item 20\n",
       "\\end{enumerate*}\n"
      ],
      "text/markdown": [
       "1. 1\n",
       "2. 20\n",
       "\n",
       "\n"
      ],
      "text/plain": [
       "[1]  1 20"
      ]
     },
     "metadata": {},
     "output_type": "display_data"
    }
   ],
   "source": [
    "# returns a two element vector\n",
    "range(x)"
   ]
  },
  {
   "cell_type": "code",
   "execution_count": 23,
   "id": "parallel-handbook",
   "metadata": {},
   "outputs": [
    {
     "data": {
      "text/html": [
       "<style>\n",
       ".list-inline {list-style: none; margin:0; padding: 0}\n",
       ".list-inline>li {display: inline-block}\n",
       ".list-inline>li:not(:last-child)::after {content: \"\\00b7\"; padding: 0 .5ex}\n",
       "</style>\n",
       "<ol class=list-inline><li>6</li><li>7</li></ol>\n"
      ],
      "text/latex": [
       "\\begin{enumerate*}\n",
       "\\item 6\n",
       "\\item 7\n",
       "\\end{enumerate*}\n"
      ],
      "text/markdown": [
       "1. 6\n",
       "2. 7\n",
       "\n",
       "\n"
      ],
      "text/plain": [
       "[1] 6 7"
      ]
     },
     "metadata": {},
     "output_type": "display_data"
    }
   ],
   "source": [
    "# which indices of x correspond to values greater than 6?\n",
    "which(x > 6)"
   ]
  },
  {
   "cell_type": "code",
   "execution_count": 24,
   "id": "native-isaac",
   "metadata": {},
   "outputs": [
    {
     "data": {
      "text/html": [
       "<style>\n",
       ".list-inline {list-style: none; margin:0; padding: 0}\n",
       ".list-inline>li {display: inline-block}\n",
       ".list-inline>li:not(:last-child)::after {content: \"\\00b7\"; padding: 0 .5ex}\n",
       "</style>\n",
       "<ol class=list-inline><li>10</li><li>20</li></ol>\n"
      ],
      "text/latex": [
       "\\begin{enumerate*}\n",
       "\\item 10\n",
       "\\item 20\n",
       "\\end{enumerate*}\n"
      ],
      "text/markdown": [
       "1. 10\n",
       "2. 20\n",
       "\n",
       "\n"
      ],
      "text/plain": [
       "[1] 10 20"
      ]
     },
     "metadata": {},
     "output_type": "display_data"
    },
    {
     "data": {
      "text/html": [
       "<style>\n",
       ".list-inline {list-style: none; margin:0; padding: 0}\n",
       ".list-inline>li {display: inline-block}\n",
       ".list-inline>li:not(:last-child)::after {content: \"\\00b7\"; padding: 0 .5ex}\n",
       "</style>\n",
       "<ol class=list-inline><li>10</li><li>20</li></ol>\n"
      ],
      "text/latex": [
       "\\begin{enumerate*}\n",
       "\\item 10\n",
       "\\item 20\n",
       "\\end{enumerate*}\n"
      ],
      "text/markdown": [
       "1. 10\n",
       "2. 20\n",
       "\n",
       "\n"
      ],
      "text/plain": [
       "[1] 10 20"
      ]
     },
     "metadata": {},
     "output_type": "display_data"
    }
   ],
   "source": [
    "# the following are equivalent\n",
    "x[x > 6]\n",
    "x[which(x > 6)]"
   ]
  },
  {
   "cell_type": "code",
   "execution_count": 26,
   "id": "wanted-lawyer",
   "metadata": {},
   "outputs": [
    {
     "data": {
      "text/html": [
       "2.33333333333333"
      ],
      "text/latex": [
       "2.33333333333333"
      ],
      "text/markdown": [
       "2.33333333333333"
      ],
      "text/plain": [
       "[1] 2.333333"
      ]
     },
     "metadata": {},
     "output_type": "display_data"
    }
   ],
   "source": [
    "# remember to remove missing values for certain functions!\n",
    "mean(c(1, 2, NA, 4), na.rm = TRUE)"
   ]
  },
  {
   "cell_type": "code",
   "execution_count": 27,
   "id": "exposed-trinity",
   "metadata": {},
   "outputs": [
    {
     "data": {
      "text/html": [
       "<style>\n",
       ".list-inline {list-style: none; margin:0; padding: 0}\n",
       ".list-inline>li {display: inline-block}\n",
       ".list-inline>li:not(:last-child)::after {content: \"\\00b7\"; padding: 0 .5ex}\n",
       "</style>\n",
       "<ol class=list-inline><li>10</li><li>2</li><li>3</li><li>4</li><li>5</li><li>10</li><li>20</li></ol>\n"
      ],
      "text/latex": [
       "\\begin{enumerate*}\n",
       "\\item 10\n",
       "\\item 2\n",
       "\\item 3\n",
       "\\item 4\n",
       "\\item 5\n",
       "\\item 10\n",
       "\\item 20\n",
       "\\end{enumerate*}\n"
      ],
      "text/markdown": [
       "1. 10\n",
       "2. 2\n",
       "3. 3\n",
       "4. 4\n",
       "5. 5\n",
       "6. 10\n",
       "7. 20\n",
       "\n",
       "\n"
      ],
      "text/plain": [
       "[1] 10  2  3  4  5 10 20"
      ]
     },
     "metadata": {},
     "output_type": "display_data"
    }
   ],
   "source": [
    "# we can directly alter the elements of the list\n",
    "# this changes the local variable x\n",
    "x[1] <- 10\n",
    "x"
   ]
  },
  {
   "cell_type": "markdown",
   "id": "existing-stretch",
   "metadata": {},
   "source": [
    "### Arithmetic operations and recycling\n",
    "- Standard Linear Algebra operations work as expected\n",
    " * Adding two vectors of the same length\n",
    " * Scaling a vector\n",
    "- Products and Divsion occur element-wise\n",
    "- Vectors of different lengths can be *recycled*\n",
    " * The smaller vector is repeated until it is the necessary size\n",
    " * For vectors of length one, this is similar to *broadcasting* in Python"
   ]
  },
  {
   "cell_type": "code",
   "execution_count": 32,
   "id": "expired-assumption",
   "metadata": {},
   "outputs": [
    {
     "data": {
      "text/html": [
       "<style>\n",
       ".list-inline {list-style: none; margin:0; padding: 0}\n",
       ".list-inline>li {display: inline-block}\n",
       ".list-inline>li:not(:last-child)::after {content: \"\\00b7\"; padding: 0 .5ex}\n",
       "</style>\n",
       "<ol class=list-inline><li>2</li><li>4</li><li>6</li><li>8</li></ol>\n"
      ],
      "text/latex": [
       "\\begin{enumerate*}\n",
       "\\item 2\n",
       "\\item 4\n",
       "\\item 6\n",
       "\\item 8\n",
       "\\end{enumerate*}\n"
      ],
      "text/markdown": [
       "1. 2\n",
       "2. 4\n",
       "3. 6\n",
       "4. 8\n",
       "\n",
       "\n"
      ],
      "text/plain": [
       "[1] 2 4 6 8"
      ]
     },
     "metadata": {},
     "output_type": "display_data"
    }
   ],
   "source": [
    "x <- c(1, 2, 3, 4)\n",
    "y <- c(0, 0, 1, 2)\n"
   ]
  },
  {
   "cell_type": "code",
   "execution_count": 36,
   "id": "horizontal-smith",
   "metadata": {},
   "outputs": [
    {
     "name": "stderr",
     "output_type": "stream",
     "text": [
      "Warning message in x * y:\n",
      "“longer object length is not a multiple of shorter object length”\n"
     ]
    },
    {
     "data": {
      "text/html": [
       "<style>\n",
       ".list-inline {list-style: none; margin:0; padding: 0}\n",
       ".list-inline>li {display: inline-block}\n",
       ".list-inline>li:not(:last-child)::after {content: \"\\00b7\"; padding: 0 .5ex}\n",
       "</style>\n",
       "<ol class=list-inline><li>1</li><li>4</li><li>3</li><li>8</li><li>5</li><li>12</li><li>7</li><li>16</li><li>9</li></ol>\n"
      ],
      "text/latex": [
       "\\begin{enumerate*}\n",
       "\\item 1\n",
       "\\item 4\n",
       "\\item 3\n",
       "\\item 8\n",
       "\\item 5\n",
       "\\item 12\n",
       "\\item 7\n",
       "\\item 16\n",
       "\\item 9\n",
       "\\end{enumerate*}\n"
      ],
      "text/markdown": [
       "1. 1\n",
       "2. 4\n",
       "3. 3\n",
       "4. 8\n",
       "5. 5\n",
       "6. 12\n",
       "7. 7\n",
       "8. 16\n",
       "9. 9\n",
       "\n",
       "\n"
      ],
      "text/plain": [
       "[1]  1  4  3  8  5 12  7 16  9"
      ]
     },
     "metadata": {},
     "output_type": "display_data"
    },
    {
     "data": {
      "text/html": [
       "<style>\n",
       ".list-inline {list-style: none; margin:0; padding: 0}\n",
       ".list-inline>li {display: inline-block}\n",
       ".list-inline>li:not(:last-child)::after {content: \"\\00b7\"; padding: 0 .5ex}\n",
       "</style>\n",
       "<ol class=list-inline><li>1</li><li>4</li><li>3</li><li>8</li><li>5</li><li>12</li><li>7</li><li>16</li><li>9</li></ol>\n"
      ],
      "text/latex": [
       "\\begin{enumerate*}\n",
       "\\item 1\n",
       "\\item 4\n",
       "\\item 3\n",
       "\\item 8\n",
       "\\item 5\n",
       "\\item 12\n",
       "\\item 7\n",
       "\\item 16\n",
       "\\item 9\n",
       "\\end{enumerate*}\n"
      ],
      "text/markdown": [
       "1. 1\n",
       "2. 4\n",
       "3. 3\n",
       "4. 8\n",
       "5. 5\n",
       "6. 12\n",
       "7. 7\n",
       "8. 16\n",
       "9. 9\n",
       "\n",
       "\n"
      ],
      "text/plain": [
       "[1]  1  4  3  8  5 12  7 16  9"
      ]
     },
     "metadata": {},
     "output_type": "display_data"
    }
   ],
   "source": [
    "x <- c(1, 2, 3, 4, 5, 6, 7, 8, 9)\n",
    "y <- c(1, 2)\n",
    "z <- c(1, 2, 1, 2, 1, 2, 1, 2, 1)\n",
    "\n",
    "x*y\n",
    "x*z"
   ]
  },
  {
   "cell_type": "markdown",
   "id": "approved-forward",
   "metadata": {},
   "source": [
    "Attempt\n",
    "\n",
    "1. Create the following four vectors\n",
    "\n",
    "```x <- c(1, 2, 3, 4, 5, 6)```\n",
    "\n",
    "```y <- c(6, 5, 4, 3, 2, 1)```\n",
    "\n",
    "```z <- c(10, 20) ```\n",
    "\n",
    "```w <- c(0, .1) ```\n",
    "\n",
    "2. Add, divide, multiply, and scale the vectors ```x``` and ```y```. Try to guess what the output will be **before** running the code.\n",
    "3. Do the same for ```z``` and ```w```.\n",
    "4. Run ```x + 1```. What happened?\n",
    "5. Run ```x * w``` and ```y + z```. What happened?"
   ]
  },
  {
   "cell_type": "code",
   "execution_count": 37,
   "id": "industrial-breathing",
   "metadata": {},
   "outputs": [],
   "source": [
    "x <- c(1, 2, 3, 4, 5, 6)\n",
    "y <- c(6, 5, 4, 3, 2, 1)\n",
    "z <- c(10, 20)\n",
    "w <- c(0, .1)"
   ]
  },
  {
   "cell_type": "code",
   "execution_count": 42,
   "id": "muslim-despite",
   "metadata": {},
   "outputs": [
    {
     "data": {
      "text/html": [
       "<style>\n",
       ".list-inline {list-style: none; margin:0; padding: 0}\n",
       ".list-inline>li {display: inline-block}\n",
       ".list-inline>li:not(:last-child)::after {content: \"\\00b7\"; padding: 0 .5ex}\n",
       "</style>\n",
       "<ol class=list-inline><li>2</li><li>3</li><li>4</li><li>5</li><li>6</li><li>7</li></ol>\n"
      ],
      "text/latex": [
       "\\begin{enumerate*}\n",
       "\\item 2\n",
       "\\item 3\n",
       "\\item 4\n",
       "\\item 5\n",
       "\\item 6\n",
       "\\item 7\n",
       "\\end{enumerate*}\n"
      ],
      "text/markdown": [
       "1. 2\n",
       "2. 3\n",
       "3. 4\n",
       "4. 5\n",
       "5. 6\n",
       "6. 7\n",
       "\n",
       "\n"
      ],
      "text/plain": [
       "[1] 2 3 4 5 6 7"
      ]
     },
     "metadata": {},
     "output_type": "display_data"
    }
   ],
   "source": [
    "x + 1\n",
    "# x + 1 is equivalent to x + c(1, 1, 1, 1, 1, 1)"
   ]
  },
  {
   "cell_type": "code",
   "execution_count": 44,
   "id": "delayed-blocking",
   "metadata": {},
   "outputs": [
    {
     "data": {
      "text/html": [
       "<style>\n",
       ".list-inline {list-style: none; margin:0; padding: 0}\n",
       ".list-inline>li {display: inline-block}\n",
       ".list-inline>li:not(:last-child)::after {content: \"\\00b7\"; padding: 0 .5ex}\n",
       "</style>\n",
       "<ol class=list-inline><li>0</li><li>0.2</li><li>0</li><li>0.4</li><li>0</li><li>0.6</li></ol>\n"
      ],
      "text/latex": [
       "\\begin{enumerate*}\n",
       "\\item 0\n",
       "\\item 0.2\n",
       "\\item 0\n",
       "\\item 0.4\n",
       "\\item 0\n",
       "\\item 0.6\n",
       "\\end{enumerate*}\n"
      ],
      "text/markdown": [
       "1. 0\n",
       "2. 0.2\n",
       "3. 0\n",
       "4. 0.4\n",
       "5. 0\n",
       "6. 0.6\n",
       "\n",
       "\n"
      ],
      "text/plain": [
       "[1] 0.0 0.2 0.0 0.4 0.0 0.6"
      ]
     },
     "metadata": {},
     "output_type": "display_data"
    },
    {
     "data": {
      "text/html": [
       "<style>\n",
       ".list-inline {list-style: none; margin:0; padding: 0}\n",
       ".list-inline>li {display: inline-block}\n",
       ".list-inline>li:not(:last-child)::after {content: \"\\00b7\"; padding: 0 .5ex}\n",
       "</style>\n",
       "<ol class=list-inline><li>60</li><li>100</li><li>40</li><li>60</li><li>20</li><li>20</li></ol>\n"
      ],
      "text/latex": [
       "\\begin{enumerate*}\n",
       "\\item 60\n",
       "\\item 100\n",
       "\\item 40\n",
       "\\item 60\n",
       "\\item 20\n",
       "\\item 20\n",
       "\\end{enumerate*}\n"
      ],
      "text/markdown": [
       "1. 60\n",
       "2. 100\n",
       "3. 40\n",
       "4. 60\n",
       "5. 20\n",
       "6. 20\n",
       "\n",
       "\n"
      ],
      "text/plain": [
       "[1]  60 100  40  60  20  20"
      ]
     },
     "metadata": {},
     "output_type": "display_data"
    }
   ],
   "source": [
    "x * w\n",
    "y * z"
   ]
  },
  {
   "cell_type": "code",
   "execution_count": 46,
   "id": "expressed-footwear",
   "metadata": {
    "scrolled": true
   },
   "outputs": [
    {
     "data": {
      "text/html": [
       "<table class=\"dataframe\">\n",
       "<caption>A tibble: 234 × 11</caption>\n",
       "<thead>\n",
       "\t<tr><th scope=col>manufacturer</th><th scope=col>model</th><th scope=col>displ</th><th scope=col>year</th><th scope=col>cyl</th><th scope=col>trans</th><th scope=col>drv</th><th scope=col>cty</th><th scope=col>hwy</th><th scope=col>fl</th><th scope=col>class</th></tr>\n",
       "\t<tr><th scope=col>&lt;chr&gt;</th><th scope=col>&lt;chr&gt;</th><th scope=col>&lt;dbl&gt;</th><th scope=col>&lt;int&gt;</th><th scope=col>&lt;int&gt;</th><th scope=col>&lt;chr&gt;</th><th scope=col>&lt;chr&gt;</th><th scope=col>&lt;int&gt;</th><th scope=col>&lt;int&gt;</th><th scope=col>&lt;chr&gt;</th><th scope=col>&lt;chr&gt;</th></tr>\n",
       "</thead>\n",
       "<tbody>\n",
       "\t<tr><td>audi     </td><td>a4                </td><td>1.8</td><td>1999</td><td>4</td><td>auto(l5)  </td><td>f</td><td>18</td><td>29</td><td>p</td><td>compact</td></tr>\n",
       "\t<tr><td>audi     </td><td>a4                </td><td>1.8</td><td>1999</td><td>4</td><td>manual(m5)</td><td>f</td><td>21</td><td>29</td><td>p</td><td>compact</td></tr>\n",
       "\t<tr><td>audi     </td><td>a4                </td><td>2.0</td><td>2008</td><td>4</td><td>manual(m6)</td><td>f</td><td>20</td><td>31</td><td>p</td><td>compact</td></tr>\n",
       "\t<tr><td>audi     </td><td>a4                </td><td>2.0</td><td>2008</td><td>4</td><td>auto(av)  </td><td>f</td><td>21</td><td>30</td><td>p</td><td>compact</td></tr>\n",
       "\t<tr><td>audi     </td><td>a4                </td><td>2.8</td><td>1999</td><td>6</td><td>auto(l5)  </td><td>f</td><td>16</td><td>26</td><td>p</td><td>compact</td></tr>\n",
       "\t<tr><td>audi     </td><td>a4                </td><td>2.8</td><td>1999</td><td>6</td><td>manual(m5)</td><td>f</td><td>18</td><td>26</td><td>p</td><td>compact</td></tr>\n",
       "\t<tr><td>audi     </td><td>a4                </td><td>3.1</td><td>2008</td><td>6</td><td>auto(av)  </td><td>f</td><td>18</td><td>27</td><td>p</td><td>compact</td></tr>\n",
       "\t<tr><td>audi     </td><td>a4 quattro        </td><td>1.8</td><td>1999</td><td>4</td><td>manual(m5)</td><td>4</td><td>18</td><td>26</td><td>p</td><td>compact</td></tr>\n",
       "\t<tr><td>audi     </td><td>a4 quattro        </td><td>1.8</td><td>1999</td><td>4</td><td>auto(l5)  </td><td>4</td><td>16</td><td>25</td><td>p</td><td>compact</td></tr>\n",
       "\t<tr><td>audi     </td><td>a4 quattro        </td><td>2.0</td><td>2008</td><td>4</td><td>manual(m6)</td><td>4</td><td>20</td><td>28</td><td>p</td><td>compact</td></tr>\n",
       "\t<tr><td>audi     </td><td>a4 quattro        </td><td>2.0</td><td>2008</td><td>4</td><td>auto(s6)  </td><td>4</td><td>19</td><td>27</td><td>p</td><td>compact</td></tr>\n",
       "\t<tr><td>audi     </td><td>a4 quattro        </td><td>2.8</td><td>1999</td><td>6</td><td>auto(l5)  </td><td>4</td><td>15</td><td>25</td><td>p</td><td>compact</td></tr>\n",
       "\t<tr><td>audi     </td><td>a4 quattro        </td><td>2.8</td><td>1999</td><td>6</td><td>manual(m5)</td><td>4</td><td>17</td><td>25</td><td>p</td><td>compact</td></tr>\n",
       "\t<tr><td>audi     </td><td>a4 quattro        </td><td>3.1</td><td>2008</td><td>6</td><td>auto(s6)  </td><td>4</td><td>17</td><td>25</td><td>p</td><td>compact</td></tr>\n",
       "\t<tr><td>audi     </td><td>a4 quattro        </td><td>3.1</td><td>2008</td><td>6</td><td>manual(m6)</td><td>4</td><td>15</td><td>25</td><td>p</td><td>compact</td></tr>\n",
       "\t<tr><td>audi     </td><td>a6 quattro        </td><td>2.8</td><td>1999</td><td>6</td><td>auto(l5)  </td><td>4</td><td>15</td><td>24</td><td>p</td><td>midsize</td></tr>\n",
       "\t<tr><td>audi     </td><td>a6 quattro        </td><td>3.1</td><td>2008</td><td>6</td><td>auto(s6)  </td><td>4</td><td>17</td><td>25</td><td>p</td><td>midsize</td></tr>\n",
       "\t<tr><td>audi     </td><td>a6 quattro        </td><td>4.2</td><td>2008</td><td>8</td><td>auto(s6)  </td><td>4</td><td>16</td><td>23</td><td>p</td><td>midsize</td></tr>\n",
       "\t<tr><td>chevrolet</td><td>c1500 suburban 2wd</td><td>5.3</td><td>2008</td><td>8</td><td>auto(l4)  </td><td>r</td><td>14</td><td>20</td><td>r</td><td>suv    </td></tr>\n",
       "\t<tr><td>chevrolet</td><td>c1500 suburban 2wd</td><td>5.3</td><td>2008</td><td>8</td><td>auto(l4)  </td><td>r</td><td>11</td><td>15</td><td>e</td><td>suv    </td></tr>\n",
       "\t<tr><td>chevrolet</td><td>c1500 suburban 2wd</td><td>5.3</td><td>2008</td><td>8</td><td>auto(l4)  </td><td>r</td><td>14</td><td>20</td><td>r</td><td>suv    </td></tr>\n",
       "\t<tr><td>chevrolet</td><td>c1500 suburban 2wd</td><td>5.7</td><td>1999</td><td>8</td><td>auto(l4)  </td><td>r</td><td>13</td><td>17</td><td>r</td><td>suv    </td></tr>\n",
       "\t<tr><td>chevrolet</td><td>c1500 suburban 2wd</td><td>6.0</td><td>2008</td><td>8</td><td>auto(l4)  </td><td>r</td><td>12</td><td>17</td><td>r</td><td>suv    </td></tr>\n",
       "\t<tr><td>chevrolet</td><td>corvette          </td><td>5.7</td><td>1999</td><td>8</td><td>manual(m6)</td><td>r</td><td>16</td><td>26</td><td>p</td><td>2seater</td></tr>\n",
       "\t<tr><td>chevrolet</td><td>corvette          </td><td>5.7</td><td>1999</td><td>8</td><td>auto(l4)  </td><td>r</td><td>15</td><td>23</td><td>p</td><td>2seater</td></tr>\n",
       "\t<tr><td>chevrolet</td><td>corvette          </td><td>6.2</td><td>2008</td><td>8</td><td>manual(m6)</td><td>r</td><td>16</td><td>26</td><td>p</td><td>2seater</td></tr>\n",
       "\t<tr><td>chevrolet</td><td>corvette          </td><td>6.2</td><td>2008</td><td>8</td><td>auto(s6)  </td><td>r</td><td>15</td><td>25</td><td>p</td><td>2seater</td></tr>\n",
       "\t<tr><td>chevrolet</td><td>corvette          </td><td>7.0</td><td>2008</td><td>8</td><td>manual(m6)</td><td>r</td><td>15</td><td>24</td><td>p</td><td>2seater</td></tr>\n",
       "\t<tr><td>chevrolet</td><td>k1500 tahoe 4wd   </td><td>5.3</td><td>2008</td><td>8</td><td>auto(l4)  </td><td>4</td><td>14</td><td>19</td><td>r</td><td>suv    </td></tr>\n",
       "\t<tr><td>chevrolet</td><td>k1500 tahoe 4wd   </td><td>5.3</td><td>2008</td><td>8</td><td>auto(l4)  </td><td>4</td><td>11</td><td>14</td><td>e</td><td>suv    </td></tr>\n",
       "\t<tr><td>⋮</td><td>⋮</td><td>⋮</td><td>⋮</td><td>⋮</td><td>⋮</td><td>⋮</td><td>⋮</td><td>⋮</td><td>⋮</td><td>⋮</td></tr>\n",
       "\t<tr><td>toyota    </td><td>toyota tacoma 4wd</td><td>3.4</td><td>1999</td><td>6</td><td>auto(l4)  </td><td>4</td><td>15</td><td>19</td><td>r</td><td>pickup    </td></tr>\n",
       "\t<tr><td>toyota    </td><td>toyota tacoma 4wd</td><td>4.0</td><td>2008</td><td>6</td><td>manual(m6)</td><td>4</td><td>15</td><td>18</td><td>r</td><td>pickup    </td></tr>\n",
       "\t<tr><td>toyota    </td><td>toyota tacoma 4wd</td><td>4.0</td><td>2008</td><td>6</td><td>auto(l5)  </td><td>4</td><td>16</td><td>20</td><td>r</td><td>pickup    </td></tr>\n",
       "\t<tr><td>volkswagen</td><td>gti              </td><td>2.0</td><td>1999</td><td>4</td><td>manual(m5)</td><td>f</td><td>21</td><td>29</td><td>r</td><td>compact   </td></tr>\n",
       "\t<tr><td>volkswagen</td><td>gti              </td><td>2.0</td><td>1999</td><td>4</td><td>auto(l4)  </td><td>f</td><td>19</td><td>26</td><td>r</td><td>compact   </td></tr>\n",
       "\t<tr><td>volkswagen</td><td>gti              </td><td>2.0</td><td>2008</td><td>4</td><td>manual(m6)</td><td>f</td><td>21</td><td>29</td><td>p</td><td>compact   </td></tr>\n",
       "\t<tr><td>volkswagen</td><td>gti              </td><td>2.0</td><td>2008</td><td>4</td><td>auto(s6)  </td><td>f</td><td>22</td><td>29</td><td>p</td><td>compact   </td></tr>\n",
       "\t<tr><td>volkswagen</td><td>gti              </td><td>2.8</td><td>1999</td><td>6</td><td>manual(m5)</td><td>f</td><td>17</td><td>24</td><td>r</td><td>compact   </td></tr>\n",
       "\t<tr><td>volkswagen</td><td>jetta            </td><td>1.9</td><td>1999</td><td>4</td><td>manual(m5)</td><td>f</td><td>33</td><td>44</td><td>d</td><td>compact   </td></tr>\n",
       "\t<tr><td>volkswagen</td><td>jetta            </td><td>2.0</td><td>1999</td><td>4</td><td>manual(m5)</td><td>f</td><td>21</td><td>29</td><td>r</td><td>compact   </td></tr>\n",
       "\t<tr><td>volkswagen</td><td>jetta            </td><td>2.0</td><td>1999</td><td>4</td><td>auto(l4)  </td><td>f</td><td>19</td><td>26</td><td>r</td><td>compact   </td></tr>\n",
       "\t<tr><td>volkswagen</td><td>jetta            </td><td>2.0</td><td>2008</td><td>4</td><td>auto(s6)  </td><td>f</td><td>22</td><td>29</td><td>p</td><td>compact   </td></tr>\n",
       "\t<tr><td>volkswagen</td><td>jetta            </td><td>2.0</td><td>2008</td><td>4</td><td>manual(m6)</td><td>f</td><td>21</td><td>29</td><td>p</td><td>compact   </td></tr>\n",
       "\t<tr><td>volkswagen</td><td>jetta            </td><td>2.5</td><td>2008</td><td>5</td><td>auto(s6)  </td><td>f</td><td>21</td><td>29</td><td>r</td><td>compact   </td></tr>\n",
       "\t<tr><td>volkswagen</td><td>jetta            </td><td>2.5</td><td>2008</td><td>5</td><td>manual(m5)</td><td>f</td><td>21</td><td>29</td><td>r</td><td>compact   </td></tr>\n",
       "\t<tr><td>volkswagen</td><td>jetta            </td><td>2.8</td><td>1999</td><td>6</td><td>auto(l4)  </td><td>f</td><td>16</td><td>23</td><td>r</td><td>compact   </td></tr>\n",
       "\t<tr><td>volkswagen</td><td>jetta            </td><td>2.8</td><td>1999</td><td>6</td><td>manual(m5)</td><td>f</td><td>17</td><td>24</td><td>r</td><td>compact   </td></tr>\n",
       "\t<tr><td>volkswagen</td><td>new beetle       </td><td>1.9</td><td>1999</td><td>4</td><td>manual(m5)</td><td>f</td><td>35</td><td>44</td><td>d</td><td>subcompact</td></tr>\n",
       "\t<tr><td>volkswagen</td><td>new beetle       </td><td>1.9</td><td>1999</td><td>4</td><td>auto(l4)  </td><td>f</td><td>29</td><td>41</td><td>d</td><td>subcompact</td></tr>\n",
       "\t<tr><td>volkswagen</td><td>new beetle       </td><td>2.0</td><td>1999</td><td>4</td><td>manual(m5)</td><td>f</td><td>21</td><td>29</td><td>r</td><td>subcompact</td></tr>\n",
       "\t<tr><td>volkswagen</td><td>new beetle       </td><td>2.0</td><td>1999</td><td>4</td><td>auto(l4)  </td><td>f</td><td>19</td><td>26</td><td>r</td><td>subcompact</td></tr>\n",
       "\t<tr><td>volkswagen</td><td>new beetle       </td><td>2.5</td><td>2008</td><td>5</td><td>manual(m5)</td><td>f</td><td>20</td><td>28</td><td>r</td><td>subcompact</td></tr>\n",
       "\t<tr><td>volkswagen</td><td>new beetle       </td><td>2.5</td><td>2008</td><td>5</td><td>auto(s6)  </td><td>f</td><td>20</td><td>29</td><td>r</td><td>subcompact</td></tr>\n",
       "\t<tr><td>volkswagen</td><td>passat           </td><td>1.8</td><td>1999</td><td>4</td><td>manual(m5)</td><td>f</td><td>21</td><td>29</td><td>p</td><td>midsize   </td></tr>\n",
       "\t<tr><td>volkswagen</td><td>passat           </td><td>1.8</td><td>1999</td><td>4</td><td>auto(l5)  </td><td>f</td><td>18</td><td>29</td><td>p</td><td>midsize   </td></tr>\n",
       "\t<tr><td>volkswagen</td><td>passat           </td><td>2.0</td><td>2008</td><td>4</td><td>auto(s6)  </td><td>f</td><td>19</td><td>28</td><td>p</td><td>midsize   </td></tr>\n",
       "\t<tr><td>volkswagen</td><td>passat           </td><td>2.0</td><td>2008</td><td>4</td><td>manual(m6)</td><td>f</td><td>21</td><td>29</td><td>p</td><td>midsize   </td></tr>\n",
       "\t<tr><td>volkswagen</td><td>passat           </td><td>2.8</td><td>1999</td><td>6</td><td>auto(l5)  </td><td>f</td><td>16</td><td>26</td><td>p</td><td>midsize   </td></tr>\n",
       "\t<tr><td>volkswagen</td><td>passat           </td><td>2.8</td><td>1999</td><td>6</td><td>manual(m5)</td><td>f</td><td>18</td><td>26</td><td>p</td><td>midsize   </td></tr>\n",
       "\t<tr><td>volkswagen</td><td>passat           </td><td>3.6</td><td>2008</td><td>6</td><td>auto(s6)  </td><td>f</td><td>17</td><td>26</td><td>p</td><td>midsize   </td></tr>\n",
       "</tbody>\n",
       "</table>\n"
      ],
      "text/latex": [
       "A tibble: 234 × 11\n",
       "\\begin{tabular}{lllllllllll}\n",
       " manufacturer & model & displ & year & cyl & trans & drv & cty & hwy & fl & class\\\\\n",
       " <chr> & <chr> & <dbl> & <int> & <int> & <chr> & <chr> & <int> & <int> & <chr> & <chr>\\\\\n",
       "\\hline\n",
       "\t audi      & a4                 & 1.8 & 1999 & 4 & auto(l5)   & f & 18 & 29 & p & compact\\\\\n",
       "\t audi      & a4                 & 1.8 & 1999 & 4 & manual(m5) & f & 21 & 29 & p & compact\\\\\n",
       "\t audi      & a4                 & 2.0 & 2008 & 4 & manual(m6) & f & 20 & 31 & p & compact\\\\\n",
       "\t audi      & a4                 & 2.0 & 2008 & 4 & auto(av)   & f & 21 & 30 & p & compact\\\\\n",
       "\t audi      & a4                 & 2.8 & 1999 & 6 & auto(l5)   & f & 16 & 26 & p & compact\\\\\n",
       "\t audi      & a4                 & 2.8 & 1999 & 6 & manual(m5) & f & 18 & 26 & p & compact\\\\\n",
       "\t audi      & a4                 & 3.1 & 2008 & 6 & auto(av)   & f & 18 & 27 & p & compact\\\\\n",
       "\t audi      & a4 quattro         & 1.8 & 1999 & 4 & manual(m5) & 4 & 18 & 26 & p & compact\\\\\n",
       "\t audi      & a4 quattro         & 1.8 & 1999 & 4 & auto(l5)   & 4 & 16 & 25 & p & compact\\\\\n",
       "\t audi      & a4 quattro         & 2.0 & 2008 & 4 & manual(m6) & 4 & 20 & 28 & p & compact\\\\\n",
       "\t audi      & a4 quattro         & 2.0 & 2008 & 4 & auto(s6)   & 4 & 19 & 27 & p & compact\\\\\n",
       "\t audi      & a4 quattro         & 2.8 & 1999 & 6 & auto(l5)   & 4 & 15 & 25 & p & compact\\\\\n",
       "\t audi      & a4 quattro         & 2.8 & 1999 & 6 & manual(m5) & 4 & 17 & 25 & p & compact\\\\\n",
       "\t audi      & a4 quattro         & 3.1 & 2008 & 6 & auto(s6)   & 4 & 17 & 25 & p & compact\\\\\n",
       "\t audi      & a4 quattro         & 3.1 & 2008 & 6 & manual(m6) & 4 & 15 & 25 & p & compact\\\\\n",
       "\t audi      & a6 quattro         & 2.8 & 1999 & 6 & auto(l5)   & 4 & 15 & 24 & p & midsize\\\\\n",
       "\t audi      & a6 quattro         & 3.1 & 2008 & 6 & auto(s6)   & 4 & 17 & 25 & p & midsize\\\\\n",
       "\t audi      & a6 quattro         & 4.2 & 2008 & 8 & auto(s6)   & 4 & 16 & 23 & p & midsize\\\\\n",
       "\t chevrolet & c1500 suburban 2wd & 5.3 & 2008 & 8 & auto(l4)   & r & 14 & 20 & r & suv    \\\\\n",
       "\t chevrolet & c1500 suburban 2wd & 5.3 & 2008 & 8 & auto(l4)   & r & 11 & 15 & e & suv    \\\\\n",
       "\t chevrolet & c1500 suburban 2wd & 5.3 & 2008 & 8 & auto(l4)   & r & 14 & 20 & r & suv    \\\\\n",
       "\t chevrolet & c1500 suburban 2wd & 5.7 & 1999 & 8 & auto(l4)   & r & 13 & 17 & r & suv    \\\\\n",
       "\t chevrolet & c1500 suburban 2wd & 6.0 & 2008 & 8 & auto(l4)   & r & 12 & 17 & r & suv    \\\\\n",
       "\t chevrolet & corvette           & 5.7 & 1999 & 8 & manual(m6) & r & 16 & 26 & p & 2seater\\\\\n",
       "\t chevrolet & corvette           & 5.7 & 1999 & 8 & auto(l4)   & r & 15 & 23 & p & 2seater\\\\\n",
       "\t chevrolet & corvette           & 6.2 & 2008 & 8 & manual(m6) & r & 16 & 26 & p & 2seater\\\\\n",
       "\t chevrolet & corvette           & 6.2 & 2008 & 8 & auto(s6)   & r & 15 & 25 & p & 2seater\\\\\n",
       "\t chevrolet & corvette           & 7.0 & 2008 & 8 & manual(m6) & r & 15 & 24 & p & 2seater\\\\\n",
       "\t chevrolet & k1500 tahoe 4wd    & 5.3 & 2008 & 8 & auto(l4)   & 4 & 14 & 19 & r & suv    \\\\\n",
       "\t chevrolet & k1500 tahoe 4wd    & 5.3 & 2008 & 8 & auto(l4)   & 4 & 11 & 14 & e & suv    \\\\\n",
       "\t ⋮ & ⋮ & ⋮ & ⋮ & ⋮ & ⋮ & ⋮ & ⋮ & ⋮ & ⋮ & ⋮\\\\\n",
       "\t toyota     & toyota tacoma 4wd & 3.4 & 1999 & 6 & auto(l4)   & 4 & 15 & 19 & r & pickup    \\\\\n",
       "\t toyota     & toyota tacoma 4wd & 4.0 & 2008 & 6 & manual(m6) & 4 & 15 & 18 & r & pickup    \\\\\n",
       "\t toyota     & toyota tacoma 4wd & 4.0 & 2008 & 6 & auto(l5)   & 4 & 16 & 20 & r & pickup    \\\\\n",
       "\t volkswagen & gti               & 2.0 & 1999 & 4 & manual(m5) & f & 21 & 29 & r & compact   \\\\\n",
       "\t volkswagen & gti               & 2.0 & 1999 & 4 & auto(l4)   & f & 19 & 26 & r & compact   \\\\\n",
       "\t volkswagen & gti               & 2.0 & 2008 & 4 & manual(m6) & f & 21 & 29 & p & compact   \\\\\n",
       "\t volkswagen & gti               & 2.0 & 2008 & 4 & auto(s6)   & f & 22 & 29 & p & compact   \\\\\n",
       "\t volkswagen & gti               & 2.8 & 1999 & 6 & manual(m5) & f & 17 & 24 & r & compact   \\\\\n",
       "\t volkswagen & jetta             & 1.9 & 1999 & 4 & manual(m5) & f & 33 & 44 & d & compact   \\\\\n",
       "\t volkswagen & jetta             & 2.0 & 1999 & 4 & manual(m5) & f & 21 & 29 & r & compact   \\\\\n",
       "\t volkswagen & jetta             & 2.0 & 1999 & 4 & auto(l4)   & f & 19 & 26 & r & compact   \\\\\n",
       "\t volkswagen & jetta             & 2.0 & 2008 & 4 & auto(s6)   & f & 22 & 29 & p & compact   \\\\\n",
       "\t volkswagen & jetta             & 2.0 & 2008 & 4 & manual(m6) & f & 21 & 29 & p & compact   \\\\\n",
       "\t volkswagen & jetta             & 2.5 & 2008 & 5 & auto(s6)   & f & 21 & 29 & r & compact   \\\\\n",
       "\t volkswagen & jetta             & 2.5 & 2008 & 5 & manual(m5) & f & 21 & 29 & r & compact   \\\\\n",
       "\t volkswagen & jetta             & 2.8 & 1999 & 6 & auto(l4)   & f & 16 & 23 & r & compact   \\\\\n",
       "\t volkswagen & jetta             & 2.8 & 1999 & 6 & manual(m5) & f & 17 & 24 & r & compact   \\\\\n",
       "\t volkswagen & new beetle        & 1.9 & 1999 & 4 & manual(m5) & f & 35 & 44 & d & subcompact\\\\\n",
       "\t volkswagen & new beetle        & 1.9 & 1999 & 4 & auto(l4)   & f & 29 & 41 & d & subcompact\\\\\n",
       "\t volkswagen & new beetle        & 2.0 & 1999 & 4 & manual(m5) & f & 21 & 29 & r & subcompact\\\\\n",
       "\t volkswagen & new beetle        & 2.0 & 1999 & 4 & auto(l4)   & f & 19 & 26 & r & subcompact\\\\\n",
       "\t volkswagen & new beetle        & 2.5 & 2008 & 5 & manual(m5) & f & 20 & 28 & r & subcompact\\\\\n",
       "\t volkswagen & new beetle        & 2.5 & 2008 & 5 & auto(s6)   & f & 20 & 29 & r & subcompact\\\\\n",
       "\t volkswagen & passat            & 1.8 & 1999 & 4 & manual(m5) & f & 21 & 29 & p & midsize   \\\\\n",
       "\t volkswagen & passat            & 1.8 & 1999 & 4 & auto(l5)   & f & 18 & 29 & p & midsize   \\\\\n",
       "\t volkswagen & passat            & 2.0 & 2008 & 4 & auto(s6)   & f & 19 & 28 & p & midsize   \\\\\n",
       "\t volkswagen & passat            & 2.0 & 2008 & 4 & manual(m6) & f & 21 & 29 & p & midsize   \\\\\n",
       "\t volkswagen & passat            & 2.8 & 1999 & 6 & auto(l5)   & f & 16 & 26 & p & midsize   \\\\\n",
       "\t volkswagen & passat            & 2.8 & 1999 & 6 & manual(m5) & f & 18 & 26 & p & midsize   \\\\\n",
       "\t volkswagen & passat            & 3.6 & 2008 & 6 & auto(s6)   & f & 17 & 26 & p & midsize   \\\\\n",
       "\\end{tabular}\n"
      ],
      "text/markdown": [
       "\n",
       "A tibble: 234 × 11\n",
       "\n",
       "| manufacturer &lt;chr&gt; | model &lt;chr&gt; | displ &lt;dbl&gt; | year &lt;int&gt; | cyl &lt;int&gt; | trans &lt;chr&gt; | drv &lt;chr&gt; | cty &lt;int&gt; | hwy &lt;int&gt; | fl &lt;chr&gt; | class &lt;chr&gt; |\n",
       "|---|---|---|---|---|---|---|---|---|---|---|\n",
       "| audi      | a4                 | 1.8 | 1999 | 4 | auto(l5)   | f | 18 | 29 | p | compact |\n",
       "| audi      | a4                 | 1.8 | 1999 | 4 | manual(m5) | f | 21 | 29 | p | compact |\n",
       "| audi      | a4                 | 2.0 | 2008 | 4 | manual(m6) | f | 20 | 31 | p | compact |\n",
       "| audi      | a4                 | 2.0 | 2008 | 4 | auto(av)   | f | 21 | 30 | p | compact |\n",
       "| audi      | a4                 | 2.8 | 1999 | 6 | auto(l5)   | f | 16 | 26 | p | compact |\n",
       "| audi      | a4                 | 2.8 | 1999 | 6 | manual(m5) | f | 18 | 26 | p | compact |\n",
       "| audi      | a4                 | 3.1 | 2008 | 6 | auto(av)   | f | 18 | 27 | p | compact |\n",
       "| audi      | a4 quattro         | 1.8 | 1999 | 4 | manual(m5) | 4 | 18 | 26 | p | compact |\n",
       "| audi      | a4 quattro         | 1.8 | 1999 | 4 | auto(l5)   | 4 | 16 | 25 | p | compact |\n",
       "| audi      | a4 quattro         | 2.0 | 2008 | 4 | manual(m6) | 4 | 20 | 28 | p | compact |\n",
       "| audi      | a4 quattro         | 2.0 | 2008 | 4 | auto(s6)   | 4 | 19 | 27 | p | compact |\n",
       "| audi      | a4 quattro         | 2.8 | 1999 | 6 | auto(l5)   | 4 | 15 | 25 | p | compact |\n",
       "| audi      | a4 quattro         | 2.8 | 1999 | 6 | manual(m5) | 4 | 17 | 25 | p | compact |\n",
       "| audi      | a4 quattro         | 3.1 | 2008 | 6 | auto(s6)   | 4 | 17 | 25 | p | compact |\n",
       "| audi      | a4 quattro         | 3.1 | 2008 | 6 | manual(m6) | 4 | 15 | 25 | p | compact |\n",
       "| audi      | a6 quattro         | 2.8 | 1999 | 6 | auto(l5)   | 4 | 15 | 24 | p | midsize |\n",
       "| audi      | a6 quattro         | 3.1 | 2008 | 6 | auto(s6)   | 4 | 17 | 25 | p | midsize |\n",
       "| audi      | a6 quattro         | 4.2 | 2008 | 8 | auto(s6)   | 4 | 16 | 23 | p | midsize |\n",
       "| chevrolet | c1500 suburban 2wd | 5.3 | 2008 | 8 | auto(l4)   | r | 14 | 20 | r | suv     |\n",
       "| chevrolet | c1500 suburban 2wd | 5.3 | 2008 | 8 | auto(l4)   | r | 11 | 15 | e | suv     |\n",
       "| chevrolet | c1500 suburban 2wd | 5.3 | 2008 | 8 | auto(l4)   | r | 14 | 20 | r | suv     |\n",
       "| chevrolet | c1500 suburban 2wd | 5.7 | 1999 | 8 | auto(l4)   | r | 13 | 17 | r | suv     |\n",
       "| chevrolet | c1500 suburban 2wd | 6.0 | 2008 | 8 | auto(l4)   | r | 12 | 17 | r | suv     |\n",
       "| chevrolet | corvette           | 5.7 | 1999 | 8 | manual(m6) | r | 16 | 26 | p | 2seater |\n",
       "| chevrolet | corvette           | 5.7 | 1999 | 8 | auto(l4)   | r | 15 | 23 | p | 2seater |\n",
       "| chevrolet | corvette           | 6.2 | 2008 | 8 | manual(m6) | r | 16 | 26 | p | 2seater |\n",
       "| chevrolet | corvette           | 6.2 | 2008 | 8 | auto(s6)   | r | 15 | 25 | p | 2seater |\n",
       "| chevrolet | corvette           | 7.0 | 2008 | 8 | manual(m6) | r | 15 | 24 | p | 2seater |\n",
       "| chevrolet | k1500 tahoe 4wd    | 5.3 | 2008 | 8 | auto(l4)   | 4 | 14 | 19 | r | suv     |\n",
       "| chevrolet | k1500 tahoe 4wd    | 5.3 | 2008 | 8 | auto(l4)   | 4 | 11 | 14 | e | suv     |\n",
       "| ⋮ | ⋮ | ⋮ | ⋮ | ⋮ | ⋮ | ⋮ | ⋮ | ⋮ | ⋮ | ⋮ |\n",
       "| toyota     | toyota tacoma 4wd | 3.4 | 1999 | 6 | auto(l4)   | 4 | 15 | 19 | r | pickup     |\n",
       "| toyota     | toyota tacoma 4wd | 4.0 | 2008 | 6 | manual(m6) | 4 | 15 | 18 | r | pickup     |\n",
       "| toyota     | toyota tacoma 4wd | 4.0 | 2008 | 6 | auto(l5)   | 4 | 16 | 20 | r | pickup     |\n",
       "| volkswagen | gti               | 2.0 | 1999 | 4 | manual(m5) | f | 21 | 29 | r | compact    |\n",
       "| volkswagen | gti               | 2.0 | 1999 | 4 | auto(l4)   | f | 19 | 26 | r | compact    |\n",
       "| volkswagen | gti               | 2.0 | 2008 | 4 | manual(m6) | f | 21 | 29 | p | compact    |\n",
       "| volkswagen | gti               | 2.0 | 2008 | 4 | auto(s6)   | f | 22 | 29 | p | compact    |\n",
       "| volkswagen | gti               | 2.8 | 1999 | 6 | manual(m5) | f | 17 | 24 | r | compact    |\n",
       "| volkswagen | jetta             | 1.9 | 1999 | 4 | manual(m5) | f | 33 | 44 | d | compact    |\n",
       "| volkswagen | jetta             | 2.0 | 1999 | 4 | manual(m5) | f | 21 | 29 | r | compact    |\n",
       "| volkswagen | jetta             | 2.0 | 1999 | 4 | auto(l4)   | f | 19 | 26 | r | compact    |\n",
       "| volkswagen | jetta             | 2.0 | 2008 | 4 | auto(s6)   | f | 22 | 29 | p | compact    |\n",
       "| volkswagen | jetta             | 2.0 | 2008 | 4 | manual(m6) | f | 21 | 29 | p | compact    |\n",
       "| volkswagen | jetta             | 2.5 | 2008 | 5 | auto(s6)   | f | 21 | 29 | r | compact    |\n",
       "| volkswagen | jetta             | 2.5 | 2008 | 5 | manual(m5) | f | 21 | 29 | r | compact    |\n",
       "| volkswagen | jetta             | 2.8 | 1999 | 6 | auto(l4)   | f | 16 | 23 | r | compact    |\n",
       "| volkswagen | jetta             | 2.8 | 1999 | 6 | manual(m5) | f | 17 | 24 | r | compact    |\n",
       "| volkswagen | new beetle        | 1.9 | 1999 | 4 | manual(m5) | f | 35 | 44 | d | subcompact |\n",
       "| volkswagen | new beetle        | 1.9 | 1999 | 4 | auto(l4)   | f | 29 | 41 | d | subcompact |\n",
       "| volkswagen | new beetle        | 2.0 | 1999 | 4 | manual(m5) | f | 21 | 29 | r | subcompact |\n",
       "| volkswagen | new beetle        | 2.0 | 1999 | 4 | auto(l4)   | f | 19 | 26 | r | subcompact |\n",
       "| volkswagen | new beetle        | 2.5 | 2008 | 5 | manual(m5) | f | 20 | 28 | r | subcompact |\n",
       "| volkswagen | new beetle        | 2.5 | 2008 | 5 | auto(s6)   | f | 20 | 29 | r | subcompact |\n",
       "| volkswagen | passat            | 1.8 | 1999 | 4 | manual(m5) | f | 21 | 29 | p | midsize    |\n",
       "| volkswagen | passat            | 1.8 | 1999 | 4 | auto(l5)   | f | 18 | 29 | p | midsize    |\n",
       "| volkswagen | passat            | 2.0 | 2008 | 4 | auto(s6)   | f | 19 | 28 | p | midsize    |\n",
       "| volkswagen | passat            | 2.0 | 2008 | 4 | manual(m6) | f | 21 | 29 | p | midsize    |\n",
       "| volkswagen | passat            | 2.8 | 1999 | 6 | auto(l5)   | f | 16 | 26 | p | midsize    |\n",
       "| volkswagen | passat            | 2.8 | 1999 | 6 | manual(m5) | f | 18 | 26 | p | midsize    |\n",
       "| volkswagen | passat            | 3.6 | 2008 | 6 | auto(s6)   | f | 17 | 26 | p | midsize    |\n",
       "\n"
      ],
      "text/plain": [
       "    manufacturer model              displ year cyl trans      drv cty hwy fl\n",
       "1   audi         a4                 1.8   1999 4   auto(l5)   f   18  29  p \n",
       "2   audi         a4                 1.8   1999 4   manual(m5) f   21  29  p \n",
       "3   audi         a4                 2.0   2008 4   manual(m6) f   20  31  p \n",
       "4   audi         a4                 2.0   2008 4   auto(av)   f   21  30  p \n",
       "5   audi         a4                 2.8   1999 6   auto(l5)   f   16  26  p \n",
       "6   audi         a4                 2.8   1999 6   manual(m5) f   18  26  p \n",
       "7   audi         a4                 3.1   2008 6   auto(av)   f   18  27  p \n",
       "8   audi         a4 quattro         1.8   1999 4   manual(m5) 4   18  26  p \n",
       "9   audi         a4 quattro         1.8   1999 4   auto(l5)   4   16  25  p \n",
       "10  audi         a4 quattro         2.0   2008 4   manual(m6) 4   20  28  p \n",
       "11  audi         a4 quattro         2.0   2008 4   auto(s6)   4   19  27  p \n",
       "12  audi         a4 quattro         2.8   1999 6   auto(l5)   4   15  25  p \n",
       "13  audi         a4 quattro         2.8   1999 6   manual(m5) 4   17  25  p \n",
       "14  audi         a4 quattro         3.1   2008 6   auto(s6)   4   17  25  p \n",
       "15  audi         a4 quattro         3.1   2008 6   manual(m6) 4   15  25  p \n",
       "16  audi         a6 quattro         2.8   1999 6   auto(l5)   4   15  24  p \n",
       "17  audi         a6 quattro         3.1   2008 6   auto(s6)   4   17  25  p \n",
       "18  audi         a6 quattro         4.2   2008 8   auto(s6)   4   16  23  p \n",
       "19  chevrolet    c1500 suburban 2wd 5.3   2008 8   auto(l4)   r   14  20  r \n",
       "20  chevrolet    c1500 suburban 2wd 5.3   2008 8   auto(l4)   r   11  15  e \n",
       "21  chevrolet    c1500 suburban 2wd 5.3   2008 8   auto(l4)   r   14  20  r \n",
       "22  chevrolet    c1500 suburban 2wd 5.7   1999 8   auto(l4)   r   13  17  r \n",
       "23  chevrolet    c1500 suburban 2wd 6.0   2008 8   auto(l4)   r   12  17  r \n",
       "24  chevrolet    corvette           5.7   1999 8   manual(m6) r   16  26  p \n",
       "25  chevrolet    corvette           5.7   1999 8   auto(l4)   r   15  23  p \n",
       "26  chevrolet    corvette           6.2   2008 8   manual(m6) r   16  26  p \n",
       "27  chevrolet    corvette           6.2   2008 8   auto(s6)   r   15  25  p \n",
       "28  chevrolet    corvette           7.0   2008 8   manual(m6) r   15  24  p \n",
       "29  chevrolet    k1500 tahoe 4wd    5.3   2008 8   auto(l4)   4   14  19  r \n",
       "30  chevrolet    k1500 tahoe 4wd    5.3   2008 8   auto(l4)   4   11  14  e \n",
       "⋮   ⋮            ⋮                  ⋮     ⋮    ⋮   ⋮          ⋮   ⋮   ⋮   ⋮ \n",
       "205 toyota       toyota tacoma 4wd  3.4   1999 6   auto(l4)   4   15  19  r \n",
       "206 toyota       toyota tacoma 4wd  4.0   2008 6   manual(m6) 4   15  18  r \n",
       "207 toyota       toyota tacoma 4wd  4.0   2008 6   auto(l5)   4   16  20  r \n",
       "208 volkswagen   gti                2.0   1999 4   manual(m5) f   21  29  r \n",
       "209 volkswagen   gti                2.0   1999 4   auto(l4)   f   19  26  r \n",
       "210 volkswagen   gti                2.0   2008 4   manual(m6) f   21  29  p \n",
       "211 volkswagen   gti                2.0   2008 4   auto(s6)   f   22  29  p \n",
       "212 volkswagen   gti                2.8   1999 6   manual(m5) f   17  24  r \n",
       "213 volkswagen   jetta              1.9   1999 4   manual(m5) f   33  44  d \n",
       "214 volkswagen   jetta              2.0   1999 4   manual(m5) f   21  29  r \n",
       "215 volkswagen   jetta              2.0   1999 4   auto(l4)   f   19  26  r \n",
       "216 volkswagen   jetta              2.0   2008 4   auto(s6)   f   22  29  p \n",
       "217 volkswagen   jetta              2.0   2008 4   manual(m6) f   21  29  p \n",
       "218 volkswagen   jetta              2.5   2008 5   auto(s6)   f   21  29  r \n",
       "219 volkswagen   jetta              2.5   2008 5   manual(m5) f   21  29  r \n",
       "220 volkswagen   jetta              2.8   1999 6   auto(l4)   f   16  23  r \n",
       "221 volkswagen   jetta              2.8   1999 6   manual(m5) f   17  24  r \n",
       "222 volkswagen   new beetle         1.9   1999 4   manual(m5) f   35  44  d \n",
       "223 volkswagen   new beetle         1.9   1999 4   auto(l4)   f   29  41  d \n",
       "224 volkswagen   new beetle         2.0   1999 4   manual(m5) f   21  29  r \n",
       "225 volkswagen   new beetle         2.0   1999 4   auto(l4)   f   19  26  r \n",
       "226 volkswagen   new beetle         2.5   2008 5   manual(m5) f   20  28  r \n",
       "227 volkswagen   new beetle         2.5   2008 5   auto(s6)   f   20  29  r \n",
       "228 volkswagen   passat             1.8   1999 4   manual(m5) f   21  29  p \n",
       "229 volkswagen   passat             1.8   1999 4   auto(l5)   f   18  29  p \n",
       "230 volkswagen   passat             2.0   2008 4   auto(s6)   f   19  28  p \n",
       "231 volkswagen   passat             2.0   2008 4   manual(m6) f   21  29  p \n",
       "232 volkswagen   passat             2.8   1999 6   auto(l5)   f   16  26  p \n",
       "233 volkswagen   passat             2.8   1999 6   manual(m5) f   18  26  p \n",
       "234 volkswagen   passat             3.6   2008 6   auto(s6)   f   17  26  p \n",
       "    class     \n",
       "1   compact   \n",
       "2   compact   \n",
       "3   compact   \n",
       "4   compact   \n",
       "5   compact   \n",
       "6   compact   \n",
       "7   compact   \n",
       "8   compact   \n",
       "9   compact   \n",
       "10  compact   \n",
       "11  compact   \n",
       "12  compact   \n",
       "13  compact   \n",
       "14  compact   \n",
       "15  compact   \n",
       "16  midsize   \n",
       "17  midsize   \n",
       "18  midsize   \n",
       "19  suv       \n",
       "20  suv       \n",
       "21  suv       \n",
       "22  suv       \n",
       "23  suv       \n",
       "24  2seater   \n",
       "25  2seater   \n",
       "26  2seater   \n",
       "27  2seater   \n",
       "28  2seater   \n",
       "29  suv       \n",
       "30  suv       \n",
       "⋮   ⋮         \n",
       "205 pickup    \n",
       "206 pickup    \n",
       "207 pickup    \n",
       "208 compact   \n",
       "209 compact   \n",
       "210 compact   \n",
       "211 compact   \n",
       "212 compact   \n",
       "213 compact   \n",
       "214 compact   \n",
       "215 compact   \n",
       "216 compact   \n",
       "217 compact   \n",
       "218 compact   \n",
       "219 compact   \n",
       "220 compact   \n",
       "221 compact   \n",
       "222 subcompact\n",
       "223 subcompact\n",
       "224 subcompact\n",
       "225 subcompact\n",
       "226 subcompact\n",
       "227 subcompact\n",
       "228 midsize   \n",
       "229 midsize   \n",
       "230 midsize   \n",
       "231 midsize   \n",
       "232 midsize   \n",
       "233 midsize   \n",
       "234 midsize   "
      ]
     },
     "metadata": {},
     "output_type": "display_data"
    }
   ],
   "source": [
    "mpg"
   ]
  },
  {
   "cell_type": "markdown",
   "id": "verbal-thing",
   "metadata": {},
   "source": [
    "- This is similar to the column operations we used before...\n",
    "- Use ```[[```...```]]``` to extract a column of the ```mpg``` dataset:\n",
    "\n",
    "```x <- mpg[[\"model\"]]```\n",
    "\n",
    "- What is ```x```?"
   ]
  },
  {
   "cell_type": "code",
   "execution_count": 50,
   "id": "freelance-turkish",
   "metadata": {},
   "outputs": [
    {
     "data": {
      "text/html": [
       "<style>\n",
       ".list-inline {list-style: none; margin:0; padding: 0}\n",
       ".list-inline>li {display: inline-block}\n",
       ".list-inline>li:not(:last-child)::after {content: \"\\00b7\"; padding: 0 .5ex}\n",
       "</style>\n",
       "<ol class=list-inline><li>'a4'</li><li>'a4'</li><li>'a4'</li><li>'a4'</li><li>'a4'</li><li>'a4'</li><li>'a4'</li><li>'a4 quattro'</li><li>'a4 quattro'</li><li>'a4 quattro'</li><li>'a4 quattro'</li><li>'a4 quattro'</li><li>'a4 quattro'</li><li>'a4 quattro'</li><li>'a4 quattro'</li><li>'a6 quattro'</li><li>'a6 quattro'</li><li>'a6 quattro'</li><li>'c1500 suburban 2wd'</li><li>'c1500 suburban 2wd'</li><li>'c1500 suburban 2wd'</li><li>'c1500 suburban 2wd'</li><li>'c1500 suburban 2wd'</li><li>'corvette'</li><li>'corvette'</li><li>'corvette'</li><li>'corvette'</li><li>'corvette'</li><li>'k1500 tahoe 4wd'</li><li>'k1500 tahoe 4wd'</li><li>'k1500 tahoe 4wd'</li><li>'k1500 tahoe 4wd'</li><li>'malibu'</li><li>'malibu'</li><li>'malibu'</li><li>'malibu'</li><li>'malibu'</li><li>'caravan 2wd'</li><li>'caravan 2wd'</li><li>'caravan 2wd'</li><li>'caravan 2wd'</li><li>'caravan 2wd'</li><li>'caravan 2wd'</li><li>'caravan 2wd'</li><li>'caravan 2wd'</li><li>'caravan 2wd'</li><li>'caravan 2wd'</li><li>'caravan 2wd'</li><li>'dakota pickup 4wd'</li><li>'dakota pickup 4wd'</li><li>'dakota pickup 4wd'</li><li>'dakota pickup 4wd'</li><li>'dakota pickup 4wd'</li><li>'dakota pickup 4wd'</li><li>'dakota pickup 4wd'</li><li>'dakota pickup 4wd'</li><li>'dakota pickup 4wd'</li><li>'durango 4wd'</li><li>'durango 4wd'</li><li>'durango 4wd'</li><li>'durango 4wd'</li><li>'durango 4wd'</li><li>'durango 4wd'</li><li>'durango 4wd'</li><li>'ram 1500 pickup 4wd'</li><li>'ram 1500 pickup 4wd'</li><li>'ram 1500 pickup 4wd'</li><li>'ram 1500 pickup 4wd'</li><li>'ram 1500 pickup 4wd'</li><li>'ram 1500 pickup 4wd'</li><li>'ram 1500 pickup 4wd'</li><li>'ram 1500 pickup 4wd'</li><li>'ram 1500 pickup 4wd'</li><li>'ram 1500 pickup 4wd'</li><li>'expedition 2wd'</li><li>'expedition 2wd'</li><li>'expedition 2wd'</li><li>'explorer 4wd'</li><li>'explorer 4wd'</li><li>'explorer 4wd'</li><li>'explorer 4wd'</li><li>'explorer 4wd'</li><li>'explorer 4wd'</li><li>'f150 pickup 4wd'</li><li>'f150 pickup 4wd'</li><li>'f150 pickup 4wd'</li><li>'f150 pickup 4wd'</li><li>'f150 pickup 4wd'</li><li>'f150 pickup 4wd'</li><li>'f150 pickup 4wd'</li><li>'mustang'</li><li>'mustang'</li><li>'mustang'</li><li>'mustang'</li><li>'mustang'</li><li>'mustang'</li><li>'mustang'</li><li>'mustang'</li><li>'mustang'</li><li>'civic'</li><li>'civic'</li><li>'civic'</li><li>'civic'</li><li>'civic'</li><li>'civic'</li><li>'civic'</li><li>'civic'</li><li>'civic'</li><li>'sonata'</li><li>'sonata'</li><li>'sonata'</li><li>'sonata'</li><li>'sonata'</li><li>'sonata'</li><li>'sonata'</li><li>'tiburon'</li><li>'tiburon'</li><li>'tiburon'</li><li>'tiburon'</li><li>'tiburon'</li><li>'tiburon'</li><li>'tiburon'</li><li>'grand cherokee 4wd'</li><li>'grand cherokee 4wd'</li><li>'grand cherokee 4wd'</li><li>'grand cherokee 4wd'</li><li>'grand cherokee 4wd'</li><li>'grand cherokee 4wd'</li><li>'grand cherokee 4wd'</li><li>'grand cherokee 4wd'</li><li>'range rover'</li><li>'range rover'</li><li>'range rover'</li><li>'range rover'</li><li>'navigator 2wd'</li><li>'navigator 2wd'</li><li>'navigator 2wd'</li><li>'mountaineer 4wd'</li><li>'mountaineer 4wd'</li><li>'mountaineer 4wd'</li><li>'mountaineer 4wd'</li><li>'altima'</li><li>'altima'</li><li>'altima'</li><li>'altima'</li><li>'altima'</li><li>'altima'</li><li>'maxima'</li><li>'maxima'</li><li>'maxima'</li><li>'pathfinder 4wd'</li><li>'pathfinder 4wd'</li><li>'pathfinder 4wd'</li><li>'pathfinder 4wd'</li><li>'grand prix'</li><li>'grand prix'</li><li>'grand prix'</li><li>'grand prix'</li><li>'grand prix'</li><li>'forester awd'</li><li>'forester awd'</li><li>'forester awd'</li><li>'forester awd'</li><li>'forester awd'</li><li>'forester awd'</li><li>'impreza awd'</li><li>'impreza awd'</li><li>'impreza awd'</li><li>'impreza awd'</li><li>'impreza awd'</li><li>'impreza awd'</li><li>'impreza awd'</li><li>'impreza awd'</li><li>'4runner 4wd'</li><li>'4runner 4wd'</li><li>'4runner 4wd'</li><li>'4runner 4wd'</li><li>'4runner 4wd'</li><li>'4runner 4wd'</li><li>'camry'</li><li>'camry'</li><li>'camry'</li><li>'camry'</li><li>'camry'</li><li>'camry'</li><li>'camry'</li><li>'camry solara'</li><li>'camry solara'</li><li>'camry solara'</li><li>'camry solara'</li><li>'camry solara'</li><li>'camry solara'</li><li>'camry solara'</li><li>'corolla'</li><li>'corolla'</li><li>'corolla'</li><li>'corolla'</li><li>'corolla'</li><li>'land cruiser wagon 4wd'</li><li>'land cruiser wagon 4wd'</li><li>'toyota tacoma 4wd'</li><li>'toyota tacoma 4wd'</li><li>'toyota tacoma 4wd'</li><li>'toyota tacoma 4wd'</li><li>'toyota tacoma 4wd'</li><li>'toyota tacoma 4wd'</li><li>'toyota tacoma 4wd'</li><li>'gti'</li><li>'gti'</li><li>'gti'</li><li>'gti'</li><li>'gti'</li><li>'jetta'</li><li>'jetta'</li><li>'jetta'</li><li>'jetta'</li><li>'jetta'</li><li>'jetta'</li><li>'jetta'</li><li>'jetta'</li><li>'jetta'</li><li>'new beetle'</li><li>'new beetle'</li><li>'new beetle'</li><li>'new beetle'</li><li>'new beetle'</li><li>'new beetle'</li><li>'passat'</li><li>'passat'</li><li>'passat'</li><li>'passat'</li><li>'passat'</li><li>'passat'</li><li>'passat'</li></ol>\n"
      ],
      "text/latex": [
       "\\begin{enumerate*}\n",
       "\\item 'a4'\n",
       "\\item 'a4'\n",
       "\\item 'a4'\n",
       "\\item 'a4'\n",
       "\\item 'a4'\n",
       "\\item 'a4'\n",
       "\\item 'a4'\n",
       "\\item 'a4 quattro'\n",
       "\\item 'a4 quattro'\n",
       "\\item 'a4 quattro'\n",
       "\\item 'a4 quattro'\n",
       "\\item 'a4 quattro'\n",
       "\\item 'a4 quattro'\n",
       "\\item 'a4 quattro'\n",
       "\\item 'a4 quattro'\n",
       "\\item 'a6 quattro'\n",
       "\\item 'a6 quattro'\n",
       "\\item 'a6 quattro'\n",
       "\\item 'c1500 suburban 2wd'\n",
       "\\item 'c1500 suburban 2wd'\n",
       "\\item 'c1500 suburban 2wd'\n",
       "\\item 'c1500 suburban 2wd'\n",
       "\\item 'c1500 suburban 2wd'\n",
       "\\item 'corvette'\n",
       "\\item 'corvette'\n",
       "\\item 'corvette'\n",
       "\\item 'corvette'\n",
       "\\item 'corvette'\n",
       "\\item 'k1500 tahoe 4wd'\n",
       "\\item 'k1500 tahoe 4wd'\n",
       "\\item 'k1500 tahoe 4wd'\n",
       "\\item 'k1500 tahoe 4wd'\n",
       "\\item 'malibu'\n",
       "\\item 'malibu'\n",
       "\\item 'malibu'\n",
       "\\item 'malibu'\n",
       "\\item 'malibu'\n",
       "\\item 'caravan 2wd'\n",
       "\\item 'caravan 2wd'\n",
       "\\item 'caravan 2wd'\n",
       "\\item 'caravan 2wd'\n",
       "\\item 'caravan 2wd'\n",
       "\\item 'caravan 2wd'\n",
       "\\item 'caravan 2wd'\n",
       "\\item 'caravan 2wd'\n",
       "\\item 'caravan 2wd'\n",
       "\\item 'caravan 2wd'\n",
       "\\item 'caravan 2wd'\n",
       "\\item 'dakota pickup 4wd'\n",
       "\\item 'dakota pickup 4wd'\n",
       "\\item 'dakota pickup 4wd'\n",
       "\\item 'dakota pickup 4wd'\n",
       "\\item 'dakota pickup 4wd'\n",
       "\\item 'dakota pickup 4wd'\n",
       "\\item 'dakota pickup 4wd'\n",
       "\\item 'dakota pickup 4wd'\n",
       "\\item 'dakota pickup 4wd'\n",
       "\\item 'durango 4wd'\n",
       "\\item 'durango 4wd'\n",
       "\\item 'durango 4wd'\n",
       "\\item 'durango 4wd'\n",
       "\\item 'durango 4wd'\n",
       "\\item 'durango 4wd'\n",
       "\\item 'durango 4wd'\n",
       "\\item 'ram 1500 pickup 4wd'\n",
       "\\item 'ram 1500 pickup 4wd'\n",
       "\\item 'ram 1500 pickup 4wd'\n",
       "\\item 'ram 1500 pickup 4wd'\n",
       "\\item 'ram 1500 pickup 4wd'\n",
       "\\item 'ram 1500 pickup 4wd'\n",
       "\\item 'ram 1500 pickup 4wd'\n",
       "\\item 'ram 1500 pickup 4wd'\n",
       "\\item 'ram 1500 pickup 4wd'\n",
       "\\item 'ram 1500 pickup 4wd'\n",
       "\\item 'expedition 2wd'\n",
       "\\item 'expedition 2wd'\n",
       "\\item 'expedition 2wd'\n",
       "\\item 'explorer 4wd'\n",
       "\\item 'explorer 4wd'\n",
       "\\item 'explorer 4wd'\n",
       "\\item 'explorer 4wd'\n",
       "\\item 'explorer 4wd'\n",
       "\\item 'explorer 4wd'\n",
       "\\item 'f150 pickup 4wd'\n",
       "\\item 'f150 pickup 4wd'\n",
       "\\item 'f150 pickup 4wd'\n",
       "\\item 'f150 pickup 4wd'\n",
       "\\item 'f150 pickup 4wd'\n",
       "\\item 'f150 pickup 4wd'\n",
       "\\item 'f150 pickup 4wd'\n",
       "\\item 'mustang'\n",
       "\\item 'mustang'\n",
       "\\item 'mustang'\n",
       "\\item 'mustang'\n",
       "\\item 'mustang'\n",
       "\\item 'mustang'\n",
       "\\item 'mustang'\n",
       "\\item 'mustang'\n",
       "\\item 'mustang'\n",
       "\\item 'civic'\n",
       "\\item 'civic'\n",
       "\\item 'civic'\n",
       "\\item 'civic'\n",
       "\\item 'civic'\n",
       "\\item 'civic'\n",
       "\\item 'civic'\n",
       "\\item 'civic'\n",
       "\\item 'civic'\n",
       "\\item 'sonata'\n",
       "\\item 'sonata'\n",
       "\\item 'sonata'\n",
       "\\item 'sonata'\n",
       "\\item 'sonata'\n",
       "\\item 'sonata'\n",
       "\\item 'sonata'\n",
       "\\item 'tiburon'\n",
       "\\item 'tiburon'\n",
       "\\item 'tiburon'\n",
       "\\item 'tiburon'\n",
       "\\item 'tiburon'\n",
       "\\item 'tiburon'\n",
       "\\item 'tiburon'\n",
       "\\item 'grand cherokee 4wd'\n",
       "\\item 'grand cherokee 4wd'\n",
       "\\item 'grand cherokee 4wd'\n",
       "\\item 'grand cherokee 4wd'\n",
       "\\item 'grand cherokee 4wd'\n",
       "\\item 'grand cherokee 4wd'\n",
       "\\item 'grand cherokee 4wd'\n",
       "\\item 'grand cherokee 4wd'\n",
       "\\item 'range rover'\n",
       "\\item 'range rover'\n",
       "\\item 'range rover'\n",
       "\\item 'range rover'\n",
       "\\item 'navigator 2wd'\n",
       "\\item 'navigator 2wd'\n",
       "\\item 'navigator 2wd'\n",
       "\\item 'mountaineer 4wd'\n",
       "\\item 'mountaineer 4wd'\n",
       "\\item 'mountaineer 4wd'\n",
       "\\item 'mountaineer 4wd'\n",
       "\\item 'altima'\n",
       "\\item 'altima'\n",
       "\\item 'altima'\n",
       "\\item 'altima'\n",
       "\\item 'altima'\n",
       "\\item 'altima'\n",
       "\\item 'maxima'\n",
       "\\item 'maxima'\n",
       "\\item 'maxima'\n",
       "\\item 'pathfinder 4wd'\n",
       "\\item 'pathfinder 4wd'\n",
       "\\item 'pathfinder 4wd'\n",
       "\\item 'pathfinder 4wd'\n",
       "\\item 'grand prix'\n",
       "\\item 'grand prix'\n",
       "\\item 'grand prix'\n",
       "\\item 'grand prix'\n",
       "\\item 'grand prix'\n",
       "\\item 'forester awd'\n",
       "\\item 'forester awd'\n",
       "\\item 'forester awd'\n",
       "\\item 'forester awd'\n",
       "\\item 'forester awd'\n",
       "\\item 'forester awd'\n",
       "\\item 'impreza awd'\n",
       "\\item 'impreza awd'\n",
       "\\item 'impreza awd'\n",
       "\\item 'impreza awd'\n",
       "\\item 'impreza awd'\n",
       "\\item 'impreza awd'\n",
       "\\item 'impreza awd'\n",
       "\\item 'impreza awd'\n",
       "\\item '4runner 4wd'\n",
       "\\item '4runner 4wd'\n",
       "\\item '4runner 4wd'\n",
       "\\item '4runner 4wd'\n",
       "\\item '4runner 4wd'\n",
       "\\item '4runner 4wd'\n",
       "\\item 'camry'\n",
       "\\item 'camry'\n",
       "\\item 'camry'\n",
       "\\item 'camry'\n",
       "\\item 'camry'\n",
       "\\item 'camry'\n",
       "\\item 'camry'\n",
       "\\item 'camry solara'\n",
       "\\item 'camry solara'\n",
       "\\item 'camry solara'\n",
       "\\item 'camry solara'\n",
       "\\item 'camry solara'\n",
       "\\item 'camry solara'\n",
       "\\item 'camry solara'\n",
       "\\item 'corolla'\n",
       "\\item 'corolla'\n",
       "\\item 'corolla'\n",
       "\\item 'corolla'\n",
       "\\item 'corolla'\n",
       "\\item 'land cruiser wagon 4wd'\n",
       "\\item 'land cruiser wagon 4wd'\n",
       "\\item 'toyota tacoma 4wd'\n",
       "\\item 'toyota tacoma 4wd'\n",
       "\\item 'toyota tacoma 4wd'\n",
       "\\item 'toyota tacoma 4wd'\n",
       "\\item 'toyota tacoma 4wd'\n",
       "\\item 'toyota tacoma 4wd'\n",
       "\\item 'toyota tacoma 4wd'\n",
       "\\item 'gti'\n",
       "\\item 'gti'\n",
       "\\item 'gti'\n",
       "\\item 'gti'\n",
       "\\item 'gti'\n",
       "\\item 'jetta'\n",
       "\\item 'jetta'\n",
       "\\item 'jetta'\n",
       "\\item 'jetta'\n",
       "\\item 'jetta'\n",
       "\\item 'jetta'\n",
       "\\item 'jetta'\n",
       "\\item 'jetta'\n",
       "\\item 'jetta'\n",
       "\\item 'new beetle'\n",
       "\\item 'new beetle'\n",
       "\\item 'new beetle'\n",
       "\\item 'new beetle'\n",
       "\\item 'new beetle'\n",
       "\\item 'new beetle'\n",
       "\\item 'passat'\n",
       "\\item 'passat'\n",
       "\\item 'passat'\n",
       "\\item 'passat'\n",
       "\\item 'passat'\n",
       "\\item 'passat'\n",
       "\\item 'passat'\n",
       "\\end{enumerate*}\n"
      ],
      "text/markdown": [
       "1. 'a4'\n",
       "2. 'a4'\n",
       "3. 'a4'\n",
       "4. 'a4'\n",
       "5. 'a4'\n",
       "6. 'a4'\n",
       "7. 'a4'\n",
       "8. 'a4 quattro'\n",
       "9. 'a4 quattro'\n",
       "10. 'a4 quattro'\n",
       "11. 'a4 quattro'\n",
       "12. 'a4 quattro'\n",
       "13. 'a4 quattro'\n",
       "14. 'a4 quattro'\n",
       "15. 'a4 quattro'\n",
       "16. 'a6 quattro'\n",
       "17. 'a6 quattro'\n",
       "18. 'a6 quattro'\n",
       "19. 'c1500 suburban 2wd'\n",
       "20. 'c1500 suburban 2wd'\n",
       "21. 'c1500 suburban 2wd'\n",
       "22. 'c1500 suburban 2wd'\n",
       "23. 'c1500 suburban 2wd'\n",
       "24. 'corvette'\n",
       "25. 'corvette'\n",
       "26. 'corvette'\n",
       "27. 'corvette'\n",
       "28. 'corvette'\n",
       "29. 'k1500 tahoe 4wd'\n",
       "30. 'k1500 tahoe 4wd'\n",
       "31. 'k1500 tahoe 4wd'\n",
       "32. 'k1500 tahoe 4wd'\n",
       "33. 'malibu'\n",
       "34. 'malibu'\n",
       "35. 'malibu'\n",
       "36. 'malibu'\n",
       "37. 'malibu'\n",
       "38. 'caravan 2wd'\n",
       "39. 'caravan 2wd'\n",
       "40. 'caravan 2wd'\n",
       "41. 'caravan 2wd'\n",
       "42. 'caravan 2wd'\n",
       "43. 'caravan 2wd'\n",
       "44. 'caravan 2wd'\n",
       "45. 'caravan 2wd'\n",
       "46. 'caravan 2wd'\n",
       "47. 'caravan 2wd'\n",
       "48. 'caravan 2wd'\n",
       "49. 'dakota pickup 4wd'\n",
       "50. 'dakota pickup 4wd'\n",
       "51. 'dakota pickup 4wd'\n",
       "52. 'dakota pickup 4wd'\n",
       "53. 'dakota pickup 4wd'\n",
       "54. 'dakota pickup 4wd'\n",
       "55. 'dakota pickup 4wd'\n",
       "56. 'dakota pickup 4wd'\n",
       "57. 'dakota pickup 4wd'\n",
       "58. 'durango 4wd'\n",
       "59. 'durango 4wd'\n",
       "60. 'durango 4wd'\n",
       "61. 'durango 4wd'\n",
       "62. 'durango 4wd'\n",
       "63. 'durango 4wd'\n",
       "64. 'durango 4wd'\n",
       "65. 'ram 1500 pickup 4wd'\n",
       "66. 'ram 1500 pickup 4wd'\n",
       "67. 'ram 1500 pickup 4wd'\n",
       "68. 'ram 1500 pickup 4wd'\n",
       "69. 'ram 1500 pickup 4wd'\n",
       "70. 'ram 1500 pickup 4wd'\n",
       "71. 'ram 1500 pickup 4wd'\n",
       "72. 'ram 1500 pickup 4wd'\n",
       "73. 'ram 1500 pickup 4wd'\n",
       "74. 'ram 1500 pickup 4wd'\n",
       "75. 'expedition 2wd'\n",
       "76. 'expedition 2wd'\n",
       "77. 'expedition 2wd'\n",
       "78. 'explorer 4wd'\n",
       "79. 'explorer 4wd'\n",
       "80. 'explorer 4wd'\n",
       "81. 'explorer 4wd'\n",
       "82. 'explorer 4wd'\n",
       "83. 'explorer 4wd'\n",
       "84. 'f150 pickup 4wd'\n",
       "85. 'f150 pickup 4wd'\n",
       "86. 'f150 pickup 4wd'\n",
       "87. 'f150 pickup 4wd'\n",
       "88. 'f150 pickup 4wd'\n",
       "89. 'f150 pickup 4wd'\n",
       "90. 'f150 pickup 4wd'\n",
       "91. 'mustang'\n",
       "92. 'mustang'\n",
       "93. 'mustang'\n",
       "94. 'mustang'\n",
       "95. 'mustang'\n",
       "96. 'mustang'\n",
       "97. 'mustang'\n",
       "98. 'mustang'\n",
       "99. 'mustang'\n",
       "100. 'civic'\n",
       "101. 'civic'\n",
       "102. 'civic'\n",
       "103. 'civic'\n",
       "104. 'civic'\n",
       "105. 'civic'\n",
       "106. 'civic'\n",
       "107. 'civic'\n",
       "108. 'civic'\n",
       "109. 'sonata'\n",
       "110. 'sonata'\n",
       "111. 'sonata'\n",
       "112. 'sonata'\n",
       "113. 'sonata'\n",
       "114. 'sonata'\n",
       "115. 'sonata'\n",
       "116. 'tiburon'\n",
       "117. 'tiburon'\n",
       "118. 'tiburon'\n",
       "119. 'tiburon'\n",
       "120. 'tiburon'\n",
       "121. 'tiburon'\n",
       "122. 'tiburon'\n",
       "123. 'grand cherokee 4wd'\n",
       "124. 'grand cherokee 4wd'\n",
       "125. 'grand cherokee 4wd'\n",
       "126. 'grand cherokee 4wd'\n",
       "127. 'grand cherokee 4wd'\n",
       "128. 'grand cherokee 4wd'\n",
       "129. 'grand cherokee 4wd'\n",
       "130. 'grand cherokee 4wd'\n",
       "131. 'range rover'\n",
       "132. 'range rover'\n",
       "133. 'range rover'\n",
       "134. 'range rover'\n",
       "135. 'navigator 2wd'\n",
       "136. 'navigator 2wd'\n",
       "137. 'navigator 2wd'\n",
       "138. 'mountaineer 4wd'\n",
       "139. 'mountaineer 4wd'\n",
       "140. 'mountaineer 4wd'\n",
       "141. 'mountaineer 4wd'\n",
       "142. 'altima'\n",
       "143. 'altima'\n",
       "144. 'altima'\n",
       "145. 'altima'\n",
       "146. 'altima'\n",
       "147. 'altima'\n",
       "148. 'maxima'\n",
       "149. 'maxima'\n",
       "150. 'maxima'\n",
       "151. 'pathfinder 4wd'\n",
       "152. 'pathfinder 4wd'\n",
       "153. 'pathfinder 4wd'\n",
       "154. 'pathfinder 4wd'\n",
       "155. 'grand prix'\n",
       "156. 'grand prix'\n",
       "157. 'grand prix'\n",
       "158. 'grand prix'\n",
       "159. 'grand prix'\n",
       "160. 'forester awd'\n",
       "161. 'forester awd'\n",
       "162. 'forester awd'\n",
       "163. 'forester awd'\n",
       "164. 'forester awd'\n",
       "165. 'forester awd'\n",
       "166. 'impreza awd'\n",
       "167. 'impreza awd'\n",
       "168. 'impreza awd'\n",
       "169. 'impreza awd'\n",
       "170. 'impreza awd'\n",
       "171. 'impreza awd'\n",
       "172. 'impreza awd'\n",
       "173. 'impreza awd'\n",
       "174. '4runner 4wd'\n",
       "175. '4runner 4wd'\n",
       "176. '4runner 4wd'\n",
       "177. '4runner 4wd'\n",
       "178. '4runner 4wd'\n",
       "179. '4runner 4wd'\n",
       "180. 'camry'\n",
       "181. 'camry'\n",
       "182. 'camry'\n",
       "183. 'camry'\n",
       "184. 'camry'\n",
       "185. 'camry'\n",
       "186. 'camry'\n",
       "187. 'camry solara'\n",
       "188. 'camry solara'\n",
       "189. 'camry solara'\n",
       "190. 'camry solara'\n",
       "191. 'camry solara'\n",
       "192. 'camry solara'\n",
       "193. 'camry solara'\n",
       "194. 'corolla'\n",
       "195. 'corolla'\n",
       "196. 'corolla'\n",
       "197. 'corolla'\n",
       "198. 'corolla'\n",
       "199. 'land cruiser wagon 4wd'\n",
       "200. 'land cruiser wagon 4wd'\n",
       "201. 'toyota tacoma 4wd'\n",
       "202. 'toyota tacoma 4wd'\n",
       "203. 'toyota tacoma 4wd'\n",
       "204. 'toyota tacoma 4wd'\n",
       "205. 'toyota tacoma 4wd'\n",
       "206. 'toyota tacoma 4wd'\n",
       "207. 'toyota tacoma 4wd'\n",
       "208. 'gti'\n",
       "209. 'gti'\n",
       "210. 'gti'\n",
       "211. 'gti'\n",
       "212. 'gti'\n",
       "213. 'jetta'\n",
       "214. 'jetta'\n",
       "215. 'jetta'\n",
       "216. 'jetta'\n",
       "217. 'jetta'\n",
       "218. 'jetta'\n",
       "219. 'jetta'\n",
       "220. 'jetta'\n",
       "221. 'jetta'\n",
       "222. 'new beetle'\n",
       "223. 'new beetle'\n",
       "224. 'new beetle'\n",
       "225. 'new beetle'\n",
       "226. 'new beetle'\n",
       "227. 'new beetle'\n",
       "228. 'passat'\n",
       "229. 'passat'\n",
       "230. 'passat'\n",
       "231. 'passat'\n",
       "232. 'passat'\n",
       "233. 'passat'\n",
       "234. 'passat'\n",
       "\n",
       "\n"
      ],
      "text/plain": [
       "  [1] \"a4\"                     \"a4\"                     \"a4\"                    \n",
       "  [4] \"a4\"                     \"a4\"                     \"a4\"                    \n",
       "  [7] \"a4\"                     \"a4 quattro\"             \"a4 quattro\"            \n",
       " [10] \"a4 quattro\"             \"a4 quattro\"             \"a4 quattro\"            \n",
       " [13] \"a4 quattro\"             \"a4 quattro\"             \"a4 quattro\"            \n",
       " [16] \"a6 quattro\"             \"a6 quattro\"             \"a6 quattro\"            \n",
       " [19] \"c1500 suburban 2wd\"     \"c1500 suburban 2wd\"     \"c1500 suburban 2wd\"    \n",
       " [22] \"c1500 suburban 2wd\"     \"c1500 suburban 2wd\"     \"corvette\"              \n",
       " [25] \"corvette\"               \"corvette\"               \"corvette\"              \n",
       " [28] \"corvette\"               \"k1500 tahoe 4wd\"        \"k1500 tahoe 4wd\"       \n",
       " [31] \"k1500 tahoe 4wd\"        \"k1500 tahoe 4wd\"        \"malibu\"                \n",
       " [34] \"malibu\"                 \"malibu\"                 \"malibu\"                \n",
       " [37] \"malibu\"                 \"caravan 2wd\"            \"caravan 2wd\"           \n",
       " [40] \"caravan 2wd\"            \"caravan 2wd\"            \"caravan 2wd\"           \n",
       " [43] \"caravan 2wd\"            \"caravan 2wd\"            \"caravan 2wd\"           \n",
       " [46] \"caravan 2wd\"            \"caravan 2wd\"            \"caravan 2wd\"           \n",
       " [49] \"dakota pickup 4wd\"      \"dakota pickup 4wd\"      \"dakota pickup 4wd\"     \n",
       " [52] \"dakota pickup 4wd\"      \"dakota pickup 4wd\"      \"dakota pickup 4wd\"     \n",
       " [55] \"dakota pickup 4wd\"      \"dakota pickup 4wd\"      \"dakota pickup 4wd\"     \n",
       " [58] \"durango 4wd\"            \"durango 4wd\"            \"durango 4wd\"           \n",
       " [61] \"durango 4wd\"            \"durango 4wd\"            \"durango 4wd\"           \n",
       " [64] \"durango 4wd\"            \"ram 1500 pickup 4wd\"    \"ram 1500 pickup 4wd\"   \n",
       " [67] \"ram 1500 pickup 4wd\"    \"ram 1500 pickup 4wd\"    \"ram 1500 pickup 4wd\"   \n",
       " [70] \"ram 1500 pickup 4wd\"    \"ram 1500 pickup 4wd\"    \"ram 1500 pickup 4wd\"   \n",
       " [73] \"ram 1500 pickup 4wd\"    \"ram 1500 pickup 4wd\"    \"expedition 2wd\"        \n",
       " [76] \"expedition 2wd\"         \"expedition 2wd\"         \"explorer 4wd\"          \n",
       " [79] \"explorer 4wd\"           \"explorer 4wd\"           \"explorer 4wd\"          \n",
       " [82] \"explorer 4wd\"           \"explorer 4wd\"           \"f150 pickup 4wd\"       \n",
       " [85] \"f150 pickup 4wd\"        \"f150 pickup 4wd\"        \"f150 pickup 4wd\"       \n",
       " [88] \"f150 pickup 4wd\"        \"f150 pickup 4wd\"        \"f150 pickup 4wd\"       \n",
       " [91] \"mustang\"                \"mustang\"                \"mustang\"               \n",
       " [94] \"mustang\"                \"mustang\"                \"mustang\"               \n",
       " [97] \"mustang\"                \"mustang\"                \"mustang\"               \n",
       "[100] \"civic\"                  \"civic\"                  \"civic\"                 \n",
       "[103] \"civic\"                  \"civic\"                  \"civic\"                 \n",
       "[106] \"civic\"                  \"civic\"                  \"civic\"                 \n",
       "[109] \"sonata\"                 \"sonata\"                 \"sonata\"                \n",
       "[112] \"sonata\"                 \"sonata\"                 \"sonata\"                \n",
       "[115] \"sonata\"                 \"tiburon\"                \"tiburon\"               \n",
       "[118] \"tiburon\"                \"tiburon\"                \"tiburon\"               \n",
       "[121] \"tiburon\"                \"tiburon\"                \"grand cherokee 4wd\"    \n",
       "[124] \"grand cherokee 4wd\"     \"grand cherokee 4wd\"     \"grand cherokee 4wd\"    \n",
       "[127] \"grand cherokee 4wd\"     \"grand cherokee 4wd\"     \"grand cherokee 4wd\"    \n",
       "[130] \"grand cherokee 4wd\"     \"range rover\"            \"range rover\"           \n",
       "[133] \"range rover\"            \"range rover\"            \"navigator 2wd\"         \n",
       "[136] \"navigator 2wd\"          \"navigator 2wd\"          \"mountaineer 4wd\"       \n",
       "[139] \"mountaineer 4wd\"        \"mountaineer 4wd\"        \"mountaineer 4wd\"       \n",
       "[142] \"altima\"                 \"altima\"                 \"altima\"                \n",
       "[145] \"altima\"                 \"altima\"                 \"altima\"                \n",
       "[148] \"maxima\"                 \"maxima\"                 \"maxima\"                \n",
       "[151] \"pathfinder 4wd\"         \"pathfinder 4wd\"         \"pathfinder 4wd\"        \n",
       "[154] \"pathfinder 4wd\"         \"grand prix\"             \"grand prix\"            \n",
       "[157] \"grand prix\"             \"grand prix\"             \"grand prix\"            \n",
       "[160] \"forester awd\"           \"forester awd\"           \"forester awd\"          \n",
       "[163] \"forester awd\"           \"forester awd\"           \"forester awd\"          \n",
       "[166] \"impreza awd\"            \"impreza awd\"            \"impreza awd\"           \n",
       "[169] \"impreza awd\"            \"impreza awd\"            \"impreza awd\"           \n",
       "[172] \"impreza awd\"            \"impreza awd\"            \"4runner 4wd\"           \n",
       "[175] \"4runner 4wd\"            \"4runner 4wd\"            \"4runner 4wd\"           \n",
       "[178] \"4runner 4wd\"            \"4runner 4wd\"            \"camry\"                 \n",
       "[181] \"camry\"                  \"camry\"                  \"camry\"                 \n",
       "[184] \"camry\"                  \"camry\"                  \"camry\"                 \n",
       "[187] \"camry solara\"           \"camry solara\"           \"camry solara\"          \n",
       "[190] \"camry solara\"           \"camry solara\"           \"camry solara\"          \n",
       "[193] \"camry solara\"           \"corolla\"                \"corolla\"               \n",
       "[196] \"corolla\"                \"corolla\"                \"corolla\"               \n",
       "[199] \"land cruiser wagon 4wd\" \"land cruiser wagon 4wd\" \"toyota tacoma 4wd\"     \n",
       "[202] \"toyota tacoma 4wd\"      \"toyota tacoma 4wd\"      \"toyota tacoma 4wd\"     \n",
       "[205] \"toyota tacoma 4wd\"      \"toyota tacoma 4wd\"      \"toyota tacoma 4wd\"     \n",
       "[208] \"gti\"                    \"gti\"                    \"gti\"                   \n",
       "[211] \"gti\"                    \"gti\"                    \"jetta\"                 \n",
       "[214] \"jetta\"                  \"jetta\"                  \"jetta\"                 \n",
       "[217] \"jetta\"                  \"jetta\"                  \"jetta\"                 \n",
       "[220] \"jetta\"                  \"jetta\"                  \"new beetle\"            \n",
       "[223] \"new beetle\"             \"new beetle\"             \"new beetle\"            \n",
       "[226] \"new beetle\"             \"new beetle\"             \"passat\"                \n",
       "[229] \"passat\"                 \"passat\"                 \"passat\"                \n",
       "[232] \"passat\"                 \"passat\"                 \"passat\"                "
      ]
     },
     "metadata": {},
     "output_type": "display_data"
    }
   ],
   "source": [
    "x <- mpg[[\"model\"]]\n",
    "x"
   ]
  },
  {
   "cell_type": "markdown",
   "id": "intelligent-gentleman",
   "metadata": {},
   "source": [
    "### Lists\n",
    "- Tibbles are secretly fancy *lists* of vectors\n",
    "- Lists are ordered collections of elements like vectors, but the elements can be anything!"
   ]
  },
  {
   "cell_type": "code",
   "execution_count": 51,
   "id": "precise-witch",
   "metadata": {},
   "outputs": [
    {
     "data": {
      "text/html": [
       "<ol>\n",
       "\t<li>1</li>\n",
       "\t<li>2</li>\n",
       "\t<li>'hello'</li>\n",
       "</ol>\n"
      ],
      "text/latex": [
       "\\begin{enumerate}\n",
       "\\item 1\n",
       "\\item 2\n",
       "\\item 'hello'\n",
       "\\end{enumerate}\n"
      ],
      "text/markdown": [
       "1. 1\n",
       "2. 2\n",
       "3. 'hello'\n",
       "\n",
       "\n"
      ],
      "text/plain": [
       "[[1]]\n",
       "[1] 1\n",
       "\n",
       "[[2]]\n",
       "[1] 2\n",
       "\n",
       "[[3]]\n",
       "[1] \"hello\"\n"
      ]
     },
     "metadata": {},
     "output_type": "display_data"
    }
   ],
   "source": [
    "(myList <- list(1L, 2, \"hello\"))"
   ]
  },
  {
   "cell_type": "code",
   "execution_count": 52,
   "id": "meaning-bridges",
   "metadata": {},
   "outputs": [
    {
     "data": {
      "text/html": [
       "<style>\n",
       ".list-inline {list-style: none; margin:0; padding: 0}\n",
       ".list-inline>li {display: inline-block}\n",
       ".list-inline>li:not(:last-child)::after {content: \"\\00b7\"; padding: 0 .5ex}\n",
       "</style>\n",
       "<ol class=list-inline><li>'1'</li><li>'2'</li><li>'hello'</li></ol>\n"
      ],
      "text/latex": [
       "\\begin{enumerate*}\n",
       "\\item '1'\n",
       "\\item '2'\n",
       "\\item 'hello'\n",
       "\\end{enumerate*}\n"
      ],
      "text/markdown": [
       "1. '1'\n",
       "2. '2'\n",
       "3. 'hello'\n",
       "\n",
       "\n"
      ],
      "text/plain": [
       "[1] \"1\"     \"2\"     \"hello\""
      ]
     },
     "metadata": {},
     "output_type": "display_data"
    }
   ],
   "source": [
    "c(1L, 2, \"hello\")"
   ]
  },
  {
   "cell_type": "code",
   "execution_count": 53,
   "id": "sealed-pound",
   "metadata": {},
   "outputs": [
    {
     "data": {
      "text/html": [
       "<ol>\n",
       "\t<li><ol>\n",
       "\t<li>1</li>\n",
       "\t<li>2</li>\n",
       "\t<li>'hello'</li>\n",
       "</ol>\n",
       "</li>\n",
       "\t<li>2.2</li>\n",
       "\t<li>'a string '</li>\n",
       "</ol>\n"
      ],
      "text/latex": [
       "\\begin{enumerate}\n",
       "\\item \\begin{enumerate}\n",
       "\\item 1\n",
       "\\item 2\n",
       "\\item 'hello'\n",
       "\\end{enumerate}\n",
       "\n",
       "\\item 2.2\n",
       "\\item 'a string '\n",
       "\\end{enumerate}\n"
      ],
      "text/markdown": [
       "1. 1. 1\n",
       "2. 2\n",
       "3. 'hello'\n",
       "\n",
       "\n",
       "\n",
       "2. 2.2\n",
       "3. 'a string '\n",
       "\n",
       "\n"
      ],
      "text/plain": [
       "[[1]]\n",
       "[[1]][[1]]\n",
       "[1] 1\n",
       "\n",
       "[[1]][[2]]\n",
       "[1] 2\n",
       "\n",
       "[[1]][[3]]\n",
       "[1] \"hello\"\n",
       "\n",
       "\n",
       "[[2]]\n",
       "[1] 2.2\n",
       "\n",
       "[[3]]\n",
       "[1] \"a string \"\n"
      ]
     },
     "metadata": {},
     "output_type": "display_data"
    }
   ],
   "source": [
    "# lists can contain other lists as well\n",
    "(anotherList <- list(myList, 2.2, \"a string \"))"
   ]
  },
  {
   "cell_type": "code",
   "execution_count": 54,
   "id": "atlantic-optics",
   "metadata": {},
   "outputs": [
    {
     "name": "stdout",
     "output_type": "stream",
     "text": [
      "List of 3\n",
      " $ :List of 3\n",
      "  ..$ : int 1\n",
      "  ..$ : num 2\n",
      "  ..$ : chr \"hello\"\n",
      " $ : num 2.2\n",
      " $ : chr \"a string \"\n"
     ]
    }
   ],
   "source": [
    "# a good way to look at the STRucture of a list\n",
    "str(anotherList)"
   ]
  },
  {
   "cell_type": "code",
   "execution_count": 55,
   "id": "sophisticated-cornwall",
   "metadata": {},
   "outputs": [
    {
     "data": {
      "text/html": [
       "<ol>\n",
       "\t<li>2</li>\n",
       "\t<li>'hello'</li>\n",
       "</ol>\n"
      ],
      "text/latex": [
       "\\begin{enumerate}\n",
       "\\item 2\n",
       "\\item 'hello'\n",
       "\\end{enumerate}\n"
      ],
      "text/markdown": [
       "1. 2\n",
       "2. 'hello'\n",
       "\n",
       "\n"
      ],
      "text/plain": [
       "[[1]]\n",
       "[1] 2\n",
       "\n",
       "[[2]]\n",
       "[1] \"hello\"\n"
      ]
     },
     "metadata": {},
     "output_type": "display_data"
    },
    {
     "data": {
      "text/html": [
       "<ol>\n",
       "\t<li><ol>\n",
       "\t<li>1</li>\n",
       "\t<li>2</li>\n",
       "\t<li>'hello'</li>\n",
       "</ol>\n",
       "</li>\n",
       "\t<li>2.2</li>\n",
       "</ol>\n"
      ],
      "text/latex": [
       "\\begin{enumerate}\n",
       "\\item \\begin{enumerate}\n",
       "\\item 1\n",
       "\\item 2\n",
       "\\item 'hello'\n",
       "\\end{enumerate}\n",
       "\n",
       "\\item 2.2\n",
       "\\end{enumerate}\n"
      ],
      "text/markdown": [
       "1. 1. 1\n",
       "2. 2\n",
       "3. 'hello'\n",
       "\n",
       "\n",
       "\n",
       "2. 2.2\n",
       "\n",
       "\n"
      ],
      "text/plain": [
       "[[1]]\n",
       "[[1]][[1]]\n",
       "[1] 1\n",
       "\n",
       "[[1]][[2]]\n",
       "[1] 2\n",
       "\n",
       "[[1]][[3]]\n",
       "[1] \"hello\"\n",
       "\n",
       "\n",
       "[[2]]\n",
       "[1] 2.2\n"
      ]
     },
     "metadata": {},
     "output_type": "display_data"
    }
   ],
   "source": [
    "# like with vectors, [] returns another list\n",
    "myList[c(2,3)]\n",
    "anotherList[c(1,2)]"
   ]
  },
  {
   "cell_type": "code",
   "execution_count": 56,
   "id": "immune-offset",
   "metadata": {},
   "outputs": [
    {
     "data": {
      "text/html": [
       "<ol>\n",
       "\t<li><ol>\n",
       "\t<li>1</li>\n",
       "\t<li>2</li>\n",
       "\t<li>'hello'</li>\n",
       "</ol>\n",
       "</li>\n",
       "</ol>\n"
      ],
      "text/latex": [
       "\\begin{enumerate}\n",
       "\\item \\begin{enumerate}\n",
       "\\item 1\n",
       "\\item 2\n",
       "\\item 'hello'\n",
       "\\end{enumerate}\n",
       "\n",
       "\\end{enumerate}\n"
      ],
      "text/markdown": [
       "1. 1. 1\n",
       "2. 2\n",
       "3. 'hello'\n",
       "\n",
       "\n",
       "\n",
       "\n",
       "\n"
      ],
      "text/plain": [
       "[[1]]\n",
       "[[1]][[1]]\n",
       "[1] 1\n",
       "\n",
       "[[1]][[2]]\n",
       "[1] 2\n",
       "\n",
       "[[1]][[3]]\n",
       "[1] \"hello\"\n",
       "\n"
      ]
     },
     "metadata": {},
     "output_type": "display_data"
    },
    {
     "data": {
      "text/html": [
       "<ol>\n",
       "\t<li>1</li>\n",
       "\t<li>2</li>\n",
       "\t<li>'hello'</li>\n",
       "</ol>\n"
      ],
      "text/latex": [
       "\\begin{enumerate}\n",
       "\\item 1\n",
       "\\item 2\n",
       "\\item 'hello'\n",
       "\\end{enumerate}\n"
      ],
      "text/markdown": [
       "1. 1\n",
       "2. 2\n",
       "3. 'hello'\n",
       "\n",
       "\n"
      ],
      "text/plain": [
       "[[1]]\n",
       "[1] 1\n",
       "\n",
       "[[2]]\n",
       "[1] 2\n",
       "\n",
       "[[3]]\n",
       "[1] \"hello\"\n"
      ]
     },
     "metadata": {},
     "output_type": "display_data"
    }
   ],
   "source": [
    "# The [[ ]] operator \"pops\" out an element of a list\n",
    "\n",
    "# A list of one element, consisting of a list\n",
    "anotherList[1]\n",
    "\n",
    "# a list of three elements\n",
    "anotherList[[1]]"
   ]
  },
  {
   "cell_type": "code",
   "execution_count": 57,
   "id": "characteristic-beatles",
   "metadata": {},
   "outputs": [
    {
     "name": "stdout",
     "output_type": "stream",
     "text": [
      "List of 1\n",
      " $ :List of 3\n",
      "  ..$ : int 1\n",
      "  ..$ : num 2\n",
      "  ..$ : chr \"hello\"\n",
      "List of 3\n",
      " $ : int 1\n",
      " $ : num 2\n",
      " $ : chr \"hello\"\n"
     ]
    }
   ],
   "source": [
    "str(anotherList[1])\n",
    "str(anotherList[[1]])"
   ]
  },
  {
   "cell_type": "code",
   "execution_count": 58,
   "id": "medical-junction",
   "metadata": {},
   "outputs": [
    {
     "data": {
      "text/html": [
       "3"
      ],
      "text/latex": [
       "3"
      ],
      "text/markdown": [
       "3"
      ],
      "text/plain": [
       "[1] 3"
      ]
     },
     "metadata": {},
     "output_type": "display_data"
    },
    {
     "data": {
      "text/html": [
       "3"
      ],
      "text/latex": [
       "3"
      ],
      "text/markdown": [
       "3"
      ],
      "text/plain": [
       "[1] 3"
      ]
     },
     "metadata": {},
     "output_type": "display_data"
    }
   ],
   "source": [
    "# lists also have lengths\n",
    "length(anotherList)\n",
    "length(myList)"
   ]
  },
  {
   "cell_type": "code",
   "execution_count": 59,
   "id": "conventional-indian",
   "metadata": {},
   "outputs": [
    {
     "data": {
      "text/html": [
       "<dl>\n",
       "\t<dt>$a</dt>\n",
       "\t\t<dd>1</dd>\n",
       "\t<dt>$c</dt>\n",
       "\t\t<dd>2.2</dd>\n",
       "</dl>\n"
      ],
      "text/latex": [
       "\\begin{description}\n",
       "\\item[\\$a] 1\n",
       "\\item[\\$c] 2.2\n",
       "\\end{description}\n"
      ],
      "text/markdown": [
       "$a\n",
       ":   1\n",
       "$c\n",
       ":   2.2\n",
       "\n",
       "\n"
      ],
      "text/plain": [
       "$a\n",
       "[1] 1\n",
       "\n",
       "$c\n",
       "[1] 2.2\n"
      ]
     },
     "metadata": {},
     "output_type": "display_data"
    },
    {
     "data": {
      "text/html": [
       "<ol>\n",
       "\t<li>'hello'</li>\n",
       "\t<li><span style=white-space:pre-wrap>'a     string'</span></li>\n",
       "</ol>\n"
      ],
      "text/latex": [
       "\\begin{enumerate}\n",
       "\\item 'hello'\n",
       "\\item 'a     string'\n",
       "\\end{enumerate}\n"
      ],
      "text/markdown": [
       "1. 'hello'\n",
       "2. <span style=white-space:pre-wrap>'a     string'</span>\n",
       "\n",
       "\n"
      ],
      "text/plain": [
       "[[1]]\n",
       "[1] \"hello\"\n",
       "\n",
       "[[2]]\n",
       "[1] \"a     string\"\n"
      ]
     },
     "metadata": {},
     "output_type": "display_data"
    },
    {
     "data": {
      "text/html": [
       "<ol>\n",
       "\t<li>'hello'</li>\n",
       "\t<li><span style=white-space:pre-wrap>'a     string'</span></li>\n",
       "</ol>\n"
      ],
      "text/latex": [
       "\\begin{enumerate}\n",
       "\\item 'hello'\n",
       "\\item 'a     string'\n",
       "\\end{enumerate}\n"
      ],
      "text/markdown": [
       "1. 'hello'\n",
       "2. <span style=white-space:pre-wrap>'a     string'</span>\n",
       "\n",
       "\n"
      ],
      "text/plain": [
       "[[1]]\n",
       "[1] \"hello\"\n",
       "\n",
       "[[2]]\n",
       "[1] \"a     string\"\n"
      ]
     },
     "metadata": {},
     "output_type": "display_data"
    }
   ],
   "source": [
    "# Just like vectors, we can create lists with named elements\n",
    "myList <- list(a = 1, b = list(\"hello\", \"a     string\"), c = 2.2)\n",
    "\n",
    "# The elements can be accessed just like with vectors using []\n",
    "myList[c('a', 'c')]\n",
    "\n",
    "# or we can pop out an element using [[ ]]\n",
    "myList[['b']]\n",
    "\n",
    "# The $ operator is shorthand for [[ ]]\n",
    "myList$b"
   ]
  },
  {
   "cell_type": "markdown",
   "id": "familiar-point",
   "metadata": {},
   "source": [
    "- We can think of tibbles as lists of named vectors"
   ]
  },
  {
   "cell_type": "code",
   "execution_count": 60,
   "id": "placed-ranking",
   "metadata": {
    "scrolled": true
   },
   "outputs": [
    {
     "data": {
      "text/html": [
       "'list'"
      ],
      "text/latex": [
       "'list'"
      ],
      "text/markdown": [
       "'list'"
      ],
      "text/plain": [
       "[1] \"list\""
      ]
     },
     "metadata": {},
     "output_type": "display_data"
    },
    {
     "data": {
      "text/html": [
       "<table class=\"dataframe\">\n",
       "<caption>A tibble: 234 × 11</caption>\n",
       "<thead>\n",
       "\t<tr><th scope=col>manufacturer</th><th scope=col>model</th><th scope=col>displ</th><th scope=col>year</th><th scope=col>cyl</th><th scope=col>trans</th><th scope=col>drv</th><th scope=col>cty</th><th scope=col>hwy</th><th scope=col>fl</th><th scope=col>class</th></tr>\n",
       "\t<tr><th scope=col>&lt;chr&gt;</th><th scope=col>&lt;chr&gt;</th><th scope=col>&lt;dbl&gt;</th><th scope=col>&lt;int&gt;</th><th scope=col>&lt;int&gt;</th><th scope=col>&lt;chr&gt;</th><th scope=col>&lt;chr&gt;</th><th scope=col>&lt;int&gt;</th><th scope=col>&lt;int&gt;</th><th scope=col>&lt;chr&gt;</th><th scope=col>&lt;chr&gt;</th></tr>\n",
       "</thead>\n",
       "<tbody>\n",
       "\t<tr><td>audi     </td><td>a4                </td><td>1.8</td><td>1999</td><td>4</td><td>auto(l5)  </td><td>f</td><td>18</td><td>29</td><td>p</td><td>compact</td></tr>\n",
       "\t<tr><td>audi     </td><td>a4                </td><td>1.8</td><td>1999</td><td>4</td><td>manual(m5)</td><td>f</td><td>21</td><td>29</td><td>p</td><td>compact</td></tr>\n",
       "\t<tr><td>audi     </td><td>a4                </td><td>2.0</td><td>2008</td><td>4</td><td>manual(m6)</td><td>f</td><td>20</td><td>31</td><td>p</td><td>compact</td></tr>\n",
       "\t<tr><td>audi     </td><td>a4                </td><td>2.0</td><td>2008</td><td>4</td><td>auto(av)  </td><td>f</td><td>21</td><td>30</td><td>p</td><td>compact</td></tr>\n",
       "\t<tr><td>audi     </td><td>a4                </td><td>2.8</td><td>1999</td><td>6</td><td>auto(l5)  </td><td>f</td><td>16</td><td>26</td><td>p</td><td>compact</td></tr>\n",
       "\t<tr><td>audi     </td><td>a4                </td><td>2.8</td><td>1999</td><td>6</td><td>manual(m5)</td><td>f</td><td>18</td><td>26</td><td>p</td><td>compact</td></tr>\n",
       "\t<tr><td>audi     </td><td>a4                </td><td>3.1</td><td>2008</td><td>6</td><td>auto(av)  </td><td>f</td><td>18</td><td>27</td><td>p</td><td>compact</td></tr>\n",
       "\t<tr><td>audi     </td><td>a4 quattro        </td><td>1.8</td><td>1999</td><td>4</td><td>manual(m5)</td><td>4</td><td>18</td><td>26</td><td>p</td><td>compact</td></tr>\n",
       "\t<tr><td>audi     </td><td>a4 quattro        </td><td>1.8</td><td>1999</td><td>4</td><td>auto(l5)  </td><td>4</td><td>16</td><td>25</td><td>p</td><td>compact</td></tr>\n",
       "\t<tr><td>audi     </td><td>a4 quattro        </td><td>2.0</td><td>2008</td><td>4</td><td>manual(m6)</td><td>4</td><td>20</td><td>28</td><td>p</td><td>compact</td></tr>\n",
       "\t<tr><td>audi     </td><td>a4 quattro        </td><td>2.0</td><td>2008</td><td>4</td><td>auto(s6)  </td><td>4</td><td>19</td><td>27</td><td>p</td><td>compact</td></tr>\n",
       "\t<tr><td>audi     </td><td>a4 quattro        </td><td>2.8</td><td>1999</td><td>6</td><td>auto(l5)  </td><td>4</td><td>15</td><td>25</td><td>p</td><td>compact</td></tr>\n",
       "\t<tr><td>audi     </td><td>a4 quattro        </td><td>2.8</td><td>1999</td><td>6</td><td>manual(m5)</td><td>4</td><td>17</td><td>25</td><td>p</td><td>compact</td></tr>\n",
       "\t<tr><td>audi     </td><td>a4 quattro        </td><td>3.1</td><td>2008</td><td>6</td><td>auto(s6)  </td><td>4</td><td>17</td><td>25</td><td>p</td><td>compact</td></tr>\n",
       "\t<tr><td>audi     </td><td>a4 quattro        </td><td>3.1</td><td>2008</td><td>6</td><td>manual(m6)</td><td>4</td><td>15</td><td>25</td><td>p</td><td>compact</td></tr>\n",
       "\t<tr><td>audi     </td><td>a6 quattro        </td><td>2.8</td><td>1999</td><td>6</td><td>auto(l5)  </td><td>4</td><td>15</td><td>24</td><td>p</td><td>midsize</td></tr>\n",
       "\t<tr><td>audi     </td><td>a6 quattro        </td><td>3.1</td><td>2008</td><td>6</td><td>auto(s6)  </td><td>4</td><td>17</td><td>25</td><td>p</td><td>midsize</td></tr>\n",
       "\t<tr><td>audi     </td><td>a6 quattro        </td><td>4.2</td><td>2008</td><td>8</td><td>auto(s6)  </td><td>4</td><td>16</td><td>23</td><td>p</td><td>midsize</td></tr>\n",
       "\t<tr><td>chevrolet</td><td>c1500 suburban 2wd</td><td>5.3</td><td>2008</td><td>8</td><td>auto(l4)  </td><td>r</td><td>14</td><td>20</td><td>r</td><td>suv    </td></tr>\n",
       "\t<tr><td>chevrolet</td><td>c1500 suburban 2wd</td><td>5.3</td><td>2008</td><td>8</td><td>auto(l4)  </td><td>r</td><td>11</td><td>15</td><td>e</td><td>suv    </td></tr>\n",
       "\t<tr><td>chevrolet</td><td>c1500 suburban 2wd</td><td>5.3</td><td>2008</td><td>8</td><td>auto(l4)  </td><td>r</td><td>14</td><td>20</td><td>r</td><td>suv    </td></tr>\n",
       "\t<tr><td>chevrolet</td><td>c1500 suburban 2wd</td><td>5.7</td><td>1999</td><td>8</td><td>auto(l4)  </td><td>r</td><td>13</td><td>17</td><td>r</td><td>suv    </td></tr>\n",
       "\t<tr><td>chevrolet</td><td>c1500 suburban 2wd</td><td>6.0</td><td>2008</td><td>8</td><td>auto(l4)  </td><td>r</td><td>12</td><td>17</td><td>r</td><td>suv    </td></tr>\n",
       "\t<tr><td>chevrolet</td><td>corvette          </td><td>5.7</td><td>1999</td><td>8</td><td>manual(m6)</td><td>r</td><td>16</td><td>26</td><td>p</td><td>2seater</td></tr>\n",
       "\t<tr><td>chevrolet</td><td>corvette          </td><td>5.7</td><td>1999</td><td>8</td><td>auto(l4)  </td><td>r</td><td>15</td><td>23</td><td>p</td><td>2seater</td></tr>\n",
       "\t<tr><td>chevrolet</td><td>corvette          </td><td>6.2</td><td>2008</td><td>8</td><td>manual(m6)</td><td>r</td><td>16</td><td>26</td><td>p</td><td>2seater</td></tr>\n",
       "\t<tr><td>chevrolet</td><td>corvette          </td><td>6.2</td><td>2008</td><td>8</td><td>auto(s6)  </td><td>r</td><td>15</td><td>25</td><td>p</td><td>2seater</td></tr>\n",
       "\t<tr><td>chevrolet</td><td>corvette          </td><td>7.0</td><td>2008</td><td>8</td><td>manual(m6)</td><td>r</td><td>15</td><td>24</td><td>p</td><td>2seater</td></tr>\n",
       "\t<tr><td>chevrolet</td><td>k1500 tahoe 4wd   </td><td>5.3</td><td>2008</td><td>8</td><td>auto(l4)  </td><td>4</td><td>14</td><td>19</td><td>r</td><td>suv    </td></tr>\n",
       "\t<tr><td>chevrolet</td><td>k1500 tahoe 4wd   </td><td>5.3</td><td>2008</td><td>8</td><td>auto(l4)  </td><td>4</td><td>11</td><td>14</td><td>e</td><td>suv    </td></tr>\n",
       "\t<tr><td>⋮</td><td>⋮</td><td>⋮</td><td>⋮</td><td>⋮</td><td>⋮</td><td>⋮</td><td>⋮</td><td>⋮</td><td>⋮</td><td>⋮</td></tr>\n",
       "\t<tr><td>toyota    </td><td>toyota tacoma 4wd</td><td>3.4</td><td>1999</td><td>6</td><td>auto(l4)  </td><td>4</td><td>15</td><td>19</td><td>r</td><td>pickup    </td></tr>\n",
       "\t<tr><td>toyota    </td><td>toyota tacoma 4wd</td><td>4.0</td><td>2008</td><td>6</td><td>manual(m6)</td><td>4</td><td>15</td><td>18</td><td>r</td><td>pickup    </td></tr>\n",
       "\t<tr><td>toyota    </td><td>toyota tacoma 4wd</td><td>4.0</td><td>2008</td><td>6</td><td>auto(l5)  </td><td>4</td><td>16</td><td>20</td><td>r</td><td>pickup    </td></tr>\n",
       "\t<tr><td>volkswagen</td><td>gti              </td><td>2.0</td><td>1999</td><td>4</td><td>manual(m5)</td><td>f</td><td>21</td><td>29</td><td>r</td><td>compact   </td></tr>\n",
       "\t<tr><td>volkswagen</td><td>gti              </td><td>2.0</td><td>1999</td><td>4</td><td>auto(l4)  </td><td>f</td><td>19</td><td>26</td><td>r</td><td>compact   </td></tr>\n",
       "\t<tr><td>volkswagen</td><td>gti              </td><td>2.0</td><td>2008</td><td>4</td><td>manual(m6)</td><td>f</td><td>21</td><td>29</td><td>p</td><td>compact   </td></tr>\n",
       "\t<tr><td>volkswagen</td><td>gti              </td><td>2.0</td><td>2008</td><td>4</td><td>auto(s6)  </td><td>f</td><td>22</td><td>29</td><td>p</td><td>compact   </td></tr>\n",
       "\t<tr><td>volkswagen</td><td>gti              </td><td>2.8</td><td>1999</td><td>6</td><td>manual(m5)</td><td>f</td><td>17</td><td>24</td><td>r</td><td>compact   </td></tr>\n",
       "\t<tr><td>volkswagen</td><td>jetta            </td><td>1.9</td><td>1999</td><td>4</td><td>manual(m5)</td><td>f</td><td>33</td><td>44</td><td>d</td><td>compact   </td></tr>\n",
       "\t<tr><td>volkswagen</td><td>jetta            </td><td>2.0</td><td>1999</td><td>4</td><td>manual(m5)</td><td>f</td><td>21</td><td>29</td><td>r</td><td>compact   </td></tr>\n",
       "\t<tr><td>volkswagen</td><td>jetta            </td><td>2.0</td><td>1999</td><td>4</td><td>auto(l4)  </td><td>f</td><td>19</td><td>26</td><td>r</td><td>compact   </td></tr>\n",
       "\t<tr><td>volkswagen</td><td>jetta            </td><td>2.0</td><td>2008</td><td>4</td><td>auto(s6)  </td><td>f</td><td>22</td><td>29</td><td>p</td><td>compact   </td></tr>\n",
       "\t<tr><td>volkswagen</td><td>jetta            </td><td>2.0</td><td>2008</td><td>4</td><td>manual(m6)</td><td>f</td><td>21</td><td>29</td><td>p</td><td>compact   </td></tr>\n",
       "\t<tr><td>volkswagen</td><td>jetta            </td><td>2.5</td><td>2008</td><td>5</td><td>auto(s6)  </td><td>f</td><td>21</td><td>29</td><td>r</td><td>compact   </td></tr>\n",
       "\t<tr><td>volkswagen</td><td>jetta            </td><td>2.5</td><td>2008</td><td>5</td><td>manual(m5)</td><td>f</td><td>21</td><td>29</td><td>r</td><td>compact   </td></tr>\n",
       "\t<tr><td>volkswagen</td><td>jetta            </td><td>2.8</td><td>1999</td><td>6</td><td>auto(l4)  </td><td>f</td><td>16</td><td>23</td><td>r</td><td>compact   </td></tr>\n",
       "\t<tr><td>volkswagen</td><td>jetta            </td><td>2.8</td><td>1999</td><td>6</td><td>manual(m5)</td><td>f</td><td>17</td><td>24</td><td>r</td><td>compact   </td></tr>\n",
       "\t<tr><td>volkswagen</td><td>new beetle       </td><td>1.9</td><td>1999</td><td>4</td><td>manual(m5)</td><td>f</td><td>35</td><td>44</td><td>d</td><td>subcompact</td></tr>\n",
       "\t<tr><td>volkswagen</td><td>new beetle       </td><td>1.9</td><td>1999</td><td>4</td><td>auto(l4)  </td><td>f</td><td>29</td><td>41</td><td>d</td><td>subcompact</td></tr>\n",
       "\t<tr><td>volkswagen</td><td>new beetle       </td><td>2.0</td><td>1999</td><td>4</td><td>manual(m5)</td><td>f</td><td>21</td><td>29</td><td>r</td><td>subcompact</td></tr>\n",
       "\t<tr><td>volkswagen</td><td>new beetle       </td><td>2.0</td><td>1999</td><td>4</td><td>auto(l4)  </td><td>f</td><td>19</td><td>26</td><td>r</td><td>subcompact</td></tr>\n",
       "\t<tr><td>volkswagen</td><td>new beetle       </td><td>2.5</td><td>2008</td><td>5</td><td>manual(m5)</td><td>f</td><td>20</td><td>28</td><td>r</td><td>subcompact</td></tr>\n",
       "\t<tr><td>volkswagen</td><td>new beetle       </td><td>2.5</td><td>2008</td><td>5</td><td>auto(s6)  </td><td>f</td><td>20</td><td>29</td><td>r</td><td>subcompact</td></tr>\n",
       "\t<tr><td>volkswagen</td><td>passat           </td><td>1.8</td><td>1999</td><td>4</td><td>manual(m5)</td><td>f</td><td>21</td><td>29</td><td>p</td><td>midsize   </td></tr>\n",
       "\t<tr><td>volkswagen</td><td>passat           </td><td>1.8</td><td>1999</td><td>4</td><td>auto(l5)  </td><td>f</td><td>18</td><td>29</td><td>p</td><td>midsize   </td></tr>\n",
       "\t<tr><td>volkswagen</td><td>passat           </td><td>2.0</td><td>2008</td><td>4</td><td>auto(s6)  </td><td>f</td><td>19</td><td>28</td><td>p</td><td>midsize   </td></tr>\n",
       "\t<tr><td>volkswagen</td><td>passat           </td><td>2.0</td><td>2008</td><td>4</td><td>manual(m6)</td><td>f</td><td>21</td><td>29</td><td>p</td><td>midsize   </td></tr>\n",
       "\t<tr><td>volkswagen</td><td>passat           </td><td>2.8</td><td>1999</td><td>6</td><td>auto(l5)  </td><td>f</td><td>16</td><td>26</td><td>p</td><td>midsize   </td></tr>\n",
       "\t<tr><td>volkswagen</td><td>passat           </td><td>2.8</td><td>1999</td><td>6</td><td>manual(m5)</td><td>f</td><td>18</td><td>26</td><td>p</td><td>midsize   </td></tr>\n",
       "\t<tr><td>volkswagen</td><td>passat           </td><td>3.6</td><td>2008</td><td>6</td><td>auto(s6)  </td><td>f</td><td>17</td><td>26</td><td>p</td><td>midsize   </td></tr>\n",
       "</tbody>\n",
       "</table>\n"
      ],
      "text/latex": [
       "A tibble: 234 × 11\n",
       "\\begin{tabular}{lllllllllll}\n",
       " manufacturer & model & displ & year & cyl & trans & drv & cty & hwy & fl & class\\\\\n",
       " <chr> & <chr> & <dbl> & <int> & <int> & <chr> & <chr> & <int> & <int> & <chr> & <chr>\\\\\n",
       "\\hline\n",
       "\t audi      & a4                 & 1.8 & 1999 & 4 & auto(l5)   & f & 18 & 29 & p & compact\\\\\n",
       "\t audi      & a4                 & 1.8 & 1999 & 4 & manual(m5) & f & 21 & 29 & p & compact\\\\\n",
       "\t audi      & a4                 & 2.0 & 2008 & 4 & manual(m6) & f & 20 & 31 & p & compact\\\\\n",
       "\t audi      & a4                 & 2.0 & 2008 & 4 & auto(av)   & f & 21 & 30 & p & compact\\\\\n",
       "\t audi      & a4                 & 2.8 & 1999 & 6 & auto(l5)   & f & 16 & 26 & p & compact\\\\\n",
       "\t audi      & a4                 & 2.8 & 1999 & 6 & manual(m5) & f & 18 & 26 & p & compact\\\\\n",
       "\t audi      & a4                 & 3.1 & 2008 & 6 & auto(av)   & f & 18 & 27 & p & compact\\\\\n",
       "\t audi      & a4 quattro         & 1.8 & 1999 & 4 & manual(m5) & 4 & 18 & 26 & p & compact\\\\\n",
       "\t audi      & a4 quattro         & 1.8 & 1999 & 4 & auto(l5)   & 4 & 16 & 25 & p & compact\\\\\n",
       "\t audi      & a4 quattro         & 2.0 & 2008 & 4 & manual(m6) & 4 & 20 & 28 & p & compact\\\\\n",
       "\t audi      & a4 quattro         & 2.0 & 2008 & 4 & auto(s6)   & 4 & 19 & 27 & p & compact\\\\\n",
       "\t audi      & a4 quattro         & 2.8 & 1999 & 6 & auto(l5)   & 4 & 15 & 25 & p & compact\\\\\n",
       "\t audi      & a4 quattro         & 2.8 & 1999 & 6 & manual(m5) & 4 & 17 & 25 & p & compact\\\\\n",
       "\t audi      & a4 quattro         & 3.1 & 2008 & 6 & auto(s6)   & 4 & 17 & 25 & p & compact\\\\\n",
       "\t audi      & a4 quattro         & 3.1 & 2008 & 6 & manual(m6) & 4 & 15 & 25 & p & compact\\\\\n",
       "\t audi      & a6 quattro         & 2.8 & 1999 & 6 & auto(l5)   & 4 & 15 & 24 & p & midsize\\\\\n",
       "\t audi      & a6 quattro         & 3.1 & 2008 & 6 & auto(s6)   & 4 & 17 & 25 & p & midsize\\\\\n",
       "\t audi      & a6 quattro         & 4.2 & 2008 & 8 & auto(s6)   & 4 & 16 & 23 & p & midsize\\\\\n",
       "\t chevrolet & c1500 suburban 2wd & 5.3 & 2008 & 8 & auto(l4)   & r & 14 & 20 & r & suv    \\\\\n",
       "\t chevrolet & c1500 suburban 2wd & 5.3 & 2008 & 8 & auto(l4)   & r & 11 & 15 & e & suv    \\\\\n",
       "\t chevrolet & c1500 suburban 2wd & 5.3 & 2008 & 8 & auto(l4)   & r & 14 & 20 & r & suv    \\\\\n",
       "\t chevrolet & c1500 suburban 2wd & 5.7 & 1999 & 8 & auto(l4)   & r & 13 & 17 & r & suv    \\\\\n",
       "\t chevrolet & c1500 suburban 2wd & 6.0 & 2008 & 8 & auto(l4)   & r & 12 & 17 & r & suv    \\\\\n",
       "\t chevrolet & corvette           & 5.7 & 1999 & 8 & manual(m6) & r & 16 & 26 & p & 2seater\\\\\n",
       "\t chevrolet & corvette           & 5.7 & 1999 & 8 & auto(l4)   & r & 15 & 23 & p & 2seater\\\\\n",
       "\t chevrolet & corvette           & 6.2 & 2008 & 8 & manual(m6) & r & 16 & 26 & p & 2seater\\\\\n",
       "\t chevrolet & corvette           & 6.2 & 2008 & 8 & auto(s6)   & r & 15 & 25 & p & 2seater\\\\\n",
       "\t chevrolet & corvette           & 7.0 & 2008 & 8 & manual(m6) & r & 15 & 24 & p & 2seater\\\\\n",
       "\t chevrolet & k1500 tahoe 4wd    & 5.3 & 2008 & 8 & auto(l4)   & 4 & 14 & 19 & r & suv    \\\\\n",
       "\t chevrolet & k1500 tahoe 4wd    & 5.3 & 2008 & 8 & auto(l4)   & 4 & 11 & 14 & e & suv    \\\\\n",
       "\t ⋮ & ⋮ & ⋮ & ⋮ & ⋮ & ⋮ & ⋮ & ⋮ & ⋮ & ⋮ & ⋮\\\\\n",
       "\t toyota     & toyota tacoma 4wd & 3.4 & 1999 & 6 & auto(l4)   & 4 & 15 & 19 & r & pickup    \\\\\n",
       "\t toyota     & toyota tacoma 4wd & 4.0 & 2008 & 6 & manual(m6) & 4 & 15 & 18 & r & pickup    \\\\\n",
       "\t toyota     & toyota tacoma 4wd & 4.0 & 2008 & 6 & auto(l5)   & 4 & 16 & 20 & r & pickup    \\\\\n",
       "\t volkswagen & gti               & 2.0 & 1999 & 4 & manual(m5) & f & 21 & 29 & r & compact   \\\\\n",
       "\t volkswagen & gti               & 2.0 & 1999 & 4 & auto(l4)   & f & 19 & 26 & r & compact   \\\\\n",
       "\t volkswagen & gti               & 2.0 & 2008 & 4 & manual(m6) & f & 21 & 29 & p & compact   \\\\\n",
       "\t volkswagen & gti               & 2.0 & 2008 & 4 & auto(s6)   & f & 22 & 29 & p & compact   \\\\\n",
       "\t volkswagen & gti               & 2.8 & 1999 & 6 & manual(m5) & f & 17 & 24 & r & compact   \\\\\n",
       "\t volkswagen & jetta             & 1.9 & 1999 & 4 & manual(m5) & f & 33 & 44 & d & compact   \\\\\n",
       "\t volkswagen & jetta             & 2.0 & 1999 & 4 & manual(m5) & f & 21 & 29 & r & compact   \\\\\n",
       "\t volkswagen & jetta             & 2.0 & 1999 & 4 & auto(l4)   & f & 19 & 26 & r & compact   \\\\\n",
       "\t volkswagen & jetta             & 2.0 & 2008 & 4 & auto(s6)   & f & 22 & 29 & p & compact   \\\\\n",
       "\t volkswagen & jetta             & 2.0 & 2008 & 4 & manual(m6) & f & 21 & 29 & p & compact   \\\\\n",
       "\t volkswagen & jetta             & 2.5 & 2008 & 5 & auto(s6)   & f & 21 & 29 & r & compact   \\\\\n",
       "\t volkswagen & jetta             & 2.5 & 2008 & 5 & manual(m5) & f & 21 & 29 & r & compact   \\\\\n",
       "\t volkswagen & jetta             & 2.8 & 1999 & 6 & auto(l4)   & f & 16 & 23 & r & compact   \\\\\n",
       "\t volkswagen & jetta             & 2.8 & 1999 & 6 & manual(m5) & f & 17 & 24 & r & compact   \\\\\n",
       "\t volkswagen & new beetle        & 1.9 & 1999 & 4 & manual(m5) & f & 35 & 44 & d & subcompact\\\\\n",
       "\t volkswagen & new beetle        & 1.9 & 1999 & 4 & auto(l4)   & f & 29 & 41 & d & subcompact\\\\\n",
       "\t volkswagen & new beetle        & 2.0 & 1999 & 4 & manual(m5) & f & 21 & 29 & r & subcompact\\\\\n",
       "\t volkswagen & new beetle        & 2.0 & 1999 & 4 & auto(l4)   & f & 19 & 26 & r & subcompact\\\\\n",
       "\t volkswagen & new beetle        & 2.5 & 2008 & 5 & manual(m5) & f & 20 & 28 & r & subcompact\\\\\n",
       "\t volkswagen & new beetle        & 2.5 & 2008 & 5 & auto(s6)   & f & 20 & 29 & r & subcompact\\\\\n",
       "\t volkswagen & passat            & 1.8 & 1999 & 4 & manual(m5) & f & 21 & 29 & p & midsize   \\\\\n",
       "\t volkswagen & passat            & 1.8 & 1999 & 4 & auto(l5)   & f & 18 & 29 & p & midsize   \\\\\n",
       "\t volkswagen & passat            & 2.0 & 2008 & 4 & auto(s6)   & f & 19 & 28 & p & midsize   \\\\\n",
       "\t volkswagen & passat            & 2.0 & 2008 & 4 & manual(m6) & f & 21 & 29 & p & midsize   \\\\\n",
       "\t volkswagen & passat            & 2.8 & 1999 & 6 & auto(l5)   & f & 16 & 26 & p & midsize   \\\\\n",
       "\t volkswagen & passat            & 2.8 & 1999 & 6 & manual(m5) & f & 18 & 26 & p & midsize   \\\\\n",
       "\t volkswagen & passat            & 3.6 & 2008 & 6 & auto(s6)   & f & 17 & 26 & p & midsize   \\\\\n",
       "\\end{tabular}\n"
      ],
      "text/markdown": [
       "\n",
       "A tibble: 234 × 11\n",
       "\n",
       "| manufacturer &lt;chr&gt; | model &lt;chr&gt; | displ &lt;dbl&gt; | year &lt;int&gt; | cyl &lt;int&gt; | trans &lt;chr&gt; | drv &lt;chr&gt; | cty &lt;int&gt; | hwy &lt;int&gt; | fl &lt;chr&gt; | class &lt;chr&gt; |\n",
       "|---|---|---|---|---|---|---|---|---|---|---|\n",
       "| audi      | a4                 | 1.8 | 1999 | 4 | auto(l5)   | f | 18 | 29 | p | compact |\n",
       "| audi      | a4                 | 1.8 | 1999 | 4 | manual(m5) | f | 21 | 29 | p | compact |\n",
       "| audi      | a4                 | 2.0 | 2008 | 4 | manual(m6) | f | 20 | 31 | p | compact |\n",
       "| audi      | a4                 | 2.0 | 2008 | 4 | auto(av)   | f | 21 | 30 | p | compact |\n",
       "| audi      | a4                 | 2.8 | 1999 | 6 | auto(l5)   | f | 16 | 26 | p | compact |\n",
       "| audi      | a4                 | 2.8 | 1999 | 6 | manual(m5) | f | 18 | 26 | p | compact |\n",
       "| audi      | a4                 | 3.1 | 2008 | 6 | auto(av)   | f | 18 | 27 | p | compact |\n",
       "| audi      | a4 quattro         | 1.8 | 1999 | 4 | manual(m5) | 4 | 18 | 26 | p | compact |\n",
       "| audi      | a4 quattro         | 1.8 | 1999 | 4 | auto(l5)   | 4 | 16 | 25 | p | compact |\n",
       "| audi      | a4 quattro         | 2.0 | 2008 | 4 | manual(m6) | 4 | 20 | 28 | p | compact |\n",
       "| audi      | a4 quattro         | 2.0 | 2008 | 4 | auto(s6)   | 4 | 19 | 27 | p | compact |\n",
       "| audi      | a4 quattro         | 2.8 | 1999 | 6 | auto(l5)   | 4 | 15 | 25 | p | compact |\n",
       "| audi      | a4 quattro         | 2.8 | 1999 | 6 | manual(m5) | 4 | 17 | 25 | p | compact |\n",
       "| audi      | a4 quattro         | 3.1 | 2008 | 6 | auto(s6)   | 4 | 17 | 25 | p | compact |\n",
       "| audi      | a4 quattro         | 3.1 | 2008 | 6 | manual(m6) | 4 | 15 | 25 | p | compact |\n",
       "| audi      | a6 quattro         | 2.8 | 1999 | 6 | auto(l5)   | 4 | 15 | 24 | p | midsize |\n",
       "| audi      | a6 quattro         | 3.1 | 2008 | 6 | auto(s6)   | 4 | 17 | 25 | p | midsize |\n",
       "| audi      | a6 quattro         | 4.2 | 2008 | 8 | auto(s6)   | 4 | 16 | 23 | p | midsize |\n",
       "| chevrolet | c1500 suburban 2wd | 5.3 | 2008 | 8 | auto(l4)   | r | 14 | 20 | r | suv     |\n",
       "| chevrolet | c1500 suburban 2wd | 5.3 | 2008 | 8 | auto(l4)   | r | 11 | 15 | e | suv     |\n",
       "| chevrolet | c1500 suburban 2wd | 5.3 | 2008 | 8 | auto(l4)   | r | 14 | 20 | r | suv     |\n",
       "| chevrolet | c1500 suburban 2wd | 5.7 | 1999 | 8 | auto(l4)   | r | 13 | 17 | r | suv     |\n",
       "| chevrolet | c1500 suburban 2wd | 6.0 | 2008 | 8 | auto(l4)   | r | 12 | 17 | r | suv     |\n",
       "| chevrolet | corvette           | 5.7 | 1999 | 8 | manual(m6) | r | 16 | 26 | p | 2seater |\n",
       "| chevrolet | corvette           | 5.7 | 1999 | 8 | auto(l4)   | r | 15 | 23 | p | 2seater |\n",
       "| chevrolet | corvette           | 6.2 | 2008 | 8 | manual(m6) | r | 16 | 26 | p | 2seater |\n",
       "| chevrolet | corvette           | 6.2 | 2008 | 8 | auto(s6)   | r | 15 | 25 | p | 2seater |\n",
       "| chevrolet | corvette           | 7.0 | 2008 | 8 | manual(m6) | r | 15 | 24 | p | 2seater |\n",
       "| chevrolet | k1500 tahoe 4wd    | 5.3 | 2008 | 8 | auto(l4)   | 4 | 14 | 19 | r | suv     |\n",
       "| chevrolet | k1500 tahoe 4wd    | 5.3 | 2008 | 8 | auto(l4)   | 4 | 11 | 14 | e | suv     |\n",
       "| ⋮ | ⋮ | ⋮ | ⋮ | ⋮ | ⋮ | ⋮ | ⋮ | ⋮ | ⋮ | ⋮ |\n",
       "| toyota     | toyota tacoma 4wd | 3.4 | 1999 | 6 | auto(l4)   | 4 | 15 | 19 | r | pickup     |\n",
       "| toyota     | toyota tacoma 4wd | 4.0 | 2008 | 6 | manual(m6) | 4 | 15 | 18 | r | pickup     |\n",
       "| toyota     | toyota tacoma 4wd | 4.0 | 2008 | 6 | auto(l5)   | 4 | 16 | 20 | r | pickup     |\n",
       "| volkswagen | gti               | 2.0 | 1999 | 4 | manual(m5) | f | 21 | 29 | r | compact    |\n",
       "| volkswagen | gti               | 2.0 | 1999 | 4 | auto(l4)   | f | 19 | 26 | r | compact    |\n",
       "| volkswagen | gti               | 2.0 | 2008 | 4 | manual(m6) | f | 21 | 29 | p | compact    |\n",
       "| volkswagen | gti               | 2.0 | 2008 | 4 | auto(s6)   | f | 22 | 29 | p | compact    |\n",
       "| volkswagen | gti               | 2.8 | 1999 | 6 | manual(m5) | f | 17 | 24 | r | compact    |\n",
       "| volkswagen | jetta             | 1.9 | 1999 | 4 | manual(m5) | f | 33 | 44 | d | compact    |\n",
       "| volkswagen | jetta             | 2.0 | 1999 | 4 | manual(m5) | f | 21 | 29 | r | compact    |\n",
       "| volkswagen | jetta             | 2.0 | 1999 | 4 | auto(l4)   | f | 19 | 26 | r | compact    |\n",
       "| volkswagen | jetta             | 2.0 | 2008 | 4 | auto(s6)   | f | 22 | 29 | p | compact    |\n",
       "| volkswagen | jetta             | 2.0 | 2008 | 4 | manual(m6) | f | 21 | 29 | p | compact    |\n",
       "| volkswagen | jetta             | 2.5 | 2008 | 5 | auto(s6)   | f | 21 | 29 | r | compact    |\n",
       "| volkswagen | jetta             | 2.5 | 2008 | 5 | manual(m5) | f | 21 | 29 | r | compact    |\n",
       "| volkswagen | jetta             | 2.8 | 1999 | 6 | auto(l4)   | f | 16 | 23 | r | compact    |\n",
       "| volkswagen | jetta             | 2.8 | 1999 | 6 | manual(m5) | f | 17 | 24 | r | compact    |\n",
       "| volkswagen | new beetle        | 1.9 | 1999 | 4 | manual(m5) | f | 35 | 44 | d | subcompact |\n",
       "| volkswagen | new beetle        | 1.9 | 1999 | 4 | auto(l4)   | f | 29 | 41 | d | subcompact |\n",
       "| volkswagen | new beetle        | 2.0 | 1999 | 4 | manual(m5) | f | 21 | 29 | r | subcompact |\n",
       "| volkswagen | new beetle        | 2.0 | 1999 | 4 | auto(l4)   | f | 19 | 26 | r | subcompact |\n",
       "| volkswagen | new beetle        | 2.5 | 2008 | 5 | manual(m5) | f | 20 | 28 | r | subcompact |\n",
       "| volkswagen | new beetle        | 2.5 | 2008 | 5 | auto(s6)   | f | 20 | 29 | r | subcompact |\n",
       "| volkswagen | passat            | 1.8 | 1999 | 4 | manual(m5) | f | 21 | 29 | p | midsize    |\n",
       "| volkswagen | passat            | 1.8 | 1999 | 4 | auto(l5)   | f | 18 | 29 | p | midsize    |\n",
       "| volkswagen | passat            | 2.0 | 2008 | 4 | auto(s6)   | f | 19 | 28 | p | midsize    |\n",
       "| volkswagen | passat            | 2.0 | 2008 | 4 | manual(m6) | f | 21 | 29 | p | midsize    |\n",
       "| volkswagen | passat            | 2.8 | 1999 | 6 | auto(l5)   | f | 16 | 26 | p | midsize    |\n",
       "| volkswagen | passat            | 2.8 | 1999 | 6 | manual(m5) | f | 18 | 26 | p | midsize    |\n",
       "| volkswagen | passat            | 3.6 | 2008 | 6 | auto(s6)   | f | 17 | 26 | p | midsize    |\n",
       "\n"
      ],
      "text/plain": [
       "    manufacturer model              displ year cyl trans      drv cty hwy fl\n",
       "1   audi         a4                 1.8   1999 4   auto(l5)   f   18  29  p \n",
       "2   audi         a4                 1.8   1999 4   manual(m5) f   21  29  p \n",
       "3   audi         a4                 2.0   2008 4   manual(m6) f   20  31  p \n",
       "4   audi         a4                 2.0   2008 4   auto(av)   f   21  30  p \n",
       "5   audi         a4                 2.8   1999 6   auto(l5)   f   16  26  p \n",
       "6   audi         a4                 2.8   1999 6   manual(m5) f   18  26  p \n",
       "7   audi         a4                 3.1   2008 6   auto(av)   f   18  27  p \n",
       "8   audi         a4 quattro         1.8   1999 4   manual(m5) 4   18  26  p \n",
       "9   audi         a4 quattro         1.8   1999 4   auto(l5)   4   16  25  p \n",
       "10  audi         a4 quattro         2.0   2008 4   manual(m6) 4   20  28  p \n",
       "11  audi         a4 quattro         2.0   2008 4   auto(s6)   4   19  27  p \n",
       "12  audi         a4 quattro         2.8   1999 6   auto(l5)   4   15  25  p \n",
       "13  audi         a4 quattro         2.8   1999 6   manual(m5) 4   17  25  p \n",
       "14  audi         a4 quattro         3.1   2008 6   auto(s6)   4   17  25  p \n",
       "15  audi         a4 quattro         3.1   2008 6   manual(m6) 4   15  25  p \n",
       "16  audi         a6 quattro         2.8   1999 6   auto(l5)   4   15  24  p \n",
       "17  audi         a6 quattro         3.1   2008 6   auto(s6)   4   17  25  p \n",
       "18  audi         a6 quattro         4.2   2008 8   auto(s6)   4   16  23  p \n",
       "19  chevrolet    c1500 suburban 2wd 5.3   2008 8   auto(l4)   r   14  20  r \n",
       "20  chevrolet    c1500 suburban 2wd 5.3   2008 8   auto(l4)   r   11  15  e \n",
       "21  chevrolet    c1500 suburban 2wd 5.3   2008 8   auto(l4)   r   14  20  r \n",
       "22  chevrolet    c1500 suburban 2wd 5.7   1999 8   auto(l4)   r   13  17  r \n",
       "23  chevrolet    c1500 suburban 2wd 6.0   2008 8   auto(l4)   r   12  17  r \n",
       "24  chevrolet    corvette           5.7   1999 8   manual(m6) r   16  26  p \n",
       "25  chevrolet    corvette           5.7   1999 8   auto(l4)   r   15  23  p \n",
       "26  chevrolet    corvette           6.2   2008 8   manual(m6) r   16  26  p \n",
       "27  chevrolet    corvette           6.2   2008 8   auto(s6)   r   15  25  p \n",
       "28  chevrolet    corvette           7.0   2008 8   manual(m6) r   15  24  p \n",
       "29  chevrolet    k1500 tahoe 4wd    5.3   2008 8   auto(l4)   4   14  19  r \n",
       "30  chevrolet    k1500 tahoe 4wd    5.3   2008 8   auto(l4)   4   11  14  e \n",
       "⋮   ⋮            ⋮                  ⋮     ⋮    ⋮   ⋮          ⋮   ⋮   ⋮   ⋮ \n",
       "205 toyota       toyota tacoma 4wd  3.4   1999 6   auto(l4)   4   15  19  r \n",
       "206 toyota       toyota tacoma 4wd  4.0   2008 6   manual(m6) 4   15  18  r \n",
       "207 toyota       toyota tacoma 4wd  4.0   2008 6   auto(l5)   4   16  20  r \n",
       "208 volkswagen   gti                2.0   1999 4   manual(m5) f   21  29  r \n",
       "209 volkswagen   gti                2.0   1999 4   auto(l4)   f   19  26  r \n",
       "210 volkswagen   gti                2.0   2008 4   manual(m6) f   21  29  p \n",
       "211 volkswagen   gti                2.0   2008 4   auto(s6)   f   22  29  p \n",
       "212 volkswagen   gti                2.8   1999 6   manual(m5) f   17  24  r \n",
       "213 volkswagen   jetta              1.9   1999 4   manual(m5) f   33  44  d \n",
       "214 volkswagen   jetta              2.0   1999 4   manual(m5) f   21  29  r \n",
       "215 volkswagen   jetta              2.0   1999 4   auto(l4)   f   19  26  r \n",
       "216 volkswagen   jetta              2.0   2008 4   auto(s6)   f   22  29  p \n",
       "217 volkswagen   jetta              2.0   2008 4   manual(m6) f   21  29  p \n",
       "218 volkswagen   jetta              2.5   2008 5   auto(s6)   f   21  29  r \n",
       "219 volkswagen   jetta              2.5   2008 5   manual(m5) f   21  29  r \n",
       "220 volkswagen   jetta              2.8   1999 6   auto(l4)   f   16  23  r \n",
       "221 volkswagen   jetta              2.8   1999 6   manual(m5) f   17  24  r \n",
       "222 volkswagen   new beetle         1.9   1999 4   manual(m5) f   35  44  d \n",
       "223 volkswagen   new beetle         1.9   1999 4   auto(l4)   f   29  41  d \n",
       "224 volkswagen   new beetle         2.0   1999 4   manual(m5) f   21  29  r \n",
       "225 volkswagen   new beetle         2.0   1999 4   auto(l4)   f   19  26  r \n",
       "226 volkswagen   new beetle         2.5   2008 5   manual(m5) f   20  28  r \n",
       "227 volkswagen   new beetle         2.5   2008 5   auto(s6)   f   20  29  r \n",
       "228 volkswagen   passat             1.8   1999 4   manual(m5) f   21  29  p \n",
       "229 volkswagen   passat             1.8   1999 4   auto(l5)   f   18  29  p \n",
       "230 volkswagen   passat             2.0   2008 4   auto(s6)   f   19  28  p \n",
       "231 volkswagen   passat             2.0   2008 4   manual(m6) f   21  29  p \n",
       "232 volkswagen   passat             2.8   1999 6   auto(l5)   f   16  26  p \n",
       "233 volkswagen   passat             2.8   1999 6   manual(m5) f   18  26  p \n",
       "234 volkswagen   passat             3.6   2008 6   auto(s6)   f   17  26  p \n",
       "    class     \n",
       "1   compact   \n",
       "2   compact   \n",
       "3   compact   \n",
       "4   compact   \n",
       "5   compact   \n",
       "6   compact   \n",
       "7   compact   \n",
       "8   compact   \n",
       "9   compact   \n",
       "10  compact   \n",
       "11  compact   \n",
       "12  compact   \n",
       "13  compact   \n",
       "14  compact   \n",
       "15  compact   \n",
       "16  midsize   \n",
       "17  midsize   \n",
       "18  midsize   \n",
       "19  suv       \n",
       "20  suv       \n",
       "21  suv       \n",
       "22  suv       \n",
       "23  suv       \n",
       "24  2seater   \n",
       "25  2seater   \n",
       "26  2seater   \n",
       "27  2seater   \n",
       "28  2seater   \n",
       "29  suv       \n",
       "30  suv       \n",
       "⋮   ⋮         \n",
       "205 pickup    \n",
       "206 pickup    \n",
       "207 pickup    \n",
       "208 compact   \n",
       "209 compact   \n",
       "210 compact   \n",
       "211 compact   \n",
       "212 compact   \n",
       "213 compact   \n",
       "214 compact   \n",
       "215 compact   \n",
       "216 compact   \n",
       "217 compact   \n",
       "218 compact   \n",
       "219 compact   \n",
       "220 compact   \n",
       "221 compact   \n",
       "222 subcompact\n",
       "223 subcompact\n",
       "224 subcompact\n",
       "225 subcompact\n",
       "226 subcompact\n",
       "227 subcompact\n",
       "228 midsize   \n",
       "229 midsize   \n",
       "230 midsize   \n",
       "231 midsize   \n",
       "232 midsize   \n",
       "233 midsize   \n",
       "234 midsize   "
      ]
     },
     "metadata": {},
     "output_type": "display_data"
    }
   ],
   "source": [
    "typeof(mpg)\n",
    "mpg"
   ]
  },
  {
   "cell_type": "code",
   "execution_count": null,
   "id": "distinguished-stand",
   "metadata": {},
   "outputs": [],
   "source": [
    "# list(manufactor = c(\"audi\", \"audi\", ....), model = c(\"a4\", \"a4\", ...), ...)"
   ]
  },
  {
   "cell_type": "markdown",
   "id": "hearing-occurrence",
   "metadata": {},
   "source": [
    "The following are equivalent:\n",
    "\n",
    "```mpg$year```\n",
    "\n",
    "```mpg[['year']]```\n",
    "\n",
    "They each return the column vector named 'year'. It is an *integer* vector. We can see this from the table display or if we pass the vector through ```is_integer()```."
   ]
  },
  {
   "cell_type": "code",
   "execution_count": null,
   "id": "quarterly-iceland",
   "metadata": {
    "scrolled": true
   },
   "outputs": [],
   "source": [
    "mpg %>%\n",
    "  transmute(total_mpg = cty + hwy)"
   ]
  },
  {
   "cell_type": "code",
   "execution_count": null,
   "id": "improved-onion",
   "metadata": {},
   "outputs": [],
   "source": [
    "mpg %>%\n",
    "  group_by(drv) %>%\n",
    "  summarize(mean_hwy = mean(hwy))"
   ]
  },
  {
   "cell_type": "markdown",
   "id": "growing-living",
   "metadata": {},
   "source": [
    "- The column operations we use for creating new variables are inherited from vector operations and vector functions\n",
    "- For example, adding two columns is equivalent to adding two vectors (because columns are vectors!)"
   ]
  },
  {
   "cell_type": "code",
   "execution_count": 61,
   "id": "conditional-metallic",
   "metadata": {},
   "outputs": [
    {
     "data": {
      "text/html": [
       "<table class=\"dataframe\">\n",
       "<caption>A tibble: 3 × 4</caption>\n",
       "<thead>\n",
       "\t<tr><th scope=col>names</th><th scope=col>ages</th><th scope=col>name_lengths</th><th scope=col>age_times_nl</th></tr>\n",
       "\t<tr><th scope=col>&lt;chr&gt;</th><th scope=col>&lt;dbl&gt;</th><th scope=col>&lt;int&gt;</th><th scope=col>&lt;dbl&gt;</th></tr>\n",
       "</thead>\n",
       "<tbody>\n",
       "\t<tr><td>me    </td><td>29</td><td>2</td><td> 58</td></tr>\n",
       "\t<tr><td>myself</td><td>29</td><td>5</td><td>145</td></tr>\n",
       "\t<tr><td>I     </td><td>29</td><td>1</td><td> 29</td></tr>\n",
       "</tbody>\n",
       "</table>\n"
      ],
      "text/latex": [
       "A tibble: 3 × 4\n",
       "\\begin{tabular}{llll}\n",
       " names & ages & name\\_lengths & age\\_times\\_nl\\\\\n",
       " <chr> & <dbl> & <int> & <dbl>\\\\\n",
       "\\hline\n",
       "\t me     & 29 & 2 &  58\\\\\n",
       "\t myself & 29 & 5 & 145\\\\\n",
       "\t I      & 29 & 1 &  29\\\\\n",
       "\\end{tabular}\n"
      ],
      "text/markdown": [
       "\n",
       "A tibble: 3 × 4\n",
       "\n",
       "| names &lt;chr&gt; | ages &lt;dbl&gt; | name_lengths &lt;int&gt; | age_times_nl &lt;dbl&gt; |\n",
       "|---|---|---|---|\n",
       "| me     | 29 | 2 |  58 |\n",
       "| myself | 29 | 5 | 145 |\n",
       "| I      | 29 | 1 |  29 |\n",
       "\n"
      ],
      "text/plain": [
       "  names  ages name_lengths age_times_nl\n",
       "1 me     29   2             58         \n",
       "2 myself 29   5            145         \n",
       "3 I      29   1             29         "
      ]
     },
     "metadata": {},
     "output_type": "display_data"
    }
   ],
   "source": [
    "# tibbles are easy to create from vectors\n",
    "# Recall: vectors of shorter lengths are recycled\n",
    "tibble(names = c(\"me\", \"myself\", \"I\"),\n",
    "       ages = 29,\n",
    "       name_lengths = c(2L, 5L, 1L),\n",
    "       age_times_nl = ages * name_lengths)"
   ]
  },
  {
   "cell_type": "code",
   "execution_count": 62,
   "id": "steady-relations",
   "metadata": {},
   "outputs": [
    {
     "data": {
      "text/html": [
       "<table class=\"dataframe\">\n",
       "<caption>A tibble: 2 × 3</caption>\n",
       "<thead>\n",
       "\t<tr><th scope=col>x</th><th scope=col>y</th><th scope=col>z</th></tr>\n",
       "\t<tr><th scope=col>&lt;chr&gt;</th><th scope=col>&lt;dbl&gt;</th><th scope=col>&lt;dbl&gt;</th></tr>\n",
       "</thead>\n",
       "<tbody>\n",
       "\t<tr><td>a</td><td>2</td><td>3.6</td></tr>\n",
       "\t<tr><td>b</td><td>1</td><td>8.5</td></tr>\n",
       "</tbody>\n",
       "</table>\n"
      ],
      "text/latex": [
       "A tibble: 2 × 3\n",
       "\\begin{tabular}{lll}\n",
       " x & y & z\\\\\n",
       " <chr> & <dbl> & <dbl>\\\\\n",
       "\\hline\n",
       "\t a & 2 & 3.6\\\\\n",
       "\t b & 1 & 8.5\\\\\n",
       "\\end{tabular}\n"
      ],
      "text/markdown": [
       "\n",
       "A tibble: 2 × 3\n",
       "\n",
       "| x &lt;chr&gt; | y &lt;dbl&gt; | z &lt;dbl&gt; |\n",
       "|---|---|---|\n",
       "| a | 2 | 3.6 |\n",
       "| b | 1 | 8.5 |\n",
       "\n"
      ],
      "text/plain": [
       "  x y z  \n",
       "1 a 2 3.6\n",
       "2 b 1 8.5"
      ]
     },
     "metadata": {},
     "output_type": "display_data"
    }
   ],
   "source": [
    "# a tribble is a different way of creating a tibble\n",
    "# designed for data entry\n",
    "tribble(\n",
    "  ~x, ~y, ~z,\n",
    "  #--|--|----\n",
    "  \"a\", 2, 3.6,\n",
    "  \"b\", 1, 8.5\n",
    ")"
   ]
  }
 ],
 "metadata": {
  "kernelspec": {
   "display_name": "R",
   "language": "R",
   "name": "ir"
  },
  "language_info": {
   "codemirror_mode": "r",
   "file_extension": ".r",
   "mimetype": "text/x-r-source",
   "name": "R",
   "pygments_lexer": "r",
   "version": "4.0.3"
  }
 },
 "nbformat": 4,
 "nbformat_minor": 5
}
